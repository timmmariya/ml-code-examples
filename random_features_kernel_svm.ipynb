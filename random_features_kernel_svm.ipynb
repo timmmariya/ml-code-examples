{
  "cells": [
    {
      "cell_type": "markdown",
      "metadata": {
        "id": "RYp0bXOFK-hP"
      },
      "source": [
        "# Машинное обучение, ФКН ВШЭ\n",
        "\n",
        "## Практическое задание 8. Метод опорных векторов и аппроксимация ядер\n",
        "\n",
        "### Общая информация\n",
        "\n",
        "Дата выдачи: 28.01.2022\n"
      ]
    },
    {
      "cell_type": "markdown",
      "metadata": {
        "id": "vY8vT0W_K-hR"
      },
      "source": [
        "### О задании\n",
        "\n",
        "На занятиях мы подробно обсуждали метод опорных векторов (SVM). В базовой версии в нём нет чего-то особенного — мы всего лишь используем специальную функцию потерь, которая не требует устремлять отступы к бесконечности; ей достаточно, чтобы отступы были не меньше +1. Затем мы узнали, что SVM можно переписать в двойственном виде, который, позволяет заменить скалярные произведения объектов на ядра. Это будет соответствовать построению модели в новом пространстве более высокой размерности, координаты которого представляют собой нелинейные модификации исходных признаков.\n",
        "\n",
        "Ядровой SVM, к сожалению, довольно затратен по памяти (нужно хранить матрицу Грама размера $d \\times d$) и по времени (нужно решать задачу условной оптимизации с квадратичной функцией, а это не очень быстро). Мы обсуждали, что есть способы посчитать новые признаки $\\tilde \\varphi(x)$ на основе исходных так, что скалярные произведения этих новых $\\langle \\tilde \\varphi(x), \\tilde \\varphi(z) \\rangle$ приближают ядро $K(x, z)$.\n",
        "\n",
        "Мы будем исследовать аппроксимации методом Random Fourier Features (RFF, также в литературе встречается название Random Kitchen Sinks) для гауссовых ядер. Будем использовать формулы, которые немного отличаются от того, что было на лекциях (мы добавим сдвиги внутрь тригонометрических функций и будем использовать только косинусы, потому что с нужным сдвигом косинус превратится в синус):\n",
        "$$\\tilde \\varphi(x) = (\n",
        "\\cos (w_1^T x + b_1),\n",
        "\\dots,\n",
        "\\cos (w_n^T x + b_n)\n",
        "),$$\n",
        "где $w_j \\sim \\mathcal{N}(0, (1/\\sigma^2)I)$, $b_j \\sim U[-\\pi, \\pi]$.\n",
        "\n",
        "На новых признаках $\\tilde \\varphi(x)$ мы будем строить любую линейную модель.\n",
        "\n",
        "Можно считать, что это некоторая новая парадигма построения сложных моделей. Можно направленно искать сложные нелинейные закономерности в данных с помощью градиентного бустинга или нейронных сетей, а **можно просто нагенерировать большое количество случайных нелинейных признаков и надеяться, что быстрая и простая модель (то есть линейная) сможет показать на них хорошее качество.** В этом задании мы изучим, насколько работоспособна такая идея.\n",
        "\n",
        "### Алгоритм\n",
        "\n",
        "Вам потребуется реализовать следующий алгоритм:\n",
        "1. Понизить размерность выборки до new_dim с помощью метода главных компонент.\n",
        "2. Для полученной выборки оценить гиперпараметр $\\sigma^2$ с помощью эвристики (рекомендуем считать медиану не по всем парам объектов, а по случайному подмножеству из где-то миллиона пар объектов): $$\\sigma^2 = \\text{median}_{i, j = 1, \\dots, \\ell, i \\neq j} \\left\\{\\sum_{k = 1}^{d} (x_{ik} - x_{jk})^2 \\right\\}$$\n",
        "3. Сгенерировать n_features наборов весов $w_j$ и сдвигов $b_j$.\n",
        "4. Сформировать n_features новых признаков по формулам, приведённым выше.\n",
        "5. Обучить линейную модель (логистическую регрессию или SVM) на новых признаках.\n",
        "6. Повторить преобразования (PCA, формирование новых признаков) к тестовой выборке и применить модель."
      ]
    },
    {
      "cell_type": "markdown",
      "metadata": {
        "id": "N_sGunb7K-hS"
      },
      "source": [
        "Тестировать алгоритм мы будем на данных Fashion MNIST. Ниже код для их загрузки и подготовки."
      ]
    },
    {
      "cell_type": "code",
      "source": [
        "import matplotlib.pyplot as plt\n",
        "import numpy as np\n",
        "import seaborn as sns\n",
        "import pandas as pd\n",
        "\n",
        "from random import seed, choice\n",
        "from random import choices\n",
        "seed(274)\n",
        "\n",
        "sns.set(style='darkgrid')"
      ],
      "metadata": {
        "id": "5Pz8kYEi072P"
      },
      "execution_count": null,
      "outputs": []
    },
    {
      "cell_type": "markdown",
      "metadata": {
        "id": "rJNN55F7K-hT"
      },
      "source": [
        "### __Задание 1. (5 баллов)__\n",
        "\n",
        "Реализуйте алгоритм, описанный выше. Можете воспользоваться шаблоном класса ниже или написать свой интерфейс.\n",
        "\n",
        "Ваша реализация должна поддерживать следующие опции:\n",
        "1. Возможность задавать значения гиперпараметров new_dim (по умолчанию 50) и n_features (по умолчанию 1000).\n",
        "2. Возможность включать или выключать предварительное понижение размерности с помощью метода главных компонент.\n",
        "3. Возможность выбирать тип линейной модели (логистическая регрессия или SVM с линейным ядром).\n",
        "\n",
        "Протестируйте на данных Fashion MNIST, сформированных кодом выше. Если на тесте у вас получилась доля верных ответов не ниже 0.84 с гиперпараметрами по умолчанию, то вы всё сделали правильно."
      ]
    },
    {
      "cell_type": "code",
      "source": [
        "!pip install catboost"
      ],
      "metadata": {
        "id": "a1IgmMqr7r07"
      },
      "execution_count": null,
      "outputs": []
    },
    {
      "cell_type": "code",
      "source": [
        "!pip install optuna"
      ],
      "metadata": {
        "id": "hDmV8Oxh8JQB"
      },
      "execution_count": null,
      "outputs": []
    },
    {
      "cell_type": "code",
      "source": [
        "from sklearn.base import BaseEstimator, TransformerMixin\n",
        "from sklearn.decomposition import PCA\n",
        "\n",
        "from sklearn.linear_model import LogisticRegression\n",
        "from sklearn.preprocessing import StandardScaler\n",
        "from sklearn.pipeline import make_pipeline\n",
        "from sklearn.svm import SVC\n",
        "\n",
        "from sklearn.metrics import accuracy_score\n",
        "from sklearn.model_selection import train_test_split\n",
        "from math import pi, cos"
      ],
      "metadata": {
        "id": "QKakFyMnz9rK"
      },
      "execution_count": null,
      "outputs": []
    },
    {
      "cell_type": "code",
      "source": [
        "from catboost import CatBoostClassifier\n",
        "import optuna\n",
        "\n",
        "optuna.logging.disable_propagation()\n",
        "optuna.logging.disable_default_handler()"
      ],
      "metadata": {
        "id": "UTrnFnvk7qh0"
      },
      "execution_count": null,
      "outputs": []
    },
    {
      "cell_type": "code",
      "execution_count": null,
      "metadata": {
        "id": "jP8yepx8K-hT"
      },
      "outputs": [],
      "source": [
        "from scipy.sparse.linalg.dsolve.linsolve import use_solver\n",
        "\n",
        "class RFFPipeline(BaseEstimator, TransformerMixin):\n",
        "    def __init__(self, n_features=1000, new_dim=50, use_PCA=True, classifier='logreg', iters=100):\n",
        "        \"\"\"        \n",
        "        Implements pipeline, which consists of PCA decomposition,\n",
        "        Random Fourier Features approximation and linear classification model.\n",
        "        \n",
        "        n_features, int: amount of synthetic random features generated with RFF approximation.\n",
        "\n",
        "        new_dim, int: PCA output size.\n",
        "        \n",
        "        use_PCA, bool: whether to include PCA preprocessing.\n",
        "        \n",
        "        classifier, string: either 'svm' or 'logreg', a linear classification model to use on top of pipeline.\n",
        "        \n",
        "        Feel free to edit this template for your preferences.    \n",
        "        \"\"\"\n",
        "        self.n_features = n_features\n",
        "        self.use_PCA = use_PCA\n",
        "        self.new_dim = new_dim\n",
        "        self.PCA = PCA(n_components=self.new_dim)\n",
        "        if classifier == 'logreg':\n",
        "            self.classifier = LogisticRegression(max_iter=iters)\n",
        "            # , C=40,\n",
        "            # solver='sag', \n",
        "            # multi_class='auto',\n",
        "            # verbose=1\n",
        "        elif classifier == 'svm':\n",
        "            self.classifier = SVC(kernel='linear', tol=1e-2)\n",
        "        else:\n",
        "            raise 'UnknownClassiferError'\n",
        "        # weights\n",
        "        self.ws = None\n",
        "        self.bs = None\n",
        "        \n",
        "    def fit(self, X, y):\n",
        "        \"\"\"\n",
        "        Fit all parts of algorithm (PCA, RFF, Classification) to training set.\n",
        "        \"\"\"\n",
        "        # Principal Component Analysis (PCA)\n",
        "        if not self.use_PCA:\n",
        "            self.new_dim = X.shape[1]\n",
        "            X_reduced = X.copy() / 255.\n",
        "        else:\n",
        "            X_reduced = self.PCA.fit_transform(X / 255.)\n",
        "        # Random Fourier Features (RFF)\n",
        "        sigma2 = np.median([np.linalg.norm(choice(X_reduced) - choice(X_reduced))**2 for i in range(1000000)])\n",
        "        self.ws = np.random.multivariate_normal(np.zeros(self.new_dim), (1 / sigma2) * np.eye(self.new_dim), size=self.n_features)\n",
        "        self.bs = np.random.uniform(-pi, pi, size=self.n_features)\n",
        "        w_matrix = X_reduced @ np.transpose(self.ws)\n",
        "        b_matrix = self.bs * np.ones(X_reduced.shape[0]).reshape(-1, 1)\n",
        "        X_modified = np.cos(w_matrix + b_matrix)\n",
        "        # Classification\n",
        "        print('Fitting started!')\n",
        "        self.classifier.fit(X_modified, y)\n",
        "        return self\n",
        "\n",
        "    def predict_proba(self, X):\n",
        "        \"\"\"\n",
        "        Apply pipeline to obtain scores for input data.\n",
        "        \"\"\"\n",
        "        X_reduced = self.PCA.transform(X / 255.) if self.use_PCA else (X.copy() / 255.)\n",
        "        X_modified = np.cos(X_reduced @ np.transpose(self.ws) + self.bs * np.ones(X_reduced.shape[0]).reshape(-1, 1))\n",
        "        return self.classifier.predict_proba(X_modified)\n",
        "        \n",
        "    def predict(self, X):\n",
        "        \"\"\"\n",
        "        Apply pipeline to obtain discrete predictions for input data.\n",
        "        \"\"\"\n",
        "        X_reduced = self.PCA.transform(X / 255.) if self.use_PCA else (X.copy() / 255.)\n",
        "        X_modified = np.cos(X_reduced @ np.transpose(self.ws) + self.bs * np.ones(X_reduced.shape[0]).reshape(-1, 1))\n",
        "        print('Prediction started!')\n",
        "        return self.classifier.predict(X_modified)"
      ]
    },
    {
      "cell_type": "code",
      "execution_count": null,
      "metadata": {
        "id": "YyG6dBfjK-hS"
      },
      "outputs": [],
      "source": [
        "import keras\n",
        "from keras.datasets import fashion_mnist\n",
        "\n",
        "(x_train_pics, y_train), (x_test_pics, y_test) = fashion_mnist.load_data()\n",
        "x_train = x_train_pics.reshape(x_train_pics.shape[0], -1)\n",
        "x_test = x_test_pics.reshape(x_test_pics.shape[0], -1)"
      ]
    },
    {
      "cell_type": "code",
      "source": [
        "import multiprocessing\n",
        "\n",
        "cores = multiprocessing.cpu_count()\n",
        "cores"
      ],
      "metadata": {
        "colab": {
          "base_uri": "https://localhost:8080/"
        },
        "id": "TiIMfx9sfFTA",
        "outputId": "18074ae0-2ad9-4f46-ab28-2f9d9dcef555"
      },
      "execution_count": null,
      "outputs": [
        {
          "output_type": "execute_result",
          "data": {
            "text/plain": [
              "2"
            ]
          },
          "metadata": {},
          "execution_count": 5
        }
      ]
    },
    {
      "cell_type": "markdown",
      "source": [
        "#### Запуски с разными параметрами"
      ],
      "metadata": {
        "id": "LCar_BdgclC5"
      }
    },
    {
      "cell_type": "markdown",
      "source": [
        "Нужного качества без PCA уже научились достигать! Теперь включим применение метода главных компонент:"
      ],
      "metadata": {
        "id": "5hLDYawdgQ0b"
      }
    },
    {
      "cell_type": "code",
      "source": [
        "%%time\n",
        "logreg_rff_model = RFFPipeline(classifier='logreg', new_dim=50, n_features=1000)\n",
        "logreg_rff_model.fit(x_train, y_train)\n",
        "y_pred = logreg_rff_model.predict(x_test)\n",
        "print('Accuracy_score on test data Fashion MNIST (LogReg default):  ', accuracy_score(y_pred, y_test))"
      ],
      "metadata": {
        "colab": {
          "base_uri": "https://localhost:8080/"
        },
        "id": "i1wkyV8jyfX0",
        "outputId": "bfb4348a-4300-4290-ff98-86bf457120b9"
      },
      "execution_count": null,
      "outputs": [
        {
          "output_type": "stream",
          "name": "stdout",
          "text": [
            "Fitting started!\n"
          ]
        },
        {
          "output_type": "stream",
          "name": "stderr",
          "text": [
            "/usr/local/lib/python3.7/dist-packages/sklearn/linear_model/_logistic.py:818: ConvergenceWarning: lbfgs failed to converge (status=1):\n",
            "STOP: TOTAL NO. of ITERATIONS REACHED LIMIT.\n",
            "\n",
            "Increase the number of iterations (max_iter) or scale the data as shown in:\n",
            "    https://scikit-learn.org/stable/modules/preprocessing.html\n",
            "Please also refer to the documentation for alternative solver options:\n",
            "    https://scikit-learn.org/stable/modules/linear_model.html#logistic-regression\n",
            "  extra_warning_msg=_LOGISTIC_SOLVER_CONVERGENCE_MSG,\n"
          ]
        },
        {
          "output_type": "stream",
          "name": "stdout",
          "text": [
            "Prediction started!\n",
            "Accuracy_score on test data Fashion MNIST (LogReg default):   0.8542\n",
            "CPU times: user 55 s, sys: 17.4 s, total: 1min 12s\n",
            "Wall time: 45 s\n"
          ]
        }
      ]
    },
    {
      "cell_type": "markdown",
      "source": [
        "Интересно, через сколько эпох метод будет сходиться? (поставим max_iter=10000)\n",
        "\n",
        "При разном кол-ве выходных параметров:"
      ],
      "metadata": {
        "id": "YOsB4TLHziwt"
      }
    },
    {
      "cell_type": "code",
      "source": [
        "logreg_rff_model = RFFPipeline(classifier='logreg', use_PCA=False, n_features=100)\n",
        "logreg_rff_model.fit(x_train, y_train)\n",
        "y_pred = logreg_rff_model.predict(x_test)\n",
        "print('Accuracy_score on test data Fashion MNIST:  ', accuracy_score(y_pred, y_test))"
      ],
      "metadata": {
        "colab": {
          "base_uri": "https://localhost:8080/"
        },
        "id": "Yj9Vo6dkTooN",
        "outputId": "32c482f4-17f8-4a1a-dd79-77d4c268c32a"
      },
      "execution_count": null,
      "outputs": [
        {
          "output_type": "stream",
          "name": "stdout",
          "text": [
            "[Parallel(n_jobs=1)]: Using backend SequentialBackend with 1 concurrent workers.\n",
            "convergence after 180 epochs took 58 seconds\n",
            "[Parallel(n_jobs=1)]: Done   1 out of   1 | elapsed:   58.0s remaining:    0.0s\n",
            "[Parallel(n_jobs=1)]: Done   1 out of   1 | elapsed:   58.0s finished\n",
            "Accuracy_score on test data Fahion MNIST:   0.8116\n"
          ]
        }
      ]
    },
    {
      "cell_type": "code",
      "source": [
        "logreg_rff_model = RFFPipeline(classifier='logreg', use_PCA=False, n_features=300)\n",
        "logreg_rff_model.fit(x_train, y_train)\n",
        "y_pred = logreg_rff_model.predict(x_test)\n",
        "print('Accuracy_score on test data Fashion MNIST:  ', accuracy_score(y_pred, y_test))"
      ],
      "metadata": {
        "colab": {
          "base_uri": "https://localhost:8080/"
        },
        "id": "hwvjZru-XeZH",
        "outputId": "6ba09511-9dc5-4cba-e71a-9327addd9305"
      },
      "execution_count": null,
      "outputs": [
        {
          "output_type": "stream",
          "name": "stderr",
          "text": [
            "[Parallel(n_jobs=1)]: Using backend SequentialBackend with 1 concurrent workers.\n",
            "[Parallel(n_jobs=1)]: Done   1 out of   1 | elapsed:  9.8min finished\n"
          ]
        },
        {
          "output_type": "stream",
          "name": "stdout",
          "text": [
            "Accuracy_score on test data Fahion MNIST:   0.8458\n"
          ]
        }
      ]
    },
    {
      "cell_type": "code",
      "source": [
        "logreg_rff_model = RFFPipeline(classifier='logreg', new_dim=50, n_features=500)\n",
        "logreg_rff_model.fit(x_train, y_train)\n",
        "y_pred = logreg_rff_model.predict(x_test)\n",
        "print('Accuracy_score on test data Fashion MNIST (LogReg default):  ', accuracy_score(y_pred, y_test))"
      ],
      "metadata": {
        "colab": {
          "base_uri": "https://localhost:8080/"
        },
        "id": "IdE5O__HwZ-R",
        "outputId": "c564216a-9cab-4743-8ac3-f4cb6ee90219"
      },
      "execution_count": null,
      "outputs": [
        {
          "output_type": "stream",
          "name": "stdout",
          "text": [
            "Fitting started!\n"
          ]
        },
        {
          "output_type": "stream",
          "name": "stderr",
          "text": [
            "[Parallel(n_jobs=1)]: Using backend SequentialBackend with 1 concurrent workers.\n"
          ]
        },
        {
          "output_type": "stream",
          "name": "stdout",
          "text": [
            "convergence after 1992 epochs took 2800 seconds\n"
          ]
        },
        {
          "output_type": "stream",
          "name": "stderr",
          "text": [
            "[Parallel(n_jobs=1)]: Done   1 out of   1 | elapsed: 46.7min finished\n"
          ]
        },
        {
          "output_type": "stream",
          "name": "stdout",
          "text": [
            "Prediction started!\n",
            "Accuracy_score on test data Fashion MNIST (LogReg default):   0.8737\n"
          ]
        }
      ]
    },
    {
      "cell_type": "code",
      "source": [
        "logreg_rff_model = RFFPipeline(classifier='logreg', new_dim=50, n_features=1000)\n",
        "logreg_rff_model.fit(x_train, y_train)\n",
        "y_pred = logreg_rff_model.predict(x_test)\n",
        "print('Accuracy_score on test data Fashion MNIST (LogReg default):  ', accuracy_score(y_pred, y_test))"
      ],
      "metadata": {
        "colab": {
          "base_uri": "https://localhost:8080/"
        },
        "id": "x9GWL2BWGtdM",
        "outputId": "57cf412c-f8d1-4fdb-9483-72249684240e"
      },
      "execution_count": null,
      "outputs": [
        {
          "output_type": "stream",
          "name": "stdout",
          "text": [
            "Fitting started!\n"
          ]
        },
        {
          "output_type": "stream",
          "name": "stderr",
          "text": [
            "[Parallel(n_jobs=-1)]: Using backend ThreadingBackend with 2 concurrent workers.\n"
          ]
        },
        {
          "output_type": "stream",
          "name": "stdout",
          "text": [
            "convergence after 3028 epochs took 8252 seconds\n"
          ]
        },
        {
          "output_type": "stream",
          "name": "stderr",
          "text": [
            "[Parallel(n_jobs=-1)]: Done   1 out of   1 | elapsed: 137.5min finished\n"
          ]
        },
        {
          "output_type": "stream",
          "name": "stdout",
          "text": [
            "Prediction started!\n",
            "Accuracy_score on test data Fashion MNIST (LogReg default):   0.8746\n"
          ]
        }
      ]
    },
    {
      "cell_type": "markdown",
      "source": [
        "Качество класс! Только работает долго.. SVM-вариант:"
      ],
      "metadata": {
        "id": "ko6iglRAZuty"
      }
    },
    {
      "cell_type": "code",
      "source": [
        "%%time\n",
        "svm_rff_model = RFFPipeline(classifier='svm', new_dim=50, n_features=1000)\n",
        "svm_rff_model.fit(x_train, y_train)\n",
        "y_pred = svm_rff_model.predict(x_test)\n",
        "print('Accuracy_score on test data Fashion MNIST (SVM 1000feat):  ', accuracy_score(y_pred, y_test))"
      ],
      "metadata": {
        "colab": {
          "base_uri": "https://localhost:8080/"
        },
        "id": "RM46qStQ2vbw",
        "outputId": "a518af96-be35-4cf6-938a-580c031053ed"
      },
      "execution_count": null,
      "outputs": [
        {
          "output_type": "stream",
          "name": "stdout",
          "text": [
            "Fitting started!\n",
            "Prediction started!\n",
            "Accuracy_score on test data Fashion MNIST (SVM 1000feat):   0.863\n",
            "CPU times: user 1min 30s, sys: 4.28 s, total: 1min 35s\n",
            "Wall time: 1min 30s\n"
          ]
        }
      ]
    },
    {
      "cell_type": "markdown",
      "source": [
        "На SVM требуемое качество тоже получено.\n",
        "\n",
        "Но учатся модели в colab на одном ядре и с ограниченным объемом cpu до сходимости вечность, сократим обучающую выборку в три раза до 20000 картинок (как рекомендовано ниже)."
      ],
      "metadata": {
        "id": "M8PV6OXZMvUG"
      }
    },
    {
      "cell_type": "code",
      "source": [
        "nums = choices(range(60000), k=20000)\n",
        "x_train = x_train[nums]\n",
        "y_train = y_train[nums]"
      ],
      "metadata": {
        "id": "D1_q3vocNaMv"
      },
      "execution_count": null,
      "outputs": []
    },
    {
      "cell_type": "markdown",
      "metadata": {
        "id": "HYqQUEi-K-hU"
      },
      "source": [
        "### __Задание 2. (3 балла)__\n",
        "\n",
        "Сравните подход со случайными признаками с обучением SVM на исходных признаках. Попробуйте вариант с обычным (линейным) SVM и с ядровым SVM. Ядровой SVM может очень долго обучаться, поэтому можно делать любые разумные вещи для ускорения: брать подмножество объектов из обучающей выборки, например."
      ]
    },
    {
      "cell_type": "markdown",
      "source": [
        "#### 1) линейный SVM на исходных признаках"
      ],
      "metadata": {
        "id": "I4O4imaM1utX"
      }
    },
    {
      "cell_type": "code",
      "execution_count": null,
      "metadata": {
        "id": "qN8LUlJgK-hV",
        "colab": {
          "base_uri": "https://localhost:8080/"
        },
        "outputId": "2b7892b8-095d-4673-e7b2-90d98cee25cb"
      },
      "outputs": [
        {
          "output_type": "stream",
          "name": "stdout",
          "text": [
            "[LibSVM]Accuracy_score on test (Linear SVM with default features):   0.8024\n",
            "CPU times: user 1min 42s, sys: 411 ms, total: 1min 42s\n",
            "Wall time: 1min 42s\n"
          ]
        }
      ],
      "source": [
        "%%time\n",
        "svm_linear_model = make_pipeline(StandardScaler(), SVC(kernel='linear', verbose=True))\n",
        "svm_linear_model.fit(x_train, y_train)\n",
        "y_pred = svm_linear_model.predict(x_test)\n",
        "print('Accuracy_score on test (Linear SVM with default features):  ', accuracy_score(y_pred, y_test))"
      ]
    },
    {
      "cell_type": "markdown",
      "source": [
        "#### 2) Linear SVM на случайных признаках\n",
        "\n",
        " (еще раз, чтобы на тех же данных)"
      ],
      "metadata": {
        "id": "jCAiP2RMQZp9"
      }
    },
    {
      "cell_type": "code",
      "source": [
        "%%time\n",
        "svm_rff_model = make_pipeline(StandardScaler(), RFFPipeline(classifier='svm', new_dim=50, n_features=1000))\n",
        "svm_rff_model.fit(x_train, y_train)\n",
        "y_pred = svm_rff_model.predict(x_test)\n",
        "print('Accuracy_score on short test (SVM 1000feat):  ', accuracy_score(y_pred, y_test))"
      ],
      "metadata": {
        "colab": {
          "base_uri": "https://localhost:8080/"
        },
        "id": "LXgs55edDCqK",
        "outputId": "9ac57e01-d890-4b0e-f175-0bb461933913"
      },
      "execution_count": null,
      "outputs": [
        {
          "output_type": "stream",
          "name": "stdout",
          "text": [
            "Fitting started!\n",
            "Prediction started!\n",
            "Accuracy_score on short test (SVM 1000feat):   0.8603\n",
            "CPU times: user 1min 21s, sys: 3.27 s, total: 1min 24s\n",
            "Wall time: 1min 20s\n"
          ]
        }
      ]
    },
    {
      "cell_type": "markdown",
      "source": [
        "#### 2) Ядровой SVM"
      ],
      "metadata": {
        "id": "K5cURvvFVH-o"
      }
    },
    {
      "cell_type": "code",
      "source": [
        "%%time\n",
        "svm_model = make_pipeline(StandardScaler(), SVC(kernel='sigmoid', verbose=True))\n",
        "svm_model.fit(x_train, y_train)\n",
        "y_pred = svm_model.predict(x_test)\n",
        "print('Accuracy_score on test (SVM with sigmoid kernel):  ', accuracy_score(y_pred, y_test))"
      ],
      "metadata": {
        "colab": {
          "base_uri": "https://localhost:8080/"
        },
        "id": "zL0DbceGgL9W",
        "outputId": "3561712d-30a3-4703-8473-576d298e89a1"
      },
      "execution_count": null,
      "outputs": [
        {
          "output_type": "stream",
          "name": "stdout",
          "text": [
            "[LibSVM]Accuracy_score on test (SVM with sigmoid kernel):   0.7254\n",
            "CPU times: user 1min 8s, sys: 83.7 ms, total: 1min 8s\n",
            "Wall time: 1min 8s\n"
          ]
        }
      ]
    },
    {
      "cell_type": "code",
      "source": [
        "%%time\n",
        "svm_model = make_pipeline(StandardScaler(), SVC(kernel='poly', verbose=True))\n",
        "svm_model.fit(x_train, y_train)\n",
        "y_pred = svm_model.predict(x_test)\n",
        "print('Accuracy_score on test (SVM with polynom kernel):  ', accuracy_score(y_pred, y_test))"
      ],
      "metadata": {
        "colab": {
          "base_uri": "https://localhost:8080/"
        },
        "id": "p7FClqpPVISX",
        "outputId": "145b2d9c-f46b-4221-bd9d-35b5dd084bda"
      },
      "execution_count": null,
      "outputs": [
        {
          "output_type": "stream",
          "name": "stdout",
          "text": [
            "[LibSVM]Accuracy_score on test (SVM with polynom kernal):   0.8455\n",
            "CPU times: user 1min 48s, sys: 190 ms, total: 1min 48s\n",
            "Wall time: 1min 52s\n"
          ]
        }
      ]
    },
    {
      "cell_type": "code",
      "source": [
        "%%time\n",
        "svm_rbf_model = make_pipeline(StandardScaler(), SVC(kernel='rbf', verbose=True))\n",
        "svm_rbf_model.fit(x_train, y_train)\n",
        "y_pred = svm_rbf_model.predict(x_test)\n",
        "print('Accuracy_score on test (SVM with gaussian kernel):  ', accuracy_score(y_pred, y_test))"
      ],
      "metadata": {
        "colab": {
          "base_uri": "https://localhost:8080/"
        },
        "id": "B600Ntksjxv7",
        "outputId": "c2811023-337a-4619-aa08-5463053c67c6"
      },
      "execution_count": null,
      "outputs": [
        {
          "output_type": "stream",
          "name": "stdout",
          "text": [
            "[LibSVM]Accuracy_score on test (SVM with gaussian kernel):   0.8636\n",
            "CPU times: user 1min 48s, sys: 143 ms, total: 1min 48s\n",
            "Wall time: 1min 48s\n"
          ]
        }
      ]
    },
    {
      "cell_type": "markdown",
      "source": [
        "#### Catboost & Optuna params"
      ],
      "metadata": {
        "id": "RG4BePPU92Wk"
      }
    },
    {
      "cell_type": "markdown",
      "source": [
        "Сравните подход со случайными признаками с вариантом, в котором вы понижаете размерность с помощью PCA и обучаете градиентный бустинг. Используйте одну из реализаций CatBoost/LightGBM/XGBoost, не забудьте подобрать число деревьев и длину шага."
      ],
      "metadata": {
        "id": "an9M6M2bzBnI"
      }
    },
    {
      "cell_type": "code",
      "source": [
        "class CatboostPCA(BaseEstimator, TransformerMixin):\n",
        "    def __init__(self, new_dim=50, use_PCA=True, lr=0.1, n_estimators=10):\n",
        "        self.use_PCA = use_PCA\n",
        "        self.new_dim = new_dim\n",
        "        self.PCA = PCA(n_components=self.new_dim)\n",
        "        self.classifier = CatBoostClassifier(iterations=n_estimators,\n",
        "                                             learning_rate=lr,\n",
        "                                             logging_level=\"Silent\")\n",
        "\n",
        "    def fit(self, X, y):\n",
        "        # Principal Component Analysis (PCA)\n",
        "        if not self.use_PCA:\n",
        "            self.new_dim = X.shape[1]\n",
        "            X_reduced = X.copy() / 255.\n",
        "        else:\n",
        "            X_reduced = self.PCA.fit_transform(X / 255.)\n",
        "        # Classification\n",
        "        self.classifier.fit(X_reduced, y)\n",
        "        return self\n",
        "\n",
        "    def predict_proba(self, X):\n",
        "        X_reduced = self.PCA.transform(X / 255.) if self.use_PCA else (X.copy() / 255.)\n",
        "        return self.classifier.predict_proba(X_reduced)\n",
        "        \n",
        "    def predict(self, X):\n",
        "        X_reduced = self.PCA.transform(X / 255.) if self.use_PCA else (X.copy() / 255.)\n",
        "        return self.classifier.predict(X_reduced)"
      ],
      "metadata": {
        "id": "ZYU0-1RomENc"
      },
      "execution_count": null,
      "outputs": []
    },
    {
      "cell_type": "code",
      "source": [
        "%%time\n",
        "\n",
        "def pipeline(trial):\n",
        "  nest = trial.suggest_int('n_estimators', 5, 200)\n",
        "  lr = trial.suggest_uniform('learning_rate', 0.001, 1)\n",
        "\n",
        "  catboost = CatboostPCA(new_dim=100, n_estimators=nest, lr=lr)\n",
        "  catboost = catboost.fit(x_train, y_train)\n",
        "  y_pred = catboost.predict(x_test)\n",
        "  acc =  accuracy_score(y_pred, y_test)\n",
        "  # print(acc)\n",
        "  return - acc\n",
        "\n",
        "\n",
        "study = optuna.create_study()\n",
        "study.optimize(pipeline, n_trials=25)"
      ],
      "metadata": {
        "colab": {
          "base_uri": "https://localhost:8080/"
        },
        "id": "6ssDNGBRzE7g",
        "outputId": "5e91cf6b-0a5d-4a48-bc98-af3f96aba7dd"
      },
      "execution_count": null,
      "outputs": [
        {
          "output_type": "stream",
          "name": "stdout",
          "text": [
            "CPU times: user 31min 25s, sys: 37.7 s, total: 32min 2s\n",
            "Wall time: 16min 30s\n"
          ]
        }
      ]
    },
    {
      "cell_type": "code",
      "source": [
        "print('best catboost accuracy:', -study.best_value)"
      ],
      "metadata": {
        "colab": {
          "base_uri": "https://localhost:8080/"
        },
        "id": "lQc8itAzs3OZ",
        "outputId": "502fecb7-73b5-443e-9283-9b44783bffbe"
      },
      "execution_count": null,
      "outputs": [
        {
          "output_type": "stream",
          "name": "stdout",
          "text": [
            "best catboost accuracy: 0.8449\n"
          ]
        }
      ]
    },
    {
      "cell_type": "code",
      "source": [
        "print('best catboost accuracy:', -study.best_value)"
      ],
      "metadata": {
        "id": "ld0x_gdVvunh"
      },
      "execution_count": null,
      "outputs": []
    },
    {
      "cell_type": "code",
      "source": [
        "study.best_params"
      ],
      "metadata": {
        "colab": {
          "base_uri": "https://localhost:8080/"
        },
        "id": "1O96uolRskbv",
        "outputId": "8c65c2bd-21b7-4582-90ab-470b7c3dabcc"
      },
      "execution_count": null,
      "outputs": [
        {
          "output_type": "execute_result",
          "data": {
            "text/plain": [
              "{'learning_rate': 0.18701143891070177, 'n_estimators': 191}"
            ]
          },
          "metadata": {},
          "execution_count": 23
        }
      ]
    },
    {
      "cell_type": "code",
      "source": [
        "%%time\n",
        "\n",
        "catboost = CatboostPCA(new_dim=100, n_estimators=191, lr=0.1870114389)\n",
        "catboost = catboost.fit(x_train, y_train)\n",
        "y_pred = catboost.predict(x_test)\n",
        "print(accuracy_score(y_pred, y_test))"
      ],
      "metadata": {
        "colab": {
          "base_uri": "https://localhost:8080/"
        },
        "id": "UK2eX1cRE_Ns",
        "outputId": "f4501e5b-0a04-4222-8102-c5d13113f5fe"
      },
      "execution_count": null,
      "outputs": [
        {
          "output_type": "stream",
          "name": "stdout",
          "text": [
            "0.8451\n",
            "CPU times: user 1min 42s, sys: 1.46 s, total: 1min 44s\n",
            "Wall time: 53.9 s\n"
          ]
        }
      ]
    },
    {
      "cell_type": "markdown",
      "source": [
        "#### Выводы\n",
        "\n",
        "Сделайте выводы — насколько идея со случайными признаками работает? Сравните как с точки зрения качества, так и с точки зрения скорости обучения и применения."
      ],
      "metadata": {
        "id": "BgF1uNjizFGs"
      }
    },
    {
      "cell_type": "markdown",
      "source": [
        "**Выводы**: Переход к случайным признакам позволяет существенно улучшить качество без значительного увеличения времени работы (на примере линейного SVM, ***на трети обучающей выборки*** поднялось с 0.80 до 0.85). \n",
        "\n",
        "Встроенный ядровой SVM может показать еще лучшие результаты по точности при правильном выборе ядра. В нашем случае гауссовы ядра rbf дали качество еще выше. Sigmoid - самый быстрый, но точность просела, полиномиальное ядро показало себя по времени и качеству хорошо, но не лидирует.\n",
        "\n",
        "Метод градиентного бустинга после подбора параметров (занимает опр. время) показал себя на сопоставимом уровне (но хуже rbf swm по качеству) при параметре кол-ва моделей в лесу - 191 и без доп. ограничений на глубину. CPU time >> Wall time практически на минуту - потребовалось время на ожидание процессов работы с памятью.\n",
        "\n",
        "Итого - да, случайные признаки - действительно полезная методика.\n",
        "\n"
      ],
      "metadata": {
        "id": "uQb961k0tas_"
      }
    },
    {
      "cell_type": "markdown",
      "metadata": {
        "id": "e6umjhWuK-hV"
      },
      "source": [
        "### __Задание 3. (2 балла)__\n",
        "\n",
        "Проведите эксперименты:\n",
        "1. Помогает ли предварительное понижение размерности с помощью PCA? \n",
        "2. Как зависит итоговое качество от n_features? Выходит ли оно на плато при росте n_features?\n",
        "3. Важно ли, какую модель обучать — логистическую регрессию или SVM?"
      ]
    },
    {
      "cell_type": "markdown",
      "source": [
        "#### Use_PCA test для RFF SVM"
      ],
      "metadata": {
        "id": "Ec7o3u_8HVZ_"
      }
    },
    {
      "cell_type": "code",
      "execution_count": null,
      "metadata": {
        "id": "c2QIHIMbK-hW",
        "colab": {
          "base_uri": "https://localhost:8080/"
        },
        "outputId": "e9a254b9-212c-4780-db6d-eb4d07e8a3d6"
      },
      "outputs": [
        {
          "output_type": "stream",
          "name": "stdout",
          "text": [
            "Fitting started!\n",
            "Prediction started!\n",
            "Accuracy_score on short test (SVM 1000feat):   0.8548\n",
            "CPU times: user 1min 22s, sys: 3.07 s, total: 1min 25s\n",
            "Wall time: 1min 21s\n"
          ]
        }
      ],
      "source": [
        "%%time\n",
        "svm_rff_model = make_pipeline(StandardScaler(), RFFPipeline(classifier='svm'))\n",
        "svm_rff_model.fit(x_train, y_train)\n",
        "y_pred = svm_rff_model.predict(x_test)\n",
        "print('Accuracy_score on short test (SVM 1000feat):  ', accuracy_score(y_pred, y_test))"
      ]
    },
    {
      "cell_type": "code",
      "source": [
        "%%time\n",
        "svm_rff_model = make_pipeline(StandardScaler(), RFFPipeline(classifier='svm', use_PCA=False))\n",
        "svm_rff_model.fit(x_train, y_train)\n",
        "y_pred = svm_rff_model.predict(x_test)\n",
        "print('Accuracy_score on short test (RFF SVM No PCA):  ', accuracy_score(y_pred, y_test))"
      ],
      "metadata": {
        "colab": {
          "base_uri": "https://localhost:8080/"
        },
        "id": "G9VTuzrFIAuy",
        "outputId": "a9cd0cd8-08a0-47ab-c011-c85732360eb4"
      },
      "execution_count": null,
      "outputs": [
        {
          "output_type": "stream",
          "name": "stdout",
          "text": [
            "Fitting started!\n",
            "Prediction started!\n",
            "Accuracy_score on short test (RFF SVM No PCA):   0.8339\n",
            "CPU times: user 1min 23s, sys: 507 ms, total: 1min 24s\n",
            "Wall time: 1min 22s\n"
          ]
        }
      ]
    },
    {
      "cell_type": "markdown",
      "source": [
        "#### Use_PCA test для  Catboost"
      ],
      "metadata": {
        "id": "8er0uIwDHbJf"
      }
    },
    {
      "cell_type": "code",
      "source": [
        "%%time\n",
        "\n",
        "catboost = CatboostPCA(new_dim=100, n_estimators=191, lr=0.1870114389)\n",
        "catboost = catboost.fit(x_train, y_train)\n",
        "y_pred = catboost.predict(x_test)\n",
        "print('Accuracy of Catboost with PCA_100:  ', accuracy_score(y_pred, y_test))"
      ],
      "metadata": {
        "colab": {
          "base_uri": "https://localhost:8080/"
        },
        "id": "Yaj3xTg0I7Cn",
        "outputId": "4ac35812-5ecd-41ab-c5f3-a7f388ae3195"
      },
      "execution_count": null,
      "outputs": [
        {
          "output_type": "stream",
          "name": "stdout",
          "text": [
            "Accuracy of Catboost with PCA_100:   0.8452\n",
            "CPU times: user 1min 42s, sys: 2.13 s, total: 1min 44s\n",
            "Wall time: 1min 8s\n"
          ]
        }
      ]
    },
    {
      "cell_type": "code",
      "source": [
        "%%time\n",
        "\n",
        "catboost = CatboostPCA(use_PCA=False, n_estimators=191, lr=0.1870114389)\n",
        "catboost = catboost.fit(x_train, y_train)\n",
        "y_pred = catboost.predict(x_test)\n",
        "print('Accuracy of Catboost using same params without PCA:  ', accuracy_score(y_pred, y_test))"
      ],
      "metadata": {
        "colab": {
          "base_uri": "https://localhost:8080/"
        },
        "id": "6HDz39CEI7F1",
        "outputId": "b878beff-4a97-43f7-a248-ea1b61f55b16"
      },
      "execution_count": null,
      "outputs": [
        {
          "output_type": "stream",
          "name": "stdout",
          "text": [
            "Accuracy of Catboost using same params without PCA:   0.8574\n",
            "CPU times: user 12min 49s, sys: 833 ms, total: 12min 50s\n",
            "Wall time: 6min 35s\n"
          ]
        }
      ]
    },
    {
      "cell_type": "markdown",
      "source": [
        "__Вывод про PCA__ Тестирование двух моделей SVM на одинаковых исходных параметрах показывает, что предварительное понижение размерности, действительно, помогает улучшить качество. В случае же Catboost качество возросло (не так уж и сильно) вместе с увеличением времени работы более, чем в 5 раз, без понижения размерности. Вывод - полезно его делать!"
      ],
      "metadata": {
        "id": "0l9ZDH-bIlsm"
      }
    },
    {
      "cell_type": "markdown",
      "source": [
        "#### n_features в RFF\n",
        "\n",
        "Число случайных признаков. В первой части мы уже обучили несколько logreg моделей с разным параметром n_features до сходимости - это было очень долго. Но мы смогли пронаблюдать, что с ростом этого параметра сильно увеличивается и количество эпох, необходимое для сходимости при одинаковых других параметрах. Давайте теперь будем учить дефолтные 100 эпох и следить за качеством.\n",
        "\n",
        "Но сначала SVM:"
      ],
      "metadata": {
        "id": "KbuD47_TMn-w"
      }
    },
    {
      "cell_type": "code",
      "source": [
        "from tqdm import tqdm\n",
        "\n",
        "features = [50, 100, 300, 600, 700, 800, 900, 1000]\n",
        "accs = []\n",
        "\n",
        "for f in tqdm(features):\n",
        "    svm_rff_model = RFFPipeline(classifier='svm', new_dim=50, n_features=f)\n",
        "    svm_rff_model.fit(x_train, y_train)\n",
        "    y_pred = svm_rff_model.predict(x_test)\n",
        "    a = accuracy_score(y_pred, y_test)\n",
        "    accs += [a]\n",
        "    print([a])"
      ],
      "metadata": {
        "colab": {
          "base_uri": "https://localhost:8080/"
        },
        "id": "7juKRNCHMjd2",
        "outputId": "d263d92e-ddb3-4fe4-c591-b55e78809dfc"
      },
      "execution_count": null,
      "outputs": [
        {
          "output_type": "stream",
          "name": "stderr",
          "text": [
            "\r  0%|          | 0/8 [00:00<?, ?it/s]"
          ]
        },
        {
          "output_type": "stream",
          "name": "stdout",
          "text": [
            "Fitting started!\n",
            "Prediction started!\n"
          ]
        },
        {
          "output_type": "stream",
          "name": "stderr",
          "text": [
            "\r 12%|█▎        | 1/8 [00:19<02:19, 19.93s/it]"
          ]
        },
        {
          "output_type": "stream",
          "name": "stdout",
          "text": [
            "[0.814]\n",
            "Fitting started!\n",
            "Prediction started!\n"
          ]
        },
        {
          "output_type": "stream",
          "name": "stderr",
          "text": [
            "\r 25%|██▌       | 2/8 [00:40<02:01, 20.32s/it]"
          ]
        },
        {
          "output_type": "stream",
          "name": "stdout",
          "text": [
            "[0.8412]\n",
            "Fitting started!\n",
            "Prediction started!\n"
          ]
        },
        {
          "output_type": "stream",
          "name": "stderr",
          "text": [
            "\r 38%|███▊      | 3/8 [01:23<02:33, 30.63s/it]"
          ]
        },
        {
          "output_type": "stream",
          "name": "stdout",
          "text": [
            "[0.859]\n",
            "Fitting started!\n",
            "Prediction started!\n"
          ]
        },
        {
          "output_type": "stream",
          "name": "stderr",
          "text": [
            "\r 50%|█████     | 4/8 [02:31<03:02, 45.57s/it]"
          ]
        },
        {
          "output_type": "stream",
          "name": "stdout",
          "text": [
            "[0.8578]\n",
            "Fitting started!\n",
            "Prediction started!\n"
          ]
        },
        {
          "output_type": "stream",
          "name": "stderr",
          "text": [
            "\r 62%|██████▎   | 5/8 [03:40<02:41, 53.84s/it]"
          ]
        },
        {
          "output_type": "stream",
          "name": "stdout",
          "text": [
            "[0.8626]\n",
            "Fitting started!\n",
            "Prediction started!\n"
          ]
        },
        {
          "output_type": "stream",
          "name": "stderr",
          "text": [
            "\r 75%|███████▌  | 6/8 [04:51<01:59, 59.62s/it]"
          ]
        },
        {
          "output_type": "stream",
          "name": "stdout",
          "text": [
            "[0.8585]\n",
            "Fitting started!\n",
            "Prediction started!\n"
          ]
        },
        {
          "output_type": "stream",
          "name": "stderr",
          "text": [
            "\r 88%|████████▊ | 7/8 [06:09<01:05, 65.63s/it]"
          ]
        },
        {
          "output_type": "stream",
          "name": "stdout",
          "text": [
            "[0.8578]\n",
            "Fitting started!\n",
            "Prediction started!\n"
          ]
        },
        {
          "output_type": "stream",
          "name": "stderr",
          "text": [
            "100%|██████████| 8/8 [08:05<00:00, 60.65s/it]"
          ]
        },
        {
          "output_type": "stream",
          "name": "stdout",
          "text": [
            "[0.858]\n"
          ]
        },
        {
          "output_type": "stream",
          "name": "stderr",
          "text": [
            "\n"
          ]
        }
      ]
    },
    {
      "cell_type": "code",
      "source": [
        "logreg_accs = []\n",
        "\n",
        "for f in tqdm(features):\n",
        "    lr_rff_model = RFFPipeline(classifier='logreg', n_features=f)\n",
        "    lr_rff_model.fit(x_train, y_train)\n",
        "    y_pred = lr_rff_model.predict(x_test)\n",
        "    a = accuracy_score(y_pred, y_test)\n",
        "    logreg_accs += [a]\n",
        "    print([a])"
      ],
      "metadata": {
        "colab": {
          "base_uri": "https://localhost:8080/"
        },
        "id": "5WCwIAj5UXph",
        "outputId": "e594e73a-b1b5-4482-ceae-6920448aa3d5"
      },
      "execution_count": null,
      "outputs": [
        {
          "output_type": "stream",
          "name": "stderr",
          "text": [
            "\r  0%|          | 0/8 [00:00<?, ?it/s]"
          ]
        },
        {
          "output_type": "stream",
          "name": "stdout",
          "text": [
            "Fitting started!\n"
          ]
        },
        {
          "output_type": "stream",
          "name": "stderr",
          "text": [
            "/usr/local/lib/python3.7/dist-packages/sklearn/linear_model/_logistic.py:818: ConvergenceWarning: lbfgs failed to converge (status=1):\n",
            "STOP: TOTAL NO. of ITERATIONS REACHED LIMIT.\n",
            "\n",
            "Increase the number of iterations (max_iter) or scale the data as shown in:\n",
            "    https://scikit-learn.org/stable/modules/preprocessing.html\n",
            "Please also refer to the documentation for alternative solver options:\n",
            "    https://scikit-learn.org/stable/modules/linear_model.html#logistic-regression\n",
            "  extra_warning_msg=_LOGISTIC_SOLVER_CONVERGENCE_MSG,\n",
            "\r 12%|█▎        | 1/8 [00:17<02:04, 17.82s/it]"
          ]
        },
        {
          "output_type": "stream",
          "name": "stdout",
          "text": [
            "Prediction started!\n",
            "[0.8022]\n",
            "Fitting started!\n"
          ]
        },
        {
          "output_type": "stream",
          "name": "stderr",
          "text": [
            "/usr/local/lib/python3.7/dist-packages/sklearn/linear_model/_logistic.py:818: ConvergenceWarning: lbfgs failed to converge (status=1):\n",
            "STOP: TOTAL NO. of ITERATIONS REACHED LIMIT.\n",
            "\n",
            "Increase the number of iterations (max_iter) or scale the data as shown in:\n",
            "    https://scikit-learn.org/stable/modules/preprocessing.html\n",
            "Please also refer to the documentation for alternative solver options:\n",
            "    https://scikit-learn.org/stable/modules/linear_model.html#logistic-regression\n",
            "  extra_warning_msg=_LOGISTIC_SOLVER_CONVERGENCE_MSG,\n",
            "\r 25%|██▌       | 2/8 [00:34<01:41, 16.95s/it]"
          ]
        },
        {
          "output_type": "stream",
          "name": "stdout",
          "text": [
            "Prediction started!\n",
            "[0.8323]\n",
            "Fitting started!\n"
          ]
        },
        {
          "output_type": "stream",
          "name": "stderr",
          "text": [
            "/usr/local/lib/python3.7/dist-packages/sklearn/linear_model/_logistic.py:818: ConvergenceWarning: lbfgs failed to converge (status=1):\n",
            "STOP: TOTAL NO. of ITERATIONS REACHED LIMIT.\n",
            "\n",
            "Increase the number of iterations (max_iter) or scale the data as shown in:\n",
            "    https://scikit-learn.org/stable/modules/preprocessing.html\n",
            "Please also refer to the documentation for alternative solver options:\n",
            "    https://scikit-learn.org/stable/modules/linear_model.html#logistic-regression\n",
            "  extra_warning_msg=_LOGISTIC_SOLVER_CONVERGENCE_MSG,\n",
            "\r 38%|███▊      | 3/8 [00:52<01:27, 17.48s/it]"
          ]
        },
        {
          "output_type": "stream",
          "name": "stdout",
          "text": [
            "Prediction started!\n",
            "[0.8426]\n",
            "Fitting started!\n"
          ]
        },
        {
          "output_type": "stream",
          "name": "stderr",
          "text": [
            "/usr/local/lib/python3.7/dist-packages/sklearn/linear_model/_logistic.py:818: ConvergenceWarning: lbfgs failed to converge (status=1):\n",
            "STOP: TOTAL NO. of ITERATIONS REACHED LIMIT.\n",
            "\n",
            "Increase the number of iterations (max_iter) or scale the data as shown in:\n",
            "    https://scikit-learn.org/stable/modules/preprocessing.html\n",
            "Please also refer to the documentation for alternative solver options:\n",
            "    https://scikit-learn.org/stable/modules/linear_model.html#logistic-regression\n",
            "  extra_warning_msg=_LOGISTIC_SOLVER_CONVERGENCE_MSG,\n",
            " 50%|█████     | 4/8 [01:13<01:15, 18.96s/it]"
          ]
        },
        {
          "output_type": "stream",
          "name": "stdout",
          "text": [
            "Prediction started!\n",
            "[0.8519]\n",
            "Fitting started!\n"
          ]
        },
        {
          "output_type": "stream",
          "name": "stderr",
          "text": [
            "/usr/local/lib/python3.7/dist-packages/sklearn/linear_model/_logistic.py:818: ConvergenceWarning: lbfgs failed to converge (status=1):\n",
            "STOP: TOTAL NO. of ITERATIONS REACHED LIMIT.\n",
            "\n",
            "Increase the number of iterations (max_iter) or scale the data as shown in:\n",
            "    https://scikit-learn.org/stable/modules/preprocessing.html\n",
            "Please also refer to the documentation for alternative solver options:\n",
            "    https://scikit-learn.org/stable/modules/linear_model.html#logistic-regression\n",
            "  extra_warning_msg=_LOGISTIC_SOLVER_CONVERGENCE_MSG,\n",
            " 62%|██████▎   | 5/8 [01:35<01:00, 20.00s/it]"
          ]
        },
        {
          "output_type": "stream",
          "name": "stdout",
          "text": [
            "Prediction started!\n",
            "[0.8489]\n",
            "Fitting started!\n"
          ]
        },
        {
          "output_type": "stream",
          "name": "stderr",
          "text": [
            "/usr/local/lib/python3.7/dist-packages/sklearn/linear_model/_logistic.py:818: ConvergenceWarning: lbfgs failed to converge (status=1):\n",
            "STOP: TOTAL NO. of ITERATIONS REACHED LIMIT.\n",
            "\n",
            "Increase the number of iterations (max_iter) or scale the data as shown in:\n",
            "    https://scikit-learn.org/stable/modules/preprocessing.html\n",
            "Please also refer to the documentation for alternative solver options:\n",
            "    https://scikit-learn.org/stable/modules/linear_model.html#logistic-regression\n",
            "  extra_warning_msg=_LOGISTIC_SOLVER_CONVERGENCE_MSG,\n",
            " 75%|███████▌  | 6/8 [01:58<00:41, 20.92s/it]"
          ]
        },
        {
          "output_type": "stream",
          "name": "stdout",
          "text": [
            "Prediction started!\n",
            "[0.8513]\n",
            "Fitting started!\n"
          ]
        },
        {
          "output_type": "stream",
          "name": "stderr",
          "text": [
            "/usr/local/lib/python3.7/dist-packages/sklearn/linear_model/_logistic.py:818: ConvergenceWarning: lbfgs failed to converge (status=1):\n",
            "STOP: TOTAL NO. of ITERATIONS REACHED LIMIT.\n",
            "\n",
            "Increase the number of iterations (max_iter) or scale the data as shown in:\n",
            "    https://scikit-learn.org/stable/modules/preprocessing.html\n",
            "Please also refer to the documentation for alternative solver options:\n",
            "    https://scikit-learn.org/stable/modules/linear_model.html#logistic-regression\n",
            "  extra_warning_msg=_LOGISTIC_SOLVER_CONVERGENCE_MSG,\n",
            " 88%|████████▊ | 7/8 [02:21<00:21, 21.82s/it]"
          ]
        },
        {
          "output_type": "stream",
          "name": "stdout",
          "text": [
            "Prediction started!\n",
            "[0.8524]\n",
            "Fitting started!\n"
          ]
        },
        {
          "output_type": "stream",
          "name": "stderr",
          "text": [
            "/usr/local/lib/python3.7/dist-packages/sklearn/linear_model/_logistic.py:818: ConvergenceWarning: lbfgs failed to converge (status=1):\n",
            "STOP: TOTAL NO. of ITERATIONS REACHED LIMIT.\n",
            "\n",
            "Increase the number of iterations (max_iter) or scale the data as shown in:\n",
            "    https://scikit-learn.org/stable/modules/preprocessing.html\n",
            "Please also refer to the documentation for alternative solver options:\n",
            "    https://scikit-learn.org/stable/modules/linear_model.html#logistic-regression\n",
            "  extra_warning_msg=_LOGISTIC_SOLVER_CONVERGENCE_MSG,\n",
            "100%|██████████| 8/8 [02:51<00:00, 21.48s/it]"
          ]
        },
        {
          "output_type": "stream",
          "name": "stdout",
          "text": [
            "Prediction started!\n",
            "[0.851]\n"
          ]
        },
        {
          "output_type": "stream",
          "name": "stderr",
          "text": [
            "\n"
          ]
        }
      ]
    },
    {
      "cell_type": "code",
      "source": [
        "logreg_accs300 = []\n",
        "\n",
        "for f in tqdm(features):\n",
        "    lr_rff_model = RFFPipeline(classifier='logreg', n_features=f, iters=300)\n",
        "    lr_rff_model.fit(x_train, y_train)\n",
        "    y_pred = lr_rff_model.predict(x_test)\n",
        "    a = accuracy_score(y_pred, y_test)\n",
        "    logreg_accs300 += [a]\n",
        "    print([a])"
      ],
      "metadata": {
        "colab": {
          "base_uri": "https://localhost:8080/"
        },
        "id": "is75rSgHWfOr",
        "outputId": "30e430ea-74b3-4331-933a-1ad5f5be22ab"
      },
      "execution_count": null,
      "outputs": [
        {
          "output_type": "stream",
          "name": "stderr",
          "text": [
            "\r  0%|          | 0/8 [00:00<?, ?it/s]"
          ]
        },
        {
          "output_type": "stream",
          "name": "stdout",
          "text": [
            "Fitting started!\n"
          ]
        },
        {
          "output_type": "stream",
          "name": "stderr",
          "text": [
            "/usr/local/lib/python3.7/dist-packages/sklearn/linear_model/_logistic.py:818: ConvergenceWarning: lbfgs failed to converge (status=1):\n",
            "STOP: TOTAL NO. of ITERATIONS REACHED LIMIT.\n",
            "\n",
            "Increase the number of iterations (max_iter) or scale the data as shown in:\n",
            "    https://scikit-learn.org/stable/modules/preprocessing.html\n",
            "Please also refer to the documentation for alternative solver options:\n",
            "    https://scikit-learn.org/stable/modules/linear_model.html#logistic-regression\n",
            "  extra_warning_msg=_LOGISTIC_SOLVER_CONVERGENCE_MSG,\n",
            "\r 12%|█▎        | 1/8 [00:20<02:20, 20.10s/it]"
          ]
        },
        {
          "output_type": "stream",
          "name": "stdout",
          "text": [
            "Prediction started!\n",
            "[0.8056]\n",
            "Fitting started!\n"
          ]
        },
        {
          "output_type": "stream",
          "name": "stderr",
          "text": [
            "/usr/local/lib/python3.7/dist-packages/sklearn/linear_model/_logistic.py:818: ConvergenceWarning: lbfgs failed to converge (status=1):\n",
            "STOP: TOTAL NO. of ITERATIONS REACHED LIMIT.\n",
            "\n",
            "Increase the number of iterations (max_iter) or scale the data as shown in:\n",
            "    https://scikit-learn.org/stable/modules/preprocessing.html\n",
            "Please also refer to the documentation for alternative solver options:\n",
            "    https://scikit-learn.org/stable/modules/linear_model.html#logistic-regression\n",
            "  extra_warning_msg=_LOGISTIC_SOLVER_CONVERGENCE_MSG,\n",
            "\r 25%|██▌       | 2/8 [00:41<02:06, 21.07s/it]"
          ]
        },
        {
          "output_type": "stream",
          "name": "stdout",
          "text": [
            "Prediction started!\n",
            "[0.8362]\n",
            "Fitting started!\n"
          ]
        },
        {
          "output_type": "stream",
          "name": "stderr",
          "text": [
            "/usr/local/lib/python3.7/dist-packages/sklearn/linear_model/_logistic.py:818: ConvergenceWarning: lbfgs failed to converge (status=1):\n",
            "STOP: TOTAL NO. of ITERATIONS REACHED LIMIT.\n",
            "\n",
            "Increase the number of iterations (max_iter) or scale the data as shown in:\n",
            "    https://scikit-learn.org/stable/modules/preprocessing.html\n",
            "Please also refer to the documentation for alternative solver options:\n",
            "    https://scikit-learn.org/stable/modules/linear_model.html#logistic-regression\n",
            "  extra_warning_msg=_LOGISTIC_SOLVER_CONVERGENCE_MSG,\n",
            "\r 38%|███▊      | 3/8 [01:09<02:01, 24.30s/it]"
          ]
        },
        {
          "output_type": "stream",
          "name": "stdout",
          "text": [
            "Prediction started!\n",
            "[0.8517]\n",
            "Fitting started!\n"
          ]
        },
        {
          "output_type": "stream",
          "name": "stderr",
          "text": [
            "/usr/local/lib/python3.7/dist-packages/sklearn/linear_model/_logistic.py:818: ConvergenceWarning: lbfgs failed to converge (status=1):\n",
            "STOP: TOTAL NO. of ITERATIONS REACHED LIMIT.\n",
            "\n",
            "Increase the number of iterations (max_iter) or scale the data as shown in:\n",
            "    https://scikit-learn.org/stable/modules/preprocessing.html\n",
            "Please also refer to the documentation for alternative solver options:\n",
            "    https://scikit-learn.org/stable/modules/linear_model.html#logistic-regression\n",
            "  extra_warning_msg=_LOGISTIC_SOLVER_CONVERGENCE_MSG,\n",
            " 50%|█████     | 4/8 [01:44<01:53, 28.50s/it]"
          ]
        },
        {
          "output_type": "stream",
          "name": "stdout",
          "text": [
            "Prediction started!\n",
            "[0.8606]\n",
            "Fitting started!\n"
          ]
        },
        {
          "output_type": "stream",
          "name": "stderr",
          "text": [
            "/usr/local/lib/python3.7/dist-packages/sklearn/linear_model/_logistic.py:818: ConvergenceWarning: lbfgs failed to converge (status=1):\n",
            "STOP: TOTAL NO. of ITERATIONS REACHED LIMIT.\n",
            "\n",
            "Increase the number of iterations (max_iter) or scale the data as shown in:\n",
            "    https://scikit-learn.org/stable/modules/preprocessing.html\n",
            "Please also refer to the documentation for alternative solver options:\n",
            "    https://scikit-learn.org/stable/modules/linear_model.html#logistic-regression\n",
            "  extra_warning_msg=_LOGISTIC_SOLVER_CONVERGENCE_MSG,\n",
            " 62%|██████▎   | 5/8 [02:22<01:35, 31.68s/it]"
          ]
        },
        {
          "output_type": "stream",
          "name": "stdout",
          "text": [
            "Prediction started!\n",
            "[0.8594]\n",
            "Fitting started!\n"
          ]
        },
        {
          "output_type": "stream",
          "name": "stderr",
          "text": [
            "/usr/local/lib/python3.7/dist-packages/sklearn/linear_model/_logistic.py:818: ConvergenceWarning: lbfgs failed to converge (status=1):\n",
            "STOP: TOTAL NO. of ITERATIONS REACHED LIMIT.\n",
            "\n",
            "Increase the number of iterations (max_iter) or scale the data as shown in:\n",
            "    https://scikit-learn.org/stable/modules/preprocessing.html\n",
            "Please also refer to the documentation for alternative solver options:\n",
            "    https://scikit-learn.org/stable/modules/linear_model.html#logistic-regression\n",
            "  extra_warning_msg=_LOGISTIC_SOLVER_CONVERGENCE_MSG,\n",
            " 75%|███████▌  | 6/8 [03:01<01:08, 34.25s/it]"
          ]
        },
        {
          "output_type": "stream",
          "name": "stdout",
          "text": [
            "Prediction started!\n",
            "[0.8581]\n",
            "Fitting started!\n"
          ]
        },
        {
          "output_type": "stream",
          "name": "stderr",
          "text": [
            "/usr/local/lib/python3.7/dist-packages/sklearn/linear_model/_logistic.py:818: ConvergenceWarning: lbfgs failed to converge (status=1):\n",
            "STOP: TOTAL NO. of ITERATIONS REACHED LIMIT.\n",
            "\n",
            "Increase the number of iterations (max_iter) or scale the data as shown in:\n",
            "    https://scikit-learn.org/stable/modules/preprocessing.html\n",
            "Please also refer to the documentation for alternative solver options:\n",
            "    https://scikit-learn.org/stable/modules/linear_model.html#logistic-regression\n",
            "  extra_warning_msg=_LOGISTIC_SOLVER_CONVERGENCE_MSG,\n",
            " 88%|████████▊ | 7/8 [03:44<00:37, 37.12s/it]"
          ]
        },
        {
          "output_type": "stream",
          "name": "stdout",
          "text": [
            "Prediction started!\n",
            "[0.8621]\n",
            "Fitting started!\n"
          ]
        },
        {
          "output_type": "stream",
          "name": "stderr",
          "text": [
            "/usr/local/lib/python3.7/dist-packages/sklearn/linear_model/_logistic.py:818: ConvergenceWarning: lbfgs failed to converge (status=1):\n",
            "STOP: TOTAL NO. of ITERATIONS REACHED LIMIT.\n",
            "\n",
            "Increase the number of iterations (max_iter) or scale the data as shown in:\n",
            "    https://scikit-learn.org/stable/modules/preprocessing.html\n",
            "Please also refer to the documentation for alternative solver options:\n",
            "    https://scikit-learn.org/stable/modules/linear_model.html#logistic-regression\n",
            "  extra_warning_msg=_LOGISTIC_SOLVER_CONVERGENCE_MSG,\n",
            "100%|██████████| 8/8 [04:45<00:00, 35.66s/it]"
          ]
        },
        {
          "output_type": "stream",
          "name": "stdout",
          "text": [
            "Prediction started!\n",
            "[0.8607]\n"
          ]
        },
        {
          "output_type": "stream",
          "name": "stderr",
          "text": [
            "\n"
          ]
        }
      ]
    },
    {
      "cell_type": "code",
      "source": [
        "accs"
      ],
      "metadata": {
        "colab": {
          "base_uri": "https://localhost:8080/"
        },
        "id": "meP5a7blMjif",
        "outputId": "b1f2c635-6821-4b72-9d06-3c1e44bf1f5b"
      },
      "execution_count": null,
      "outputs": [
        {
          "output_type": "execute_result",
          "data": {
            "text/plain": [
              "[0.8156, 0.8362, 0.8555, 0.8604, 0.8578, 0.8605, 0.8609, 0.8398]"
            ]
          },
          "metadata": {},
          "execution_count": 38
        }
      ]
    },
    {
      "cell_type": "code",
      "source": [
        "fig, ax = plt.subplots(1, 3, figsize=(21, 6))\n",
        "\n",
        "ax[0].plot(features, accs)\n",
        "ax[0].set_xlabel('n_features')\n",
        "ax[0].set_ylabel('Accuracy')\n",
        "ax[0].set_title('SVM RFF')\n",
        "\n",
        "ax[1].plot(features, logreg_accs)\n",
        "ax[1].set_xlabel('n_features')\n",
        "ax[1].set_ylabel('Accuracy')\n",
        "ax[1].set_title('LogReg RFF (100 epochs)')\n",
        "\n",
        "ax[2].plot(features, logreg_accs300)\n",
        "ax[2].set_xlabel('n_features')\n",
        "ax[2].set_ylabel('Accuracy')\n",
        "ax[2].set_title('LogReg RFF (300 epochs max_iter)')\n",
        "\n",
        "plt.show()"
      ],
      "metadata": {
        "colab": {
          "base_uri": "https://localhost:8080/",
          "height": 410
        },
        "id": "T9Kl1eosT9xP",
        "outputId": "f0df4d79-4f56-47e8-b1df-708838992bf0"
      },
      "execution_count": null,
      "outputs": [
        {
          "output_type": "display_data",
          "data": {
            "image/png": "[encoded data removed]",
            "text/plain": [
              "<Figure size 1512x432 with 3 Axes>"
            ]
          },
          "metadata": {
            "needs_background": "light"
          }
        }
      ]
    },
    {
      "cell_type": "markdown",
      "source": [
        "__Выводы__\n",
        "\n",
        "Да, действительно, выходит на плато в обоих видах моделей. \n",
        "\n",
        "Если ждать окончательной сходимости, то в логрег можно получать 0.875, но это так долго, что лучше использовать нейронки (может быть, надо тестить). При одинаковых затратах по времени логрес и метод опорных векторов отработали с сопоставимым качеством."
      ],
      "metadata": {
        "id": "HnELaJjkVwzB"
      }
    }
  ],
  "metadata": {
    "colab": {
      "collapsed_sections": [],
      "name": "random-features-kernel-svm",
      "provenance": []
    },
    "kernelspec": {
      "display_name": "Python 3",
      "language": "python",
      "name": "python3"
    },
    "language_info": {
      "codemirror_mode": {
        "name": "ipython",
        "version": 3
      },
      "file_extension": ".py",
      "mimetype": "text/x-python",
      "name": "python",
      "nbconvert_exporter": "python",
      "pygments_lexer": "ipython3",
      "version": "3.9.0"
    }
  },
  "nbformat": 4,
  "nbformat_minor": 0
}