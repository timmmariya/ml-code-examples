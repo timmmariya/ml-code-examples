{
  "cells": [
    {
      "cell_type": "markdown",
      "id": "fDSm3HCmc21h",
      "metadata": {
        "id": "fDSm3HCmc21h"
      },
      "source": [
        "# CUP IT 2022 - Команда YEET - Cекция Data Science"
      ]
    },
    {
      "cell_type": "markdown",
      "id": "Hwlm-FBGtY_Q",
      "metadata": {
        "id": "Hwlm-FBGtY_Q"
      },
      "source": [
        "**Задача:** Построить look-alike-модель на основе классификации данных, которая производит скоринг участников программы лояльности и предсказывает, кто из них максимально похож\n",
        "на людей, недавно присоединившихся к «Клубу полезных привычек».\n"
      ]
    },
    {
      "cell_type": "markdown",
      "id": "Zz-whXACdo5w",
      "metadata": {
        "id": "Zz-whXACdo5w"
      },
      "source": [
        "## Загрузка данных и библиотек"
      ]
    },
    {
      "cell_type": "code",
      "execution_count": null,
      "id": "df795ecf",
      "metadata": {
        "id": "df795ecf"
      },
      "outputs": [],
      "source": [
        "import pandas as pd\n",
        "import numpy as np\n",
        "import matplotlib.pyplot as plt\n",
        "import seaborn as sns\n",
        "\n",
        "from sklearn.preprocessing import StandardScaler\n",
        "\n",
        "from sklearn.model_selection import cross_val_score,cross_validate, train_test_split\n",
        "\n",
        "from sklearn.metrics import precision_score, fbeta_score, f1_score, recall_score\n",
        "from sklearn import metrics\n",
        "from sklearn.metrics import make_scorer\n",
        "\n",
        "from imblearn.pipeline import Pipeline as imbpipeline\n",
        "from imblearn.over_sampling import SMOTE\n",
        "\n",
        "from sklearn.cluster import DBSCAN\n",
        "from sklearn.base import BaseEstimator \n",
        "from sklearn.base import ClassifierMixin\n",
        "\n",
        "from sklearn.linear_model import LogisticRegression\n",
        "from sklearn.ensemble import RandomForestClassifier\n",
        "from xgboost.sklearn import XGBClassifier\n",
        "from sklearn.model_selection import GridSearchCV\n",
        "\n",
        "import warnings\n",
        "warnings.filterwarnings(\"ignore\")\n",
        "\n",
        "sns.set_style(\"white\")"
      ]
    },
    {
      "cell_type": "code",
      "execution_count": null,
      "id": "a3lvHzkjxKnV",
      "metadata": {
        "id": "a3lvHzkjxKnV",
        "colab": {
          "base_uri": "https://localhost:8080/"
        },
        "outputId": "afcf3a0c-6f05-4a84-8a10-c2d27b9e79d5"
      },
      "outputs": [
        {
          "output_type": "stream",
          "name": "stdout",
          "text": [
            "Mounted at /content/drive\n"
          ]
        }
      ],
      "source": [
        "from google.colab import drive\n",
        "drive.mount('/content/drive', force_remount=True)"
      ]
    },
    {
      "cell_type": "code",
      "execution_count": null,
      "id": "1e10cda4",
      "metadata": {
        "id": "1e10cda4"
      },
      "outputs": [],
      "source": [
        "data = pd.read_csv('/content/drive/MyDrive/YEET/cup_it_data.csv', index_col = 'client_id')"
      ]
    },
    {
      "cell_type": "markdown",
      "source": [
        "### Объединение исходного набора данных с дополнительными столбцами"
      ],
      "metadata": {
        "id": "etbldsIdBvoh"
      },
      "id": "etbldsIdBvoh"
    },
    {
      "cell_type": "code",
      "source": [
        "data2 = pd.read_csv('/content/drive/MyDrive/YEET/Cup_IT_2022_Data_Science_additional_data.csv')"
      ],
      "metadata": {
        "id": "UbnXCN8fA1Nc"
      },
      "id": "UbnXCN8fA1Nc",
      "execution_count": null,
      "outputs": []
    },
    {
      "cell_type": "code",
      "source": [
        "data2.drop(['index', 'Unnamed: 0'], 1, inplace=True)"
      ],
      "metadata": {
        "id": "15u-tOLPBGqK"
      },
      "id": "15u-tOLPBGqK",
      "execution_count": null,
      "outputs": []
    },
    {
      "cell_type": "code",
      "source": [
        "data.reset_index(inplace=True)\n",
        "data.drop('client_id', axis=1, inplace=True)\n",
        "data"
      ],
      "metadata": {
        "colab": {
          "base_uri": "https://localhost:8080/",
          "height": 522
        },
        "id": "_0fQsoQg0zG6",
        "outputId": "2c7d06c8-2bb9-4235-d13e-1a52b02b0ff2"
      },
      "id": "_0fQsoQg0zG6",
      "execution_count": null,
      "outputs": [
        {
          "output_type": "execute_result",
          "data": {
            "text/plain": [
              "        is_in_club  cnt_checks_10_Мясная гастрономия  rto_std_11  \\\n",
              "0                0                               NaN  300.021342   \n",
              "1                0                               1.0  519.031384   \n",
              "2                0                               NaN  131.165948   \n",
              "3                0                               2.0         NaN   \n",
              "4                0                               1.0  856.579037   \n",
              "...            ...                               ...         ...   \n",
              "135056           0                               NaN  196.068192   \n",
              "135057           0                               1.0  402.034438   \n",
              "135058           0                               NaN  512.741089   \n",
              "135059           0                               NaN  124.425093   \n",
              "135060           0                               NaN   58.134728   \n",
              "\n",
              "               rto_6  rto_12_Сыры  rto_12_Птица и изделия из птицы  \\\n",
              "0        2418.116714   853.016746                              NaN   \n",
              "1       19899.211736          NaN                              NaN   \n",
              "2         411.347689          NaN                              NaN   \n",
              "3       35043.643030          NaN                              NaN   \n",
              "4        8992.835847          NaN                              NaN   \n",
              "...              ...          ...                              ...   \n",
              "135056           NaN          NaN                              NaN   \n",
              "135057           NaN   638.046313                       241.225584   \n",
              "135058           NaN   283.611949                              NaN   \n",
              "135059           NaN          NaN                              NaN   \n",
              "135060           NaN          NaN                              NaN   \n",
              "\n",
              "               rto_8  cnt_checks_9  rto_9_Мясная гастрономия  \\\n",
              "0        5092.170392           3.0                       NaN   \n",
              "1       32392.636661           7.0                       NaN   \n",
              "2        1416.656061           NaN                       NaN   \n",
              "3        8460.544337           7.0               1425.707450   \n",
              "4        4914.387768          14.0                663.142041   \n",
              "...              ...           ...                       ...   \n",
              "135056           NaN           3.0                       NaN   \n",
              "135057           NaN           3.0                109.331686   \n",
              "135058           NaN           2.0                       NaN   \n",
              "135059           NaN           2.0                       NaN   \n",
              "135060           NaN           2.0                       NaN   \n",
              "\n",
              "        rto_10_Птица и изделия из птицы  ...  rto_stddev_12_Сыры  \\\n",
              "0                                   NaN  ...           73.846425   \n",
              "1                            176.866878  ...                 NaN   \n",
              "2                                   NaN  ...                 NaN   \n",
              "3                            237.934884  ...                 NaN   \n",
              "4                                   NaN  ...                 NaN   \n",
              "...                                 ...  ...                 ...   \n",
              "135056                              NaN  ...                 NaN   \n",
              "135057                              NaN  ...           65.491622   \n",
              "135058                              NaN  ...            2.670624   \n",
              "135059                              NaN  ...                 NaN   \n",
              "135060                              NaN  ...                 NaN   \n",
              "\n",
              "        rto_6_Крупы и зерновые  rto_stddev_7_Рыба и рыбные изделия  \\\n",
              "0                   148.316558                                 NaN   \n",
              "1                          NaN                          225.219998   \n",
              "2                          NaN                                 NaN   \n",
              "3                          NaN                                 NaN   \n",
              "4                          NaN                                 NaN   \n",
              "...                        ...                                 ...   \n",
              "135056                     NaN                                 NaN   \n",
              "135057                     NaN                                 NaN   \n",
              "135058                     NaN                                 NaN   \n",
              "135059                     NaN                                 NaN   \n",
              "135060                     NaN                                 NaN   \n",
              "\n",
              "        rto_stddev_8_Овощи - Фрукты  rto_8_Рыба и рыбные изделия  rto_11_Сыры  \\\n",
              "0                               NaN                          NaN          NaN   \n",
              "1                        301.404157                   525.868862  1153.293331   \n",
              "2                          6.651813                          NaN          NaN   \n",
              "3                               NaN                   743.245025          NaN   \n",
              "4                         30.906907                          NaN   533.725164   \n",
              "...                             ...                          ...          ...   \n",
              "135056                          NaN                          NaN    97.138634   \n",
              "135057                          NaN                          NaN   197.113099   \n",
              "135058                          NaN                          NaN          NaN   \n",
              "135059                          NaN                          NaN          NaN   \n",
              "135060                          NaN                          NaN          NaN   \n",
              "\n",
              "        cnt_checks_8_Сыры  cnt_checks_8  rto_stddev_9_Мясная гастрономия  \\\n",
              "0                     NaN           5.0                              NaN   \n",
              "1                     7.0          21.0                              NaN   \n",
              "2                     NaN           5.0                              NaN   \n",
              "3                     NaN           4.0                       104.784828   \n",
              "4                     2.0           6.0                       143.967128   \n",
              "...                   ...           ...                              ...   \n",
              "135056                NaN           NaN                              NaN   \n",
              "135057                NaN           NaN                              NaN   \n",
              "135058                NaN           NaN                              NaN   \n",
              "135059                NaN           NaN                              NaN   \n",
              "135060                NaN           NaN                              NaN   \n",
              "\n",
              "        rto_stddev_12_Крупы и зерновые  \n",
              "0                                  NaN  \n",
              "1                                  NaN  \n",
              "2                                  NaN  \n",
              "3                                  NaN  \n",
              "4                                  NaN  \n",
              "...                                ...  \n",
              "135056                             NaN  \n",
              "135057                             NaN  \n",
              "135058                             NaN  \n",
              "135059                             NaN  \n",
              "135060                             NaN  \n",
              "\n",
              "[135061 rows x 148 columns]"
            ],
            "text/html": [
              "\n",
              "  <div id=\"df-4ae131ab-4c4c-491d-83c9-0eac2b0ed930\">\n",
              "    <div class=\"colab-df-container\">\n",
              "      <div>\n",
              "<style scoped>\n",
              "    .dataframe tbody tr th:only-of-type {\n",
              "        vertical-align: middle;\n",
              "    }\n",
              "\n",
              "    .dataframe tbody tr th {\n",
              "        vertical-align: top;\n",
              "    }\n",
              "\n",
              "    .dataframe thead th {\n",
              "        text-align: right;\n",
              "    }\n",
              "</style>\n",
              "<table border=\"1\" class=\"dataframe\">\n",
              "  <thead>\n",
              "    <tr style=\"text-align: right;\">\n",
              "      <th></th>\n",
              "      <th>is_in_club</th>\n",
              "      <th>cnt_checks_10_Мясная гастрономия</th>\n",
              "      <th>rto_std_11</th>\n",
              "      <th>rto_6</th>\n",
              "      <th>rto_12_Сыры</th>\n",
              "      <th>rto_12_Птица и изделия из птицы</th>\n",
              "      <th>rto_8</th>\n",
              "      <th>cnt_checks_9</th>\n",
              "      <th>rto_9_Мясная гастрономия</th>\n",
              "      <th>rto_10_Птица и изделия из птицы</th>\n",
              "      <th>...</th>\n",
              "      <th>rto_stddev_12_Сыры</th>\n",
              "      <th>rto_6_Крупы и зерновые</th>\n",
              "      <th>rto_stddev_7_Рыба и рыбные изделия</th>\n",
              "      <th>rto_stddev_8_Овощи - Фрукты</th>\n",
              "      <th>rto_8_Рыба и рыбные изделия</th>\n",
              "      <th>rto_11_Сыры</th>\n",
              "      <th>cnt_checks_8_Сыры</th>\n",
              "      <th>cnt_checks_8</th>\n",
              "      <th>rto_stddev_9_Мясная гастрономия</th>\n",
              "      <th>rto_stddev_12_Крупы и зерновые</th>\n",
              "    </tr>\n",
              "  </thead>\n",
              "  <tbody>\n",
              "    <tr>\n",
              "      <th>0</th>\n",
              "      <td>0</td>\n",
              "      <td>NaN</td>\n",
              "      <td>300.021342</td>\n",
              "      <td>2418.116714</td>\n",
              "      <td>853.016746</td>\n",
              "      <td>NaN</td>\n",
              "      <td>5092.170392</td>\n",
              "      <td>3.0</td>\n",
              "      <td>NaN</td>\n",
              "      <td>NaN</td>\n",
              "      <td>...</td>\n",
              "      <td>73.846425</td>\n",
              "      <td>148.316558</td>\n",
              "      <td>NaN</td>\n",
              "      <td>NaN</td>\n",
              "      <td>NaN</td>\n",
              "      <td>NaN</td>\n",
              "      <td>NaN</td>\n",
              "      <td>5.0</td>\n",
              "      <td>NaN</td>\n",
              "      <td>NaN</td>\n",
              "    </tr>\n",
              "    <tr>\n",
              "      <th>1</th>\n",
              "      <td>0</td>\n",
              "      <td>1.0</td>\n",
              "      <td>519.031384</td>\n",
              "      <td>19899.211736</td>\n",
              "      <td>NaN</td>\n",
              "      <td>NaN</td>\n",
              "      <td>32392.636661</td>\n",
              "      <td>7.0</td>\n",
              "      <td>NaN</td>\n",
              "      <td>176.866878</td>\n",
              "      <td>...</td>\n",
              "      <td>NaN</td>\n",
              "      <td>NaN</td>\n",
              "      <td>225.219998</td>\n",
              "      <td>301.404157</td>\n",
              "      <td>525.868862</td>\n",
              "      <td>1153.293331</td>\n",
              "      <td>7.0</td>\n",
              "      <td>21.0</td>\n",
              "      <td>NaN</td>\n",
              "      <td>NaN</td>\n",
              "    </tr>\n",
              "    <tr>\n",
              "      <th>2</th>\n",
              "      <td>0</td>\n",
              "      <td>NaN</td>\n",
              "      <td>131.165948</td>\n",
              "      <td>411.347689</td>\n",
              "      <td>NaN</td>\n",
              "      <td>NaN</td>\n",
              "      <td>1416.656061</td>\n",
              "      <td>NaN</td>\n",
              "      <td>NaN</td>\n",
              "      <td>NaN</td>\n",
              "      <td>...</td>\n",
              "      <td>NaN</td>\n",
              "      <td>NaN</td>\n",
              "      <td>NaN</td>\n",
              "      <td>6.651813</td>\n",
              "      <td>NaN</td>\n",
              "      <td>NaN</td>\n",
              "      <td>NaN</td>\n",
              "      <td>5.0</td>\n",
              "      <td>NaN</td>\n",
              "      <td>NaN</td>\n",
              "    </tr>\n",
              "    <tr>\n",
              "      <th>3</th>\n",
              "      <td>0</td>\n",
              "      <td>2.0</td>\n",
              "      <td>NaN</td>\n",
              "      <td>35043.643030</td>\n",
              "      <td>NaN</td>\n",
              "      <td>NaN</td>\n",
              "      <td>8460.544337</td>\n",
              "      <td>7.0</td>\n",
              "      <td>1425.707450</td>\n",
              "      <td>237.934884</td>\n",
              "      <td>...</td>\n",
              "      <td>NaN</td>\n",
              "      <td>NaN</td>\n",
              "      <td>NaN</td>\n",
              "      <td>NaN</td>\n",
              "      <td>743.245025</td>\n",
              "      <td>NaN</td>\n",
              "      <td>NaN</td>\n",
              "      <td>4.0</td>\n",
              "      <td>104.784828</td>\n",
              "      <td>NaN</td>\n",
              "    </tr>\n",
              "    <tr>\n",
              "      <th>4</th>\n",
              "      <td>0</td>\n",
              "      <td>1.0</td>\n",
              "      <td>856.579037</td>\n",
              "      <td>8992.835847</td>\n",
              "      <td>NaN</td>\n",
              "      <td>NaN</td>\n",
              "      <td>4914.387768</td>\n",
              "      <td>14.0</td>\n",
              "      <td>663.142041</td>\n",
              "      <td>NaN</td>\n",
              "      <td>...</td>\n",
              "      <td>NaN</td>\n",
              "      <td>NaN</td>\n",
              "      <td>NaN</td>\n",
              "      <td>30.906907</td>\n",
              "      <td>NaN</td>\n",
              "      <td>533.725164</td>\n",
              "      <td>2.0</td>\n",
              "      <td>6.0</td>\n",
              "      <td>143.967128</td>\n",
              "      <td>NaN</td>\n",
              "    </tr>\n",
              "    <tr>\n",
              "      <th>...</th>\n",
              "      <td>...</td>\n",
              "      <td>...</td>\n",
              "      <td>...</td>\n",
              "      <td>...</td>\n",
              "      <td>...</td>\n",
              "      <td>...</td>\n",
              "      <td>...</td>\n",
              "      <td>...</td>\n",
              "      <td>...</td>\n",
              "      <td>...</td>\n",
              "      <td>...</td>\n",
              "      <td>...</td>\n",
              "      <td>...</td>\n",
              "      <td>...</td>\n",
              "      <td>...</td>\n",
              "      <td>...</td>\n",
              "      <td>...</td>\n",
              "      <td>...</td>\n",
              "      <td>...</td>\n",
              "      <td>...</td>\n",
              "      <td>...</td>\n",
              "    </tr>\n",
              "    <tr>\n",
              "      <th>135056</th>\n",
              "      <td>0</td>\n",
              "      <td>NaN</td>\n",
              "      <td>196.068192</td>\n",
              "      <td>NaN</td>\n",
              "      <td>NaN</td>\n",
              "      <td>NaN</td>\n",
              "      <td>NaN</td>\n",
              "      <td>3.0</td>\n",
              "      <td>NaN</td>\n",
              "      <td>NaN</td>\n",
              "      <td>...</td>\n",
              "      <td>NaN</td>\n",
              "      <td>NaN</td>\n",
              "      <td>NaN</td>\n",
              "      <td>NaN</td>\n",
              "      <td>NaN</td>\n",
              "      <td>97.138634</td>\n",
              "      <td>NaN</td>\n",
              "      <td>NaN</td>\n",
              "      <td>NaN</td>\n",
              "      <td>NaN</td>\n",
              "    </tr>\n",
              "    <tr>\n",
              "      <th>135057</th>\n",
              "      <td>0</td>\n",
              "      <td>1.0</td>\n",
              "      <td>402.034438</td>\n",
              "      <td>NaN</td>\n",
              "      <td>638.046313</td>\n",
              "      <td>241.225584</td>\n",
              "      <td>NaN</td>\n",
              "      <td>3.0</td>\n",
              "      <td>109.331686</td>\n",
              "      <td>NaN</td>\n",
              "      <td>...</td>\n",
              "      <td>65.491622</td>\n",
              "      <td>NaN</td>\n",
              "      <td>NaN</td>\n",
              "      <td>NaN</td>\n",
              "      <td>NaN</td>\n",
              "      <td>197.113099</td>\n",
              "      <td>NaN</td>\n",
              "      <td>NaN</td>\n",
              "      <td>NaN</td>\n",
              "      <td>NaN</td>\n",
              "    </tr>\n",
              "    <tr>\n",
              "      <th>135058</th>\n",
              "      <td>0</td>\n",
              "      <td>NaN</td>\n",
              "      <td>512.741089</td>\n",
              "      <td>NaN</td>\n",
              "      <td>283.611949</td>\n",
              "      <td>NaN</td>\n",
              "      <td>NaN</td>\n",
              "      <td>2.0</td>\n",
              "      <td>NaN</td>\n",
              "      <td>NaN</td>\n",
              "      <td>...</td>\n",
              "      <td>2.670624</td>\n",
              "      <td>NaN</td>\n",
              "      <td>NaN</td>\n",
              "      <td>NaN</td>\n",
              "      <td>NaN</td>\n",
              "      <td>NaN</td>\n",
              "      <td>NaN</td>\n",
              "      <td>NaN</td>\n",
              "      <td>NaN</td>\n",
              "      <td>NaN</td>\n",
              "    </tr>\n",
              "    <tr>\n",
              "      <th>135059</th>\n",
              "      <td>0</td>\n",
              "      <td>NaN</td>\n",
              "      <td>124.425093</td>\n",
              "      <td>NaN</td>\n",
              "      <td>NaN</td>\n",
              "      <td>NaN</td>\n",
              "      <td>NaN</td>\n",
              "      <td>2.0</td>\n",
              "      <td>NaN</td>\n",
              "      <td>NaN</td>\n",
              "      <td>...</td>\n",
              "      <td>NaN</td>\n",
              "      <td>NaN</td>\n",
              "      <td>NaN</td>\n",
              "      <td>NaN</td>\n",
              "      <td>NaN</td>\n",
              "      <td>NaN</td>\n",
              "      <td>NaN</td>\n",
              "      <td>NaN</td>\n",
              "      <td>NaN</td>\n",
              "      <td>NaN</td>\n",
              "    </tr>\n",
              "    <tr>\n",
              "      <th>135060</th>\n",
              "      <td>0</td>\n",
              "      <td>NaN</td>\n",
              "      <td>58.134728</td>\n",
              "      <td>NaN</td>\n",
              "      <td>NaN</td>\n",
              "      <td>NaN</td>\n",
              "      <td>NaN</td>\n",
              "      <td>2.0</td>\n",
              "      <td>NaN</td>\n",
              "      <td>NaN</td>\n",
              "      <td>...</td>\n",
              "      <td>NaN</td>\n",
              "      <td>NaN</td>\n",
              "      <td>NaN</td>\n",
              "      <td>NaN</td>\n",
              "      <td>NaN</td>\n",
              "      <td>NaN</td>\n",
              "      <td>NaN</td>\n",
              "      <td>NaN</td>\n",
              "      <td>NaN</td>\n",
              "      <td>NaN</td>\n",
              "    </tr>\n",
              "  </tbody>\n",
              "</table>\n",
              "<p>135061 rows × 148 columns</p>\n",
              "</div>\n",
              "      <button class=\"colab-df-convert\" onclick=\"convertToInteractive('df-4ae131ab-4c4c-491d-83c9-0eac2b0ed930')\"\n",
              "              title=\"Convert this dataframe to an interactive table.\"\n",
              "              style=\"display:none;\">\n",
              "        \n",
              "  <svg xmlns=\"http://www.w3.org/2000/svg\" height=\"24px\"viewBox=\"0 0 24 24\"\n",
              "       width=\"24px\">\n",
              "    <path d=\"M0 0h24v24H0V0z\" fill=\"none\"/>\n",
              "    <path d=\"M18.56 5.44l.94 2.06.94-2.06 2.06-.94-2.06-.94-.94-2.06-.94 2.06-2.06.94zm-11 1L8.5 8.5l.94-2.06 2.06-.94-2.06-.94L8.5 2.5l-.94 2.06-2.06.94zm10 10l.94 2.06.94-2.06 2.06-.94-2.06-.94-.94-2.06-.94 2.06-2.06.94z\"/><path d=\"M17.41 7.96l-1.37-1.37c-.4-.4-.92-.59-1.43-.59-.52 0-1.04.2-1.43.59L10.3 9.45l-7.72 7.72c-.78.78-.78 2.05 0 2.83L4 21.41c.39.39.9.59 1.41.59.51 0 1.02-.2 1.41-.59l7.78-7.78 2.81-2.81c.8-.78.8-2.07 0-2.86zM5.41 20L4 18.59l7.72-7.72 1.47 1.35L5.41 20z\"/>\n",
              "  </svg>\n",
              "      </button>\n",
              "      \n",
              "  <style>\n",
              "    .colab-df-container {\n",
              "      display:flex;\n",
              "      flex-wrap:wrap;\n",
              "      gap: 12px;\n",
              "    }\n",
              "\n",
              "    .colab-df-convert {\n",
              "      background-color: #E8F0FE;\n",
              "      border: none;\n",
              "      border-radius: 50%;\n",
              "      cursor: pointer;\n",
              "      display: none;\n",
              "      fill: #1967D2;\n",
              "      height: 32px;\n",
              "      padding: 0 0 0 0;\n",
              "      width: 32px;\n",
              "    }\n",
              "\n",
              "    .colab-df-convert:hover {\n",
              "      background-color: #E2EBFA;\n",
              "      box-shadow: 0px 1px 2px rgba(60, 64, 67, 0.3), 0px 1px 3px 1px rgba(60, 64, 67, 0.15);\n",
              "      fill: #174EA6;\n",
              "    }\n",
              "\n",
              "    [theme=dark] .colab-df-convert {\n",
              "      background-color: #3B4455;\n",
              "      fill: #D2E3FC;\n",
              "    }\n",
              "\n",
              "    [theme=dark] .colab-df-convert:hover {\n",
              "      background-color: #434B5C;\n",
              "      box-shadow: 0px 1px 3px 1px rgba(0, 0, 0, 0.15);\n",
              "      filter: drop-shadow(0px 1px 2px rgba(0, 0, 0, 0.3));\n",
              "      fill: #FFFFFF;\n",
              "    }\n",
              "  </style>\n",
              "\n",
              "      <script>\n",
              "        const buttonEl =\n",
              "          document.querySelector('#df-4ae131ab-4c4c-491d-83c9-0eac2b0ed930 button.colab-df-convert');\n",
              "        buttonEl.style.display =\n",
              "          google.colab.kernel.accessAllowed ? 'block' : 'none';\n",
              "\n",
              "        async function convertToInteractive(key) {\n",
              "          const element = document.querySelector('#df-4ae131ab-4c4c-491d-83c9-0eac2b0ed930');\n",
              "          const dataTable =\n",
              "            await google.colab.kernel.invokeFunction('convertToInteractive',\n",
              "                                                     [key], {});\n",
              "          if (!dataTable) return;\n",
              "\n",
              "          const docLinkHtml = 'Like what you see? Visit the ' +\n",
              "            '<a target=\"_blank\" href=https://colab.research.google.com/notebooks/data_table.ipynb>data table notebook</a>'\n",
              "            + ' to learn more about interactive tables.';\n",
              "          element.innerHTML = '';\n",
              "          dataTable['output_type'] = 'display_data';\n",
              "          await google.colab.output.renderOutput(dataTable, element);\n",
              "          const docLink = document.createElement('div');\n",
              "          docLink.innerHTML = docLinkHtml;\n",
              "          element.appendChild(docLink);\n",
              "        }\n",
              "      </script>\n",
              "    </div>\n",
              "  </div>\n",
              "  "
            ]
          },
          "metadata": {},
          "execution_count": 188
        }
      ]
    },
    {
      "cell_type": "code",
      "source": [
        "from pandas.core.frame import DataFrame\n",
        "data = pd.concat([data, data2], axis=1)"
      ],
      "metadata": {
        "id": "6D6i4nZWBbnf"
      },
      "id": "6D6i4nZWBbnf",
      "execution_count": null,
      "outputs": []
    },
    {
      "cell_type": "code",
      "source": [
        "data"
      ],
      "metadata": {
        "colab": {
          "base_uri": "https://localhost:8080/",
          "height": 522
        },
        "id": "HvxTGZngbDkW",
        "outputId": "aa0042e7-5485-402a-edc2-9887db2f2fc4"
      },
      "id": "HvxTGZngbDkW",
      "execution_count": null,
      "outputs": [
        {
          "output_type": "execute_result",
          "data": {
            "text/plain": [
              "        is_in_club  cnt_checks_10_Мясная гастрономия  rto_std_11  \\\n",
              "0                0                               NaN  300.021342   \n",
              "1                0                               1.0  519.031384   \n",
              "2                0                               NaN  131.165948   \n",
              "3                0                               2.0         NaN   \n",
              "4                0                               1.0  856.579037   \n",
              "...            ...                               ...         ...   \n",
              "135056           0                               NaN  196.068192   \n",
              "135057           0                               1.0  402.034438   \n",
              "135058           0                               NaN  512.741089   \n",
              "135059           0                               NaN  124.425093   \n",
              "135060           0                               NaN   58.134728   \n",
              "\n",
              "               rto_6  rto_12_Сыры  rto_12_Птица и изделия из птицы  \\\n",
              "0        2418.116714   853.016746                              NaN   \n",
              "1       19899.211736          NaN                              NaN   \n",
              "2         411.347689          NaN                              NaN   \n",
              "3       35043.643030          NaN                              NaN   \n",
              "4        8992.835847          NaN                              NaN   \n",
              "...              ...          ...                              ...   \n",
              "135056           NaN          NaN                              NaN   \n",
              "135057           NaN   638.046313                       241.225584   \n",
              "135058           NaN   283.611949                              NaN   \n",
              "135059           NaN          NaN                              NaN   \n",
              "135060           NaN          NaN                              NaN   \n",
              "\n",
              "               rto_8  cnt_checks_9  rto_9_Мясная гастрономия  \\\n",
              "0        5092.170392           3.0                       NaN   \n",
              "1       32392.636661           7.0                       NaN   \n",
              "2        1416.656061           NaN                       NaN   \n",
              "3        8460.544337           7.0               1425.707450   \n",
              "4        4914.387768          14.0                663.142041   \n",
              "...              ...           ...                       ...   \n",
              "135056           NaN           3.0                       NaN   \n",
              "135057           NaN           3.0                109.331686   \n",
              "135058           NaN           2.0                       NaN   \n",
              "135059           NaN           2.0                       NaN   \n",
              "135060           NaN           2.0                       NaN   \n",
              "\n",
              "        rto_10_Птица и изделия из птицы  ...  \\\n",
              "0                                   NaN  ...   \n",
              "1                            176.866878  ...   \n",
              "2                                   NaN  ...   \n",
              "3                            237.934884  ...   \n",
              "4                                   NaN  ...   \n",
              "...                                 ...  ...   \n",
              "135056                              NaN  ...   \n",
              "135057                              NaN  ...   \n",
              "135058                              NaN  ...   \n",
              "135059                              NaN  ...   \n",
              "135060                              NaN  ...   \n",
              "\n",
              "        cnt_unique_plu_12_Крупы и зерновые  cnt_unique_plu_12_Сыры  \\\n",
              "0                                      NaN                     3.0   \n",
              "1                                      NaN                     NaN   \n",
              "2                                      NaN                     NaN   \n",
              "3                                      NaN                     NaN   \n",
              "4                                      NaN                     NaN   \n",
              "...                                    ...                     ...   \n",
              "135056                                 NaN                     NaN   \n",
              "135057                                 NaN                     4.0   \n",
              "135058                                 NaN                     2.0   \n",
              "135059                                 NaN                     NaN   \n",
              "135060                                 NaN                     NaN   \n",
              "\n",
              "        cnt_unique_plu_6_Крупы и зерновые  cnt_unique_plu_6_Сыры  \\\n",
              "0                                     1.0                    NaN   \n",
              "1                                     NaN                    2.0   \n",
              "2                                     NaN                    NaN   \n",
              "3                                     NaN                    NaN   \n",
              "4                                     NaN                    2.0   \n",
              "...                                   ...                    ...   \n",
              "135056                                NaN                    NaN   \n",
              "135057                                NaN                    NaN   \n",
              "135058                                NaN                    NaN   \n",
              "135059                                NaN                    NaN   \n",
              "135060                                NaN                    NaN   \n",
              "\n",
              "        cnt_unique_plu_7_Крупы и зерновые  cnt_unique_plu_7_Сыры  \\\n",
              "0                                     NaN                    NaN   \n",
              "1                                     NaN                    3.0   \n",
              "2                                     NaN                    NaN   \n",
              "3                                     NaN                    NaN   \n",
              "4                                     NaN                    1.0   \n",
              "...                                   ...                    ...   \n",
              "135056                                NaN                    NaN   \n",
              "135057                                NaN                    NaN   \n",
              "135058                                NaN                    NaN   \n",
              "135059                                NaN                    NaN   \n",
              "135060                                NaN                    NaN   \n",
              "\n",
              "        cnt_unique_plu_8_Крупы и зерновые  cnt_unique_plu_8_Сыры  \\\n",
              "0                                     NaN                    NaN   \n",
              "1                                     NaN                    4.0   \n",
              "2                                     NaN                    NaN   \n",
              "3                                     NaN                    NaN   \n",
              "4                                     NaN                    2.0   \n",
              "...                                   ...                    ...   \n",
              "135056                                NaN                    NaN   \n",
              "135057                                NaN                    NaN   \n",
              "135058                                NaN                    NaN   \n",
              "135059                                NaN                    NaN   \n",
              "135060                                NaN                    NaN   \n",
              "\n",
              "        cnt_unique_plu_9_Крупы и зерновые  cnt_unique_plu_9_Сыры  \n",
              "0                                     NaN                    NaN  \n",
              "1                                     1.0                    1.0  \n",
              "2                                     NaN                    NaN  \n",
              "3                                     NaN                    NaN  \n",
              "4                                     NaN                    2.0  \n",
              "...                                   ...                    ...  \n",
              "135056                                NaN                    NaN  \n",
              "135057                                2.0                    NaN  \n",
              "135058                                NaN                    NaN  \n",
              "135059                                NaN                    NaN  \n",
              "135060                                NaN                    NaN  \n",
              "\n",
              "[135061 rows x 197 columns]"
            ],
            "text/html": [
              "\n",
              "  <div id=\"df-597a485e-75d6-4bd7-96a0-9f62f1097457\">\n",
              "    <div class=\"colab-df-container\">\n",
              "      <div>\n",
              "<style scoped>\n",
              "    .dataframe tbody tr th:only-of-type {\n",
              "        vertical-align: middle;\n",
              "    }\n",
              "\n",
              "    .dataframe tbody tr th {\n",
              "        vertical-align: top;\n",
              "    }\n",
              "\n",
              "    .dataframe thead th {\n",
              "        text-align: right;\n",
              "    }\n",
              "</style>\n",
              "<table border=\"1\" class=\"dataframe\">\n",
              "  <thead>\n",
              "    <tr style=\"text-align: right;\">\n",
              "      <th></th>\n",
              "      <th>is_in_club</th>\n",
              "      <th>cnt_checks_10_Мясная гастрономия</th>\n",
              "      <th>rto_std_11</th>\n",
              "      <th>rto_6</th>\n",
              "      <th>rto_12_Сыры</th>\n",
              "      <th>rto_12_Птица и изделия из птицы</th>\n",
              "      <th>rto_8</th>\n",
              "      <th>cnt_checks_9</th>\n",
              "      <th>rto_9_Мясная гастрономия</th>\n",
              "      <th>rto_10_Птица и изделия из птицы</th>\n",
              "      <th>...</th>\n",
              "      <th>cnt_unique_plu_12_Крупы и зерновые</th>\n",
              "      <th>cnt_unique_plu_12_Сыры</th>\n",
              "      <th>cnt_unique_plu_6_Крупы и зерновые</th>\n",
              "      <th>cnt_unique_plu_6_Сыры</th>\n",
              "      <th>cnt_unique_plu_7_Крупы и зерновые</th>\n",
              "      <th>cnt_unique_plu_7_Сыры</th>\n",
              "      <th>cnt_unique_plu_8_Крупы и зерновые</th>\n",
              "      <th>cnt_unique_plu_8_Сыры</th>\n",
              "      <th>cnt_unique_plu_9_Крупы и зерновые</th>\n",
              "      <th>cnt_unique_plu_9_Сыры</th>\n",
              "    </tr>\n",
              "  </thead>\n",
              "  <tbody>\n",
              "    <tr>\n",
              "      <th>0</th>\n",
              "      <td>0</td>\n",
              "      <td>NaN</td>\n",
              "      <td>300.021342</td>\n",
              "      <td>2418.116714</td>\n",
              "      <td>853.016746</td>\n",
              "      <td>NaN</td>\n",
              "      <td>5092.170392</td>\n",
              "      <td>3.0</td>\n",
              "      <td>NaN</td>\n",
              "      <td>NaN</td>\n",
              "      <td>...</td>\n",
              "      <td>NaN</td>\n",
              "      <td>3.0</td>\n",
              "      <td>1.0</td>\n",
              "      <td>NaN</td>\n",
              "      <td>NaN</td>\n",
              "      <td>NaN</td>\n",
              "      <td>NaN</td>\n",
              "      <td>NaN</td>\n",
              "      <td>NaN</td>\n",
              "      <td>NaN</td>\n",
              "    </tr>\n",
              "    <tr>\n",
              "      <th>1</th>\n",
              "      <td>0</td>\n",
              "      <td>1.0</td>\n",
              "      <td>519.031384</td>\n",
              "      <td>19899.211736</td>\n",
              "      <td>NaN</td>\n",
              "      <td>NaN</td>\n",
              "      <td>32392.636661</td>\n",
              "      <td>7.0</td>\n",
              "      <td>NaN</td>\n",
              "      <td>176.866878</td>\n",
              "      <td>...</td>\n",
              "      <td>NaN</td>\n",
              "      <td>NaN</td>\n",
              "      <td>NaN</td>\n",
              "      <td>2.0</td>\n",
              "      <td>NaN</td>\n",
              "      <td>3.0</td>\n",
              "      <td>NaN</td>\n",
              "      <td>4.0</td>\n",
              "      <td>1.0</td>\n",
              "      <td>1.0</td>\n",
              "    </tr>\n",
              "    <tr>\n",
              "      <th>2</th>\n",
              "      <td>0</td>\n",
              "      <td>NaN</td>\n",
              "      <td>131.165948</td>\n",
              "      <td>411.347689</td>\n",
              "      <td>NaN</td>\n",
              "      <td>NaN</td>\n",
              "      <td>1416.656061</td>\n",
              "      <td>NaN</td>\n",
              "      <td>NaN</td>\n",
              "      <td>NaN</td>\n",
              "      <td>...</td>\n",
              "      <td>NaN</td>\n",
              "      <td>NaN</td>\n",
              "      <td>NaN</td>\n",
              "      <td>NaN</td>\n",
              "      <td>NaN</td>\n",
              "      <td>NaN</td>\n",
              "      <td>NaN</td>\n",
              "      <td>NaN</td>\n",
              "      <td>NaN</td>\n",
              "      <td>NaN</td>\n",
              "    </tr>\n",
              "    <tr>\n",
              "      <th>3</th>\n",
              "      <td>0</td>\n",
              "      <td>2.0</td>\n",
              "      <td>NaN</td>\n",
              "      <td>35043.643030</td>\n",
              "      <td>NaN</td>\n",
              "      <td>NaN</td>\n",
              "      <td>8460.544337</td>\n",
              "      <td>7.0</td>\n",
              "      <td>1425.707450</td>\n",
              "      <td>237.934884</td>\n",
              "      <td>...</td>\n",
              "      <td>NaN</td>\n",
              "      <td>NaN</td>\n",
              "      <td>NaN</td>\n",
              "      <td>NaN</td>\n",
              "      <td>NaN</td>\n",
              "      <td>NaN</td>\n",
              "      <td>NaN</td>\n",
              "      <td>NaN</td>\n",
              "      <td>NaN</td>\n",
              "      <td>NaN</td>\n",
              "    </tr>\n",
              "    <tr>\n",
              "      <th>4</th>\n",
              "      <td>0</td>\n",
              "      <td>1.0</td>\n",
              "      <td>856.579037</td>\n",
              "      <td>8992.835847</td>\n",
              "      <td>NaN</td>\n",
              "      <td>NaN</td>\n",
              "      <td>4914.387768</td>\n",
              "      <td>14.0</td>\n",
              "      <td>663.142041</td>\n",
              "      <td>NaN</td>\n",
              "      <td>...</td>\n",
              "      <td>NaN</td>\n",
              "      <td>NaN</td>\n",
              "      <td>NaN</td>\n",
              "      <td>2.0</td>\n",
              "      <td>NaN</td>\n",
              "      <td>1.0</td>\n",
              "      <td>NaN</td>\n",
              "      <td>2.0</td>\n",
              "      <td>NaN</td>\n",
              "      <td>2.0</td>\n",
              "    </tr>\n",
              "    <tr>\n",
              "      <th>...</th>\n",
              "      <td>...</td>\n",
              "      <td>...</td>\n",
              "      <td>...</td>\n",
              "      <td>...</td>\n",
              "      <td>...</td>\n",
              "      <td>...</td>\n",
              "      <td>...</td>\n",
              "      <td>...</td>\n",
              "      <td>...</td>\n",
              "      <td>...</td>\n",
              "      <td>...</td>\n",
              "      <td>...</td>\n",
              "      <td>...</td>\n",
              "      <td>...</td>\n",
              "      <td>...</td>\n",
              "      <td>...</td>\n",
              "      <td>...</td>\n",
              "      <td>...</td>\n",
              "      <td>...</td>\n",
              "      <td>...</td>\n",
              "      <td>...</td>\n",
              "    </tr>\n",
              "    <tr>\n",
              "      <th>135056</th>\n",
              "      <td>0</td>\n",
              "      <td>NaN</td>\n",
              "      <td>196.068192</td>\n",
              "      <td>NaN</td>\n",
              "      <td>NaN</td>\n",
              "      <td>NaN</td>\n",
              "      <td>NaN</td>\n",
              "      <td>3.0</td>\n",
              "      <td>NaN</td>\n",
              "      <td>NaN</td>\n",
              "      <td>...</td>\n",
              "      <td>NaN</td>\n",
              "      <td>NaN</td>\n",
              "      <td>NaN</td>\n",
              "      <td>NaN</td>\n",
              "      <td>NaN</td>\n",
              "      <td>NaN</td>\n",
              "      <td>NaN</td>\n",
              "      <td>NaN</td>\n",
              "      <td>NaN</td>\n",
              "      <td>NaN</td>\n",
              "    </tr>\n",
              "    <tr>\n",
              "      <th>135057</th>\n",
              "      <td>0</td>\n",
              "      <td>1.0</td>\n",
              "      <td>402.034438</td>\n",
              "      <td>NaN</td>\n",
              "      <td>638.046313</td>\n",
              "      <td>241.225584</td>\n",
              "      <td>NaN</td>\n",
              "      <td>3.0</td>\n",
              "      <td>109.331686</td>\n",
              "      <td>NaN</td>\n",
              "      <td>...</td>\n",
              "      <td>NaN</td>\n",
              "      <td>4.0</td>\n",
              "      <td>NaN</td>\n",
              "      <td>NaN</td>\n",
              "      <td>NaN</td>\n",
              "      <td>NaN</td>\n",
              "      <td>NaN</td>\n",
              "      <td>NaN</td>\n",
              "      <td>2.0</td>\n",
              "      <td>NaN</td>\n",
              "    </tr>\n",
              "    <tr>\n",
              "      <th>135058</th>\n",
              "      <td>0</td>\n",
              "      <td>NaN</td>\n",
              "      <td>512.741089</td>\n",
              "      <td>NaN</td>\n",
              "      <td>283.611949</td>\n",
              "      <td>NaN</td>\n",
              "      <td>NaN</td>\n",
              "      <td>2.0</td>\n",
              "      <td>NaN</td>\n",
              "      <td>NaN</td>\n",
              "      <td>...</td>\n",
              "      <td>NaN</td>\n",
              "      <td>2.0</td>\n",
              "      <td>NaN</td>\n",
              "      <td>NaN</td>\n",
              "      <td>NaN</td>\n",
              "      <td>NaN</td>\n",
              "      <td>NaN</td>\n",
              "      <td>NaN</td>\n",
              "      <td>NaN</td>\n",
              "      <td>NaN</td>\n",
              "    </tr>\n",
              "    <tr>\n",
              "      <th>135059</th>\n",
              "      <td>0</td>\n",
              "      <td>NaN</td>\n",
              "      <td>124.425093</td>\n",
              "      <td>NaN</td>\n",
              "      <td>NaN</td>\n",
              "      <td>NaN</td>\n",
              "      <td>NaN</td>\n",
              "      <td>2.0</td>\n",
              "      <td>NaN</td>\n",
              "      <td>NaN</td>\n",
              "      <td>...</td>\n",
              "      <td>NaN</td>\n",
              "      <td>NaN</td>\n",
              "      <td>NaN</td>\n",
              "      <td>NaN</td>\n",
              "      <td>NaN</td>\n",
              "      <td>NaN</td>\n",
              "      <td>NaN</td>\n",
              "      <td>NaN</td>\n",
              "      <td>NaN</td>\n",
              "      <td>NaN</td>\n",
              "    </tr>\n",
              "    <tr>\n",
              "      <th>135060</th>\n",
              "      <td>0</td>\n",
              "      <td>NaN</td>\n",
              "      <td>58.134728</td>\n",
              "      <td>NaN</td>\n",
              "      <td>NaN</td>\n",
              "      <td>NaN</td>\n",
              "      <td>NaN</td>\n",
              "      <td>2.0</td>\n",
              "      <td>NaN</td>\n",
              "      <td>NaN</td>\n",
              "      <td>...</td>\n",
              "      <td>NaN</td>\n",
              "      <td>NaN</td>\n",
              "      <td>NaN</td>\n",
              "      <td>NaN</td>\n",
              "      <td>NaN</td>\n",
              "      <td>NaN</td>\n",
              "      <td>NaN</td>\n",
              "      <td>NaN</td>\n",
              "      <td>NaN</td>\n",
              "      <td>NaN</td>\n",
              "    </tr>\n",
              "  </tbody>\n",
              "</table>\n",
              "<p>135061 rows × 197 columns</p>\n",
              "</div>\n",
              "      <button class=\"colab-df-convert\" onclick=\"convertToInteractive('df-597a485e-75d6-4bd7-96a0-9f62f1097457')\"\n",
              "              title=\"Convert this dataframe to an interactive table.\"\n",
              "              style=\"display:none;\">\n",
              "        \n",
              "  <svg xmlns=\"http://www.w3.org/2000/svg\" height=\"24px\"viewBox=\"0 0 24 24\"\n",
              "       width=\"24px\">\n",
              "    <path d=\"M0 0h24v24H0V0z\" fill=\"none\"/>\n",
              "    <path d=\"M18.56 5.44l.94 2.06.94-2.06 2.06-.94-2.06-.94-.94-2.06-.94 2.06-2.06.94zm-11 1L8.5 8.5l.94-2.06 2.06-.94-2.06-.94L8.5 2.5l-.94 2.06-2.06.94zm10 10l.94 2.06.94-2.06 2.06-.94-2.06-.94-.94-2.06-.94 2.06-2.06.94z\"/><path d=\"M17.41 7.96l-1.37-1.37c-.4-.4-.92-.59-1.43-.59-.52 0-1.04.2-1.43.59L10.3 9.45l-7.72 7.72c-.78.78-.78 2.05 0 2.83L4 21.41c.39.39.9.59 1.41.59.51 0 1.02-.2 1.41-.59l7.78-7.78 2.81-2.81c.8-.78.8-2.07 0-2.86zM5.41 20L4 18.59l7.72-7.72 1.47 1.35L5.41 20z\"/>\n",
              "  </svg>\n",
              "      </button>\n",
              "      \n",
              "  <style>\n",
              "    .colab-df-container {\n",
              "      display:flex;\n",
              "      flex-wrap:wrap;\n",
              "      gap: 12px;\n",
              "    }\n",
              "\n",
              "    .colab-df-convert {\n",
              "      background-color: #E8F0FE;\n",
              "      border: none;\n",
              "      border-radius: 50%;\n",
              "      cursor: pointer;\n",
              "      display: none;\n",
              "      fill: #1967D2;\n",
              "      height: 32px;\n",
              "      padding: 0 0 0 0;\n",
              "      width: 32px;\n",
              "    }\n",
              "\n",
              "    .colab-df-convert:hover {\n",
              "      background-color: #E2EBFA;\n",
              "      box-shadow: 0px 1px 2px rgba(60, 64, 67, 0.3), 0px 1px 3px 1px rgba(60, 64, 67, 0.15);\n",
              "      fill: #174EA6;\n",
              "    }\n",
              "\n",
              "    [theme=dark] .colab-df-convert {\n",
              "      background-color: #3B4455;\n",
              "      fill: #D2E3FC;\n",
              "    }\n",
              "\n",
              "    [theme=dark] .colab-df-convert:hover {\n",
              "      background-color: #434B5C;\n",
              "      box-shadow: 0px 1px 3px 1px rgba(0, 0, 0, 0.15);\n",
              "      filter: drop-shadow(0px 1px 2px rgba(0, 0, 0, 0.3));\n",
              "      fill: #FFFFFF;\n",
              "    }\n",
              "  </style>\n",
              "\n",
              "      <script>\n",
              "        const buttonEl =\n",
              "          document.querySelector('#df-597a485e-75d6-4bd7-96a0-9f62f1097457 button.colab-df-convert');\n",
              "        buttonEl.style.display =\n",
              "          google.colab.kernel.accessAllowed ? 'block' : 'none';\n",
              "\n",
              "        async function convertToInteractive(key) {\n",
              "          const element = document.querySelector('#df-597a485e-75d6-4bd7-96a0-9f62f1097457');\n",
              "          const dataTable =\n",
              "            await google.colab.kernel.invokeFunction('convertToInteractive',\n",
              "                                                     [key], {});\n",
              "          if (!dataTable) return;\n",
              "\n",
              "          const docLinkHtml = 'Like what you see? Visit the ' +\n",
              "            '<a target=\"_blank\" href=https://colab.research.google.com/notebooks/data_table.ipynb>data table notebook</a>'\n",
              "            + ' to learn more about interactive tables.';\n",
              "          element.innerHTML = '';\n",
              "          dataTable['output_type'] = 'display_data';\n",
              "          await google.colab.output.renderOutput(dataTable, element);\n",
              "          const docLink = document.createElement('div');\n",
              "          docLink.innerHTML = docLinkHtml;\n",
              "          element.appendChild(docLink);\n",
              "        }\n",
              "      </script>\n",
              "    </div>\n",
              "  </div>\n",
              "  "
            ]
          },
          "metadata": {},
          "execution_count": 190
        }
      ]
    },
    {
      "cell_type": "markdown",
      "source": [
        "### Группировка столбцов по категориям и видам"
      ],
      "metadata": {
        "id": "9QWCc2KgCW9L"
      },
      "id": "9QWCc2KgCW9L"
    },
    {
      "cell_type": "code",
      "execution_count": null,
      "id": "c691dd9d",
      "metadata": {
        "colab": {
          "base_uri": "https://localhost:8080/"
        },
        "id": "c691dd9d",
        "outputId": "56864178-8b6c-4ba1-a27e-13c768c1cc35"
      },
      "outputs": [
        {
          "output_type": "execute_result",
          "data": {
            "text/plain": [
              "{'Крупы и зерновые',\n",
              " 'Мясная гастрономия',\n",
              " 'Овощи - Фрукты',\n",
              " 'Птица и изделия из птицы',\n",
              " 'Рыба и рыбные изделия',\n",
              " 'Сыры'}"
            ]
          },
          "metadata": {},
          "execution_count": 191
        }
      ],
      "source": [
        "# категории товаров\n",
        "categories = set()\n",
        "for col in data.columns:\n",
        "    for n in range(1, 13):\n",
        "        if f'cnt_checks_{n}_' in col or f'rto_{n}_' in col or f'rto_std_{n}_' in col:\n",
        "            cat = col.split('_')[-1]\n",
        "            categories.add(cat)\n",
        "\n",
        "categories"
      ]
    },
    {
      "cell_type": "code",
      "execution_count": null,
      "id": "b3781bf6",
      "metadata": {
        "id": "b3781bf6"
      },
      "outputs": [],
      "source": [
        "# это все наши столбцы\n",
        "cols = {\n",
        "    'client_id': 'client_id',\n",
        "    'rto_n': [f'rto_{n}' for n in range(6, 13)],\n",
        "    'rto_n_category': [f'rto_{n}_{cat}' for n in range(6, 13) for cat in categories],\n",
        "    'rto_std_n': [f'rto_std_{n}' for n in range(6, 13)],\n",
        "    'rto_std_n_category': [f'rto_stddev_{n}_{cat}' for n in range(6, 13) for cat in categories],\n",
        "    'cnt_checks_n': [f'cnt_checks_{n}' for n in range(6, 13)],\n",
        "    'cnt_checks_n_category': [f'cnt_checks_{n}_{cat}' for n in range(6, 13) for cat in categories],\n",
        "    'unique_n': [f'cnt_unique_plu_{n}' for n in range(6, 13)],\n",
        "    'is_in_club': 'is_in_club'\n",
        "}"
      ]
    },
    {
      "cell_type": "code",
      "source": [
        "for cat in categories:\n",
        "  cols['rto_' + cat] = [f'rto_{n}_{cat}' for n in range(6, 13)]\n",
        "  cols['cnt_' + cat] = [f'cnt_checks_{n}_{cat}' for n in range(6, 13)]\n",
        "  cols['unique_' + cat] = [f'cnt_unique_plu_{n}_{cat}' for n in range(6, 13)]"
      ],
      "metadata": {
        "id": "MBt4PhB1wYnE"
      },
      "id": "MBt4PhB1wYnE",
      "execution_count": null,
      "outputs": []
    },
    {
      "cell_type": "code",
      "source": [
        "# for month in range(6, 13):\n",
        "#   cols[str(month)] = list(['rto_' + str(month), 'cnt_checks_' + str(month)])\n",
        "#   cols[str(month)] += list(['rto_' + str(month) + '_' + cat for cat in categories])\n",
        "#   cols[str(month)] += ['cnt_checks_' + str(month) + '_' + cat for cat in categories]"
      ],
      "metadata": {
        "id": "rjHMs0oyeAHg"
      },
      "id": "rjHMs0oyeAHg",
      "execution_count": null,
      "outputs": []
    },
    {
      "cell_type": "markdown",
      "id": "FUzGTdRV3ecq",
      "metadata": {
        "id": "FUzGTdRV3ecq"
      },
      "source": [
        "## Подготовка данных"
      ]
    },
    {
      "cell_type": "markdown",
      "id": "hulvTyuY3knw",
      "metadata": {
        "id": "hulvTyuY3knw"
      },
      "source": [
        "### Заполнение пропусков"
      ]
    },
    {
      "cell_type": "code",
      "source": [
        "# заполним пропуски 0 \n",
        "data = data.fillna(0)"
      ],
      "metadata": {
        "id": "GNBRopSj0v7u"
      },
      "id": "GNBRopSj0v7u",
      "execution_count": null,
      "outputs": []
    },
    {
      "cell_type": "markdown",
      "source": [
        "### Добавление новых признаков"
      ],
      "metadata": {
        "id": "GRVBrbV8kqam"
      },
      "id": "GRVBrbV8kqam"
    },
    {
      "cell_type": "markdown",
      "source": [
        "Добавим признак - суммарные расходы покупателя за семь месяцев"
      ],
      "metadata": {
        "id": "yZy6yrLrDitL"
      },
      "id": "yZy6yrLrDitL"
    },
    {
      "cell_type": "code",
      "source": [
        "data['rto_total'] = np.sum(data[cols['rto_n']], axis=1)"
      ],
      "metadata": {
        "id": "PqW0X7t_0yrm"
      },
      "id": "PqW0X7t_0yrm",
      "execution_count": null,
      "outputs": []
    },
    {
      "cell_type": "markdown",
      "source": [
        "Есть мелкие ошибки в суммах: заменим отрицательные значения нулевым"
      ],
      "metadata": {
        "id": "qA3F7UNgDWcz"
      },
      "id": "qA3F7UNgDWcz"
    },
    {
      "cell_type": "code",
      "source": [
        "for c in cols['rto_n'] + cols['rto_n_category']:\n",
        "    data[c] = data[c].apply(lambda x: max(0, x))"
      ],
      "metadata": {
        "id": "Jc75nBcY2Ou0"
      },
      "id": "Jc75nBcY2Ou0",
      "execution_count": null,
      "outputs": []
    },
    {
      "cell_type": "markdown",
      "source": [
        "Средний чек на овощи в декабре - Log"
      ],
      "metadata": {
        "id": "fO-8BbJon69O"
      },
      "id": "fO-8BbJon69O"
    },
    {
      "cell_type": "code",
      "source": [
        "plt.hist(np.log1p(data['rto_12_Овощи - Фрукты'] / data['cnt_checks_12_Овощи - Фрукты']), bins=100);"
      ],
      "metadata": {
        "colab": {
          "base_uri": "https://localhost:8080/",
          "height": 265
        },
        "id": "vBMX24WnlUiW",
        "outputId": "c3ad2ab3-8ab4-4537-f732-744d977d4f2a"
      },
      "id": "vBMX24WnlUiW",
      "execution_count": null,
      "outputs": [
        {
          "output_type": "display_data",
          "data": {
            "text/plain": [
              "<Figure size 432x288 with 1 Axes>"
            ],
            "image/png": "[encoded data removed]"
          },
          "metadata": {}
        }
      ]
    },
    {
      "cell_type": "code",
      "source": [
        "plt.hist(np.log1p(data['rto_6_Овощи - Фрукты'] / data['cnt_checks_6_Овощи - Фрукты']), bins=100);"
      ],
      "metadata": {
        "colab": {
          "base_uri": "https://localhost:8080/",
          "height": 265
        },
        "id": "t-hYCRcHgUU7",
        "outputId": "e238983c-b030-40eb-8c0d-a227e86e1228"
      },
      "id": "t-hYCRcHgUU7",
      "execution_count": null,
      "outputs": [
        {
          "output_type": "display_data",
          "data": {
            "text/plain": [
              "<Figure size 432x288 with 1 Axes>"
            ],
            "image/png": "[encoded data removed]"
          },
          "metadata": {}
        }
      ]
    },
    {
      "cell_type": "code",
      "source": [
        "# for cat in categories:\n",
        "#   for num in ['6', '7', '8', '9', '10', '11', '12']:\n",
        "#     data['log_avg_rto_' + num + '_' + cat] = np.log1p(data['rto_' + num + '_' + cat] / data['cnt_checks_' + num + '_' + cat])"
      ],
      "metadata": {
        "id": "zIeIZIIkmHQX"
      },
      "id": "zIeIZIIkmHQX",
      "execution_count": null,
      "outputs": []
    },
    {
      "cell_type": "code",
      "source": [
        "# cols['log_avg_rto'] = []\n",
        "\n",
        "# for cat in ['Овощи - Фрукты']:\n",
        "#   for num in ['6', '7', '8', '9', '10', '11', '12']:\n",
        "#     cols['log_avg_rto'] += ['log_avg_rto_' + num + '_' + cat]"
      ],
      "metadata": {
        "id": "k_QfwFL-mq5L"
      },
      "id": "k_QfwFL-mq5L",
      "execution_count": null,
      "outputs": []
    },
    {
      "cell_type": "markdown",
      "source": [
        "Доля покупок фруктов и овощей"
      ],
      "metadata": {
        "id": "N7u2im_soF-a"
      },
      "id": "N7u2im_soF-a"
    },
    {
      "cell_type": "code",
      "source": [
        "plt.hist(data['cnt_checks_12_Овощи - Фрукты'] / data['cnt_checks_12'], bins=50);"
      ],
      "metadata": {
        "colab": {
          "base_uri": "https://localhost:8080/",
          "height": 265
        },
        "id": "n7jzSRmlf5Gb",
        "outputId": "426b80f9-96df-4c4e-8c90-687036503c50"
      },
      "id": "n7jzSRmlf5Gb",
      "execution_count": null,
      "outputs": [
        {
          "output_type": "display_data",
          "data": {
            "text/plain": [
              "<Figure size 432x288 with 1 Axes>"
            ],
            "image/png": "[encoded data removed]"
          },
          "metadata": {}
        }
      ]
    },
    {
      "cell_type": "markdown",
      "source": [
        "Добавим доли в качестве признаков:"
      ],
      "metadata": {
        "id": "WymGC6irQctx"
      },
      "id": "WymGC6irQctx"
    },
    {
      "cell_type": "code",
      "source": [
        "for cat in categories:\n",
        "  for num in ['6', '7', '8', '9', '10', '11', '12']:\n",
        "    data['part_cnt_' + num + '_' + cat] = data['cnt_checks_' + num + '_' + cat] / data['cnt_checks_'  + num]"
      ],
      "metadata": {
        "id": "qUnJ2QB6oAtf"
      },
      "id": "qUnJ2QB6oAtf",
      "execution_count": null,
      "outputs": []
    },
    {
      "cell_type": "code",
      "execution_count": null,
      "id": "b1f04a13",
      "metadata": {
        "id": "b1f04a13"
      },
      "outputs": [],
      "source": [
        "cols['part_cnt'] = []\n",
        "\n",
        "for cat in ['Овощи - Фрукты']:\n",
        "  for num in ['6', '7', '8', '9', '10', '11', '12']:\n",
        "    cols['part_cnt'] += ['part_cnt_' + num + '_' + cat]"
      ]
    },
    {
      "cell_type": "code",
      "source": [
        "plt.hist(data['rto_12_Овощи - Фрукты'] / data['rto_12'], bins=50);"
      ],
      "metadata": {
        "colab": {
          "base_uri": "https://localhost:8080/",
          "height": 265
        },
        "id": "Pp2Vch9QQ0vn",
        "outputId": "1b34a511-9c38-469c-ce36-e758a32cc791"
      },
      "id": "Pp2Vch9QQ0vn",
      "execution_count": null,
      "outputs": [
        {
          "output_type": "display_data",
          "data": {
            "text/plain": [
              "<Figure size 432x288 with 1 Axes>"
            ],
            "image/png": "[encoded data removed]"
          },
          "metadata": {}
        }
      ]
    },
    {
      "cell_type": "code",
      "source": [
        "for cat in categories:\n",
        "  for num in ['6', '7', '8', '9', '10', '11', '12']:\n",
        "    data['part_rto_' + num + '_' + cat] = data['rto_' + num + '_' + cat] / data['rto_'  + num]"
      ],
      "metadata": {
        "id": "UlMQZHBWgEcc"
      },
      "id": "UlMQZHBWgEcc",
      "execution_count": null,
      "outputs": []
    },
    {
      "cell_type": "code",
      "source": [
        "cols['part_rto'] = []\n",
        "\n",
        "for cat in ['Овощи - Фрукты']:\n",
        "  for num in ['6', '7', '8', '9', '10', '11', '12']:\n",
        "    cols['part_rto'] += ['part_rto_' + num + '_' + cat]"
      ],
      "metadata": {
        "id": "3WFrRBsygEh0"
      },
      "id": "3WFrRBsygEh0",
      "execution_count": null,
      "outputs": []
    },
    {
      "cell_type": "code",
      "source": [
        "plt.hist(data['cnt_unique_plu_12_Овощи - Фрукты'] / data['cnt_unique_plu_12'], bins=50);"
      ],
      "metadata": {
        "colab": {
          "base_uri": "https://localhost:8080/",
          "height": 265
        },
        "id": "Fg0ULAOpjJ3X",
        "outputId": "18fcb793-1440-43a1-d348-b0fb80a6004b"
      },
      "id": "Fg0ULAOpjJ3X",
      "execution_count": null,
      "outputs": [
        {
          "output_type": "display_data",
          "data": {
            "text/plain": [
              "<Figure size 432x288 with 1 Axes>"
            ],
            "image/png": "[encoded data removed]"
          },
          "metadata": {}
        }
      ]
    },
    {
      "cell_type": "code",
      "source": [
        "for cat in categories:\n",
        "  for num in ['6', '7', '8', '9', '10', '11', '12']:\n",
        "    data['part_unique_' + num + '_' + cat] = data['cnt_unique_plu_' + num + '_' + cat] / data['cnt_unique_plu_'  + num]"
      ],
      "metadata": {
        "id": "VJHQQoLpjJ8E"
      },
      "id": "VJHQQoLpjJ8E",
      "execution_count": null,
      "outputs": []
    },
    {
      "cell_type": "code",
      "source": [
        "cols['part_unique'] = []\n",
        "\n",
        "for cat in ['Овощи - Фрукты']:\n",
        "  for num in ['6', '7', '8', '9', '10', '11', '12']:\n",
        "    cols['part_unique'] += ['part_unique_' + num + '_' + cat]"
      ],
      "metadata": {
        "id": "TjQsufbIjKBX"
      },
      "id": "TjQsufbIjKBX",
      "execution_count": null,
      "outputs": []
    },
    {
      "cell_type": "code",
      "source": [
        "data.replace([np.inf, -np.inf], np.nan, inplace=True)\n",
        "data = data.fillna(0)"
      ],
      "metadata": {
        "id": "pHVSrjr9qgqK"
      },
      "id": "pHVSrjr9qgqK",
      "execution_count": null,
      "outputs": []
    },
    {
      "cell_type": "code",
      "source": [
        "data.shape[0]"
      ],
      "metadata": {
        "colab": {
          "base_uri": "https://localhost:8080/"
        },
        "id": "1boAECP-Z5i6",
        "outputId": "ebab11c2-28b1-44d1-f43c-cb6850fa09a2"
      },
      "id": "1boAECP-Z5i6",
      "execution_count": null,
      "outputs": [
        {
          "output_type": "execute_result",
          "data": {
            "text/plain": [
              "135061"
            ]
          },
          "metadata": {},
          "execution_count": 212
        }
      ]
    },
    {
      "cell_type": "code",
      "source": [
        "data"
      ],
      "metadata": {
        "colab": {
          "base_uri": "https://localhost:8080/",
          "height": 522
        },
        "id": "edARCk-vaVeJ",
        "outputId": "15ce174c-a040-4a58-f0cc-7cebc8ea7245"
      },
      "id": "edARCk-vaVeJ",
      "execution_count": null,
      "outputs": [
        {
          "output_type": "execute_result",
          "data": {
            "text/plain": [
              "        is_in_club  cnt_checks_10_Мясная гастрономия  rto_std_11  \\\n",
              "0                0                               0.0  300.021342   \n",
              "1                0                               1.0  519.031384   \n",
              "2                0                               0.0  131.165948   \n",
              "3                0                               2.0    0.000000   \n",
              "4                0                               1.0  856.579037   \n",
              "...            ...                               ...         ...   \n",
              "135056           0                               0.0  196.068192   \n",
              "135057           0                               1.0  402.034438   \n",
              "135058           0                               0.0  512.741089   \n",
              "135059           0                               0.0  124.425093   \n",
              "135060           0                               0.0   58.134728   \n",
              "\n",
              "               rto_6  rto_12_Сыры  rto_12_Птица и изделия из птицы  \\\n",
              "0        2418.116714   853.016746                         0.000000   \n",
              "1       19899.211736     0.000000                         0.000000   \n",
              "2         411.347689     0.000000                         0.000000   \n",
              "3       35043.643030     0.000000                         0.000000   \n",
              "4        8992.835847     0.000000                         0.000000   \n",
              "...              ...          ...                              ...   \n",
              "135056      0.000000     0.000000                         0.000000   \n",
              "135057      0.000000   638.046313                       241.225584   \n",
              "135058      0.000000   283.611949                         0.000000   \n",
              "135059      0.000000     0.000000                         0.000000   \n",
              "135060      0.000000     0.000000                         0.000000   \n",
              "\n",
              "               rto_8  cnt_checks_9  rto_9_Мясная гастрономия  \\\n",
              "0        5092.170392           3.0                  0.000000   \n",
              "1       32392.636661           7.0                  0.000000   \n",
              "2        1416.656061           0.0                  0.000000   \n",
              "3        8460.544337           7.0               1425.707450   \n",
              "4        4914.387768          14.0                663.142041   \n",
              "...              ...           ...                       ...   \n",
              "135056      0.000000           3.0                  0.000000   \n",
              "135057      0.000000           3.0                109.331686   \n",
              "135058      0.000000           2.0                  0.000000   \n",
              "135059      0.000000           2.0                  0.000000   \n",
              "135060      0.000000           2.0                  0.000000   \n",
              "\n",
              "        rto_10_Птица и изделия из птицы  ...  \\\n",
              "0                              0.000000  ...   \n",
              "1                            176.866878  ...   \n",
              "2                              0.000000  ...   \n",
              "3                            237.934884  ...   \n",
              "4                              0.000000  ...   \n",
              "...                                 ...  ...   \n",
              "135056                         0.000000  ...   \n",
              "135057                         0.000000  ...   \n",
              "135058                         0.000000  ...   \n",
              "135059                         0.000000  ...   \n",
              "135060                         0.000000  ...   \n",
              "\n",
              "        part_unique_10_Птица и изделия из птицы  \\\n",
              "0                                      0.000000   \n",
              "1                                      0.014286   \n",
              "2                                      0.000000   \n",
              "3                                      0.071429   \n",
              "4                                      0.000000   \n",
              "...                                         ...   \n",
              "135056                                 0.000000   \n",
              "135057                                 0.000000   \n",
              "135058                                 0.000000   \n",
              "135059                                 0.000000   \n",
              "135060                                 0.000000   \n",
              "\n",
              "        part_unique_11_Птица и изделия из птицы  \\\n",
              "0                                      0.000000   \n",
              "1                                      0.050000   \n",
              "2                                      0.000000   \n",
              "3                                      0.000000   \n",
              "4                                      0.022222   \n",
              "...                                         ...   \n",
              "135056                                 0.000000   \n",
              "135057                                 0.026316   \n",
              "135058                                 0.000000   \n",
              "135059                                 0.000000   \n",
              "135060                                 0.000000   \n",
              "\n",
              "        part_unique_12_Птица и изделия из птицы  \\\n",
              "0                                      0.000000   \n",
              "1                                      0.000000   \n",
              "2                                      0.000000   \n",
              "3                                      0.000000   \n",
              "4                                      0.000000   \n",
              "...                                         ...   \n",
              "135056                                 0.000000   \n",
              "135057                                 0.012987   \n",
              "135058                                 0.000000   \n",
              "135059                                 0.000000   \n",
              "135060                                 0.000000   \n",
              "\n",
              "        part_unique_6_Крупы и зерновые  part_unique_7_Крупы и зерновые  \\\n",
              "0                             0.055556                             0.0   \n",
              "1                             0.000000                             0.0   \n",
              "2                             0.000000                             0.0   \n",
              "3                             0.000000                             0.0   \n",
              "4                             0.000000                             0.0   \n",
              "...                                ...                             ...   \n",
              "135056                        0.000000                             0.0   \n",
              "135057                        0.000000                             0.0   \n",
              "135058                        0.000000                             0.0   \n",
              "135059                        0.000000                             0.0   \n",
              "135060                        0.000000                             0.0   \n",
              "\n",
              "        part_unique_8_Крупы и зерновые  part_unique_9_Крупы и зерновые  \\\n",
              "0                                  0.0                         0.00000   \n",
              "1                                  0.0                         0.03125   \n",
              "2                                  0.0                         0.00000   \n",
              "3                                  0.0                         0.00000   \n",
              "4                                  0.0                         0.00000   \n",
              "...                                ...                             ...   \n",
              "135056                             0.0                         0.00000   \n",
              "135057                             0.0                         0.04000   \n",
              "135058                             0.0                         0.00000   \n",
              "135059                             0.0                         0.00000   \n",
              "135060                             0.0                         0.00000   \n",
              "\n",
              "        part_unique_10_Крупы и зерновые  part_unique_11_Крупы и зерновые  \\\n",
              "0                              0.000000                              0.0   \n",
              "1                              0.000000                              0.0   \n",
              "2                              0.000000                              0.0   \n",
              "3                              0.000000                              0.0   \n",
              "4                              0.000000                              0.0   \n",
              "...                                 ...                              ...   \n",
              "135056                         0.000000                              0.0   \n",
              "135057                         0.026667                              0.0   \n",
              "135058                         0.000000                              0.0   \n",
              "135059                         0.000000                              0.0   \n",
              "135060                         0.000000                              0.0   \n",
              "\n",
              "        part_unique_12_Крупы и зерновые  \n",
              "0                                   0.0  \n",
              "1                                   0.0  \n",
              "2                                   0.0  \n",
              "3                                   0.0  \n",
              "4                                   0.0  \n",
              "...                                 ...  \n",
              "135056                              0.0  \n",
              "135057                              0.0  \n",
              "135058                              0.0  \n",
              "135059                              0.0  \n",
              "135060                              0.0  \n",
              "\n",
              "[135061 rows x 324 columns]"
            ],
            "text/html": [
              "\n",
              "  <div id=\"df-08b33e09-01d7-4fd2-a10d-d9f2f48136eb\">\n",
              "    <div class=\"colab-df-container\">\n",
              "      <div>\n",
              "<style scoped>\n",
              "    .dataframe tbody tr th:only-of-type {\n",
              "        vertical-align: middle;\n",
              "    }\n",
              "\n",
              "    .dataframe tbody tr th {\n",
              "        vertical-align: top;\n",
              "    }\n",
              "\n",
              "    .dataframe thead th {\n",
              "        text-align: right;\n",
              "    }\n",
              "</style>\n",
              "<table border=\"1\" class=\"dataframe\">\n",
              "  <thead>\n",
              "    <tr style=\"text-align: right;\">\n",
              "      <th></th>\n",
              "      <th>is_in_club</th>\n",
              "      <th>cnt_checks_10_Мясная гастрономия</th>\n",
              "      <th>rto_std_11</th>\n",
              "      <th>rto_6</th>\n",
              "      <th>rto_12_Сыры</th>\n",
              "      <th>rto_12_Птица и изделия из птицы</th>\n",
              "      <th>rto_8</th>\n",
              "      <th>cnt_checks_9</th>\n",
              "      <th>rto_9_Мясная гастрономия</th>\n",
              "      <th>rto_10_Птица и изделия из птицы</th>\n",
              "      <th>...</th>\n",
              "      <th>part_unique_10_Птица и изделия из птицы</th>\n",
              "      <th>part_unique_11_Птица и изделия из птицы</th>\n",
              "      <th>part_unique_12_Птица и изделия из птицы</th>\n",
              "      <th>part_unique_6_Крупы и зерновые</th>\n",
              "      <th>part_unique_7_Крупы и зерновые</th>\n",
              "      <th>part_unique_8_Крупы и зерновые</th>\n",
              "      <th>part_unique_9_Крупы и зерновые</th>\n",
              "      <th>part_unique_10_Крупы и зерновые</th>\n",
              "      <th>part_unique_11_Крупы и зерновые</th>\n",
              "      <th>part_unique_12_Крупы и зерновые</th>\n",
              "    </tr>\n",
              "  </thead>\n",
              "  <tbody>\n",
              "    <tr>\n",
              "      <th>0</th>\n",
              "      <td>0</td>\n",
              "      <td>0.0</td>\n",
              "      <td>300.021342</td>\n",
              "      <td>2418.116714</td>\n",
              "      <td>853.016746</td>\n",
              "      <td>0.000000</td>\n",
              "      <td>5092.170392</td>\n",
              "      <td>3.0</td>\n",
              "      <td>0.000000</td>\n",
              "      <td>0.000000</td>\n",
              "      <td>...</td>\n",
              "      <td>0.000000</td>\n",
              "      <td>0.000000</td>\n",
              "      <td>0.000000</td>\n",
              "      <td>0.055556</td>\n",
              "      <td>0.0</td>\n",
              "      <td>0.0</td>\n",
              "      <td>0.00000</td>\n",
              "      <td>0.000000</td>\n",
              "      <td>0.0</td>\n",
              "      <td>0.0</td>\n",
              "    </tr>\n",
              "    <tr>\n",
              "      <th>1</th>\n",
              "      <td>0</td>\n",
              "      <td>1.0</td>\n",
              "      <td>519.031384</td>\n",
              "      <td>19899.211736</td>\n",
              "      <td>0.000000</td>\n",
              "      <td>0.000000</td>\n",
              "      <td>32392.636661</td>\n",
              "      <td>7.0</td>\n",
              "      <td>0.000000</td>\n",
              "      <td>176.866878</td>\n",
              "      <td>...</td>\n",
              "      <td>0.014286</td>\n",
              "      <td>0.050000</td>\n",
              "      <td>0.000000</td>\n",
              "      <td>0.000000</td>\n",
              "      <td>0.0</td>\n",
              "      <td>0.0</td>\n",
              "      <td>0.03125</td>\n",
              "      <td>0.000000</td>\n",
              "      <td>0.0</td>\n",
              "      <td>0.0</td>\n",
              "    </tr>\n",
              "    <tr>\n",
              "      <th>2</th>\n",
              "      <td>0</td>\n",
              "      <td>0.0</td>\n",
              "      <td>131.165948</td>\n",
              "      <td>411.347689</td>\n",
              "      <td>0.000000</td>\n",
              "      <td>0.000000</td>\n",
              "      <td>1416.656061</td>\n",
              "      <td>0.0</td>\n",
              "      <td>0.000000</td>\n",
              "      <td>0.000000</td>\n",
              "      <td>...</td>\n",
              "      <td>0.000000</td>\n",
              "      <td>0.000000</td>\n",
              "      <td>0.000000</td>\n",
              "      <td>0.000000</td>\n",
              "      <td>0.0</td>\n",
              "      <td>0.0</td>\n",
              "      <td>0.00000</td>\n",
              "      <td>0.000000</td>\n",
              "      <td>0.0</td>\n",
              "      <td>0.0</td>\n",
              "    </tr>\n",
              "    <tr>\n",
              "      <th>3</th>\n",
              "      <td>0</td>\n",
              "      <td>2.0</td>\n",
              "      <td>0.000000</td>\n",
              "      <td>35043.643030</td>\n",
              "      <td>0.000000</td>\n",
              "      <td>0.000000</td>\n",
              "      <td>8460.544337</td>\n",
              "      <td>7.0</td>\n",
              "      <td>1425.707450</td>\n",
              "      <td>237.934884</td>\n",
              "      <td>...</td>\n",
              "      <td>0.071429</td>\n",
              "      <td>0.000000</td>\n",
              "      <td>0.000000</td>\n",
              "      <td>0.000000</td>\n",
              "      <td>0.0</td>\n",
              "      <td>0.0</td>\n",
              "      <td>0.00000</td>\n",
              "      <td>0.000000</td>\n",
              "      <td>0.0</td>\n",
              "      <td>0.0</td>\n",
              "    </tr>\n",
              "    <tr>\n",
              "      <th>4</th>\n",
              "      <td>0</td>\n",
              "      <td>1.0</td>\n",
              "      <td>856.579037</td>\n",
              "      <td>8992.835847</td>\n",
              "      <td>0.000000</td>\n",
              "      <td>0.000000</td>\n",
              "      <td>4914.387768</td>\n",
              "      <td>14.0</td>\n",
              "      <td>663.142041</td>\n",
              "      <td>0.000000</td>\n",
              "      <td>...</td>\n",
              "      <td>0.000000</td>\n",
              "      <td>0.022222</td>\n",
              "      <td>0.000000</td>\n",
              "      <td>0.000000</td>\n",
              "      <td>0.0</td>\n",
              "      <td>0.0</td>\n",
              "      <td>0.00000</td>\n",
              "      <td>0.000000</td>\n",
              "      <td>0.0</td>\n",
              "      <td>0.0</td>\n",
              "    </tr>\n",
              "    <tr>\n",
              "      <th>...</th>\n",
              "      <td>...</td>\n",
              "      <td>...</td>\n",
              "      <td>...</td>\n",
              "      <td>...</td>\n",
              "      <td>...</td>\n",
              "      <td>...</td>\n",
              "      <td>...</td>\n",
              "      <td>...</td>\n",
              "      <td>...</td>\n",
              "      <td>...</td>\n",
              "      <td>...</td>\n",
              "      <td>...</td>\n",
              "      <td>...</td>\n",
              "      <td>...</td>\n",
              "      <td>...</td>\n",
              "      <td>...</td>\n",
              "      <td>...</td>\n",
              "      <td>...</td>\n",
              "      <td>...</td>\n",
              "      <td>...</td>\n",
              "      <td>...</td>\n",
              "    </tr>\n",
              "    <tr>\n",
              "      <th>135056</th>\n",
              "      <td>0</td>\n",
              "      <td>0.0</td>\n",
              "      <td>196.068192</td>\n",
              "      <td>0.000000</td>\n",
              "      <td>0.000000</td>\n",
              "      <td>0.000000</td>\n",
              "      <td>0.000000</td>\n",
              "      <td>3.0</td>\n",
              "      <td>0.000000</td>\n",
              "      <td>0.000000</td>\n",
              "      <td>...</td>\n",
              "      <td>0.000000</td>\n",
              "      <td>0.000000</td>\n",
              "      <td>0.000000</td>\n",
              "      <td>0.000000</td>\n",
              "      <td>0.0</td>\n",
              "      <td>0.0</td>\n",
              "      <td>0.00000</td>\n",
              "      <td>0.000000</td>\n",
              "      <td>0.0</td>\n",
              "      <td>0.0</td>\n",
              "    </tr>\n",
              "    <tr>\n",
              "      <th>135057</th>\n",
              "      <td>0</td>\n",
              "      <td>1.0</td>\n",
              "      <td>402.034438</td>\n",
              "      <td>0.000000</td>\n",
              "      <td>638.046313</td>\n",
              "      <td>241.225584</td>\n",
              "      <td>0.000000</td>\n",
              "      <td>3.0</td>\n",
              "      <td>109.331686</td>\n",
              "      <td>0.000000</td>\n",
              "      <td>...</td>\n",
              "      <td>0.000000</td>\n",
              "      <td>0.026316</td>\n",
              "      <td>0.012987</td>\n",
              "      <td>0.000000</td>\n",
              "      <td>0.0</td>\n",
              "      <td>0.0</td>\n",
              "      <td>0.04000</td>\n",
              "      <td>0.026667</td>\n",
              "      <td>0.0</td>\n",
              "      <td>0.0</td>\n",
              "    </tr>\n",
              "    <tr>\n",
              "      <th>135058</th>\n",
              "      <td>0</td>\n",
              "      <td>0.0</td>\n",
              "      <td>512.741089</td>\n",
              "      <td>0.000000</td>\n",
              "      <td>283.611949</td>\n",
              "      <td>0.000000</td>\n",
              "      <td>0.000000</td>\n",
              "      <td>2.0</td>\n",
              "      <td>0.000000</td>\n",
              "      <td>0.000000</td>\n",
              "      <td>...</td>\n",
              "      <td>0.000000</td>\n",
              "      <td>0.000000</td>\n",
              "      <td>0.000000</td>\n",
              "      <td>0.000000</td>\n",
              "      <td>0.0</td>\n",
              "      <td>0.0</td>\n",
              "      <td>0.00000</td>\n",
              "      <td>0.000000</td>\n",
              "      <td>0.0</td>\n",
              "      <td>0.0</td>\n",
              "    </tr>\n",
              "    <tr>\n",
              "      <th>135059</th>\n",
              "      <td>0</td>\n",
              "      <td>0.0</td>\n",
              "      <td>124.425093</td>\n",
              "      <td>0.000000</td>\n",
              "      <td>0.000000</td>\n",
              "      <td>0.000000</td>\n",
              "      <td>0.000000</td>\n",
              "      <td>2.0</td>\n",
              "      <td>0.000000</td>\n",
              "      <td>0.000000</td>\n",
              "      <td>...</td>\n",
              "      <td>0.000000</td>\n",
              "      <td>0.000000</td>\n",
              "      <td>0.000000</td>\n",
              "      <td>0.000000</td>\n",
              "      <td>0.0</td>\n",
              "      <td>0.0</td>\n",
              "      <td>0.00000</td>\n",
              "      <td>0.000000</td>\n",
              "      <td>0.0</td>\n",
              "      <td>0.0</td>\n",
              "    </tr>\n",
              "    <tr>\n",
              "      <th>135060</th>\n",
              "      <td>0</td>\n",
              "      <td>0.0</td>\n",
              "      <td>58.134728</td>\n",
              "      <td>0.000000</td>\n",
              "      <td>0.000000</td>\n",
              "      <td>0.000000</td>\n",
              "      <td>0.000000</td>\n",
              "      <td>2.0</td>\n",
              "      <td>0.000000</td>\n",
              "      <td>0.000000</td>\n",
              "      <td>...</td>\n",
              "      <td>0.000000</td>\n",
              "      <td>0.000000</td>\n",
              "      <td>0.000000</td>\n",
              "      <td>0.000000</td>\n",
              "      <td>0.0</td>\n",
              "      <td>0.0</td>\n",
              "      <td>0.00000</td>\n",
              "      <td>0.000000</td>\n",
              "      <td>0.0</td>\n",
              "      <td>0.0</td>\n",
              "    </tr>\n",
              "  </tbody>\n",
              "</table>\n",
              "<p>135061 rows × 324 columns</p>\n",
              "</div>\n",
              "      <button class=\"colab-df-convert\" onclick=\"convertToInteractive('df-08b33e09-01d7-4fd2-a10d-d9f2f48136eb')\"\n",
              "              title=\"Convert this dataframe to an interactive table.\"\n",
              "              style=\"display:none;\">\n",
              "        \n",
              "  <svg xmlns=\"http://www.w3.org/2000/svg\" height=\"24px\"viewBox=\"0 0 24 24\"\n",
              "       width=\"24px\">\n",
              "    <path d=\"M0 0h24v24H0V0z\" fill=\"none\"/>\n",
              "    <path d=\"M18.56 5.44l.94 2.06.94-2.06 2.06-.94-2.06-.94-.94-2.06-.94 2.06-2.06.94zm-11 1L8.5 8.5l.94-2.06 2.06-.94-2.06-.94L8.5 2.5l-.94 2.06-2.06.94zm10 10l.94 2.06.94-2.06 2.06-.94-2.06-.94-.94-2.06-.94 2.06-2.06.94z\"/><path d=\"M17.41 7.96l-1.37-1.37c-.4-.4-.92-.59-1.43-.59-.52 0-1.04.2-1.43.59L10.3 9.45l-7.72 7.72c-.78.78-.78 2.05 0 2.83L4 21.41c.39.39.9.59 1.41.59.51 0 1.02-.2 1.41-.59l7.78-7.78 2.81-2.81c.8-.78.8-2.07 0-2.86zM5.41 20L4 18.59l7.72-7.72 1.47 1.35L5.41 20z\"/>\n",
              "  </svg>\n",
              "      </button>\n",
              "      \n",
              "  <style>\n",
              "    .colab-df-container {\n",
              "      display:flex;\n",
              "      flex-wrap:wrap;\n",
              "      gap: 12px;\n",
              "    }\n",
              "\n",
              "    .colab-df-convert {\n",
              "      background-color: #E8F0FE;\n",
              "      border: none;\n",
              "      border-radius: 50%;\n",
              "      cursor: pointer;\n",
              "      display: none;\n",
              "      fill: #1967D2;\n",
              "      height: 32px;\n",
              "      padding: 0 0 0 0;\n",
              "      width: 32px;\n",
              "    }\n",
              "\n",
              "    .colab-df-convert:hover {\n",
              "      background-color: #E2EBFA;\n",
              "      box-shadow: 0px 1px 2px rgba(60, 64, 67, 0.3), 0px 1px 3px 1px rgba(60, 64, 67, 0.15);\n",
              "      fill: #174EA6;\n",
              "    }\n",
              "\n",
              "    [theme=dark] .colab-df-convert {\n",
              "      background-color: #3B4455;\n",
              "      fill: #D2E3FC;\n",
              "    }\n",
              "\n",
              "    [theme=dark] .colab-df-convert:hover {\n",
              "      background-color: #434B5C;\n",
              "      box-shadow: 0px 1px 3px 1px rgba(0, 0, 0, 0.15);\n",
              "      filter: drop-shadow(0px 1px 2px rgba(0, 0, 0, 0.3));\n",
              "      fill: #FFFFFF;\n",
              "    }\n",
              "  </style>\n",
              "\n",
              "      <script>\n",
              "        const buttonEl =\n",
              "          document.querySelector('#df-08b33e09-01d7-4fd2-a10d-d9f2f48136eb button.colab-df-convert');\n",
              "        buttonEl.style.display =\n",
              "          google.colab.kernel.accessAllowed ? 'block' : 'none';\n",
              "\n",
              "        async function convertToInteractive(key) {\n",
              "          const element = document.querySelector('#df-08b33e09-01d7-4fd2-a10d-d9f2f48136eb');\n",
              "          const dataTable =\n",
              "            await google.colab.kernel.invokeFunction('convertToInteractive',\n",
              "                                                     [key], {});\n",
              "          if (!dataTable) return;\n",
              "\n",
              "          const docLinkHtml = 'Like what you see? Visit the ' +\n",
              "            '<a target=\"_blank\" href=https://colab.research.google.com/notebooks/data_table.ipynb>data table notebook</a>'\n",
              "            + ' to learn more about interactive tables.';\n",
              "          element.innerHTML = '';\n",
              "          dataTable['output_type'] = 'display_data';\n",
              "          await google.colab.output.renderOutput(dataTable, element);\n",
              "          const docLink = document.createElement('div');\n",
              "          docLink.innerHTML = docLinkHtml;\n",
              "          element.appendChild(docLink);\n",
              "        }\n",
              "      </script>\n",
              "    </div>\n",
              "  </div>\n",
              "  "
            ]
          },
          "metadata": {},
          "execution_count": 213
        }
      ]
    },
    {
      "cell_type": "markdown",
      "source": [
        "Прологарифмируем столбцы \"про расходы\", имеющие логнормальное распределение:"
      ],
      "metadata": {
        "id": "thP14nZKP-SH"
      },
      "id": "thP14nZKP-SH"
    },
    {
      "cell_type": "code",
      "source": [
        "for c in cols['rto_n'] + cols['rto_n_category']:\n",
        "  data[c] = np.log1p(data[c])"
      ],
      "metadata": {
        "id": "mh6NEN9ttagi"
      },
      "id": "mh6NEN9ttagi",
      "execution_count": null,
      "outputs": []
    },
    {
      "cell_type": "markdown",
      "id": "BEjpffGn32hG",
      "metadata": {
        "id": "BEjpffGn32hG"
      },
      "source": [
        "### Разделение на тренировочную и тестовую выборки"
      ]
    },
    {
      "cell_type": "code",
      "source": [
        "categories"
      ],
      "metadata": {
        "colab": {
          "base_uri": "https://localhost:8080/"
        },
        "id": "oz6gA3_EvB_n",
        "outputId": "df3a3068-7cda-4391-f35c-f95a057bfe8d"
      },
      "id": "oz6gA3_EvB_n",
      "execution_count": null,
      "outputs": [
        {
          "output_type": "execute_result",
          "data": {
            "text/plain": [
              "{'Крупы и зерновые',\n",
              " 'Мясная гастрономия',\n",
              " 'Овощи - Фрукты',\n",
              " 'Птица и изделия из птицы',\n",
              " 'Рыба и рыбные изделия',\n",
              " 'Сыры'}"
            ]
          },
          "metadata": {},
          "execution_count": 215
        }
      ]
    },
    {
      "cell_type": "code",
      "source": [
        "cols['needed'] = cols['rto_n'] + cols['part_cnt'] + cols['unique_n']\n",
        "cols['needed']"
      ],
      "metadata": {
        "colab": {
          "base_uri": "https://localhost:8080/"
        },
        "id": "WjS8Jka_ux5t",
        "outputId": "ccae1df0-88a3-48bb-8bd9-adc89a7030c2"
      },
      "id": "WjS8Jka_ux5t",
      "execution_count": null,
      "outputs": [
        {
          "output_type": "execute_result",
          "data": {
            "text/plain": [
              "['rto_6',\n",
              " 'rto_7',\n",
              " 'rto_8',\n",
              " 'rto_9',\n",
              " 'rto_10',\n",
              " 'rto_11',\n",
              " 'rto_12',\n",
              " 'part_cnt_6_Овощи - Фрукты',\n",
              " 'part_cnt_7_Овощи - Фрукты',\n",
              " 'part_cnt_8_Овощи - Фрукты',\n",
              " 'part_cnt_9_Овощи - Фрукты',\n",
              " 'part_cnt_10_Овощи - Фрукты',\n",
              " 'part_cnt_11_Овощи - Фрукты',\n",
              " 'part_cnt_12_Овощи - Фрукты',\n",
              " 'cnt_unique_plu_6',\n",
              " 'cnt_unique_plu_7',\n",
              " 'cnt_unique_plu_8',\n",
              " 'cnt_unique_plu_9',\n",
              " 'cnt_unique_plu_10',\n",
              " 'cnt_unique_plu_11',\n",
              " 'cnt_unique_plu_12']"
            ]
          },
          "metadata": {},
          "execution_count": 216
        }
      ]
    },
    {
      "cell_type": "code",
      "execution_count": null,
      "id": "RUpvqlP04Bmu",
      "metadata": {
        "id": "RUpvqlP04Bmu"
      },
      "outputs": [],
      "source": [
        "y = data['is_in_club']\n",
        "X = data[cols['needed']]\n",
        "X_train, X_test, y_train, y_test = train_test_split(X, y, test_size=0.3, random_state=42, shuffle=True, stratify=y)"
      ]
    },
    {
      "cell_type": "markdown",
      "id": "Gb2Ro83BgqZn",
      "metadata": {
        "id": "Gb2Ro83BgqZn"
      },
      "source": [
        "Посмотрим на распределение классов в двух выброках"
      ]
    },
    {
      "cell_type": "code",
      "execution_count": null,
      "id": "lEhjC66w30yV",
      "metadata": {
        "colab": {
          "base_uri": "https://localhost:8080/"
        },
        "id": "lEhjC66w30yV",
        "outputId": "5046c601-87c6-4ce9-8dea-b3a37e6356bc"
      },
      "outputs": [
        {
          "output_type": "execute_result",
          "data": {
            "text/plain": [
              "0    0.908051\n",
              "1    0.091949\n",
              "Name: is_in_club, dtype: float64"
            ]
          },
          "metadata": {},
          "execution_count": 218
        }
      ],
      "source": [
        "y_train.value_counts(normalize=True)"
      ]
    },
    {
      "cell_type": "code",
      "execution_count": null,
      "id": "Zi7xdGso38Oh",
      "metadata": {
        "colab": {
          "base_uri": "https://localhost:8080/"
        },
        "id": "Zi7xdGso38Oh",
        "outputId": "34306836-b19d-4f7f-dc79-930a636809c6"
      },
      "outputs": [
        {
          "output_type": "execute_result",
          "data": {
            "text/plain": [
              "0    0.908068\n",
              "1    0.091932\n",
              "Name: is_in_club, dtype: float64"
            ]
          },
          "metadata": {},
          "execution_count": 219
        }
      ],
      "source": [
        "y_test.value_counts(normalize=True)"
      ]
    },
    {
      "cell_type": "markdown",
      "id": "fLHuzAD63sXs",
      "metadata": {
        "id": "fLHuzAD63sXs"
      },
      "source": [
        "### Масштабирование данных "
      ]
    },
    {
      "cell_type": "markdown",
      "id": "29a8c7b8",
      "metadata": {
        "id": "29a8c7b8"
      },
      "source": [
        "Данные надо отмасштабировать, но есть один нюанс: некоторые группы колонок находятся в одном масштабе, а значит, нам необходимо оставить их сомасштабными друг другу. \n",
        "\n",
        "Колонки `rto` представляют из себя данные в рублях, а колонки `cnt` - в штуках. \n",
        "Колонки `client_id` и `is_in_club` трогать не будем, тк первая - это айдишник не участвующий в обучении, а вторая уже масштабирована (принимает значения 0 или 1) и вообще является таргетом.\n",
        "\n",
        "Чтобы данные внутри каждой из групп оставались сомасштабными друг другу предлагается сделать следующее: обучить скейлер на одной колонке группы, после чего трансформировать все колонки группы уже предобученным скейлером."
      ]
    },
    {
      "cell_type": "code",
      "execution_count": null,
      "id": "62873089",
      "metadata": {
        "id": "62873089"
      },
      "outputs": [],
      "source": [
        "# функция для масштабирования групп столбцов\n",
        "def scale_data(scaler, data, transform_cols) -> np.ndarray:\n",
        "    \"\"\"\n",
        "    :param scaler: sklearn.preprocessing.StandardScaler object\n",
        "    :param data: pd.DataFrame (dataset to scale)\n",
        "    :param transform_cols: list of string column names (transforming columns with a fitted scaler)\n",
        "    \"\"\"\n",
        "    \n",
        "    new_data = np.nan\n",
        "    for col in transform_cols:\n",
        "        new_col = scaler.transform(data[col].to_numpy().reshape(-1, 1))\n",
        "        if new_data is np.nan:\n",
        "            new_data = new_col\n",
        "        else:\n",
        "            new_data = np.concatenate((new_data, new_col), axis=1)\n",
        "    \n",
        "    return new_data"
      ]
    },
    {
      "cell_type": "code",
      "execution_count": null,
      "id": "91429e3e",
      "metadata": {
        "id": "91429e3e"
      },
      "outputs": [],
      "source": [
        "# определяем масштабируемые колонки\n",
        "rto_columns = cols['rto_n']\n",
        "# масштабируем их с помощью функции\n",
        "rto_scaler = StandardScaler()\n",
        "rto_scaler.fit(X_train['rto_12'].to_numpy().reshape(-1, 1))\n",
        "\n",
        "rto_scaled = scale_data(rto_scaler, X_train, rto_columns)\n",
        "rto_scaled_test = scale_data(rto_scaler, X_test, rto_columns)"
      ]
    },
    {
      "cell_type": "code",
      "source": [
        "# определяем второй список масштабируемых колонок\n",
        "# # cnt_columns = cols['cnt_checks_n'] + cols['cnt_checks_n_category']\n",
        "# cnt_columns = cols['cnt_checks_n']\n",
        "# # скейлим их с помощью функции\n",
        "# cnt_scaler = StandardScaler()\n",
        "# cnt_scaler.fit(X_train['cnt_checks_12'].to_numpy().reshape(-1, 1))\n",
        "\n",
        "# cnt_scaled = scale_data(cnt_scaler, X_train, cnt_columns)\n",
        "# cnt_scaled_test = scale_data(cnt_scaler, X_test, cnt_columns)"
      ],
      "metadata": {
        "id": "hjRoAkIArtqh"
      },
      "id": "hjRoAkIArtqh",
      "execution_count": null,
      "outputs": []
    },
    {
      "cell_type": "code",
      "source": [
        "unique_cnt_columns = cols['unique_n']\n",
        "# скейлим их с помощью функции\n",
        "unique_scaler = StandardScaler()\n",
        "unique_scaler.fit(X_train['cnt_unique_plu_12'].to_numpy().reshape(-1, 1))\n",
        "\n",
        "unique_scaled = scale_data(unique_scaler, X_train, unique_cnt_columns)\n",
        "unique_scaled_test = scale_data(unique_scaler, X_test, unique_cnt_columns)"
      ],
      "metadata": {
        "id": "mUsicCzhmq3K"
      },
      "id": "mUsicCzhmq3K",
      "execution_count": null,
      "outputs": []
    },
    {
      "cell_type": "code",
      "source": [
        "X_train[rto_columns] = rto_scaled\n",
        "# X_train[cnt_columns] = cnt_scaled\n",
        "X_train[unique_cnt_columns] = unique_scaled\n",
        "\n",
        "X_test[rto_columns] = rto_scaled_test\n",
        "# X_test[cnt_columns] = cnt_scaled_test\n",
        "X_test[unique_cnt_columns] = unique_scaled_test"
      ],
      "metadata": {
        "id": "lXFq-udxGjLG"
      },
      "id": "lXFq-udxGjLG",
      "execution_count": null,
      "outputs": []
    },
    {
      "cell_type": "code",
      "source": [
        "X_train.columns"
      ],
      "metadata": {
        "colab": {
          "base_uri": "https://localhost:8080/"
        },
        "id": "VVLXr-jyKlho",
        "outputId": "a2c28877-c661-4864-9846-bcfee5bcf190"
      },
      "id": "VVLXr-jyKlho",
      "execution_count": null,
      "outputs": [
        {
          "output_type": "execute_result",
          "data": {
            "text/plain": [
              "Index(['rto_6', 'rto_7', 'rto_8', 'rto_9', 'rto_10', 'rto_11', 'rto_12',\n",
              "       'part_cnt_6_Овощи - Фрукты', 'part_cnt_7_Овощи - Фрукты',\n",
              "       'part_cnt_8_Овощи - Фрукты', 'part_cnt_9_Овощи - Фрукты',\n",
              "       'part_cnt_10_Овощи - Фрукты', 'part_cnt_11_Овощи - Фрукты',\n",
              "       'part_cnt_12_Овощи - Фрукты', 'cnt_unique_plu_6', 'cnt_unique_plu_7',\n",
              "       'cnt_unique_plu_8', 'cnt_unique_plu_9', 'cnt_unique_plu_10',\n",
              "       'cnt_unique_plu_11', 'cnt_unique_plu_12'],\n",
              "      dtype='object')"
            ]
          },
          "metadata": {},
          "execution_count": 225
        }
      ]
    },
    {
      "cell_type": "code",
      "source": [
        "X_train"
      ],
      "metadata": {
        "colab": {
          "base_uri": "https://localhost:8080/",
          "height": 505
        },
        "id": "Iox5ez3Wv0w-",
        "outputId": "79ca602b-2cb1-4d92-91d1-228a22fdc6d1"
      },
      "id": "Iox5ez3Wv0w-",
      "execution_count": null,
      "outputs": [
        {
          "output_type": "execute_result",
          "data": {
            "text/plain": [
              "           rto_6     rto_7     rto_8     rto_9    rto_10    rto_11    rto_12  \\\n",
              "79702   0.036741 -0.971565 -3.254680 -0.002240  0.295113  0.412362  0.555329   \n",
              "31800   0.535283  0.453266  0.432675  0.437134  0.086524  0.382273  0.632225   \n",
              "92978  -0.287700 -0.187850  0.062299 -0.473559 -1.442779  0.040833 -3.254680   \n",
              "35919   0.550248  0.637797  0.479826  0.294060  0.395338  0.565627  0.122857   \n",
              "23530   0.687971  0.456195  0.142154  0.364234  0.244002 -0.059090  0.434562   \n",
              "...          ...       ...       ...       ...       ...       ...       ...   \n",
              "99523   0.906702  0.892803  0.854790  0.930402  1.011369  0.875807  0.609204   \n",
              "20553   0.192262 -0.607968 -0.049417  0.507563  0.700595  0.481124  0.363118   \n",
              "108575  0.719244  0.693972  0.576001  0.661571  0.900354  0.956322  0.683518   \n",
              "45445   0.561366  0.607000  0.198020  0.625040  0.570606  0.562025  0.498754   \n",
              "27284   0.111471  0.077141 -0.097133  0.034105  0.252772 -0.234937  0.328191   \n",
              "\n",
              "        part_cnt_6_Овощи - Фрукты  part_cnt_7_Овощи - Фрукты  \\\n",
              "79702                    0.333333                   0.000000   \n",
              "31800                    0.347826                   0.291667   \n",
              "92978                    0.000000                   0.000000   \n",
              "35919                    0.250000                   0.263158   \n",
              "23530                    0.583333                   0.400000   \n",
              "...                           ...                        ...   \n",
              "99523                    0.571429                   0.714286   \n",
              "20553                    0.400000                   0.000000   \n",
              "108575                   0.714286                   0.421053   \n",
              "45445                    0.500000                   0.555556   \n",
              "27284                    0.500000                   0.600000   \n",
              "\n",
              "        part_cnt_8_Овощи - Фрукты  ...  part_cnt_10_Овощи - Фрукты  \\\n",
              "79702                    0.000000  ...                    0.375000   \n",
              "31800                    0.392857  ...                    0.272727   \n",
              "92978                    0.000000  ...                    0.000000   \n",
              "35919                    0.153846  ...                    0.166667   \n",
              "23530                    0.833333  ...                    0.666667   \n",
              "...                           ...  ...                         ...   \n",
              "99523                    0.428571  ...                    0.400000   \n",
              "20553                    0.000000  ...                    1.000000   \n",
              "108575                   0.300000  ...                    0.625000   \n",
              "45445                    0.666667  ...                    0.500000   \n",
              "27284                    1.000000  ...                    0.666667   \n",
              "\n",
              "        part_cnt_11_Овощи - Фрукты  part_cnt_12_Овощи - Фрукты  \\\n",
              "79702                     0.555556                    0.600000   \n",
              "31800                     0.111111                    0.320000   \n",
              "92978                     0.000000                    0.000000   \n",
              "35919                     0.454545                    0.125000   \n",
              "23530                     0.000000                    0.333333   \n",
              "...                            ...                         ...   \n",
              "99523                     0.222222                    0.333333   \n",
              "20553                     0.833333                    0.666667   \n",
              "108575                    0.769231                    0.909091   \n",
              "45445                     0.750000                    1.000000   \n",
              "27284                     1.000000                    1.000000   \n",
              "\n",
              "        cnt_unique_plu_6  cnt_unique_plu_7  cnt_unique_plu_8  \\\n",
              "79702          -0.419819         -0.944150         -1.019054   \n",
              "31800           1.128203          0.928458          1.078267   \n",
              "92978          -0.844277         -0.694469         -0.294979   \n",
              "35919           0.728713          1.203107          0.404128   \n",
              "23530           1.203107          0.154447         -0.344915   \n",
              "...                  ...               ...               ...   \n",
              "99523           0.828586          0.903490          0.479032   \n",
              "20553          -0.369883         -0.944150         -0.694469   \n",
              "108575          0.404128          0.803618          0.229351   \n",
              "45445           0.828586          1.352916          0.079543   \n",
              "27284          -0.669500         -0.394851         -0.594596   \n",
              "\n",
              "        cnt_unique_plu_9  cnt_unique_plu_10  cnt_unique_plu_11  \\\n",
              "79702          -0.519692          -0.270011           0.254319   \n",
              "31800           0.878522           0.029606           0.479032   \n",
              "92978          -0.869245          -0.994086          -0.444787   \n",
              "35919           0.254319           0.254319           1.103235   \n",
              "23530           0.029606          -0.294979          -0.694469   \n",
              "...                  ...                ...                ...   \n",
              "99523           0.753681           1.203107           0.429096   \n",
              "20553           0.079543           0.429096           0.179415   \n",
              "108575          0.703745           1.352916           1.128203   \n",
              "45445           1.702469           1.078267           1.702469   \n",
              "27284          -0.469756          -0.294979          -0.744405   \n",
              "\n",
              "        cnt_unique_plu_12  \n",
              "79702            0.179415  \n",
              "31800            1.302980  \n",
              "92978           -1.019054  \n",
              "35919           -0.344915  \n",
              "23530           -0.045298  \n",
              "...                   ...  \n",
              "99523           -0.145170  \n",
              "20553           -0.270011  \n",
              "108575           0.204383  \n",
              "45445            0.653809  \n",
              "27284           -0.095234  \n",
              "\n",
              "[94542 rows x 21 columns]"
            ],
            "text/html": [
              "\n",
              "  <div id=\"df-df5964b9-580d-4efb-97ac-f035dafbce40\">\n",
              "    <div class=\"colab-df-container\">\n",
              "      <div>\n",
              "<style scoped>\n",
              "    .dataframe tbody tr th:only-of-type {\n",
              "        vertical-align: middle;\n",
              "    }\n",
              "\n",
              "    .dataframe tbody tr th {\n",
              "        vertical-align: top;\n",
              "    }\n",
              "\n",
              "    .dataframe thead th {\n",
              "        text-align: right;\n",
              "    }\n",
              "</style>\n",
              "<table border=\"1\" class=\"dataframe\">\n",
              "  <thead>\n",
              "    <tr style=\"text-align: right;\">\n",
              "      <th></th>\n",
              "      <th>rto_6</th>\n",
              "      <th>rto_7</th>\n",
              "      <th>rto_8</th>\n",
              "      <th>rto_9</th>\n",
              "      <th>rto_10</th>\n",
              "      <th>rto_11</th>\n",
              "      <th>rto_12</th>\n",
              "      <th>part_cnt_6_Овощи - Фрукты</th>\n",
              "      <th>part_cnt_7_Овощи - Фрукты</th>\n",
              "      <th>part_cnt_8_Овощи - Фрукты</th>\n",
              "      <th>...</th>\n",
              "      <th>part_cnt_10_Овощи - Фрукты</th>\n",
              "      <th>part_cnt_11_Овощи - Фрукты</th>\n",
              "      <th>part_cnt_12_Овощи - Фрукты</th>\n",
              "      <th>cnt_unique_plu_6</th>\n",
              "      <th>cnt_unique_plu_7</th>\n",
              "      <th>cnt_unique_plu_8</th>\n",
              "      <th>cnt_unique_plu_9</th>\n",
              "      <th>cnt_unique_plu_10</th>\n",
              "      <th>cnt_unique_plu_11</th>\n",
              "      <th>cnt_unique_plu_12</th>\n",
              "    </tr>\n",
              "  </thead>\n",
              "  <tbody>\n",
              "    <tr>\n",
              "      <th>79702</th>\n",
              "      <td>0.036741</td>\n",
              "      <td>-0.971565</td>\n",
              "      <td>-3.254680</td>\n",
              "      <td>-0.002240</td>\n",
              "      <td>0.295113</td>\n",
              "      <td>0.412362</td>\n",
              "      <td>0.555329</td>\n",
              "      <td>0.333333</td>\n",
              "      <td>0.000000</td>\n",
              "      <td>0.000000</td>\n",
              "      <td>...</td>\n",
              "      <td>0.375000</td>\n",
              "      <td>0.555556</td>\n",
              "      <td>0.600000</td>\n",
              "      <td>-0.419819</td>\n",
              "      <td>-0.944150</td>\n",
              "      <td>-1.019054</td>\n",
              "      <td>-0.519692</td>\n",
              "      <td>-0.270011</td>\n",
              "      <td>0.254319</td>\n",
              "      <td>0.179415</td>\n",
              "    </tr>\n",
              "    <tr>\n",
              "      <th>31800</th>\n",
              "      <td>0.535283</td>\n",
              "      <td>0.453266</td>\n",
              "      <td>0.432675</td>\n",
              "      <td>0.437134</td>\n",
              "      <td>0.086524</td>\n",
              "      <td>0.382273</td>\n",
              "      <td>0.632225</td>\n",
              "      <td>0.347826</td>\n",
              "      <td>0.291667</td>\n",
              "      <td>0.392857</td>\n",
              "      <td>...</td>\n",
              "      <td>0.272727</td>\n",
              "      <td>0.111111</td>\n",
              "      <td>0.320000</td>\n",
              "      <td>1.128203</td>\n",
              "      <td>0.928458</td>\n",
              "      <td>1.078267</td>\n",
              "      <td>0.878522</td>\n",
              "      <td>0.029606</td>\n",
              "      <td>0.479032</td>\n",
              "      <td>1.302980</td>\n",
              "    </tr>\n",
              "    <tr>\n",
              "      <th>92978</th>\n",
              "      <td>-0.287700</td>\n",
              "      <td>-0.187850</td>\n",
              "      <td>0.062299</td>\n",
              "      <td>-0.473559</td>\n",
              "      <td>-1.442779</td>\n",
              "      <td>0.040833</td>\n",
              "      <td>-3.254680</td>\n",
              "      <td>0.000000</td>\n",
              "      <td>0.000000</td>\n",
              "      <td>0.000000</td>\n",
              "      <td>...</td>\n",
              "      <td>0.000000</td>\n",
              "      <td>0.000000</td>\n",
              "      <td>0.000000</td>\n",
              "      <td>-0.844277</td>\n",
              "      <td>-0.694469</td>\n",
              "      <td>-0.294979</td>\n",
              "      <td>-0.869245</td>\n",
              "      <td>-0.994086</td>\n",
              "      <td>-0.444787</td>\n",
              "      <td>-1.019054</td>\n",
              "    </tr>\n",
              "    <tr>\n",
              "      <th>35919</th>\n",
              "      <td>0.550248</td>\n",
              "      <td>0.637797</td>\n",
              "      <td>0.479826</td>\n",
              "      <td>0.294060</td>\n",
              "      <td>0.395338</td>\n",
              "      <td>0.565627</td>\n",
              "      <td>0.122857</td>\n",
              "      <td>0.250000</td>\n",
              "      <td>0.263158</td>\n",
              "      <td>0.153846</td>\n",
              "      <td>...</td>\n",
              "      <td>0.166667</td>\n",
              "      <td>0.454545</td>\n",
              "      <td>0.125000</td>\n",
              "      <td>0.728713</td>\n",
              "      <td>1.203107</td>\n",
              "      <td>0.404128</td>\n",
              "      <td>0.254319</td>\n",
              "      <td>0.254319</td>\n",
              "      <td>1.103235</td>\n",
              "      <td>-0.344915</td>\n",
              "    </tr>\n",
              "    <tr>\n",
              "      <th>23530</th>\n",
              "      <td>0.687971</td>\n",
              "      <td>0.456195</td>\n",
              "      <td>0.142154</td>\n",
              "      <td>0.364234</td>\n",
              "      <td>0.244002</td>\n",
              "      <td>-0.059090</td>\n",
              "      <td>0.434562</td>\n",
              "      <td>0.583333</td>\n",
              "      <td>0.400000</td>\n",
              "      <td>0.833333</td>\n",
              "      <td>...</td>\n",
              "      <td>0.666667</td>\n",
              "      <td>0.000000</td>\n",
              "      <td>0.333333</td>\n",
              "      <td>1.203107</td>\n",
              "      <td>0.154447</td>\n",
              "      <td>-0.344915</td>\n",
              "      <td>0.029606</td>\n",
              "      <td>-0.294979</td>\n",
              "      <td>-0.694469</td>\n",
              "      <td>-0.045298</td>\n",
              "    </tr>\n",
              "    <tr>\n",
              "      <th>...</th>\n",
              "      <td>...</td>\n",
              "      <td>...</td>\n",
              "      <td>...</td>\n",
              "      <td>...</td>\n",
              "      <td>...</td>\n",
              "      <td>...</td>\n",
              "      <td>...</td>\n",
              "      <td>...</td>\n",
              "      <td>...</td>\n",
              "      <td>...</td>\n",
              "      <td>...</td>\n",
              "      <td>...</td>\n",
              "      <td>...</td>\n",
              "      <td>...</td>\n",
              "      <td>...</td>\n",
              "      <td>...</td>\n",
              "      <td>...</td>\n",
              "      <td>...</td>\n",
              "      <td>...</td>\n",
              "      <td>...</td>\n",
              "      <td>...</td>\n",
              "    </tr>\n",
              "    <tr>\n",
              "      <th>99523</th>\n",
              "      <td>0.906702</td>\n",
              "      <td>0.892803</td>\n",
              "      <td>0.854790</td>\n",
              "      <td>0.930402</td>\n",
              "      <td>1.011369</td>\n",
              "      <td>0.875807</td>\n",
              "      <td>0.609204</td>\n",
              "      <td>0.571429</td>\n",
              "      <td>0.714286</td>\n",
              "      <td>0.428571</td>\n",
              "      <td>...</td>\n",
              "      <td>0.400000</td>\n",
              "      <td>0.222222</td>\n",
              "      <td>0.333333</td>\n",
              "      <td>0.828586</td>\n",
              "      <td>0.903490</td>\n",
              "      <td>0.479032</td>\n",
              "      <td>0.753681</td>\n",
              "      <td>1.203107</td>\n",
              "      <td>0.429096</td>\n",
              "      <td>-0.145170</td>\n",
              "    </tr>\n",
              "    <tr>\n",
              "      <th>20553</th>\n",
              "      <td>0.192262</td>\n",
              "      <td>-0.607968</td>\n",
              "      <td>-0.049417</td>\n",
              "      <td>0.507563</td>\n",
              "      <td>0.700595</td>\n",
              "      <td>0.481124</td>\n",
              "      <td>0.363118</td>\n",
              "      <td>0.400000</td>\n",
              "      <td>0.000000</td>\n",
              "      <td>0.000000</td>\n",
              "      <td>...</td>\n",
              "      <td>1.000000</td>\n",
              "      <td>0.833333</td>\n",
              "      <td>0.666667</td>\n",
              "      <td>-0.369883</td>\n",
              "      <td>-0.944150</td>\n",
              "      <td>-0.694469</td>\n",
              "      <td>0.079543</td>\n",
              "      <td>0.429096</td>\n",
              "      <td>0.179415</td>\n",
              "      <td>-0.270011</td>\n",
              "    </tr>\n",
              "    <tr>\n",
              "      <th>108575</th>\n",
              "      <td>0.719244</td>\n",
              "      <td>0.693972</td>\n",
              "      <td>0.576001</td>\n",
              "      <td>0.661571</td>\n",
              "      <td>0.900354</td>\n",
              "      <td>0.956322</td>\n",
              "      <td>0.683518</td>\n",
              "      <td>0.714286</td>\n",
              "      <td>0.421053</td>\n",
              "      <td>0.300000</td>\n",
              "      <td>...</td>\n",
              "      <td>0.625000</td>\n",
              "      <td>0.769231</td>\n",
              "      <td>0.909091</td>\n",
              "      <td>0.404128</td>\n",
              "      <td>0.803618</td>\n",
              "      <td>0.229351</td>\n",
              "      <td>0.703745</td>\n",
              "      <td>1.352916</td>\n",
              "      <td>1.128203</td>\n",
              "      <td>0.204383</td>\n",
              "    </tr>\n",
              "    <tr>\n",
              "      <th>45445</th>\n",
              "      <td>0.561366</td>\n",
              "      <td>0.607000</td>\n",
              "      <td>0.198020</td>\n",
              "      <td>0.625040</td>\n",
              "      <td>0.570606</td>\n",
              "      <td>0.562025</td>\n",
              "      <td>0.498754</td>\n",
              "      <td>0.500000</td>\n",
              "      <td>0.555556</td>\n",
              "      <td>0.666667</td>\n",
              "      <td>...</td>\n",
              "      <td>0.500000</td>\n",
              "      <td>0.750000</td>\n",
              "      <td>1.000000</td>\n",
              "      <td>0.828586</td>\n",
              "      <td>1.352916</td>\n",
              "      <td>0.079543</td>\n",
              "      <td>1.702469</td>\n",
              "      <td>1.078267</td>\n",
              "      <td>1.702469</td>\n",
              "      <td>0.653809</td>\n",
              "    </tr>\n",
              "    <tr>\n",
              "      <th>27284</th>\n",
              "      <td>0.111471</td>\n",
              "      <td>0.077141</td>\n",
              "      <td>-0.097133</td>\n",
              "      <td>0.034105</td>\n",
              "      <td>0.252772</td>\n",
              "      <td>-0.234937</td>\n",
              "      <td>0.328191</td>\n",
              "      <td>0.500000</td>\n",
              "      <td>0.600000</td>\n",
              "      <td>1.000000</td>\n",
              "      <td>...</td>\n",
              "      <td>0.666667</td>\n",
              "      <td>1.000000</td>\n",
              "      <td>1.000000</td>\n",
              "      <td>-0.669500</td>\n",
              "      <td>-0.394851</td>\n",
              "      <td>-0.594596</td>\n",
              "      <td>-0.469756</td>\n",
              "      <td>-0.294979</td>\n",
              "      <td>-0.744405</td>\n",
              "      <td>-0.095234</td>\n",
              "    </tr>\n",
              "  </tbody>\n",
              "</table>\n",
              "<p>94542 rows × 21 columns</p>\n",
              "</div>\n",
              "      <button class=\"colab-df-convert\" onclick=\"convertToInteractive('df-df5964b9-580d-4efb-97ac-f035dafbce40')\"\n",
              "              title=\"Convert this dataframe to an interactive table.\"\n",
              "              style=\"display:none;\">\n",
              "        \n",
              "  <svg xmlns=\"http://www.w3.org/2000/svg\" height=\"24px\"viewBox=\"0 0 24 24\"\n",
              "       width=\"24px\">\n",
              "    <path d=\"M0 0h24v24H0V0z\" fill=\"none\"/>\n",
              "    <path d=\"M18.56 5.44l.94 2.06.94-2.06 2.06-.94-2.06-.94-.94-2.06-.94 2.06-2.06.94zm-11 1L8.5 8.5l.94-2.06 2.06-.94-2.06-.94L8.5 2.5l-.94 2.06-2.06.94zm10 10l.94 2.06.94-2.06 2.06-.94-2.06-.94-.94-2.06-.94 2.06-2.06.94z\"/><path d=\"M17.41 7.96l-1.37-1.37c-.4-.4-.92-.59-1.43-.59-.52 0-1.04.2-1.43.59L10.3 9.45l-7.72 7.72c-.78.78-.78 2.05 0 2.83L4 21.41c.39.39.9.59 1.41.59.51 0 1.02-.2 1.41-.59l7.78-7.78 2.81-2.81c.8-.78.8-2.07 0-2.86zM5.41 20L4 18.59l7.72-7.72 1.47 1.35L5.41 20z\"/>\n",
              "  </svg>\n",
              "      </button>\n",
              "      \n",
              "  <style>\n",
              "    .colab-df-container {\n",
              "      display:flex;\n",
              "      flex-wrap:wrap;\n",
              "      gap: 12px;\n",
              "    }\n",
              "\n",
              "    .colab-df-convert {\n",
              "      background-color: #E8F0FE;\n",
              "      border: none;\n",
              "      border-radius: 50%;\n",
              "      cursor: pointer;\n",
              "      display: none;\n",
              "      fill: #1967D2;\n",
              "      height: 32px;\n",
              "      padding: 0 0 0 0;\n",
              "      width: 32px;\n",
              "    }\n",
              "\n",
              "    .colab-df-convert:hover {\n",
              "      background-color: #E2EBFA;\n",
              "      box-shadow: 0px 1px 2px rgba(60, 64, 67, 0.3), 0px 1px 3px 1px rgba(60, 64, 67, 0.15);\n",
              "      fill: #174EA6;\n",
              "    }\n",
              "\n",
              "    [theme=dark] .colab-df-convert {\n",
              "      background-color: #3B4455;\n",
              "      fill: #D2E3FC;\n",
              "    }\n",
              "\n",
              "    [theme=dark] .colab-df-convert:hover {\n",
              "      background-color: #434B5C;\n",
              "      box-shadow: 0px 1px 3px 1px rgba(0, 0, 0, 0.15);\n",
              "      filter: drop-shadow(0px 1px 2px rgba(0, 0, 0, 0.3));\n",
              "      fill: #FFFFFF;\n",
              "    }\n",
              "  </style>\n",
              "\n",
              "      <script>\n",
              "        const buttonEl =\n",
              "          document.querySelector('#df-df5964b9-580d-4efb-97ac-f035dafbce40 button.colab-df-convert');\n",
              "        buttonEl.style.display =\n",
              "          google.colab.kernel.accessAllowed ? 'block' : 'none';\n",
              "\n",
              "        async function convertToInteractive(key) {\n",
              "          const element = document.querySelector('#df-df5964b9-580d-4efb-97ac-f035dafbce40');\n",
              "          const dataTable =\n",
              "            await google.colab.kernel.invokeFunction('convertToInteractive',\n",
              "                                                     [key], {});\n",
              "          if (!dataTable) return;\n",
              "\n",
              "          const docLinkHtml = 'Like what you see? Visit the ' +\n",
              "            '<a target=\"_blank\" href=https://colab.research.google.com/notebooks/data_table.ipynb>data table notebook</a>'\n",
              "            + ' to learn more about interactive tables.';\n",
              "          element.innerHTML = '';\n",
              "          dataTable['output_type'] = 'display_data';\n",
              "          await google.colab.output.renderOutput(dataTable, element);\n",
              "          const docLink = document.createElement('div');\n",
              "          docLink.innerHTML = docLinkHtml;\n",
              "          element.appendChild(docLink);\n",
              "        }\n",
              "      </script>\n",
              "    </div>\n",
              "  </div>\n",
              "  "
            ]
          },
          "metadata": {},
          "execution_count": 226
        }
      ]
    },
    {
      "cell_type": "code",
      "source": [
        "X_train = X_train.fillna(0)\n",
        "X_test = X_test.fillna(0)"
      ],
      "metadata": {
        "id": "gUDJxAIGtrxC"
      },
      "id": "gUDJxAIGtrxC",
      "execution_count": null,
      "outputs": []
    },
    {
      "cell_type": "markdown",
      "id": "2j2FQq0I2uxt",
      "metadata": {
        "id": "2j2FQq0I2uxt"
      },
      "source": [
        "## Выбор модели"
      ]
    },
    {
      "cell_type": "code",
      "source": [
        "from sklearn.metrics import PrecisionRecallDisplay\n",
        "from sklearn.metrics import precision_recall_curve\n",
        "from sklearn.metrics import average_precision_score\n",
        "from sklearn.metrics import auc\n",
        "from sklearn.metrics import roc_auc_score\n",
        "from sklearn.metrics import RocCurveDisplay\n",
        "from sklearn.linear_model import LogisticRegression\n",
        "\n",
        "from sklearn.calibration import CalibratedClassifierCV\n",
        "from sklearn.calibration import CalibrationDisplay\n",
        "from tqdm import tqdm"
      ],
      "metadata": {
        "id": "dXgmLW5FG3b8"
      },
      "id": "dXgmLW5FG3b8",
      "execution_count": null,
      "outputs": []
    },
    {
      "cell_type": "code",
      "source": [
        "X_tr, X_val, y_tr, y_val = train_test_split(X_train, y_train, \n",
        "                                                  test_size=0.3, random_state=42, stratify=y_train) # 0.49 Train, 0.21 Validation for C"
      ],
      "metadata": {
        "id": "t0gV5McUCl-_"
      },
      "id": "t0gV5McUCl-_",
      "execution_count": null,
      "outputs": []
    },
    {
      "cell_type": "code",
      "source": [
        "X_train.columns"
      ],
      "metadata": {
        "colab": {
          "base_uri": "https://localhost:8080/"
        },
        "id": "x-V7Y5F90mcp",
        "outputId": "e9018702-f5d0-45b6-fe22-4c1a9d4d09e7"
      },
      "id": "x-V7Y5F90mcp",
      "execution_count": null,
      "outputs": [
        {
          "output_type": "execute_result",
          "data": {
            "text/plain": [
              "Index(['rto_6', 'rto_7', 'rto_8', 'rto_9', 'rto_10', 'rto_11', 'rto_12',\n",
              "       'part_cnt_6_Овощи - Фрукты', 'part_cnt_7_Овощи - Фрукты',\n",
              "       'part_cnt_8_Овощи - Фрукты', 'part_cnt_9_Овощи - Фрукты',\n",
              "       'part_cnt_10_Овощи - Фрукты', 'part_cnt_11_Овощи - Фрукты',\n",
              "       'part_cnt_12_Овощи - Фрукты', 'cnt_unique_plu_6', 'cnt_unique_plu_7',\n",
              "       'cnt_unique_plu_8', 'cnt_unique_plu_9', 'cnt_unique_plu_10',\n",
              "       'cnt_unique_plu_11', 'cnt_unique_plu_12'],\n",
              "      dtype='object')"
            ]
          },
          "metadata": {},
          "execution_count": 230
        }
      ]
    },
    {
      "cell_type": "markdown",
      "id": "uuenlphBRTih",
      "metadata": {
        "id": "uuenlphBRTih"
      },
      "source": [
        "### Метрики"
      ]
    },
    {
      "cell_type": "markdown",
      "id": "xlPKxR3lRV3s",
      "metadata": {
        "id": "xlPKxR3lRV3s"
      },
      "source": [
        "F-мера позволяет учитывать и Precision, и Recall\n",
        "\n",
        "Коэффициент β = 2, показывает что Recall для нас важнее, так как лучше отправить несколько лишних уведомлений чем не отправить уведомление заинтересованному клиенту."
      ]
    },
    {
      "cell_type": "code",
      "execution_count": null,
      "id": "aPR4KbZgRWRC",
      "metadata": {
        "id": "aPR4KbZgRWRC"
      },
      "outputs": [],
      "source": [
        "scoring = {'f2': make_scorer(fbeta_score, beta=2), 'precision': 'precision', 'recall':'recall'}"
      ]
    },
    {
      "cell_type": "code",
      "execution_count": null,
      "id": "l3U59_UZcjOD",
      "metadata": {
        "id": "l3U59_UZcjOD"
      },
      "outputs": [],
      "source": [
        "f2_score = make_scorer(fbeta_score, beta=2)"
      ]
    },
    {
      "cell_type": "code",
      "execution_count": null,
      "id": "hXxS-xwtC8YK",
      "metadata": {
        "id": "hXxS-xwtC8YK"
      },
      "outputs": [],
      "source": [
        "def print_metrics(scores):\n",
        "  print(f\"Cross-val-scores  Train     Test\")\n",
        "  print(f\"F2                {scores['train_f2'].mean()*100:.2f}%      {scores['test_f2'].mean()*100:.2f}%\")\n",
        "  print(f\"Precision         {scores['train_precision'].mean()*100:.2f}%     {scores['test_precision'].mean()*100:.2f}%\")\n",
        "  print(f\"Recall            {scores['train_recall'].mean()*100:.2f}%      {scores['test_recall'].mean()*100:.2f}%\")"
      ]
    },
    {
      "cell_type": "markdown",
      "source": [
        "### Модель 1. Logistic regression"
      ],
      "metadata": {
        "id": "4ZP325-PT7hK"
      },
      "id": "4ZP325-PT7hK"
    },
    {
      "cell_type": "code",
      "source": [
        "fig, ax = plt.subplots(figsize=(10, 5))\n",
        "\n",
        "cs = np.linspace(0.1, 1, 15)\n",
        "log_best_c, best_AUC, AP_of_best = 0, 0, 0\n",
        "for c in tqdm(cs):\n",
        "  lr_model = LogisticRegression(max_iter=10000, penalty='l2', C=c).fit(X_tr, y_tr)\n",
        "  y_lr_pred = lr_model.decision_function(X_val)\n",
        "  PrecisionRecallDisplay.from_predictions(y_val, y_lr_pred, name=\"C=\" + str(c), ax=ax)\n",
        "  precision, recall, _ = precision_recall_curve(y_val, y_lr_pred)\n",
        "  AUC = auc(recall, precision)\n",
        "  AP = average_precision_score(y_val, y_lr_pred)\n",
        "  if AUC > best_AUC:\n",
        "    best_AUC = AUC\n",
        "    log_best_c = c\n",
        "    AP_of_best = AP\n",
        "  print(\"C=%.3f\" % c, 'AUC=%.8f'% AUC, ' AP=%.8f' % AP)\n",
        "\n",
        "ax.set_title(\"PRC for LogisticRegression with various C\")\n",
        "ax.legend(loc='center left', bbox_to_anchor=(1, 0.5))\n",
        "# ax.set_ylim(0, 1.1)\n",
        "plt.tight_layout()"
      ],
      "metadata": {
        "colab": {
          "base_uri": "https://localhost:8080/",
          "height": 655
        },
        "id": "nH5uhjQ5z0fS",
        "outputId": "6c5ae21f-d608-412d-a663-a70e886619b5"
      },
      "id": "nH5uhjQ5z0fS",
      "execution_count": null,
      "outputs": [
        {
          "output_type": "stream",
          "name": "stderr",
          "text": [
            "  7%|▋         | 1/15 [00:01<00:25,  1.82s/it]"
          ]
        },
        {
          "output_type": "stream",
          "name": "stdout",
          "text": [
            "C=0.100 AUC=0.20639941  AP=0.20666993\n"
          ]
        },
        {
          "output_type": "stream",
          "name": "stderr",
          "text": [
            "\r 13%|█▎        | 2/15 [00:03<00:24,  1.88s/it]"
          ]
        },
        {
          "output_type": "stream",
          "name": "stdout",
          "text": [
            "C=0.164 AUC=0.20631664  AP=0.20658709\n"
          ]
        },
        {
          "output_type": "stream",
          "name": "stderr",
          "text": [
            "\r 20%|██        | 3/15 [00:05<00:23,  1.98s/it]"
          ]
        },
        {
          "output_type": "stream",
          "name": "stdout",
          "text": [
            "C=0.229 AUC=0.20628737  AP=0.20655785\n"
          ]
        },
        {
          "output_type": "stream",
          "name": "stderr",
          "text": [
            "\r 27%|██▋       | 4/15 [00:08<00:23,  2.15s/it]"
          ]
        },
        {
          "output_type": "stream",
          "name": "stdout",
          "text": [
            "C=0.293 AUC=0.20627656  AP=0.20654712\n"
          ]
        },
        {
          "output_type": "stream",
          "name": "stderr",
          "text": [
            "\r 33%|███▎      | 5/15 [00:10<00:22,  2.21s/it]"
          ]
        },
        {
          "output_type": "stream",
          "name": "stdout",
          "text": [
            "C=0.357 AUC=0.20626424  AP=0.20653477\n"
          ]
        },
        {
          "output_type": "stream",
          "name": "stderr",
          "text": [
            "\r 40%|████      | 6/15 [00:12<00:20,  2.23s/it]"
          ]
        },
        {
          "output_type": "stream",
          "name": "stdout",
          "text": [
            "C=0.421 AUC=0.20624963  AP=0.20652007\n"
          ]
        },
        {
          "output_type": "stream",
          "name": "stderr",
          "text": [
            "\r 47%|████▋     | 7/15 [00:14<00:17,  2.16s/it]"
          ]
        },
        {
          "output_type": "stream",
          "name": "stdout",
          "text": [
            "C=0.486 AUC=0.20624657  AP=0.20651715\n"
          ]
        },
        {
          "output_type": "stream",
          "name": "stderr",
          "text": [
            "\r 53%|█████▎    | 8/15 [00:17<00:15,  2.18s/it]"
          ]
        },
        {
          "output_type": "stream",
          "name": "stdout",
          "text": [
            "C=0.550 AUC=0.20623480  AP=0.20650536\n"
          ]
        },
        {
          "output_type": "stream",
          "name": "stderr",
          "text": [
            "\r 60%|██████    | 9/15 [00:21<00:16,  2.81s/it]"
          ]
        },
        {
          "output_type": "stream",
          "name": "stdout",
          "text": [
            "C=0.614 AUC=0.20623507  AP=0.20650563\n"
          ]
        },
        {
          "output_type": "stream",
          "name": "stderr",
          "text": [
            "\r 67%|██████▋   | 10/15 [00:25<00:16,  3.38s/it]"
          ]
        },
        {
          "output_type": "stream",
          "name": "stdout",
          "text": [
            "C=0.679 AUC=0.20621842  AP=0.20648894\n"
          ]
        },
        {
          "output_type": "stream",
          "name": "stderr",
          "text": [
            "\r 73%|███████▎  | 11/15 [00:30<00:14,  3.64s/it]"
          ]
        },
        {
          "output_type": "stream",
          "name": "stdout",
          "text": [
            "C=0.743 AUC=0.20621679  AP=0.20648731\n"
          ]
        },
        {
          "output_type": "stream",
          "name": "stderr",
          "text": [
            "\r 80%|████████  | 12/15 [00:34<00:11,  3.93s/it]"
          ]
        },
        {
          "output_type": "stream",
          "name": "stdout",
          "text": [
            "C=0.807 AUC=0.20621171  AP=0.20648223\n"
          ]
        },
        {
          "output_type": "stream",
          "name": "stderr",
          "text": [
            "\r 87%|████████▋ | 13/15 [00:37<00:07,  3.52s/it]"
          ]
        },
        {
          "output_type": "stream",
          "name": "stdout",
          "text": [
            "C=0.871 AUC=0.20620735  AP=0.20647786\n"
          ]
        },
        {
          "output_type": "stream",
          "name": "stderr",
          "text": [
            "\r 93%|█████████▎| 14/15 [00:39<00:03,  3.14s/it]"
          ]
        },
        {
          "output_type": "stream",
          "name": "stdout",
          "text": [
            "C=0.936 AUC=0.20620605  AP=0.20647657\n"
          ]
        },
        {
          "output_type": "stream",
          "name": "stderr",
          "text": [
            "100%|██████████| 15/15 [00:42<00:00,  2.82s/it]"
          ]
        },
        {
          "output_type": "stream",
          "name": "stdout",
          "text": [
            "C=1.000 AUC=0.20619707  AP=0.20646746\n"
          ]
        },
        {
          "output_type": "stream",
          "name": "stderr",
          "text": [
            "\n"
          ]
        },
        {
          "output_type": "display_data",
          "data": {
            "text/plain": [
              "<Figure size 720x360 with 1 Axes>"
            ],
            "image/png": "[encoded data removed]"
          },
          "metadata": {
            "needs_background": "light"
          }
        }
      ]
    },
    {
      "cell_type": "code",
      "source": [
        "log_best_c = 0.1"
      ],
      "metadata": {
        "id": "vSzs_IRTF1Qw"
      },
      "id": "vSzs_IRTF1Qw",
      "execution_count": null,
      "outputs": []
    },
    {
      "cell_type": "code",
      "source": [
        ""
      ],
      "metadata": {
        "id": "HyYPB4vMTczJ"
      },
      "id": "HyYPB4vMTczJ",
      "execution_count": null,
      "outputs": []
    },
    {
      "cell_type": "markdown",
      "source": [
        "#### Калибровка вероятностей"
      ],
      "metadata": {
        "id": "LHflDPWVTeEv"
      },
      "id": "LHflDPWVTeEv"
    },
    {
      "cell_type": "code",
      "source": [
        "lr_model = LogisticRegression(max_iter=10000, penalty='l2', C=log_best_c).fit(X_train, y_train)\n",
        "fig, ax_calibr = plt.subplots(figsize=(6,6))\n",
        "\n",
        "display = CalibrationDisplay.from_estimator(\n",
        "    lr_model,\n",
        "    X_train,\n",
        "    y_train,\n",
        "    c='#1e8737',\n",
        "    n_bins=40,\n",
        "    ax=ax_calibr\n",
        ")\n",
        "plt.legend(bbox_to_anchor=(1, 0., 0, 1))\n",
        "\n",
        "plt.savefig('clubs_old_train_40.png', bbox_inches='tight', dpi=720)"
      ],
      "metadata": {
        "colab": {
          "base_uri": "https://localhost:8080/",
          "height": 388
        },
        "id": "9CFXNDGwJdCR",
        "outputId": "dc660ec4-c700-438a-8f76-e76c5ed3e505"
      },
      "id": "9CFXNDGwJdCR",
      "execution_count": null,
      "outputs": [
        {
          "output_type": "display_data",
          "data": {
            "text/plain": [
              "<Figure size 432x432 with 1 Axes>"
            ],
            "image/png": "[encoded data removed]"
          },
          "metadata": {
            "needs_background": "light"
          }
        }
      ]
    },
    {
      "cell_type": "code",
      "source": [
        "lr_model = LogisticRegression(max_iter=10000, penalty='l2', C=log_best_c).fit(X_train, y_train)\n",
        "fig, ax_calibr = plt.subplots(figsize=(6,6))\n",
        "\n",
        "display = CalibrationDisplay.from_estimator(\n",
        "    lr_model,\n",
        "    X_test,\n",
        "    y_test,\n",
        "    c='#1e8737',\n",
        "    n_bins=40,\n",
        "    ax=ax_calibr\n",
        ")\n",
        "plt.legend(bbox_to_anchor=(1, 0., 0, 1))\n",
        "\n",
        "plt.savefig('clubs_old_test_40.png', bbox_inches='tight', dpi=720)"
      ],
      "metadata": {
        "colab": {
          "base_uri": "https://localhost:8080/",
          "height": 388
        },
        "id": "yONgn9PNtSrR",
        "outputId": "c2984589-b5f9-4a1c-bfdf-eb3c971347fb"
      },
      "id": "yONgn9PNtSrR",
      "execution_count": null,
      "outputs": [
        {
          "output_type": "display_data",
          "data": {
            "text/plain": [
              "<Figure size 432x432 with 1 Axes>"
            ],
            "image/png": "[encoded data removed]"
          },
          "metadata": {
            "needs_background": "light"
          }
        }
      ]
    },
    {
      "cell_type": "code",
      "source": [
        "os = SMOTE(random_state=42, sampling_strategy=1)\n",
        "X_train_os, y_train_os = os.fit_resample(X_train, y_train)"
      ],
      "metadata": {
        "id": "L-U030plSWEO"
      },
      "id": "L-U030plSWEO",
      "execution_count": null,
      "outputs": []
    },
    {
      "cell_type": "code",
      "source": [
        "os_lr_model = LogisticRegression(max_iter=10000, penalty='l2', C=log_best_c).fit(X_train_os, y_train_os)\n",
        "fig, ax_calibr = plt.subplots(figsize=(6,6))\n",
        "\n",
        "display = CalibrationDisplay.from_estimator(\n",
        "    os_lr_model,\n",
        "    X_test,\n",
        "    y_test,\n",
        "    n_bins=20,\n",
        "    name='os_LogReg_base',\n",
        "    ax=ax_calibr\n",
        ")"
      ],
      "metadata": {
        "colab": {
          "base_uri": "https://localhost:8080/",
          "height": 388
        },
        "id": "MbSn9_hDSgyg",
        "outputId": "09635bbb-dd7e-45a3-959a-1d5687148986"
      },
      "id": "MbSn9_hDSgyg",
      "execution_count": null,
      "outputs": [
        {
          "output_type": "display_data",
          "data": {
            "text/plain": [
              "<Figure size 432x432 with 1 Axes>"
            ],
            "image/png": "[encoded data removed]"
          },
          "metadata": {
            "needs_background": "light"
          }
        }
      ]
    },
    {
      "cell_type": "code",
      "source": [
        "y_train_os.sum(), y_train_os.shape[0]"
      ],
      "metadata": {
        "id": "3hLZWAmP2kLf",
        "colab": {
          "base_uri": "https://localhost:8080/"
        },
        "outputId": "97ce0540-a34a-455f-f0ab-cf99daaba226"
      },
      "id": "3hLZWAmP2kLf",
      "execution_count": null,
      "outputs": [
        {
          "output_type": "execute_result",
          "data": {
            "text/plain": [
              "(85849, 171698)"
            ]
          },
          "metadata": {},
          "execution_count": 96
        }
      ]
    },
    {
      "cell_type": "code",
      "source": [
        "os_base_lr_model = LogisticRegression(max_iter=10000, penalty='l2', C=log_best_c)\n",
        "os_calibr_lr_model = CalibratedClassifierCV(os_base_lr_model, cv=7, method='sigmoid').fit(X_train_os, y_train_os)\n",
        "\n",
        "fig, ax_calibr = plt.subplots(figsize=(6,6))\n",
        "\n",
        "display = CalibrationDisplay.from_estimator(\n",
        "    os_calibr_lr_model,\n",
        "    X_train_os,\n",
        "    y_train_os,\n",
        "    c='#003e14',\n",
        "    n_bins=40,\n",
        "    ax=ax_calibr\n",
        ")\n",
        "plt.legend(bbox_to_anchor=(1, 0., 0, 1))\n",
        "\n",
        "plt.savefig('clubs_os_train_40.png', bbox_inches='tight', dpi=720)"
      ],
      "metadata": {
        "colab": {
          "base_uri": "https://localhost:8080/",
          "height": 388
        },
        "id": "afszRDgnNNxR",
        "outputId": "61025e39-06c0-497c-d812-151ceecd98c2"
      },
      "id": "afszRDgnNNxR",
      "execution_count": null,
      "outputs": [
        {
          "output_type": "display_data",
          "data": {
            "text/plain": [
              "<Figure size 432x432 with 1 Axes>"
            ],
            "image/png": "[encoded data removed]"
          },
          "metadata": {
            "needs_background": "light"
          }
        }
      ]
    },
    {
      "cell_type": "code",
      "source": [
        "os_base_lr_model = LogisticRegression(max_iter=10000, penalty='l2', C=log_best_c)\n",
        "os_calibr_lr_model = CalibratedClassifierCV(os_base_lr_model, cv=7, method='sigmoid').fit(X_train_os, y_train_os)\n",
        "\n",
        "fig, ax_calibr = plt.subplots(figsize=(6,6))\n",
        "\n",
        "display = CalibrationDisplay.from_estimator(\n",
        "    os_calibr_lr_model,\n",
        "    X_test,\n",
        "    y_test,\n",
        "    c='#003e14',\n",
        "    n_bins=40,\n",
        "    ax=ax_calibr\n",
        ")\n",
        "plt.legend(bbox_to_anchor=(1, 0., 0, 1))\n",
        "\n",
        "plt.savefig('clubs_os_test_40.png', bbox_inches='tight', dpi=720)"
      ],
      "metadata": {
        "colab": {
          "base_uri": "https://localhost:8080/",
          "height": 388
        },
        "id": "LJ1Y3TqYYwSo",
        "outputId": "a349917d-d0c4-481d-ff81-b66f8dcc74a8"
      },
      "id": "LJ1Y3TqYYwSo",
      "execution_count": null,
      "outputs": [
        {
          "output_type": "display_data",
          "data": {
            "text/plain": [
              "<Figure size 432x432 with 1 Axes>"
            ],
            "image/png": "[encoded data removed]"
          },
          "metadata": {
            "needs_background": "light"
          }
        }
      ]
    },
    {
      "cell_type": "markdown",
      "id": "ueutGakT8yNr",
      "metadata": {
        "id": "ueutGakT8yNr"
      },
      "source": [
        "#### __Модель 1.1 SMOTE Resampling__"
      ]
    },
    {
      "cell_type": "code",
      "source": [
        "from sklearn.tree import DecisionTreeClassifier\n",
        "from imblearn.pipeline import Pipeline\n",
        "from imblearn.over_sampling import SMOTE\n",
        "from imblearn.under_sampling import RandomUnderSampler"
      ],
      "metadata": {
        "id": "o-EGAYByIA3s"
      },
      "id": "o-EGAYByIA3s",
      "execution_count": null,
      "outputs": []
    },
    {
      "cell_type": "markdown",
      "id": "K8WITZK126LO",
      "metadata": {
        "id": "K8WITZK126LO"
      },
      "source": [
        "В качестве базовой модели возьмём логистическую регрессию, так как она может дать верояностную оценку похожести клиента на представителей клуба."
      ]
    },
    {
      "cell_type": "markdown",
      "id": "g5LI9e5TNhJy",
      "metadata": {
        "id": "g5LI9e5TNhJy"
      },
      "source": [
        "На данном этапе признаки с дисперсией и прологарифмированные данные не улучшают качество."
      ]
    },
    {
      "cell_type": "code",
      "source": [
        "over = SMOTE(random_state=42, sampling_strategy=0.5)\n",
        "under = RandomUnderSampler(sampling_strategy=1)\n",
        "steps = [('over', over), ('under', under)]\n",
        "os = Pipeline(steps=steps)\n",
        "\n",
        "X_train_os, y_train_os = os.fit_resample(X_train, y_train)"
      ],
      "metadata": {
        "id": "v9VmkAdz4vZO"
      },
      "id": "v9VmkAdz4vZO",
      "execution_count": null,
      "outputs": []
    },
    {
      "cell_type": "code",
      "execution_count": null,
      "id": "l_qimx60oSwd",
      "metadata": {
        "id": "l_qimx60oSwd"
      },
      "outputs": [],
      "source": [
        "os_base_lr_model = LogisticRegression(max_iter=10000, penalty='l2', C=log_best_c)\n",
        "clf = CalibratedClassifierCV(os_base_lr_model, cv=3, method='sigmoid')"
      ]
    },
    {
      "cell_type": "code",
      "execution_count": null,
      "id": "iG-ND_2_LKCk",
      "metadata": {
        "id": "iG-ND_2_LKCk"
      },
      "outputs": [],
      "source": [
        "scores = cross_validate(clf, X_train_os, y_train_os, cv=3, scoring=scoring, return_train_score=True)"
      ]
    },
    {
      "cell_type": "code",
      "source": [
        "print_metrics(scores)"
      ],
      "metadata": {
        "colab": {
          "base_uri": "https://localhost:8080/"
        },
        "id": "UF0MaxWV5kP9",
        "outputId": "8aebf029-e36e-4669-a1f4-25138b01aaa8"
      },
      "id": "UF0MaxWV5kP9",
      "execution_count": null,
      "outputs": [
        {
          "output_type": "stream",
          "name": "stdout",
          "text": [
            "Cross-val-scores  Train     Test\n",
            "F2                65.00%      64.90%\n",
            "Precision         66.29%     66.11%\n",
            "Recall            64.68%      64.60%\n"
          ]
        }
      ]
    },
    {
      "cell_type": "code",
      "source": [
        "final_model = CalibratedClassifierCV(LogisticRegression(max_iter=10000, penalty='l2', C=log_best_c, random_state=42), cv=3, method='sigmoid').fit(X_train_os, y_train_os)"
      ],
      "metadata": {
        "id": "dlDBWB1v6JoQ"
      },
      "id": "dlDBWB1v6JoQ",
      "execution_count": null,
      "outputs": []
    },
    {
      "cell_type": "code",
      "execution_count": null,
      "metadata": {
        "id": "s5xa-3Ye6BZJ"
      },
      "outputs": [],
      "source": [
        "train_preds = final_model.predict(X_train_os)\n",
        "test_preds = final_model.predict(X_test)"
      ],
      "id": "s5xa-3Ye6BZJ"
    },
    {
      "cell_type": "code",
      "execution_count": null,
      "metadata": {
        "colab": {
          "base_uri": "https://localhost:8080/"
        },
        "id": "-RB13NwW6BZJ",
        "outputId": "75e6fd34-75c6-4dc3-8e32-631bb550a5e4"
      },
      "outputs": [
        {
          "output_type": "stream",
          "name": "stdout",
          "text": [
            "                   Train     Test\n",
            "F2                64.94%      41.17%\n",
            "Precision         66.24%      16.71%\n",
            "Recall            64.63%      64.94%\n"
          ]
        }
      ],
      "source": [
        "print(f\"                   Train     Test\")\n",
        "print(f\"F2                {fbeta_score(y_train_os, train_preds, beta = 2)*100:.2f}%      {fbeta_score(y_test, test_preds, beta = 2)*100:.2f}%\")\n",
        "print(f\"Precision         {precision_score(y_train_os, train_preds)*100:.2f}%      {precision_score(y_test, test_preds)*100:.2f}%\")\n",
        "print(f\"Recall            {recall_score(y_train_os, train_preds)*100:.2f}%      {recall_score(y_test, test_preds)*100:.2f}%\")"
      ],
      "id": "-RB13NwW6BZJ"
    },
    {
      "cell_type": "code",
      "source": [
        "os_base_lr_model = LogisticRegression(max_iter=10000, penalty='l2', C=log_best_c).fit(X_train_os, y_train_os)"
      ],
      "metadata": {
        "id": "GW0gmusJ1Z-x"
      },
      "id": "GW0gmusJ1Z-x",
      "execution_count": null,
      "outputs": []
    },
    {
      "cell_type": "code",
      "execution_count": null,
      "metadata": {
        "colab": {
          "base_uri": "https://localhost:8080/",
          "height": 729
        },
        "id": "Asd3GinaLAMX",
        "outputId": "a2a94965-52fc-4b0d-c4de-47a07ef50c79"
      },
      "outputs": [
        {
          "output_type": "display_data",
          "data": {
            "text/plain": [
              "<Figure size 576x720 with 1 Axes>"
            ],
            "image/png": "[encoded data removed]"
          },
          "metadata": {}
        }
      ],
      "source": [
        "feature_im = pd.Series(os_base_lr_model.coef_[0],\n",
        "                        X_train_os.columns)\n",
        "\n",
        "fig, ax = plt.subplots(figsize=(8,10))\n",
        "feature_im.plot.barh(ax=ax, color='#003e14')\n",
        "ax.set_title(\"Важность признаков\")\n",
        "ax.set_ylabel('Вес при признаке')\n",
        "fig.tight_layout()\n",
        "\n",
        "plt.savefig('clubs_os_test_40.png', bbox_inches='tight', dpi=720)"
      ],
      "id": "Asd3GinaLAMX"
    },
    {
      "cell_type": "code",
      "source": [
        ""
      ],
      "metadata": {
        "id": "ZsfecM9Qy3DJ"
      },
      "id": "ZsfecM9Qy3DJ",
      "execution_count": null,
      "outputs": []
    },
    {
      "cell_type": "markdown",
      "metadata": {
        "id": "Vww9lc34LAMa"
      },
      "source": [
        "Посмтрим на признаки, по мнению модели, влияющие негативно на вероятность клиента быть членом клуба."
      ],
      "id": "Vww9lc34LAMa"
    },
    {
      "cell_type": "code",
      "execution_count": null,
      "metadata": {
        "colab": {
          "base_uri": "https://localhost:8080/",
          "height": 363
        },
        "id": "Zw5-tPliLAMb",
        "outputId": "e8738fe2-70c3-475b-9d50-353444a9299f"
      },
      "outputs": [
        {
          "output_type": "execute_result",
          "data": {
            "text/plain": [
              "                                 feature_imp\n",
              "rto_11_Сыры                         0.066266\n",
              "rto_11_Птица и изделия из птицы     0.074452\n",
              "rto_10_Сыры                         0.077930\n",
              "part_cnt_6_Овощи - Фрукты           0.084293\n",
              "part_cnt_11_Овощи - Фрукты          0.094046\n",
              "part_cnt_9_Овощи - Фрукты           0.171238\n",
              "part_cnt_10_Овощи - Фрукты          0.171653\n",
              "rto_12_Овощи - Фрукты               0.189252\n",
              "part_cnt_7_Овощи - Фрукты           0.276968\n",
              "cnt_checks_12                       0.302270"
            ],
            "text/html": [
              "\n",
              "  <div id=\"df-5ffaead0-9070-4bdf-b35f-55edb58a8903\">\n",
              "    <div class=\"colab-df-container\">\n",
              "      <div>\n",
              "<style scoped>\n",
              "    .dataframe tbody tr th:only-of-type {\n",
              "        vertical-align: middle;\n",
              "    }\n",
              "\n",
              "    .dataframe tbody tr th {\n",
              "        vertical-align: top;\n",
              "    }\n",
              "\n",
              "    .dataframe thead th {\n",
              "        text-align: right;\n",
              "    }\n",
              "</style>\n",
              "<table border=\"1\" class=\"dataframe\">\n",
              "  <thead>\n",
              "    <tr style=\"text-align: right;\">\n",
              "      <th></th>\n",
              "      <th>feature_imp</th>\n",
              "    </tr>\n",
              "  </thead>\n",
              "  <tbody>\n",
              "    <tr>\n",
              "      <th>rto_11_Сыры</th>\n",
              "      <td>0.066266</td>\n",
              "    </tr>\n",
              "    <tr>\n",
              "      <th>rto_11_Птица и изделия из птицы</th>\n",
              "      <td>0.074452</td>\n",
              "    </tr>\n",
              "    <tr>\n",
              "      <th>rto_10_Сыры</th>\n",
              "      <td>0.077930</td>\n",
              "    </tr>\n",
              "    <tr>\n",
              "      <th>part_cnt_6_Овощи - Фрукты</th>\n",
              "      <td>0.084293</td>\n",
              "    </tr>\n",
              "    <tr>\n",
              "      <th>part_cnt_11_Овощи - Фрукты</th>\n",
              "      <td>0.094046</td>\n",
              "    </tr>\n",
              "    <tr>\n",
              "      <th>part_cnt_9_Овощи - Фрукты</th>\n",
              "      <td>0.171238</td>\n",
              "    </tr>\n",
              "    <tr>\n",
              "      <th>part_cnt_10_Овощи - Фрукты</th>\n",
              "      <td>0.171653</td>\n",
              "    </tr>\n",
              "    <tr>\n",
              "      <th>rto_12_Овощи - Фрукты</th>\n",
              "      <td>0.189252</td>\n",
              "    </tr>\n",
              "    <tr>\n",
              "      <th>part_cnt_7_Овощи - Фрукты</th>\n",
              "      <td>0.276968</td>\n",
              "    </tr>\n",
              "    <tr>\n",
              "      <th>cnt_checks_12</th>\n",
              "      <td>0.302270</td>\n",
              "    </tr>\n",
              "  </tbody>\n",
              "</table>\n",
              "</div>\n",
              "      <button class=\"colab-df-convert\" onclick=\"convertToInteractive('df-5ffaead0-9070-4bdf-b35f-55edb58a8903')\"\n",
              "              title=\"Convert this dataframe to an interactive table.\"\n",
              "              style=\"display:none;\">\n",
              "        \n",
              "  <svg xmlns=\"http://www.w3.org/2000/svg\" height=\"24px\"viewBox=\"0 0 24 24\"\n",
              "       width=\"24px\">\n",
              "    <path d=\"M0 0h24v24H0V0z\" fill=\"none\"/>\n",
              "    <path d=\"M18.56 5.44l.94 2.06.94-2.06 2.06-.94-2.06-.94-.94-2.06-.94 2.06-2.06.94zm-11 1L8.5 8.5l.94-2.06 2.06-.94-2.06-.94L8.5 2.5l-.94 2.06-2.06.94zm10 10l.94 2.06.94-2.06 2.06-.94-2.06-.94-.94-2.06-.94 2.06-2.06.94z\"/><path d=\"M17.41 7.96l-1.37-1.37c-.4-.4-.92-.59-1.43-.59-.52 0-1.04.2-1.43.59L10.3 9.45l-7.72 7.72c-.78.78-.78 2.05 0 2.83L4 21.41c.39.39.9.59 1.41.59.51 0 1.02-.2 1.41-.59l7.78-7.78 2.81-2.81c.8-.78.8-2.07 0-2.86zM5.41 20L4 18.59l7.72-7.72 1.47 1.35L5.41 20z\"/>\n",
              "  </svg>\n",
              "      </button>\n",
              "      \n",
              "  <style>\n",
              "    .colab-df-container {\n",
              "      display:flex;\n",
              "      flex-wrap:wrap;\n",
              "      gap: 12px;\n",
              "    }\n",
              "\n",
              "    .colab-df-convert {\n",
              "      background-color: #E8F0FE;\n",
              "      border: none;\n",
              "      border-radius: 50%;\n",
              "      cursor: pointer;\n",
              "      display: none;\n",
              "      fill: #1967D2;\n",
              "      height: 32px;\n",
              "      padding: 0 0 0 0;\n",
              "      width: 32px;\n",
              "    }\n",
              "\n",
              "    .colab-df-convert:hover {\n",
              "      background-color: #E2EBFA;\n",
              "      box-shadow: 0px 1px 2px rgba(60, 64, 67, 0.3), 0px 1px 3px 1px rgba(60, 64, 67, 0.15);\n",
              "      fill: #174EA6;\n",
              "    }\n",
              "\n",
              "    [theme=dark] .colab-df-convert {\n",
              "      background-color: #3B4455;\n",
              "      fill: #D2E3FC;\n",
              "    }\n",
              "\n",
              "    [theme=dark] .colab-df-convert:hover {\n",
              "      background-color: #434B5C;\n",
              "      box-shadow: 0px 1px 3px 1px rgba(0, 0, 0, 0.15);\n",
              "      filter: drop-shadow(0px 1px 2px rgba(0, 0, 0, 0.3));\n",
              "      fill: #FFFFFF;\n",
              "    }\n",
              "  </style>\n",
              "\n",
              "      <script>\n",
              "        const buttonEl =\n",
              "          document.querySelector('#df-5ffaead0-9070-4bdf-b35f-55edb58a8903 button.colab-df-convert');\n",
              "        buttonEl.style.display =\n",
              "          google.colab.kernel.accessAllowed ? 'block' : 'none';\n",
              "\n",
              "        async function convertToInteractive(key) {\n",
              "          const element = document.querySelector('#df-5ffaead0-9070-4bdf-b35f-55edb58a8903');\n",
              "          const dataTable =\n",
              "            await google.colab.kernel.invokeFunction('convertToInteractive',\n",
              "                                                     [key], {});\n",
              "          if (!dataTable) return;\n",
              "\n",
              "          const docLinkHtml = 'Like what you see? Visit the ' +\n",
              "            '<a target=\"_blank\" href=https://colab.research.google.com/notebooks/data_table.ipynb>data table notebook</a>'\n",
              "            + ' to learn more about interactive tables.';\n",
              "          element.innerHTML = '';\n",
              "          dataTable['output_type'] = 'display_data';\n",
              "          await google.colab.output.renderOutput(dataTable, element);\n",
              "          const docLink = document.createElement('div');\n",
              "          docLink.innerHTML = docLinkHtml;\n",
              "          element.appendChild(docLink);\n",
              "        }\n",
              "      </script>\n",
              "    </div>\n",
              "  </div>\n",
              "  "
            ]
          },
          "metadata": {},
          "execution_count": 67
        }
      ],
      "source": [
        "feature_im.to_frame('feature_imp').sort_values(by='feature_imp')[-10:]"
      ],
      "id": "Zw5-tPliLAMb"
    },
    {
      "cell_type": "markdown",
      "id": "nzi0J0rl2Xt_",
      "metadata": {
        "id": "nzi0J0rl2Xt_"
      },
      "source": [
        "#### __Модель 1.2. PU-learning + Logistic regression__"
      ]
    },
    {
      "cell_type": "markdown",
      "id": "wtOdjqCaY3-c",
      "metadata": {
        "id": "wtOdjqCaY3-c"
      },
      "source": [
        "PU Learning исходит из концепции того, что данные делятся на positive class и unlabeled. То есть подразумевается то, что в нулях могут быть потенциально позитивные записи. В нашем случае это означает, что люди, которые вступили в программу лояльности, но пока что не вступили в клуб, могут в дальнейшем в него вступить, а соответственно будут относиться к positive class. PU Learning позволяет минимизировать эффект от данной проблемы."
      ]
    },
    {
      "cell_type": "markdown",
      "id": "1daVKCkGaby8",
      "metadata": {
        "id": "1daVKCkGaby8"
      },
      "source": [
        "Модель взята из библиотеки [PULearn](https://pulearn.github.io/pulearn/), но немного изменена, так как исходная выдавала ошибки и не обучалась."
      ]
    },
    {
      "cell_type": "code",
      "execution_count": null,
      "id": "a6e7g9Wk8eSs",
      "metadata": {
        "id": "a6e7g9Wk8eSs"
      },
      "outputs": [],
      "source": [
        "class ElkanotoPuClassifier(BaseEstimator, ClassifierMixin):\n",
        "    \"Positive-unlabeled classifier using the unweighted Elkan & Noto method.\"\n",
        "\n",
        "    def __init__(self, estimator, hold_out_ratio=0.1):\n",
        "        self.estimator = estimator\n",
        "        # c is the constant proba that a example is positive, init to 1\n",
        "        self.c = 1.0\n",
        "        self.hold_out_ratio = hold_out_ratio\n",
        "\n",
        "    def fit(self, X, y):\n",
        "        positives = np.where(y == 1.0)[0]\n",
        "        hold_out_size = int(np.ceil(len(positives) * self.hold_out_ratio))\n",
        "        # check for the required number of positive examples\n",
        "        if len(positives) <= hold_out_size:\n",
        "            raise ValueError(\n",
        "                'Not enough positive examples to estimate p(s=1|y=1,x).'\n",
        "                ' Need at least {}.'.format(hold_out_size + 1)\n",
        "            )\n",
        "        # construct the holdout set\n",
        "        np.random.shuffle(positives)\n",
        "        hold_out = positives[:hold_out_size]\n",
        "        X_hold_out = X[hold_out]\n",
        "        X = np.delete(X, hold_out, 0)\n",
        "        y = y[set(y.index) - set(hold_out)]\n",
        "        # fit the inner estimator\n",
        "        self.estimator.fit(X, y)\n",
        "        # update c, the positive proba estimate\n",
        "        self.c = np.mean(self.estimator.predict_proba(X_hold_out)[:, 1])\n",
        "\n",
        "    def predict_proba(self, X):\n",
        "        return self.estimator.predict_proba(X)[:, 1] / self.c\n",
        "\n",
        "    def predict(self, X, threshold=0.5):\n",
        "        return np.array([1.0 if p > threshold else 0 for p in self.predict_proba(X)])"
      ]
    },
    {
      "cell_type": "markdown",
      "source": [
        ""
      ],
      "metadata": {
        "id": "NDhEpkmAT22h"
      },
      "id": "NDhEpkmAT22h"
    },
    {
      "cell_type": "code",
      "source": [
        "over = SMOTE(random_state=42, sampling_strategy=0.8)\n",
        "under = RandomUnderSampler(sampling_strategy=1)\n",
        "steps = [('over', over), ('under', under)]\n",
        "os = Pipeline(steps=steps)\n",
        "\n",
        "X_train_os, y_train_os = os.fit_resample(X_train, y_train)"
      ],
      "metadata": {
        "id": "DCFDoS-gJsuC"
      },
      "id": "DCFDoS-gJsuC",
      "execution_count": null,
      "outputs": []
    },
    {
      "cell_type": "code",
      "execution_count": null,
      "id": "tS7y4wLt2lvw",
      "metadata": {
        "id": "tS7y4wLt2lvw",
        "colab": {
          "base_uri": "https://localhost:8080/"
        },
        "outputId": "4bec52a3-9d76-4e98-e883-969461f55760"
      },
      "outputs": [
        {
          "output_type": "stream",
          "name": "stdout",
          "text": [
            "CPU times: user 11.9 s, sys: 4.76 s, total: 16.7 s\n",
            "Wall time: 14.5 s\n"
          ]
        }
      ],
      "source": [
        "%%time\n",
        "\n",
        "pu_estimator = ElkanotoPuClassifier(estimator=CalibratedClassifierCV(LogisticRegression(max_iter=10000, penalty='l2', random_state=42,\n",
        "                                                                                        C=log_best_c), cv=3, method='sigmoid'), hold_out_ratio=0.1)\n",
        "pu_estimator.fit(X_train_os.values, y_train_os)"
      ]
    },
    {
      "cell_type": "code",
      "execution_count": null,
      "id": "bfbB7yXX9UWN",
      "metadata": {
        "id": "bfbB7yXX9UWN"
      },
      "outputs": [],
      "source": [
        "train_preds = pu_estimator.predict(X_train_os.values, threshold=0.8)\n",
        "test_preds = pu_estimator.predict(X_test.values, threshold=0.8)"
      ]
    },
    {
      "cell_type": "code",
      "execution_count": null,
      "id": "mu3B46OWFUSH",
      "metadata": {
        "colab": {
          "base_uri": "https://localhost:8080/"
        },
        "id": "mu3B46OWFUSH",
        "outputId": "33172d64-1662-4fdb-b423-662bd29a1ae8"
      },
      "outputs": [
        {
          "output_type": "stream",
          "name": "stdout",
          "text": [
            "                   Train     Test\n",
            "F3                70.67%      52.31%\n",
            "F2                69.91%      41.33%\n",
            "Precision         64.32%      15.42%\n",
            "Recall            71.46%      71.25%\n"
          ]
        }
      ],
      "source": [
        "print(f\"                   Train     Test\")\n",
        "print(f\"F3                {fbeta_score(y_train_os, train_preds, beta = 3)*100:.2f}%      {fbeta_score(y_test, test_preds, beta = 3)*100:.2f}%\")\n",
        "print(f\"F2                {fbeta_score(y_train_os, train_preds, beta = 2)*100:.2f}%      {fbeta_score(y_test, test_preds, beta = 2)*100:.2f}%\")\n",
        "print(f\"Precision         {precision_score(y_train_os, train_preds)*100:.2f}%      {precision_score(y_test, test_preds)*100:.2f}%\")\n",
        "print(f\"Recall            {recall_score(y_train_os, train_preds)*100:.2f}%      {recall_score(y_test, test_preds)*100:.2f}%\")"
      ]
    },
    {
      "cell_type": "code",
      "source": [
        "df_ys = pd.DataFrame([y_test.values,np.array(test_preds)]).transpose()\n",
        "df_ys.index = df_ys.index + 94542\n",
        "potential_healthy = np.array(df_ys[(df_ys[1] == 1) & (df_ys[0] == 0)].index)\n",
        "healthy_but_not_active = np.array(df_ys[(df_ys[1] == 0) & (df_ys[0] == 1)].index)\n",
        "potential_healthy.shape[0], healthy_but_not_active.shape[0]"
      ],
      "metadata": {
        "colab": {
          "base_uri": "https://localhost:8080/"
        },
        "id": "e0Fe0WFZaxxy",
        "outputId": "dcd1bc4b-1a13-4985-9581-3558fdcfb9f8"
      },
      "id": "e0Fe0WFZaxxy",
      "execution_count": null,
      "outputs": [
        {
          "output_type": "execute_result",
          "data": {
            "text/plain": [
              "(12338, 945)"
            ]
          },
          "metadata": {},
          "execution_count": 90
        }
      ]
    },
    {
      "cell_type": "code",
      "source": [
        "df_ys"
      ],
      "metadata": {
        "colab": {
          "base_uri": "https://localhost:8080/",
          "height": 423
        },
        "id": "FsUsptefyfB9",
        "outputId": "5d0c02b9-01e3-49e7-fc9c-b0e0f80b68e4"
      },
      "id": "FsUsptefyfB9",
      "execution_count": null,
      "outputs": [
        {
          "output_type": "execute_result",
          "data": {
            "text/plain": [
              "          0    1\n",
              "94542   0.0  0.0\n",
              "94543   0.0  0.0\n",
              "94544   0.0  1.0\n",
              "94545   0.0  0.0\n",
              "94546   0.0  0.0\n",
              "...     ...  ...\n",
              "135056  0.0  0.0\n",
              "135057  0.0  1.0\n",
              "135058  0.0  0.0\n",
              "135059  0.0  0.0\n",
              "135060  0.0  0.0\n",
              "\n",
              "[40519 rows x 2 columns]"
            ],
            "text/html": [
              "\n",
              "  <div id=\"df-0ac42690-997e-4b25-9424-221a5bb90122\">\n",
              "    <div class=\"colab-df-container\">\n",
              "      <div>\n",
              "<style scoped>\n",
              "    .dataframe tbody tr th:only-of-type {\n",
              "        vertical-align: middle;\n",
              "    }\n",
              "\n",
              "    .dataframe tbody tr th {\n",
              "        vertical-align: top;\n",
              "    }\n",
              "\n",
              "    .dataframe thead th {\n",
              "        text-align: right;\n",
              "    }\n",
              "</style>\n",
              "<table border=\"1\" class=\"dataframe\">\n",
              "  <thead>\n",
              "    <tr style=\"text-align: right;\">\n",
              "      <th></th>\n",
              "      <th>0</th>\n",
              "      <th>1</th>\n",
              "    </tr>\n",
              "  </thead>\n",
              "  <tbody>\n",
              "    <tr>\n",
              "      <th>94542</th>\n",
              "      <td>0.0</td>\n",
              "      <td>0.0</td>\n",
              "    </tr>\n",
              "    <tr>\n",
              "      <th>94543</th>\n",
              "      <td>0.0</td>\n",
              "      <td>0.0</td>\n",
              "    </tr>\n",
              "    <tr>\n",
              "      <th>94544</th>\n",
              "      <td>0.0</td>\n",
              "      <td>1.0</td>\n",
              "    </tr>\n",
              "    <tr>\n",
              "      <th>94545</th>\n",
              "      <td>0.0</td>\n",
              "      <td>0.0</td>\n",
              "    </tr>\n",
              "    <tr>\n",
              "      <th>94546</th>\n",
              "      <td>0.0</td>\n",
              "      <td>0.0</td>\n",
              "    </tr>\n",
              "    <tr>\n",
              "      <th>...</th>\n",
              "      <td>...</td>\n",
              "      <td>...</td>\n",
              "    </tr>\n",
              "    <tr>\n",
              "      <th>135056</th>\n",
              "      <td>0.0</td>\n",
              "      <td>0.0</td>\n",
              "    </tr>\n",
              "    <tr>\n",
              "      <th>135057</th>\n",
              "      <td>0.0</td>\n",
              "      <td>1.0</td>\n",
              "    </tr>\n",
              "    <tr>\n",
              "      <th>135058</th>\n",
              "      <td>0.0</td>\n",
              "      <td>0.0</td>\n",
              "    </tr>\n",
              "    <tr>\n",
              "      <th>135059</th>\n",
              "      <td>0.0</td>\n",
              "      <td>0.0</td>\n",
              "    </tr>\n",
              "    <tr>\n",
              "      <th>135060</th>\n",
              "      <td>0.0</td>\n",
              "      <td>0.0</td>\n",
              "    </tr>\n",
              "  </tbody>\n",
              "</table>\n",
              "<p>40519 rows × 2 columns</p>\n",
              "</div>\n",
              "      <button class=\"colab-df-convert\" onclick=\"convertToInteractive('df-0ac42690-997e-4b25-9424-221a5bb90122')\"\n",
              "              title=\"Convert this dataframe to an interactive table.\"\n",
              "              style=\"display:none;\">\n",
              "        \n",
              "  <svg xmlns=\"http://www.w3.org/2000/svg\" height=\"24px\"viewBox=\"0 0 24 24\"\n",
              "       width=\"24px\">\n",
              "    <path d=\"M0 0h24v24H0V0z\" fill=\"none\"/>\n",
              "    <path d=\"M18.56 5.44l.94 2.06.94-2.06 2.06-.94-2.06-.94-.94-2.06-.94 2.06-2.06.94zm-11 1L8.5 8.5l.94-2.06 2.06-.94-2.06-.94L8.5 2.5l-.94 2.06-2.06.94zm10 10l.94 2.06.94-2.06 2.06-.94-2.06-.94-.94-2.06-.94 2.06-2.06.94z\"/><path d=\"M17.41 7.96l-1.37-1.37c-.4-.4-.92-.59-1.43-.59-.52 0-1.04.2-1.43.59L10.3 9.45l-7.72 7.72c-.78.78-.78 2.05 0 2.83L4 21.41c.39.39.9.59 1.41.59.51 0 1.02-.2 1.41-.59l7.78-7.78 2.81-2.81c.8-.78.8-2.07 0-2.86zM5.41 20L4 18.59l7.72-7.72 1.47 1.35L5.41 20z\"/>\n",
              "  </svg>\n",
              "      </button>\n",
              "      \n",
              "  <style>\n",
              "    .colab-df-container {\n",
              "      display:flex;\n",
              "      flex-wrap:wrap;\n",
              "      gap: 12px;\n",
              "    }\n",
              "\n",
              "    .colab-df-convert {\n",
              "      background-color: #E8F0FE;\n",
              "      border: none;\n",
              "      border-radius: 50%;\n",
              "      cursor: pointer;\n",
              "      display: none;\n",
              "      fill: #1967D2;\n",
              "      height: 32px;\n",
              "      padding: 0 0 0 0;\n",
              "      width: 32px;\n",
              "    }\n",
              "\n",
              "    .colab-df-convert:hover {\n",
              "      background-color: #E2EBFA;\n",
              "      box-shadow: 0px 1px 2px rgba(60, 64, 67, 0.3), 0px 1px 3px 1px rgba(60, 64, 67, 0.15);\n",
              "      fill: #174EA6;\n",
              "    }\n",
              "\n",
              "    [theme=dark] .colab-df-convert {\n",
              "      background-color: #3B4455;\n",
              "      fill: #D2E3FC;\n",
              "    }\n",
              "\n",
              "    [theme=dark] .colab-df-convert:hover {\n",
              "      background-color: #434B5C;\n",
              "      box-shadow: 0px 1px 3px 1px rgba(0, 0, 0, 0.15);\n",
              "      filter: drop-shadow(0px 1px 2px rgba(0, 0, 0, 0.3));\n",
              "      fill: #FFFFFF;\n",
              "    }\n",
              "  </style>\n",
              "\n",
              "      <script>\n",
              "        const buttonEl =\n",
              "          document.querySelector('#df-0ac42690-997e-4b25-9424-221a5bb90122 button.colab-df-convert');\n",
              "        buttonEl.style.display =\n",
              "          google.colab.kernel.accessAllowed ? 'block' : 'none';\n",
              "\n",
              "        async function convertToInteractive(key) {\n",
              "          const element = document.querySelector('#df-0ac42690-997e-4b25-9424-221a5bb90122');\n",
              "          const dataTable =\n",
              "            await google.colab.kernel.invokeFunction('convertToInteractive',\n",
              "                                                     [key], {});\n",
              "          if (!dataTable) return;\n",
              "\n",
              "          const docLinkHtml = 'Like what you see? Visit the ' +\n",
              "            '<a target=\"_blank\" href=https://colab.research.google.com/notebooks/data_table.ipynb>data table notebook</a>'\n",
              "            + ' to learn more about interactive tables.';\n",
              "          element.innerHTML = '';\n",
              "          dataTable['output_type'] = 'display_data';\n",
              "          await google.colab.output.renderOutput(dataTable, element);\n",
              "          const docLink = document.createElement('div');\n",
              "          docLink.innerHTML = docLinkHtml;\n",
              "          element.appendChild(docLink);\n",
              "        }\n",
              "      </script>\n",
              "    </div>\n",
              "  </div>\n",
              "  "
            ]
          },
          "metadata": {},
          "execution_count": 91
        }
      ]
    },
    {
      "cell_type": "code",
      "source": [
        "potential_healthy"
      ],
      "metadata": {
        "colab": {
          "base_uri": "https://localhost:8080/"
        },
        "id": "6e_l_sBBhJ_A",
        "outputId": "f8aa4ac0-a420-493f-9d53-b0167b1615b2"
      },
      "id": "6e_l_sBBhJ_A",
      "execution_count": null,
      "outputs": [
        {
          "output_type": "execute_result",
          "data": {
            "text/plain": [
              "array([ 94544,  94548,  94551, ..., 135050, 135053, 135057])"
            ]
          },
          "metadata": {},
          "execution_count": 92
        }
      ]
    },
    {
      "cell_type": "code",
      "source": [
        "df_potential = data.loc[potential_healthy]\n",
        "df_potential"
      ],
      "metadata": {
        "colab": {
          "base_uri": "https://localhost:8080/",
          "height": 522
        },
        "id": "IrJedKY94HdE",
        "outputId": "52e27718-2d59-4267-e658-f30105adc105"
      },
      "id": "IrJedKY94HdE",
      "execution_count": null,
      "outputs": [
        {
          "output_type": "execute_result",
          "data": {
            "text/plain": [
              "        is_in_club  cnt_checks_10_Мясная гастрономия     rto_6  rto_12_Сыры  \\\n",
              "94544            0                               0.0  8.576084     0.000000   \n",
              "94548            0                               3.0  7.771368     5.816281   \n",
              "94551            0                               2.0  8.447242     5.957938   \n",
              "94553            0                               0.0  7.526234     0.000000   \n",
              "94555            0                               5.0  9.293854     5.994113   \n",
              "...            ...                               ...       ...          ...   \n",
              "135034           0                              12.0  0.000000     6.581431   \n",
              "135038           0                               0.0  0.000000     5.955104   \n",
              "135050           0                               1.0  0.000000     4.252900   \n",
              "135053           0                               0.0  0.000000     4.264193   \n",
              "135057           0                               1.0  0.000000     6.459977   \n",
              "\n",
              "        rto_12_Птица и изделия из птицы     rto_8  cnt_checks_9  \\\n",
              "94544                          5.887619  8.587122          13.0   \n",
              "94548                          6.113265  9.247551          10.0   \n",
              "94551                          6.085059  8.968884          17.0   \n",
              "94553                          5.785335  8.825331           7.0   \n",
              "94555                          6.957240  9.615826           4.0   \n",
              "...                                 ...       ...           ...   \n",
              "135034                         7.227825  0.000000           3.0   \n",
              "135038                         5.033324  0.000000           2.0   \n",
              "135050                         0.000000  0.000000           2.0   \n",
              "135053                         6.727582  0.000000           2.0   \n",
              "135057                         5.489869  0.000000           3.0   \n",
              "\n",
              "        rto_9_Мясная гастрономия  rto_10_Птица и изделия из птицы  \\\n",
              "94544                   6.791517                         6.702791   \n",
              "94548                   5.898828                         5.949590   \n",
              "94551                   6.302892                         6.404580   \n",
              "94553                   0.000000                         6.170349   \n",
              "94555                   7.100547                         6.623517   \n",
              "...                          ...                              ...   \n",
              "135034                  0.000000                         7.184337   \n",
              "135038                  0.000000                         0.000000   \n",
              "135050                  0.000000                         0.000000   \n",
              "135053                  0.000000                         6.566470   \n",
              "135057                  4.703491                         0.000000   \n",
              "\n",
              "        cnt_checks_9_Рыба и рыбные изделия  ...  part_cnt_10_Овощи - Фрукты  \\\n",
              "94544                                  0.0  ...                    0.666667   \n",
              "94548                                  0.0  ...                    0.142857   \n",
              "94551                                  0.0  ...                    0.250000   \n",
              "94553                                  0.0  ...                    0.666667   \n",
              "94555                                  0.0  ...                    1.000000   \n",
              "...                                    ...  ...                         ...   \n",
              "135034                                 0.0  ...                    0.766667   \n",
              "135038                                 0.0  ...                    1.000000   \n",
              "135050                                 0.0  ...                    0.666667   \n",
              "135053                                 0.0  ...                    0.250000   \n",
              "135057                                 0.0  ...                    0.583333   \n",
              "\n",
              "        part_cnt_11_Овощи - Фрукты  part_cnt_12_Овощи - Фрукты  \\\n",
              "94544                     0.333333                    0.333333   \n",
              "94548                     0.400000                    0.666667   \n",
              "94551                     0.444444                    0.461538   \n",
              "94553                     0.875000                    0.800000   \n",
              "94555                     1.000000                    0.714286   \n",
              "...                            ...                         ...   \n",
              "135034                    0.709677                    0.666667   \n",
              "135038                    0.700000                    0.857143   \n",
              "135050                    0.666667                    0.363636   \n",
              "135053                    0.250000                    0.047619   \n",
              "135057                    0.833333                    0.461538   \n",
              "\n",
              "        part_cnt_6_Рыба и рыбные изделия  part_cnt_7_Рыба и рыбные изделия  \\\n",
              "94544                                0.0                               0.0   \n",
              "94548                                0.0                               0.0   \n",
              "94551                                0.0                               0.0   \n",
              "94553                                0.0                               0.0   \n",
              "94555                                0.0                               0.0   \n",
              "...                                  ...                               ...   \n",
              "135034                               0.0                               0.0   \n",
              "135038                               0.0                               0.0   \n",
              "135050                               0.0                               0.0   \n",
              "135053                               0.0                               0.0   \n",
              "135057                               0.0                               0.0   \n",
              "\n",
              "        part_cnt_8_Рыба и рыбные изделия  part_cnt_9_Рыба и рыбные изделия  \\\n",
              "94544                                0.0                               0.0   \n",
              "94548                                0.0                               0.0   \n",
              "94551                                0.0                               0.0   \n",
              "94553                                0.0                               0.0   \n",
              "94555                                0.0                               0.0   \n",
              "...                                  ...                               ...   \n",
              "135034                               0.0                               0.0   \n",
              "135038                               0.0                               0.0   \n",
              "135050                               0.0                               0.0   \n",
              "135053                               0.0                               0.0   \n",
              "135057                               0.0                               0.0   \n",
              "\n",
              "        part_cnt_10_Рыба и рыбные изделия  part_cnt_11_Рыба и рыбные изделия  \\\n",
              "94544                                 0.0                           0.000000   \n",
              "94548                                 0.0                           0.000000   \n",
              "94551                                 0.0                           0.000000   \n",
              "94553                                 0.0                           0.125000   \n",
              "94555                                 0.0                           0.200000   \n",
              "...                                   ...                                ...   \n",
              "135034                                0.0                           0.032258   \n",
              "135038                                0.0                           0.000000   \n",
              "135050                                0.0                           0.000000   \n",
              "135053                                0.0                           0.000000   \n",
              "135057                                0.0                           0.000000   \n",
              "\n",
              "        part_cnt_12_Рыба и рыбные изделия  \n",
              "94544                            0.000000  \n",
              "94548                            0.000000  \n",
              "94551                            0.000000  \n",
              "94553                            0.000000  \n",
              "94555                            0.142857  \n",
              "...                                   ...  \n",
              "135034                           0.033333  \n",
              "135038                           0.000000  \n",
              "135050                           0.000000  \n",
              "135053                           0.000000  \n",
              "135057                           0.000000  \n",
              "\n",
              "[12338 rows x 184 columns]"
            ],
            "text/html": [
              "\n",
              "  <div id=\"df-fb07c1a0-db0a-4d73-8c83-4496bb2e16d5\">\n",
              "    <div class=\"colab-df-container\">\n",
              "      <div>\n",
              "<style scoped>\n",
              "    .dataframe tbody tr th:only-of-type {\n",
              "        vertical-align: middle;\n",
              "    }\n",
              "\n",
              "    .dataframe tbody tr th {\n",
              "        vertical-align: top;\n",
              "    }\n",
              "\n",
              "    .dataframe thead th {\n",
              "        text-align: right;\n",
              "    }\n",
              "</style>\n",
              "<table border=\"1\" class=\"dataframe\">\n",
              "  <thead>\n",
              "    <tr style=\"text-align: right;\">\n",
              "      <th></th>\n",
              "      <th>is_in_club</th>\n",
              "      <th>cnt_checks_10_Мясная гастрономия</th>\n",
              "      <th>rto_6</th>\n",
              "      <th>rto_12_Сыры</th>\n",
              "      <th>rto_12_Птица и изделия из птицы</th>\n",
              "      <th>rto_8</th>\n",
              "      <th>cnt_checks_9</th>\n",
              "      <th>rto_9_Мясная гастрономия</th>\n",
              "      <th>rto_10_Птица и изделия из птицы</th>\n",
              "      <th>cnt_checks_9_Рыба и рыбные изделия</th>\n",
              "      <th>...</th>\n",
              "      <th>part_cnt_10_Овощи - Фрукты</th>\n",
              "      <th>part_cnt_11_Овощи - Фрукты</th>\n",
              "      <th>part_cnt_12_Овощи - Фрукты</th>\n",
              "      <th>part_cnt_6_Рыба и рыбные изделия</th>\n",
              "      <th>part_cnt_7_Рыба и рыбные изделия</th>\n",
              "      <th>part_cnt_8_Рыба и рыбные изделия</th>\n",
              "      <th>part_cnt_9_Рыба и рыбные изделия</th>\n",
              "      <th>part_cnt_10_Рыба и рыбные изделия</th>\n",
              "      <th>part_cnt_11_Рыба и рыбные изделия</th>\n",
              "      <th>part_cnt_12_Рыба и рыбные изделия</th>\n",
              "    </tr>\n",
              "  </thead>\n",
              "  <tbody>\n",
              "    <tr>\n",
              "      <th>94544</th>\n",
              "      <td>0</td>\n",
              "      <td>0.0</td>\n",
              "      <td>8.576084</td>\n",
              "      <td>0.000000</td>\n",
              "      <td>5.887619</td>\n",
              "      <td>8.587122</td>\n",
              "      <td>13.0</td>\n",
              "      <td>6.791517</td>\n",
              "      <td>6.702791</td>\n",
              "      <td>0.0</td>\n",
              "      <td>...</td>\n",
              "      <td>0.666667</td>\n",
              "      <td>0.333333</td>\n",
              "      <td>0.333333</td>\n",
              "      <td>0.0</td>\n",
              "      <td>0.0</td>\n",
              "      <td>0.0</td>\n",
              "      <td>0.0</td>\n",
              "      <td>0.0</td>\n",
              "      <td>0.000000</td>\n",
              "      <td>0.000000</td>\n",
              "    </tr>\n",
              "    <tr>\n",
              "      <th>94548</th>\n",
              "      <td>0</td>\n",
              "      <td>3.0</td>\n",
              "      <td>7.771368</td>\n",
              "      <td>5.816281</td>\n",
              "      <td>6.113265</td>\n",
              "      <td>9.247551</td>\n",
              "      <td>10.0</td>\n",
              "      <td>5.898828</td>\n",
              "      <td>5.949590</td>\n",
              "      <td>0.0</td>\n",
              "      <td>...</td>\n",
              "      <td>0.142857</td>\n",
              "      <td>0.400000</td>\n",
              "      <td>0.666667</td>\n",
              "      <td>0.0</td>\n",
              "      <td>0.0</td>\n",
              "      <td>0.0</td>\n",
              "      <td>0.0</td>\n",
              "      <td>0.0</td>\n",
              "      <td>0.000000</td>\n",
              "      <td>0.000000</td>\n",
              "    </tr>\n",
              "    <tr>\n",
              "      <th>94551</th>\n",
              "      <td>0</td>\n",
              "      <td>2.0</td>\n",
              "      <td>8.447242</td>\n",
              "      <td>5.957938</td>\n",
              "      <td>6.085059</td>\n",
              "      <td>8.968884</td>\n",
              "      <td>17.0</td>\n",
              "      <td>6.302892</td>\n",
              "      <td>6.404580</td>\n",
              "      <td>0.0</td>\n",
              "      <td>...</td>\n",
              "      <td>0.250000</td>\n",
              "      <td>0.444444</td>\n",
              "      <td>0.461538</td>\n",
              "      <td>0.0</td>\n",
              "      <td>0.0</td>\n",
              "      <td>0.0</td>\n",
              "      <td>0.0</td>\n",
              "      <td>0.0</td>\n",
              "      <td>0.000000</td>\n",
              "      <td>0.000000</td>\n",
              "    </tr>\n",
              "    <tr>\n",
              "      <th>94553</th>\n",
              "      <td>0</td>\n",
              "      <td>0.0</td>\n",
              "      <td>7.526234</td>\n",
              "      <td>0.000000</td>\n",
              "      <td>5.785335</td>\n",
              "      <td>8.825331</td>\n",
              "      <td>7.0</td>\n",
              "      <td>0.000000</td>\n",
              "      <td>6.170349</td>\n",
              "      <td>0.0</td>\n",
              "      <td>...</td>\n",
              "      <td>0.666667</td>\n",
              "      <td>0.875000</td>\n",
              "      <td>0.800000</td>\n",
              "      <td>0.0</td>\n",
              "      <td>0.0</td>\n",
              "      <td>0.0</td>\n",
              "      <td>0.0</td>\n",
              "      <td>0.0</td>\n",
              "      <td>0.125000</td>\n",
              "      <td>0.000000</td>\n",
              "    </tr>\n",
              "    <tr>\n",
              "      <th>94555</th>\n",
              "      <td>0</td>\n",
              "      <td>5.0</td>\n",
              "      <td>9.293854</td>\n",
              "      <td>5.994113</td>\n",
              "      <td>6.957240</td>\n",
              "      <td>9.615826</td>\n",
              "      <td>4.0</td>\n",
              "      <td>7.100547</td>\n",
              "      <td>6.623517</td>\n",
              "      <td>0.0</td>\n",
              "      <td>...</td>\n",
              "      <td>1.000000</td>\n",
              "      <td>1.000000</td>\n",
              "      <td>0.714286</td>\n",
              "      <td>0.0</td>\n",
              "      <td>0.0</td>\n",
              "      <td>0.0</td>\n",
              "      <td>0.0</td>\n",
              "      <td>0.0</td>\n",
              "      <td>0.200000</td>\n",
              "      <td>0.142857</td>\n",
              "    </tr>\n",
              "    <tr>\n",
              "      <th>...</th>\n",
              "      <td>...</td>\n",
              "      <td>...</td>\n",
              "      <td>...</td>\n",
              "      <td>...</td>\n",
              "      <td>...</td>\n",
              "      <td>...</td>\n",
              "      <td>...</td>\n",
              "      <td>...</td>\n",
              "      <td>...</td>\n",
              "      <td>...</td>\n",
              "      <td>...</td>\n",
              "      <td>...</td>\n",
              "      <td>...</td>\n",
              "      <td>...</td>\n",
              "      <td>...</td>\n",
              "      <td>...</td>\n",
              "      <td>...</td>\n",
              "      <td>...</td>\n",
              "      <td>...</td>\n",
              "      <td>...</td>\n",
              "      <td>...</td>\n",
              "    </tr>\n",
              "    <tr>\n",
              "      <th>135034</th>\n",
              "      <td>0</td>\n",
              "      <td>12.0</td>\n",
              "      <td>0.000000</td>\n",
              "      <td>6.581431</td>\n",
              "      <td>7.227825</td>\n",
              "      <td>0.000000</td>\n",
              "      <td>3.0</td>\n",
              "      <td>0.000000</td>\n",
              "      <td>7.184337</td>\n",
              "      <td>0.0</td>\n",
              "      <td>...</td>\n",
              "      <td>0.766667</td>\n",
              "      <td>0.709677</td>\n",
              "      <td>0.666667</td>\n",
              "      <td>0.0</td>\n",
              "      <td>0.0</td>\n",
              "      <td>0.0</td>\n",
              "      <td>0.0</td>\n",
              "      <td>0.0</td>\n",
              "      <td>0.032258</td>\n",
              "      <td>0.033333</td>\n",
              "    </tr>\n",
              "    <tr>\n",
              "      <th>135038</th>\n",
              "      <td>0</td>\n",
              "      <td>0.0</td>\n",
              "      <td>0.000000</td>\n",
              "      <td>5.955104</td>\n",
              "      <td>5.033324</td>\n",
              "      <td>0.000000</td>\n",
              "      <td>2.0</td>\n",
              "      <td>0.000000</td>\n",
              "      <td>0.000000</td>\n",
              "      <td>0.0</td>\n",
              "      <td>...</td>\n",
              "      <td>1.000000</td>\n",
              "      <td>0.700000</td>\n",
              "      <td>0.857143</td>\n",
              "      <td>0.0</td>\n",
              "      <td>0.0</td>\n",
              "      <td>0.0</td>\n",
              "      <td>0.0</td>\n",
              "      <td>0.0</td>\n",
              "      <td>0.000000</td>\n",
              "      <td>0.000000</td>\n",
              "    </tr>\n",
              "    <tr>\n",
              "      <th>135050</th>\n",
              "      <td>0</td>\n",
              "      <td>1.0</td>\n",
              "      <td>0.000000</td>\n",
              "      <td>4.252900</td>\n",
              "      <td>0.000000</td>\n",
              "      <td>0.000000</td>\n",
              "      <td>2.0</td>\n",
              "      <td>0.000000</td>\n",
              "      <td>0.000000</td>\n",
              "      <td>0.0</td>\n",
              "      <td>...</td>\n",
              "      <td>0.666667</td>\n",
              "      <td>0.666667</td>\n",
              "      <td>0.363636</td>\n",
              "      <td>0.0</td>\n",
              "      <td>0.0</td>\n",
              "      <td>0.0</td>\n",
              "      <td>0.0</td>\n",
              "      <td>0.0</td>\n",
              "      <td>0.000000</td>\n",
              "      <td>0.000000</td>\n",
              "    </tr>\n",
              "    <tr>\n",
              "      <th>135053</th>\n",
              "      <td>0</td>\n",
              "      <td>0.0</td>\n",
              "      <td>0.000000</td>\n",
              "      <td>4.264193</td>\n",
              "      <td>6.727582</td>\n",
              "      <td>0.000000</td>\n",
              "      <td>2.0</td>\n",
              "      <td>0.000000</td>\n",
              "      <td>6.566470</td>\n",
              "      <td>0.0</td>\n",
              "      <td>...</td>\n",
              "      <td>0.250000</td>\n",
              "      <td>0.250000</td>\n",
              "      <td>0.047619</td>\n",
              "      <td>0.0</td>\n",
              "      <td>0.0</td>\n",
              "      <td>0.0</td>\n",
              "      <td>0.0</td>\n",
              "      <td>0.0</td>\n",
              "      <td>0.000000</td>\n",
              "      <td>0.000000</td>\n",
              "    </tr>\n",
              "    <tr>\n",
              "      <th>135057</th>\n",
              "      <td>0</td>\n",
              "      <td>1.0</td>\n",
              "      <td>0.000000</td>\n",
              "      <td>6.459977</td>\n",
              "      <td>5.489869</td>\n",
              "      <td>0.000000</td>\n",
              "      <td>3.0</td>\n",
              "      <td>4.703491</td>\n",
              "      <td>0.000000</td>\n",
              "      <td>0.0</td>\n",
              "      <td>...</td>\n",
              "      <td>0.583333</td>\n",
              "      <td>0.833333</td>\n",
              "      <td>0.461538</td>\n",
              "      <td>0.0</td>\n",
              "      <td>0.0</td>\n",
              "      <td>0.0</td>\n",
              "      <td>0.0</td>\n",
              "      <td>0.0</td>\n",
              "      <td>0.000000</td>\n",
              "      <td>0.000000</td>\n",
              "    </tr>\n",
              "  </tbody>\n",
              "</table>\n",
              "<p>12338 rows × 184 columns</p>\n",
              "</div>\n",
              "      <button class=\"colab-df-convert\" onclick=\"convertToInteractive('df-fb07c1a0-db0a-4d73-8c83-4496bb2e16d5')\"\n",
              "              title=\"Convert this dataframe to an interactive table.\"\n",
              "              style=\"display:none;\">\n",
              "        \n",
              "  <svg xmlns=\"http://www.w3.org/2000/svg\" height=\"24px\"viewBox=\"0 0 24 24\"\n",
              "       width=\"24px\">\n",
              "    <path d=\"M0 0h24v24H0V0z\" fill=\"none\"/>\n",
              "    <path d=\"M18.56 5.44l.94 2.06.94-2.06 2.06-.94-2.06-.94-.94-2.06-.94 2.06-2.06.94zm-11 1L8.5 8.5l.94-2.06 2.06-.94-2.06-.94L8.5 2.5l-.94 2.06-2.06.94zm10 10l.94 2.06.94-2.06 2.06-.94-2.06-.94-.94-2.06-.94 2.06-2.06.94z\"/><path d=\"M17.41 7.96l-1.37-1.37c-.4-.4-.92-.59-1.43-.59-.52 0-1.04.2-1.43.59L10.3 9.45l-7.72 7.72c-.78.78-.78 2.05 0 2.83L4 21.41c.39.39.9.59 1.41.59.51 0 1.02-.2 1.41-.59l7.78-7.78 2.81-2.81c.8-.78.8-2.07 0-2.86zM5.41 20L4 18.59l7.72-7.72 1.47 1.35L5.41 20z\"/>\n",
              "  </svg>\n",
              "      </button>\n",
              "      \n",
              "  <style>\n",
              "    .colab-df-container {\n",
              "      display:flex;\n",
              "      flex-wrap:wrap;\n",
              "      gap: 12px;\n",
              "    }\n",
              "\n",
              "    .colab-df-convert {\n",
              "      background-color: #E8F0FE;\n",
              "      border: none;\n",
              "      border-radius: 50%;\n",
              "      cursor: pointer;\n",
              "      display: none;\n",
              "      fill: #1967D2;\n",
              "      height: 32px;\n",
              "      padding: 0 0 0 0;\n",
              "      width: 32px;\n",
              "    }\n",
              "\n",
              "    .colab-df-convert:hover {\n",
              "      background-color: #E2EBFA;\n",
              "      box-shadow: 0px 1px 2px rgba(60, 64, 67, 0.3), 0px 1px 3px 1px rgba(60, 64, 67, 0.15);\n",
              "      fill: #174EA6;\n",
              "    }\n",
              "\n",
              "    [theme=dark] .colab-df-convert {\n",
              "      background-color: #3B4455;\n",
              "      fill: #D2E3FC;\n",
              "    }\n",
              "\n",
              "    [theme=dark] .colab-df-convert:hover {\n",
              "      background-color: #434B5C;\n",
              "      box-shadow: 0px 1px 3px 1px rgba(0, 0, 0, 0.15);\n",
              "      filter: drop-shadow(0px 1px 2px rgba(0, 0, 0, 0.3));\n",
              "      fill: #FFFFFF;\n",
              "    }\n",
              "  </style>\n",
              "\n",
              "      <script>\n",
              "        const buttonEl =\n",
              "          document.querySelector('#df-fb07c1a0-db0a-4d73-8c83-4496bb2e16d5 button.colab-df-convert');\n",
              "        buttonEl.style.display =\n",
              "          google.colab.kernel.accessAllowed ? 'block' : 'none';\n",
              "\n",
              "        async function convertToInteractive(key) {\n",
              "          const element = document.querySelector('#df-fb07c1a0-db0a-4d73-8c83-4496bb2e16d5');\n",
              "          const dataTable =\n",
              "            await google.colab.kernel.invokeFunction('convertToInteractive',\n",
              "                                                     [key], {});\n",
              "          if (!dataTable) return;\n",
              "\n",
              "          const docLinkHtml = 'Like what you see? Visit the ' +\n",
              "            '<a target=\"_blank\" href=https://colab.research.google.com/notebooks/data_table.ipynb>data table notebook</a>'\n",
              "            + ' to learn more about interactive tables.';\n",
              "          element.innerHTML = '';\n",
              "          dataTable['output_type'] = 'display_data';\n",
              "          await google.colab.output.renderOutput(dataTable, element);\n",
              "          const docLink = document.createElement('div');\n",
              "          docLink.innerHTML = docLinkHtml;\n",
              "          element.appendChild(docLink);\n",
              "        }\n",
              "      </script>\n",
              "    </div>\n",
              "  </div>\n",
              "  "
            ]
          },
          "metadata": {},
          "execution_count": 95
        }
      ]
    },
    {
      "cell_type": "code",
      "source": [
        "%matplotlib inline\n",
        "%config InlineBackend.figure_format = 'retina'"
      ],
      "metadata": {
        "id": "xvCHh1C59J2V"
      },
      "id": "xvCHh1C59J2V",
      "execution_count": null,
      "outputs": []
    },
    {
      "cell_type": "code",
      "source": [
        "df_ys = pd.DataFrame([y_test.values,np.array(test_preds)]).transpose()\n",
        "df_ys.index = df_ys.index + 94542\n",
        "bad_bad = np.array(df_ys[(df_ys[1] == 0) & (df_ys[0] == 0)].index)\n",
        "df_bad = data.loc[bad_bad]"
      ],
      "metadata": {
        "id": "qJKPDwucADb7"
      },
      "id": "qJKPDwucADb7",
      "execution_count": null,
      "outputs": []
    },
    {
      "cell_type": "code",
      "source": [
        "fig, ax = plt.subplots(1, 2, figsize=(16, 10), sharey=True)\n",
        "\n",
        "ax[0].hist(data[data['rto_12_Овощи - Фрукты'] > 0]['rto_12_Овощи - Фрукты'], bins=100, label='total', color='#1e8737')\n",
        "ax[0].hist(df_potential['rto_12_Овощи - Фрукты'], bins=100, label='potential', color='#003e14')\n",
        "ax[1].hist(df_bad['rto_12_Овощи - Фрукты'], bins=50, label='bad', color='y')\n",
        "ax[1].hist(df_potential['rto_12_Овощи - Фрукты'], bins=50, label='potential', color='#003e14', alpha=0.7)\n",
        "\n",
        "plt.legend();"
      ],
      "metadata": {
        "colab": {
          "base_uri": "https://localhost:8080/",
          "height": 591
        },
        "id": "-Pztww6s4brz",
        "outputId": "7a17ab63-b109-476e-fc70-fe7c8b279400"
      },
      "id": "-Pztww6s4brz",
      "execution_count": null,
      "outputs": [
        {
          "output_type": "display_data",
          "data": {
            "text/plain": [
              "<Figure size 1152x720 with 2 Axes>"
            ],
            "image/png": "[encoded data removed]"
          },
          "metadata": {
            "image/png": {
              "width": 946,
              "height": 574
            },
            "needs_background": "light"
          }
        }
      ]
    },
    {
      "cell_type": "code",
      "source": [
        "df_potential[cols['part_cnt']].describe()"
      ],
      "metadata": {
        "colab": {
          "base_uri": "https://localhost:8080/",
          "height": 411
        },
        "id": "FvdNO9zF9grZ",
        "outputId": "6927429e-ab0e-4a31-b4cb-5d60e237ae92"
      },
      "id": "FvdNO9zF9grZ",
      "execution_count": null,
      "outputs": [
        {
          "output_type": "execute_result",
          "data": {
            "text/plain": [
              "       part_cnt_6_Овощи - Фрукты  part_cnt_7_Овощи - Фрукты  \\\n",
              "count               12338.000000               12338.000000   \n",
              "mean                    0.406143                   0.397603   \n",
              "std                     0.352689                   0.338618   \n",
              "min                     0.000000                   0.000000   \n",
              "25%                     0.000000                   0.027976   \n",
              "50%                     0.375000                   0.363636   \n",
              "75%                     0.666667                   0.666667   \n",
              "max                     1.000000                   1.000000   \n",
              "\n",
              "       part_cnt_8_Овощи - Фрукты  part_cnt_9_Овощи - Фрукты  \\\n",
              "count               12338.000000               12338.000000   \n",
              "mean                    0.392691                   0.461110   \n",
              "std                     0.327981                   0.317266   \n",
              "min                     0.000000                   0.000000   \n",
              "25%                     0.083333                   0.200000   \n",
              "50%                     0.333333                   0.444444   \n",
              "75%                     0.636364                   0.666667   \n",
              "max                     1.000000                   1.000000   \n",
              "\n",
              "       part_cnt_10_Овощи - Фрукты  part_cnt_11_Овощи - Фрукты  \\\n",
              "count                12338.000000                12338.000000   \n",
              "mean                     0.497709                    0.533118   \n",
              "std                      0.308867                    0.307498   \n",
              "min                      0.000000                    0.000000   \n",
              "25%                      0.250000                    0.285714   \n",
              "50%                      0.500000                    0.500000   \n",
              "75%                      0.727273                    0.769231   \n",
              "max                      1.000000                    1.000000   \n",
              "\n",
              "       part_cnt_12_Овощи - Фрукты  part_cnt_6_Сыры  part_cnt_7_Сыры  \\\n",
              "count                12338.000000     12338.000000     12338.000000   \n",
              "mean                     0.519519         0.168424         0.187318   \n",
              "std                      0.292418         0.250747         0.260334   \n",
              "min                      0.000000         0.000000         0.000000   \n",
              "25%                      0.285714         0.000000         0.000000   \n",
              "50%                      0.500000         0.000000         0.066667   \n",
              "75%                      0.750000         0.250000         0.294118   \n",
              "max                      1.000000         1.000000         1.000000   \n",
              "\n",
              "       part_cnt_8_Сыры  ...  part_cnt_10_Сыры  part_cnt_11_Сыры  \\\n",
              "count     12338.000000  ...      12338.000000      12338.000000   \n",
              "mean          0.212327  ...          0.241077          0.247566   \n",
              "std           0.267467  ...          0.262656          0.267337   \n",
              "min           0.000000  ...          0.000000          0.000000   \n",
              "25%           0.000000  ...          0.000000          0.000000   \n",
              "50%           0.111111  ...          0.166667          0.166667   \n",
              "75%           0.333333  ...          0.375000          0.375000   \n",
              "max           1.000000  ...          1.000000          1.000000   \n",
              "\n",
              "       part_cnt_12_Сыры  part_cnt_6_Крупы и зерновые  \\\n",
              "count      12338.000000                 12338.000000   \n",
              "mean           0.240139                     0.045665   \n",
              "std            0.249519                     0.128865   \n",
              "min            0.000000                     0.000000   \n",
              "25%            0.040000                     0.000000   \n",
              "50%            0.166667                     0.000000   \n",
              "75%            0.333333                     0.000000   \n",
              "max            1.000000                     1.000000   \n",
              "\n",
              "       part_cnt_7_Крупы и зерновые  part_cnt_8_Крупы и зерновые  \\\n",
              "count                 12338.000000                 12338.000000   \n",
              "mean                      0.047161                     0.062125   \n",
              "std                       0.126086                     0.148814   \n",
              "min                       0.000000                     0.000000   \n",
              "25%                       0.000000                     0.000000   \n",
              "50%                       0.000000                     0.000000   \n",
              "75%                       0.000000                     0.055556   \n",
              "max                       1.000000                     1.000000   \n",
              "\n",
              "       part_cnt_9_Крупы и зерновые  part_cnt_10_Крупы и зерновые  \\\n",
              "count                 12338.000000                  12338.000000   \n",
              "mean                      0.073538                      0.076133   \n",
              "std                       0.153723                      0.153074   \n",
              "min                       0.000000                      0.000000   \n",
              "25%                       0.000000                      0.000000   \n",
              "50%                       0.000000                      0.000000   \n",
              "75%                       0.086957                      0.095238   \n",
              "max                       1.000000                      1.000000   \n",
              "\n",
              "       part_cnt_11_Крупы и зерновые  part_cnt_12_Крупы и зерновые  \n",
              "count                  12338.000000                  12338.000000  \n",
              "mean                       0.079787                      0.065371  \n",
              "std                        0.157600                      0.133203  \n",
              "min                        0.000000                      0.000000  \n",
              "25%                        0.000000                      0.000000  \n",
              "50%                        0.000000                      0.000000  \n",
              "75%                        0.100000                      0.083333  \n",
              "max                        1.000000                      1.000000  \n",
              "\n",
              "[8 rows x 21 columns]"
            ],
            "text/html": [
              "\n",
              "  <div id=\"df-353ee716-92e7-4559-afb7-6d00e883ded7\">\n",
              "    <div class=\"colab-df-container\">\n",
              "      <div>\n",
              "<style scoped>\n",
              "    .dataframe tbody tr th:only-of-type {\n",
              "        vertical-align: middle;\n",
              "    }\n",
              "\n",
              "    .dataframe tbody tr th {\n",
              "        vertical-align: top;\n",
              "    }\n",
              "\n",
              "    .dataframe thead th {\n",
              "        text-align: right;\n",
              "    }\n",
              "</style>\n",
              "<table border=\"1\" class=\"dataframe\">\n",
              "  <thead>\n",
              "    <tr style=\"text-align: right;\">\n",
              "      <th></th>\n",
              "      <th>part_cnt_6_Овощи - Фрукты</th>\n",
              "      <th>part_cnt_7_Овощи - Фрукты</th>\n",
              "      <th>part_cnt_8_Овощи - Фрукты</th>\n",
              "      <th>part_cnt_9_Овощи - Фрукты</th>\n",
              "      <th>part_cnt_10_Овощи - Фрукты</th>\n",
              "      <th>part_cnt_11_Овощи - Фрукты</th>\n",
              "      <th>part_cnt_12_Овощи - Фрукты</th>\n",
              "      <th>part_cnt_6_Сыры</th>\n",
              "      <th>part_cnt_7_Сыры</th>\n",
              "      <th>part_cnt_8_Сыры</th>\n",
              "      <th>...</th>\n",
              "      <th>part_cnt_10_Сыры</th>\n",
              "      <th>part_cnt_11_Сыры</th>\n",
              "      <th>part_cnt_12_Сыры</th>\n",
              "      <th>part_cnt_6_Крупы и зерновые</th>\n",
              "      <th>part_cnt_7_Крупы и зерновые</th>\n",
              "      <th>part_cnt_8_Крупы и зерновые</th>\n",
              "      <th>part_cnt_9_Крупы и зерновые</th>\n",
              "      <th>part_cnt_10_Крупы и зерновые</th>\n",
              "      <th>part_cnt_11_Крупы и зерновые</th>\n",
              "      <th>part_cnt_12_Крупы и зерновые</th>\n",
              "    </tr>\n",
              "  </thead>\n",
              "  <tbody>\n",
              "    <tr>\n",
              "      <th>count</th>\n",
              "      <td>12338.000000</td>\n",
              "      <td>12338.000000</td>\n",
              "      <td>12338.000000</td>\n",
              "      <td>12338.000000</td>\n",
              "      <td>12338.000000</td>\n",
              "      <td>12338.000000</td>\n",
              "      <td>12338.000000</td>\n",
              "      <td>12338.000000</td>\n",
              "      <td>12338.000000</td>\n",
              "      <td>12338.000000</td>\n",
              "      <td>...</td>\n",
              "      <td>12338.000000</td>\n",
              "      <td>12338.000000</td>\n",
              "      <td>12338.000000</td>\n",
              "      <td>12338.000000</td>\n",
              "      <td>12338.000000</td>\n",
              "      <td>12338.000000</td>\n",
              "      <td>12338.000000</td>\n",
              "      <td>12338.000000</td>\n",
              "      <td>12338.000000</td>\n",
              "      <td>12338.000000</td>\n",
              "    </tr>\n",
              "    <tr>\n",
              "      <th>mean</th>\n",
              "      <td>0.406143</td>\n",
              "      <td>0.397603</td>\n",
              "      <td>0.392691</td>\n",
              "      <td>0.461110</td>\n",
              "      <td>0.497709</td>\n",
              "      <td>0.533118</td>\n",
              "      <td>0.519519</td>\n",
              "      <td>0.168424</td>\n",
              "      <td>0.187318</td>\n",
              "      <td>0.212327</td>\n",
              "      <td>...</td>\n",
              "      <td>0.241077</td>\n",
              "      <td>0.247566</td>\n",
              "      <td>0.240139</td>\n",
              "      <td>0.045665</td>\n",
              "      <td>0.047161</td>\n",
              "      <td>0.062125</td>\n",
              "      <td>0.073538</td>\n",
              "      <td>0.076133</td>\n",
              "      <td>0.079787</td>\n",
              "      <td>0.065371</td>\n",
              "    </tr>\n",
              "    <tr>\n",
              "      <th>std</th>\n",
              "      <td>0.352689</td>\n",
              "      <td>0.338618</td>\n",
              "      <td>0.327981</td>\n",
              "      <td>0.317266</td>\n",
              "      <td>0.308867</td>\n",
              "      <td>0.307498</td>\n",
              "      <td>0.292418</td>\n",
              "      <td>0.250747</td>\n",
              "      <td>0.260334</td>\n",
              "      <td>0.267467</td>\n",
              "      <td>...</td>\n",
              "      <td>0.262656</td>\n",
              "      <td>0.267337</td>\n",
              "      <td>0.249519</td>\n",
              "      <td>0.128865</td>\n",
              "      <td>0.126086</td>\n",
              "      <td>0.148814</td>\n",
              "      <td>0.153723</td>\n",
              "      <td>0.153074</td>\n",
              "      <td>0.157600</td>\n",
              "      <td>0.133203</td>\n",
              "    </tr>\n",
              "    <tr>\n",
              "      <th>min</th>\n",
              "      <td>0.000000</td>\n",
              "      <td>0.000000</td>\n",
              "      <td>0.000000</td>\n",
              "      <td>0.000000</td>\n",
              "      <td>0.000000</td>\n",
              "      <td>0.000000</td>\n",
              "      <td>0.000000</td>\n",
              "      <td>0.000000</td>\n",
              "      <td>0.000000</td>\n",
              "      <td>0.000000</td>\n",
              "      <td>...</td>\n",
              "      <td>0.000000</td>\n",
              "      <td>0.000000</td>\n",
              "      <td>0.000000</td>\n",
              "      <td>0.000000</td>\n",
              "      <td>0.000000</td>\n",
              "      <td>0.000000</td>\n",
              "      <td>0.000000</td>\n",
              "      <td>0.000000</td>\n",
              "      <td>0.000000</td>\n",
              "      <td>0.000000</td>\n",
              "    </tr>\n",
              "    <tr>\n",
              "      <th>25%</th>\n",
              "      <td>0.000000</td>\n",
              "      <td>0.027976</td>\n",
              "      <td>0.083333</td>\n",
              "      <td>0.200000</td>\n",
              "      <td>0.250000</td>\n",
              "      <td>0.285714</td>\n",
              "      <td>0.285714</td>\n",
              "      <td>0.000000</td>\n",
              "      <td>0.000000</td>\n",
              "      <td>0.000000</td>\n",
              "      <td>...</td>\n",
              "      <td>0.000000</td>\n",
              "      <td>0.000000</td>\n",
              "      <td>0.040000</td>\n",
              "      <td>0.000000</td>\n",
              "      <td>0.000000</td>\n",
              "      <td>0.000000</td>\n",
              "      <td>0.000000</td>\n",
              "      <td>0.000000</td>\n",
              "      <td>0.000000</td>\n",
              "      <td>0.000000</td>\n",
              "    </tr>\n",
              "    <tr>\n",
              "      <th>50%</th>\n",
              "      <td>0.375000</td>\n",
              "      <td>0.363636</td>\n",
              "      <td>0.333333</td>\n",
              "      <td>0.444444</td>\n",
              "      <td>0.500000</td>\n",
              "      <td>0.500000</td>\n",
              "      <td>0.500000</td>\n",
              "      <td>0.000000</td>\n",
              "      <td>0.066667</td>\n",
              "      <td>0.111111</td>\n",
              "      <td>...</td>\n",
              "      <td>0.166667</td>\n",
              "      <td>0.166667</td>\n",
              "      <td>0.166667</td>\n",
              "      <td>0.000000</td>\n",
              "      <td>0.000000</td>\n",
              "      <td>0.000000</td>\n",
              "      <td>0.000000</td>\n",
              "      <td>0.000000</td>\n",
              "      <td>0.000000</td>\n",
              "      <td>0.000000</td>\n",
              "    </tr>\n",
              "    <tr>\n",
              "      <th>75%</th>\n",
              "      <td>0.666667</td>\n",
              "      <td>0.666667</td>\n",
              "      <td>0.636364</td>\n",
              "      <td>0.666667</td>\n",
              "      <td>0.727273</td>\n",
              "      <td>0.769231</td>\n",
              "      <td>0.750000</td>\n",
              "      <td>0.250000</td>\n",
              "      <td>0.294118</td>\n",
              "      <td>0.333333</td>\n",
              "      <td>...</td>\n",
              "      <td>0.375000</td>\n",
              "      <td>0.375000</td>\n",
              "      <td>0.333333</td>\n",
              "      <td>0.000000</td>\n",
              "      <td>0.000000</td>\n",
              "      <td>0.055556</td>\n",
              "      <td>0.086957</td>\n",
              "      <td>0.095238</td>\n",
              "      <td>0.100000</td>\n",
              "      <td>0.083333</td>\n",
              "    </tr>\n",
              "    <tr>\n",
              "      <th>max</th>\n",
              "      <td>1.000000</td>\n",
              "      <td>1.000000</td>\n",
              "      <td>1.000000</td>\n",
              "      <td>1.000000</td>\n",
              "      <td>1.000000</td>\n",
              "      <td>1.000000</td>\n",
              "      <td>1.000000</td>\n",
              "      <td>1.000000</td>\n",
              "      <td>1.000000</td>\n",
              "      <td>1.000000</td>\n",
              "      <td>...</td>\n",
              "      <td>1.000000</td>\n",
              "      <td>1.000000</td>\n",
              "      <td>1.000000</td>\n",
              "      <td>1.000000</td>\n",
              "      <td>1.000000</td>\n",
              "      <td>1.000000</td>\n",
              "      <td>1.000000</td>\n",
              "      <td>1.000000</td>\n",
              "      <td>1.000000</td>\n",
              "      <td>1.000000</td>\n",
              "    </tr>\n",
              "  </tbody>\n",
              "</table>\n",
              "<p>8 rows × 21 columns</p>\n",
              "</div>\n",
              "      <button class=\"colab-df-convert\" onclick=\"convertToInteractive('df-353ee716-92e7-4559-afb7-6d00e883ded7')\"\n",
              "              title=\"Convert this dataframe to an interactive table.\"\n",
              "              style=\"display:none;\">\n",
              "        \n",
              "  <svg xmlns=\"http://www.w3.org/2000/svg\" height=\"24px\"viewBox=\"0 0 24 24\"\n",
              "       width=\"24px\">\n",
              "    <path d=\"M0 0h24v24H0V0z\" fill=\"none\"/>\n",
              "    <path d=\"M18.56 5.44l.94 2.06.94-2.06 2.06-.94-2.06-.94-.94-2.06-.94 2.06-2.06.94zm-11 1L8.5 8.5l.94-2.06 2.06-.94-2.06-.94L8.5 2.5l-.94 2.06-2.06.94zm10 10l.94 2.06.94-2.06 2.06-.94-2.06-.94-.94-2.06-.94 2.06-2.06.94z\"/><path d=\"M17.41 7.96l-1.37-1.37c-.4-.4-.92-.59-1.43-.59-.52 0-1.04.2-1.43.59L10.3 9.45l-7.72 7.72c-.78.78-.78 2.05 0 2.83L4 21.41c.39.39.9.59 1.41.59.51 0 1.02-.2 1.41-.59l7.78-7.78 2.81-2.81c.8-.78.8-2.07 0-2.86zM5.41 20L4 18.59l7.72-7.72 1.47 1.35L5.41 20z\"/>\n",
              "  </svg>\n",
              "      </button>\n",
              "      \n",
              "  <style>\n",
              "    .colab-df-container {\n",
              "      display:flex;\n",
              "      flex-wrap:wrap;\n",
              "      gap: 12px;\n",
              "    }\n",
              "\n",
              "    .colab-df-convert {\n",
              "      background-color: #E8F0FE;\n",
              "      border: none;\n",
              "      border-radius: 50%;\n",
              "      cursor: pointer;\n",
              "      display: none;\n",
              "      fill: #1967D2;\n",
              "      height: 32px;\n",
              "      padding: 0 0 0 0;\n",
              "      width: 32px;\n",
              "    }\n",
              "\n",
              "    .colab-df-convert:hover {\n",
              "      background-color: #E2EBFA;\n",
              "      box-shadow: 0px 1px 2px rgba(60, 64, 67, 0.3), 0px 1px 3px 1px rgba(60, 64, 67, 0.15);\n",
              "      fill: #174EA6;\n",
              "    }\n",
              "\n",
              "    [theme=dark] .colab-df-convert {\n",
              "      background-color: #3B4455;\n",
              "      fill: #D2E3FC;\n",
              "    }\n",
              "\n",
              "    [theme=dark] .colab-df-convert:hover {\n",
              "      background-color: #434B5C;\n",
              "      box-shadow: 0px 1px 3px 1px rgba(0, 0, 0, 0.15);\n",
              "      filter: drop-shadow(0px 1px 2px rgba(0, 0, 0, 0.3));\n",
              "      fill: #FFFFFF;\n",
              "    }\n",
              "  </style>\n",
              "\n",
              "      <script>\n",
              "        const buttonEl =\n",
              "          document.querySelector('#df-353ee716-92e7-4559-afb7-6d00e883ded7 button.colab-df-convert');\n",
              "        buttonEl.style.display =\n",
              "          google.colab.kernel.accessAllowed ? 'block' : 'none';\n",
              "\n",
              "        async function convertToInteractive(key) {\n",
              "          const element = document.querySelector('#df-353ee716-92e7-4559-afb7-6d00e883ded7');\n",
              "          const dataTable =\n",
              "            await google.colab.kernel.invokeFunction('convertToInteractive',\n",
              "                                                     [key], {});\n",
              "          if (!dataTable) return;\n",
              "\n",
              "          const docLinkHtml = 'Like what you see? Visit the ' +\n",
              "            '<a target=\"_blank\" href=https://colab.research.google.com/notebooks/data_table.ipynb>data table notebook</a>'\n",
              "            + ' to learn more about interactive tables.';\n",
              "          element.innerHTML = '';\n",
              "          dataTable['output_type'] = 'display_data';\n",
              "          await google.colab.output.renderOutput(dataTable, element);\n",
              "          const docLink = document.createElement('div');\n",
              "          docLink.innerHTML = docLinkHtml;\n",
              "          element.appendChild(docLink);\n",
              "        }\n",
              "      </script>\n",
              "    </div>\n",
              "  </div>\n",
              "  "
            ]
          },
          "metadata": {},
          "execution_count": 119
        }
      ]
    },
    {
      "cell_type": "code",
      "source": [
        "X_test[(y_test == 0) & (test_preds == 0)][cols['part_cnt']].describe()"
      ],
      "metadata": {
        "colab": {
          "base_uri": "https://localhost:8080/",
          "height": 411
        },
        "id": "iC5K0QDE-OSV",
        "outputId": "f775fcbf-299d-4632-de44-58b175190a73"
      },
      "id": "iC5K0QDE-OSV",
      "execution_count": null,
      "outputs": [
        {
          "output_type": "execute_result",
          "data": {
            "text/plain": [
              "       part_cnt_6_Овощи - Фрукты  part_cnt_7_Овощи - Фрукты  \\\n",
              "count               25280.000000               25280.000000   \n",
              "mean                    0.205185                   0.218012   \n",
              "std                     0.294795                   0.296399   \n",
              "min                     0.000000                   0.000000   \n",
              "25%                     0.000000                   0.000000   \n",
              "50%                     0.000000                   0.000000   \n",
              "75%                     0.333333                   0.400000   \n",
              "max                     1.000000                   1.000000   \n",
              "\n",
              "       part_cnt_8_Овощи - Фрукты  part_cnt_9_Овощи - Фрукты  \\\n",
              "count               25280.000000               25280.000000   \n",
              "mean                    0.230609                   0.229958   \n",
              "std                     0.301668                   0.294643   \n",
              "min                     0.000000                   0.000000   \n",
              "25%                     0.000000                   0.000000   \n",
              "50%                     0.052632                   0.083333   \n",
              "75%                     0.400000                   0.400000   \n",
              "max                     1.000000                   1.000000   \n",
              "\n",
              "       part_cnt_10_Овощи - Фрукты  part_cnt_11_Овощи - Фрукты  \\\n",
              "count                25280.000000                25280.000000   \n",
              "mean                     0.247166                    0.251944   \n",
              "std                      0.304927                    0.318475   \n",
              "min                      0.000000                    0.000000   \n",
              "25%                      0.000000                    0.000000   \n",
              "50%                      0.120000                    0.083333   \n",
              "75%                      0.500000                    0.500000   \n",
              "max                      1.000000                    1.000000   \n",
              "\n",
              "       part_cnt_12_Овощи - Фрукты  part_cnt_6_Сыры  part_cnt_7_Сыры  \\\n",
              "count                25280.000000     25280.000000     25280.000000   \n",
              "mean                     0.242726         0.078528         0.082787   \n",
              "std                      0.307237         0.185356         0.185466   \n",
              "min                      0.000000         0.000000         0.000000   \n",
              "25%                      0.000000         0.000000         0.000000   \n",
              "50%                      0.090909         0.000000         0.000000   \n",
              "75%                      0.444444         0.000000         0.043638   \n",
              "max                      1.000000         1.000000         1.000000   \n",
              "\n",
              "       part_cnt_8_Сыры  ...  part_cnt_10_Сыры  part_cnt_11_Сыры  \\\n",
              "count     25280.000000  ...      25280.000000      25280.000000   \n",
              "mean          0.095842  ...          0.095311          0.091745   \n",
              "std           0.199387  ...          0.193481          0.199261   \n",
              "min           0.000000  ...          0.000000          0.000000   \n",
              "25%           0.000000  ...          0.000000          0.000000   \n",
              "50%           0.000000  ...          0.000000          0.000000   \n",
              "75%           0.111111  ...          0.111111          0.071429   \n",
              "max           1.000000  ...          1.000000          1.000000   \n",
              "\n",
              "       part_cnt_12_Сыры  part_cnt_6_Крупы и зерновые  \\\n",
              "count      25280.000000                  25280.00000   \n",
              "mean           0.093655                      0.02166   \n",
              "std            0.200305                      0.09528   \n",
              "min            0.000000                      0.00000   \n",
              "25%            0.000000                      0.00000   \n",
              "50%            0.000000                      0.00000   \n",
              "75%            0.090909                      0.00000   \n",
              "max            1.000000                      1.00000   \n",
              "\n",
              "       part_cnt_7_Крупы и зерновые  part_cnt_8_Крупы и зерновые  \\\n",
              "count                 25280.000000                 25280.000000   \n",
              "mean                      0.023236                     0.026296   \n",
              "std                       0.097595                     0.102094   \n",
              "min                       0.000000                     0.000000   \n",
              "25%                       0.000000                     0.000000   \n",
              "50%                       0.000000                     0.000000   \n",
              "75%                       0.000000                     0.000000   \n",
              "max                       1.000000                     1.000000   \n",
              "\n",
              "       part_cnt_9_Крупы и зерновые  part_cnt_10_Крупы и зерновые  \\\n",
              "count                 25280.000000                  25280.000000   \n",
              "mean                      0.027974                      0.027963   \n",
              "std                       0.102417                      0.104833   \n",
              "min                       0.000000                      0.000000   \n",
              "25%                       0.000000                      0.000000   \n",
              "50%                       0.000000                      0.000000   \n",
              "75%                       0.000000                      0.000000   \n",
              "max                       1.000000                      1.000000   \n",
              "\n",
              "       part_cnt_11_Крупы и зерновые  part_cnt_12_Крупы и зерновые  \n",
              "count                  25280.000000                  25280.000000  \n",
              "mean                       0.024197                      0.022341  \n",
              "std                        0.098883                      0.096465  \n",
              "min                        0.000000                      0.000000  \n",
              "25%                        0.000000                      0.000000  \n",
              "50%                        0.000000                      0.000000  \n",
              "75%                        0.000000                      0.000000  \n",
              "max                        1.000000                      1.000000  \n",
              "\n",
              "[8 rows x 21 columns]"
            ],
            "text/html": [
              "\n",
              "  <div id=\"df-12be52b9-94f4-4f43-9626-60e0392f2670\">\n",
              "    <div class=\"colab-df-container\">\n",
              "      <div>\n",
              "<style scoped>\n",
              "    .dataframe tbody tr th:only-of-type {\n",
              "        vertical-align: middle;\n",
              "    }\n",
              "\n",
              "    .dataframe tbody tr th {\n",
              "        vertical-align: top;\n",
              "    }\n",
              "\n",
              "    .dataframe thead th {\n",
              "        text-align: right;\n",
              "    }\n",
              "</style>\n",
              "<table border=\"1\" class=\"dataframe\">\n",
              "  <thead>\n",
              "    <tr style=\"text-align: right;\">\n",
              "      <th></th>\n",
              "      <th>part_cnt_6_Овощи - Фрукты</th>\n",
              "      <th>part_cnt_7_Овощи - Фрукты</th>\n",
              "      <th>part_cnt_8_Овощи - Фрукты</th>\n",
              "      <th>part_cnt_9_Овощи - Фрукты</th>\n",
              "      <th>part_cnt_10_Овощи - Фрукты</th>\n",
              "      <th>part_cnt_11_Овощи - Фрукты</th>\n",
              "      <th>part_cnt_12_Овощи - Фрукты</th>\n",
              "      <th>part_cnt_6_Сыры</th>\n",
              "      <th>part_cnt_7_Сыры</th>\n",
              "      <th>part_cnt_8_Сыры</th>\n",
              "      <th>...</th>\n",
              "      <th>part_cnt_10_Сыры</th>\n",
              "      <th>part_cnt_11_Сыры</th>\n",
              "      <th>part_cnt_12_Сыры</th>\n",
              "      <th>part_cnt_6_Крупы и зерновые</th>\n",
              "      <th>part_cnt_7_Крупы и зерновые</th>\n",
              "      <th>part_cnt_8_Крупы и зерновые</th>\n",
              "      <th>part_cnt_9_Крупы и зерновые</th>\n",
              "      <th>part_cnt_10_Крупы и зерновые</th>\n",
              "      <th>part_cnt_11_Крупы и зерновые</th>\n",
              "      <th>part_cnt_12_Крупы и зерновые</th>\n",
              "    </tr>\n",
              "  </thead>\n",
              "  <tbody>\n",
              "    <tr>\n",
              "      <th>count</th>\n",
              "      <td>25280.000000</td>\n",
              "      <td>25280.000000</td>\n",
              "      <td>25280.000000</td>\n",
              "      <td>25280.000000</td>\n",
              "      <td>25280.000000</td>\n",
              "      <td>25280.000000</td>\n",
              "      <td>25280.000000</td>\n",
              "      <td>25280.000000</td>\n",
              "      <td>25280.000000</td>\n",
              "      <td>25280.000000</td>\n",
              "      <td>...</td>\n",
              "      <td>25280.000000</td>\n",
              "      <td>25280.000000</td>\n",
              "      <td>25280.000000</td>\n",
              "      <td>25280.00000</td>\n",
              "      <td>25280.000000</td>\n",
              "      <td>25280.000000</td>\n",
              "      <td>25280.000000</td>\n",
              "      <td>25280.000000</td>\n",
              "      <td>25280.000000</td>\n",
              "      <td>25280.000000</td>\n",
              "    </tr>\n",
              "    <tr>\n",
              "      <th>mean</th>\n",
              "      <td>0.205185</td>\n",
              "      <td>0.218012</td>\n",
              "      <td>0.230609</td>\n",
              "      <td>0.229958</td>\n",
              "      <td>0.247166</td>\n",
              "      <td>0.251944</td>\n",
              "      <td>0.242726</td>\n",
              "      <td>0.078528</td>\n",
              "      <td>0.082787</td>\n",
              "      <td>0.095842</td>\n",
              "      <td>...</td>\n",
              "      <td>0.095311</td>\n",
              "      <td>0.091745</td>\n",
              "      <td>0.093655</td>\n",
              "      <td>0.02166</td>\n",
              "      <td>0.023236</td>\n",
              "      <td>0.026296</td>\n",
              "      <td>0.027974</td>\n",
              "      <td>0.027963</td>\n",
              "      <td>0.024197</td>\n",
              "      <td>0.022341</td>\n",
              "    </tr>\n",
              "    <tr>\n",
              "      <th>std</th>\n",
              "      <td>0.294795</td>\n",
              "      <td>0.296399</td>\n",
              "      <td>0.301668</td>\n",
              "      <td>0.294643</td>\n",
              "      <td>0.304927</td>\n",
              "      <td>0.318475</td>\n",
              "      <td>0.307237</td>\n",
              "      <td>0.185356</td>\n",
              "      <td>0.185466</td>\n",
              "      <td>0.199387</td>\n",
              "      <td>...</td>\n",
              "      <td>0.193481</td>\n",
              "      <td>0.199261</td>\n",
              "      <td>0.200305</td>\n",
              "      <td>0.09528</td>\n",
              "      <td>0.097595</td>\n",
              "      <td>0.102094</td>\n",
              "      <td>0.102417</td>\n",
              "      <td>0.104833</td>\n",
              "      <td>0.098883</td>\n",
              "      <td>0.096465</td>\n",
              "    </tr>\n",
              "    <tr>\n",
              "      <th>min</th>\n",
              "      <td>0.000000</td>\n",
              "      <td>0.000000</td>\n",
              "      <td>0.000000</td>\n",
              "      <td>0.000000</td>\n",
              "      <td>0.000000</td>\n",
              "      <td>0.000000</td>\n",
              "      <td>0.000000</td>\n",
              "      <td>0.000000</td>\n",
              "      <td>0.000000</td>\n",
              "      <td>0.000000</td>\n",
              "      <td>...</td>\n",
              "      <td>0.000000</td>\n",
              "      <td>0.000000</td>\n",
              "      <td>0.000000</td>\n",
              "      <td>0.00000</td>\n",
              "      <td>0.000000</td>\n",
              "      <td>0.000000</td>\n",
              "      <td>0.000000</td>\n",
              "      <td>0.000000</td>\n",
              "      <td>0.000000</td>\n",
              "      <td>0.000000</td>\n",
              "    </tr>\n",
              "    <tr>\n",
              "      <th>25%</th>\n",
              "      <td>0.000000</td>\n",
              "      <td>0.000000</td>\n",
              "      <td>0.000000</td>\n",
              "      <td>0.000000</td>\n",
              "      <td>0.000000</td>\n",
              "      <td>0.000000</td>\n",
              "      <td>0.000000</td>\n",
              "      <td>0.000000</td>\n",
              "      <td>0.000000</td>\n",
              "      <td>0.000000</td>\n",
              "      <td>...</td>\n",
              "      <td>0.000000</td>\n",
              "      <td>0.000000</td>\n",
              "      <td>0.000000</td>\n",
              "      <td>0.00000</td>\n",
              "      <td>0.000000</td>\n",
              "      <td>0.000000</td>\n",
              "      <td>0.000000</td>\n",
              "      <td>0.000000</td>\n",
              "      <td>0.000000</td>\n",
              "      <td>0.000000</td>\n",
              "    </tr>\n",
              "    <tr>\n",
              "      <th>50%</th>\n",
              "      <td>0.000000</td>\n",
              "      <td>0.000000</td>\n",
              "      <td>0.052632</td>\n",
              "      <td>0.083333</td>\n",
              "      <td>0.120000</td>\n",
              "      <td>0.083333</td>\n",
              "      <td>0.090909</td>\n",
              "      <td>0.000000</td>\n",
              "      <td>0.000000</td>\n",
              "      <td>0.000000</td>\n",
              "      <td>...</td>\n",
              "      <td>0.000000</td>\n",
              "      <td>0.000000</td>\n",
              "      <td>0.000000</td>\n",
              "      <td>0.00000</td>\n",
              "      <td>0.000000</td>\n",
              "      <td>0.000000</td>\n",
              "      <td>0.000000</td>\n",
              "      <td>0.000000</td>\n",
              "      <td>0.000000</td>\n",
              "      <td>0.000000</td>\n",
              "    </tr>\n",
              "    <tr>\n",
              "      <th>75%</th>\n",
              "      <td>0.333333</td>\n",
              "      <td>0.400000</td>\n",
              "      <td>0.400000</td>\n",
              "      <td>0.400000</td>\n",
              "      <td>0.500000</td>\n",
              "      <td>0.500000</td>\n",
              "      <td>0.444444</td>\n",
              "      <td>0.000000</td>\n",
              "      <td>0.043638</td>\n",
              "      <td>0.111111</td>\n",
              "      <td>...</td>\n",
              "      <td>0.111111</td>\n",
              "      <td>0.071429</td>\n",
              "      <td>0.090909</td>\n",
              "      <td>0.00000</td>\n",
              "      <td>0.000000</td>\n",
              "      <td>0.000000</td>\n",
              "      <td>0.000000</td>\n",
              "      <td>0.000000</td>\n",
              "      <td>0.000000</td>\n",
              "      <td>0.000000</td>\n",
              "    </tr>\n",
              "    <tr>\n",
              "      <th>max</th>\n",
              "      <td>1.000000</td>\n",
              "      <td>1.000000</td>\n",
              "      <td>1.000000</td>\n",
              "      <td>1.000000</td>\n",
              "      <td>1.000000</td>\n",
              "      <td>1.000000</td>\n",
              "      <td>1.000000</td>\n",
              "      <td>1.000000</td>\n",
              "      <td>1.000000</td>\n",
              "      <td>1.000000</td>\n",
              "      <td>...</td>\n",
              "      <td>1.000000</td>\n",
              "      <td>1.000000</td>\n",
              "      <td>1.000000</td>\n",
              "      <td>1.00000</td>\n",
              "      <td>1.000000</td>\n",
              "      <td>1.000000</td>\n",
              "      <td>1.000000</td>\n",
              "      <td>1.000000</td>\n",
              "      <td>1.000000</td>\n",
              "      <td>1.000000</td>\n",
              "    </tr>\n",
              "  </tbody>\n",
              "</table>\n",
              "<p>8 rows × 21 columns</p>\n",
              "</div>\n",
              "      <button class=\"colab-df-convert\" onclick=\"convertToInteractive('df-12be52b9-94f4-4f43-9626-60e0392f2670')\"\n",
              "              title=\"Convert this dataframe to an interactive table.\"\n",
              "              style=\"display:none;\">\n",
              "        \n",
              "  <svg xmlns=\"http://www.w3.org/2000/svg\" height=\"24px\"viewBox=\"0 0 24 24\"\n",
              "       width=\"24px\">\n",
              "    <path d=\"M0 0h24v24H0V0z\" fill=\"none\"/>\n",
              "    <path d=\"M18.56 5.44l.94 2.06.94-2.06 2.06-.94-2.06-.94-.94-2.06-.94 2.06-2.06.94zm-11 1L8.5 8.5l.94-2.06 2.06-.94-2.06-.94L8.5 2.5l-.94 2.06-2.06.94zm10 10l.94 2.06.94-2.06 2.06-.94-2.06-.94-.94-2.06-.94 2.06-2.06.94z\"/><path d=\"M17.41 7.96l-1.37-1.37c-.4-.4-.92-.59-1.43-.59-.52 0-1.04.2-1.43.59L10.3 9.45l-7.72 7.72c-.78.78-.78 2.05 0 2.83L4 21.41c.39.39.9.59 1.41.59.51 0 1.02-.2 1.41-.59l7.78-7.78 2.81-2.81c.8-.78.8-2.07 0-2.86zM5.41 20L4 18.59l7.72-7.72 1.47 1.35L5.41 20z\"/>\n",
              "  </svg>\n",
              "      </button>\n",
              "      \n",
              "  <style>\n",
              "    .colab-df-container {\n",
              "      display:flex;\n",
              "      flex-wrap:wrap;\n",
              "      gap: 12px;\n",
              "    }\n",
              "\n",
              "    .colab-df-convert {\n",
              "      background-color: #E8F0FE;\n",
              "      border: none;\n",
              "      border-radius: 50%;\n",
              "      cursor: pointer;\n",
              "      display: none;\n",
              "      fill: #1967D2;\n",
              "      height: 32px;\n",
              "      padding: 0 0 0 0;\n",
              "      width: 32px;\n",
              "    }\n",
              "\n",
              "    .colab-df-convert:hover {\n",
              "      background-color: #E2EBFA;\n",
              "      box-shadow: 0px 1px 2px rgba(60, 64, 67, 0.3), 0px 1px 3px 1px rgba(60, 64, 67, 0.15);\n",
              "      fill: #174EA6;\n",
              "    }\n",
              "\n",
              "    [theme=dark] .colab-df-convert {\n",
              "      background-color: #3B4455;\n",
              "      fill: #D2E3FC;\n",
              "    }\n",
              "\n",
              "    [theme=dark] .colab-df-convert:hover {\n",
              "      background-color: #434B5C;\n",
              "      box-shadow: 0px 1px 3px 1px rgba(0, 0, 0, 0.15);\n",
              "      filter: drop-shadow(0px 1px 2px rgba(0, 0, 0, 0.3));\n",
              "      fill: #FFFFFF;\n",
              "    }\n",
              "  </style>\n",
              "\n",
              "      <script>\n",
              "        const buttonEl =\n",
              "          document.querySelector('#df-12be52b9-94f4-4f43-9626-60e0392f2670 button.colab-df-convert');\n",
              "        buttonEl.style.display =\n",
              "          google.colab.kernel.accessAllowed ? 'block' : 'none';\n",
              "\n",
              "        async function convertToInteractive(key) {\n",
              "          const element = document.querySelector('#df-12be52b9-94f4-4f43-9626-60e0392f2670');\n",
              "          const dataTable =\n",
              "            await google.colab.kernel.invokeFunction('convertToInteractive',\n",
              "                                                     [key], {});\n",
              "          if (!dataTable) return;\n",
              "\n",
              "          const docLinkHtml = 'Like what you see? Visit the ' +\n",
              "            '<a target=\"_blank\" href=https://colab.research.google.com/notebooks/data_table.ipynb>data table notebook</a>'\n",
              "            + ' to learn more about interactive tables.';\n",
              "          element.innerHTML = '';\n",
              "          dataTable['output_type'] = 'display_data';\n",
              "          await google.colab.output.renderOutput(dataTable, element);\n",
              "          const docLink = document.createElement('div');\n",
              "          docLink.innerHTML = docLinkHtml;\n",
              "          element.appendChild(docLink);\n",
              "        }\n",
              "      </script>\n",
              "    </div>\n",
              "  </div>\n",
              "  "
            ]
          },
          "metadata": {},
          "execution_count": 122
        }
      ]
    },
    {
      "cell_type": "markdown",
      "source": [
        "#### Семантическая оценка качества выделенной группы"
      ],
      "metadata": {
        "id": "Ok1p1F-TUi9L"
      },
      "id": "Ok1p1F-TUi9L"
    },
    {
      "cell_type": "code",
      "source": [
        "fig, ax = plt.subplots(1, 2, figsize=(16, 10), sharey=True)\n",
        "\n",
        "ax[0].hist(data['rto_12'], bins=50, label='total', color='#1e8737')\n",
        "ax[0].hist(df_potential['rto_12'], bins=50, label='potential', color='#003e14')\n",
        "ax[1].hist(df_bad['rto_12'], bins=50, label='bad', color='y')\n",
        "ax[1].hist(df_potential['rto_12'], bins=50, label='potential', color='#003e14', alpha=0.7)\n",
        "\n",
        "plt.legend();"
      ],
      "metadata": {
        "colab": {
          "base_uri": "https://localhost:8080/",
          "height": 591
        },
        "id": "1QX66jKw_OD0",
        "outputId": "fdbc8955-c2e0-4fb1-c403-76981345ee17"
      },
      "id": "1QX66jKw_OD0",
      "execution_count": null,
      "outputs": [
        {
          "output_type": "display_data",
          "data": {
            "text/plain": [
              "<Figure size 1152x720 with 2 Axes>"
            ],
            "image/png": "[encoded data removed]"
          },
          "metadata": {
            "image/png": {
              "width": 946,
              "height": 574
            },
            "needs_background": "light"
          }
        }
      ]
    },
    {
      "cell_type": "code",
      "execution_count": null,
      "id": "5V1ogWsAEWmi",
      "metadata": {
        "colab": {
          "base_uri": "https://localhost:8080/"
        },
        "id": "5V1ogWsAEWmi",
        "outputId": "1cbd5de9-65d5-428b-c49d-b6d869638a9f"
      },
      "outputs": [
        {
          "output_type": "execute_result",
          "data": {
            "text/plain": [
              "0.5485500027204092"
            ]
          },
          "metadata": {},
          "execution_count": 82
        }
      ],
      "source": [
        "pu_estimator.c"
      ]
    },
    {
      "cell_type": "code",
      "source": [
        "def plot_calibration_curve(kind, y_test, preds):\n",
        "    bin_middle_points = []\n",
        "    bin_real_ratios = []\n",
        "    n_bins = 20\n",
        "    for i in range(n_bins):\n",
        "        l = 1.0 / n_bins * i\n",
        "        r = 1.0 / n_bins * (i + 1)\n",
        "        bin_middle_points.append((r + l) / 2)\n",
        "        ps = y_test[(preds >= l) & (preds < r)]\n",
        "        bin_real_ratios.append((ps == 1).sum() / len(ps)) \n",
        "    plt.figure(figsize=(6,6))\n",
        "    plt.plot([0, 1], [0, 0.1], linestyle='--', color='green')\n",
        "    plt.title(kind)\n",
        "    plt.plot(bin_middle_points, bin_real_ratios)\n",
        "    plt.ylim([-0.05, 0.45])\n",
        "    plt.grid()"
      ],
      "metadata": {
        "id": "w-E_FtmFQXtC"
      },
      "id": "w-E_FtmFQXtC",
      "execution_count": null,
      "outputs": []
    },
    {
      "cell_type": "code",
      "source": [
        "lr_pred = pu_estimator.predict_proba(X_test)\n",
        "\n",
        "plot_calibration_curve('Calibration Curve', y_test, lr_pred)"
      ],
      "metadata": {
        "colab": {
          "base_uri": "https://localhost:8080/",
          "height": 390
        },
        "id": "W5S06PZ8GOO5",
        "outputId": "c4f89eb5-5164-49b8-d1ac-eee1658eb024"
      },
      "id": "W5S06PZ8GOO5",
      "execution_count": null,
      "outputs": [
        {
          "output_type": "display_data",
          "data": {
            "text/plain": [
              "<Figure size 432x432 with 1 Axes>"
            ],
            "image/png": "[encoded data removed]"
          },
          "metadata": {
            "needs_background": "light"
          }
        }
      ]
    },
    {
      "cell_type": "markdown",
      "source": [
        "### Градиентный бустинг"
      ],
      "metadata": {
        "id": "3ObNaE1wT6Pm"
      },
      "id": "3ObNaE1wT6Pm"
    },
    {
      "cell_type": "code",
      "source": [
        "!pip install catboost"
      ],
      "metadata": {
        "id": "jtvc4UZ_VKbK"
      },
      "id": "jtvc4UZ_VKbK",
      "execution_count": null,
      "outputs": []
    },
    {
      "cell_type": "code",
      "source": [
        "!pip install optuna"
      ],
      "metadata": {
        "id": "iDFV_vr5XtDc"
      },
      "id": "iDFV_vr5XtDc",
      "execution_count": null,
      "outputs": []
    },
    {
      "cell_type": "code",
      "source": [
        "from catboost import CatBoostClassifier"
      ],
      "metadata": {
        "id": "X-2fjB9_VFkv"
      },
      "id": "X-2fjB9_VFkv",
      "execution_count": null,
      "outputs": []
    },
    {
      "cell_type": "code",
      "source": [
        "def score(clf, x, y):\n",
        "    return roc_auc_score(y == 1, clf.predict_proba(x)[:, 1])"
      ],
      "metadata": {
        "id": "zK7RZB-ba8tQ"
      },
      "id": "zK7RZB-ba8tQ",
      "execution_count": null,
      "outputs": []
    },
    {
      "cell_type": "code",
      "source": [
        "import optuna\n",
        "\n",
        "optuna.logging.disable_propagation()\n",
        "optuna.logging.disable_default_handler()\n",
        "\n",
        "def pipeline(trial):\n",
        "  n_estimators = trial.suggest_int('n_estimators', 5, 200)\n",
        "  \n",
        "  depth = trial.suggest_int('max_depth', 2, 10)\n",
        "  subsample = trial.suggest_uniform('subsample', 0.1, 1)\n",
        "  lr = trial.suggest_uniform('learning_rate', 0.001, 1)\n",
        "  hold = trial.suggest_uniform('subsample', 0.01, 0.2)\n",
        "  thr = trial.suggest_uniform('subsample', 0.75, 0.85)\n",
        "\n",
        "  catboost = CatBoostClassifier(iterations=n_estimators, \n",
        "                                 learning_rate=lr, \n",
        "                                 depth=depth, \n",
        "                                 subsample=subsample, \n",
        "                                 logging_level=\"Silent\")\n",
        "  catboost = catboost.fit(X_tr_os, y_tr_os)\n",
        "\n",
        "  val_preds = catboost.predict(X_val_os)\n",
        "  print(- fbeta_score(y_val_os, val_preds, beta = 2))\n",
        "  return - fbeta_score(y_val_os, val_preds, beta = 2)\n",
        "\n",
        "\n",
        "study = optuna.create_study()\n",
        "study.optimize(pipeline, n_trials=100)"
      ],
      "metadata": {
        "id": "I_MZbTQwXzTR"
      },
      "id": "I_MZbTQwXzTR",
      "execution_count": null,
      "outputs": []
    },
    {
      "cell_type": "code",
      "source": [
        "print('best catboost F2:', -study.best_value)"
      ],
      "metadata": {
        "colab": {
          "base_uri": "https://localhost:8080/"
        },
        "id": "xG7mThn-aFZ0",
        "outputId": "bf069dd7-1511-436a-9665-ff6fe757555f"
      },
      "id": "xG7mThn-aFZ0",
      "execution_count": null,
      "outputs": [
        {
          "output_type": "stream",
          "name": "stdout",
          "text": [
            "best catboost F2: 0.3869768944902246\n"
          ]
        }
      ]
    },
    {
      "cell_type": "code",
      "source": [
        "study.best_params"
      ],
      "metadata": {
        "colab": {
          "base_uri": "https://localhost:8080/"
        },
        "id": "CVsf9wylaFhk",
        "outputId": "f1fa5fa7-bbea-45e9-ef89-b976e36173f5"
      },
      "id": "CVsf9wylaFhk",
      "execution_count": null,
      "outputs": [
        {
          "output_type": "execute_result",
          "data": {
            "text/plain": [
              "{'learning_rate': 0.9766168302426304,\n",
              " 'max_depth': 7,\n",
              " 'n_estimators': 165,\n",
              " 'subsample': 0.6580559624906361}"
            ]
          },
          "metadata": {},
          "execution_count": 207
        }
      ]
    },
    {
      "cell_type": "code",
      "source": [
        "over = SMOTE(random_state=42, sampling_strategy=0.2)\n",
        "under = RandomUnderSampler(sampling_strategy=1)\n",
        "steps = [('over', over), ('under', under)]\n",
        "os = Pipeline(steps=steps)\n",
        "\n",
        "X_train_os, y_train_os = X_train, y_train\n",
        "\n",
        "boost = ElkanotoPuClassifier(estimator=CatBoostClassifier(iterations=60, depth=3, random_state=42, logging_level='Silent'), hold_out_ratio=0.07)\n",
        "boost.fit(X_train_os.values, y_train_os)\n",
        "\n",
        "train_preds = boost.predict(X_train_os.values, threshold=0.35)\n",
        "test_preds = boost.predict(X_test.values, threshold=0.35)\n",
        "print(f\"                   Train     Test\")\n",
        "print(f\"F2                {fbeta_score(y_train_os, train_preds, beta = 2)*100:.2f}%      {fbeta_score(y_test, test_preds, beta = 2)*100:.2f}%\")\n",
        "print(f\"Precision         {precision_score(y_train_os, train_preds)*100:.2f}%      {precision_score(y_test, test_preds)*100:.2f}%\")\n",
        "print(f\"Recall            {recall_score(y_train_os, train_preds)*100:.2f}%      {recall_score(y_test, test_preds)*100:.2f}%\")"
      ],
      "metadata": {
        "colab": {
          "base_uri": "https://localhost:8080/"
        },
        "id": "QrwcFKegVV1R",
        "outputId": "02bd21e3-50be-4edf-b660-0032ce0bac4b"
      },
      "id": "QrwcFKegVV1R",
      "execution_count": null,
      "outputs": [
        {
          "output_type": "stream",
          "name": "stdout",
          "text": [
            "                   Train     Test\n",
            "F2                42.59%      36.21%\n",
            "Precision         14.00%      11.29%\n",
            "Recall            87.01%      80.86%\n"
          ]
        }
      ]
    },
    {
      "cell_type": "code",
      "source": [
        "over = SMOTE(random_state=42, sampling_strategy=0.3)\n",
        "under = RandomUnderSampler(sampling_strategy=0.9)\n",
        "steps = [('over', over), ('under', under)]\n",
        "os = Pipeline(steps=steps)\n",
        "\n",
        "X_train_os, y_train_os = X_train, y_train\n",
        "\n",
        "boost = ElkanotoPuClassifier(estimator=CatBoostClassifier(iterations=30, depth=4, random_state=42, logging_level='Silent'), hold_out_ratio=0.07)\n",
        "boost.fit(X_train_os.values, y_train_os)\n",
        "\n",
        "train_preds = boost.predict(X_train_os.values, threshold=0.55)\n",
        "test_preds = boost.predict(X_test.values, threshold=0.55)\n",
        "print(f\"                   Train     Test\")\n",
        "print(f\"F2                {fbeta_score(y_train_os, train_preds, beta = 2)*100:.2f}%      {fbeta_score(y_test, test_preds, beta = 2)*100:.2f}%\")\n",
        "print(f\"Precision         {precision_score(y_train_os, train_preds)*100:.2f}%      {precision_score(y_test, test_preds)*100:.2f}%\")\n",
        "print(f\"Recall            {recall_score(y_train_os, train_preds)*100:.2f}%      {recall_score(y_test, test_preds)*100:.2f}%\")"
      ],
      "metadata": {
        "colab": {
          "base_uri": "https://localhost:8080/"
        },
        "id": "DCsPEe4BRQvg",
        "outputId": "742c4ef7-8840-4cb4-f90c-7c8c16009491"
      },
      "id": "DCsPEe4BRQvg",
      "execution_count": null,
      "outputs": [
        {
          "output_type": "stream",
          "name": "stdout",
          "text": [
            "                   Train     Test\n",
            "F2                43.66%      37.21%\n",
            "Precision         16.68%      13.89%\n",
            "Recall            73.32%      64.10%\n"
          ]
        }
      ]
    },
    {
      "cell_type": "code",
      "source": [
        "over = SMOTE(random_state=42, sampling_strategy=0.3)\n",
        "under = RandomUnderSampler(sampling_strategy=0.6)\n",
        "steps = [('over', over), ('under', under)]\n",
        "os = Pipeline(steps=steps)\n",
        "\n",
        "X_train_os, y_train_os = os.fit_resample(X_train, y_train)\n",
        "\n",
        "boost = ElkanotoPuClassifier(estimator=CatBoostClassifier(iterations=40, depth=3, random_state=42, logging_level='Silent'), hold_out_ratio=0.07)\n",
        "boost.fit(X_train_os.values, y_train_os)\n",
        "\n",
        "train_preds = boost.predict(X_train_os.values, threshold=0.3)\n",
        "test_preds = boost.predict(X_test.values, threshold=0.3)\n",
        "print(f\"                   Train     Test\")\n",
        "print(f\"F2                {fbeta_score(y_train_os, train_preds, beta = 2)*100:.2f}%      {fbeta_score(y_test, test_preds, beta = 2)*100:.2f}%\")\n",
        "print(f\"Precision         {precision_score(y_train_os, train_preds)*100:.2f}%      {precision_score(y_test, test_preds)*100:.2f}%\")\n",
        "print(f\"Recall            {recall_score(y_train_os, train_preds)*100:.2f}%      {recall_score(y_test, test_preds)*100:.2f}%\")"
      ],
      "metadata": {
        "colab": {
          "base_uri": "https://localhost:8080/"
        },
        "id": "qWFSEGriRlKK",
        "outputId": "8562c20a-258c-4b4e-ed44-d5896722ae3d"
      },
      "id": "qWFSEGriRlKK",
      "execution_count": null,
      "outputs": [
        {
          "output_type": "stream",
          "name": "stdout",
          "text": [
            "                   Train     Test\n",
            "F2                79.01%      35.52%\n",
            "Precision         56.94%      13.72%\n",
            "Recall            87.49%      58.93%\n"
          ]
        }
      ]
    },
    {
      "cell_type": "code",
      "source": [
        "X_train_os"
      ],
      "metadata": {
        "colab": {
          "base_uri": "https://localhost:8080/",
          "height": 505
        },
        "id": "eVrAwj3OsKIL",
        "outputId": "ede3d698-0046-4737-dc16-1b0a8462f687"
      },
      "id": "eVrAwj3OsKIL",
      "execution_count": null,
      "outputs": [
        {
          "output_type": "execute_result",
          "data": {
            "text/plain": [
              "          rto_9    rto_10    rto_11    rto_12  cnt_checks_9  cnt_checks_10  \\\n",
              "0     -0.029131  0.087644  0.426814  0.295768     -0.110431       0.253210   \n",
              "1     -0.087748 -0.230697  0.056992 -3.497427     -0.595285      -0.716499   \n",
              "2      0.454904 -0.264307 -0.420517 -3.497427     -0.231644      -0.837713   \n",
              "3     -0.171865  0.408035  0.393361  0.789690     -0.716499      -0.110431   \n",
              "4      0.444632  0.362960  0.217621  0.594814     -0.110431       0.131997   \n",
              "...         ...       ...       ...       ...           ...            ...   \n",
              "19027 -1.398791 -0.680810 -0.642184 -0.036416     -0.716499      -0.716499   \n",
              "19028 -0.348481  0.372071 -0.269793 -0.114935     -0.595285       0.616851   \n",
              "19029  0.685834  0.905647  0.835800  0.932890      1.707774       2.192629   \n",
              "19030  0.100218  0.280836 -0.331966  0.694376     -0.474072      -0.352858   \n",
              "19031  0.313903  0.168565 -0.151668  0.773757     -0.110431      -0.352858   \n",
              "\n",
              "       cnt_checks_11  cnt_checks_12  part_cnt_6_Овощи - Фрукты  \\\n",
              "0           0.859279       0.495638                   0.666667   \n",
              "1          -0.595285      -0.958926                   0.500000   \n",
              "2          -0.716499      -0.958926                   1.000000   \n",
              "3          -0.231644       0.131997                   0.400000   \n",
              "4          -0.352858       0.010783                   0.400000   \n",
              "...              ...            ...                        ...   \n",
              "19027      -0.595285       0.495638                   0.333333   \n",
              "19028      -0.231644      -0.352858                   0.800000   \n",
              "19029       1.950201       2.677483                   0.347826   \n",
              "19030      -0.716499      -0.474072                   0.600000   \n",
              "19031      -0.716499       0.010783                   0.000000   \n",
              "\n",
              "       part_cnt_7_Овощи - Фрукты  ...  part_cnt_10_Сыры  part_cnt_11_Сыры  \\\n",
              "0                       0.500000  ...          0.000000          0.066667   \n",
              "1                       1.000000  ...          0.500000          0.000000   \n",
              "2                       0.000000  ...          0.000000          0.000000   \n",
              "3                       0.125000  ...          0.000000          0.000000   \n",
              "4                       0.857143  ...          0.222222          0.400000   \n",
              "...                          ...  ...               ...               ...   \n",
              "19027                   0.000000  ...          0.000000          0.333333   \n",
              "19028                   0.600000  ...          0.153846          0.000000   \n",
              "19029                   0.461538  ...          0.115385          0.041667   \n",
              "19030                   0.600000  ...          0.200000          0.000000   \n",
              "19031                   0.400000  ...          0.000000          0.000000   \n",
              "\n",
              "       part_cnt_12_Сыры  part_cnt_6_Крупы и зерновые  \\\n",
              "0              0.000000                     0.000000   \n",
              "1              0.000000                     0.000000   \n",
              "2              0.000000                     0.000000   \n",
              "3              0.111111                     0.000000   \n",
              "4              0.375000                     0.000000   \n",
              "...                 ...                          ...   \n",
              "19027          0.083333                     0.333333   \n",
              "19028          0.000000                     0.000000   \n",
              "19029          0.133333                     0.043478   \n",
              "19030          0.250000                     0.200000   \n",
              "19031          0.125000                     0.000000   \n",
              "\n",
              "       part_cnt_7_Крупы и зерновые  part_cnt_8_Крупы и зерновые  \\\n",
              "0                         0.000000                     0.000000   \n",
              "1                         0.000000                     0.000000   \n",
              "2                         0.333333                     0.000000   \n",
              "3                         0.000000                     0.000000   \n",
              "4                         0.142857                     0.000000   \n",
              "...                            ...                          ...   \n",
              "19027                     0.000000                     0.000000   \n",
              "19028                     0.000000                     0.000000   \n",
              "19029                     0.038462                     0.035714   \n",
              "19030                     0.200000                     0.000000   \n",
              "19031                     0.000000                     0.000000   \n",
              "\n",
              "       part_cnt_9_Крупы и зерновые  part_cnt_10_Крупы и зерновые  \\\n",
              "0                         0.000000                      0.000000   \n",
              "1                         0.000000                      0.000000   \n",
              "2                         0.166667                      0.000000   \n",
              "3                         0.000000                      0.000000   \n",
              "4                         0.000000                      0.111111   \n",
              "...                            ...                           ...   \n",
              "19027                     0.000000                      0.500000   \n",
              "19028                     0.000000                      0.076923   \n",
              "19029                     0.000000                      0.076923   \n",
              "19030                     0.250000                      0.200000   \n",
              "19031                     0.000000                      0.000000   \n",
              "\n",
              "       part_cnt_11_Крупы и зерновые  part_cnt_12_Крупы и зерновые  \n",
              "0                          0.000000                      0.250000  \n",
              "1                          0.000000                      0.000000  \n",
              "2                          0.000000                      0.000000  \n",
              "3                          0.000000                      0.000000  \n",
              "4                          0.200000                      0.125000  \n",
              "...                             ...                           ...  \n",
              "19027                      0.333333                      0.000000  \n",
              "19028                      0.000000                      0.000000  \n",
              "19029                      0.041667                      0.033333  \n",
              "19030                      0.000000                      0.000000  \n",
              "19031                      0.000000                      0.000000  \n",
              "\n",
              "[19032 rows x 29 columns]"
            ],
            "text/html": [
              "\n",
              "  <div id=\"df-40bf76d4-bfea-4b1b-9d64-6c8abcb89b22\">\n",
              "    <div class=\"colab-df-container\">\n",
              "      <div>\n",
              "<style scoped>\n",
              "    .dataframe tbody tr th:only-of-type {\n",
              "        vertical-align: middle;\n",
              "    }\n",
              "\n",
              "    .dataframe tbody tr th {\n",
              "        vertical-align: top;\n",
              "    }\n",
              "\n",
              "    .dataframe thead th {\n",
              "        text-align: right;\n",
              "    }\n",
              "</style>\n",
              "<table border=\"1\" class=\"dataframe\">\n",
              "  <thead>\n",
              "    <tr style=\"text-align: right;\">\n",
              "      <th></th>\n",
              "      <th>rto_9</th>\n",
              "      <th>rto_10</th>\n",
              "      <th>rto_11</th>\n",
              "      <th>rto_12</th>\n",
              "      <th>cnt_checks_9</th>\n",
              "      <th>cnt_checks_10</th>\n",
              "      <th>cnt_checks_11</th>\n",
              "      <th>cnt_checks_12</th>\n",
              "      <th>part_cnt_6_Овощи - Фрукты</th>\n",
              "      <th>part_cnt_7_Овощи - Фрукты</th>\n",
              "      <th>...</th>\n",
              "      <th>part_cnt_10_Сыры</th>\n",
              "      <th>part_cnt_11_Сыры</th>\n",
              "      <th>part_cnt_12_Сыры</th>\n",
              "      <th>part_cnt_6_Крупы и зерновые</th>\n",
              "      <th>part_cnt_7_Крупы и зерновые</th>\n",
              "      <th>part_cnt_8_Крупы и зерновые</th>\n",
              "      <th>part_cnt_9_Крупы и зерновые</th>\n",
              "      <th>part_cnt_10_Крупы и зерновые</th>\n",
              "      <th>part_cnt_11_Крупы и зерновые</th>\n",
              "      <th>part_cnt_12_Крупы и зерновые</th>\n",
              "    </tr>\n",
              "  </thead>\n",
              "  <tbody>\n",
              "    <tr>\n",
              "      <th>0</th>\n",
              "      <td>-0.029131</td>\n",
              "      <td>0.087644</td>\n",
              "      <td>0.426814</td>\n",
              "      <td>0.295768</td>\n",
              "      <td>-0.110431</td>\n",
              "      <td>0.253210</td>\n",
              "      <td>0.859279</td>\n",
              "      <td>0.495638</td>\n",
              "      <td>0.666667</td>\n",
              "      <td>0.500000</td>\n",
              "      <td>...</td>\n",
              "      <td>0.000000</td>\n",
              "      <td>0.066667</td>\n",
              "      <td>0.000000</td>\n",
              "      <td>0.000000</td>\n",
              "      <td>0.000000</td>\n",
              "      <td>0.000000</td>\n",
              "      <td>0.000000</td>\n",
              "      <td>0.000000</td>\n",
              "      <td>0.000000</td>\n",
              "      <td>0.250000</td>\n",
              "    </tr>\n",
              "    <tr>\n",
              "      <th>1</th>\n",
              "      <td>-0.087748</td>\n",
              "      <td>-0.230697</td>\n",
              "      <td>0.056992</td>\n",
              "      <td>-3.497427</td>\n",
              "      <td>-0.595285</td>\n",
              "      <td>-0.716499</td>\n",
              "      <td>-0.595285</td>\n",
              "      <td>-0.958926</td>\n",
              "      <td>0.500000</td>\n",
              "      <td>1.000000</td>\n",
              "      <td>...</td>\n",
              "      <td>0.500000</td>\n",
              "      <td>0.000000</td>\n",
              "      <td>0.000000</td>\n",
              "      <td>0.000000</td>\n",
              "      <td>0.000000</td>\n",
              "      <td>0.000000</td>\n",
              "      <td>0.000000</td>\n",
              "      <td>0.000000</td>\n",
              "      <td>0.000000</td>\n",
              "      <td>0.000000</td>\n",
              "    </tr>\n",
              "    <tr>\n",
              "      <th>2</th>\n",
              "      <td>0.454904</td>\n",
              "      <td>-0.264307</td>\n",
              "      <td>-0.420517</td>\n",
              "      <td>-3.497427</td>\n",
              "      <td>-0.231644</td>\n",
              "      <td>-0.837713</td>\n",
              "      <td>-0.716499</td>\n",
              "      <td>-0.958926</td>\n",
              "      <td>1.000000</td>\n",
              "      <td>0.000000</td>\n",
              "      <td>...</td>\n",
              "      <td>0.000000</td>\n",
              "      <td>0.000000</td>\n",
              "      <td>0.000000</td>\n",
              "      <td>0.000000</td>\n",
              "      <td>0.333333</td>\n",
              "      <td>0.000000</td>\n",
              "      <td>0.166667</td>\n",
              "      <td>0.000000</td>\n",
              "      <td>0.000000</td>\n",
              "      <td>0.000000</td>\n",
              "    </tr>\n",
              "    <tr>\n",
              "      <th>3</th>\n",
              "      <td>-0.171865</td>\n",
              "      <td>0.408035</td>\n",
              "      <td>0.393361</td>\n",
              "      <td>0.789690</td>\n",
              "      <td>-0.716499</td>\n",
              "      <td>-0.110431</td>\n",
              "      <td>-0.231644</td>\n",
              "      <td>0.131997</td>\n",
              "      <td>0.400000</td>\n",
              "      <td>0.125000</td>\n",
              "      <td>...</td>\n",
              "      <td>0.000000</td>\n",
              "      <td>0.000000</td>\n",
              "      <td>0.111111</td>\n",
              "      <td>0.000000</td>\n",
              "      <td>0.000000</td>\n",
              "      <td>0.000000</td>\n",
              "      <td>0.000000</td>\n",
              "      <td>0.000000</td>\n",
              "      <td>0.000000</td>\n",
              "      <td>0.000000</td>\n",
              "    </tr>\n",
              "    <tr>\n",
              "      <th>4</th>\n",
              "      <td>0.444632</td>\n",
              "      <td>0.362960</td>\n",
              "      <td>0.217621</td>\n",
              "      <td>0.594814</td>\n",
              "      <td>-0.110431</td>\n",
              "      <td>0.131997</td>\n",
              "      <td>-0.352858</td>\n",
              "      <td>0.010783</td>\n",
              "      <td>0.400000</td>\n",
              "      <td>0.857143</td>\n",
              "      <td>...</td>\n",
              "      <td>0.222222</td>\n",
              "      <td>0.400000</td>\n",
              "      <td>0.375000</td>\n",
              "      <td>0.000000</td>\n",
              "      <td>0.142857</td>\n",
              "      <td>0.000000</td>\n",
              "      <td>0.000000</td>\n",
              "      <td>0.111111</td>\n",
              "      <td>0.200000</td>\n",
              "      <td>0.125000</td>\n",
              "    </tr>\n",
              "    <tr>\n",
              "      <th>...</th>\n",
              "      <td>...</td>\n",
              "      <td>...</td>\n",
              "      <td>...</td>\n",
              "      <td>...</td>\n",
              "      <td>...</td>\n",
              "      <td>...</td>\n",
              "      <td>...</td>\n",
              "      <td>...</td>\n",
              "      <td>...</td>\n",
              "      <td>...</td>\n",
              "      <td>...</td>\n",
              "      <td>...</td>\n",
              "      <td>...</td>\n",
              "      <td>...</td>\n",
              "      <td>...</td>\n",
              "      <td>...</td>\n",
              "      <td>...</td>\n",
              "      <td>...</td>\n",
              "      <td>...</td>\n",
              "      <td>...</td>\n",
              "      <td>...</td>\n",
              "    </tr>\n",
              "    <tr>\n",
              "      <th>19027</th>\n",
              "      <td>-1.398791</td>\n",
              "      <td>-0.680810</td>\n",
              "      <td>-0.642184</td>\n",
              "      <td>-0.036416</td>\n",
              "      <td>-0.716499</td>\n",
              "      <td>-0.716499</td>\n",
              "      <td>-0.595285</td>\n",
              "      <td>0.495638</td>\n",
              "      <td>0.333333</td>\n",
              "      <td>0.000000</td>\n",
              "      <td>...</td>\n",
              "      <td>0.000000</td>\n",
              "      <td>0.333333</td>\n",
              "      <td>0.083333</td>\n",
              "      <td>0.333333</td>\n",
              "      <td>0.000000</td>\n",
              "      <td>0.000000</td>\n",
              "      <td>0.000000</td>\n",
              "      <td>0.500000</td>\n",
              "      <td>0.333333</td>\n",
              "      <td>0.000000</td>\n",
              "    </tr>\n",
              "    <tr>\n",
              "      <th>19028</th>\n",
              "      <td>-0.348481</td>\n",
              "      <td>0.372071</td>\n",
              "      <td>-0.269793</td>\n",
              "      <td>-0.114935</td>\n",
              "      <td>-0.595285</td>\n",
              "      <td>0.616851</td>\n",
              "      <td>-0.231644</td>\n",
              "      <td>-0.352858</td>\n",
              "      <td>0.800000</td>\n",
              "      <td>0.600000</td>\n",
              "      <td>...</td>\n",
              "      <td>0.153846</td>\n",
              "      <td>0.000000</td>\n",
              "      <td>0.000000</td>\n",
              "      <td>0.000000</td>\n",
              "      <td>0.000000</td>\n",
              "      <td>0.000000</td>\n",
              "      <td>0.000000</td>\n",
              "      <td>0.076923</td>\n",
              "      <td>0.000000</td>\n",
              "      <td>0.000000</td>\n",
              "    </tr>\n",
              "    <tr>\n",
              "      <th>19029</th>\n",
              "      <td>0.685834</td>\n",
              "      <td>0.905647</td>\n",
              "      <td>0.835800</td>\n",
              "      <td>0.932890</td>\n",
              "      <td>1.707774</td>\n",
              "      <td>2.192629</td>\n",
              "      <td>1.950201</td>\n",
              "      <td>2.677483</td>\n",
              "      <td>0.347826</td>\n",
              "      <td>0.461538</td>\n",
              "      <td>...</td>\n",
              "      <td>0.115385</td>\n",
              "      <td>0.041667</td>\n",
              "      <td>0.133333</td>\n",
              "      <td>0.043478</td>\n",
              "      <td>0.038462</td>\n",
              "      <td>0.035714</td>\n",
              "      <td>0.000000</td>\n",
              "      <td>0.076923</td>\n",
              "      <td>0.041667</td>\n",
              "      <td>0.033333</td>\n",
              "    </tr>\n",
              "    <tr>\n",
              "      <th>19030</th>\n",
              "      <td>0.100218</td>\n",
              "      <td>0.280836</td>\n",
              "      <td>-0.331966</td>\n",
              "      <td>0.694376</td>\n",
              "      <td>-0.474072</td>\n",
              "      <td>-0.352858</td>\n",
              "      <td>-0.716499</td>\n",
              "      <td>-0.474072</td>\n",
              "      <td>0.600000</td>\n",
              "      <td>0.600000</td>\n",
              "      <td>...</td>\n",
              "      <td>0.200000</td>\n",
              "      <td>0.000000</td>\n",
              "      <td>0.250000</td>\n",
              "      <td>0.200000</td>\n",
              "      <td>0.200000</td>\n",
              "      <td>0.000000</td>\n",
              "      <td>0.250000</td>\n",
              "      <td>0.200000</td>\n",
              "      <td>0.000000</td>\n",
              "      <td>0.000000</td>\n",
              "    </tr>\n",
              "    <tr>\n",
              "      <th>19031</th>\n",
              "      <td>0.313903</td>\n",
              "      <td>0.168565</td>\n",
              "      <td>-0.151668</td>\n",
              "      <td>0.773757</td>\n",
              "      <td>-0.110431</td>\n",
              "      <td>-0.352858</td>\n",
              "      <td>-0.716499</td>\n",
              "      <td>0.010783</td>\n",
              "      <td>0.000000</td>\n",
              "      <td>0.400000</td>\n",
              "      <td>...</td>\n",
              "      <td>0.000000</td>\n",
              "      <td>0.000000</td>\n",
              "      <td>0.125000</td>\n",
              "      <td>0.000000</td>\n",
              "      <td>0.000000</td>\n",
              "      <td>0.000000</td>\n",
              "      <td>0.000000</td>\n",
              "      <td>0.000000</td>\n",
              "      <td>0.000000</td>\n",
              "      <td>0.000000</td>\n",
              "    </tr>\n",
              "  </tbody>\n",
              "</table>\n",
              "<p>19032 rows × 29 columns</p>\n",
              "</div>\n",
              "      <button class=\"colab-df-convert\" onclick=\"convertToInteractive('df-40bf76d4-bfea-4b1b-9d64-6c8abcb89b22')\"\n",
              "              title=\"Convert this dataframe to an interactive table.\"\n",
              "              style=\"display:none;\">\n",
              "        \n",
              "  <svg xmlns=\"http://www.w3.org/2000/svg\" height=\"24px\"viewBox=\"0 0 24 24\"\n",
              "       width=\"24px\">\n",
              "    <path d=\"M0 0h24v24H0V0z\" fill=\"none\"/>\n",
              "    <path d=\"M18.56 5.44l.94 2.06.94-2.06 2.06-.94-2.06-.94-.94-2.06-.94 2.06-2.06.94zm-11 1L8.5 8.5l.94-2.06 2.06-.94-2.06-.94L8.5 2.5l-.94 2.06-2.06.94zm10 10l.94 2.06.94-2.06 2.06-.94-2.06-.94-.94-2.06-.94 2.06-2.06.94z\"/><path d=\"M17.41 7.96l-1.37-1.37c-.4-.4-.92-.59-1.43-.59-.52 0-1.04.2-1.43.59L10.3 9.45l-7.72 7.72c-.78.78-.78 2.05 0 2.83L4 21.41c.39.39.9.59 1.41.59.51 0 1.02-.2 1.41-.59l7.78-7.78 2.81-2.81c.8-.78.8-2.07 0-2.86zM5.41 20L4 18.59l7.72-7.72 1.47 1.35L5.41 20z\"/>\n",
              "  </svg>\n",
              "      </button>\n",
              "      \n",
              "  <style>\n",
              "    .colab-df-container {\n",
              "      display:flex;\n",
              "      flex-wrap:wrap;\n",
              "      gap: 12px;\n",
              "    }\n",
              "\n",
              "    .colab-df-convert {\n",
              "      background-color: #E8F0FE;\n",
              "      border: none;\n",
              "      border-radius: 50%;\n",
              "      cursor: pointer;\n",
              "      display: none;\n",
              "      fill: #1967D2;\n",
              "      height: 32px;\n",
              "      padding: 0 0 0 0;\n",
              "      width: 32px;\n",
              "    }\n",
              "\n",
              "    .colab-df-convert:hover {\n",
              "      background-color: #E2EBFA;\n",
              "      box-shadow: 0px 1px 2px rgba(60, 64, 67, 0.3), 0px 1px 3px 1px rgba(60, 64, 67, 0.15);\n",
              "      fill: #174EA6;\n",
              "    }\n",
              "\n",
              "    [theme=dark] .colab-df-convert {\n",
              "      background-color: #3B4455;\n",
              "      fill: #D2E3FC;\n",
              "    }\n",
              "\n",
              "    [theme=dark] .colab-df-convert:hover {\n",
              "      background-color: #434B5C;\n",
              "      box-shadow: 0px 1px 3px 1px rgba(0, 0, 0, 0.15);\n",
              "      filter: drop-shadow(0px 1px 2px rgba(0, 0, 0, 0.3));\n",
              "      fill: #FFFFFF;\n",
              "    }\n",
              "  </style>\n",
              "\n",
              "      <script>\n",
              "        const buttonEl =\n",
              "          document.querySelector('#df-40bf76d4-bfea-4b1b-9d64-6c8abcb89b22 button.colab-df-convert');\n",
              "        buttonEl.style.display =\n",
              "          google.colab.kernel.accessAllowed ? 'block' : 'none';\n",
              "\n",
              "        async function convertToInteractive(key) {\n",
              "          const element = document.querySelector('#df-40bf76d4-bfea-4b1b-9d64-6c8abcb89b22');\n",
              "          const dataTable =\n",
              "            await google.colab.kernel.invokeFunction('convertToInteractive',\n",
              "                                                     [key], {});\n",
              "          if (!dataTable) return;\n",
              "\n",
              "          const docLinkHtml = 'Like what you see? Visit the ' +\n",
              "            '<a target=\"_blank\" href=https://colab.research.google.com/notebooks/data_table.ipynb>data table notebook</a>'\n",
              "            + ' to learn more about interactive tables.';\n",
              "          element.innerHTML = '';\n",
              "          dataTable['output_type'] = 'display_data';\n",
              "          await google.colab.output.renderOutput(dataTable, element);\n",
              "          const docLink = document.createElement('div');\n",
              "          docLink.innerHTML = docLinkHtml;\n",
              "          element.appendChild(docLink);\n",
              "        }\n",
              "      </script>\n",
              "    </div>\n",
              "  </div>\n",
              "  "
            ]
          },
          "metadata": {},
          "execution_count": 227
        }
      ]
    },
    {
      "cell_type": "code",
      "source": [
        "%%time\n",
        "\n",
        "pu_estimator = ElkanotoPuClassifier(estimator=XGBClassifier(), hold_out_ratio=0.07)\n",
        "pu_estimator.fit(X_train_os.values, y_train_os)"
      ],
      "metadata": {
        "colab": {
          "base_uri": "https://localhost:8080/"
        },
        "id": "vRDdjICsT85U",
        "outputId": "2d8fbea3-7b20-404a-bbc9-fe11ebc16e2f"
      },
      "id": "vRDdjICsT85U",
      "execution_count": null,
      "outputs": [
        {
          "output_type": "stream",
          "name": "stdout",
          "text": [
            "CPU times: user 1.98 s, sys: 12.6 ms, total: 2 s\n",
            "Wall time: 2 s\n"
          ]
        }
      ]
    },
    {
      "cell_type": "markdown",
      "id": "5jpyth3N4LTl",
      "metadata": {
        "id": "5jpyth3N4LTl"
      },
      "source": [
        "## Предсказание"
      ]
    },
    {
      "cell_type": "markdown",
      "id": "lMGKxw6h5FAD",
      "metadata": {
        "id": "lMGKxw6h5FAD"
      },
      "source": [
        "### Подбор порога"
      ]
    },
    {
      "cell_type": "markdown",
      "id": "H2Q6bkBKqNnT",
      "metadata": {
        "id": "H2Q6bkBKqNnT"
      },
      "source": [
        "Выходом логистической регрессии является вероятность того, что данный клиент является членом клуба. Выбор порога позволяет понять при каком значении вероятности мы будем считать клиента потенциальным членом клуба и, следовательно, взаимодействовать с ним."
      ]
    },
    {
      "cell_type": "code",
      "execution_count": null,
      "id": "OGZFewlN6gdO",
      "metadata": {
        "id": "OGZFewlN6gdO"
      },
      "outputs": [],
      "source": [
        "pred_proba_df = pd.DataFrame(final_model.predict_proba(X_test))\n",
        "threshold_list = np.arange(0,100,0.05)\n",
        "threshold_scores = dict.fromkeys(threshold_list)\n",
        "for threshold in threshold_list:\n",
        "    Y_test_pred = pred_proba_df.applymap(lambda x: 1 if x>threshold else 0)\n",
        "    test_score = fbeta_score(y_test, Y_test_pred.iloc[:,1], beta= 2)\n",
        "    threshold_scores[threshold] = test_score"
      ]
    },
    {
      "cell_type": "code",
      "execution_count": null,
      "id": "SMV106xY_aub",
      "metadata": {
        "id": "SMV106xY_aub"
      },
      "outputs": [],
      "source": [
        "print(f\"Наибольшее значение f-меры ({max(threshold_scores.values())*100:.2f}%) получается при пороге {max(threshold_scores, key=threshold_scores.get)}\")"
      ]
    },
    {
      "cell_type": "code",
      "execution_count": null,
      "id": "0oEJ1ckWED2g",
      "metadata": {
        "id": "0oEJ1ckWED2g"
      },
      "outputs": [],
      "source": [
        "pred_proba_df = pd.DataFrame(final_model.predict_proba(X_test), index=X_test.index).applymap(lambda x: 1 if x>0.45 else 0).iloc[:,1]"
      ]
    },
    {
      "cell_type": "markdown",
      "id": "Qr6R4BQVD6bL",
      "metadata": {
        "id": "Qr6R4BQVD6bL"
      },
      "source": [
        "Итоговые метрики"
      ]
    },
    {
      "cell_type": "code",
      "execution_count": null,
      "id": "TTdt9VhsD5wR",
      "metadata": {
        "id": "TTdt9VhsD5wR"
      },
      "outputs": [],
      "source": [
        "print(f\"F2                {fbeta_score(y_test, pred_proba_df, beta = 2)*100:.2f}%\")\n",
        "print(f\"Precision         {precision_score(y_test, pred_proba_df)*100:.2f}%\")\n",
        "print(f\"Recall            {recall_score(y_test, pred_proba_df)*100:.2f}%\")"
      ]
    },
    {
      "cell_type": "markdown",
      "id": "PDuVEbR_qUIn",
      "metadata": {
        "id": "PDuVEbR_qUIn"
      },
      "source": [
        "### Сохранение результатов"
      ]
    },
    {
      "cell_type": "code",
      "execution_count": null,
      "id": "qweieZ8uyisE",
      "metadata": {
        "id": "qweieZ8uyisE"
      },
      "outputs": [],
      "source": [
        "pd.DataFrame(final_model.predict_proba(X_test), index=X_test.index)[1]"
      ]
    },
    {
      "cell_type": "code",
      "execution_count": null,
      "id": "MMW8vkCZBpfL",
      "metadata": {
        "id": "MMW8vkCZBpfL"
      },
      "outputs": [],
      "source": [
        "pd.DataFrame(final_model.predict_proba(X_test), index=X_test.index)[1].to_csv('test_predict_probabilities.csv')\n",
        "pred_proba_df.to_csv('test_predict.csv')"
      ]
    }
  ],
  "metadata": {
    "colab": {
      "collapsed_sections": [],
      "name": "CUPIT2022-DS-YEET-model.ipynb",
      "provenance": [],
      "toc_visible": true
    },
    "kernelspec": {
      "display_name": "Python 3 (ipykernel)",
      "language": "python",
      "name": "python3"
    },
    "language_info": {
      "codemirror_mode": {
        "name": "ipython",
        "version": 3
      },
      "file_extension": ".py",
      "mimetype": "text/x-python",
      "name": "python",
      "nbconvert_exporter": "python",
      "pygments_lexer": "ipython3",
      "version": "3.8.0"
    }
  },
  "nbformat": 4,
  "nbformat_minor": 5
}