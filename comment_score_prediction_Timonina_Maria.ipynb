{
  "cells": [
    {
      "cell_type": "markdown",
      "source": [
        "### Постановка задачи\n",
        "\n",
        "Научимся предсказывать пользовательскую оценку отеля по тексту отзыва. [Студенческое соревнование на Kaggle](https://www.kaggle.com/t/3e8fa6cec6d048bf8e93fb72e441d88c)\n",
        "\n",
        "Данные: отзывы по 1500 отелям из совершенно разных уголков мира. Что это за отели - секрет. Дан текст отзыва и пользовательская оценка отеля.\n",
        "\n",
        "Главная метрика - Mean Absolute Error (MAE).\n",
        "\n",
        "Каждое ревью состоит из двух текстов: positive и negative - плюсы и минусы отеля. В столбце score находится оценка пользователя - вещественное число 0 до 10."
      ],
      "metadata": {
        "id": "-AlLsAA2ja_t"
      }
    },
    {
      "cell_type": "markdown",
      "metadata": {
        "id": "T6Ej16t1XHaM"
      },
      "source": [
        "Использовать любые данные для обучения кроме предоставленных организаторами строго запрещено. В последней части можно использовать предобученные модели из библиотеки `transformers`."
      ]
    },
    {
      "cell_type": "code",
      "source": [
        "from google.colab import drive\n",
        "drive.mount('/content/drive', force_remount=True)"
      ],
      "metadata": {
        "colab": {
          "base_uri": "https://localhost:8080/"
        },
        "id": "WSxTedN2qMvM",
        "outputId": "078ef0fc-88d0-4b9a-83a6-ecfdd1333a4a"
      },
      "execution_count": null,
      "outputs": [
        {
          "output_type": "stream",
          "name": "stdout",
          "text": [
            "Mounted at /content/drive\n"
          ]
        }
      ]
    },
    {
      "cell_type": "code",
      "source": [
        "from warnings import filterwarnings\n",
        "import numpy as np\n",
        "import pandas as pd\n",
        "import seaborn as sns\n",
        "import matplotlib.pyplot as plt\n",
        "from sklearn.model_selection import train_test_split\n",
        "\n",
        "sns.set(style='darkgrid')\n",
        "filterwarnings('ignore')"
      ],
      "metadata": {
        "id": "2Phc2GEuneQ-"
      },
      "execution_count": null,
      "outputs": []
    },
    {
      "cell_type": "code",
      "execution_count": null,
      "metadata": {
        "id": "U4Gc4Go5XHaN"
      },
      "outputs": [],
      "source": [
        "PATH_TO_TRAIN_DATA = '/content/drive/MyDrive/Intro to DL/train.csv'"
      ]
    },
    {
      "cell_type": "code",
      "execution_count": null,
      "metadata": {
        "id": "6kJRM6ZUXHaO",
        "outputId": "a8b4d2ac-26db-4fa4-c186-802d3791537e",
        "colab": {
          "base_uri": "https://localhost:8080/",
          "height": 494
        }
      },
      "outputs": [
        {
          "output_type": "execute_result",
          "data": {
            "text/html": [
              "\n",
              "  <div id=\"df-67b77db4-5e58-4461-aa2d-39a100bd7dbd\">\n",
              "    <div class=\"colab-df-container\">\n",
              "      <div>\n",
              "<style scoped>\n",
              "    .dataframe tbody tr th:only-of-type {\n",
              "        vertical-align: middle;\n",
              "    }\n",
              "\n",
              "    .dataframe tbody tr th {\n",
              "        vertical-align: top;\n",
              "    }\n",
              "\n",
              "    .dataframe thead th {\n",
              "        text-align: right;\n",
              "    }\n",
              "</style>\n",
              "<table border=\"1\" class=\"dataframe\">\n",
              "  <thead>\n",
              "    <tr style=\"text-align: right;\">\n",
              "      <th></th>\n",
              "      <th>review_id</th>\n",
              "      <th>negative</th>\n",
              "      <th>positive</th>\n",
              "      <th>score</th>\n",
              "    </tr>\n",
              "  </thead>\n",
              "  <tbody>\n",
              "    <tr>\n",
              "      <th>0</th>\n",
              "      <td>00003c6036f30f590c0ac435efb8739b</td>\n",
              "      <td>There were issues with the wifi connection</td>\n",
              "      <td></td>\n",
              "      <td>7.1</td>\n",
              "    </tr>\n",
              "    <tr>\n",
              "      <th>1</th>\n",
              "      <td>00004d18f186bf2489590dc415876f73</td>\n",
              "      <td>TV not working</td>\n",
              "      <td></td>\n",
              "      <td>7.5</td>\n",
              "    </tr>\n",
              "    <tr>\n",
              "      <th>2</th>\n",
              "      <td>0000cf900cbb8667fad33a717e9b1cf4</td>\n",
              "      <td>More pillows</td>\n",
              "      <td>Beautiful room Great location Lovely staff</td>\n",
              "      <td>10.0</td>\n",
              "    </tr>\n",
              "    <tr>\n",
              "      <th>3</th>\n",
              "      <td>0000df16edf19e7ad9dd8c5cd6f6925e</td>\n",
              "      <td>Very business</td>\n",
              "      <td>Location</td>\n",
              "      <td>5.4</td>\n",
              "    </tr>\n",
              "    <tr>\n",
              "      <th>4</th>\n",
              "      <td>00025e1aa3ac32edb496db49e76bbd00</td>\n",
              "      <td>Rooms could do with a bit of a refurbishment ...</td>\n",
              "      <td>Nice breakfast handy for Victoria train stati...</td>\n",
              "      <td>6.7</td>\n",
              "    </tr>\n",
              "    <tr>\n",
              "      <th>5</th>\n",
              "      <td>00025fd423c6e8340fc876a7a77eafe3</td>\n",
              "      <td>Hotel is under reconstruction and should be c...</td>\n",
              "      <td>Location is excellent for congress activities</td>\n",
              "      <td>6.3</td>\n",
              "    </tr>\n",
              "    <tr>\n",
              "      <th>6</th>\n",
              "      <td>0003541ffa154f07b3257bcfba814a4b</td>\n",
              "      <td>Noise from the trains and road but ok for one...</td>\n",
              "      <td>Great location to tube station and local shop...</td>\n",
              "      <td>8.8</td>\n",
              "    </tr>\n",
              "    <tr>\n",
              "      <th>7</th>\n",
              "      <td>0003c867f284bb21b14d1430903dfc49</td>\n",
              "      <td></td>\n",
              "      <td>Great location friendly staff and lovely acco...</td>\n",
              "      <td>10.0</td>\n",
              "    </tr>\n",
              "    <tr>\n",
              "      <th>8</th>\n",
              "      <td>0005bc3bc317755b5773821f44564f59</td>\n",
              "      <td>I known you re renovating but having concierg...</td>\n",
              "      <td>Staff were super helpful and friendly Great l...</td>\n",
              "      <td>9.2</td>\n",
              "    </tr>\n",
              "    <tr>\n",
              "      <th>9</th>\n",
              "      <td>0005fc2de921da6c2f7239f701bb8dde</td>\n",
              "      <td>Location of room no phone signal</td>\n",
              "      <td>friendly staff</td>\n",
              "      <td>6.7</td>\n",
              "    </tr>\n",
              "  </tbody>\n",
              "</table>\n",
              "</div>\n",
              "      <button class=\"colab-df-convert\" onclick=\"convertToInteractive('df-67b77db4-5e58-4461-aa2d-39a100bd7dbd')\"\n",
              "              title=\"Convert this dataframe to an interactive table.\"\n",
              "              style=\"display:none;\">\n",
              "        \n",
              "  <svg xmlns=\"http://www.w3.org/2000/svg\" height=\"24px\"viewBox=\"0 0 24 24\"\n",
              "       width=\"24px\">\n",
              "    <path d=\"M0 0h24v24H0V0z\" fill=\"none\"/>\n",
              "    <path d=\"M18.56 5.44l.94 2.06.94-2.06 2.06-.94-2.06-.94-.94-2.06-.94 2.06-2.06.94zm-11 1L8.5 8.5l.94-2.06 2.06-.94-2.06-.94L8.5 2.5l-.94 2.06-2.06.94zm10 10l.94 2.06.94-2.06 2.06-.94-2.06-.94-.94-2.06-.94 2.06-2.06.94z\"/><path d=\"M17.41 7.96l-1.37-1.37c-.4-.4-.92-.59-1.43-.59-.52 0-1.04.2-1.43.59L10.3 9.45l-7.72 7.72c-.78.78-.78 2.05 0 2.83L4 21.41c.39.39.9.59 1.41.59.51 0 1.02-.2 1.41-.59l7.78-7.78 2.81-2.81c.8-.78.8-2.07 0-2.86zM5.41 20L4 18.59l7.72-7.72 1.47 1.35L5.41 20z\"/>\n",
              "  </svg>\n",
              "      </button>\n",
              "      \n",
              "  <style>\n",
              "    .colab-df-container {\n",
              "      display:flex;\n",
              "      flex-wrap:wrap;\n",
              "      gap: 12px;\n",
              "    }\n",
              "\n",
              "    .colab-df-convert {\n",
              "      background-color: #E8F0FE;\n",
              "      border: none;\n",
              "      border-radius: 50%;\n",
              "      cursor: pointer;\n",
              "      display: none;\n",
              "      fill: #1967D2;\n",
              "      height: 32px;\n",
              "      padding: 0 0 0 0;\n",
              "      width: 32px;\n",
              "    }\n",
              "\n",
              "    .colab-df-convert:hover {\n",
              "      background-color: #E2EBFA;\n",
              "      box-shadow: 0px 1px 2px rgba(60, 64, 67, 0.3), 0px 1px 3px 1px rgba(60, 64, 67, 0.15);\n",
              "      fill: #174EA6;\n",
              "    }\n",
              "\n",
              "    [theme=dark] .colab-df-convert {\n",
              "      background-color: #3B4455;\n",
              "      fill: #D2E3FC;\n",
              "    }\n",
              "\n",
              "    [theme=dark] .colab-df-convert:hover {\n",
              "      background-color: #434B5C;\n",
              "      box-shadow: 0px 1px 3px 1px rgba(0, 0, 0, 0.15);\n",
              "      filter: drop-shadow(0px 1px 2px rgba(0, 0, 0, 0.3));\n",
              "      fill: #FFFFFF;\n",
              "    }\n",
              "  </style>\n",
              "\n",
              "      <script>\n",
              "        const buttonEl =\n",
              "          document.querySelector('#df-67b77db4-5e58-4461-aa2d-39a100bd7dbd button.colab-df-convert');\n",
              "        buttonEl.style.display =\n",
              "          google.colab.kernel.accessAllowed ? 'block' : 'none';\n",
              "\n",
              "        async function convertToInteractive(key) {\n",
              "          const element = document.querySelector('#df-67b77db4-5e58-4461-aa2d-39a100bd7dbd');\n",
              "          const dataTable =\n",
              "            await google.colab.kernel.invokeFunction('convertToInteractive',\n",
              "                                                     [key], {});\n",
              "          if (!dataTable) return;\n",
              "\n",
              "          const docLinkHtml = 'Like what you see? Visit the ' +\n",
              "            '<a target=\"_blank\" href=https://colab.research.google.com/notebooks/data_table.ipynb>data table notebook</a>'\n",
              "            + ' to learn more about interactive tables.';\n",
              "          element.innerHTML = '';\n",
              "          dataTable['output_type'] = 'display_data';\n",
              "          await google.colab.output.renderOutput(dataTable, element);\n",
              "          const docLink = document.createElement('div');\n",
              "          docLink.innerHTML = docLinkHtml;\n",
              "          element.appendChild(docLink);\n",
              "        }\n",
              "      </script>\n",
              "    </div>\n",
              "  </div>\n",
              "  "
            ],
            "text/plain": [
              "                          review_id  ... score\n",
              "0  00003c6036f30f590c0ac435efb8739b  ...   7.1\n",
              "1  00004d18f186bf2489590dc415876f73  ...   7.5\n",
              "2  0000cf900cbb8667fad33a717e9b1cf4  ...  10.0\n",
              "3  0000df16edf19e7ad9dd8c5cd6f6925e  ...   5.4\n",
              "4  00025e1aa3ac32edb496db49e76bbd00  ...   6.7\n",
              "5  00025fd423c6e8340fc876a7a77eafe3  ...   6.3\n",
              "6  0003541ffa154f07b3257bcfba814a4b  ...   8.8\n",
              "7  0003c867f284bb21b14d1430903dfc49  ...  10.0\n",
              "8  0005bc3bc317755b5773821f44564f59  ...   9.2\n",
              "9  0005fc2de921da6c2f7239f701bb8dde  ...   6.7\n",
              "\n",
              "[10 rows x 4 columns]"
            ]
          },
          "metadata": {},
          "execution_count": 24
        }
      ],
      "source": [
        "df = pd.read_csv(PATH_TO_TRAIN_DATA)\n",
        "df['negative'] = df['negative'].replace('No Negative', '')\n",
        "df['positive'] = df['positive'].replace('No Positive', '')\n",
        "df.head(10)"
      ]
    },
    {
      "cell_type": "markdown",
      "source": [
        "*Модель не должна учитывать фразу-заглушку в индексах и при рассчете векторов - заменим на пустую строку отсутствие отзыва в базе*"
      ],
      "metadata": {
        "id": "H4HWc5oN5k2I"
      }
    },
    {
      "cell_type": "markdown",
      "metadata": {
        "id": "bpLk8dXBXHaP"
      },
      "source": [
        "Предобработка текста может сказываться на качестве вашей модели.\n",
        "Сделаем небольшой препроцессинг текстов: удалим знаки препинания, приведем все слова к нижнему регистру. Также мы добавили разбиение текстов на токены. Теперь каждая строка-ревью стала массивом токенов."
      ]
    },
    {
      "cell_type": "code",
      "execution_count": null,
      "metadata": {
        "id": "tv-gbEKGXHaQ",
        "colab": {
          "base_uri": "https://localhost:8080/"
        },
        "outputId": "185633a2-b6ee-44fc-8383-873263a6ad12"
      },
      "outputs": [
        {
          "output_type": "stream",
          "name": "stdout",
          "text": [
            "[nltk_data] Downloading package punkt to /root/nltk_data...\n",
            "[nltk_data]   Package punkt is already up-to-date!\n"
          ]
        }
      ],
      "source": [
        "import string\n",
        "import nltk\n",
        "nltk.download('punkt')\n",
        "from nltk.tokenize import word_tokenize\n",
        "\n",
        "def process_text(text):\n",
        "    return [word for word in word_tokenize(text.lower()) if word not in string.punctuation]"
      ]
    },
    {
      "cell_type": "markdown",
      "source": [
        "*Далее уберем из текста стоп-слова и проведем лемматизацию (пользуюсь [туториалом](https://www.datacamp.com/community/tutorials/stemming-lemmatization-python?utm_source=adwords_ppc&utm_medium=cpc&utm_campaignid=1455363063&utm_adgroupid=65083631748&utm_device=c&utm_keyword=&utm_matchtype=&utm_network=g&utm_adpostion=&utm_creative=278443377095&utm_targetid=aud-392016246653:dsa-429603003980&utm_loc_interest_ms=&utm_loc_physical_ms=9047023&gclid=Cj0KCQiAuvOPBhDXARIsAKzLQ8G-QRU73mY-UWD1lBd_xsSx-WFkl9L2LSujnM1X6nzGXTbNDZHFv88aAlSUEALw_wcB))*"
      ],
      "metadata": {
        "id": "gULDPijd9dzq"
      }
    },
    {
      "cell_type": "code",
      "source": [
        "nltk.download('stopwords')\n",
        "from nltk.corpus import stopwords\n",
        "\n",
        "sw = stopwords.words(\"english\")[:40]"
      ],
      "metadata": {
        "colab": {
          "base_uri": "https://localhost:8080/"
        },
        "id": "ylcf_HuA7uaC",
        "outputId": "1eb34019-0422-4b0d-c084-d07e698ba80e"
      },
      "execution_count": null,
      "outputs": [
        {
          "output_type": "stream",
          "name": "stdout",
          "text": [
            "[nltk_data] Downloading package stopwords to /root/nltk_data...\n",
            "[nltk_data]   Package stopwords is already up-to-date!\n"
          ]
        }
      ]
    },
    {
      "cell_type": "code",
      "source": [
        "nltk.download('wordnet')\n",
        "from nltk.stem import WordNetLemmatizer\n",
        "\n",
        "wordnet_lemmatizer = WordNetLemmatizer()\n",
        "for word in ['we', 'are', 'the', 'champions']:\n",
        "  print(wordnet_lemmatizer.lemmatize(word, pos=\"v\"))"
      ],
      "metadata": {
        "colab": {
          "base_uri": "https://localhost:8080/"
        },
        "id": "7M1P4jU698w7",
        "outputId": "e596f7b2-3dbb-4de5-f921-f3220d96a7a5"
      },
      "execution_count": null,
      "outputs": [
        {
          "output_type": "stream",
          "name": "stdout",
          "text": [
            "[nltk_data] Downloading package wordnet to /root/nltk_data...\n",
            "[nltk_data]   Package wordnet is already up-to-date!\n",
            "we\n",
            "be\n",
            "the\n",
            "champion\n"
          ]
        }
      ]
    },
    {
      "cell_type": "markdown",
      "source": [
        "*Соберем всю предобработку в обновленную функцию `process_text_beta`*"
      ],
      "metadata": {
        "id": "hd-FgHPHBV7u"
      }
    },
    {
      "cell_type": "code",
      "source": [
        "def text_processing(text):\n",
        "    return [wordnet_lemmatizer.lemmatize(word, pos=\"v\") for word in word_tokenize(text.lower()) \\\n",
        "                    if word not in string.punctuation \\\n",
        "                    and word not in sw\n",
        "            ]"
      ],
      "metadata": {
        "id": "aCk-cM9uBlIl"
      },
      "execution_count": null,
      "outputs": []
    },
    {
      "cell_type": "code",
      "execution_count": null,
      "metadata": {
        "id": "-X1bXhROXHaQ"
      },
      "outputs": [],
      "source": [
        "df1 = df.copy()\n",
        "df1['negative'] = df['negative'].apply(text_processing)\n",
        "df1['positive'] = df['positive'].apply(text_processing)"
      ]
    },
    {
      "cell_type": "code",
      "source": [
        "df1.head(10)"
      ],
      "metadata": {
        "colab": {
          "base_uri": "https://localhost:8080/",
          "height": 511
        },
        "id": "aMX7eX74ZKWI",
        "outputId": "3ba0c535-9ea3-4d06-89df-a8ba74709b4d"
      },
      "execution_count": null,
      "outputs": [
        {
          "output_type": "execute_result",
          "data": {
            "text/html": [
              "\n",
              "  <div id=\"df-f9c220cb-648c-4d59-8d42-0fda658c03a9\">\n",
              "    <div class=\"colab-df-container\">\n",
              "      <div>\n",
              "<style scoped>\n",
              "    .dataframe tbody tr th:only-of-type {\n",
              "        vertical-align: middle;\n",
              "    }\n",
              "\n",
              "    .dataframe tbody tr th {\n",
              "        vertical-align: top;\n",
              "    }\n",
              "\n",
              "    .dataframe thead th {\n",
              "        text-align: right;\n",
              "    }\n",
              "</style>\n",
              "<table border=\"1\" class=\"dataframe\">\n",
              "  <thead>\n",
              "    <tr style=\"text-align: right;\">\n",
              "      <th></th>\n",
              "      <th>review_id</th>\n",
              "      <th>negative</th>\n",
              "      <th>positive</th>\n",
              "      <th>score</th>\n",
              "    </tr>\n",
              "  </thead>\n",
              "  <tbody>\n",
              "    <tr>\n",
              "      <th>0</th>\n",
              "      <td>00003c6036f30f590c0ac435efb8739b</td>\n",
              "      <td>[there, be, issue, with, the, wifi, connection]</td>\n",
              "      <td>[]</td>\n",
              "      <td>7.1</td>\n",
              "    </tr>\n",
              "    <tr>\n",
              "      <th>1</th>\n",
              "      <td>00004d18f186bf2489590dc415876f73</td>\n",
              "      <td>[tv, not, work]</td>\n",
              "      <td>[]</td>\n",
              "      <td>7.5</td>\n",
              "    </tr>\n",
              "    <tr>\n",
              "      <th>2</th>\n",
              "      <td>0000cf900cbb8667fad33a717e9b1cf4</td>\n",
              "      <td>[more, pillow]</td>\n",
              "      <td>[beautiful, room, great, location, lovely, staff]</td>\n",
              "      <td>10.0</td>\n",
              "    </tr>\n",
              "    <tr>\n",
              "      <th>3</th>\n",
              "      <td>0000df16edf19e7ad9dd8c5cd6f6925e</td>\n",
              "      <td>[very, business]</td>\n",
              "      <td>[location]</td>\n",
              "      <td>5.4</td>\n",
              "    </tr>\n",
              "    <tr>\n",
              "      <th>4</th>\n",
              "      <td>00025e1aa3ac32edb496db49e76bbd00</td>\n",
              "      <td>[room, could, do, with, a, bite, of, a, refurb...</td>\n",
              "      <td>[nice, breakfast, handy, for, victoria, train,...</td>\n",
              "      <td>6.7</td>\n",
              "    </tr>\n",
              "    <tr>\n",
              "      <th>5</th>\n",
              "      <td>00025fd423c6e8340fc876a7a77eafe3</td>\n",
              "      <td>[hotel, be, under, reconstruction, and, should...</td>\n",
              "      <td>[location, be, excellent, for, congress, activ...</td>\n",
              "      <td>6.3</td>\n",
              "    </tr>\n",
              "    <tr>\n",
              "      <th>6</th>\n",
              "      <td>0003541ffa154f07b3257bcfba814a4b</td>\n",
              "      <td>[noise, from, the, train, and, road, but, ok, ...</td>\n",
              "      <td>[great, location, to, tube, station, and, loca...</td>\n",
              "      <td>8.8</td>\n",
              "    </tr>\n",
              "    <tr>\n",
              "      <th>7</th>\n",
              "      <td>0003c867f284bb21b14d1430903dfc49</td>\n",
              "      <td>[]</td>\n",
              "      <td>[great, location, friendly, staff, and, lovely...</td>\n",
              "      <td>10.0</td>\n",
              "    </tr>\n",
              "    <tr>\n",
              "      <th>8</th>\n",
              "      <td>0005bc3bc317755b5773821f44564f59</td>\n",
              "      <td>[know, re, renovate, but, have, concierge, tuc...</td>\n",
              "      <td>[staff, be, super, helpful, and, friendly, gre...</td>\n",
              "      <td>9.2</td>\n",
              "    </tr>\n",
              "    <tr>\n",
              "      <th>9</th>\n",
              "      <td>0005fc2de921da6c2f7239f701bb8dde</td>\n",
              "      <td>[location, of, room, no, phone, signal]</td>\n",
              "      <td>[friendly, staff]</td>\n",
              "      <td>6.7</td>\n",
              "    </tr>\n",
              "  </tbody>\n",
              "</table>\n",
              "</div>\n",
              "      <button class=\"colab-df-convert\" onclick=\"convertToInteractive('df-f9c220cb-648c-4d59-8d42-0fda658c03a9')\"\n",
              "              title=\"Convert this dataframe to an interactive table.\"\n",
              "              style=\"display:none;\">\n",
              "        \n",
              "  <svg xmlns=\"http://www.w3.org/2000/svg\" height=\"24px\"viewBox=\"0 0 24 24\"\n",
              "       width=\"24px\">\n",
              "    <path d=\"M0 0h24v24H0V0z\" fill=\"none\"/>\n",
              "    <path d=\"M18.56 5.44l.94 2.06.94-2.06 2.06-.94-2.06-.94-.94-2.06-.94 2.06-2.06.94zm-11 1L8.5 8.5l.94-2.06 2.06-.94-2.06-.94L8.5 2.5l-.94 2.06-2.06.94zm10 10l.94 2.06.94-2.06 2.06-.94-2.06-.94-.94-2.06-.94 2.06-2.06.94z\"/><path d=\"M17.41 7.96l-1.37-1.37c-.4-.4-.92-.59-1.43-.59-.52 0-1.04.2-1.43.59L10.3 9.45l-7.72 7.72c-.78.78-.78 2.05 0 2.83L4 21.41c.39.39.9.59 1.41.59.51 0 1.02-.2 1.41-.59l7.78-7.78 2.81-2.81c.8-.78.8-2.07 0-2.86zM5.41 20L4 18.59l7.72-7.72 1.47 1.35L5.41 20z\"/>\n",
              "  </svg>\n",
              "      </button>\n",
              "      \n",
              "  <style>\n",
              "    .colab-df-container {\n",
              "      display:flex;\n",
              "      flex-wrap:wrap;\n",
              "      gap: 12px;\n",
              "    }\n",
              "\n",
              "    .colab-df-convert {\n",
              "      background-color: #E8F0FE;\n",
              "      border: none;\n",
              "      border-radius: 50%;\n",
              "      cursor: pointer;\n",
              "      display: none;\n",
              "      fill: #1967D2;\n",
              "      height: 32px;\n",
              "      padding: 0 0 0 0;\n",
              "      width: 32px;\n",
              "    }\n",
              "\n",
              "    .colab-df-convert:hover {\n",
              "      background-color: #E2EBFA;\n",
              "      box-shadow: 0px 1px 2px rgba(60, 64, 67, 0.3), 0px 1px 3px 1px rgba(60, 64, 67, 0.15);\n",
              "      fill: #174EA6;\n",
              "    }\n",
              "\n",
              "    [theme=dark] .colab-df-convert {\n",
              "      background-color: #3B4455;\n",
              "      fill: #D2E3FC;\n",
              "    }\n",
              "\n",
              "    [theme=dark] .colab-df-convert:hover {\n",
              "      background-color: #434B5C;\n",
              "      box-shadow: 0px 1px 3px 1px rgba(0, 0, 0, 0.15);\n",
              "      filter: drop-shadow(0px 1px 2px rgba(0, 0, 0, 0.3));\n",
              "      fill: #FFFFFF;\n",
              "    }\n",
              "  </style>\n",
              "\n",
              "      <script>\n",
              "        const buttonEl =\n",
              "          document.querySelector('#df-f9c220cb-648c-4d59-8d42-0fda658c03a9 button.colab-df-convert');\n",
              "        buttonEl.style.display =\n",
              "          google.colab.kernel.accessAllowed ? 'block' : 'none';\n",
              "\n",
              "        async function convertToInteractive(key) {\n",
              "          const element = document.querySelector('#df-f9c220cb-648c-4d59-8d42-0fda658c03a9');\n",
              "          const dataTable =\n",
              "            await google.colab.kernel.invokeFunction('convertToInteractive',\n",
              "                                                     [key], {});\n",
              "          if (!dataTable) return;\n",
              "\n",
              "          const docLinkHtml = 'Like what you see? Visit the ' +\n",
              "            '<a target=\"_blank\" href=https://colab.research.google.com/notebooks/data_table.ipynb>data table notebook</a>'\n",
              "            + ' to learn more about interactive tables.';\n",
              "          element.innerHTML = '';\n",
              "          dataTable['output_type'] = 'display_data';\n",
              "          await google.colab.output.renderOutput(dataTable, element);\n",
              "          const docLink = document.createElement('div');\n",
              "          docLink.innerHTML = docLinkHtml;\n",
              "          element.appendChild(docLink);\n",
              "        }\n",
              "      </script>\n",
              "    </div>\n",
              "  </div>\n",
              "  "
            ],
            "text/plain": [
              "                          review_id  ... score\n",
              "0  00003c6036f30f590c0ac435efb8739b  ...   7.1\n",
              "1  00004d18f186bf2489590dc415876f73  ...   7.5\n",
              "2  0000cf900cbb8667fad33a717e9b1cf4  ...  10.0\n",
              "3  0000df16edf19e7ad9dd8c5cd6f6925e  ...   5.4\n",
              "4  00025e1aa3ac32edb496db49e76bbd00  ...   6.7\n",
              "5  00025fd423c6e8340fc876a7a77eafe3  ...   6.3\n",
              "6  0003541ffa154f07b3257bcfba814a4b  ...   8.8\n",
              "7  0003c867f284bb21b14d1430903dfc49  ...  10.0\n",
              "8  0005bc3bc317755b5773821f44564f59  ...   9.2\n",
              "9  0005fc2de921da6c2f7239f701bb8dde  ...   6.7\n",
              "\n",
              "[10 rows x 4 columns]"
            ]
          },
          "metadata": {},
          "execution_count": 10
        }
      ]
    },
    {
      "cell_type": "code",
      "execution_count": null,
      "metadata": {
        "id": "MewBIvp9XHaQ"
      },
      "outputs": [],
      "source": [
        "df_train, df_test = train_test_split(df, random_state=1412) # <- для локального тестирования\n",
        "y_train, y_test = df_train['score'], df_test['score']"
      ]
    },
    {
      "cell_type": "markdown",
      "metadata": {
        "id": "3gu1EIc3XHaR"
      },
      "source": [
        "### Часть 1."
      ]
    },
    {
      "cell_type": "markdown",
      "metadata": {
        "id": "DM7ZD9gyXHaR"
      },
      "source": [
        "Логистическая регрессия на TF-IDF векторах текстов"
      ]
    },
    {
      "cell_type": "code",
      "execution_count": null,
      "metadata": {
        "id": "2x4yCjh8XHaR"
      },
      "outputs": [],
      "source": [
        "from sklearn.feature_extraction.text import TfidfVectorizer\n",
        "from sklearn.linear_model import LogisticRegression\n",
        "from sklearn.metrics import mean_absolute_error\n",
        "from scipy.sparse import hstack"
      ]
    },
    {
      "cell_type": "code",
      "source": [
        "print(\"Best mean constant is %.4f\" % y_train.mean())\n",
        "print(\"Train MAE with best mean constant = %.4f\" % mean_absolute_error(y_train, y_train.mean() * np.ones(y_train.shape)))"
      ],
      "metadata": {
        "colab": {
          "base_uri": "https://localhost:8080/"
        },
        "id": "GfJYxnNbbHVa",
        "outputId": "ee1437af-c241-4fdd-e984-ea680f375ac2"
      },
      "execution_count": null,
      "outputs": [
        {
          "output_type": "stream",
          "name": "stdout",
          "text": [
            "Best mean constant is 8.4005\n",
            "Train MAE with best mean constant = 1.3146\n"
          ]
        }
      ]
    },
    {
      "cell_type": "markdown",
      "source": [
        "#### Класс модели TF-IDF"
      ],
      "metadata": {
        "id": "0_uiiGN9wx2j"
      }
    },
    {
      "cell_type": "code",
      "source": [
        "from sklearn.linear_model import Ridge\n",
        "from sklearn.preprocessing import MaxAbsScaler\n",
        "from sklearn.pipeline import Pipeline"
      ],
      "metadata": {
        "id": "yHCl7nJPCTfe"
      },
      "execution_count": null,
      "outputs": []
    },
    {
      "cell_type": "code",
      "source": [
        "class TF_IDF_wrapper():\n",
        "    def text_processing(self, text):\n",
        "        return [wordnet_lemmatizer.lemmatize(word, pos=\"v\") for word in word_tokenize(text.lower()) \\\n",
        "                        if word not in string.punctuation \\\n",
        "                        and word not in sw\n",
        "                ]\n",
        "\n",
        "    def __init__(self, model, need_scaling=False):\n",
        "        if need_scaling:\n",
        "            self.model = Pipeline(steps=[\n",
        "                ('scaling_sparse_data', MaxAbsScaler()),\n",
        "                ('model', model)\n",
        "            ])\n",
        "        else:\n",
        "            self.model = model\n",
        "        self.tfidf_vectorizer = TfidfVectorizer(tokenizer=self.text_processing)\n",
        "\n",
        "    def fit(self, corpus, target):\n",
        "        self.tfidf_vectorizer.fit(pd.concat([corpus['positive'], corpus['negative']], axis=0))\n",
        "        self.model.fit(self.transform(corpus), target)\n",
        "        return self.model\n",
        "\n",
        "    def transform(self, corpus):\n",
        "        tfidf_vect_pos = self.tfidf_vectorizer.transform(corpus['positive'])\n",
        "        tfidf_vect_neg = self.tfidf_vectorizer.transform(corpus['negative'])\n",
        "        return hstack([tfidf_vect_pos, tfidf_vect_neg])\n",
        "\n",
        "    def predict(self, corpus):\n",
        "        return self.model.predict(self.transform(corpus))"
      ],
      "metadata": {
        "id": "2UrdJUJhhvOj"
      },
      "execution_count": null,
      "outputs": []
    },
    {
      "cell_type": "markdown",
      "source": [
        "**Линейная регрессия без нормирования**"
      ],
      "metadata": {
        "id": "M8cCpG6j8_jC"
      }
    },
    {
      "cell_type": "code",
      "source": [
        "tfidf_ridge = TF_IDF_wrapper(Ridge(), need_scaling=False)\n",
        "tfidf_ridge.fit(df_train, y_train)\n",
        "y_pred = tfidf_ridge.predict(df_test)\n",
        "mean_absolute_error(y_test, y_pred)"
      ],
      "metadata": {
        "colab": {
          "base_uri": "https://localhost:8080/"
        },
        "id": "jir1hLnuLAY-",
        "outputId": "f4278e6d-f1d0-4ebc-90d7-508b236dff15"
      },
      "execution_count": null,
      "outputs": [
        {
          "output_type": "execute_result",
          "data": {
            "text/plain": [
              "0.8309918880404499"
            ]
          },
          "metadata": {},
          "execution_count": 26
        }
      ]
    },
    {
      "cell_type": "markdown",
      "source": [
        "**Линейная регрессия со скейлингом (использую [MaxAbsScaler](https://www.machinecurve.com/index.php/2020/11/23/feature-scaling-with-python-and-sparse-data/#:~:text=offers%20by%20email.-,Using%20the%20MaxAbsScaler%20to%20handle%20Sparse%20Data,-Fortunately%2C%20there%20is), объясняется в этой заметке)**"
      ],
      "metadata": {
        "id": "CPSDuURO9H3N"
      }
    },
    {
      "cell_type": "code",
      "source": [
        "tfidf_ridge = TF_IDF_wrapper(Ridge(), need_scaling=True)\n",
        "tfidf_ridge.fit(df_train, y_train)\n",
        "y_pred = tfidf_ridge.predict(df_test)\n",
        "mean_absolute_error(y_test, y_pred)"
      ],
      "metadata": {
        "colab": {
          "base_uri": "https://localhost:8080/"
        },
        "id": "CTDNumOXZgGB",
        "outputId": "31b91353-e3a0-43df-a4c5-3f193d005b59"
      },
      "execution_count": null,
      "outputs": [
        {
          "output_type": "execute_result",
          "data": {
            "text/plain": [
              "0.8747363233529493"
            ]
          },
          "metadata": {},
          "execution_count": 18
        }
      ]
    },
    {
      "cell_type": "markdown",
      "source": [
        "**Логистическая регрессия**"
      ],
      "metadata": {
        "id": "s7pxVnBO9PK8"
      }
    },
    {
      "cell_type": "code",
      "source": [
        "tfidf_ridge = TF_IDF_wrapper(LogisticRegression(max_iter=5000, penalty='l2'), need_scaling=False)\n",
        "tfidf_ridge.fit(df_train, y_train.apply(lambda w: round(w)))\n",
        "y_pred = tfidf_ridge.predict(df_test)\n",
        "mean_absolute_error(y_test, y_pred)"
      ],
      "metadata": {
        "colab": {
          "base_uri": "https://localhost:8080/"
        },
        "id": "pg9h6fNW9Pb_",
        "outputId": "6a3bb8d8-ec03-4bb0-b10d-41612aaccbf9"
      },
      "execution_count": null,
      "outputs": [
        {
          "output_type": "execute_result",
          "data": {
            "text/plain": [
              "0.90592"
            ]
          },
          "metadata": {},
          "execution_count": 29
        }
      ]
    },
    {
      "cell_type": "code",
      "source": [
        "PATH_TO_TEST_DATA = '/content/drive/MyDrive/Intro to DL (домашки Маши Тимониной)/Intro to DL HW3/test.csv'\n",
        "\n",
        "df_real_test = pd.read_csv(PATH_TO_TEST_DATA)\n",
        "df_real_test['negative'] = df_real_test['negative'].replace('No Negative', '')\n",
        "df_real_test['positive'] = df_real_test['positive'].replace('No Positive', '')\n",
        "df_real_test.head(10)"
      ],
      "metadata": {
        "colab": {
          "base_uri": "https://localhost:8080/",
          "height": 363
        },
        "id": "zW6tDMxhRASo",
        "outputId": "7ad872da-71bf-4541-b1a4-6f377eef57d7"
      },
      "execution_count": null,
      "outputs": [
        {
          "output_type": "execute_result",
          "data": {
            "text/html": [
              "\n",
              "  <div id=\"df-93cd8063-9667-43a0-bfd2-8256661cd6bd\">\n",
              "    <div class=\"colab-df-container\">\n",
              "      <div>\n",
              "<style scoped>\n",
              "    .dataframe tbody tr th:only-of-type {\n",
              "        vertical-align: middle;\n",
              "    }\n",
              "\n",
              "    .dataframe tbody tr th {\n",
              "        vertical-align: top;\n",
              "    }\n",
              "\n",
              "    .dataframe thead th {\n",
              "        text-align: right;\n",
              "    }\n",
              "</style>\n",
              "<table border=\"1\" class=\"dataframe\">\n",
              "  <thead>\n",
              "    <tr style=\"text-align: right;\">\n",
              "      <th></th>\n",
              "      <th>review_id</th>\n",
              "      <th>negative</th>\n",
              "      <th>positive</th>\n",
              "    </tr>\n",
              "  </thead>\n",
              "  <tbody>\n",
              "    <tr>\n",
              "      <th>0</th>\n",
              "      <td>00026f564b258ad5159aab07c357c4ca</td>\n",
              "      <td>Other than the location everything else was h...</td>\n",
              "      <td>Just the location</td>\n",
              "    </tr>\n",
              "    <tr>\n",
              "      <th>1</th>\n",
              "      <td>000278c73da08f4fcb857fcfe4ac6417</td>\n",
              "      <td>No UK TV but this was a minor point as we wer...</td>\n",
              "      <td>Great location very comfortable clean breakfa...</td>\n",
              "    </tr>\n",
              "    <tr>\n",
              "      <th>2</th>\n",
              "      <td>000404f843e756fe3b2a477dbefa5bd4</td>\n",
              "      <td>A tiny noisy room VERY deceptively photographed</td>\n",
              "      <td>The breakfast booked the preceding night but ...</td>\n",
              "    </tr>\n",
              "    <tr>\n",
              "      <th>3</th>\n",
              "      <td>000a66d32bcf305148d789ac156dd512</td>\n",
              "      <td>Noisy various electrical devices kicking in r...</td>\n",
              "      <td>Great location Nice bathroom</td>\n",
              "    </tr>\n",
              "    <tr>\n",
              "      <th>4</th>\n",
              "      <td>000bf1d8c5110701f459ffbedbf0d546</td>\n",
              "      <td></td>\n",
              "      <td>Great location and friendly staff</td>\n",
              "    </tr>\n",
              "    <tr>\n",
              "      <th>5</th>\n",
              "      <td>000c36a6731f1e109864308a7a22be4d</td>\n",
              "      <td></td>\n",
              "      <td>The personnel was helpfull and cheerful The r...</td>\n",
              "    </tr>\n",
              "    <tr>\n",
              "      <th>6</th>\n",
              "      <td>00142074a207aba53ddcc46985f8c0c3</td>\n",
              "      <td></td>\n",
              "      <td>Standing global</td>\n",
              "    </tr>\n",
              "    <tr>\n",
              "      <th>7</th>\n",
              "      <td>0014e8ce0480a083abd0dca4f6d7aca7</td>\n",
              "      <td>N A</td>\n",
              "      <td>Free upgrade in Executive Double room complem...</td>\n",
              "    </tr>\n",
              "    <tr>\n",
              "      <th>8</th>\n",
              "      <td>0016fb343fddab24736d7e1d9823e9a5</td>\n",
              "      <td>staff in restaurant has problems with hearing</td>\n",
              "      <td></td>\n",
              "    </tr>\n",
              "    <tr>\n",
              "      <th>9</th>\n",
              "      <td>0018a42d079fed623b58d24b0bde718b</td>\n",
              "      <td>Nothing</td>\n",
              "      <td>Fantastic hotel best I ve stayed in for a whi...</td>\n",
              "    </tr>\n",
              "  </tbody>\n",
              "</table>\n",
              "</div>\n",
              "      <button class=\"colab-df-convert\" onclick=\"convertToInteractive('df-93cd8063-9667-43a0-bfd2-8256661cd6bd')\"\n",
              "              title=\"Convert this dataframe to an interactive table.\"\n",
              "              style=\"display:none;\">\n",
              "        \n",
              "  <svg xmlns=\"http://www.w3.org/2000/svg\" height=\"24px\"viewBox=\"0 0 24 24\"\n",
              "       width=\"24px\">\n",
              "    <path d=\"M0 0h24v24H0V0z\" fill=\"none\"/>\n",
              "    <path d=\"M18.56 5.44l.94 2.06.94-2.06 2.06-.94-2.06-.94-.94-2.06-.94 2.06-2.06.94zm-11 1L8.5 8.5l.94-2.06 2.06-.94-2.06-.94L8.5 2.5l-.94 2.06-2.06.94zm10 10l.94 2.06.94-2.06 2.06-.94-2.06-.94-.94-2.06-.94 2.06-2.06.94z\"/><path d=\"M17.41 7.96l-1.37-1.37c-.4-.4-.92-.59-1.43-.59-.52 0-1.04.2-1.43.59L10.3 9.45l-7.72 7.72c-.78.78-.78 2.05 0 2.83L4 21.41c.39.39.9.59 1.41.59.51 0 1.02-.2 1.41-.59l7.78-7.78 2.81-2.81c.8-.78.8-2.07 0-2.86zM5.41 20L4 18.59l7.72-7.72 1.47 1.35L5.41 20z\"/>\n",
              "  </svg>\n",
              "      </button>\n",
              "      \n",
              "  <style>\n",
              "    .colab-df-container {\n",
              "      display:flex;\n",
              "      flex-wrap:wrap;\n",
              "      gap: 12px;\n",
              "    }\n",
              "\n",
              "    .colab-df-convert {\n",
              "      background-color: #E8F0FE;\n",
              "      border: none;\n",
              "      border-radius: 50%;\n",
              "      cursor: pointer;\n",
              "      display: none;\n",
              "      fill: #1967D2;\n",
              "      height: 32px;\n",
              "      padding: 0 0 0 0;\n",
              "      width: 32px;\n",
              "    }\n",
              "\n",
              "    .colab-df-convert:hover {\n",
              "      background-color: #E2EBFA;\n",
              "      box-shadow: 0px 1px 2px rgba(60, 64, 67, 0.3), 0px 1px 3px 1px rgba(60, 64, 67, 0.15);\n",
              "      fill: #174EA6;\n",
              "    }\n",
              "\n",
              "    [theme=dark] .colab-df-convert {\n",
              "      background-color: #3B4455;\n",
              "      fill: #D2E3FC;\n",
              "    }\n",
              "\n",
              "    [theme=dark] .colab-df-convert:hover {\n",
              "      background-color: #434B5C;\n",
              "      box-shadow: 0px 1px 3px 1px rgba(0, 0, 0, 0.15);\n",
              "      filter: drop-shadow(0px 1px 2px rgba(0, 0, 0, 0.3));\n",
              "      fill: #FFFFFF;\n",
              "    }\n",
              "  </style>\n",
              "\n",
              "      <script>\n",
              "        const buttonEl =\n",
              "          document.querySelector('#df-93cd8063-9667-43a0-bfd2-8256661cd6bd button.colab-df-convert');\n",
              "        buttonEl.style.display =\n",
              "          google.colab.kernel.accessAllowed ? 'block' : 'none';\n",
              "\n",
              "        async function convertToInteractive(key) {\n",
              "          const element = document.querySelector('#df-93cd8063-9667-43a0-bfd2-8256661cd6bd');\n",
              "          const dataTable =\n",
              "            await google.colab.kernel.invokeFunction('convertToInteractive',\n",
              "                                                     [key], {});\n",
              "          if (!dataTable) return;\n",
              "\n",
              "          const docLinkHtml = 'Like what you see? Visit the ' +\n",
              "            '<a target=\"_blank\" href=https://colab.research.google.com/notebooks/data_table.ipynb>data table notebook</a>'\n",
              "            + ' to learn more about interactive tables.';\n",
              "          element.innerHTML = '';\n",
              "          dataTable['output_type'] = 'display_data';\n",
              "          await google.colab.output.renderOutput(dataTable, element);\n",
              "          const docLink = document.createElement('div');\n",
              "          docLink.innerHTML = docLinkHtml;\n",
              "          element.appendChild(docLink);\n",
              "        }\n",
              "      </script>\n",
              "    </div>\n",
              "  </div>\n",
              "  "
            ],
            "text/plain": [
              "                          review_id  ...                                           positive\n",
              "0  00026f564b258ad5159aab07c357c4ca  ...                                 Just the location \n",
              "1  000278c73da08f4fcb857fcfe4ac6417  ...   Great location very comfortable clean breakfa...\n",
              "2  000404f843e756fe3b2a477dbefa5bd4  ...   The breakfast booked the preceding night but ...\n",
              "3  000a66d32bcf305148d789ac156dd512  ...                       Great location Nice bathroom\n",
              "4  000bf1d8c5110701f459ffbedbf0d546  ...                  Great location and friendly staff\n",
              "5  000c36a6731f1e109864308a7a22be4d  ...   The personnel was helpfull and cheerful The r...\n",
              "6  00142074a207aba53ddcc46985f8c0c3  ...                                    Standing global\n",
              "7  0014e8ce0480a083abd0dca4f6d7aca7  ...   Free upgrade in Executive Double room complem...\n",
              "8  0016fb343fddab24736d7e1d9823e9a5  ...                                                   \n",
              "9  0018a42d079fed623b58d24b0bde718b  ...   Fantastic hotel best I ve stayed in for a whi...\n",
              "\n",
              "[10 rows x 3 columns]"
            ]
          },
          "metadata": {},
          "execution_count": 46
        }
      ]
    },
    {
      "cell_type": "code",
      "source": [
        "tfidf_ridge = TF_IDF_wrapper(Ridge(), need_scaling=False)\n",
        "tfidf_ridge.fit(df, df['score'])\n",
        "y_pred = tfidf_ridge.predict(df_real_test)\n",
        "y_pred"
      ],
      "metadata": {
        "colab": {
          "base_uri": "https://localhost:8080/"
        },
        "id": "EYeMx3GxRnNj",
        "outputId": "260d1c10-9f74-4dd8-a91d-25fe5fb4f936"
      },
      "execution_count": null,
      "outputs": [
        {
          "output_type": "execute_result",
          "data": {
            "text/plain": [
              "array([4.69204883, 9.98486586, 6.23275229, ..., 9.71927263, 7.00833046,\n",
              "       8.84164028])"
            ]
          },
          "metadata": {},
          "execution_count": 47
        }
      ]
    },
    {
      "cell_type": "code",
      "source": [
        "df_real_test['score'] = y_pred\n",
        "df_tfidf_ridge = df_real_test[['review_id', 'score']]\n",
        "df_tfidf_ridge"
      ],
      "metadata": {
        "colab": {
          "base_uri": "https://localhost:8080/",
          "height": 423
        },
        "id": "t1uHb4SFU2SD",
        "outputId": "1072b0dd-25fd-45ba-9779-5a1eca63363d"
      },
      "execution_count": null,
      "outputs": [
        {
          "output_type": "execute_result",
          "data": {
            "text/html": [
              "\n",
              "  <div id=\"df-f1ac10db-1959-4d48-952e-82fcd458bd32\">\n",
              "    <div class=\"colab-df-container\">\n",
              "      <div>\n",
              "<style scoped>\n",
              "    .dataframe tbody tr th:only-of-type {\n",
              "        vertical-align: middle;\n",
              "    }\n",
              "\n",
              "    .dataframe tbody tr th {\n",
              "        vertical-align: top;\n",
              "    }\n",
              "\n",
              "    .dataframe thead th {\n",
              "        text-align: right;\n",
              "    }\n",
              "</style>\n",
              "<table border=\"1\" class=\"dataframe\">\n",
              "  <thead>\n",
              "    <tr style=\"text-align: right;\">\n",
              "      <th></th>\n",
              "      <th>review_id</th>\n",
              "      <th>score</th>\n",
              "    </tr>\n",
              "  </thead>\n",
              "  <tbody>\n",
              "    <tr>\n",
              "      <th>0</th>\n",
              "      <td>00026f564b258ad5159aab07c357c4ca</td>\n",
              "      <td>4.692049</td>\n",
              "    </tr>\n",
              "    <tr>\n",
              "      <th>1</th>\n",
              "      <td>000278c73da08f4fcb857fcfe4ac6417</td>\n",
              "      <td>9.984866</td>\n",
              "    </tr>\n",
              "    <tr>\n",
              "      <th>2</th>\n",
              "      <td>000404f843e756fe3b2a477dbefa5bd4</td>\n",
              "      <td>6.232752</td>\n",
              "    </tr>\n",
              "    <tr>\n",
              "      <th>3</th>\n",
              "      <td>000a66d32bcf305148d789ac156dd512</td>\n",
              "      <td>7.149432</td>\n",
              "    </tr>\n",
              "    <tr>\n",
              "      <th>4</th>\n",
              "      <td>000bf1d8c5110701f459ffbedbf0d546</td>\n",
              "      <td>9.389005</td>\n",
              "    </tr>\n",
              "    <tr>\n",
              "      <th>...</th>\n",
              "      <td>...</td>\n",
              "      <td>...</td>\n",
              "    </tr>\n",
              "    <tr>\n",
              "      <th>19995</th>\n",
              "      <td>ffe8a7190aee6e3a53ee2e0145a91555</td>\n",
              "      <td>6.019652</td>\n",
              "    </tr>\n",
              "    <tr>\n",
              "      <th>19996</th>\n",
              "      <td>ffea0e2b84788c9df755efe8e2bedb23</td>\n",
              "      <td>9.520023</td>\n",
              "    </tr>\n",
              "    <tr>\n",
              "      <th>19997</th>\n",
              "      <td>fff3997a85a1eed7ae7a937bc945fcf0</td>\n",
              "      <td>9.719273</td>\n",
              "    </tr>\n",
              "    <tr>\n",
              "      <th>19998</th>\n",
              "      <td>fff673fe95ab8f3a0910f112549862e2</td>\n",
              "      <td>7.008330</td>\n",
              "    </tr>\n",
              "    <tr>\n",
              "      <th>19999</th>\n",
              "      <td>fffde0b07729c476fa6509524cf07f15</td>\n",
              "      <td>8.841640</td>\n",
              "    </tr>\n",
              "  </tbody>\n",
              "</table>\n",
              "<p>20000 rows × 2 columns</p>\n",
              "</div>\n",
              "      <button class=\"colab-df-convert\" onclick=\"convertToInteractive('df-f1ac10db-1959-4d48-952e-82fcd458bd32')\"\n",
              "              title=\"Convert this dataframe to an interactive table.\"\n",
              "              style=\"display:none;\">\n",
              "        \n",
              "  <svg xmlns=\"http://www.w3.org/2000/svg\" height=\"24px\"viewBox=\"0 0 24 24\"\n",
              "       width=\"24px\">\n",
              "    <path d=\"M0 0h24v24H0V0z\" fill=\"none\"/>\n",
              "    <path d=\"M18.56 5.44l.94 2.06.94-2.06 2.06-.94-2.06-.94-.94-2.06-.94 2.06-2.06.94zm-11 1L8.5 8.5l.94-2.06 2.06-.94-2.06-.94L8.5 2.5l-.94 2.06-2.06.94zm10 10l.94 2.06.94-2.06 2.06-.94-2.06-.94-.94-2.06-.94 2.06-2.06.94z\"/><path d=\"M17.41 7.96l-1.37-1.37c-.4-.4-.92-.59-1.43-.59-.52 0-1.04.2-1.43.59L10.3 9.45l-7.72 7.72c-.78.78-.78 2.05 0 2.83L4 21.41c.39.39.9.59 1.41.59.51 0 1.02-.2 1.41-.59l7.78-7.78 2.81-2.81c.8-.78.8-2.07 0-2.86zM5.41 20L4 18.59l7.72-7.72 1.47 1.35L5.41 20z\"/>\n",
              "  </svg>\n",
              "      </button>\n",
              "      \n",
              "  <style>\n",
              "    .colab-df-container {\n",
              "      display:flex;\n",
              "      flex-wrap:wrap;\n",
              "      gap: 12px;\n",
              "    }\n",
              "\n",
              "    .colab-df-convert {\n",
              "      background-color: #E8F0FE;\n",
              "      border: none;\n",
              "      border-radius: 50%;\n",
              "      cursor: pointer;\n",
              "      display: none;\n",
              "      fill: #1967D2;\n",
              "      height: 32px;\n",
              "      padding: 0 0 0 0;\n",
              "      width: 32px;\n",
              "    }\n",
              "\n",
              "    .colab-df-convert:hover {\n",
              "      background-color: #E2EBFA;\n",
              "      box-shadow: 0px 1px 2px rgba(60, 64, 67, 0.3), 0px 1px 3px 1px rgba(60, 64, 67, 0.15);\n",
              "      fill: #174EA6;\n",
              "    }\n",
              "\n",
              "    [theme=dark] .colab-df-convert {\n",
              "      background-color: #3B4455;\n",
              "      fill: #D2E3FC;\n",
              "    }\n",
              "\n",
              "    [theme=dark] .colab-df-convert:hover {\n",
              "      background-color: #434B5C;\n",
              "      box-shadow: 0px 1px 3px 1px rgba(0, 0, 0, 0.15);\n",
              "      filter: drop-shadow(0px 1px 2px rgba(0, 0, 0, 0.3));\n",
              "      fill: #FFFFFF;\n",
              "    }\n",
              "  </style>\n",
              "\n",
              "      <script>\n",
              "        const buttonEl =\n",
              "          document.querySelector('#df-f1ac10db-1959-4d48-952e-82fcd458bd32 button.colab-df-convert');\n",
              "        buttonEl.style.display =\n",
              "          google.colab.kernel.accessAllowed ? 'block' : 'none';\n",
              "\n",
              "        async function convertToInteractive(key) {\n",
              "          const element = document.querySelector('#df-f1ac10db-1959-4d48-952e-82fcd458bd32');\n",
              "          const dataTable =\n",
              "            await google.colab.kernel.invokeFunction('convertToInteractive',\n",
              "                                                     [key], {});\n",
              "          if (!dataTable) return;\n",
              "\n",
              "          const docLinkHtml = 'Like what you see? Visit the ' +\n",
              "            '<a target=\"_blank\" href=https://colab.research.google.com/notebooks/data_table.ipynb>data table notebook</a>'\n",
              "            + ' to learn more about interactive tables.';\n",
              "          element.innerHTML = '';\n",
              "          dataTable['output_type'] = 'display_data';\n",
              "          await google.colab.output.renderOutput(dataTable, element);\n",
              "          const docLink = document.createElement('div');\n",
              "          docLink.innerHTML = docLinkHtml;\n",
              "          element.appendChild(docLink);\n",
              "        }\n",
              "      </script>\n",
              "    </div>\n",
              "  </div>\n",
              "  "
            ],
            "text/plain": [
              "                              review_id     score\n",
              "0      00026f564b258ad5159aab07c357c4ca  4.692049\n",
              "1      000278c73da08f4fcb857fcfe4ac6417  9.984866\n",
              "2      000404f843e756fe3b2a477dbefa5bd4  6.232752\n",
              "3      000a66d32bcf305148d789ac156dd512  7.149432\n",
              "4      000bf1d8c5110701f459ffbedbf0d546  9.389005\n",
              "...                                 ...       ...\n",
              "19995  ffe8a7190aee6e3a53ee2e0145a91555  6.019652\n",
              "19996  ffea0e2b84788c9df755efe8e2bedb23  9.520023\n",
              "19997  fff3997a85a1eed7ae7a937bc945fcf0  9.719273\n",
              "19998  fff673fe95ab8f3a0910f112549862e2  7.008330\n",
              "19999  fffde0b07729c476fa6509524cf07f15  8.841640\n",
              "\n",
              "[20000 rows x 2 columns]"
            ]
          },
          "metadata": {},
          "execution_count": 48
        }
      ]
    },
    {
      "cell_type": "code",
      "source": [
        "df_tfidf_ridge.to_csv('/content/drive/MyDrive/Intro to DL/tfidf_submission1.csv', index=False)"
      ],
      "metadata": {
        "id": "n2wUrKR_XQmJ"
      },
      "execution_count": null,
      "outputs": []
    },
    {
      "cell_type": "code",
      "source": [
        "pd.read_csv('/content/drive/MyDrive/Intro to DL/sample_submission.csv')"
      ],
      "metadata": {
        "colab": {
          "base_uri": "https://localhost:8080/",
          "height": 423
        },
        "id": "2JbnPdLRSsLi",
        "outputId": "01369ee2-3e53-4507-dd2c-619e2e6d0ce0"
      },
      "execution_count": null,
      "outputs": [
        {
          "output_type": "execute_result",
          "data": {
            "text/html": [
              "\n",
              "  <div id=\"df-c2571745-26d0-4281-aa33-19f642618e5b\">\n",
              "    <div class=\"colab-df-container\">\n",
              "      <div>\n",
              "<style scoped>\n",
              "    .dataframe tbody tr th:only-of-type {\n",
              "        vertical-align: middle;\n",
              "    }\n",
              "\n",
              "    .dataframe tbody tr th {\n",
              "        vertical-align: top;\n",
              "    }\n",
              "\n",
              "    .dataframe thead th {\n",
              "        text-align: right;\n",
              "    }\n",
              "</style>\n",
              "<table border=\"1\" class=\"dataframe\">\n",
              "  <thead>\n",
              "    <tr style=\"text-align: right;\">\n",
              "      <th></th>\n",
              "      <th>review_id</th>\n",
              "      <th>score</th>\n",
              "    </tr>\n",
              "  </thead>\n",
              "  <tbody>\n",
              "    <tr>\n",
              "      <th>0</th>\n",
              "      <td>00026f564b258ad5159aab07c357c4ca</td>\n",
              "      <td>5.5</td>\n",
              "    </tr>\n",
              "    <tr>\n",
              "      <th>1</th>\n",
              "      <td>000278c73da08f4fcb857fcfe4ac6417</td>\n",
              "      <td>5.5</td>\n",
              "    </tr>\n",
              "    <tr>\n",
              "      <th>2</th>\n",
              "      <td>000404f843e756fe3b2a477dbefa5bd4</td>\n",
              "      <td>5.5</td>\n",
              "    </tr>\n",
              "    <tr>\n",
              "      <th>3</th>\n",
              "      <td>000a66d32bcf305148d789ac156dd512</td>\n",
              "      <td>5.5</td>\n",
              "    </tr>\n",
              "    <tr>\n",
              "      <th>4</th>\n",
              "      <td>000bf1d8c5110701f459ffbedbf0d546</td>\n",
              "      <td>5.5</td>\n",
              "    </tr>\n",
              "    <tr>\n",
              "      <th>...</th>\n",
              "      <td>...</td>\n",
              "      <td>...</td>\n",
              "    </tr>\n",
              "    <tr>\n",
              "      <th>19995</th>\n",
              "      <td>ffe8a7190aee6e3a53ee2e0145a91555</td>\n",
              "      <td>5.5</td>\n",
              "    </tr>\n",
              "    <tr>\n",
              "      <th>19996</th>\n",
              "      <td>ffea0e2b84788c9df755efe8e2bedb23</td>\n",
              "      <td>5.5</td>\n",
              "    </tr>\n",
              "    <tr>\n",
              "      <th>19997</th>\n",
              "      <td>fff3997a85a1eed7ae7a937bc945fcf0</td>\n",
              "      <td>5.5</td>\n",
              "    </tr>\n",
              "    <tr>\n",
              "      <th>19998</th>\n",
              "      <td>fff673fe95ab8f3a0910f112549862e2</td>\n",
              "      <td>5.5</td>\n",
              "    </tr>\n",
              "    <tr>\n",
              "      <th>19999</th>\n",
              "      <td>fffde0b07729c476fa6509524cf07f15</td>\n",
              "      <td>5.5</td>\n",
              "    </tr>\n",
              "  </tbody>\n",
              "</table>\n",
              "<p>20000 rows × 2 columns</p>\n",
              "</div>\n",
              "      <button class=\"colab-df-convert\" onclick=\"convertToInteractive('df-c2571745-26d0-4281-aa33-19f642618e5b')\"\n",
              "              title=\"Convert this dataframe to an interactive table.\"\n",
              "              style=\"display:none;\">\n",
              "        \n",
              "  <svg xmlns=\"http://www.w3.org/2000/svg\" height=\"24px\"viewBox=\"0 0 24 24\"\n",
              "       width=\"24px\">\n",
              "    <path d=\"M0 0h24v24H0V0z\" fill=\"none\"/>\n",
              "    <path d=\"M18.56 5.44l.94 2.06.94-2.06 2.06-.94-2.06-.94-.94-2.06-.94 2.06-2.06.94zm-11 1L8.5 8.5l.94-2.06 2.06-.94-2.06-.94L8.5 2.5l-.94 2.06-2.06.94zm10 10l.94 2.06.94-2.06 2.06-.94-2.06-.94-.94-2.06-.94 2.06-2.06.94z\"/><path d=\"M17.41 7.96l-1.37-1.37c-.4-.4-.92-.59-1.43-.59-.52 0-1.04.2-1.43.59L10.3 9.45l-7.72 7.72c-.78.78-.78 2.05 0 2.83L4 21.41c.39.39.9.59 1.41.59.51 0 1.02-.2 1.41-.59l7.78-7.78 2.81-2.81c.8-.78.8-2.07 0-2.86zM5.41 20L4 18.59l7.72-7.72 1.47 1.35L5.41 20z\"/>\n",
              "  </svg>\n",
              "      </button>\n",
              "      \n",
              "  <style>\n",
              "    .colab-df-container {\n",
              "      display:flex;\n",
              "      flex-wrap:wrap;\n",
              "      gap: 12px;\n",
              "    }\n",
              "\n",
              "    .colab-df-convert {\n",
              "      background-color: #E8F0FE;\n",
              "      border: none;\n",
              "      border-radius: 50%;\n",
              "      cursor: pointer;\n",
              "      display: none;\n",
              "      fill: #1967D2;\n",
              "      height: 32px;\n",
              "      padding: 0 0 0 0;\n",
              "      width: 32px;\n",
              "    }\n",
              "\n",
              "    .colab-df-convert:hover {\n",
              "      background-color: #E2EBFA;\n",
              "      box-shadow: 0px 1px 2px rgba(60, 64, 67, 0.3), 0px 1px 3px 1px rgba(60, 64, 67, 0.15);\n",
              "      fill: #174EA6;\n",
              "    }\n",
              "\n",
              "    [theme=dark] .colab-df-convert {\n",
              "      background-color: #3B4455;\n",
              "      fill: #D2E3FC;\n",
              "    }\n",
              "\n",
              "    [theme=dark] .colab-df-convert:hover {\n",
              "      background-color: #434B5C;\n",
              "      box-shadow: 0px 1px 3px 1px rgba(0, 0, 0, 0.15);\n",
              "      filter: drop-shadow(0px 1px 2px rgba(0, 0, 0, 0.3));\n",
              "      fill: #FFFFFF;\n",
              "    }\n",
              "  </style>\n",
              "\n",
              "      <script>\n",
              "        const buttonEl =\n",
              "          document.querySelector('#df-c2571745-26d0-4281-aa33-19f642618e5b button.colab-df-convert');\n",
              "        buttonEl.style.display =\n",
              "          google.colab.kernel.accessAllowed ? 'block' : 'none';\n",
              "\n",
              "        async function convertToInteractive(key) {\n",
              "          const element = document.querySelector('#df-c2571745-26d0-4281-aa33-19f642618e5b');\n",
              "          const dataTable =\n",
              "            await google.colab.kernel.invokeFunction('convertToInteractive',\n",
              "                                                     [key], {});\n",
              "          if (!dataTable) return;\n",
              "\n",
              "          const docLinkHtml = 'Like what you see? Visit the ' +\n",
              "            '<a target=\"_blank\" href=https://colab.research.google.com/notebooks/data_table.ipynb>data table notebook</a>'\n",
              "            + ' to learn more about interactive tables.';\n",
              "          element.innerHTML = '';\n",
              "          dataTable['output_type'] = 'display_data';\n",
              "          await google.colab.output.renderOutput(dataTable, element);\n",
              "          const docLink = document.createElement('div');\n",
              "          docLink.innerHTML = docLinkHtml;\n",
              "          element.appendChild(docLink);\n",
              "        }\n",
              "      </script>\n",
              "    </div>\n",
              "  </div>\n",
              "  "
            ],
            "text/plain": [
              "                              review_id  score\n",
              "0      00026f564b258ad5159aab07c357c4ca    5.5\n",
              "1      000278c73da08f4fcb857fcfe4ac6417    5.5\n",
              "2      000404f843e756fe3b2a477dbefa5bd4    5.5\n",
              "3      000a66d32bcf305148d789ac156dd512    5.5\n",
              "4      000bf1d8c5110701f459ffbedbf0d546    5.5\n",
              "...                                 ...    ...\n",
              "19995  ffe8a7190aee6e3a53ee2e0145a91555    5.5\n",
              "19996  ffea0e2b84788c9df755efe8e2bedb23    5.5\n",
              "19997  fff3997a85a1eed7ae7a937bc945fcf0    5.5\n",
              "19998  fff673fe95ab8f3a0910f112549862e2    5.5\n",
              "19999  fffde0b07729c476fa6509524cf07f15    5.5\n",
              "\n",
              "[20000 rows x 2 columns]"
            ]
          },
          "metadata": {},
          "execution_count": 24
        }
      ]
    },
    {
      "cell_type": "markdown",
      "metadata": {
        "id": "0CufFcfHXhuo"
      },
      "source": [
        "#### **Submission, score**\n",
        "\n",
        "Предскажем этой моделью тестовые данные из [соревнования](https://www.kaggle.com/t/3e8fa6cec6d048bf8e93fb72e441d88c) и делаем сабмит. Получился скор **0.82807**![dl_hw3_pic1.JPG](data:image/jpeg;base64,/9j/4AAQSkZJRgABAQEAeAB4AAD/4RDaRXhpZgAATU0AKgAAAAgABAE7AAIAAAAFAAAISodpAAQAAAABAAAIUJydAAEAAAAKAAAQyOocAAcAAAgMAAAAPgAAAAAc6gAAAAgAAAAAAAAAAAAAAAAAAAAAAAAAAAAAAAAAAAAAAAAAAAAAAAAAAAAAAAAAAAAAAAAAAAAAAAAAAAAAAAAAAAAAAAAAAAAAAAAAAAAAAAAAAAAAAAAAAAAAAAAAAAAAAAAAAAAAAAAAAAAAAAAAAAAAAAAAAAAAAAAAAAAAAAAAAAAAAAAAAAAAAAAAAAAAAAAAAAAAAAAAAAAAAAAAAAAAAAAAAAAAAAAAAAAAAAAAAAAAAAAAAAAAAAAAAAAAAAAAAAAAAAAAAAAAAAAAAAAAAAAAAAAAAAAAAAAAAAAAAAAAAAAAAAAAAAAAAAAAAAAAAAAAAAAAAAAAAAAAAAAAAAAAAAAAAAAAAAAAAAAAAAAAAAAAAAAAAAAAAAAAAAAAAAAAAAAAAAAAAAAAAAAAAAAAAAAAAAAAAAAAAAAAAAAAAAAAAAAAAAAAAAAAAAAAAAAAAAAAAAAAAAAAAAAAAAAAAAAAAAAAAAAAAAAAAAAAAAAAAAAAAAAAAAAAAAAAAAAAAAAAAAAAAAAAAAAAAAAAAAAAAAAAAAAAAAAAAAAAAAAAAAAAAAAAAAAAAAAAAAAAAAAAAAAAAAAAAAAAAAAAAAAAAAAAAAAAAAAAAAAAAAAAAAAAAAAAAAAAAAAAAAAAAAAAAAAAAAAAAAAAAAAAAAAAAAAAAAAAAAAAAAAAAAAAAAAAAAAAAAAAAAAAAAAAAAAAAAAAAAAAAAAAAAAAAAAAAAAAAAAAAAAAAAAAAAAAAAAAAAAAAAAAAAAAAAAAAAAAAAAAAAAAAAAAAAAAAAAAAAAAAAAAAAAAAAAAAAAAAAAAAAAAAAAAAAAAAAAAAAAAAAAAAAAAAAAAAAAAAAAAAAAAAAAAAAAAAAAAAAAAAAAAAAAAAAAAAAAAAAAAAAAAAAAAAAAAAAAAAAAAAAAAAAAAAAAAAAAAAAAAAAAAAAAAAAAAAAAAAAAAAAAAAAAAAAAAAAAAAAAAAAAAAAAAAAAAAAAAAAAAAAAAAAAAAAAAAAAAAAAAAAAAAAAAAAAAAAAAAAAAAAAAAAAAAAAAAAAAAAAAAAAAAAAAAAAAAAAAAAAAAAAAAAAAAAAAAAAAAAAAAAAAAAAAAAAAAAAAAAAAAAAAAAAAAAAAAAAAAAAAAAAAAAAAAAAAAAAAAAAAAAAAAAAAAAAAAAAAAAAAAAAAAAAAAAAAAAAAAAAAAAAAAAAAAAAAAAAAAAAAAAAAAAAAAAAAAAAAAAAAAAAAAAAAAAAAAAAAAAAAAAAAAAAAAAAAAAAAAAAAAAAAAAAAAAAAAAAAAAAAAAAAAAAAAAAAAAAAAAAAAAAAAAAAAAAAAAAAAAAAAAAAAAAAAAAAAAAAAAAAAAAAAAAAAAAAAAAAAAAAAAAAAAAAAAAAAAAAAAAAAAAAAAAAAAAAAAAAAAAAAAAAAAAAAAAAAAAAAAAAAAAAAAAAAAAAAAAAAAAAAAAAAAAAAAAAAAAAAAAAAAAAAAAAAAAAAAAAAAAAAAAAAAAAAAAAAAAAAAAAAAAAAAAAAAAAAAAAAAAAAAAAAAAAAAAAAAAAAAAAAAAAAAAAAAAAAAAAAAAAAAAAAAAAAAAAAAAAAAAAAAAAAAAAAAAAAAAAAAAAAAAAAAAAAAAAAAAAAAAAAAAAAAAAAAAAAAAAAAAAAAAAAAAAAAAAAAAAAAAAAAAAAAAAAAAAAAAAAAAAAAAAAAAAAAAAAAAAAAAAAAAAAAAAAAAAAAAAAAAAAAAAAAAAAAAAAAAAAAAAAAAAAAAAAAAAAAAAAAAAAAAAAAAAAAAAAAAAAAAAAAAAAAAAAAAAAAAAAAAAAAAAAAAAAAAAAAAAAAAAAAAAAAAAAAAAAAAAAAAAAAAAAAAAAAAAAAAAAAAAAAAAAAAAAAAAAAAAAAAAAAAAAAAAAAAAAAAAAAAAAAAAAAAAAAAAAAAAAAAAAAAAAAAAAAAAAAAAAAAAAAAAAAAAAAAAAAAAAAAAAAAAAAAAAAAAAAAAAAAAAAAAAAAAAAAAAAAAAAAAAAAAAAAAAAAAAAAAAAAAAAAAAAAAAAAAAAAAAAAAAAAAAAAAAAAAAAAAAAAAAAAAAAAAAAAAAAAAAAAAAAAAAAAAAAAAAAAAAAAAAAAAAAAAAAAAAAAAAAAAAAAAAAAAAAAAAAAAAAAAAAAAAAAAAAAAAAAAAAAAAAAAAAAAAAAAAAAAAAAAAAAAAAAAAAAAAAAAAAAAAAAAAAAAAAAAAAAAAAAAAAAAAAAAAAAAAAAAAAAAAAAAAAAAAAAAAAAAAAAAAAAAAAAAAAAAAAAAAAAAAAAAAAAAAAAAAAAAAAAAAAAAAAAAAAAAAAAAAAAAAAAAAAAAAAAAAAAAAAAAAAAAAAAAAAAAAAAAAAAAAAAAAAAAAAAAAAAAAAAAAAAAAAAAAAAAAAAAAAAAAAAAAAAAAAAAAAAAAAAAAAAAAAAAAAAAAAAAAAAAAAAAAAAAAAAAAAAAAAAAAAAAAAAAAAAAAAAAAAAAAAAAAAAAAAAAAAAAAAAAAAAAAAAAAAAAAAAAAAAAAAAAAAAAAAAAAAAAAAAAAAAAAAAAAAAAAAAAAAAAAAAAAAAAAAAAAAAAAAAAAAAAAAAAAAAAAAAAAAAAAAAAAAAAAAAAAAAAAAAAAAAAAAAAAAAAAAAAAAAAAAAAAAAAAAAAAAAAAAAAAAAAAAAAAAAAAAAAAAAAAAAAAAAAAAAAAAAAAAAAAAAAAAAAAAAAAAAAAFVzZXIAAAAFkAMAAgAAABQAABCekAQAAgAAABQAABCykpEAAgAAAAMxOQAAkpIAAgAAAAMxOQAA6hwABwAACAwAAAiSAAAAABzqAAAACAAAAAAAAAAAAAAAAAAAAAAAAAAAAAAAAAAAAAAAAAAAAAAAAAAAAAAAAAAAAAAAAAAAAAAAAAAAAAAAAAAAAAAAAAAAAAAAAAAAAAAAAAAAAAAAAAAAAAAAAAAAAAAAAAAAAAAAAAAAAAAAAAAAAAAAAAAAAAAAAAAAAAAAAAAAAAAAAAAAAAAAAAAAAAAAAAAAAAAAAAAAAAAAAAAAAAAAAAAAAAAAAAAAAAAAAAAAAAAAAAAAAAAAAAAAAAAAAAAAAAAAAAAAAAAAAAAAAAAAAAAAAAAAAAAAAAAAAAAAAAAAAAAAAAAAAAAAAAAAAAAAAAAAAAAAAAAAAAAAAAAAAAAAAAAAAAAAAAAAAAAAAAAAAAAAAAAAAAAAAAAAAAAAAAAAAAAAAAAAAAAAAAAAAAAAAAAAAAAAAAAAAAAAAAAAAAAAAAAAAAAAAAAAAAAAAAAAAAAAAAAAAAAAAAAAAAAAAAAAAAAAAAAAAAAAAAAAAAAAAAAAAAAAAAAAAAAAAAAAAAAAAAAAAAAAAAAAAAAAAAAAAAAAAAAAAAAAAAAAAAAAAAAAAAAAAAAAAAAAAAAAAAAAAAAAAAAAAAAAAAAAAAAAAAAAAAAAAAAAAAAAAAAAAAAAAAAAAAAAAAAAAAAAAAAAAAAAAAAAAAAAAAAAAAAAAAAAAAAAAAAAAAAAAAAAAAAAAAAAAAAAAAAAAAAAAAAAAAAAAAAAAAAAAAAAAAAAAAAAAAAAAAAAAAAAAAAAAAAAAAAAAAAAAAAAAAAAAAAAAAAAAAAAAAAAAAAAAAAAAAAAAAAAAAAAAAAAAAAAAAAAAAAAAAAAAAAAAAAAAAAAAAAAAAAAAAAAAAAAAAAAAAAAAAAAAAAAAAAAAAAAAAAAAAAAAAAAAAAAAAAAAAAAAAAAAAAAAAAAAAAAAAAAAAAAAAAAAAAAAAAAAAAAAAAAAAAAAAAAAAAAAAAAAAAAAAAAAAAAAAAAAAAAAAAAAAAAAAAAAAAAAAAAAAAAAAAAAAAAAAAAAAAAAAAAAAAAAAAAAAAAAAAAAAAAAAAAAAAAAAAAAAAAAAAAAAAAAAAAAAAAAAAAAAAAAAAAAAAAAAAAAAAAAAAAAAAAAAAAAAAAAAAAAAAAAAAAAAAAAAAAAAAAAAAAAAAAAAAAAAAAAAAAAAAAAAAAAAAAAAAAAAAAAAAAAAAAAAAAAAAAAAAAAAAAAAAAAAAAAAAAAAAAAAAAAAAAAAAAAAAAAAAAAAAAAAAAAAAAAAAAAAAAAAAAAAAAAAAAAAAAAAAAAAAAAAAAAAAAAAAAAAAAAAAAAAAAAAAAAAAAAAAAAAAAAAAAAAAAAAAAAAAAAAAAAAAAAAAAAAAAAAAAAAAAAAAAAAAAAAAAAAAAAAAAAAAAAAAAAAAAAAAAAAAAAAAAAAAAAAAAAAAAAAAAAAAAAAAAAAAAAAAAAAAAAAAAAAAAAAAAAAAAAAAAAAAAAAAAAAAAAAAAAAAAAAAAAAAAAAAAAAAAAAAAAAAAAAAAAAAAAAAAAAAAAAAAAAAAAAAAAAAAAAAAAAAAAAAAAAAAAAAAAAAAAAAAAAAAAAAAAAAAAAAAAAAAAAAAAAAAAAAAAAAAAAAAAAAAAAAAAAAAAAAAAAAAAAAAAAAAAAAAAAAAAAAAAAAAAAAAAAAAAAAAAAAAAAAAAAAAAAAAAAAAAAAAAAAAAAAAAAAAAAAAAAAAAAAAAAAAAAAAAAAAAAAAAAAAAAAAAAAAAAAAAAAAAAAAAAAAAAAAAAAAAAAAAAAAAAAAAAAAAAAAAAAAAAAAAAAAAAAAAAAAAAAAAAAAAAAAAAAAAAAAAAAAAAAAAAAAAAAAAAAAAAAAAAAAAAAAAAAAAAAAAAAAAAAAAAAAAAAAAAAAAAAAAAAAAAAAAAAAAAAAAAAAAAAAAAAAAAAAAAAAAAAAAAAAAAAAAAAAAAAAAAAAAAAAAAAAAAAAAAAAAAAAAAAAAAAAAAAAAAAAAAAAAAAAAAAAAAAAAAAAAAAAAAAAAAAAAAAAAAAAAAAAAAAAAAAAAAAAAAAAAAAAAAAAAAAAAAAAAAAAAAAAAAAAAAAAAAAAAAAAAAAAAAAAAAAAAAAAAAAAAAAAAAAAAAAAAAAAAAAAAAAAAAAAAAAAAAAAAAAAAAAAAAAAAAAAAAAAAAAAAAAAAAAAAAAAAAAAAAAAAAAAAAAAAAAAAAAAAAAAAAAAAAAAAAAAAAAAAAAAAAAAAAAAAAAAAAAAAAAAAAAAAAAAAAAAAAAAAAAAAAAAAAAAAAAAAAAAAAAAAAAAAAAAAAAAAAAAAAAAAAAAAAAAAAAAAAAAAAAAAAAAAAAAAAAAAAAAAAAAAAAAAAAAAAAAAAAAAAAAAAAAAAAAAAAAAAAAAAAAAAAAAAAAAAAAAAAAAAAAAAAAAAAAAAAAAAAAAAAAAAAAAAAAAAAAAAAAAAAAAAAAAAAAAAAAAAAAAAAAAAAAAAAAAAAAAAAAAAAAAAAAAAAAAAAAAAAAAAAAAAAAAAAAAAAAAAAAAAAAAAAAAAAAAAAAAAAAAAAAAAAAAAAAAAAAAAAAAAAAAAAAAAAAAAAAAAAAAAAAAAAAAAAAAAAAAAAAAAAAAAAAAAAAAAAAAAAAAAAAAAAAAAAAAAAAAAAAAAAAAAAAAAAAAAAAAAAAAAAAAAAAAAAAAAAAAAAAAAAAAAAAAAAAAAAAAAAAAAAAAAAAAAAAAAAAAAAAAAAAAAAAAAAAMjAyMjowMjowNCAyMzo0OTowMgAyMDIyOjAyOjA0IDIzOjQ5OjAyAAAAVQBzAGUAcgAAAP/hCxdodHRwOi8vbnMuYWRvYmUuY29tL3hhcC8xLjAvADw/eHBhY2tldCBiZWdpbj0n77u/JyBpZD0nVzVNME1wQ2VoaUh6cmVTek5UY3prYzlkJz8+DQo8eDp4bXBtZXRhIHhtbG5zOng9ImFkb2JlOm5zOm1ldGEvIj48cmRmOlJERiB4bWxuczpyZGY9Imh0dHA6Ly93d3cudzMub3JnLzE5OTkvMDIvMjItcmRmLXN5bnRheC1ucyMiPjxyZGY6RGVzY3JpcHRpb24gcmRmOmFib3V0PSJ1dWlkOmZhZjViZGQ1LWJhM2QtMTFkYS1hZDMxLWQzM2Q3NTE4MmYxYiIgeG1sbnM6ZGM9Imh0dHA6Ly9wdXJsLm9yZy9kYy9lbGVtZW50cy8xLjEvIi8+PHJkZjpEZXNjcmlwdGlvbiByZGY6YWJvdXQ9InV1aWQ6ZmFmNWJkZDUtYmEzZC0xMWRhLWFkMzEtZDMzZDc1MTgyZjFiIiB4bWxuczp4bXA9Imh0dHA6Ly9ucy5hZG9iZS5jb20veGFwLzEuMC8iPjx4bXA6Q3JlYXRlRGF0ZT4yMDIyLTAyLTA0VDIzOjQ5OjAyLjE4NjwveG1wOkNyZWF0ZURhdGU+PC9yZGY6RGVzY3JpcHRpb24+PHJkZjpEZXNjcmlwdGlvbiByZGY6YWJvdXQ9InV1aWQ6ZmFmNWJkZDUtYmEzZC0xMWRhLWFkMzEtZDMzZDc1MTgyZjFiIiB4bWxuczpkYz0iaHR0cDovL3B1cmwub3JnL2RjL2VsZW1lbnRzLzEuMS8iPjxkYzpjcmVhdG9yPjxyZGY6U2VxIHhtbG5zOnJkZj0iaHR0cDovL3d3dy53My5vcmcvMTk5OS8wMi8yMi1yZGYtc3ludGF4LW5zIyI+PHJkZjpsaT5Vc2VyPC9yZGY6bGk+PC9yZGY6U2VxPg0KCQkJPC9kYzpjcmVhdG9yPjwvcmRmOkRlc2NyaXB0aW9uPjwvcmRmOlJERj48L3g6eG1wbWV0YT4NCiAgICAgICAgICAgICAgICAgICAgICAgICAgICAgICAgICAgICAgICAgICAgICAgICAgICAgICAgICAgICAgICAgICAgICAgICAgICAgICAgICAgICAgICAgICAgICAgICAgICAKICAgICAgICAgICAgICAgICAgICAgICAgICAgICAgICAgICAgICAgICAgICAgICAgICAgICAgICAgICAgICAgICAgICAgICAgICAgICAgICAgICAgICAgICAgICAgICAgICAgIAogICAgICAgICAgICAgICAgICAgICAgICAgICAgICAgICAgICAgICAgICAgICAgICAgICAgICAgICAgICAgICAgICAgICAgICAgICAgICAgICAgICAgICAgICAgICAgICAgICAgCiAgICAgICAgICAgICAgICAgICAgICAgICAgICAgICAgICAgICAgICAgICAgICAgICAgICAgICAgICAgICAgICAgICAgICAgICAgICAgICAgICAgICAgICAgICAgICAgICAgICAKICAgICAgICAgICAgICAgICAgICAgICAgICAgICAgICAgICAgICAgICAgICAgICAgICAgICAgICAgICAgICAgICAgICAgICAgICAgICAgICAgICAgICAgICAgICAgICAgICAgIAogICAgICAgICAgICAgICAgICAgICAgICAgICAgICAgICAgICAgICAgICAgICAgICAgICAgICAgICAgICAgICAgICAgICAgICAgICAgICAgICAgICAgICAgICAgICAgICAgICAgCiAgICAgICAgICAgICAgICAgICAgICAgICAgICAgICAgICAgICAgICAgICAgICAgICAgICAgICAgICAgICAgICAgICAgICAgICAgICAgICAgICAgICAgICAgICAgICAgICAgICAKICAgICAgICAgICAgICAgICAgICAgICAgICAgICAgICAgICAgICAgICAgICAgICAgICAgICAgICAgICAgICAgICAgICAgICAgICAgICAgICAgICAgICAgICAgICAgICAgICAgIAogICAgICAgICAgICAgICAgICAgICAgICAgICAgICAgICAgICAgICAgICAgICAgICAgICAgICAgICAgICAgICAgICAgICAgICAgICAgICAgICAgICAgICAgICAgICAgICAgICAgCiAgICAgICAgICAgICAgICAgICAgICAgICAgICAgICAgICAgICAgICAgICAgICAgICAgICAgICAgICAgICAgICAgICAgICAgICAgICAgICAgICAgICAgICAgICAgICAgICAgICAKICAgICAgICAgICAgICAgICAgICAgICAgICAgICAgICAgICAgICAgICAgICAgICAgICAgICAgICAgICAgICAgICAgICAgICAgICAgICAgICAgICAgICAgICAgICAgICAgICAgIAogICAgICAgICAgICAgICAgICAgICAgICAgICAgICAgICAgICAgICAgICAgICAgICAgICAgICAgICAgICAgICAgICAgICAgICAgICAgICAgICAgICAgICAgICAgICAgICAgICAgCiAgICAgICAgICAgICAgICAgICAgICAgICAgICAgICAgICAgICAgICAgICAgICAgICAgICAgICAgICAgICAgICAgICAgICAgICAgICAgICAgICAgICAgICAgICAgICAgICAgICAKICAgICAgICAgICAgICAgICAgICAgICAgICAgICAgICAgICAgICAgICAgICAgICAgICAgICAgICAgICAgICAgICAgICAgICAgICAgICAgICAgICAgICAgICAgICAgICAgICAgIAogICAgICAgICAgICAgICAgICAgICAgICAgICAgICAgICAgICAgICAgICAgICAgICAgICAgICAgICAgICAgICAgICAgICAgICAgICAgICAgICAgICAgICAgICAgICAgICAgICAgCiAgICAgICAgICAgICAgICAgICAgICAgICAgICAgICAgICAgICAgICAgICAgICAgICAgICAgICAgICAgICAgICAgICAgICAgICAgICAgICAgICAgICAgICAgICAgICAgICAgICAKICAgICAgICAgICAgICAgICAgICAgICAgICAgICAgICAgICAgICAgICAgICAgICAgICAgICAgICAgICAgICAgICAgICAgICAgICAgICAgICAgICAgICAgICAgICAgICAgICAgIAogICAgICAgICAgICAgICAgICAgICAgICAgICAgICAgICAgICAgICAgICAgICAgICAgICAgICAgICAgICAgICAgICAgICAgICAgICAgICAgICAgICAgICAgICAgICAgICAgICAgCiAgICAgICAgICAgICAgICAgICAgICAgICAgICAgICAgICAgICAgICAgICAgICAgICAgICAgICAgICAgICAgICAgICAgICAgICAgICAgICAgICAgICAgICAgICAgICAgICAgICAKICAgICAgICAgICAgICAgICAgICAgICAgICAgICAgICAgICAgICAgICAgICAgICAgICAgICAgICAgICAgICAgICAgICAgICAgICAgICAgICAgICAgICAgICAgICAgICAgICAgIAogICAgICAgICAgICAgICAgICAgICAgICAgICAgPD94cGFja2V0IGVuZD0ndyc/Pv/bAEMABwUFBgUEBwYFBggHBwgKEQsKCQkKFQ8QDBEYFRoZGBUYFxseJyEbHSUdFxgiLiIlKCkrLCsaIC8zLyoyJyorKv/bAEMBBwgICgkKFAsLFCocGBwqKioqKioqKioqKioqKioqKioqKioqKioqKioqKioqKioqKioqKioqKioqKioqKioqKv/AABEIAuMG3AMBIgACEQEDEQH/xAAfAAABBQEBAQEBAQAAAAAAAAAAAQIDBAUGBwgJCgv/xAC1EAACAQMDAgQDBQUEBAAAAX0BAgMABBEFEiExQQYTUWEHInEUMoGRoQgjQrHBFVLR8CQzYnKCCQoWFxgZGiUmJygpKjQ1Njc4OTpDREVGR0hJSlNUVVZXWFlaY2RlZmdoaWpzdHV2d3h5eoOEhYaHiImKkpOUlZaXmJmaoqOkpaanqKmqsrO0tba3uLm6wsPExcbHyMnK0tPU1dbX2Nna4eLj5OXm5+jp6vHy8/T19vf4+fr/xAAfAQADAQEBAQEBAQEBAAAAAAAAAQIDBAUGBwgJCgv/xAC1EQACAQIEBAMEBwUEBAABAncAAQIDEQQFITEGEkFRB2FxEyIygQgUQpGhscEJIzNS8BVictEKFiQ04SXxFxgZGiYnKCkqNTY3ODk6Q0RFRkdISUpTVFVWV1hZWmNkZWZnaGlqc3R1dnd4eXqCg4SFhoeIiYqSk5SVlpeYmZqio6Slpqeoqaqys7S1tre4ubrCw8TFxsfIycrS09TV1tfY2dri4+Tl5ufo6ery8/T19vf4+fr/2gAMAwEAAhEDEQA/APo2iiigAooooAKKKKACiiigAooooAKKKKACiiigAooooAKKKKACiiigAooooAKKKKACiiigAooooAKKKKACiiigAooooAKKKKACiiigAooooAKKKKACiiigAooooAKKKKACiiigAooooAKKKKACiiigAooooAKKKKACiiigAooooAKKKKACiiigAooooAKKKKACiiigAooooAKKKKACiiigAooooAKKKKACiiigAooooAKKKKACiiigAooooAKKKKACiiigAooooAKKKKACiiigAooooAKKKKACiiigAooooAKKKKACiiigAooooAKKKKACiiigAooooAKKKKACiiigAooooAKKKKACiiigAooooAKKKKACiiigAooooAKKKKACiiigAooooAKKKKACiiigAooooAKKKKACiiigAooooAKKKKACiiigAooooAKKKKACiiigAooooAKKKKACiiigAooooAKKKKACiiigAooooAKKKKACiiigAooooAKKKKACiiigAooooAKKKKACiiigAooooAKKKKACiiigAooooAKKKKACiiigAooooAKKKKAGO5XAUZZugo8mU9ZQPYLQv/H3/wAA/rU9AEPky/8APb/xwUeTL/z2/wDHBU1FAEdFFFABRRRQAUUUUAFFZ82u6VbzmGbULdJAcFTIOPr6VejkSWNXidXRhkMpyCKAHUUUUAFFFFABRRUNxdW9nH5l3PHAmcbpGCjP1NAE1FICGUFTkEZBHeloAKKKKACiiqd/qtlpnlfbpxF5zbUyCcn8KALlFJ16UtABRRRQAUVBeXkFhavc3cgjiQfMxGf5UtrdQ3lqlxbOJIpBlWHegCaiiigAooooAKKKKACiimySJFGzyMERRlmY4AFADqKyrHxJpepXptbK4MsuCcCNgCB15xWrQAUUUUAFFFFABRVGbWtMt79bGfULWO7YgLA8yhyT04znmr1NprclSi9mFFV7y+tNOtzPf3MVtCCB5kzhVye2TTrW7t762W4sp47iF/uyRMGU9uCKLO1w5o35b6k1FFFIoKKKy9Y8R6VoBgGrXa25uG2xgqzZ/IHA56mqjFydoq5M5xhHmk7I1KKQEEAg5B6GlqSgooooAKKKjmnitoHmuJFiijUs7ucBR6k0BsSUVj/8Jb4d/wCg5p3/AIFJ/jR/wlvh3/oOad/4FJ/jWnsqn8rMfb0v5l96NiisnU/E+jaPHayajfRxJd/6lgCwccc/KDxyOelaoIIBByD0NS4ySu0XGcJNxT1QtFFFSWFFFFABRRRQAUUVS1XV7HRNPa91ScQW6kAsVJ5PQADk00nJ2RMpKK5pOyLtFV7K9t9RsYryylEsEy7kcdxVihpp2Y001dBRRRSGFFFFABRRRQAUUUUAFFFFABRRRQAUUUUAFFFFABRRRQAUUUUAFFFFABRRRQAUUUUAFFFFABRRRQAUUUUAFFFFABRRRQAUUUUAFFFFABRRRQAUUUUAFFFFABRRRQAUUUUAFFFFABRRRQAUUUUAFFFFABRRRQAUUUUAFFFFABRRRQAUUUUAFFFFABRRRQAUUUUAFFFFABRRRQAUUUUAFFFFABRRRQAUUUUAFFFFABRRRQAUUUUAFFFFABRRRQAUUUUAFFFFABRRRQAUUUUAFFFFABRRRQAUUUUAFFFFABRRRQAUUUUAFFFFABRRRQAUUUUAFFFFABRRRQAUUUUAFFFFABRRRQAUUUUAFFFFABRRRQAUUUUAFFFFABRRRQAUUUUAFFFFADE/4+/+Af1qeoE/4+/+Af1qegAooooAjooooAKKKKACqGsw3lzpM8OmsqXEg2hmbGB35+lX6KAMDT/COl2+mpDdWkc0xX95I3JLd8HtVLwcWt9R1WwhdpLS3l/dEnODk5H6VY17WppLkaNon7y+l4kcdIR359f5Vp6Jo8Wi6etvEdzk7pZD1dvWgDRrD1HxRb2V8bK3t7i+ulGWjt03bfrW5XIzWGsaHr93qGmWqX0F1y6bsMvt/nNAGrpXiS31K7a0eCa0ulGfJnXaSPap11qFvEDaSI381Y/M38bcVm6br9lqGsJDf6a1lqQXCecgJx6BiAfWoIv+SnS/9ev9BQBt6zq8Wi2H2qeN5E3BcJjPP1rE8cyCbwtDKBgPKjAH3BqXx7/yLX/bZf61W8Y/8iba/wC9H/6DQBafxbDbRKlvY3V3HCgEk0KZRTjkZrY0rVrXWLMXNmxK5wysMMp9CKk0+CK3023hgUCNY1AAHtXNeHVFr401i1gG2H720dAc/wD1zQBe/wCEutD9oRLe4kmhlMSwou5pCM5IA7cUln4ysJxOtzHNaSwjJilX5m9gPX2ql4OiQ6xrcpUbxcFQ3oNzUahDG3xIsCUBJh3HjqQGwaALUXjO2+3R295ZXdmJThHmTAPpxVnxFcabb/Yv7Ts/tO+bbFgD5W9fpVDx+qnQI3x8yzjae44NR+Mf9Ro3/Xwv8hQB0Gqata6NZ/aLxiFztVVGWY+gFZA8ZRxsjXumX1pA5wJpI/lqfxTo1zqlvby2BU3FrJ5io5wH9v0rPn8S3EEXk+JdBdIGIDyKN6E/Q8frQB0d5qVrYaeb24lAgABDDndnpj1rD/4TRFQTy6Tfx2p/5bmL5cevp+tWdc0tNf8ADccemPGq/LJCAMKRjp7Vnt4g1KwtPJ1/QnaALtkliwykdORyP1oA2tTvLCXw9Ldzxi7s2QMVH8QqXTbm0GhwXMCC2tPK3qrcbF96y9Xns7nwLcS6aqLbNF8iou0DnpjtWVq0rxfDSyCEgSLGrY9Ov9KANI+NYXZ2s9NvbmBDhpo4/l/z9a2dL1a01i0+0WT7lzhlIwyn0Ip+mQR22l20UChUWNcAfSub0VRaePdUtrfiF03lR0U8H+poAvv4ts0e5j8mdpYJfKWJFDNK3P3QO3FGm+LLa+1AWM9tPZ3DfdWZcZ9vrVDwrEh8Sa3KVBdZdoPoMml8XoF1nRJlGJPtAXcPTctAG5q+t2miwK90WZpDiOOMZZz7Vmx+MIlnjTUNPvLFJThJZo8KTS+JdIvbu6s9R0sJJcWhyInOA3eqk3iXbsg8T6G8MRYfOy+ZHn15GP1NAHWA5GR0rm/GmoNBpE1otrcOJo+ZkXKJz0J7V0UZRokMWNhUFcdMdqyPF3/Iq3v+6P5igCl4Ruonsre3TS5oGSAE3Lw4WQ8Zw3fNWL3xbbW981nZ2txfzJ98W6ZC1LpsjQ+CoJI/vJZAj67ap+BIUXw954GZZpWLt3ODigC/pHiO01aZ7dUkt7qP70Ey4b8KNQ8RWmmaktpdK65iMpkGMADPHrnisjxKotvFmjXUHE0j7Hx1YZA/qaNUhjn+ImnLKoZRFuwfUZxQBs6NrX9rmbFnPbImCpmGN4PcVq0UUAeH/EaC5l+I109nnzbe3SfI6gKoJI+nWvXPDerrrvh2z1FcZmjG8Ds44YfmDXEyxJP8dnilUNHJZlWU9wYsEUeCr9fCer674d1KTbDaFrqBm7oBk/8Aju0/nXrV4+0oRit4pP5PR/ofO4WXscVObfuylJfNar9Sj8WNRm1HUYdEsvmWzha7ucHgYHGfoP8A0IV1Hw/uoLL4aWdzdyLFDEsju7dFAdq5HSrWXUvCfizxTeKRLfRyJDnsg5P9B/wGuh8K3um6f8Ire41tElslV98boHD/ALw4G08E5xTrRSoKkujS+dtRYacni5YiTtzRbV+iTSX+YrfFCKbzJdM0DU72ziJD3KR4UY6nocfiRXTeHvEdh4m037ZprttDbXjkGGjb0IrldN8Va1daesfhXwWyWIB8h5pliQj1CkAfkTVH4RGT7Zr6zKqP5qbkX7qtl8gVlUoQ9lKSVmrdb/f2Oihi6jrwg5cylf7LS0V9H1NM/FXTTby+TY3Ut0sxhjtkALSEdTx0FJ4g17RbrR9Dv/EWhSSvdSnyoWPzQsCAc9Mjpx+lZ/wltojda7cmNTMJwgfHIXLEipfi3/zAf+vpv/Zav2dKOJVKKt538jL21eWCdeck/Ky/mtc6bXPFtt4f1nT9Pu7aXZfEKk6kbFOcYP0yPzrY1G+i0zTbi9uTiK3jaRsdwBmuW+J+kHUvCD3MQPn2DidCOuOjfpz+FYXi3xI2rfDfSYbU7rrV2SJlHUlSNw/76x+dYU6EasYOPV2f5/kddbFzoTqqfRXj+VvvOu0vxhZah4Yk165jksbJGIzNgkgcZAHvxWEfilG8TXVv4e1SXT1PN2I/lA7n0/WtXURonhPwNb22twR3NpbosYhaMP5smOwPGc5OayIvEviK+0fy9D8GeRZ+Vtja4nVV2Y4O0heMehqoU6cryUdL9XZW/wAyKtatDlg6lpW1Sjd3/RHYaLrVl4g0uO/02QvC/BDDDKR1BHY1aurWG9tJbW6QSQzIUdCcbgeCOK8/+DRP/CP6gD0F309PlFejVzV6apVXGPQ7cJVeIw8ak1utTznxr4H8O6V4Pv72w01YbiJVKOJXOPmA6Fsd6f4O8DeHNT8H6feX2mrLcTRku5lcZO4joGxW58Rf+RA1P/cX/wBDFP8Ah/8A8iDpX/XI/wDoRrq9tV+q83M783fyOD6tQ+v8vIrcm1l3KHjKXw9o9to9vq2kG9iEnlWoB/1WABySckdODnpWr4l8VWvhf7ELuGR1u5PLUoQAmMcnPbmuW+Lf/MB/6+m/9lpvxeRZI9DRxlWuWBHqPlp06UanslLrzCr4idF13CyceW2ncu3fxVsbW4Vv7Kv309n2Le7MK+O656j8asan8S7C1Lf2VY3eqpGgeWa3T93GCM8t61oeOreEfD/UohGojjtxsXHC4Ixj6VD8N4Y4/AGn7EUeYHZsD7x3Hk1FqHsva8vW1rml8V7f2HtFqr3ttra3/Dmj4a8TWPinTTd6fvXY2ySKQYZD7/41kax8RLHT9VbTNOsrrVryM4kjtVyFI6jPJJHsK534fubKbxgbZdvkOxjUdBjzMfyq/wDB+2i/4R68viA1zPclZJD1wACB+ZJq50KVNzk1dK1l6mdPF168aUItKUr3duztovM2/DvjvT9fvm094Z7DUEzm2uVwTjrg+o9Dg1LrnjXT/D+u22nagkiieIymfI2oBnr37dq5f4lotj4q8O6laDbdmbYSvVgGXH8yPxo8Y28V18W/D0M6B42RSVI4OGY/0ojQpSalbRpu3oE8XXpxlTunKMoq9t0y6/xXs4LiM3ejajb2cp/d3MiY3D1A7j6E1ueLL/SP+EOkvtTtf7R09wjhEONwYjBB4x1qL4iwxzeAdS8xA3lorrkdCGHNcrqDFvgHbljk7EHP/XWlCnTnyTire9bcdWrXpOpSqSUvcclp8rWOsl8RafoPgW11a3snSy8uPy7ePAKhug/Wsu9+KFnFHv0/S72/jRFeeWJfkiJGdpbnkZ5rN8Tf8kPsv+uNv/MV2PhC2it/Bulxwoqo1qjEAdSwyT+JNJxpQhzyV3zNblRqV6tVUoSUVyp7XHeG/Eth4o003enFxtbbJHIMMh9/8ax9W+IdlZas+maXYXer3kRIkS1TIUjqM8kkewx71jfDNFt/E3ieCL5Io58KvYAO9T23i62Gr3cXgjwo185bFxcwhYEYgnnODnv1xmm8PGNWSUbpW6237slYupPDwlKSi22npdu2miNrw746sde1B9OktrjT9QjBJtrlcE4649/YgV1FeQi51a4+Mekza3YR6fcsuBFHIH+Ta+CSCcnrXr1Y4qlGnKPL1V+/4nVgMROtGSnvF22t966BRRRXIegFFFFABRRRQAUUUUAFFFFABRRRQAUUUUAFFFFABRRRQAUUUUAFFFFABRRRQAUUUUAFFFFABRRRQAUUUUAFFFFABRRRQAUUUUAFFFFABRRRQAUUUUAFFFFABRRRQAUUUUAFFFFABRRRQAUUUUAFFFFABRRRQAUUUUAFFFFABRRRQAUUUUAFFFFABRRRQAUUUUAFFFFABRRRQAUUUUAFFFFABRRRQAUUUUAFFFFABRRRQAUUUUAFFFFABRRRQAUUUUAFFFFABRRRQAUUUUAFFFFABRRRQAUUUUAFFFFABRRRQAUUUUAFFFFABRRRQAUUUUAFFFFABRRRQAUUUUAFFFFAGdr15Lp+h3Vzb48xE+UkZxzjP4VQg8MWFzapPLcXNxcOob7ULht2T3GDitq5kt44D9reNIm+U+aQFOe3NZD+GEgYvo99c6e3UIj7o8/7poAv6VDe2tmYdRmWdkYhJc8snbd71Tk8UWSSOIoru4jjJDzQQFo1I68/4VTfVLyfwxqyT7ftdmHiZ4+A3H3h+Bra0mKKHR7RLcARiJcY78UAOXULaTTTfQyebAEL7k7gVTtfEdpezwR2kVzL5oBLrFlI8jOGPQGs2zAjsvEUMX+ojkfYB0BKZIH41qeG0VPDVgEUKDApOPUjmgDNuPEksPif7P8AZr1rdYWzElvkswb7w7ke9dIrb0DYIyM4I5FYkn/I+Q/9eLf+hit2gDB1q6W08QaXJNL5cIEpck8fdqaDxLZy3KQyxXVr5h2xvcQlFkPsara3HFL4m0RZgCu+QgHuQOKteKEjfwzemXHyR7lPow6Y/GgC4+owx6pFYOHEsqF0OPlIHUZ9aL/UIdOjjacOxlkEaKgySxrJ1hZF0ew1TH76yKSv6lSMP+hqR2GqeKbcId0FjD5xPYu/3f05oA3aKKKAGJ/x9/8AAP61PUCf8ff/AAD+tT0AFFFFAEdFFFABRRRQAVn62dQGkyjR0D3TYC5IGB3PJAzWhRQBwWk2finRlk+zaRbSSStl5ZZFZ2/HfXSaLc69PcSDW7KC3iC/I0TAkn/vo1s0UAFc1OviLTNUnmtEGp2kxysbybWi9hn/AOvXS0UActaaXquqeIYNV1iGO0S2GIoUYMx+pFLruj6mmuRaxoYSSYJseJiBn88cfjXUUUAcVrOmeI9d0vddwxRujjy7WFwM+rMScfQZrR8S6Ve6h4Zt7S0h8ydCm5N4GMDB5JxXSUUAcuW8S6VAtnZWkV7GqhYp2cBlHowyMkVa8NaHNpiz3WoOJL26bdIQc7fat6igDnvDWmXmn32qSXcPlrcTl4zuB3DJ54PHWlu9Mu5fGtnfpFm2jiKvJuHB57Zz3roKKAMHxfpt3qmirBYRebKJQ23cF459SKi8S6VeahDpi2kPmGCYNJ8wG0cepro6KAMjXrTVJ44ZtGufLmhbcYi2FlHoayL4+JdaszYSaXDZpJgSzNKGGPYA/wCNddRQBh3ej3kXh2Cy0i8aGe3Aw2cCTHUH0qhcXPim9snsm0mGJ5F2POZQVwepxn/GurooA519BmtfBMul237+coehADMTk4zU0WiG78Hw6XfDypBCFPIOxh0PFblFAHJW0vivTLYWKafDeCMbY5/MAyO2eR/StDw7ok+ntcXuoyCS+ujmQr0UelbtFAHP+H9Mu7HVtVmuotkdxLuiO4HcMn0PH40niXTLzUL7S5LSHzFt5w8h3AbRkc8nnpXQ0UAYmu22sGeC70WbJi+/bO2FkrL1CHxD4igWxuNPisLcsDJI0oY8emK6+igCK3hW2tYoE5WNAoJ9hiqHiK0nv9Auba0TzJZFAVcgZ5Hc1qUUAUNItXt9BtLW6Ta6QKkiZBwcYI4rn4NP1zw1PNHpNvHf2Mrb1RnCtGfxNdfRQBzGn6Rqeoa4mra+qQmAYgt0OdvuetT3emXcvjWzv0izbRxFXk3Dg89s5710FFABRRRQBxX/AAj+p/8AC3f7a+zf8S/7Ps87zF67MY25z19qofEjwXqOu39pf6FD5k5Qw3AEip8vY8kZ6kV6JRXVHFTjOM10VjgngKU6c6cr2k7/AD8jnL/QHg+Hk+h6bH5koszDGoIXe2OTk8cnJrFh8G3958KItBulW1v0JdVZwwDByQCVyOQa72ipjiJxVl3v8y54OlN3f8vLbyPPdMvPH0OnQaQuhW0LxIIReySgqigYDYB5OPT8qn+HXhrVfD15rB1aIqs8i+VKXU+aAW+bAJx1B59a7uiqliW4yiopX3IhgYxnGcptuO17drdjivh34f1PQv7W/tW28j7RcB4v3ituHPPyk4696PiJ4f1PXf7J/sq28/7PcF5f3irtHHPzEZ6dq7Wip+sT9t7br/wLFfUqf1f6td8v473I54UuLeSGZQ0cilGU9wRg1454G0OWf4gNZzS+dZ6HJIyd1DbsD8zz+Fel+J9M1nVLSGLQtVGmurEyvtJLKRjAPao/CPhODwpp8kSTNc3M7757hhguewxzgD+prWjVVKjLXV9P1MMRQliMTC8fdjq338vvIPH3hqfxN4dFvZOq3MMgljVjgOQCMZ7dayIL3x7qFmNMk0e308lPLlvmkBCrjBKqDyfzGfSu+orKFdxhyNJ22v0OiphIzqOopNN6O3X+vI4r4aeH9S8PaTewavb+RJJcb0HmK25doGflJrtaKKzq1HVm5y3ZtQoxoUlSjsjC8aaddat4QvrLT4vOuJVUIm4Ln5gepIHaneD9PudK8I6fZX8XlXEMZDpuDYO4nqCR3rboo9o/Z+z6XuL2Efbe262t+NziviJ4f1PXf7J/sq28/wCz3BeX94q7Rxz8xGenaj4ieH9T13+yf7KtvP8As9wXl/eKu0cc/MRnp2rtaK0hiJw5bfZv+JjUwVOpz3b9+1/l2MfxZY3Gp+E9Rs7KPzbiaErGm4DJz6niovBenXWk+ELGy1CLybiJWDpuDY+YnqCR3rdorP2j9n7Ppe5v7GPtvbdbW/G5xPgbw9qWkatr8uqWvlQ3s+6EmRW3rufsCccEday4dC8U+B9Tuz4YtYtT0y5beIXYBoz24yOe2RnIr0qitvrU3JtpO+66aHL9QpqEYxbTjez667nnmneG/EHiPxVb654wiitIbPBt7ONgeQcjoT35OTk4q9r/AIf1O9+JOi6ra22+ytUAml8xRt5bsTk9R0FdrRR9ZnzXSW1rdBrA0+Tlbb1Tb6toxPGGn3Oq+EdQsrCLzbiaMBE3BcncD1JA7Vzt34b1aX4Qw6IlpnUVVQYfMTjEmfvZx09672iohXlCKS6O5pVwsKsnKTeseX5f5nD654e1S8+Fdro9ta77+OOFWh8xRgqRnknH611Gg201l4d0+1uU2TQ20aSLkHDBQCMjitCilKtKUeV97/eVTw0KdT2i3sl8kcR4N8O6lpniDxDPqVt5MF9KTC3mK28bmPQEkcEdayNH07xf4Hnu7HTdIi1Wymm8yOUShTnpzzxxjOR+NenUVr9ak23JJp209DD6hBRioSacb2el9d+ljzSDw34pufiHpmvavBEyAZm8mRQtuMMAgBbJ7EkZ5Nel0UVlVrSq2uttNDfD4aOHUuVt3d3cKKKKxOkKKKKACiiigAooooAKKKKACiiigAooooAKKKKACiiigAooooAKKKKACiiigAooooAKKKKACiiigAooooAKKKKACiiigAooooAKKKKACiiigAooooAKKKKACiiigAooooAKKKKACiiigAooooAKKKKACiiigAooooAKKKKACiiigAooooAKKKKACiiigAooooAKKKKACiiigAooooAKKKKACiiigAooooAKKKKACiiigAooooAKKKKACiiigAooooAKKKKACiiigAooooAKKKKACiiigAooooAKKKKACiiigAooooAKKKKACiiigAooooAKKKKACiiigAooooAKKKKAK99ZQ6jZSWtyu6OQYODgj3FZA0bWo4/Ii19hCOAWtlLgem7P61v0UAUdP0m306wa1TdKrkmV5DkyE9Saz00LUbRDb6brLQWn8MbwK7Rj0DE1vUUAZ0Gjw22jy2EDsPNVg0rcszN1Y+tWNOtPsGm29pv8zyYwm/GN2B1xVmigDK1PR5by8ivLG9ayu41KeYIw4ZT2INaaBhGodtzAcnGMmnUUAZeqaKmqXdtNJM0f2fdtCDnJ6EHPGKrNoV7eSIuraqbq1Rg3krCI95HTcR1+lbtFAFXUJbWGxlF7IkcJjIIYgZGO1ZfhCwNnoiyybjJct5hL9dvRR+QFat1YWl60Zu7eOYxnKb1zirAGBgdKAFooooAYn/H3/wAA/rU9QJ/x9/8AAP61PQAUUUUAR0UUUAFFFFABRRRQAUUUUAFFFFABRRRQAUUUUAFFFFABRRRQAUUUUAFFFFABRRRQAUUUUAFFFFABRRRQAUUUUAFFFFABRRRQAUUUUAFFFFABRRRQAUUUUAFFFFABRRRQAUUUUAFFFFABRRRQAUUUUAFFFFABRRRQAUUUUAFFFFABRRRQAUUUUAFFFFABRRRQAUUUUAFFFFABRRRQAUUUUAFFFFABRRRQAUUUUAFFFFABRRRQAUUUUAFFFFABRRRQAUUUUAFFFFABRRRQAUUUUAFFFFABRRRQAUUUUAFFFFABRRRQAUUUUAFFFFABRRRQAUUUUAFFFFABRRRQAUUUUAFFFFABRRRQAUUUUAFFFFABRRRQAUUUUAFFFFABRRRQAUUUUAFFFFABRRRQAUUUUAFFFFABRRRQAUUUUAFFFFABRRRQAUUUUAFFFFABRRRQAUUUUAFFFFABRRRQAUUUUAFFFFABRRRQAUUUUAFFFFABRRRQAUUUUAFFFFABRRRQAUUUUAFFFFABRRRQAUUUUAFFFFABRRRQAUUUUAFFFFABRRRQAUUUUAFFFFABRRRQAxP+Pv8A4B/Wp6r52XKs3AZduasUAFFFFAEdFM8xP76/nR5if31/OgB9FM8xP76/nR5if31/OgB9FM8xP76/nR5if31/OgB9FM8xP76/nR5if31/OgB9FM8xP76/nR5if31/OgB9FM8xP76/nR5if31/OgB9FM8xP76/nR5if31/OgB9FM8xP76/nR5if31/OgB9FM8xP76/nR5if31/OgB9FM8xP76/nR5if31/OgB9FM8xP76/nR5if31/OgB9FM8xP76/nR5if31/OgB9FM8xP76/nR5if31/OgB9FM8xP76/nR5if31/OgB9FM8xP76/nR5if31/OgB9FM8xP76/nR5if31/OgB9FM8xP76/nR5if31/OgB9FM8xP76/nR5if31/OgB9FM8xP76/nR5if31/OgB9FM8xP76/nR5if31/OgB9FM8xP76/nR5if31/OgB9FM8xP76/nR5if31/OgB9FM8xP76/nR5if31/OgB9FM8xP76/nR5if31/OgB9FM8xP76/nR5if31/OgB9FM8xP76/nR5if31/OgB9FM8xP76/nR5if31/OgB9FM8xP76/nR5if31/OgB9FM8xP76/nR5if31/OgB9FM8xP76/nR5if31/OgB9FM8xP76/nR5if31/OgB9FM8xP76/nR5if31/OgB9FM8xP76/nR5if31/OgB9FM8xP76/nR5if31/OgB9FM8xP76/nR5if31/OgB9FM8xP76/nR5if31/OgB9FM8xP76/nR5if31/OgB9FM8xP76/nR5if31/OgB9FM8xP76/nR5if31/OgB9FM8xP76/nR5if31/OgB9FM8xP76/nR5if31/OgB9FM8xP76/nR5if31/OgB9FM8xP76/nR5if31/OgB9FM8xP76/nR5if31/OgB9FM8xP76/nR5if31/OgB9FM8xP76/nR5if31/OgB9FM8xP76/nR5if31/OgB9FM8xP76/nR5if31/OgB9FM8xP76/nR5if31/OgB9FM8xP76/nR5if31/OgB9FM8xP76/nR5if31/OgB9FM8xP76/nR5if31/OgB9FM8xP76/nR5if31/OgB9FM8xP76/nR5if31/OgB9FM8xP76/nR5if31/OgB9FM8xP76/nR5if31/OgB9FM8xP76/nR5if31/OgB9FM8xP76/nR5if31/OgB9FM8xP76/nR5if31/OgB9FM8xP76/nR5if31/OgB9FM8xP76/nR5if31/OgB9FM8xP76/nR5if31/OgB9FM8xP76/nR5if31/OgB9FM8xP76/nR5if31/OgB9FM8xP76/nR5if31/OgB9FM8xP76/nR5if31/OgB9FM8xP76/nR5if31/OgB9FM8xP76/nR5if31/OgB9FM8xP76/nR5if31/OgB9FM8xP76/nR5if31/OgB9FM8xP76/nR5if31/OgB9FM8xP76/nR5if31/OgB9FM8xP76/nR5if31/OgB9FM8xP76/nR5if31/OgB9FM8xP76/nR5if31/OgB9FM8xP76/nR5if31/OgB9FM8xP76/nR5if31/OgB9FM8xP76/nR5if31/OgB9FM8xP76/nR5if31/OgB9FM8xP76/nR5if31/OgB9FM8xP76/nR5if31/OgB9FM8xP76/nR5if31/OgB9FM8xP76/nR5if31/OgB9FM8xP76/nR5if31/OgB9FM8xP76/nR5if31/OgB9FM8xP76/nR5if31/OgB9FM8xP76/nR5if31/OgB9FM8xP76/nR5if31/OgB9FM8xP76/nR5if31/OgB9FM8xP76/nR5if31/OgB9FM8xP76/nR5if31/OgB9FM8xP76/nR5if31/OgB9FM8xP76/nR5if31/OgB9FM8xP76/nR5if31/OgB9FM8xP76/nR5if31/OgB9FM8xP76/nR5if31/OgB9FM8xP76/nR5if31/OgB9FM8xP76/nR5if31/OgB9FM8xP76/nR5if31/OgB9FM8xP76/nR5if31/OgB9FM8xP76/nR5if31/OgB9FM8xP76/nR5if31/OgB9FM8xP76/nR5if31/OgB9FM8xP76/nR5if31/OgB9FM8xP76/nR5if31/OgB9FM8xP76/nR5if31/OgB9FM8xP76/nR5if31/OgB9FM8xP76/nR5if31/OgBzKGGGGRTPKx0kkA9A1L5if31/OjzE/vr+dACeUf8AnrJ/31R5R/56yf8AfVL5if31/OjzE/vr+dAEnlR/881/75o8qP8A55r/AN80+igBnlR/881/75o8qP8A55r/AN80+igBnlR/881/75o8qP8A55r/AN80+igBnlR/881/75o8qP8A55r/AN80+igBnlR/881/75o8qP8A55r/AN80+igBnlR/881/75o8qP8A55r/AN80+igBnlR/881/75o8qP8A55r/AN80+igBnlR/881/75o8qP8A55r/AN80+igBnlR/881/75o8qP8A55r/AN80+igBnlR/881/75o8qP8A55r/AN80+igBnlR/881/75o8qP8A55r/AN80+igBnlR/881/75o8qP8A55r/AN80+igBnlR/881/75o8qP8A55r/AN80+igBnlR/881/75o8qP8A55r/AN80+igBnlR/881/75o8qP8A55r/AN80+igBnlR/881/75o8qP8A55r/AN80+igBnlR/881/75o8qP8A55r/AN80+igBnlR/881/75o8qP8A55r/AN80+igBnlR/881/75o8qP8A55r/AN80+igBnlR/881/75o8qP8A55r/AN80+igBnlR/881/75o8qP8A55r/AN80+igBnlR/881/75o8qP8A55r/AN80+igBnlR/881/75o8qP8A55r/AN80+igBnlR/881/75o8qP8A55r/AN80+igBnlR/881/75o8qP8A55r/AN80+igBnlR/881/75o8qP8A55r/AN80+igBnlR/881/75o8qP8A55r/AN80+igBnlR/881/75o8qP8A55r/AN80+igBnlR/881/75o8qP8A55r/AN80+igBnlR/881/75o8qP8A55r/AN80+igBnlR/881/75o8qP8A55r/AN80+igBnlR/881/75o8qP8A55r/AN80+igBnlR/881/75o8qP8A55r/AN80+igBnlR/881/75o8qP8A55r/AN80+igBnlR/881/75o8qP8A55r/AN80+igBnlR/881/75o8qP8A55r/AN80+igBnlR/881/75o8qP8A55r/AN80+igBnlR/881/75o8qP8A55r/AN80+igBnlR/881/75o8qP8A55r/AN80+igBnlR/881/75o8qP8A55r/AN80+igBnlR/881/75o8qP8A55r/AN80+igBnlR/881/75o8qP8A55r/AN80+igBnlR/881/75o8qP8A55r/AN80+igBnlR/881/75o8qP8A55r/AN80+igBnlR/881/75o8qP8A55r/AN80+igBnlR/881/75o8qP8A55r/AN80+igBnlR/881/75o8qP8A55r/AN80+igBnlR/881/75o8qP8A55r/AN80+igBnlR/881/75o8qP8A55r/AN80+igBnlR/881/75o8qP8A55r/AN80+igBnlR/881/75o8qP8A55r/AN80+igBnlR/881/75o8qP8A55r/AN80+igBnlR/881/75o8qP8A55r/AN80+igBnlR/881/75o8qP8A55r/AN80+igBnlR/881/75o8qP8A55r/AN80+igBnlR/881/75o8qP8A55r/AN80+igBnlR/881/75o8qP8A55r/AN80+igBnlR/881/75o8qP8A55r/AN80+igBnlR/881/75o8qP8A55r/AN80+igBnlR/881/75o8qP8A55r/AN80+igBnlR/881/75o8qP8A55r/AN80+igBnlR/881/75o8qP8A55r/AN80+igBnlR/881/75o8qP8A55r/AN80+igBnlR/881/75o8qP8A55r/AN80+igBnlR/881/75o8qP8A55r/AN80+igBnlR/881/75o8qP8A55r/AN80+igBnlR/881/75o8qP8A55r/AN80+igBnlR/881/75o8qP8A55r/AN80+igBnlR/881/75o8qP8A55r/AN80+igBnlR/881/75o8qP8A55r/AN80+igBnlR/881/75o8qP8A55r/AN80+igBnlR/881/75o8qP8A55r/AN80+igBnlR/881/75o8qP8A55r/AN80+igBnlR/881/75o8qP8A55r/AN80+igBnlR/881/75o8qP8A55r/AN80+igBnlR/881/75o8qP8A55r/AN80+igBnlR/881/75o8qP8A55r/AN80+igBnlR/881/75o8qP8A55r/AN80+igBnlR/881/75o8qP8A55r/AN80+igBnlR/881/75o8qP8A55r/AN80+igBnlR/881/75o8qP8A55r/AN80+igBnlR/881/75o8qP8A55r/AN80+igBnlR/881/75o8qP8A55r/AN80+igBnlR/881/75o8qP8A55r/AN80+igBnlR/881/75o8qP8A55r/AN80+igBnlR/881/75o8qP8A55r/AN80+igBnlR/881/75o8qP8A55r/AN80+igBnlR/881/75o8qP8A55r/AN80+igBnlR/881/75o8qP8A55r/AN80+igBnlR/881/75o8qP8A55r/AN80+igBnlR/881/75o8qP8A55r/AN80+igBnlR/881/75o8qP8A55r/AN80+igBnlR/881/75o8qP8A55r/AN80+igBnlR/881/75o8qP8A55r/AN80+igBnlR/881/75o8qP8A55r/AN80+igBnlR/881/75o8qP8A55r/AN80+igBnlR/881/75o8qP8A55r/AN80+igBnlR/881/75o8qP8A55r/AN80+igBnlR/881/75o8qP8A55r/AN80+igBnlR/881/75o8qP8A55r/AN80+igBnlR/881/75o8qP8A55r/AN80+igBnlR/881/75o8qP8A55r/AN80+igBnlR/881/75o8qP8A55r/AN80+igBnlR/881/75o8qP8A55r/AN80+igBnlR/881/75o8qP8A55r/AN80+igBnlR/881/75o8qP8A55r/AN80+igBnlR/881/75o8qP8A55r/AN80+igBnlR/881/75o8qP8A55r/AN80+igBnlR/881/75o8qP8A55r/AN80+igBnlR/881/75o8qP8A55r/AN80+igAooooAKKKKACiiigAooooAKKKKACiiigAooooAKKKKACiiigAooooAKKKKACiiigAooooAKKKKACiiigAooooAKKKKACiiigAooooAKKKKACiiigAooooAKKKKACiiigAooooAKKKKACiiigAooooAKKKKACiiigAooooAKKKKACiiigAooooAKKKKACiiigAooooAKKKKACiiigAooooAKKKKACiiigAooooAKKKKACiiigAooooAKKKKACiiigAooooAKKKKACiiigAooooAKKKKACiiigAooooAKKKKACiiigAooooAKKKKACiiigAooooAKKKKACiiigAooooAKKKKACiiigAooooAKKKKACiiigAooooAKKKKACiiigAooooAKKKKACiiigAooooAKKKKACiiigAooooAKKKKACiiigAooooAKKKKACiiigAooooAKKKKACiiigAooooAKKKKACiiigAooooAKKKKACiiigAooooAKKKKACiiigAooooAKKKKACiiigAooooAKKKKACiiigAooooAKKKKACiiigAooooAKKKKACiiigAooooAKKKKACiiigAooooAKKKbJIsUTSSMFRAWZj2AoA8R+OHxE8V6P4l0/w58Prho79bWS9vPLijkYRgEgYcEDAVj69K9F+Gfiv/AITX4d6VrUjBriWLZc4GMSr8rfqM/jXmvwfRPG/xI8YePL8K9tNIbCyD9PL749toX8zT/gncHwl8Q/Fvw9uGxHDcG8sAT1Q4yAP90ofzoA3viZ4w13QPih4F0nSb829jqtw6XkQiRvNAZABlgSOCehFHxM8Ya7oHxQ8C6TpN+bex1W4dLyIRI3mgMgAywJHBPQisX4x/8lq+GX/X3J/6HHR8Y/8AktXwy/6+5P8A0OOgD26iiigAooooAKKKKACuP8XeINWj1uw8N+GBFHqV8jSvczLuW3jHVsdzXYVyPi7wtqV/qllr3hq7jttXsVKKs4zHMh6q3p/np1oAzZvDHj3T4nvLHxqL+4QbvstxYqscmP4c5OPwA/Cum8K67J4g8OQahdWrWc/KzwuCNjDrjPbvXMn4ha1oeP8AhMvCd3Zwr9+8snE8Q9zj7o/Emuqn1K01fwlc32nTrPbTWsjJIvQ/KaANVHWRQ0bBlPQqcikEiGQxh13gZK55H4Vyfwt/5JrpP/XNv/QzVOw/5Llqn/YKi/8AQhQB3EsscMZkmdY0XqznAH402C4huY99tNHKmcbo2DD9K85tdMh+I/i/VrjXHkm0fSLg2ltZK5VHkH3nbB5Nai/D2PRPEFlqfgyRdNVX23tq8jmOeP6HPzUAdsSACScAdSahgvLa6JFtcRTFeojcNj8q4TxLFL4w8fR+FZJ5IdJs7YXV8sTbTOScKhI7VNqnwu02GGO68Hr/AGNq1uwaGdZXKtzyrgk5BFAHd1CL21Nx5AuYTN/zz8wbvy61xnxD1u60/R9L0s38WnXGqzCC4vN+1YUAy7AnGPQVjP4Y+FZ04wRatp0dwB8t4NTHmh/72d2M59sUAepVBLe2sEoimuYY5D0R5ACfwrhvB3iHU9V+HGpeTOL7U9OM1tFOp3ecVHyNnuSCPrWD4M0rwBr2hRrrMsFxrdwD9s+2XDJP5vfGSP0oA9eqGa9tbZwlxcwxM3RZJApP51j6Lot34b8LzWNvfSag8SyG0Mw5UYJVM5OcdK878F2XgjW9Oc+K5YZ/EM0ji8GoTlJN+TwoJHb0oA9gZ1VN7MoXruJ4rzKKC58beMtbW+8R32nWWmTrBbW9hc+UH4zuJ711ei+DrbTfD11ol1dyalpc7kxQzE/uozz5YYHJFcZ4L8FeHrvxT4kS40yN10+/VbUb2HlDGeOfX1oA9UVkj2QmQbsYAZsscfzpzOqKWdgqjqScAVw2uf8AJZ/Df/XlP/WtT4jf8k51v/r2P8xQBF8RdavdE8GvfaRceTP58SrIFVvlZgD1BHSuohYtAjNySoJ/KvNvG3/JFNP/AN2z/mtekQf8e0X+4P5UASUUUUAFFFFABRRRQBi+LfEKeF/DN1qjxec0QCxx/wB92OFH5muYh8N+PNWgjvr3xkNNmkG8WltYqyRZ5C5LAn8c11Xijw9B4o8O3OlXMjRCYArIo5Rgcg/nXJw61478LW62+seH1162hAUXmny4kZR3KYyT+AoA1PCes68mtXnh7xUiTXVsglhv4Y9qXCH14wGFdbJIkUZeV1RFGSzHAH41h+GPGOl+K4pf7PaSK5g4ntbhNksR9x/UVxGo3mieLPHOo2/i7V7e20nSXENvYy3YhE8mPmduQTjpQB6jBcwXKb7aaOZQcbo3DD9K5fxVrN/p3i3wxZ2dx5VvfXTx3CbFPmKACBkjI/CuJ15/CnhGW117wLq1lDcQzolzZ296JFuIicHK7j06103jRxJ428EuvRrtyP8AvkUAd5UMN7a3DslvcwysvVUkDEflXAePdUt9Q8VWHhfUdWTS9MeE3V9I0wiMq5wse4nvzWVreh/D230iS58L6zp+m6raoZLWe31IFiwGQCCxznpQB61UEl7axTCGW5hSU9EaQBj+FcNqXjW9Pwls9YtNq6lqCx28Z7LKx2lv0Jqey+EvhoaYE1W1kv76Rcz3ksz73c9SOeOaAO4d1jUtIwVR1LHArmfCPi3/AISNtUW4SG3NlfvaRhXz5gXo3PrTNC8J3EHhy60HxLcJqtgZSLfczb/JzkK545GO1cl8MfCeh3F7rV3Np6NPp+sSx2r7mBiVcbQOe3vQB6sSFUliABySe1RQXltdZ+zXEU23r5bhsflXnXi+/wBP13x0PDuvatFp2i2UCz3CPcCH7VI3RMkjgDmsvxJYeCNH0p9X8E6xYWOsWI8yEW1+H84DqhUsc5FAHr9Qre2r3BgW5haYdYxINw/DrXC+LPEd5qPhLQbfSJTb3PiJ44vNQ4MaMuXIq5F8KPC9vZoltayw3kYyl8s7+ar/AN/OcZz2xigCfwPrWoaveeIU1G485bPUnggGxRsQDgcAZ/Gutrzv4SLcoviRL9xJcrqjCVwMbmAGTj3616JQAUUUUAFFFFABRRRQAUUUUAFFFFABRRRQAUUUUAFFFFABRRRQAUUUUAFFFFABRRRQAUUUUAFFFFABRRRQAUUUUAFFFFABRRRQAUUUUAFFFFABRRRQAUUUUAFFFFABRRRQAUUUUAFFFFABRRRQAUUUUAFFFFABRRRQAUUUUAFFFFABRRRQAUUUUAFFFFABRRRQAUUUUAFFFFABRRRQAUUUUAFFFFABRRRQAUUUUAFFFFABRRRQAUUUUAFFFFABRRRQAUUUUAFFFFABRRRQAUUUUAFFFFABRRRQAUUUUAFFFFABRRRQAUUUUAFFFFABRRRQAUUUUAFFFFABRRRQAUUUUAFFFFABRRRQAUUUUAFFFFABRRRQAUUUUAFFFFABRRRQAUUUUAFFFFABRRRQAUUUUAFFFFABRRRQAUUUUAFFFFABRRRQAV538c/FX/CLfCrUXhk2Xd+Psdvg85fqR9F3V6JVDVNC0nXFiXWtLstRWBt8Qu7dJRG3qu4HB9xQB4p4V/Zn8LXfhPTLnxBJqQ1Ka3SS4WG4VVVmGcAFT0zisHxd4I0/4FeO/Cnifw5JdnTJLk2999okDEA9eQBwVLH6rX0wAAAAMAdBVPVNH0zXLT7LrWnWmo2+4N5N3Asqbh0O1gRmgDxv4wOsnxm+GDxkMrXLlSO43x074x/8lq+GX/X3J/6HHXr0/h/RrqeynudIsZpbDizkktkZrbp/qyR8nQdMdBTrzRNK1G9tbzUNMs7q6szutp57dXeA8coxGV6Dp6UAXqKKKACiiigAooooAK47xD4yufC3i21i1iGKPw/dRYW8WNi8c3oxBxj8P5V2NRXNtBeW7QXcMc8LjDRyoGVvqDQBzmp/ELwlZ6ZLPLrNldLsP7mCVZHfjptHr71lfDrSbyL4c3Uc0DWxv3nlt4HGPLRx8ox29a6S28HeG7O5FxbaFp0UynKutsmVPqOOPwrZoA8y+HfjXRNH8Ix6Prl7Hp19prPFNDcEqT8xOR6/Qc0/wtqn9s/GLVL5IZIoJNNjMBkGDJHkYfHUZ54POK7m58PaNe3ovLzSbGe5GCJpbdGfjpyRmrS2Fol816lrAt06BGnEYDso6KW649qAPPdC1O08C+NNb0nXZVsrXUrk31ndSnEb7vvKWPAI963bjx/p8viCw0jw95WtXFy/75racFLePu5YAg/Suiv9MsdVt/I1Ozt7yLOdk8YcA+uDUem6JpejIyaTp9rZB/veREqbvrjrQBxWuXY8H/FCPXtQDLpOqWotZrgKSIZFPGfQGtXXPiPomnWaf2Rc2+t38zhILKznDNIxPcrnb+NdVcW0F3bvBdQxzwuMPHIoZWHuD1qhp/hrRNJuDPpmkWVpMePMhgVW+mQKAOT+JWnSXGnaPrc+nLeR6ZcCW8syokBiYfPwRhsfSkF98Kzpv20ReHdmzd5Zgi836bMbs+2K9APPWsc+EfDhvPtR0LTjPndv+ypnPr06+9AGZ4e1TT4vBM2s6L4dksICGmFnDCkbzY/iAHByBxn0rGm1D4aeLNKGoaudJimlTMqyyLFcIe4OCGJFeiAADAGBWRceEvDt3dm6udD0+WcnJke2Qlj6njn8aAOT+F91dQeE9UlRbq70yC5kOmLJ/rJIQOi57elA1j4deMdNF7ri6Xb3LArLHeOsVxGR2zwx/CvQURIo1SNVRFGFVRgAfSsu88KeH9Qujc32iafcTk5aSS2Rmb6nHP40Acl8KCwTWo9Plnm0GO726c8xJ+X+ILnt0qz4C/5G3xl/2ER/6DXbwwxW8KxW8aRRoMKiKFVR6ACo7extLWaaW1tYYZLht8zxxhTI3qxHU/WgDgvHV6vh74geHPEF+rDTo0ltpplUnyy3QnH+eKj+IHjXSdS8FalYaDcpqdxLb7pBbnKwx5GWY9B9OpNeh3Vpb31s9vewRXELjDRyoGVvqDxVSDw/o1rZzWltpNjFbT/62FLdAkn+8MYP40AcH42/5Ipp/wDu2f8ANa9Ig/49ov8AcH8qin02xubFbO5srea1XG2CSJWQY6YUjHHarIAAAAwB0AoAKKKKACiiigAooooAwPGeq6tonh19R0O0iu5IHVpopFLExfxFcEcjrUFh8RPCl/p6XQ1yzg3Llo55RG6n02nn8q6asa58HeG7u5Nxc6Dp0srHLO1smWPqeOfxoA4/w3dw+J/i1d69ocbDTLez+zSXO0qtxJntnrgfyFUzaaB4e+IerweMtPs3tdVkFzZXt5AroDj5kLEfLzXqNvbQWdukFpDHBCgwscSBVUewHSo73T7PUrc2+o2kN1CTkxzxh1/I0AcDqF/8O7e9s7LS9E0jWbu7lEaw6fbQylQerEjgAfWrfjUBfHHgoKMAXjgAdvlFdVpvh/R9HZm0rS7SzZhhmghVSR7kDNWp7G0up4Z7m1hmlt23QySRhmjPqpPQ/SgDzzxzY2GmePNN8Ra7p8d7o8tubO6MsIlWBs5RypB4561NqupfDDTdLe7istAvpMfu7a1hheSQ9htAyPxr0KWKOeJopo1kjcYZHXIYehFZdp4V8P2F2Lqy0TT4JwciSO2RWX6HHH4UAc14v0d9U+GsDaHpZspbVo72Gw8sKV2ncV2rxnBPFaOm/Efwxe6Ol7NrFpavszLBPKEkRu42nk/gK6qsm58KeH7y8N3daJp81wTkyPbIWY+pOOfxoAg8J+JH8U6dNfrp72lp5zJbPI+TOg/jxgbQfTmuR+Hur2Gka54j0fVLqO1v5tYkkihlO0yBsbdvrXpSqqKFRQqqMAAYAFUrnRNLvb2O8vNNtJ7mIgxzSwKzpjphiMigDz/xLaaVonxM/tXxRp8F1o+qW6w/aLiASpbzL0zkHGR3qxrGpfDXTLNZLTTNE1S4kYJFa2MEMsjkn0A4/GvQbi2gvLd4LuGOeFxho5UDKw9waoWHhnQtLuPtGm6PY2s3/PSK3VWH0IHFAHKePrGW00TQta0qwMaaJcJO9nGgBSLGGAA4GPatkfETwq2li9j1m1fcuVt1kBmY9l8v72c8dK6Y89ayoPC+g22ofbrfRrGK6zuEyW6hgfUHHB96AOQ+E0lxN/wkst7C0E8mqMzxNjKEgHBx6V6JUFvZWto8z2ltDA07+ZK0UYUyN/ebHU+5qegAooooAKKKKACiiigAooooAKKKKACiiigAooooAKKKKACiiigAooooAKKKKACiiigAooooAKKKKACiiigAooooAKKKKACiiigAooooAKKKKACiiigAooooAKKKKACiiigAooooAKKKKACiiigAooooAKKKKACiiigAooooAKKKKACiiigAooooAKKKKACiiigAooooAKKKKACiiigAooooAKKKKACiiigAooooAKKKKACiiigAooooAKKKKACiiigAooooAKKKKACiiigAooooAKKKKACiiigAooooAKKKKACiiigAooooAKKKKACiiigAooooAKKKKACiiigAooooAKKKKACiiigAooooAKKKKACiiigAooooAKKKKACiiigAooooAKKKKACiiigAooooAKKKKACiiigAooooAKKKKACiiigAooooAKKKKACiiigAooooAKKKKACiiigAooooAKKKKACiiigAooooAKKKKACiiigAooooAKKKKACiiigAooooAKKKKACiiigAooooAKKKKACiiigAooooAKKKKACiiigAooooAKKKKACiiigAooooAKKKKACiiigAooooAKKKKACiiigAooooAKKKKACiiigAooooAKKKKACiiigAooooAKKKKACiiigAooooAKKKKACiiigAooooAKKKKACiiigAooooAKKKKACiiigAooooAKKKKACiiigAooooAKKKKACiiigAooooAKKKKACiiigAooooAKKKKACiiigAooooAKKKKACiiigAooooAKKKKACiiigAooooAKKKKACiiigAooooAKKKKACiiigAooooAKKKKACiiigAooooAKKKKACiiigAooooAKKKKACiiigAooooAKKKKACiiigAooooAKKKKACiiigAooooAKKKKACiiigAooooAKKKKACiiigAooooAKKKKACiiigAooooAKKKKACiiigAooooAKKKKACiiigAooooAKKKKACiiigAoqt/p3/Tv/49R/p3/Tv/AOPUAWaKrf6d/wBO/wD49R/p3/Tv/wCPUAWaKrf6d/07/wDj1H+nf9O//j1AFmiq3+nf9O//AI9R/p3/AE7/APj1AFmiq3+nf9O//j1H+nf9O/8A49QBZoqt/p3/AE7/APj1H+nf9O//AI9QBZoqt/p3/Tv/AOPUf6d/07/+PUAWaKrf6d/07/8Aj1H+nf8ATv8A+PUAWaKrf6d/07/+PUf6d/07/wDj1AFmiq3+nf8ATv8A+PUf6d/07/8Aj1AFmiq3+nf9O/8A49R/p3/Tv/49QBZoqt/p3/Tv/wCPUf6d/wBO/wD49QBZoqt/p3/Tv/49R/p3/Tv/AOPUAWaKrf6d/wBO/wD49R/p3/Tv/wCPUAWaKrf6d/07/wDj1H+nf9O//j1AFmiq3+nf9O//AI9R/p3/AE7/APj1AFmiq3+nf9O//j1H+nf9O/8A49QBZoqt/p3/AE7/APj1H+nf9O//AI9QBZoqt/p3/Tv/AOPUf6d/07/+PUAWaKrf6d/07/8Aj1H+nf8ATv8A+PUAWaKrf6d/07/+PUf6d/07/wDj1AFmiq3+nf8ATv8A+PUf6d/07/8Aj1AFmiq3+nf9O/8A49R/p3/Tv/49QBZoqt/p3/Tv/wCPUf6d/wBO/wD49QBZoqt/p3/Tv/49R/p3/Tv/AOPUAWaKrf6d/wBO/wD49R/p3/Tv/wCPUAWaKrf6d/07/wDj1H+nf9O//j1AFmiq3+nf9O//AI9R/p3/AE7/APj1AFmiq3+nf9O//j1H+nf9O/8A49QBZoqt/p3/AE7/APj1H+nf9O//AI9QBZoqt/p3/Tv/AOPUf6d/07/+PUAWaKrf6d/07/8Aj1H+nf8ATv8A+PUAWaKrf6d/07/+PUf6d/07/wDj1AFmiq3+nf8ATv8A+PUf6d/07/8Aj1AFmiq3+nf9O/8A49R/p3/Tv/49QBZoqt/p3/Tv/wCPUf6d/wBO/wD49QBZoqt/p3/Tv/49R/p3/Tv/AOPUAWaKrf6d/wBO/wD49R/p3/Tv/wCPUAWaKrf6d/07/wDj1H+nf9O//j1AFmiq3+nf9O//AI9R/p3/AE7/APj1AFmiq3+nf9O//j1H+nf9O/8A49QBZoqt/p3/AE7/APj1H+nf9O//AI9QBZoqt/p3/Tv/AOPUf6d/07/+PUAWaKrf6d/07/8Aj1H+nf8ATv8A+PUAWaKrf6d/07/+PUf6d/07/wDj1AFmiq3+nf8ATv8A+PUf6d/07/8Aj1AFmiq3+nf9O/8A49R/p3/Tv/49QBZoqt/p3/Tv/wCPUf6d/wBO/wD49QBZoqt/p3/Tv/49R/p3/Tv/AOPUAWaKrf6d/wBO/wD49R/p3/Tv/wCPUAWaKrf6d/07/wDj1H+nf9O//j1AFmiq3+nf9O//AI9R/p3/AE7/APj1AFmiq3+nf9O//j1H+nf9O/8A49QBZoqt/p3/AE7/APj1H+nf9O//AI9QBZoqt/p3/Tv/AOPUf6d/07/+PUAWaKrf6d/07/8Aj1H+nf8ATv8A+PUAWaKrf6d/07/+PUf6d/07/wDj1AFmiq3+nf8ATv8A+PUf6d/07/8Aj1AFmiq3+nf9O/8A49R/p3/Tv/49QBZoqt/p3/Tv/wCPUf6d/wBO/wD49QBZoqt/p3/Tv/49R/p3/Tv/AOPUAWaKrf6d/wBO/wD49R/p3/Tv/wCPUAWaKrf6d/07/wDj1H+nf9O//j1AFmiq3+nf9O//AI9R/p3/AE7/APj1AFmiq3+nf9O//j1H+nf9O/8A49QBZoqt/p3/AE7/APj1H+nf9O//AI9QBZoqt/p3/Tv/AOPUf6d/07/+PUAWaKrf6d/07/8Aj1H+nf8ATv8A+PUAWaKrf6d/07/+PUf6d/07/wDj1AFmiq3+nf8ATv8A+PUf6d/07/8Aj1AFmiq3+nf9O/8A49R/p3/Tv/49QBZoqt/p3/Tv/wCPUf6d/wBO/wD49QBZoqt/p3/Tv/49R/p3/Tv/AOPUAWaKrf6d/wBO/wD49R/p3/Tv/wCPUAWaKrf6d/07/wDj1H+nf9O//j1AFmiq3+nf9O//AI9R/p3/AE7/APj1AFmiq3+nf9O//j1H+nf9O/8A49QBZoqt/p3/AE7/APj1H+nf9O//AI9QBZoqt/p3/Tv/AOPUf6d/07/+PUAWaKrf6d/07/8Aj1H+nf8ATv8A+PUAWaKrf6d/07/+PUf6d/07/wDj1AFmiq3+nf8ATv8A+PUf6d/07/8Aj1AFmiq3+nf9O/8A49R/p3/Tv/49QBZoqt/p3/Tv/wCPUf6d/wBO/wD49QBZoqt/p3/Tv/49R/p3/Tv/AOPUAWaKrf6d/wBO/wD49R/p3/Tv/wCPUAWaKrf6d/07/wDj1H+nf9O//j1AFmiq3+nf9O//AI9R/p3/AE7/APj1AFmiq3+nf9O//j1H+nf9O/8A49QBZoqt/p3/AE7/APj1H+nf9O//AI9QBZoqt/p3/Tv/AOPUf6d/07/+PUAWaKrf6d/07/8Aj1H+nf8ATv8A+PUAWaKrf6d/07/+PUf6d/07/wDj1AFmiq3+nf8ATv8A+PUf6d/07/8Aj1AFmiq3+nf9O/8A49R/p3/Tv/49QBZoqt/p3/Tv/wCPUf6d/wBO/wD49QBZoqt/p3/Tv/49R/p3/Tv/AOPUAWaKrf6d/wBO/wD49R/p3/Tv/wCPUAWaKrf6d/07/wDj1H+nf9O//j1AFmiq3+nf9O//AI9R/p3/AE7/APj1AFmiq3+nf9O//j1H+nf9O/8A49QBZoqt/p3/AE7/APj1H+nf9O//AI9QBZoqt/p3/Tv/AOPUf6d/07/+PUAWaKrf6d/07/8Aj1H+nf8ATv8A+PUAWaKrf6d/07/+PUf6d/07/wDj1AFmiq3+nf8ATv8A+PUf6d/07/8Aj1AFmiq3+nf9O/8A49R/p3/Tv/49QBZoqt/p3/Tv/wCPUf6d/wBO/wD49QBZoqt/p3/Tv/49R/p3/Tv/AOPUAWaKrf6d/wBO/wD49R/p3/Tv/wCPUAWaKKKACiiigAooooAKKKKACiiigAooooAKKKKACiiigAooooAKKKKACiiigAooooAKKKKACiiigAooooAKKKKACiiigAooooAKKKKACiiigAooooAKKKKACiiigAooooAKKKKACiiigAooooAKKKKACiiigAooooAKKKKACiiigAooooAKKKKACiiigAooooAKKKKACiiigAooooAKKKKACiiigAooooAKKKKACiiigAooooAKKKKACiiigAooooAKKKKACiiigAooooAKKKKACiiigAooooAKKKKACiiigAooooAKKKKACiiigAooooAKKKKACiiigAooooAKKKKACiiigAooooAKKKKACiiigAooooAKKKKACiiigAooooAKKKKACiiigAooooAKKKKACiiigAooooAKKKKACiiigAooooAKKKKACiiigAooooAKKKKACiiigAooooAKKKKACiiigAooooAKKKKACiiigAooooAKKKKACiiigAooooAKKKKACiiigAooooAKKKKACiiigAooooAKKKKACiiigAooooAKKKKACiiigAooooAKKKKACiiigAooooAKKKKACiiigAooooAKKKKACiiigAooooAKKKKACiiigAooooAKKKKACiiigAooooAKKKKACiiigAooooAKKKKACiiigAooooAKKKKACiiigAooooAKKKKACiiigAooooAKKKKACiiigAooooAKKKKACiiigAooooAKKKKACiiigAooooAKKKKACiiigAooooAKKKKACiiigAooooAKKKKACiiigAooooAKKKKACiiigAooooAKKKKACiiigAooooAKKKKACiiigAooooAKKKKACiiigAooooAKKKKACiiigAooooAKKKKACiiigAooooAKKKKACiiigAooooAKKKKACiiigAooooAKKKKACiiigAooooAKKKKACiiigAooooAKKKKACiiigAooooAKKKKACiiigAooooAKKKKACiiigAooooAKKKKACiiigAooooAKKKKACiiigAooooAKKKKACiiigAooooAKKKKACiiigAooooAKKKKACiiigAooooAKKKKACiiigAooooAKKKKACiiigAooooAKKKKACiiigAooooAKKKKACiiigAooooAKKKKACiiigAooooAKKKKACiiigAooooAKKKKACiiigAooooAKKKKACiiigAooooAKKKKACiiigAooooAKKKKACiiigAooooAKKKKACiiigAooooAKKKKACiiigAooooAKKKKACiiigAooooAKKKKACiiigAooooAKKKKACiiigAooooAKKKKACiiigAooooAKKKKACiiigAooooAKKKKACiiigAooooAKKKKACiiigAooooAKKKKACiiigAooooAKKKKACiiigAooooAKKKKACiiigAooooAKKKKACiiigAooooAKKKKACiiigAooooAKKKKACiiigAooooAKKKKACiiigAooooAKKKKACiiigAooooAKKKKACiiigAooooAKKKKACiiigAooooAKKKKACiiigAooooAKKKKACiiigAooooAKKKKACiiigAooooAKKKKACiiigAooooAKKKKACiiigAooooAKKKKACiiigAooooAKKKKACiiigAooooAKKKKACiiigAooooAKKKKACiiigAooooAKKKKACiiigAooooAKKKKACiiigAooooAKKKKACiiigAooooAKKKKACiiigAooooAKKKKACiiigAooooAKKKKACiiigAooooAKKKKACiiigAooooAKKKKACiiigAooooAKKKKACiiigAooooAKKKKACiiigAooooAKKKKACiiigAooooAKKKKACiiigAooooAKKKKACiiigAooooAKKKKACiiigAooooAKKKKACiiigAooooAKKKKACiiigAooooAKKKKACiiigAooooAKKKKACiiigAooooAKKKKACiiigAooooAKKKKACiiigAooooAKKKKACiiigAooooAKKKKACiiigAooooAKKKKACiiigAooooAKKKKACiiigAooooAKKKKACiiigAooooAKKKKACiiigAooooAKKKKACiiigAooooAKKKKACiiigAooooAKKKKACiiigAooooAKKKKACiiigAooooAKKKKACiiigAooooAKKKKACiiigAooooAKKKKACiiigAooooAKKKKACiiigAooooAKKKKACiiigAooooAKKKKACiiigAooooAKKKKACiiigAooooAKKKKACiiigAooooAKKKKACiiigAooooAKKKKACiiigAooooAKKKKACiimySJFG0krBEUZZieAKAHUVzreL0kYnT9L1C9hBx50UJ2n6Vo6TrdprCv9mLpLGcSQyrtdPqKANGiiigAoqjqWqw6X9m89JG+0TCFdgHBPc5PSr1ABRRRQAUUUUAFFZ0mqumvR6cLKZkePebgfdHtWjQAUUUUAFFFZ11qr22s2titlNIs4JM6/dT60AaNFFFABRRRQAUUUUAFFFFABRRRQAUUUUAFFUrLVIb+6u4IkdWtZPLcsBgn25q7QAUVi33iaGy1N7FbG9uZkUM32eIPgH8ahHjCzjkVb6zvrFWOA9xBtX+dAHQUU2ORJY1kiZXRhlWU5BFOoAKKKKACiiigAooooAKKDwKztI1R9UjnaSzltfKkKASfxe9AGjRRRQAUVDPeW9tLFHPKqPM22MH+I+lM1G8aw0+a5SB7ho1yI06tQBZoqCxuTeWMNw0LwmRAxjfqvtU9ABRRRQAUUUUAFFFFABRRRQAUUUUAFFFFABRRRQAUUUUAFFFFABRRRQAUUUUAFFFFABRRRQAUUUUAFFFFABRRRQAUUUUAFFFFABRRRQAUUUUAFFFFABRRRQAUUUUAFFFFABRRRQAUUUUAFFFFABRRRQAUUUUAFFFFABRRRQAUUUUAFFFFABRRRQAUUUUAFFFFABRRRQAUUUUAFFFFABRRRQAUUUUAFFFFABRRRQAUUUUAFFFFABRRRQAUUUUAFFFFABRRRQAUUUUAFFFFABRRRQAUUUUAFFFFABRRRQAUUUUAFFFFABRRRQAUUUUAFFFFABRRRQAUUUUAFFFFABRRRQAUUUUAFFFFABRRRQAUUUUAFFc5e+NLGx1Caze1u5JIW2sY0Uj+dJa+OdLnuVhmS4tS3Rp0AX9CaAOkooBBAI5B6GigAoorO0nW7fWGuRbRyp9nfY3mADJ9sGgDRoorP1HWYNNvLS3nSRnun2IUAwD75PvQBoUVk6prb6dqVnapYy3AuWwZE6Jzj059a1qACiiigAopssqQxNJKwREGWZjgAVzT+OLRpXFjY3l2iH5pI4+P8/XFAHT0VmaP4gsdbjY2jMsiffikGGWtOgAooooAKKKKACiiigAooooAKKKKACiiigAooooAKKKKACiiigArL8S2s974du4LQFpWThR1bBzitSq19qFtptt9ovZPKi3BS20nBP0FAGXoviLSprKG38+O1mjUI0Ex2FSOMDPWtFdMtf7V/tKMETtHsJVvlYe470280jTdUXdd2kM24cPtw2P8AeHNYmnwnQvFiaXZzPJZ3EJk8l23eUR6e1AGnZanPceJNQsZNnk26IUwOeeuaPEGpz6ZDaNbbMzXKRNuGeD1qnpZA8cawDwTHGQPXim+MZFWHTUJ+Zr2PA9cGgBnjaUQW+mSsCVjvUYhRkkAE1M7eKZUNzbixiU/MlrICWx6E+tReNWRIdLaT7i3yFs+nOa6YHIyORQBmaPrA1bTWm8vyp4iUmiP8DjtWTpuqa9renh7EWsBR2WSaVThiDwFAz26k1J4eIk1LXpYuYWuMKR0JA5qbwV/yLaf9dpP/AEI0AVrPW9auZp9K+zQLqUDfPMxPlBP73qT7VLbanq9hrdvY62LeWO7yIpoARhgOhzSaX/yPer/9co6fr/8AyMWg/wDXdv5UAW5dSnTxXb6cNnkSW7SNx82QfWodR1S/l1kaVoywrKsfmTTT5KoD0AA6morj/koNp/15v/Op9U0QX2oC8sL97K/jTaXTDbl/2loAS0uNctdTjttTiiureYHFxboR5Z/2h6Uarqt4uqQ6VpCRG6kQyPJNnbGv0HU1VTUdY0fUrS11loLuC6fy0niXawb3HSrur6Kmo3kU9tevZX8KkJJGckr6Fe4oAihn16y1CGPUI4b22mO0y26ENEfUj0qe91Oe38SafYx7PJuEcvkc8dMVnSahrWg3NsurSQX1pPIIvORdjqT0yOlS6p/yO2j/APXOX+VAFnWNYuLa7h07S4VnvpwWG8/LGv8Aeaqdxe+ItGj+16gLS8tV/wBaIAVdB6jNPhIj+IVyJeGktF8onuAecVrau8cei3jTY2CFs5+lAFTWtWa08NvqVgUc7VZCwyCCRVUzeJL6EXVh9jtoWUNHFMCXcep7DPpWbco6fC1BJkHylPPpu4rrrX/jzh/65r/KgDP0DV31exdriIQ3MMhimQdAwrVrnvDH/IR1v/r8P8q6GgDBuLvXr3UZoNMt4rS3hODPdKSZD/sj0osNU1GDWl0vWlhZ5YzJDPBkBsdQQe9V7a81rX5J5LC6h06zjkMaN5QkkcjqcHiqhtLi08b6Yt5qD3srRuSzKF28HoB0oA0tS1q+tvEaadZwJN5tvuQNxh89Sf7oGarXmo+INDCXep/Y7mz3hZRCpDRgnrzU0n/JRIf+vJv/AEKrHi//AJFW9/3R/MUAW9V1aLS9La8YGTOBGg6ux6CsyJvFbRi5YWABG77Lhg2PTd61X8RHbpmhyyf6lLiIyewx3rqs56UAcx4SuBdX+sTqrJvuAdrDlTjoa6eub8Lukmq628RBQ3XBFdJQBzlp/wAlCvv+vVf6V0E0MdxC8M6LJG4wysMgiuftP+ShX3/Xqv8ASuid1jQu7BVUZJJ4AoA53wsTZ3mp6QWLR2koaLJ6K3OKU6nq+r3Uy6EtvDawuUNxcAnzGHXaB2qHw8DfXmtapCD5dy/lwn+8FGMiqPhmw1e40RDZ639lRXZWh+yq5Rs85JoA2bDVr+31ZdM12OESyqWgngztkx1GD3p2qarenVo9J0dIvtLR+bJLNnai5x0HU1XXQNQk1SzuNR1tbk2770j+zqhPr0NWtW0RNQvo7m0vXsr+JcCSPByvoV7igBlvca7Z6lDDqMcN5bTHHnW6EGI/7Q9Kk1nWLi2uodP0uFZ76cbgHPyxr/eaqDajrOhXlrHrEkF7a3EoiE0a7HVj0yOlSwkR/EK4E3DS2i+UT3APOKAGT3viHR1W61EWt5aggSi3Uh0B7j1q3r+syaZYWl1agOs0yKQVySp9PeteaaK3iaWeRIo1+87sFA/E1z/i5g9npzIQytexEEHIIoAu6eNclvvP1FraK1ZTi3jyXX0ycdaTQdTn1K3vHuNmYbh412jHA6Vr1znhH/jz1L/r9loAg03Wda1u1K6elvFJG7CWeVTtHPCqB1OOtWrPVtSs9Wi07XkhJuAfIuIMhWI/hIPemeCHRtElVSNy3L7h6c0nis7r3RYoj++N4rKO+0daAKfiVNV/t7TdstrsNwfswKtlTj+L1/Ctu6udQ0/w3c3N20D3cKM4ManZ7cGqfiP/AJDWh/8AXyf5Vd8S/wDIs6h/1wagBw1Zbfw4mp3uB+5EjBR1JHQfjWbDL4pv4Rdw/YbWNxujglDFsdsmqusg/wDCBWLEZRPJaT/d4rrI2V4kZCCpUEEelAGZomsNqSTQ3UPkXts2yaIHIB7EexrNttY1nUrm+tLCO3V7edl8+UHaqdhgdW61JpxEnjrU3h+4sCI5HTdS+Ff+PnWf+v1v5UAFnquqWWuRabriwOLlSYZ4AQCR2Iroq57X/wDkYtB/67t/KuhoAKKKKACiiigAooooAKKKKACiiigAooooAKKKKACiiigAooooAKKKKACiiigAooooAKKKKACiiigAooooAKKKKACiiigAooooAKKKKACiiigAooooAKKKKACiiigAooooAKKKKACiiigAooooAKKKKACiiigAooooAKKKKACiiigAooooAKKKKACiiigAooooAKKKKACiiigAooooAKKKKACiiigAooooAKKKKACiiigAooooAKKKKACiiigAooooAKKKKACiiigAooooAKKKKACiiigAooooAKKKKACiiigAooooAKKKKACiiigAooooAKKKKACiiigAooooAKKKKACiiigAooooA5LQv+R91r6f1FXvGkds/hmdrkLuXBiJ6hs9q5+LTJtU8batHBfzWRQ5LQkgt044IrYi8FRSXCSarqN1qAjOVSVjj8ck0AMm1W80nwFZ3ke0zhEX94M8H/61dLbSGW0hkf7zorHHqRXP+OlC+FWVRhVkQAAdBmtywkQ6XbyBhs8lTuzxjFAGV4Z1m61Z78XQjAt5tibFxxz1rnPDl3fpcana6RCj3MlwWMkpwka5PJ9TWl4EYO2qspyrXGQR3HNJ4Gkj+16tHx5vn7vfGTQBLHr2r6Tq0Np4iigaG4O2O4gzgH/PtR4s/wCQ9of/AF3/AKim/EBlOnWcK/697geWO/T/AOuKPE4I1nQA3UTc/mKANDWtYudP1zS7SAR+XdOVk3Lk9R0/OneINefSjDbWUP2i+uTiKM9B7ms7xR/yNWgf9dD/ADWm6gRF8SrF7jiN4dsZPTPzUALc6j4p0iAXt/FZ3FsvMscWdyD/AD9a6ayu476yhuoMmOVAy5p9xcQ2tu81y6xxIMszdBRbzxXNuk1u4eJxlWHQigDL8VWtxeeG7qK0BaQgHavVgDkj8qz/AA14j0hNJt7R5ks5ol2ukvyjPc5PFbupanbaVa/ab1mSLcFyFJ5P0qtc6LpGsxLPNaRS+aoYSqNrEH3HNACxaNY/2x/a9uWEzrgmNhscevvVDVtfvP7WGk6FAk13jdJJIfljFZumwnw/42TS7GeSW0nj3NExz5ZwT/T9am8PkReOdajnOJX5TPUjP+BFAD5Na1zQ7qAa/FbzWkzbPOt8/If8+1afiDXho9vEIIvtF1cNthi9fc1oXl9aWEavezJErNtUv3PpXMa+wj8b6LNMcQkYBPTOf/rigCSa88W2Fsb25hspolG6SCPO5R3/AM5Naya0l54ak1Oy4IiZgrc7WA6GtC6dI7OZ5iBGqEsT6YrjfDasPAepMciNvMKA+m2gCxY6z4h1uxhk02G3jVf9bNIMBmz0Uc9qv6xrt3DfxaVpECT38i7nL/djHqaf4M/5FW0/4F/6Eaw/s97L8QNQjtdQ+wzOgZGMQk3rgcAGgC9Pq+v6E0c2txW1xZswV5LfOY8/X/CupR1kjV0OVYAg+ormNQ0HVbmyeHUfEiG3fAYPaooPPHOa6HT7c2mm29uZfOMUar5gGN2B1oAsUUUUAFFFFABRRRQAUUUUAFFFFABUF5Zw39nJbXSb4pBhhU9FAHNx+HtYs08nT/EEiW44VJYFcqPTJ/8ArVe0jQI9MmkuZriS8vJRh55euPQDsK1qKAMTVvDrX2oJqFheyWF4q7TIi7gw9xkVBL4Ua5WGS81GS4uo5lkM0keeAfuqM/KDXRUUAZutaMmspbJLIFSGYSspTcHGCNvXjrVCTw/qgU29rr0sVmeBG0Ks6r6B+tdDRQBT07S7fS9OFnaghADljyWJ6k1Houl/2PpotPO87Ds2/bt6nPTJrQooAzbXSPs2u3epefu+0oq+Xsxtx755/Kl1DSvt2o2F153l/Y5C+3ZnfkdM54rRooAzpNK8zxDDqnnY8uExeVs6575z/Sq2o6DJPqP9oaZfvYXbLtdggdXHupraooAwrTw/cHUIr3WdRe/lh5iXyxGiH1wOpqXVNCa8vkv7C8exvFXYZFUMGX0IPWtiigDAh8O3M95Dca5qbX/kNujiEQjQN6kDrV660r7TrdnqHnbfsqsvl7M7s++eK0aKAM3V9Fi1XypFle2uoDmK4j+8vt7is9vDd9fMqa3rD3lsrbvJSFYw+PUjrXRUUAUNX0tdU0eSwSQQK4ADBM7QD6ZFXYk8qFEznaoGfXFOooAztM0r+zrm+l87zPtc3m42Y2e3XmtGiigDn38O3trdTSaJqzWUUzl3haESKGPUjPSnW/hkxaxbalLfyTzxBhI0icyE+nOFA9MVvUUAZzaVu8RJqnnfdgMXlbOuTnOc/wBKk1fTv7V0qay83yvNAG/buxznpkVdooAp3GmQXmlfYLseZFsCE9Dx3HpWTF4e1WNRbf8ACQTGyHGzyl8zb6b+v410VFAGXpGiR6PNdtA4Mdw4ZYwuNmBjGc81qUUUAc/qHhu7udZk1Cx1ZrJ5ECELDu4HvuFR/wDCKXF1hNX1u6vIc8xKPLVvryc10lFAEdvbxWtukFvGscSDCqo4ArGufDs8d9Ld6JqL6e8xzKnlh0Y+uD0NbtFAGLp/h94dQGoapfPf3artjZkCLGPZRTtT0F7rUF1DTr17G8C7C6qHVx6FTWxRQBg2/h65lvobrW9Te/aA7ooxGI0U+uB1NW9Y0SPVfKkWV7a6gOYriPqvt7itOigDnT4bvr10XW9Ye8tkbd5CQiMPjpux1rR1fSBqkNtGsvkiCZZRhN2dvbqMVo0UAFZuk6V/ZMFynneb50zS52bdue3U1pUEZGKAOL8OaTPcaObrTb57G586RWYIHVxnjKn+dbWm+H3t9Q/tDU717+8C7UdlCrGPZRWhp2nQaXa/Z7UMI9xf5jnk9atUAZutaMmsW8a+c9vNC++KZOqN9O9NOlXU+gT6ffX/ANolmVl+0GLGAfbNalFAFSLTol0hNPuMTRiIRNkY3DGOlY6eHdUtE+z6dr0kNp0WN4FdkHoGNdHRQBQ0nSLfR7UxQFnZ23SSuctI3qabpWlf2ZJeP53m/apzLjZjbnt15rRooAztQ0r7dqNhded5f2OQvt2Z35HTOeK0aKKACiiigAooooAKKKKACiiigAooooAKKKKACiiigAooooAKKKKACiiigAooooAKKKKACiiigAooooAKKKKACiiigAooooAKKKKACiiigAooooAKKKKACiiigAooooAKKKKACiiigAooooAKKKKACiiigAooooAKKKKACiiigAooooAKKKKACiiigAooooAKKKKACiiigAooooAKKKKACiiigAooooAKKKKACiiigAooooAKKKKACiiigAooooAKKKKACiiigAooooAKKKKACiiigAooooAKKKKACiiigAooooAKKKKACiiigAooooAKKKKACiiigAooooAKKKKACiiigAooooAKKKKAMiw0L7Fr17qX2jf9q/5Z7Mbfxzz+Va9FFAFbULGHUrGW0uRmOQYOOo9xXPWfgyW3Ihn1m5lsQc/ZRlQw9Dz0/CuqooAx9A0AaF9qCTiVZ5N4Aj27B6dTVCHwZ9nE8kGoSRXckpkjnjTaUB6qRn5hXT0UAc5YeFGTU0v9X1CTUJ4/9WGXCr+pq9q2if2pf2Nz9o8r7JJv27N2/pxnIx0rVooAydU0P+0tVsL37R5X2Ni2zZnfyO+eOlP1vQrbXLdUnLRyxnMUqfeQ1p0UAcq3hC9u9kWq65PdWqEHyguN2PU5P9a6eGJIIUihUJGihVUdgKfRQBBe2UGoWclrdJvikGGFc0nhDUbQGLTdfuILcniMqTt/I/4V1lFAGJonhmDR5nuZJpLu8kGGnk6/gP8A69Gs+Go9UukvLa5ksr2PgTR9x7jituigDmrfwnNJfRXWt6nJqBhOY4yu1QfzrV1jRrbWrPyLoFSp3JIv3kPqK0KKAOVbwlqFwgt7/X55rQYzGEwWHoTn/Gt1tLhXRn022xDEYjGpAzjI6+9XaKAKOjab/ZGlRWXm+d5efn27c5OemTVXWvDsOryR3Ec8lpeRf6uePqPr61sUUAcx/wAInd3ssf8Abesy3kEZyIQmwN9ea6ZFVECIAqqMADsKWigAooooAKKKKACiiigAoqL7TF/e/Sj7TF/e/SgCWiovtMX979KPtMX979KAJaKi+0xf3v0o+0xf3v0oAloqL7TF/e/Sj7TF/e/SgCWiovtMX979KPtMX979KAJaKi+0xf3v0o+0xf3v0oAloqL7TF/e/Sj7TF/e/SgCWiovtMX979KPtMX979KAJaKi+0xf3v0o+0xf3v0oAloqL7TF/e/Sj7TF/e/SgCWiovtMX979KPtMX979KAJaKi+0xf3v0o+0xf3v0oAloqL7TF/e/Sj7TF/e/SgCWiovtMX979KPtMX979KAJaKi+0xf3v0o+0xf3v0oAloqL7TF/e/Sj7TF/e/SgCWiovtMX979KPtMX979KAJaKi+0xf3v0o+0xf3v0oAloqL7TF/e/Sj7TF/e/SgCWiovtMX979KPtMX979KAJaKi+0xf3v0o+0xf3v0oAloqL7TF/e/Sj7TF/e/SgCWiovtMX979KPtMX979KAJaKi+0xf3v0o+0xf3v0oAloqL7TF/e/Sj7TF/e/SgCWiovtMX979KPtMX979KAJaKi+0xf3v0o+0xf3v0oAloqL7TF/e/Sj7TF/e/SgCWiovtMX979KPtMX979KAJaKi+0xf3v0o+0xf3v0oAloqL7TF/e/Sj7TF/e/SgCWiovtMX979KPtMX979KAJaKi+0xf3v0o+0xf3v0oAloqL7TF/e/Sj7TF/e/SgCWiovtMX979KPtMX979KAJaKi+0xf3v0o+0xf3v0oAloqL7TF/e/Sj7TF/e/SgCWiovtMX979KPtMX979KAJaKi+0xf3v0o+0xf3v0oAloqL7TF/e/Sj7TF/e/SgCWiovtMX979KPtMX979KAJaKi+0xf3v0o+0xf3v0oAloqL7TF/e/Sj7TF/e/SgCWiovtMX979KPtMX979KAJaKi+0xf3v0o+0xf3v0oAloqL7TF/e/Sj7TF/e/SgCWiovtMX979KPtMX979KAJaKi+0xf3v0o+0xf3v0oAloqL7TF/e/Sj7TF/e/SgCWiovtMX979KPtMX979KAJaKi+0xf3v0o+0xf3v0oAloqL7TF/e/Sj7TF/e/SgCWiovtMX979KPtMX979KAJaKi+0xf3v0o+0xf3v0oAloqL7TF/e/Sj7TF/e/SgCWiovtMX979KPtMX979KAJaKi+0xf3v0o+0xf3v0oAloqL7TF/e/Sj7TF/e/SgCWiovtMX979KPtMX979KAJaKi+0xf3v0o+0xf3v0oAloqL7TF/e/Sj7TF/e/SgCWiovtMX979KPtMX979KAJaKi+0xf3v0o+0xf3v0oAloqL7TF/e/Sj7TF/e/SgCWiovtMX979KPtMX979KAJaKi+0xf3v0o+0xf3v0oAloqL7TF/e/Sj7TF/e/SgCWiovtMX979KPtMX979KAJaKi+0xf3v0o+0xf3v0oAloqL7TF/e/Sj7TF/e/SgCWiovtMX979KPtMX979KAJaKi+0xf3v0o+0xf3v0oAloqL7TF/e/Sj7TF/e/SgCWiovtMX979KPtMX979KAJaKi+0xf3v0o+0xf3v0oAloqL7TF/e/Sj7TF/e/SgCWiovtMX979KPtMX979KAJaKi+0xf3v0o+0xf3v0oAloqL7TF/e/Sj7TF/e/SgCWiovtMX979KPtMX979KAJaKi+0xf3v0o+0xf3v0oAloqL7TF/e/Sj7TF/e/SgCWiovtMX979KPtMX979KAJaKi+0xf3v0o+0xf3v0oAloqL7TF/e/Sj7TF/e/SgCWiovtMX979KPtMX979KAJaKi+0xf3v0o+0xf3v0oAloqL7TF/e/Sj7TF/e/SgCWiovtMX979KPtMX979KAJaKi+0xf3v0o+0xf3v0oAloqL7TF/e/Sj7TF/e/SgCWiovtMX979KPtMX979KAJaKi+0xf3v0o+0xf3v0oAloqL7TF/e/Sj7TF/e/SgCWiovtMX979KPtMX979KAJaKi+0xf3v0o+0xf3v0oAloqL7TF/e/Sj7TF/e/SgCWiovtMX979KPtMX979KAJaKi+0xf3v0o+0xf3v0oAloqL7TF/e/Sj7TF/e/SgCWiovtMX979KPtMX979KAJaKi+0xf3v0o+0xf3v0oAloqL7TF/e/Sj7TF/e/SgCWiovtMX979KPtMX979KAJaKi+0xf3v0o+0xf3v0oAloqL7TF/e/Sj7TF/e/SgCWiovtMX979KPtMX979KAJaKi+0xf3v0o+0xf3v0oAloqL7TF/e/Sj7TF/e/SgCWiovtMX979KPtMX979KAJaKKKACiiigAooooAKKKKACiiigAooooAKKKKACiiigAooooAKKKKACiiigAooooAKKKKACiiigAooooAKKKKACiiigAooooAKKKKACiiigAooooAKKKKACiiigAooooAKKKKACiiigAooooAKKKKACiiigAooooAKKKKACiiigAooooAKKKKACiiigAooooAKKKKACiiigAooooAKKKKACiiigAooooAKKKKACiiigAooooAKKKKACiiigAooooAKKKKACiiigAooooAKKKKACiiigAooooAKKKKACiiigAooooAKKKKACiiigAooooAKKKKACiiigAooooAKKKKACiiigAooooAKKKKACiiigAooooAKKKKACiiigAooooAKKKKACiiigAooooAKKKKACiiigAooooAKKKKACiiigAooooAKKKKACiiigAooooAKKKKACiiigAooooAKKKKACiiigAooooAKKKKACiiigAooooAKKKKACiiigAooooAKKKKACiiigAooooAKKKKACiiigAooooAKKKKACiiigAooooAKKKKACimGeIEgyoCOoLChZonbCyIxPYMKwWJoOXKpq/qh8rH0UUVuIKKKKACiiigAooooAKKKKACiiigAooooAKKKKACiiigAooooAKKKKACiiigAooooAKKKKACiiigAooooAKKKKACiiigAooooAKKKKACiiigAooooAKKKKACiiigAooooAKKKKACiiigAooooAKKKKACiiigAooooAKKKKACiiigAooooAKKKKACiiigAooooAKKKKACiiigAooooAKKKKACiiigAooooAKKKKACiiigAooooAKKKKACiiigAooooAKKKKACiiigAooooAKKKKACiiigAooooAKKKKACiiigAooooAKKKKACiiigAooooAKKKKACiiigAooooAKKKKACiiigAooooAKKKKACiiigAooooAKKKKACiiigAooooAKKKKACiiigAooooAKKKKACiiigAooooAKKKKACiiigAooooAKKKKACiiigAooooAKKKKACiiigAooooAKKKKACiiigAooooAKKKKACiiigAooooAKKKKACiiigAooooAgmvIYerbjnGF5Iqu2qKD8kRI9ziqNx/x9S/75/nUdfkeO4szH204UmoJO2ye3rc740IWuy++qOcbI1Hrk5pn9pzf3Y/yP+NU6K8eXEWazlzOs/wAF+SNPY0+xZN/ckkh8ewUcUn2+5/56f+Oiq9FcrzfMW7+3n/4FL/Mr2cOxcGpzgAEIfcg80f2nN/dj/I/41ToroWf5olb28heyh2NFdV6b4vqQ1TJqNu2clk+o6/lWRRXoUOLc1pfFJS9Uv0sQ8PBm4LmAgESpz6sKcs0TthZEYnsGFYNFerHjjEJrmor73/wTP6su50NBIAJJwB1JrnqK6Hxy7aYf/wAm/wDtRfVfM3ftEP8Az2j/AO+hTWu4EGTKv4HP8qxKK5Zcb4q3u0o3+f8AwCvq0e5s/b7b/np/46aY2pQKcDc3uB/jWTRXJPjPMpKyjBeif6tj+rwNJtVAb5YiR6lsVHJqbsmI02H1zmqNFedV4mzaonF1bJ9kl9ztdffctUaa6Fj7fc/89P8Ax0Ufb7n/AJ6f+Oiq9Fef/a2Y/wDP+f8A4FL/ADL9nDsTteXDjBlP4cfyqJ5Hkxvdmx0yc02iuetjMTX/AItSUvVt/mNRS2QVYsP+P6P8f5Gq9WLD/j+j/H+Rroyn/kY0P8cf/SkKp8DNmiiiv388oKKKKACiiigAooooAKKKKACqmragulaPdX7xmRbaJpCgOC2BnFW65T4haMmp+Gbm5a7uoDZwSSBIJNqy8dHGORxWlKMZTSlsY4icoUpSgrtI1vDWup4k0GHU4oGgWUsBGzZIwSOv4VyfizX9fuvG1t4Y8OXMdizxeZJO6gk8E9wcAAdhnNVvhl4Zjk0G01c6jfq7CVPs4l/dDkrnbjr3+tYM3hOJPitDov8AamolGg3/AGkzDzh8pON2OnHpXo06VKNaeuyfT+tjxa2IxE8LSbVuZq7Tte/5X/A7bVLLxvb+GbGDS9QhutTWU/aZiqLuTPGNwxgd+9ddB5ot4/tBUzbB5hTpuxzj2zXnXxIin8P+CdLtbK+uyY7kJ5zynzHGGPzEYzWp8QPE13oPhq0i01it9fkRRuOqDAyR78gfjWDpSqqCjbVvpY6o14UJVHO/uqPW/wB3n59Tta4/wP4rv/EmoaxBfxwItlKEj8pSCRlhzkn0FZln8OdTs7RL+LxJfDWgPMJZy0TN12kHkjtkn8Ky/hXA+of8JNBcs8ElwVWRojhkJ35wexFUqNJUptSva3y1Jlia7xFKMouN76X30NHW9b8Sa149m8OeHLyLTo7WPfJKygluASc4PqBgV3elw3lvpVvFqdyLq7VAJpgoAdu5AAH8q8i03wnFcfFHUdHOqaiiQQ7hcpMBM3C8Fscjn9BXsVlbCysYLZZJJRDGEDyHLNgYyT3NLFqEIxjDsun43Hl8qlSdSpUvu1vpo9reXcmoory3xLfz658SG8PajrEmkaXFGCPLk8vziVB5J4yc8ZyOOma5qNF1ZNXtZXO3E4hYeKdrtuy9fU9SorhtN8Hax4e8QW1xoGsyXOlP/wAfNvfTFsj1XAwTjocDpVbxPd3MXxc8PQR3EqQyIN8auQrct1HQ1oqClK0ZX0b+4yli5QhzVIWd0vv6pnoVYnjHWbnQPCt3qVksbTQ7dolBK8sByAR61W+IM0tv4D1KW3keKRUXDoxUj5x3FcvqE0k/wDSWeR5JGiQs7sST+99TToUVLlm9nJKxOKxLhz0o7qDlc7fwzqc2s+GbDULpUWa4iDuIwQoPtnNateWeGPBt74n8K2VxqusXdrbLFstLa1baqqCRvbPUk5/DvVzwbqeq6H4zufCOt3b3qBC9rM5JOMZHJ5wR27EVdTDxvPklqunl/wAAzoYyajT9rBpSsk/O3VdLno9FeTWUWsa78RvEGk2+rXFpaGRjM6OSyIG+6nPy5J6+lV7+y1vwT4wtdL0TWJpodVXZH9pO7yyTt3EdMjqDT+ppvl59bXE8xajz+zfLe17re9tj2GsLxcniF9GA8JvGl55g3b9uSnfG7j061wXi/wALaj4R09PEGneIb+e5ikUTGaTO4k9R7Zxwc1s+P9WuZvhhZajBLJbzXDQOxicqRuUkjIohQSlCUGmm7bfoFXFt06kKkXFxV9H08mdzp4uhp1uNRKNdiNfOMf3S+OcfjViuC8Za9qOi/DbT7jTpGSe4jhjefqyApknPqcdfes608CDUNETUtC8V3s+qFA4m+05jL45Bx8w9OSfpULDpx55ysm7bf1Y0ljJKfsqcOZpJvW3/AA7PTqK5TXNS1vQPhzNd3bQy6rDEFeWEFkyWA34IHY56YzXK+HvCMXijQU1M+Kr+TVpE3kpcgiF+wZfvcfUe1TDDpxc5Ssr27l1MZJVFThC8mr2vb+mekayNQbRboaMyLfGM+QZOgb8ePzqp4WXW00GIeJ3R7/c24pt+7njO3jP0rIki13TfhrqMevXcc17DbSbLiB2LFdvBJIHzD1ql4T119M+Eo1e8d7h4Flb945Jc7yFGT74FP2T9m1Gz9639PsT7ePt05XXut26LXqu53lFeW6B4U1Lxtp/9ueI9bvY/tJJt4bd9qoucZweAOOgH41d8K6pqvh/xvL4S1u9e+hdN9pcSElumQMnnBAIx2IpywyXMoyu47oUMc24ucGoy2d112uulz0WivKCNZ1b4qa1pNhqk1nDIv7yQMSYkAUnYM8EnAz7moPEek6j8Ob6x1XStYu7m2lmCSw3D53Hrg9iCM9uKpYRNqPNq1dIzlmLUZT9m+WLabuu9tup23irxrD4fnj0+0tZb/VZ1zDbRqe/Qk/geBzx261S+H3i7VPE8upR6vDbwvZsihYUIwTuyDkn0rrIrS1a7/tBbdPtMkYQzFfm29QufTmvPPhR/yGPEv/Xwv/oT0QVOWHnaOqtr8x1JVo4uneXuyvp6L8z0yiivNNWvNV8beOrjw7pt/Jp+m2IP2mSE4aQjg9OvJwB04zXPSpOo3rZLVs7MRiFRS0u27Jd2el0V5vceEPEPhTULW88I393qUJfFxZ3My4I9eSAfT1FP+JWt38GpaRpEN6+lWl6c3F0pwVG4AjI6AdTz3rVYZTmowkmn+nkc8sa6dOUqsGmrejvtZ7evY9Forzr/AIQK+sRbah4L8R3Ek28F/tdxvilX/gI5Htg1J8TxqNjp+m65ZzyRS2cqi4SGRgjZwRn1GRjn1oVCMpqMZbjli6kKUqk6duXzvdeT8j0Giud8Q+I47PwDPrNu+POtgYDn+Jxhfyz+lVvhvZXVt4Ot57+aaae8JmJlcsQp+6OfYZ/GsvZNU3N97G/1hOsqUVe6vfy6fedXRRRWJ0hRRRQAUUUUAFFFFABRRRQAUUUUAFFFFABRRRQAUUUUAFFFFABRRRQAUUUUAFFFFABRRRQAUUUUAFFFFABRRRQAUUUUAFFFFABRRRQAUUUUAFFFFABRRRQAUUUUAFFFFABRRRQAUUUUAFFFFABRRRQAUUUUAFFFFABRRRQAUUUUAFFFFABRRRQAUUUUAFFFFABRRRQAUUUUAFFFFABRRRQAUUUUAFFFFABRRRQAUUUUAFFFFABRRRQAUUUUAFFFFABRRRQAUUUUAFFFFABRRRQAUUUUAFFFFABRRRQAUUUUAFFFFABRRRQAUUUUAFFFFABRRRQAUUUUAFFFFABRRRQAUUUUAFFFFABRRRQAUUUUAFFFFABRRRQBhXH/AB9S/wC+f51HV27tY4naSSYguxIUJnv9feqVfgOaYSthcVONZJNtu1099VezdvmerCSlHQKKKK8wsKzPEWvWvhvQ59SvclIxhUXq7HoorTrzj4tHz38P2L/6q4vRvHr0H/sxrtwNCOIxMac9nv6LUmTsriQ638R9QsBq9npunx2rL5kdo+fMdPz9PcfSuo8H+K4fFekG4WI29zC3l3EBP3G/wrfRQiKqDCqMADsK848HAWfxZ8T2cPywuBJtHQHIP/sxrs5qWLo1Wqai4K6t2vZp999ydYtanpFch4v8YXekalaaLoNmt7q14Mosh+RF9TyPQ9x0rr684+ILJ4d8U6Z4pt7iBrmJfJeykYh505+7gH+8f0rmy6nCriOWSvo7Lo3bS/kObaQt94i8c+FY0v8AxFZ6fe6duAmNoSHiz/n0P1rvrS+t73TYr6BwbeWMSq/+yRnNeW+KvHTeI9Ni0QWEujJfFRJdakpRFXOeMDn68V6Zpem29hoNrp0REtvFAsQJ5DrjGfxrqx1FQowlVgozbe2zX5XuKL10ZxEXizxX4ru7lvBtnZwadbyGMXV4TmUj0/8A1fjWh4Z8YanL4hk8O+K7KO01IJvikh+5Kv5n/OeldTa2en6JYNHaQw2VrHl2CAIq+prg9EdvGfxMfxBaoV0vTIzBDKRjzn56fmT+VVCVCvTqWpqMIrR9b9LvrfsLVNa6nT+MvFcfhTSUnEBubq4fyreEHG5vf2rnJtT+JNlYnVLiy0uWFV3yWaZ8xV6nv1x7n6Ve+J+nR3Gg2+oG9htJ9OnE0RnOFkP93jnPHFYd98V5p/DZKaFc281wnl/aZQfs6k8bt2Mn6YrXB4dzoQlRpqbbalf8Larp21FJ66s7zwz4gt/E2gw6laqYxJlXjY8ow6iua1rxlrF54lk8P+C7OG4ubcf6Tc3H3IvbqOn4/StPwFpUGh+CYI7W6ivN4aZpojlGY9h9MYrA+ECia01u/fmaa+IZu+MZ/mxrGNKhTlXrRjzRg7RT8319Crt2RNaeMdf0LxBbaX43tLdYrw7YL22+7u9D/kEV1niKbW4dL3eGre3uL3eBsuDhdvc9R/OuX+MECP4JWcj95BcoyN3BORXZaVM1xo9nM/3pIEY/UqKyr+zdKniowSbbTXRtW6eaYK93E4r+0Pij/wBAfR/++/8A7ZVjwD4s1vxJqWpQavb2iR2WE8y2U4L5IIyWIPTtV74heIW0HwxILY/6beHyLdR1yepH0H64q14K8PL4b8L29mw/0hx5tw3q56/l0/CtalSnLBOpOnFOTtGyfTd7/IST5rXOgooorxDUKt6dGzXQcfdTr+IqpTldkOUYqfUHFduX4inhsXTr1E2otOy021X4kzTlFpG/RRRX9CHkhRRRQAUUUUAFFFFABRRRQAVj+LlLeDdWCgk/ZJOB/umtikZQylWAKkYII61UZcsk+xFSPPBx7nD/AAr1OxfwbaWK3cJu0aTdB5g3j5ic7euMHrVC4/5L7bf9en/tNq6qw8E+H9L1canp+ni3uhnDJK4UZGD8ucd+mKuN4f0x9fXW2ts6gqbBN5jcDGMbc46H0rsden7Sc4395P72ebHC1nRp05WvBrvsvlucb8ZP+RZsf+vwf+gtUHxUtZk0nRNWiQvHYyjzAO2dpB/NcfjXdazoOm+ILaO31e2+0RRvvVfMZMNjGflI9auTWsFxaNazwpLAy7GjcblYehBpU8Sqahp8N/xHWwUqsqt3ZSSt6ox18aaA2ijUv7TthFs37PMG/OPu7eu72rjfhDM1zqPiGeRSjSzI7KRggkucV1Fp8OfC9lqC3kGmDzEbcivK7Kp9dpOPzrV0vw/pmi3F1Pplt5Ml4++dvMZt5yTnknHU9KHUoxpzhC+tt/UFQxVStTqVbe7fa/VW7HE6L/yXTWP+vb+kdekVmw+H9Mt9dm1mG223867JJvMY7hx/DnHYdq53VNK+IE2qXMmla/YwWbSEwxPEpZF7Anyz/M1M3GvJWdrJLXy+8ump4SErxcryb08/Wx2lcNrk/g7xH4mk0TXbdor+3XC3Ep8rPcBWzz1yARioho3xMyM+JdOx/wBcV/8AjVdJrHhLRvEKxtrVkk86LtEysUb81xkexoioUZXcr/4en5BUlUxMOWNO1uk0rP7rnmt5ax+CfGWlW/hHWJroXUoWezMocAFgMHbxyCcZGRjNa3j25TSfiZ4e1S8BW0RQGkxnGGOfyDA12Gi+CtA8P3H2jTbBVuMYE0jF2H0yePwq/q+iadr1n9l1a1S5iB3ANkFT6gjkfhW7xUPaJu70ab6u5yxwFVUZRTSbaaWrSt/mcd8RfFWjz+Dbmzsb+C8nugoVLeQSbQGBLNjoOO9ULv8A5N9i/wCuKf8Ao6uttvAPhm0sri1g0tRHcqFlzK5ZgDnG7OQMgdCKvP4b0p/D40NrXOnABRD5j9Ad33s56+9Sq9GEYxjfSVy5YTEVZznUa1g46X/yOd+H/ifTH8HWdtd3sFrcWkeySOeQIcDowzjIIxzWJpFynif40S6npv7yysYSpmHRvlKj8yTj2FdbffD/AMNajDbxXGnAC2jEcbJIysFHQE5yfxzWrpGiadoVn9l0m0S2izkhcksfUk8n8aTrUo88oJ3lf5XKjhcRL2dOq1yws9L3dtjhvBv/ACVrxR/wL/0MUeOv+Sm+Ff8AfH/oYrtrLw/pmn6tdanZ23l3l3nz5PMY7+c9CcDn0FF/4f0zU9TtNQvbbzbqzOYJPMYbOc9AcHn1pfWIe15+lrfhYPqVT6v7K6vzX+XNc574rf8AJP7r/rrF/wChCsPxr/yRjSf922/9ANehatpFjrmntY6pB59u5BZN7Lkg5HKkGoL3w3pWo6LDpN5a+ZYw7RHF5jjG0YHIOenvSo4iMIwT6O5WJwdSrOpKLXvRt87sxdV1nSNI8Dab/wAJBayXVncwRRMiRhxnYDzkjHTr7Vy3iDwj4TsdEl1vQdZaxlSPfb+VdBlduyj+LJ6cHivTJtLsbnSxp1xbJLaBBH5Ug3DaBgdfT161zsfww8JxXAlGmFsHIRp3Kj8M8/jVUa8Ia3a16bMjE4SrV05YvSyvdNP1S/yKWgeJynwvj1XxRFLdx/NFIRGHMqbtoJB4Ppk1k3PhDwNqmkf2xpmonSwY/MDJcjEbYzhlJJBB7Aj2r0o2lubP7IYIjbbPL8nYNm3GMY6Y9q5h/hh4Te4806aRzkos8gU/hminiIKTkm43fTa3awVsJVlGMWozsre9dO/e+pzXhnVtR1X4T69/aU0lwII5I4ZpCSzLszjJ64/rUmjadNqvwJktbZS0pWR1UdWKybsfpXoP9j6eNHbSktUSxaMxmGP5RtPUcc/jS6XpVlounpY6ZD5FtGSVTezYycnkkmiWKjq4q3vJ/cOGBnopyuuRxffU5P4d+J9Kl8G2lrPewW9xZqY5I5pAh4JweeoxWPa3Mfir40R3umHzbPTYdrzr91iARwfctgeuK6vU/h74a1a9a7utOCzOcu0UjJvPuAcfj1rX0nRNO0Kz+zaTaR20WckLklj6knk/jQ61GLlOF7y+5X3COFxElCnVa5YNO6vd229PM4Xw7/yW7X/+uB/9p1J8ZP8AkWbH/r8H/oLV2Vt4f0y01y41e3ttl/crtll8xjuHHYnA6DoKXWdB03xBbR2+r232iKN96r5jJhsYz8pHrSWIgq0KnRJfghvB1HhalG6vJt/e7ly2/wCPSH/cX+VecfCj/kMeJf8Ar4X/ANCevS1UIgVRgKMAVm6T4d0vQ5rmXS7XyHum3THzGbceT/ETjqelYwqqNOcX1t+Z01aEp1qVRbRvf5qwyx8UaPqWs3GlWV4st5bZ8yPaR0ODgkYOD6VwWjXkHhP4s6xBrEi28Oo5eGeQ4Xltwyew6j6iu+sfDOkabrFxqllZLFeXOfMkDMc5OTgE4GT6U7WvDuleIYFi1ezS4CHKMSVZfowwRVwqUoNxV+Vqz7mVWhXqRjNtc8Xdb2t2fyMnxD4+0zRZLaC026pdXLhFgtpQSPckZ744qLxdqnhp7qy0XxXaMRdAPHK4wkR6Z35BX04/GrujeBfD2g3QutPsALhfuyyOzlfpk4H1FaOr6FpuvWot9XtEuYwcruyCp9iOR+FCnQjJct9OvX+kN08VOnLn5bvZbr5+v4Hlfi3QdJ8G20Wp+FdcmgvGkG23S4D719RjnH1yDXpM9nJ4k8EfZtQQJNeWalwR92QqDn8DVPTvh14Y0y7W5g00PKhyhmkZwp+hOPzrp6qtiFJR5W211e5nhcHKm586SjLTlV2vU8HttQutf0rRfBbB1lhvmWfjogPH5Zf8hXusMSQQpFEoVI1Cqo7ADArKtfCmi2euSaxbWKpfyFi03mMclup2k4GfYVsUsTXjVa5FZfq9ysDhJ4dSdR3bsvktgooorjPSCiiigAooooAKKKKACiiigAooooAKKKKACiiigAooooAKKKKACiiigAooooAKKKKACiiigAooooAKKKKACiiigAooooAKKKKACiiigAooooAKKKKACiiigAooooAKKKKACiiigAooooAKKKKACiiigAooooAKKKKACiiigAooooAKKKKACiiigAooooAKKKKACiiigAooooAKKKKACiiigAooooAKKKKACiiigAooooAKKKKACiiigAooooAKKKKACiiigAooooAKKKKACiiigAooooAKKKKACiiigAooooAKKKKACiiigAooooAKKKKACiiigAooooAKKKKACiiigAooooAKKKKACiiigAooooAKKKKACiiigDL1OUPKsYBymc/jiqVWL/8A4/pPw/kKr1+DZ5WnWzOvKe/M18o6L8EepSVoIKKKK8c0CuD+LGnXE+gWmp2aF5NMuBMygfw9z+BArvKR0WRGR1DKwwVIyCK6cLXeHrRqpXsKSurGDY+NNCvNCTU21K2ij2BpFeQBkOOVI65/nXMfDZJNX8Ra94oeMpDeS+XBuHUA8/oFral+GXhKa8Nw2lAMTuKJK6oT/ug4H06V09tbQWdtHb2kSQwxjakaLgKPYV2TxGGpUpww97z720V72Vt/Ui0m1cz7fxLpF3r02jW94r38Ay8W08evOMHFcHf3Vtp3xxFx4iZY7ZrYCzlm+4jYGDk8Dndz6mu+t/Dmk2uuTaxb2SJfzrtkmBPP4ZwPqKfq+haZr1qLfV7OO6jHK7xyv0I5H4VNDEYehUfKnyyjZ7XTe7Q2m0c78QdY0FvBd9Dd3drO8sZ+zxrIrMX/AISMZ6HvVv4fC6g+H+nHVCUdYiwL8bY8krnP+ziksfhx4U0+6W4g0lGkU5XzZHkA/BiRXSyxJNA8Mi5jdSjL0yCMYpVq9BYdYeldq923ZdLaK7/MEne7PKtd8U2/jjXDosOrW+maFA2bm5mnWNrnB6LkjI//AFntXeaPqfhm1t7fS9G1TTSqjZFBDdIzN+AOSazv+FW+Dv8AoD/+TU3/AMXVjT/h74X0vUIb2w0zyriBt0b/AGiVtp+hYiurEYjAVKSp03NJbKy37vX+uhKUk7s5j4nssHifw5caorNpEcp87jKhsjqPp/Wuzvdf8PDRZJrrUbF7JoyCPNVg646Ad/pWle2NrqVo9rf28dxA/wB6ORcg1zKfDDwjHcCUaSCQchWnkK/kWrCOIw1WjThW5k4X2trrfq1Z/eO0k20ZHwfSY6DqLbXWwkuybVX9Mc4/T8ap+CNQg8I+KtZ8O6xKtr5s/n20kp2q4PufUY/I16ZBBFbQJDbxpFEgwqIuAo9ABWZrnhbRvEaINYsUnZOEkyVdfYMMHHtVvH06tWr7WLUKltt1bZ+fmHI0lbocV8S9Yt9dFh4Y0aeO7urq5UyiFgwjA9SO/OfoK9HtoFtbOGBfuxRhB9AMVk6H4O0Lw5I0mk2CxSsMGVmLtj0yxOPwrYliWeF4pM7HUq2GIOD7jkVzYmvSlThQo35Y31e7b3dvyHFO92ecWP8AxXHxQlvm+fStD+SH+68mev58/gK9KrP0bQtN8P2RtNIthbws5cqGZiSe5LEmtCoxmIjWmlTVoxVl/XdvUcVZahRRRXGUFFFFAGlYXM007LI+4Bc9B6ir9ZWmf8fTf7h/mK1a/aeFq9WvlqnWk5O71bbf4nnV0lOyCiiivqDAKKKKACiiigAooooAKKKKACiiigAooooAKKKKACiiigAooooAKKKKACiiigAooooAKKKKACiiigAooooAKKKKACiiigAooooAKKKKACiiigAooooAKKKKACiiigAooooAKKKKACiiigAooooAKKKKACiiigAooooAKKKKACiiigAooooAKKKKACiiigAooooAKKKKACiiigAooooAKKKKACiiigAooooAKKKKACiiigAooooAKKKKACiiigAooooAKKKKACiiigAooooAKKKKACiiigAooooAKKKKACiiigAooooAKKKKACiiigAooooAKKKKACiiigAooooAKKKKACiiigAooooAKKKKACiiigAooooAKKKKACiiigAooooAKKKKACiiigAooooAKKKKACiiigAooooAKKKKACiiigAooooAKKKKACiiigAooooAKKKKACiiigAooooAKKKKACiiigAooooAKKKKACiiigAooooAKKKKACiiigDGv/8Aj+k/D+QqvW3JaQSuXdMsepyaY2n25XAQqfUMa/L8fwjj6+Jq14SjaUpNK7vq2/5bX+Z2xxEFFJmPRWr/AGZD/ek/Mf4Uf2ZD/ek/Mf4V5f8AqhmnZfeafWIGVRWr/ZkP96T8x/hR/ZkP96T8x/hR/qhmnZfeH1iBlUVpNpQLfLKQPQrmmnSjg4mye2V/+vXPLhbN4t/ur/8Ab0f8x+3p9zPoq0+nXC4wFf6Hp+dV2RkOHUqfQjFePicBi8J/HpuPqtPv2NIzjLZjaKKK4igooooAKKKKACiiigAooooAKKKKACiiigAooq/BppdQ0zFc/wAIHNehgMtxWYVPZ4aN2t+iXq/6ZEpxgrsZpn/H03+4f5itWmxxJEMRoF+g606v2fJMunluDWHnK7u3p5nnVJ88roKKKK9ozCiiigAooooAKKKKACqupX8WmWEl1MCyoOFXqxPAA+pq1TJIo5l2zRrIuc4ZcjNAGHJqevW0BvbnTbY2wG54o5SZUX16YOPStKfV7W30xL9mZopADGEUszk9AB61U12+YqNKsQHvbpSoHaNO7tWhZ2cdnY29so3LAgVSR6DGaAM3R9budR1S6tbqy+yeSiuqlsthumfStqsDTv8AkdtW/wCuMX8q36ACiuXisBqXijVobmST7MBHujRyu87e5HOPao7TS1Gu3mjC4n/s6ONZhD5pzk8bd3Xb7UAdZVOzfUGuroXscKQq/wDo5jJyy+9ZWm2o0jxNJYWkkn2SS280RO5YIwbHGaNLYm78Q5JOJjj2+SgDoaK5PQdBt9U8O2kupyTTMU/dgSsojGT0APX3NXtEkn/se+triZpjaySQrI5yxUDjNAG9QTgE1keFSW8L2RYkkx8k/U1T0e1iv7PVoLoM8bXr5AYjpjuKANjTNRi1SxF1ArqhZlw4GeDjt9Kt1y/gzTLSPTUvlRhPvkTdvbGNxHTOO1UxfaRq91cTa9qG1VlZIbXzWRUUHG446k0AdpRXNeH76BdYuNOsr03ln5QliLMWMZzgrk9qoxf2XeahdJ4nuJI71ZmEaSzNGiJ/CVwQKAOzoqppdu1rYJE1212oJKSt1K9hnv8AWprpJJLSVIZvIdlIEu3Oz3xQBLRXFXkXh60tHZdWkk1FUJW4S4d3L/QEjrWlc6tdP4TsZYX2Xd95cQf+6W6tQB0dFYD+Gbe0tnnsprhL1UJ89pmbecdGBOCDVS11Cax8A2kluf8ASJQsUbNzhmbGaAOqorAPhO2EHmLcXQv9uftfntuLeuM4x7Vd0C/k1HR4prj/AFykxyYHVlOCf0oAfrWoPpelyXUaK7IVG1jwcnFXkO5FPqM1i+L8/wDCMXO3k5XH/fQpn/CL29zbrPcz3Bv2XP2lZWUocfwgHAA9KAN6iuWL3WreD5Hdib6ykOHHG54z1/EVd1TVfM8Krc2p/e3iLHEB/efj9OaANyuY8d+Kp/Cek295bW8c7SziMrISMDBPb6Vv2Fqtjp8FsvIiQLn1Pc1yfxHjWWLQY5FDI+qxKynuDnit8PGMqqUldHJjJThh5ODszq9OvotT0y2vbc5iuI1kX6EZrm/HnjRvCNvaC2hjnublzhJCcBB1PHuRTPA0jaXdan4YuGO7TpjJbE/xQPyPyJ/WuP8AFf8AxP7PxD4hf5re2kjsLI9sK43sPqf5100aEfb2lrH877HFicXU+q3hpN3+Vt/yt80euxOZIUc8FlBp9c94js/tvh+3SXW/7HtAUNxKCFMiY+4HJG3P41wWqXvhfw/dWVx4K1KQX63KLNFHNI6Txk/NuJyv5VjSw/tdnr6fmzor4z2D95K3qk/kuv4Hr1ZuvS6vDpLv4eggnvgw2pcHCkZ57jnHvXKeOLWa/wDG3hq0gupbQzCZWliOGVcDOPQ4yM9qj8ZeH9P8N/DnUIdKSSNZZonkLSMxZtyjOSadOjG8LvWXS3nbuKtiZ8tVKOkb6312vpozvoDKbeM3AUS7RvCHIDY5x7Zp9cR4pzo+reH/ABGhIjiZbS6/65uOCfoc1L4yJ1jXtE8ORE7J5vtV1g/8sk7H6mpVHmad9Hf5W3NJYrlUlbVWS877f15HZUVyfi3TdPury3k8Q68LLSkQj7B5nlCZvUtnLD2ArndA1LR7H4gWNh4PvpZdNu4pBcWxd2jR1GQy7+/FOOH54cyfS+2n3k1MX7OqoSSs2lur6+Xb538j06uR1bVvGGnRXl0mm6W1nbh5AxnfeUGTnHriuurK8U/8ijq3/XnL/wCgmsqTSkk1e5viIt021Jq19jC0jWvGOrWdpfR6ZpQtbhVcEzvuCn29cVumXXP+EoEQt7b+xvIyZtx83zPTGf6fjVfwT/yI2j/9eqfyrKyf+FzYycf2T0/4HW8kpTmkkrXOWLlClTlKTfM49uvy2OyorzbRvD0HiHxX4oi1OaZ7KO95tklKK7HPLEcnHYU3Q/DqXniLWfDd3e3cui6cyvFamYjJcZwWHJUdhnrzQ8PBXvLZJvTv8/MFjKkrWh8TaWvVX8ttP+Ael0VxHhW1/sDxxqug2k8raalslzDFK5byiTggE9uaq6PpMXj+a91bxBJNNZrcPDZ2aSskaKvG47SMsf8APtLoJNtvTTp38v8AgmixUpJKMfebatfTTfW23yPQaK4vQxP4a8bP4cFzNcadc232m0EzFmhIOCgJ7Vj+FvDVv4iude/teaeWzj1OUJapKyKWzyzYIJ4wB6c+tHsIq7ctNHt3F9bk2oxh7zbVr7Nedj0ysrRJdcla8/t63toQs5Ft9nYndH2J5P8AT6Vz/hCKXRfF2seHo7iWawt4457dZW3GLd1UH0rN0VifCXjU5PF1dY56fLVextdX7fiT9abcZNNP3rq/b5a+R6PRXnnh3wNYa74P0+61me6nuZLdfJdZmUW64+UIo49znOTWr4Iu9Q1LwXNFcXp+128stql267yNvAYg9cZ7+lROjGKfLK9nZ6F0sTObipQtzK61v232tuddRXld9YeCbGykbUPEcl5rW0kX8Vy7yCTtgISBz2P512ngbU7jV/Ben3l65knZCruerbWK5PvxRUockOdXttqrfcFHF+0qezaV7X0d/v7P7zoKKKK5juCiiigAooooAKKKKACiiigAooooAKKKKACiiigAooooAKKKKACiiigAooooAKKKKACiiigAooooAKKKKACiiigAooooAKKKKACiiigAooooAKKKKACiiigAooooAKKKKACiiigAooooAKKKKACiiigAooooAKKKKACiiigAooooAKKKKACiiigAooooAKKKKACiiigAooooAKKKKACiiigAooooAKKKKACiiigAooooAKKKKACiiigAooooAKKKKACiiigAooooAKKKKACiiigAooooAKKKKACiiigAooooAKKKKACiiigAooooAKKKKACiiigAooooAKKKKACiiigAooooAKKKKACiiigCOS3ilzvjUk9Tjn86hfTrdsYDJ9D1/OrVFefXyzBYht1aUW31sr/fuWpyWzKDaUC3yykD0K5qI6XLk4dCO2Sa1KK8irwrlNR3VO3o3+rZar1F1Mb7Bc/88/8Ax4UfYLn/AJ5/+PCtmiuD/UrLv55/fH/5Ev6zMxvsFz/zz/8AHhR9guf+ef8A48K2aKP9Ssu/nn98f/kQ+szMcWFySAUx7lhxT/7Mm/vR/mf8K1aK1p8G5ZFauT9Wv0SE8RMyv7Mm/vR/mf8AClXS5S3zOgHqMmtSitVwjlSd3Fv5sX1iZn/2V/02/wDHP/r1J/ZkP96T8x/hVyiuynw3lNPaivm2/wA2yXWqPqQxWkMLBkT5gMZJzU1FFezQw9HDw5KMVFdkrGbbbuwooorcQUUUUAFFFFABRRRQAUUUUAFUdYvZ7DTJJ7S1kupuiRxqWOT3IHar1FAHIaTqZ09Hln0XWJ7yc7p5zafePoOeAPSuptLj7XaRzmGWDeM+XMu1l+oqaigDEsLeZPF+qTPFIsTxRhJCpCsR1we9bdFFAGNpsEsfiTVpXidY5PL2OVIDYHOD3otoJV8Y30zROImto1WQqdpIPQGtmigDJaGX/hMFm8t/K+xlfM2nbnd0z61X023mjuteLwyKJZiYyVI3jZ29a3qKAMrwzDJb+G7OKeN4pFTDI6kEc+hqPRraRV1RJo3jEt1IV3KRuBHUe1bNFAHLaTf32kWiaTNpF5LNCSkcsaAxOM8Et2q54Zt7qG3vhexmOSS6duVIBz3Geo963aKAOe8NvPYK2kXVlco8byOJ9mYmBbI+b15qKAv4emntrjTp7q1eVpIZreLzCAxyVYdsGumooAy9Kurm8mmlfT/sdsABF5q7ZHPckdhVGbVW2y22t6JPO6sQnk23mxyL2wfXFdFRQBjeGbOez01xPEYFkmaSKAnJiU9BU3iK0nvtBuILQbpGAITON4ByVz7itOigDmDqG/SpbPS9DuoJjEVKvb+Wicdz3/DrUiaVc3Xg2whjBhvLdUkjWQFcOvY+ldHUF7bNd2ckMc8lu7D5ZYzypoAyG1TU7u2e3XSZ7acoQ8spHlpxyQQfm+lVLHT5NS8A2kUBCzookiJ6blbIq49j4hnhNtNqNosTDa00cJ8wj6ZwDWtZWcVhYxWsAIjiUKuaAMc+IroweSujX/20jbtMX7sN67+mPer+iae2maTFbysGl5eQjpuJyf51oUUAZHimCa58PTxWyNJIxXaEUk/eHYVAddurWEW0uk3kt4q7R5UWY3Pru7D+Vb1FAGboOnyafpKxXRDTyM0suOm5jkisLTLSY+JP7NkXNppsjzxnPXf90fhk11N2lw9q62ciRTH7ruu4D8Kq6Vph09JnnnNxc3D75pSu3J6AAdgBQBoVyfjuzurz+w/sltNP5WpxPJ5UZbYozljjoPeusorSnNwkpIyrUlVg4PqcL4+sdWtNQtNc8N20k92Yns5kiQsSjA7WwPQ85+lN8Q+HJtP+Ew0ewt5Lm4QRFkhQuzvvBY4HJ5zXeUVrHESSirfC/vOaeChKU5X+JW9L729dDiPGmm3Esmg376bLqljYuTdWUab2OVADbP4selZHii/uvEOjWtroHhrUILSK7ikleS08voeAqjJI65PQY969OoqoYjlUbq9tiauC53K0rKW+i9Nzk/EFndTfEDw1cQ200kEPnebKkZKx5Xjceg/GpPiLaXN94JuoLK3luJmeMiOJC7HDjPA5rqKKzVZpwdvh/wA7m0sMpRqRv8f+SX6GRrWkjWvCdxp0gw01vhc/wuBlT+BArl/hst3q8134g1Rf3wjSxh/3YwNx/Fv610/iGw1nUYI4NG1OPT0bcs7tDvYqR/D6HrVrRdJt9C0e3060yYoFxubqx6kn3J5q1UUaLjfV/h3+/QylRc8TGdtIr730+67OO1uA6V8QJdZ1bRbjVrCa2WOB4IBN9mYdcr29c+/1piTajrPxD0K/TQ7yx02COZEaeEqwypyWA4QE4Az1r0KihYjTbW1v0B4O8tJaX5tlve+/YKzPEkUk/hfU4oI2kke1kVERcliVOAAOprTorni+VpnbOPNFx7mN4QgltvBulQ3MTwyx2yK8cilWU46EHpWZ9juv+FtfbPs032X+zNnn+Wdm7f8Ad3dM+1dZRWiqtSlLvf8AExdBOEIX+G34HJ+EbO6tvEfiiW5tpoY570NE8kZUSDB5UnqPpR4fs7qH4geJbia2mjgm8nypXjIWTC87T0P4V1lFOVZtydt0l91v8iI4ZRUFf4W399/8zlrKzuV+KOpXT28otn0+NFmKHYzBuQG6E+1Zem3N74DuL3T7rSb+/wBNlnae0uLGHzdobqjDPGK72in7fpJXVkvuE8Lb3oys7t39d0cdoVtf654vl8S6hZTafbRW/wBms7e4G2RgTlnZe30qXwJZ3Vn/AG59rtpoPN1OV4/NjK71OMMM9R711lFKVZyTVtNPwHDCqEoyvdq79WzltNtLlPibrN09vKtvJaQqkxQhGI6gN0JrJ0jTr6Lwv4viks7hJLi5uWhRomBlBXgqMc59q7+in7d9u34C+qR7/wA3/kxjeEIJbbwbpUNzE8MsdsivHIpVlOOhB6Vy+maJqlx8N9c0+KCW2u7i6nMSSqULgsD37EAjPTmvQaKSrNNtLd3HLCxlGMW9k196SPPNN1lbXQhpekeD9Qt9T8jymDWYjjDbcFmk7jqfU1u/Dy1uLLwLYW95BLbzJv3RyoUZfnPUHmumop1KynFxStd3Jo4V05qbleytsl2/yCiiiuc7QooooAKKKKACiiigAooooAKKKKACiiigAooooAKKKKACiiigAooooAKKKKACiiigAooooAKKKKACiiigAooooAKKKKACiiigAooooAKKKKACiiigAooooAKKKKACiiigAooooAKKKKACiiigAooooAKKKKACiiigAooooAKKKKACiiigAooooAKKKKACiiigAooooAKKKKACiiigAooooAKKKKACiiigAooooAKKKKACiiigAooooAKKKKACiiigAooooAKKKKACiiigAooooAKKKKACiiigAooooAKKKKACiiigAooooAKKKKACiiigAooooAKKKKACiiigAooooAKKKKACiiigAooooAKKKKACiiigAooooAKKKKACiiigAooooAKKKKACiiigAooooAKKKKACiiigAooooAKKKKACiiigAooooAKKKKACiiigAooooAKKKKACiiigAooooAKKKKACiiigAooooAKKKKACiiigAooooAKKKKACiiigAooooAKKKKACiiigAooooAKKKKACiiigAooooAKKKKACiiigAooooAKKKKACiiigAooooAKKKKACiiigAooooAKKKKACiiigAooooAKKKKACiiigAooooAKKKKACiiigAooooAKKKKACiiigAooooAKKKKACiiigAooooAKKKKACiiigAooooAKKKKACiiigAooooAKKKKACiiigAooooAKKKKACiiigAooooAKKKKACiiigAooooAKKKKACiiigAooooAKKKKACiiigAooooAKKKKACiiigAooooAKKKKACiiigAooooAKKKKACiiigAooooAKKKKACiiigAooooAKKKKACiiigAooooAKKKKACiiigAooooAKKKKACiiigAooooAKKKKACiiigAooooAKKKKACiiigAooooAKKKKACiiigAooooAKKKKACiiigAooooAKKKKACiiigAooooAKKKKACiiigAooooAKKKKACiiigAooooAKKKKACiisXxD4v0PwskZ1u+W3aXPlxhS7N74AJx70AbVFVdN1G21fTYL+wcyW1wgeNihXI9cHmotY1zTdAsftmsXSWtvvCB2BOSegwMmgC/RTY5EliWSNgyOAysOhB6GnUAFFV7W/s75pls7qG4aB/LlEUgby2/unHQ+1Y/iDxz4e8L3CQazqCwzuNwiRGdsepCg4/GgDoKKjt547m2jnhJMcqh1JUgkEZHB5FR3l/aadCJb+5hto2YIHmcKCx6DJ7mgCxRRRQAUUUUAFFFFABRRRQAUUUUAFFV7TULO/837DdQ3PkyGKXypA2xx1U46H2qxQAUUVnaxr+l6BDFLrF4lqk0gijLgncx7cD9e1AGjRQCCAQcg9DRQAUVXs7+01CN5LC6huURyjNC4YKw6g47j0qxQAUUUUAFFFFABRUVzdQWVrJc3k0cEEY3PLKwVVHqSelVNS17S9J0n+1NQvY4rI7SJuWDbumMZzn2oA0KKZBPHc28c8DiSKRQ6OvRgeQafQAUUUUAFFFFABRRRQAUUUUAFFFFABRRRQAUUUUAFFFFABRRRQAUUUUAFFFNkkSGJ5JWCIilmYngAdTQA6iqGj63p2v2P2zR7pbq33lN6gjkdRggGr9ABRRRQAUUUUAFFFFABRRUF9fW2mWM15fzLBbwqXkkboooAnoqtp2o2mrafDfadOs9tMu6ORQRkfjzVmgAoqvHf2kt9LZRXUL3UKhpIFcF0B6Er1AqxQAUUUUAFFFFABRRRQAUUUUAFFFFABRRRQAUUUUAFFV47+0lvpbKK6he6hUNJArgugPQleoFVtP8QaVquoXllp97HPc2TbbiNc5Q/j1/CgDRooooAKKKKACiiigAooooAKKKKACiimu6xRs8jBEUEszHAAHegB1FQ2l5bX9qlzY3EVxBIMpLE4ZW+hHWpqACiiigAooooAKKKKACiiigAooooAKKKKACiiigAooooAKKKKACiq739pHfx2Ul1Ct1KpdIC4Dso6kL1IqxQAUUUUAFFFBIAJJwB1NABRUFnfWmo24uNPuYbqEkqJIXDrkcEZFT0AFFFFABRRRQAUUUUAFFFFABRRRQAUUUUAFFFFABRRRQAUUUUAFFFFABRRRQAUUUUAFFFFABRRRQAUUUUAFFFFABRRRQAUUUUAFFFFABRRRQAUUUUAFFFFABRRRQAUUUUAFFFFABRRRQAUUUUAFFFFABRRRQAUUUUAFFFFABRRRQAUUUUAFFFFABRRRQAUUUUAFFFFABRRRQAUUUUAFFFFABRRRQAUUUUAFFFFABRRRQAUUUUAFc3461ebSvDVz9n068vDPDIhe1XPkfKfnY54FdJWX4n/5FPVf+vOX/wBANAHLfDbxHd3nhuwsp9I1ICK0L/bpkzHMQegbOSTn9K5oeJZpfi3Jqc3hbVpZY9OVEszCplj+b7+M4A7ZrvPhz/yTnRP+vYfzNZVv/wAl2u/+wQn/AKHQB2tpMbiyhmMLwGRAxikGGTI6EeorD8c3mkWHhprjxBpw1G0WaNfJ2g/MWwDz9a6KuI+Lv/IgS/8AX1B/6GKAOo1DVbDQ9Ee/vpFtrOCME8dB2AA79gK5WD4mCULdTeGdat9Lbn7c9v8AIq/3yB0X3qD4gqLu68I6dcH/AES51BDMp6PtXIBrvyimMoVBUjG3HGPSgDzv4e3qxp4vvbZGu1GpySIkHzGUbcgL65rA8P8AiSZPiX4j1B/DGq3M0whQQrCGktRt53DPAOM8V0XwptobKTxPbWoAhi1Z1QDoAB0p/hL/AJK141/7dv8A0CgDvlOUBxtyOh7Vw3xaIXwnasxAA1GAknt81d1XBfGGJJvBcMUnCPfwqx9iSKAJ7n4jhJJH0zw5rGp2MJIa9toMxtjqU/vAetdJoOv6f4k0mPUNKl8yF+CGGGRh1Vh2NXbWCK1s4YLdFSKNAiKowAAOK4XweI7D4leL7K3KpaAxXBQdEdgd30oAuXnxHtjqs+n6Bo+o65LbNtnks4x5cZ9Nx71peGvGNn4kmubQW11Yaha48+zu49kig9/cVg2fjWS5a4TwF4Pl1C2WZg9yrx2sMj9yCR836Vl6JdavP8cRJrllDYXEmknMEMvmDaG4y3QnOf0oA63XvG1to+qppVnYXmraky7zbWabjGvq5PC0mheN7fVtXfSb7TrzSNSCeYtveIB5i+qkcGsjVdI8SeHvGl74i8NWMGrwahGiXNpJL5cilehVjxj/ADirei+M9P1fxFBp+t6JPpGtqhMC3kQO4dxHJjnp7ZxQBq+JfF9h4YWCO4jnu7y5OLeztU3yy/QenvWVZfEeA6lb2WvaNqWhtdNsglvYsRu393d2Nc2+qa1H8X9en0vw8NamtYIoI910kPkIVySNw5yc9PT3qx4qn8Z+KPDtxpc3gTyTLgpN/akLGNgchgOP50Aeg6xrFloOlTajqkwhtoRlm6k+gA7k+lcpb/EwSbLm68M61aaY5H+nS2/yIp6MwHRffmqHi6Ke5uPA2maupCzXSG6QnIZ1QcHsec16MyK8ZjdQyMNpUjgj0oA4D4TyJLH4mkiYOj61MyspyCDjBFeg1538IYI7Wz8RW9uAIotYlRAOygAD9K9EoA469+I9ha39/p8On3t5f2k/kJa20Yd5jjJYAdFHcmm65renT+FtM1DxT4ek/f3aRpZzqGeGQkgE5x6fr3qp4IhjPxC8ZzlF80XSIHxyBgnFSfFf/kAaZ/2Fbf8AmaAOp1vW7Dw5pMmoapL5VvEMcDJY9lUdya5m1+JId45dQ8N6zp+nykAX08HyID0ZsfdHvVfxyBeeP/B2nXK7rSS4lmdW+6XRcqDXeTRRzwPDMoeORSrKRwQeooA4f4SsH8O6kyEMrapOQQcgjIqzqHxGt4tWn07Q9H1HXJrY7bhrKPMcZ9C3rWP8N/8AQPh7rn2Pj7PdXXlY5xtHH8q2fhVbQwfDuwlhwZLndNM/dnLHJNAEln8Q9Ou9Q06w+yXcF5ezNA9tOgSS3ZV3fOpPQjoR1rV8R+J9O8L2C3OotIzSNshghXdJM3oq965Txha26fFnwfdKALiR5UYjqyhePyyfzql4lv8AU0+Mlv8A2dow1mWy07fBbtcLDsLNhpAW4J7UAbCfEyK2mi/t/wAPavo1tMwVLq6g/dgnpuPau3VldAyEMrDIIOQRXnetan4z1zRLvTbn4fjy7mIxknVYTtz0OMdjzXVeDbW/svB2mWusIY7yGARyqWDEY4HIJB4xQBU+I3/JOdb/AOvY/wAxVK/u9LsfhRaXWvWH2+yitIC8G0HJwoBGfervxG/5Jzrf/Xsf5iuf8Y/8kJX/AK87f/2WgDqdZ8RWXhnw3bahJbsLVmiiSOPA2BuB14AFYt98Slt/MnsfDmsahp0Wd19BB+7YDqy56j34FU/iaiyfDCzRxlWmtQR6jiu+gijjtY4Y0VY1QKFA4Ax0oAq6JrVl4h0iDUtMl8y3mGVJGCCOCCOxBrndR+IlvDqs+naJpGo65PbHbcNZRZjiPoW9axvAc0lj4H8Tm14+y3t35IH8OBxiqHgTWPFGneD7NNI8Ei9gkBkN3/acaGdiTliCMg/X0oA7nw14xsPEsk9tHDc2N/bf6+yvI9kiD1x3FV/EPjux0PVE0q3s7zVdUdd4tLKPeyr6se1c9a2/irU/iVpWt3vhf+yIYYpILqUXscu9CCRnGDwfr1rU1Lxda2nii6sfDfh2XWdZRALqSAJEqjsryn+RoAs6R4+gvdcj0fVdKv8ARr6cFoEvEAWbHUKw6mrviLxhp/hm/sbfUxIq3gkIlGNqbFyc9+egx3rgvFGo+JLzxF4Vm13RINIjXUlEQW6E0jE4zkjgDFb3jeGOf4ieDEmRXT7RKdrDIyFBH6igDd8N+KLjxDdXCvoOoabbRqGhnvIynnZPYY49eveuhoooA4hvidZypLHpmk6hqN9HcSQ/ZLeMMw2HBdiM7VJ6ZrY1PxdZaJ4dttU1mKa2kuFXZZhd0zORnYF4yfyrn/hTBGlrr8yoBJJq8wZ8ckA8Cs7xXfamvxh09NP0Yaw9npxlgt2nWEKzMQXBbjIwPzoA11+JsdtJE2veHdY0i0lYKt3cwfu1J6bvT9a7Ke9trexe9nnRLZI/MaUn5QuM5zXB6vq3jPWNHutOufh8DFcxNGc6rCcZHXGO3Ws3xJb6np3wT03TdXVoJzNDbXI3hiE39CQSOgHegDbi+Jy3ebjTfDGt3mnAkfbIrf5WA6so7itvQ/GOneIdXurHTd8gt4Y5jNxtYP0A7gjuDWzaQRWtnDBbKqRRoFRVHAAHFcF4Ptbez+Lfi6O1AVCkLlV6Bm5P6nP40AaV78R7C1v7/T4dPvby/tJ/IS1tow7zHGSwA6KO5NaZ8V29l4TXXNft5dKXB3W0wJkByQFAwMk4rn/BEMZ+IXjOcovmi6RA+OQME4qn8SLq8Hjbwva2mnDVNrS3CWbTLEJXUDHzNxx1oAvn4oCCMXWoeF9cs9OP/L5Jb/KoPRmHYV2Ueo2cumDUY7iNrNo/NEwb5dmM5zXHT+IvGtzbyQTfD0PHIpRlOrQkEEYPak8JeGNSb4Y3Xh7XYnsZJvOiRfMWQxxt93kEg4zQA8fEo3MUl1pPhjWb/T0J/wBLjhAVwOpUE5IrptF1/T9f0VNU0+bNswJJcbShHUMOxFcTper+L/BelwaZqvhZtTsrNBGl5pkoZig6Hy+ucfSum0O90XxV4WuDoSi3t7kSRSosQjeNyMNuA/i5/GgDK/4WSLtpZNB8Oatq1nCxU3cEQCPjrsyctW/ofiLTvE+htfWO5ovmSaGZMOjDqjD1rjdIu/GHgTTY9JuvDf8AbOn2uViu9PlG8pnPMfJJ/L8a6jw1r2jeINHu7vRIBbNuYXULRCORJMc7wO/vzQAngi90i98MLc6Dp406zMsg8raFwwOCTj6VmTfEqGa7mi8P6DqmtxQMUkubSH91u9Ae9c3od1NZ/s/6pNbMVkBuAGHUZkIP6GvQPB9jb6d4O0u3s1VYxbI3y/xEjJP4k0AJ4a8Waf4ot5WshNBcW7bLi1uU2Swn0IqhqPj/AE7TdavtKktbqa7tVjKQwIHe4LjIVFBySO+eBWZdxrY/HGwe0+U6hpzi5Vf4tp+Un8qTRYY3+NviGV0UyR2UIRiOVyBnH5UAW9O+I0E2uW+lazo2paLPdHFu15HhJD6Z9a7OuE+LUanw5p8+B5sOpwGNscqc13Y5UUAY2v8AiW38Ozact5DK0d9ci2EqY2xsehbPapfEevW3hnQbjVb5WaKADKJjcxJwAM9+azPiLpTav4Fv44QftFuouYSOodDu4/I1z+qainjCDwbp64ePUGW9ulPPyRLkg/8AAuKAO20HWrfxDoVrqtmGWG5TcFfGV7EHFY8XijTfEHhjWrubT5JdOs2lhlSUKRcBB820Z6fWuZ0/VR4R8NeMdNJ2tpczyWw6fJMMpj8TWtZ6P/YfwVls3GJf7Okkl93ZSx/nQBabXbaz+Hlpe6Fol29pcwfurW0jG6FSpOSM4AHc1j/CnxFd3Xh7T9PuNL1JxtcnUZFzC3JP3s59q2/CH/JJ9O/7Bv8A7Kah+E//ACTXTPo//oZoAxP7cttB+LPiOe4jmnkktIEhtrdN8szY+6q9/wClbFl8SYG1q203XNE1LRZLtttvJeR4R29M+tVtFhjf42+IZXRTJHZQhGI5XIGcflUnxcjU+ELebA8yG/gaNscqd2KAOu1bVrLQ9Mm1DU51gtoRlnP6ADuT6Vx//CzyIftj+FNdXTfvfazbjG3+9jPT8ab8QkF9rfhHTbrmzub/AHTKejlRkA+vXpXelFKbCo24xtxxj0oApWmsWeoaKNVsJRcWrRGRWTuAOnsah8N69B4m0G31W0ikiinztSTG4YJHOPpXG+BF+yWvjHTYDmztL2UQDsgKkkCtT4T/APJNdM+j/wDoZoA2k8SW7+MJfDohl+0R2ouTLxsKk4x65rz/AFDxffJ8VrSZdB1krFZyR/Ywg3S/Mf3gXOCPet23/wCS7Xf/AGCE/wDQ6W//AOS5aX/2Cpf/AEI0AdlYXTXunwXMlvLatKgcwzDDx57MPWk1DULXStPmvr+VYbeBC8jt2FWaxPGGgHxP4VvdKSbyZJ1Gxz0DA5GfbigDAPxMf7L9vXwprZ0zr9r8kfd/vbc5x7119jqlnqWkxalZzq9pLH5iyngbffPTFcNF4t8T+HbFbfxV4RmntoI9j3mmyCVWUDGSnYY9SKXxprNjN8Gbu98MBFs50WNBCmwIrOFYbR075oAtN8TY7qWVtB8O6vq9pExVru2g/dsR12+v6V0XhzxNp3ijTTd6Y7/I2yWGVdskTf3WHY1Z0Szt9P0GytbNFSCKBAgUcdOtJa6Pp2m315f2tusE94Q9zIGOHI7kZxQBzd58R7Y6rPp+gaPqOuS2zbZ5LOMeXGfTce9aXhrxjZ+JJrm0FtdWGoWuPPs7uPZIoPf3FYNn41kuWuE8BeD5dQtlmYPcq8drDI/cgkfN+lZeiXWrz/HESa5ZQ2FxJpJzBDL5g2huMt0Jzn9KANnQ/wDks/iT/ryg/pWr4cu9GuPEmvQ6Xpi2l5bTql3OEA89iCQcisrQ/wDks/iT/ryg/pR4I/5Hvxp/1+x/+gmgCw/xJsWkvLaz02/vb62uXtxaW0Yd324y/B4Tnqan8P8Aj211rWX0e80690nUlTzFt7yPb5i+qnvWX8NYYxrHi2cIPNOquhfHOAM4/U0/xrGqfETwZcIMSm5kjLDqVK9KAOi8TeKtO8K2Uc+oeZJJM2yC3gXdJM3oorFtviKqyY1vQNU0dHUmKa7ixG7AZ27uxPbNVZlW9+O0KXeGWy0rzLZWHRmbBYV0/iy0gvfCGqwXahomtZCc9sKSD+YoAm0DWYfEGg2uqW0bxRXKb1STG4DOOcfStB3WNGd2CqoySTgAVy3wz/5Jvo3/AFw/9mNdHfXFtaafPcX7KttFGzSlxkBQOc0Acd/wsyO9nlHh3w/q2s28LFWureLEbEf3Setb3hnxTYeKbKWaxWaGWB/LntrhNkkLejCua07xlqd7Zp/whXgeaXTckRSzTx2iEZ6qvcZ9KpfD2a/k+Jfiz+1YIra5dYHlghfciHHGD346+9AG3L8R7Fbi+s7XTr68v7W5a3FpbRh3kwOXwDwvPU1LoHj+11fWzo1/pt9pGolN8cF5Ht8xf9k1m/DyGP8A4SfxjPsXzTqRTfjnbgnFO8dRqnjbwbcKAJftzR78c7SvIoA6PxL4o07wtp63OomR2kbZDBCu6SZvRRXOT+PxcWNxb6xoGqaMlxBIkNxeRYjZipwpb+EntmmXwF98dNPgu13RWeltPAG6eYWwSPfFdX4ltIL7wvqVvdoHie2k3A+ykg/nQBi/C3/kmuk/9c2/9DNddXI/C3/kmuk/9c2/9DNdY6CSNkPRgQcUAcdN8REmvriDw/oOp61HbMUluLZAItw6hWJ+Y1qaL4vs9f0e6vLC3ufPs9yz2Mke2ZHAzt2+p7VyWkxeLfh7BLptvoK67pKzPJDPazBZlDHOGU5JP0H411HhPxJo/iJryXTrRrK/jcC9t54BHMrdAW9enWgDh/DvjC/T4heIpm0HWbhZzABaKmWtfl/iXOFz14r0fX/EeneGdL+3arIyISFSNF3PIx6Ko7muV8Jf8la8a/8Abt/6BTtejXUPjJ4ftLwbre3tJbmNG+6ZM4zjuRgUAP8A+FnC22T6x4Z1rTbByB9rmt/lTPQsOw/Ouo1PXLXTfDk+tc3FrDB548kg71xnjtVu+tob3T57a6RXhljZHVhwQRXlujTSSfADWIpHLpbJcQxMe6BuKAOlm+I0cgj/ALE0LU9Y/dq8zWke5ISwzsLdC2DyBWx4Y8W6f4pt5ms1mt7i3bZcWlymyWI+4qLwHaQWXgPR4rVVCG1RyR/EzDJP4k1h3CLZfHKza1+U32mv9pVf4tp4J/KgDvajuJTBayyhGkMaFgi9WwM4Fcxq3/Cff2rP/Yf/AAj/ANgyPJ+1+d5mMDO7bx1z0rS8Pf8ACSeTP/wlf9meZuHk/wBn78Y77t/egCTw34gtvE+hQ6pZI8ccpZTHJjchBwQcfSqGheONN1/xLqWi2aSrPp5IZ2xtkwcHbg54Nc1oOoL4PuvGWmzErFYs2oWwP9x1zgf8CwKz9J0pvCs3g3WpVCy3xe3vmx1af51J/HigD0C/8S29j4o07QvIlmub5HkDJjbEq9S3P8qpeIfHNloepJpltZ3eq6m67/sllHvZF9W9BWV4cX+2vij4g1lvmh09E0+A+/V8fjTPhmiXV/4m1Sfa97NqkkLsR8yonCrQBpaN4/tNR1hNJ1PTb7Rb+UZhivo9om/3W7mr3iLxdYeGLuwh1MOqXrOBKMbY9q5JP/1qwvi7GsfhGHUEGLuyvIZLdxwwYsAQD9P5VD43jS78X+CFuY1dXu2ZkYZGdoP86AN/w54qn8QXk6toWoadaRpviubyMp53OOBjj161lz/EqGW/nt9A0LVNbS2bZLcWkWYw3oD3ra8a3Utl4H1i4tiVljtJCpHbjrUPgCzt7LwDpEdqF2NbLIxX+JmGSfzNAHKwa7aeIPi3oV3ZiSMiwnSWCZdkkLgnKsvY11niPxhZ+Hri3sxbXWoahcgmGzs498hA/iPoPeuev7SCD476XPEoWW40+Qy4/iIyAfy/lVnxNoWvWfjKDxV4Xggv5ltvss9lO+wsmc5RjwD/AJ5oAuaX49iutbi0nWNIv9Fu7gZtxdoNk3srDv7V1lcNZeOLW81my07xb4duNHv3f/RXuoxJEX/2JMdffH413NAGV4h8R6f4Y0tr/VJGVMhURBueRj0VR3Nc7D8RBJgat4e1bSbWcbUvLqHEYJ6bj/DmofEiLffF3w1aXXzW8NvNcIjdDIOh/DFdpqVtDeaXdW10ivDLEyurDggigDjPhTMIPhuJiNyxz3DkDuA5NLH8UYL+zt5NB0PUtUmlXfJFBHkW4yQN7DIB4ziq/wAMFCfCV1U5VWuQD68mrvwigjh+G1gYkCmRndyB947jyaANnxH4u0/wzawNfLNNc3JxBZ26b5ZT6BaxoPiVDFeQQ+INC1TRI7htkdzdxfut3oT2qCxjW/8Ajhqcl2N7afp8a2wbou4/MQPXnrXQ+NLK31DwVq0F2FMf2Z2yf4SBkH8xQBL4k8RW/hrRTqV1G80QkSPEZGfmOAee3NYV58RQk8v9k+HdW1a0hJV7u1hzGSOu0/xYrmPEdxLf/s96dJeOS7i3VnJ5ID4z+Qr1LTbaGz0u1trVFSGKJVRVHAAFAFPw94j0/wAT6Wt/pcjMmSro42vGw6qw7GsfUfH0UOsT6ZoukahrVxbHFwbRB5cR/ulievtWf4bRbH4u+JbS1+W3mt4bh0XoJD1P45qpBYeKvAuram+jaPFrulX9y11hJhHNEzdQc9fwB/CgDqfDXi+z8SSXNutvc2N/aECezu02yJnofce9b9cr4Y8VaV4h1a5j/s2XTNahQefBdwBJinb5u6/5xXVUAFFFFABRRRQAUUUUAFFFFABRRRQAUUUUAFFFFABRRRQAUUUUAFFFFABRRRQAUUUUAFFFFABRRRQAUUUUAFFFFABRRRQAUUUUAFFFFABRRRQAUUUUAFFFFABRRRQAUUUUAFFFFABRRRQAUUUUAFFFFABRRRQAUUUUAFFFFABRRRQAUUUUAFFFFABRRRQAUUUUAFFFFABRRRQAUUUUAFFFFABRRRQAVV1OzGo6VdWRbYLiFot3pkYzVqigDiPAkXinRY4fD+taRCLCzjZYtRhuFIfB+UbM57nmrcOiagvxZuNZa3xp76asCzb15cNnG3OfxxiusooAK5X4i6Nf694PkstKg8+4M8ThN6rwrgk5YgdK6qigDmvF/hZ/Evh6G3t5hbX9o6T2sx5CSL6+1ZMGs/EKeMadL4Ztba5I2NqbXimFf9sRjk/TNd3RQBxnw68M3/hhdag1AOyz3xlhmd1LTLgfOdp4yc8HFSeHdD1Gw+InifU7q38uzv8AyPs0u9Tv2rg8A5H4gV19FABXI/EjQL3xL4Yi0/TojK5u4mfa6qVQH5mBYgcCuuooA4V9T8d6NH/ZkHhyHWPLGyDUVvFjV17F0POcdeQD2q94P8KXOk6fqE+uTrcarqzmS7eP7q5GAq+wzXWUUAebaIvjLwRY/wBh2vhqPW7OKRjbXcV6kPyk5wwIPIz7fjU2i+HvE/8AwtNfEGuww+TLYGNmhkUpA2eIwCdxwOS2MZJr0OigDi9Uk8aaJ4jurzS7RfEGl3KgraNcLC9sR6EjBH5mqlnpPiLxR4w03W/EemxaNaaWGa3tVnE0kjsOrMOAPyrv6KAOM8RaBrVl4mXxP4SWGe6eIQ3ljM2xbhB0IboGHvVSe+8f+ImitINHTwxD5gM1692k74B5CKB39xj3rvqKAOa8ZeFpfEeiQR2l15OpWMqz2lw/aRfXHY1lQaz8QLuMafL4ZtrK4I2PqTXitEvq4jHJPoM13VFAHGfDjw1f+GLPV7bUFfEuoNLDI7qzSptA3HaeMkHg4rs6KKAOT8LaLqGm+LPE95e2/l29/cpJbvvU71CkE4ByPxxR8QtF1DXNHsYNLt/Pki1CGZ13quEU8n5iK6yigDmfG3hm48QWNrPpU622q6dMJ7SV/u7u6n2NZcWrePdUj/s6bw3b6W7jZNqLXiuiDuyIOc+nJ967qigDj/hz4cvPDvh280/VImXdeSsm91cyRnADHaT1ArMtdA8X+DJp7bwmthqWjyymSK2unKSW5Y8gHoV/zivQzzXDHwr4r0W+uJPC3iCGS0uJDKbXVUaTy2PXDjk0AYOo2OrR/EvwlfeI7mGS/uJpV8i2yIoEC8KueSeeSa6rxb4d1OfVrLxD4YkiXVrJTGYZuEuYj1QnsfSo9E8G6gviJNf8V6sNS1CFClvHFHsitweuB3PvXY0Aef3WrfELWrc2Fp4bi0KST5Xv5b5JRGO5VQM5/Ou5soZbexghubhrmaNArzMADIccnA4GanooAw/GunXWr+CtUsNPi865uICkce4LuOR3JAFY3iXw/qeofCZdGtLbzNQFtDH5PmKPmXbkbicdj3rtaKAOO8b6FqWseB7XT9OtvOuo5rdmj8xVwFI3ckgcV2CDCKD1ApaKAOQ8CaBe6VpusW+sWwiF3qE0qKXVt8bdDwT19DzWVY2ni7wGJdP0fSY/EOj7y9sBdLDLACc7DuzkfQV6JRQByXh5PF2oa8+qeIfL0qxEeyLS4pFlLH+87AfyrLmsfE3hHxVquo6Fo8euWGqyCZ4hcCGSFwMdT1H4H8K9BooA8y1jSPGPibWdB1O+02Kygs71XNjHcI7RJxmR2JAJ7AKK6HxLomoah428MX9pb+ZbWMsjXEm9RsBXA4JyfwzXWUUAFFFFAHJ+ANE1DRLPVU1O38hrjUpp4hvVtyMeDwTj6Hmjxd4c1G71Gx17w1LFHq+ngqI5uEuIz1Qnt7V1lFAHAXWr/ELV7ZrC08Mw6LLINr38t8kixjuVUDOfzrpNT8Nprfg9tD1i5e6aSEI9yVAYuOQ+Bx15rbqnq2nJq+k3FhLLNCk6FDJA5R19wRQBxllH8StMgTTFj0a+jjGyPUJXcEKOAWXqTj0H51U8BWEmm/EzxRbz3TXc/kwPNM2AXc5JOB0GTwPSr0GgfEDTbcWNh4k064tUG2Oe7tj5yL26ZB/Gtrwl4TXw1HdT3N7JqGpXziS6u5F2lyOgA7AUAVfC2i6hpvizxPeXtv5dvf3KSW771O9QpBOAcj8cVP4z8NXOu29pd6RcLbatpsvnWkrjKk91b2NdLRQBwMmv/EO4t2sofCFva3bLt+2tfo0SH+8F6++Mmuhg0nWU8GHTptZd9WMJH2/YPlc9OMdB09a3aKAOAt9d+IVhaJYXHhKK/uY12C+TUEWOTHRip5+vIrQ8I+Er/RPDOoRXN4sWq6nLJcSywDKwyMONoPXFdfRQB5/aax8QdHtV0+78MR6zNH8q38d+kayjsWUjOfyrS8GeGtQ0m11W+1lov7S1aYzSxQH5IuDhQe/XrXXUUAcb4K8L3Fr8PZdD8QW3lNO84kj3q3yOxwcqSOhrN01vG/g2zXR4dCi8Q2UHyWt1HdrCwTsrhh2/ya9EooA47wt4d1ZvEF14n8VmJdRnj8mC1hbctrF/dz3J74qXStF1C2+Jut6tPb7bG6too4Zd6ncy9RgHI/EV1lFAHKfEPRb/AF3w/b22lQefMl7DKy71XCqck5YiurHCiiigBHRZI2RxlWGCD3Fed+APBeqaD4m1C41Vf9Et1a30z51bETOWOMHI7da9FooA848aeCNT1rx1p93YITptz5a6nh1AxG+5cgnJ/Cu08RWc194X1Gzs49801s8caZAySuAMngVp0UAYPhbSriy8CafpeoJ5NxHaCGVQwbacYPIyDWB4FsvFPhlovDuoaVDNpULSGPUo7hfukkgFOvX2/wAa72igDk9K0XULb4m63q09vtsbq2ijhl3qdzL1GAcj8RTviLo1/rvhZbPSoPPnF1FIU3qvyq2ScsQK6qigDnPGHhh/Emiwx2s4tdQs5FuLSc9EkX19jWKdd+Ij2xsV8J2yXhXZ9v8AtyeSD037OvvjOa72igDnfCXhVfDnh17K5m+1XV07y3k+MeZI/X8O1cpotj468ErLoul6PbaxpgkZrS4a5WIxhjnDAnJx6Y/GvTaKAOC8PeGtes/iTc61rJWdLmwCyTxsoRZcj92i53bQB1I/GpvFuj69D4t07xN4atYdQltoGt5rOSQRllJzkMeK7eigCrpk91c6Zbzaja/Y7p0Blt94fy27jcODVTxLZanqGgzwaFffYb7hope2Qfung4B6ZrVooA4F9e+IMtmbH/hDoFumTYbxr9DDnpu2dcd8ZzWjovgWGy+Hb+GdQm877QjmeRBgB2Ocr9DjH0rraKAPPNPvPHvhmxTSW8OQ66kA8u3vor1YtyjpuVucgfStzwvo2tpa6hc+Kr1pbvUWybWOVmitUxjagJwD64/WunooA820RfGXgix/sO18NR63ZxSMba7ivUh+UnOGBB5Gfb8am0Xw94n/AOFpr4g12GHyZbAxs0MilIGzxGATuOByWxjJNeh0UAcnpWi6hbfE3W9Wnt9tjdW0UcMu9TuZeowDkfiKPC2i6hpvizxPeXtv5dvf3KSW771O9QpBOAcj8cV1lFAHJ+CNE1DR7zxC+o2/kreak08B3q29CODwTj6HmjxTouoal4s8MXllb+Zb2Fy8lw+9RsUqADgnJ/DNdZRQByni3wtf6jqNlrnhy6itNZsQVQzAmOZD1RsVi6tB421vQb6DxDHp+lWCW7tObRy8s+FJ2gkkKp7966PxT4Zu9bktLzSdXuNL1CyYtC6/NG2eoZM4P1rDu/DHjfXrc2Gu+IbG3sJBtmFhbnzJl7glumfagDU+Gf8AyTfRv+uH/sxra17S11vw/faY7+WLqFot/wDdyOtT6bp9vpOmW9hZJst7eMRxrnsKs0AeeaRqHjvQtNt9EbwnBem2QQx3yX6JGyjgMVxn+R9qm8E+HNe0rxt4g1LXlRxfJEUuI2XbIwHIC5JAHQZ7Cu9ooA5PwbouoaVrHiSe/t/KjvtQM1u29W3pjrwTj8cUvi3RdQ1PxF4ZubG382GxvTLcNvVdi464JyfwzXV0UAch4x8N6nd6lYeIPDLxLq+n5URTHCXEZ6oT2/z0qhcz+NPFenz6Xd6Cmg28sbLPcm8WV3GPuxgDgnpk8YrvqKAOd8A6VeaL4H07T9Th8i6hRhJHuDbTuJ6gkd66CVS8TqrlGZSA46qfWnUUAef2uo/EDw/G1jdaAniMK58q/jvUhLKTkblI6/kKv+DPD2q2usap4h8RCGHUNT2j7LA25YUXoCe5rsaKAPPr3SvE3hzx5qOt+HtMh1e01ZYxNGZ1ieJkGM/MRkf54rW8YeG77VZNP1jQpY7fWdNYtCJfuSKfvRtjsa6uigDz+81T4g63ZvpkHhmHRpJl8uTUJL5ZFQHqVUDOfTrVnXdCt/DXwb1HSrQ7kt7FwXIwXY8lvxNdvWZ4k0p9c8M3+mRSLE91C0QdhkLnvQBw/hy68XeHPCumw6boqeILGS3R4HF0sMkG4ZKMCPmAJ4I7da2PCnh3Vm8QXXijxX5KalcRiGG1hbcttF1xnua6XRLB9L0KysJHWR7aBIiy9CQMZq9QAUUUUAedfEDwXqmu+JdOu9HX/R7hBa6kd6jMIcNyCee/Tmui8b6DNrXg24sdNX/S4gstoAQuJEIK8ngdMc10dFAHM+ANCutA8JwwamuNQnke4ussGPmMcnkcHt0rJvNH8Q+FvE17q/hSzi1Sy1IiS6095hE6yD+NGPHP+RXeUUAeeyaV4m8capZN4l02PRNHs5RObQXAmkuXHTJXgAe//wCrW8U6Jf6j4s8MXllb+Zb2Fy8lw+9R5alQAcE5P4ZrrKKAIby0ivrKa0uV3RTxmNx6gjBrz7Sk8beCbf8Asa00OPxDp8TEWlwl2sDohPCsG9P8mvR6KAPPdO8N+I3+JGn+I9YRG32siTrDIvl2v9yMZOW9zjGa1PEA8Xab4hTVNAiTV9PaLy5dMeZYijf31Y8fnmuuooA86udN8T+OdY0ttd0aLQtM064F0VNys0srr0AK4wPqK9FoooA5Txr4ZvdXaw1XQZo4dY0uQyW5k+7Ip+8h+tZ/2/xx4ggbS7jw9FoaSrsuL83iy4Xv5aDuexJIFd3RQBx3gXw/qGh/D19KvoDFchp9qF1bIYnbyDjnirfw90i90PwPY6fqkHkXUW7fHvVsZYkcqSK6aigDjvE/h7Vo/EVv4n8KeTJqEUXkXFpM21bmPrjPYisvU/8AhNvGlmdHn0OPw7YzHbd3Ml2s7sndUCjv/k16LRQB578UdOgsPhUNOtV2QQyW8KAdlDAVMmo+ONCtI9OtvD0WuIiBbe/F4sWVxx5iHuO5BANbvjTw7L4o8NvptvOkDtLHJvcEj5Wzjit2NdkSKeSqgUAct4K8M3ukNf6rr00c2sapIHuDF92NR91B9Kzvtfjvw5fXcX9lL4ms5ZjJbzrdpBJEp/gYEdvYfjXeUUAcR4a0HWrzxlceLPE1vDYTtbi1t7KGQSFEznLsOCfpXb0UUAFFFFABRRRQAUUUUAFFFFABRRRQAUUUUAFFFFABRRRQAUUUUAFFFFABRRRQAUUUUAFFFFABRRRQAUUUUAFFFFABRRRQAUUUUAFFFFABRRRQAUUUUAFFFFABRRRQAUUUUAFFFFABRRRQAUUUUAFFFFABRRRQAUUUUAFFFFABRRRQAUUUUAFFFFABRRRQAUUUUAFFFFABRRRQAUUUUAFFFFABRRRQAUUUUAFFFFABRRRQAUUUUAFFFFABRRRQAUUUUAFFFFABRRRQAUUUUAFFFFABRRRQAUUUUAFFFFABRRRQAUUUUAFFFFABRRRQAUUUUAFFFFABRRRQAUUUUAFFFFABRRRQAUUUUAFFFFABRRRQAUUUUAFFFFABRRRQAUUUUAFFFFABRRRQAUUUUAFFFFABRRRQAUUUUAFFFFABRRRQAUUUUAFFFFABRRRQAUUUUAFFFFABRRRQAUUUUAFFFFABRRRQAUUUUAFFFFABRRRQAUUUUAFFFFABRRRQAUUUUAFFFFABRRRQAUUUUAFFFFABRRRQAUUUUAFFFFABRRRQAUUUUAFFFFABRRRQAUUUUAFFFFABRRRQAUUUUAFFFFABRRRQAUUUUAFFFFABRRRQAUUUUAFFFFABRRRQAUUUUAFFFFABRRRQAUUUUAFFFFABRRRQAUUUUAFFFFABRRRQAUUUUAFFFFABRRRQAUUUUAFFFFABRRRQAUUUUAFFFFABRRRQAUUUUAFFFFABRRRQAUUUUAFFFFABRRRQAUUUUAFFFFABRRRQAUUUUAFFFFABRRRQAUVFvm/54/8Ajwo3zf8APH/x4UAS0VFvm/54/wDjwo3zf88f/HhQBLRUW+b/AJ4/+PCjfN/zx/8AHhQBLRUW+b/nj/48KN83/PH/AMeFAEtFRb5v+eP/AI8KN83/ADx/8eFAEtFRb5v+eP8A48KN83/PH/x4UAS0VFvm/wCeP/jwo3zf88f/AB4UAS0VFvm/54/+PCjfN/zx/wDHhQBLRUW+b/nj/wCPCjfN/wA8f/HhQBLRUW+b/nj/AOPCjfN/zx/8eFAEtFRb5v8Anj/48KN83/PH/wAeFAEtFRb5v+eP/jwo3zf88f8Ax4UAS0VFvm/54/8Ajwo3zf8APH/x4UAS0VFvm/54/wDjwo3zf88f/HhQBLRUW+b/AJ4/+PCjfN/zx/8AHhQBLRUW+b/nj/48KN83/PH/AMeFAEtFRb5v+eP/AI8KN83/ADx/8eFAEtFRb5v+eP8A48KN83/PH/x4UAS0VFvm/wCeP/jwo3zf88f/AB4UAS0VFvm/54/+PCjfN/zx/wDHhQBLRUW+b/nj/wCPCjfN/wA8f/HhQBLRUW+b/nj/AOPCjfN/zx/8eFAEtFRb5v8Anj/48KN83/PH/wAeFAEtFRb5v+eP/jwo3zf88f8Ax4UAS0VFvm/54/8Ajwo3zf8APH/x4UAS0VFvm/54/wDjwo3zf88f/HhQBLRUW+b/AJ4/+PCjfN/zx/8AHhQBLRUW+b/nj/48KN83/PH/AMeFAEtFRb5v+eP/AI8KN83/ADx/8eFAEtFRb5v+eP8A48KN83/PH/x4UAS0VFvm/wCeP/jwo3zf88f/AB4UAS0VFvm/54/+PCjfN/zx/wDHhQBLRUW+b/nj/wCPCjfN/wA8f/HhQBLRUW+b/nj/AOPCjfN/zx/8eFAEtFRb5v8Anj/48KN83/PH/wAeFAEtFRb5v+eP/jwo3zf88f8Ax4UAS0VFvm/54/8Ajwo3zf8APH/x4UAS0VFvm/54/wDjwo3zf88f/HhQBLRUW+b/AJ4/+PCjfN/zx/8AHhQBLRUW+b/nj/48KN83/PH/AMeFAEtFRb5v+eP/AI8KN83/ADx/8eFAEtFRb5v+eP8A48KN83/PH/x4UAS0VFvm/wCeP/jwo3zf88f/AB4UAS0VFvm/54/+PCjfN/zx/wDHhQBLRUW+b/nj/wCPCjfN/wA8f/HhQBLRUW+b/nj/AOPCjfN/zx/8eFAEtFRb5v8Anj/48KN83/PH/wAeFAEtFRb5v+eP/jwo3zf88f8Ax4UAS0VFvm/54/8Ajwo3zf8APH/x4UAS0VFvm/54/wDjwo3zf88f/HhQBLRUW+b/AJ4/+PCjfN/zx/8AHhQBLRUW+b/nj/48KN83/PH/AMeFAEtFRb5v+eP/AI8KN83/ADx/8eFAEtFRb5v+eP8A48KN83/PH/x4UAS0VFvm/wCeP/jwo3zf88f/AB4UAS0VFvm/54/+PCjfN/zx/wDHhQBLRUW+b/nj/wCPCjfN/wA8f/HhQBLRUW+b/nj/AOPCjfN/zx/8eFAEtFRb5v8Anj/48KN83/PH/wAeFAEtFRb5v+eP/jwo3zf88f8Ax4UAS0VFvm/54/8Ajwo3zf8APH/x4UAS0VFvm/54/wDjwo3zf88f/HhQBLRUW+b/AJ4/+PCjfN/zx/8AHhQBLRUW+b/nj/48KN83/PH/AMeFAEtFRb5v+eP/AI8KN83/ADx/8eFAEtFRb5v+eP8A48KN83/PH/x4UAS0VFvm/wCeP/jwo3zf88f/AB4UAS0VFvm/54/+PCjfN/zx/wDHhQBLRUW+b/nj/wCPCjfN/wA8f/HhQBLRUW+b/nj/AOPCjfN/zx/8eFAEtFRb5v8Anj/48KN83/PH/wAeFAEtFRb5v+eP/jwo3zf88f8Ax4UAS0VFvm/54/8Ajwo3zf8APH/x4UAS0VFvm/54/wDjwo3zf88f/HhQBLRUW+b/AJ4/+PCjfN/zx/8AHhQBLRUW+b/nj/48KN83/PH/AMeFAEtFRb5v+eP/AI8KN83/ADx/8eFAEtFRb5v+eP8A48KN83/PH/x4UAS0VFvm/wCeP/jwo3zf88f/AB4UAS0VFvm/54/+PCjfN/zx/wDHhQBLRUW+b/nj/wCPCjfN/wA8f/HhQBLRUW+b/nj/AOPCjfN/zx/8eFAEtFRb5v8Anj/48KN83/PH/wAeFAEtFRb5v+eP/jwo3zf88f8Ax4UAS0VFvm/54/8Ajwo3zf8APH/x4UAS0VFvm/54/wDjwo3zf88f/HhQBLRUW+b/AJ4/+PCjfN/zx/8AHhQBLRUW+b/nj/48KN83/PH/AMeFAEtFRb5v+eP/AI8KN83/ADx/8eFAEtFRb5v+eP8A48KN83/PH/x4UAS0VFvm/wCeP/jwo3zf88f/AB4UAS0VFvm/54/+PCjfN/zx/wDHhQBLRUW+b/nj/wCPCjfN/wA8f/HhQBLRUW+b/nj/AOPCjfN/zx/8eFAEtFRb5v8Anj/48KN83/PH/wAeFAEtFRb5v+eP/jwo3zf88f8Ax4UAS0VFvm/54/8Ajwo3zf8APH/x4UAS0VFvm/54/wDjwo3zf88f/HhQBLRUW+b/AJ4/+PCjfN/zx/8AHhQBLRUW+b/nj/48KN83/PH/AMeFAEtFRb5v+eP/AI8KN83/ADx/8eFAEtFRb5v+eP8A48KN83/PH/x4UAS0VFvm/wCeP/jwo3zf88f/AB4UAS0VFvm/54/+PCjfN/zx/wDHhQBLRUW+b/nj/wCPCjfN/wA8f/HhQBLRUW+b/nj/AOPCjfN/zx/8eFAEtFRb5v8Anj/48KN83/PH/wAeFAEtFRb5v+eP/jwo3zf88f8Ax4UAS0VFvm/54/8Ajwo3zf8APH/x4UAS0VFvm/54/wDjwo3zf88f/HhQBLRRRQAUUUUAFFFFABRRRQAUUUUAFFFFABRRRQAUUUUAFFFFABRRRQAUUUUAFFFFABRRRQAUUUUAFFFFABRRRQAUUUUAFFFFABRRRQAUUUUAFFFFABRRRQAUUUUAFFFFABRRRQAUUUUAFFFFABRRRQAUUUUAFFFFABRRRQAUUUUAFFFFABRRRQAUUUUAFFFFABRRRQAUUUUAFFFFABRRRQAUUUUAFFFFABRRRQAUUUUAFFFFABRRRQAUUUUAFFFFABRRRQAUUUUAFFFFABRRRQAUUUUAFFFFABRRRQAUUUUAFFFFABRRRQAUUUUAFFFFABRRRQAUUUUAFFFFABRRRQAUUUUAFFFFABRRRQAUUUUAFFFFABRRRQAUUUUAFFFFABRRRQAUUUUAFFFFABRRRQAUUUUAFFFFABRRRQAUUUUAFFFFABRRRQAUUUUAFFFFABRRRQAUUUUAFFFFABRRRQAUUUUAFFFFABRRRQAUUUUAFFFFABRRRQAUUUUAFFFFABRRRQAUUUUAFFFFABRRRQAUUUUAFFFFABRRRQAUUUUAFFFFABRRRQAUUUUAFFFFABRRRQAUUUUAFFFFABRRRQAUUUUAFFFI7rGpaRgqjqWOAKAFopA6soZWBU9CDwaWgAooooAKKbJIkS7pXVF9WOBTgQRkcigAooooAKKKKACiiigAooooAKKKKACiignHXigAooooAKKKKACiigHIyOaACiiigAooooAKKKKACiiigAooooAKKKKACiiigAooooAKKKKACiiigAooooAKKKKACiiigAooooAKKKKACiiigAooooAKKKKACiiigAooooAKKKKACiiigAooooAKKKKACiiigAooooAKKKKACiiigAooooAKKKKACiiigAooooAKKKKACiiigAooooAKKKKACiiigAooooAKKKKACiiigAooooAKKKKACiiigAooooAKKKKACiiigAooooAKKKKACiiigAooooAKKKKACiiigAooooAKKKKACiiigAooooAKKKKACiiigAooooAKKKKACiiigAooooAKKKKACiiigAooooAKKKKACiiigAooooAKKKKACiiigAooooAKKKKACiiigAooooAKKKKACiiigAooooAKKKKACiiigAooooAKKKKACiiigAooooAKKKKACiiigAooooAKKKKACiiigAooooAKKKKACiiigAooooAKKKKACiiigAooooAKKKKACsTxZr8GgaFcTNdRW920Lm2En8bgdAO/atuue8cWFpd+EdRlurWGaS3tpGheRAxjO3qCeh4rWiouolLYwxDmqMnDexQ8EeM7fWtFtxqeoW7ao28vEMK2ATzgewzXGeKtV0rxR8QrS0vtYUaFHFkvFJhA2CTz0yTgZrqPhfpGnN4Os75rC3N2xkUzmIbyNxGN3XpxWJPomlr8bINPGnWoszbbjbiFfLJ2E524xXpU/ZQr1OW6sn2/D9Dw6zr1MJRU2nzOPfXtf9TU1vw14am8FaZaxa59g02OcvBOWDCUknPpk9cHtXeQiO1sYwZcxRRj97I3UAdSf61558W7WCz8I6db2kMcEMd2AkcahVUbW6AU74pX9wuh6RpFtIYxqEgWQjuoA4+mWH5Vj7OVZQXNu2dPtoYWVV8qvFR269Ejrbbxh4evL4Wdtq9rJOx2qofhj6A9D+Fcl8ONXuJL7xLJql/NJBbSggzylliUF84yeBgfpW8nw68OJoosBYR7wmPtX/LXd/e3devOOntXLfCa0/0rxJZ3oWf94sUocbg/Lg59c0RjR9jUcL9N/UU5Yn6zRVS32tr222Zlate6P4r+JNwmuawF0aCL/R3SUKhOBwD7knP0r1nRLSzsdDs7bS232ccQ8ls53L1znvnrXm+k6Jpcvxk1Wwk061e0jt9yQNCpRThOQuMdzXqcMMdvCkMEaxxxqFREGAoHQAUsZJWhCN7WX9epWW05c1SpNK/M1frv+XYfVLU9a03RoRLqt7Daq33fMfBb6Dqfwq7XkfiwwaX8Uv7R8W2Mt5pDxhbf5NyDgdjwcHOR75rnw9JVZNPt82dmMxEsPTUkt3bXZebPSdL8R6PrbMmlajBcuoyURvmA9cHnHvU8+r6fa6jDYXF3FHdzjMULNhn+g/CuL0uz8Ea74jtNR8O3y2V7bci3tQIPM9ijLyMZB29qr+Kv+SyeG/8AcH/oTVr9Xg58qutG9d9DB4upGkpuz95K6d00z0G8vbbT7R7q9mSCCMZeRzgL2rmvHOq7/h1eaho94wDBDFcW8hBxvA4I/GpPiP8A8k+1T/cX/wBDWuYu/wDk32L/AK4p/wCjqMPSTUKn95IMZiJJ1KK/kb/Q3/D/AIr03TfBukPr2qolxNbhiZpC0j8nk9T+NdRY6hZ6narc6fcxXMLcB4nDDPpx39q4jwJ4L0ibwlaXuq2cd9c3cW4tON+xP4VUHpgelZvh63HhL4uXGh2Lt9gvYt6xE52nbuH5YI+hq6lGlOU+Ru6u/Izo4ivShSdRLllZeautL+p6A3iHSEkukfUrZWs/+PgNIB5XOOfTmmaX4l0bWWddM1GC4aMZZVbBA9cHnHvXnWiaJaa58WPEEWpKZraGRpTAT8sjbsDcO4GTxUPjHw1p9h8QtHttMQ2UOpYjnSA7QQW2sBjpkHGKr6tS5uS7va/4XIeOxCh7XlXLzW3d97HosPjHw9cX4sodYtXnLbQok4Y+gPQn8apePdLsNW8OiHVdU/syBZlYTHlSeeCOM965n4leEdE03wf9t02witJ7aRFVohjcCcYPr9TzTvHs8lz8INNnmYtJJ9nZmPclDzSp0oc0J029XYdbEVOSrSrxTtG+l7Nfmd9p629hodsq3PmW0MCgXErj5lC/eJ+nNZyeOPDMl19nXWrTzM4GXwuf97p+tc145tNRvPhZYLpqySKkcLzpGCSyBPQdQDg1lWF/8N9Y0CPTbiCLTLhkCmWSHbIrf3vNwR19T+FKGHjKLnK716dPUqrjJwqKlHljon7ztfyR6vuG3dkYxnNYcvjfw1DdfZ5NatBIDg4fKg/7w4/Ws3XdHuIPhhPpvh65nvSsAETlw7yR5yQCoGflyBjtxXG+GdU8Anw6mma7Yx2t7tKTyz25LF+5DgEr+mKmlh4zi5auztpv6l4jGVKdSNNWjdXvJ6eiPTdcitNU8L3aS3ogtJ4Duuo2GFXGd2ehH9Kp+CdOstL8LQW+m6j/AGjbhmYXA6E55AHYe1Zb6TYaP8LdTt9Iv5L6za2leOR5FcDK8hSoAxnt65rI8P6rLovwPe+tjtmjWRY2/us0hUH8M5oVNuk4xenMkDrqNdTqR15G27367djs9R8W6DpNybfUNVt4Zh1j3ZZfqBnH41oWV/aalarcafcxXMLdJInDD6cVw3gDwXpE/haDUdVs4r+7vgZHe4XfgEnAGenrnrzVDSoB4N+Lv9kaezLp2pRbhCWyFOCR19CpH0NEqFJ80YN3j9ztuEcXXioVKsVyzaWm6vtc9AbXtKW6ubd9Qt1ltV3zq0gHlDjk56dRUGneK9C1a6+zadqlvPP2jDYZvoD1/CvPbbRbbXfjNrNtqAZ7VF82SEMQJcBMA47ZOfwpfib4e07w/Dpur6JbJY3C3IQ+SNoOBkHHQEY/WrWGpOUad3dq/lsZSx2IVOVZRXLFtPe7s7aHrFFMhcyQRuerKCfyriPixq9xp/haO1tHMb303lMwODsxkj8eBXHSpurUUF1PTxFdUKMqr6G7L428NQXRtpdatBIDg4fIB92HH61txSxzwrLBIskbjcrochh6gjrXK6d8OvDsGgx2Vxp0U8jRjzbhh+8LY5IbqPwo0PwrqHhrwtqWm2mpm7aRXazymwwsVPGcnvg9uc1pOFBr3JO/n1MKdTFJ/vYqzXTp5a7/ACNK/wDGHh7TLo217q1tHMpwyBtxU+hxnB+taEep2M2nG/gu4ZbRVLGZHDKAOpyPSvH/AAdqPhPSLW40/wAY6YI9R81vMlu7Uycdh0JU/h+Neg+D9D0KzsLx/D+oPe2N6x3RGUOkfsBjIODg556VtXw8KS6+vR+hz4XGVcQ18OvS+q9Ub+n6lZara/aNNuY7mHcV3xtkZHamXOs6dZ6hDY3N5DFdT48qFm+Z8nAwK4P4cl9C8U654YnPEcnnQZ7jpn8VKmm+Hl/4Sf4t6nrDfNa6YPJhPbdyo/8AZj+NTLDRjKV37qV/v2KjjZzp07L3pOzXa256XRRRXEeoFFFFABRRRQAUUUUAFFFFABRRRQAUUUUAFFFFABRRRQAUUUUAFFFFABRRRQAUUUUAFFFFABRRRQAUUUUAFFFFABRRRQAUUUUAFFFFABRRRQAUUUUAFFFFABRRRQAUUUUAFFFFABRRRQAUUUUAFFFFABRRRQAUUUUAFFFFABRRRQAUUUUAFFFFABRRRQAUUUUAFFFFABRRRQAUUUUAFFFFABRRRQAUUUUAFFFFABRRRQAUUUUAFFFFABRRRQAUUUUAFFFFABRRRQAUUUUAFFFFABRRRQAUUUUAFFFFABRRRQAUUUUAFFFFABRRRQAUUUUAFFFFABRRRQAUUUUAFFFFABRRRQAUUUUAFFFFABRRRQAUUUUAFFFFABRRRQAUUUUAFFFFABXLfELxW/hLwu91aqHvZ3ENspGfnPfHfA5xXU15f8YudQ8Kq/8AqTqA3A9Oq/0zQA21+GevX+lrqOo+L9Ti1qVPMASUiOJiMheufyx9K2vhr4pv9Ztb7SdfIOq6VL5Ur95F5AY++QRnvxXcV5f4Q+X44+K1j+4YwWx0zlf/AK9AHqFeb+OdW1nU/G2neDtEvn0xbmLzri6j4fbzwD16KenrXpFeWfEqaK58XaVbeHIrmTxZCN0L25ULGh/56buCOv8AjzQBB4k8J6t4D0hvEHh/xPqUz2rK08F5JvSUEgHjp36EH616Po2spqfhe01iRfJSe2Wdwf4Rtya8q8Yr43OmQN43hjm0FHVrxNJYK5GeN2ff04rvNbvrOb4T313obAWn9mObcqMYUJgD8OlAHI6ZZ658VLm61W41m70nQ0laK0t7VirSAfxH/wCvnnpWloVj4r8HeMoNLluLzXdBu14uJFLNbH3POP5YOeKwvAGjeIPFXg21hh1mbQtJtS0aCy4luX3EsxbIwBnGK09N1DX/AAJ47sdA1zVZdY0zVMi3uJyTJG31JJ64GM45B4oA6P4ieKbrw7pFvb6Qu/VNSmFvajGdpPVse2R+dc83wu177Cb3/hMtSOtbd+fMby93Xb1zjtn9Kp/FW9u7P4h+F5LGFbieMMYYXPys5YAZ/HH5VqXvgHxbNatfr43vv7VxvEMZKW+f7gUHGO2cfhQB0fgTUtb1Hw8F8T2U1rqFu5jdpI9nnDs4/wDrVxeq2mreLPi3qek2XiLUNLtrO2RiLaZgu7A/hDAc5rqfhv4rufFHh+X+01C6hYymC4IGNxHRsdv/AK1ZFx8ONdm8Yatqlr4j/s221IjebWM+dtHRQ3G3p1BoAsad8ONXsdSt7qXxxq9ykMiu0MruVkAP3T8/Q10ni/V7vQ/C93e6bayXd2qhYYo4y5LE4BwOw6/hXn2pN4j+F+sWV5ca7c63ol3MIZ0vGLNGT3ySccZORjpgivW1YOgZTkMMg0AeX6f8ONa1nS4tT1vxbq0OqTp5oWKQqkJIyFxnt7YrU+GviHVLyfVvD+vzfar3SJQn2nvIpJHJ7njr71q+NvGdv4U09UiX7Tql18lpaJyzt0yR6D9elV/h34VufD+mXN7rDb9W1OTz7o5zs7hfwyfzoA7CiiigAooooAKKKKACiiigAooooAKKKKACiiigArM8SWk194Y1K1tl3zTWzoi+pKnArToqoy5WmiZxU4uL6nmnww8U2kNnbeF7qC4h1CNpPvoAvUtjrkHrxin3H/Jfbb/r0/8AabV6Pgbs4GfWlrqeIjzymo/Emt+558cFP2UKcp35WmtOi6b/AInnfxk/5Fmx/wCvwf8AoLVY+I2gXmreG7C+0uNpbvT2EgRBlmUgZwO5BAOPrXeUVMMS4KFl8N/xLqYKNWVRyek0l6WPPbP4sWl7YxwW2m3kusSLsW2RAVMn1z0z7VS+EKTR6j4hS6wZlmQSY6bsvn9a9NEaCQuEUO3VgOTTqp14KEoQja/mRHCVXVhVq1L8t+lt1bueb6L/AMl01j/r2/pHXpFFcXqnws0LVtUub+5nvlmuJDI4SVQoJ9PlqZThWkud8tkl32+4uNOrhotU1zXbe9t/vO0rhtc8bXHh/wATSWXiTTB/Ysq/uLmOMvvPH3snB7gjrUQ+DnhwEH7RqP8A39T/AOIruxEghERG5Au3DDORRejTenvfhb8waxNaNn7jXnzX8mrI8cvG03xV420pvA2mtbm2lD3NzHD5SAbgckDpjB5OCc4rb+JMV7pPifR/E9vbtcW9nhZQB93DE8ntkEjNekpGkSBY0VFHQKMCnVp9b96LS0Stq+/mY/2denNOXvSad0rJNbaHk/ivx4virwje2+h6ddLAiq13cXCqqxruGFGCcknFWbv/AJN9i/64p/6Or08AAYAwPail9ZjFRjCNknfcf1GpKUp1Kl3KLjt/wTy7wx48h8L+F7Gx8RWd0n7nzLWaFAyzRnkDqORnFSeDob3xV4+uPF1zbPbWUaGO1Dj73G0Y9cDJJ9TXpbxpIu2RFcZzhhmnUSxMbScY2ct9RwwU7wVSd4w2Vuq2u/I838G/8la8Uf8AAv8A0MUeOv8AkpvhX/fH/oYr0iip+s/vOe3S34WK+o/ufZc32r7ed+5xnxW/5J/df9dYv/QhWH41/wCSMaT/ALtt/wCgGvT6KVPEezUVbZ3HXwftpTlzW5o8u34nI6rq2saJ4G0290SxjvSkEXnIysSqbB8wAIrlPEfjPwh4g0KZI9JefVbhNkQ+zASI56HeOeD6Zz6V6zTBDEshkWNA56sFGT+NOnXhF3cdb9Hb7xVsLVqLljPRq1mr/Na/5nEaBD4h8N/C2M29mLjUYt0i2soJKoWztwDnOOcfhWRd/EHwnq+in/hINIMuoiPY8BtgWD4wdrnlRn3yK9RphhiMokMaGQdG2jI/GhYiLk5Tjre+jsEsJUUFCnPRK1mr/PpqeX+F9Lv9N+EuvNqEckCXEckkMMgwVXZjOO2f6Vf8J6R/b3wZ/s0EK86yhCegYOSP1Ar0SinPFSld21buKnl8IWV7pRcfvPLPDPj6HwlpK6F4psru3urIlUKxg71zkdx+fQip/DEV54w+ID+K5rWS2063Ty7USDBfggY9epJ7Z4r0l4o5cebGr7Tkblzin05YmPvOMbOW+v32FDBVPcjUneMdlbttd+R5v4d/5Ldr/wD1wP8A7TqT4yf8izY/9fg/9BavRKKlYm1WNS2yX4FPBXw86PN8Tbvbu7nMeK/FTeEvDtreLZNdmRljxv2hflzknB9Kz/HGkXPjDwNbXVhbul3GEuo4G+9yvK/XB/Su3IBHIzRWcKyg4yitU9zaph3VUoTl7rVrW287nm9n8XdPt9JWLVLK7TU4U2SQhBhnHHUnI/Ece9bfhe/8U33hi71HU4Y/tcgLWVs6bOAON3fk+tdUYo2kEjRqXXoxUZH40+rnVptWhC1/n9xFPD11JOpUukraK3ze9zzOP4i6JeWT23jjSBHfwkh4GtN6n0wGyQfrS/CvT511TV9Ut7SWy0m6OLaKTPzDcSCPXA4z716Q8McjKZI0cr90soOKfVSxEeSUIRtfz0+RnDBT9rGpVnfl20s36u55h8Sxc+HfEmn+J9OGHeN7eU9s7SBn8Cf++a6H4Z6OdK8GwSyrie9JuJCeuD939MH8a66ipliHKiqVvn+RdPBRhiXXvv07N2u/nYKKKK5TvCiiigAooooAKKKKACiiigAooooAKKKKACiiigAooooAKKKKACiiigAooooAKKKKACiiigAooooAKKKKACiiigAooooAKKKKACiiigAooooAKKKKACiiigAooooAKKKKACiiigAooooAKKKKACiiigAooooAKKKKACiiigAooooAKKKKACiiigAooooAKKKKACiiigAooooAKKKKACiiigAooooAKKKKACiiigAooooAKKKKACiiigAooooAKKKKACiiigAooooAKKKKACiiigAooooAKKKKACiiigAooooAKKKKACiiigAooooAKKKKACiiigAooooAKKKKACiiigAooooAKKKKACiiigAooooAKKKKACiiigAooooAKKKKACiiigArjvib4YuPEvhXGnDN/ZSC4twOrEdVHuR09xXY0UAeXWnxq0620cQ6tp99HrMKiN7URffk6dSeM+4z9a0PhfoOo2/9p+I9ehaC/wBXl3iJhhkjySMjtnPT0ArvzFGZBIUUuOjEcj8adQByWm+OH1D4g33hk6TNEtqhb7UWyGxjkjHAOeDmuV8SC+8E/FNvFsthNe6TdQeVM8C7mh4AOfT7o64Bya9XxznvRQB5R4l+KOm+I9BudF8L2N7qF/fxmFU8jhA3BJ65/l711vhLwtJpnw5g0HUzmSSB1mAOdpfJIB9s11CoqZ2Kq55OBjNOoA8g8M+K2+GMMvhvxdZXUcEUrtaXkMe5JFJz/wDX49eaktbm5+J3xD0zVbOxnttD0cllnnXBlbOcDt1A4GcAe9etMquuHUMPQjNKOOlAHBfE7w/qF7HpuvaHCZ9Q0ebzRCoyZEyCQB36fzrPl+NmknTittpt+2rEbFszF0k9Cc9M+2favTaTYu/dtG71xzQBxHws8OX2h6Bc3Wrx+VfalObiSIjBjHYEdj1OPes2+8a634J8XXsfi2O4vNCuGzZXUECfuefunAGfTk54716VQQCMEZHvQB474h1yT4sX9jonhuyuf7MhnEt5eTJtUAdvyJ9ye1eieLfEMfg/wnPqXkmfyQsccecZY8DJ9K3VUKoCgADoAKWgD578K+PtCs9cuPEXi2LUdR1qVj5bRxIY7dewTLjn8OPzNeseEfiLpPjO+ntdLt72J4IxIxuURQRnHG1jXWUUAFFFFABRRRQAUUUUAFFFFABRRRQAUUUUAFFFFABRRRQAUUUUAFFFFABRRRQAUUUUAFFFFABRRRQAUUUUAFFFFABRRRQAUUUUAFFFFABRRRQAUUUUAFFFFABRRRQAUUUUAFFFFABRRRQAUUUUAFFFFABRRRQAUUUUAFFFFABRRRQAUUUUAFFFFABRRRQAUUUUAFFFFABRRRQAUUUUAFFFFABRRRQAUUUUAFFFFABRRRQAUUUUAFFFFABRRRQAUUUUAFFFFABRRRQAUUUUAFFFFABRRRQAUUUUAFFFFABRRRQAUUUUAFFFFABRRRQAUUUUAFFFFABRRRQAUUUUAFFFFABRRRQAUUUUAFFFFABRRRQAUUUUAFFFFABRRRQAUUUUAFFFFABRRRQAUUUUAFFFFABRRRQAUUUUAFFFFABRRRQAUUUUAFFFFABRRRQAUUUUAFFFFABRRRQAUUUUAFFFFABRRRQAUUUUAFFFFABRRRQAUUUUAFFFFABRRRQAUUUUAFFFFABRRRQAUUUUAFFFFABRRRQAUUUUAFFFFABRRRQAUUUUAFFFFABRRRQAUUUUAFFFFABRRRQAUUUUAFFFFABRRRQAUUUUAFFFFABRRRQAUUUUAFVtQkuorCVrCETXOP3aEgAn3zVmigDn30fU47Vrk65dfbFXeR8vk564246VoaZqEl/oMN6IsyyRbvLBxlvT86p6zpOqXxlNtqe2Bh/x6GLAb1BcHPNW9Bu4rzR4Xgh+zqmYzEDnYV4IoAoQ6Rqt5CLjUNWurW5bkQ25UJF7Ec7vzq5oF9Pfae/2sq08ErQu69HKnrRq2n6lekf2fqpsk24ZBCG3H13ZyPwqHw1Ki2c1j9nW3ms5CkqqxYMTzuyeefegDYd1jjZ3OFUEk+grNl8S6PCsTS38aiYbk4PI9enH41dvv+Qfcf8AXJv5Gsjw3Z248IQAxKwmhJkyM7uvWgC9ea9pdgYxd3sSGQBlAO7I9eO1SXcsNzo80sd2YoXiJFxEc7Rj7wxWZ4QtYR4bjzGrGRm3lhnIyQB9MVU05QngvUo14RHuFUegBPFAG1b3dtY6VZme8aVJAqJPICTIT0z9aaniLSZL37Il/EZs7dueCfTPSsPVEEvhTRY3+600CnB7GtTxLZ2//CLXaiFFEMW6PC42EdMelAGpc3kFmsbXMgjEjiNcgnLHoKW5uYrS2e4uX2RRjLMR0FYGvsW0jSGY5JuoCT61e8Uf8ivf/wDXI0AQ+IPEUWk2cTQyx+dKVZFdSQUJ5P5Vp2Oo2upW5msphLGDtLAEc/jWJ4hH/FJW3+/B/MVc8TzyWvhu5aDcGYBMp1GSAf50ASP4k0eO6+zvqEIkzgjPAP16frWkXURlyyhAMlieMeua52GaWPTRZL4ZmNvs2ld8eD79aS20y/ufBcunzKYJ/mWNZGz8oOVBI9uKANKDxJo9xdi2hv4mlJwByAT7Hoa065iTUoEso7PxDos1rAu0eYoDxKR0O5eldMhBRShyuODnORQBFdXlvYwGa8mSGMfxOcVWsNc03U5DHY3kcrj+DkH8jVbW59OiubT7ZayXl0GLW8MSlm9zjOPxNZWqXd3Pq2kSzaW9kFugqyvIpZgQcrgdBQB015fWunwedezpDH0yx6/T1qrB4g0u5gE0F4joXEfAOdx6AjGRmqLRpe+NmS5UOlpaq8SMMgMx5bFR+K7SE/2fchQsq3kS5HG4Fuh9aAN26u7eygM13MkMa9Wc4FVrDXNN1OQpY3ccrjqvIP5GqF1Gl94zgguV3xW1sZkRvulycZ/CjxTCkVjFfxBUubaZDG4GDgsAV+hzQBvVi3t89t4ptInn8u1NtJJICcLx3NbQOVBrnNUtYrvxrpqTjciwO209GIPegDTste0vUZzDZ3kcsg/h5BP0z1/CrIvIDfNZiQfaFTeUwfu+tZPiuCNdFa8RQtxaMskTgYIORx+NJrJNpfaZq4GAjCGf/cf/AAOKANe5vLe0MQuJNhmcJGME7m9OKnrDcf2j4vResOnRbz6eY/T8hW5QB5trHinUNI+LKwyXEh0rEUc0RPyJvXAb255r0mvOtQ0hNd8f+JtOfGZtMi2H+642lT+YFTf8JdMPheZ+f7VB/s4p/F5/3fzx81ehVpKpGHItdE/mt/zPGoV3RnVdR6Xk18nZr8rFXSPFOoav8WWhiuZRpOJY4ogfkfYuC3vzXa6x4l0fQAv9r38VsXGVQ5ZiPXaATj3xXHafpCaF4/8ADOnJ1h0yXef7zncWP5k1o3uq6PaeMLp9L0O71fW1RUnkgXcsXHALMcLx6CnVhCc1yrS3T1tqxUKtWnSlzyXNzdbvdJ2SW/odJpGu6Zrtu02kXkd0inDbTgr9QeR+NU7vxn4fsPtP2vUo4jay+TKpRsh/QDGW/DNcvoFxeSfFi4e80r+yXn07c8AmWTzMMMOSvGf8Ks+D9OtJ/G3im8mgSSeK92Ru652A5Jx6VEqFOLbleySfTr5mscVVqKKja7bWqfRXvbf5GtJLa3njLSrmHXbmMy2hki09VYR3CEE7z2HXoeeBWzp2rWOrLOdPnEv2eUwyjaVKOOoIIFcxqQC/F/RQBgDT5cAf8CotP+JB8ULq3PyWutweenoJk+9+YyamVNSiu/Ldfe/0LhWlCbutOaz37Kz376HTnVrEayNK8/N6YvO8oKThM4yTjA/Os7VPGnh7Rrs2uo6pFFOPvRqrOV+u0HH41leC1/tTVta8TS/dupzBbMe0MfGfxP8AKqul61p0DXY8GeFrzUFllYy3XCRyt3/eOSSPahUYqTTu7W7LX1YPFTcFJNK7dtG3bpot7na2V9a6jaJdWE8dxBIMrJG2QabqFq97p8ttFdS2jyDAmhOHTnqK474aNKH8QRS2ws9moE/ZVcMsJI5UEcHp2ruqxqw9lUcV0OnD1Pb0VKS3/wCGPN/EWmavo2oaPbw+KdVkXULsQOXcZUeo4611uj6Bd6XdPNca9qGoKyFRHcMCqnPUYHWsjx1/yG/Cv/YTX+Qrsq2q1JOlHzv0Xc5qFGCrz30atq+3qcz4YubPT/Dt5eNr1xqltFNI8lzcK2YwOq4POB7fhUs3jzwzbyQJNq8KtOqug2scBuQW4+X8cVynh/8A5JJ4g/66XX8q2dI0mxT4TLH9liKy6cZZNyglnKZ3E+ufywK0qUqak3O+9un+RjSr1XCMadl7t9bv5bmvqXjPw9pF0lvf6pDHK4DBVBfAPQnaDj8a2YZ4rm3Se3kSWKRQyOjZVh6g1yPgTS7J/hvarJbRuLqJmm3KD5hyRz68ACudt764svgUzW8jKzO0AcHlVaUg/oTUPDwk+WO6dvz/AMjRYypGKnUSs4uWnS1tPPfyOyl8e+GIb82cmswCYHacBigP++Bt/Wte91Kz0/TX1C7nVLSNQ7SgFhg9DxnPWqlj4f0u38PR6WtnC1oYgrIUB38ck+pPXNcDDJIPhD4hsmkMkdhcyW8LE5+QOpA/WlGlTqP3b7pfeVPEVqKftLaptWvulez119dDs7nx34ZtLqO3uNXhSSRVYDaxABGRkgYX8cVJ4re3l8KTyyaxLpcBCML23yxUZGMbeSD7etQ6XomnDwJBZm0iMMtmrSKVB3MUyWJ9c9642V2f9n752LbQFBPoJsAVUKUHJOF9JJdP6/MirXqxpyVRJ3i3pfp0evnurHoL6rYaRa6fDf3xzcbYoZZQSZWx1JA4z1ycVUs/G3hy/wBSFhaatDJcltqrhgGPoGIwfwNc943tYr3/AIRG2uF3RS3iK656gqMirnxJ0+0XwNNLHbxxyWbxtAyKAYzvA4x04NKNKm+VSveX+dhzxFaPO42tC3e70v3/AMzq76/tNMtHutQuI7eBPvSSNgf/AK/asvSvGfh/Wrv7LpupxSznpGVZC303AZ/CqPiq70OO10v+3rObUrhnD2tpAhd5HAGTtBAPXvXMeMNT1G8XSbiXw3LpkcN/F5V3NMm8c/d2DkZ/Liilh1NK99fRL/gjxGLlSk2rWVtLNv5taL53PUaKKK4j0wooooAKKKKACiiigAooooAKKKKACiiigAooooAKKKKACiiigAooooAKKKKACiiigAooooAKKKKACiiigAooooAKKKKACiiigAooooAKKKKACiiigAooooAKKKKACiiigAooooAKKKKACiiigAooooAKKKKACiiigAooooAKKKKACiiigAooooAKKKKACiiigAooooAKKKKACiiigAooooAKKKKACiiigAooooAKKKKACiiigAooooAKKKKACiiigAooooAKKKKACiiigAooooAKKKKACiiigAooooAKKKKACiiigAooooAKKKKACiiigAooooAKKKKACiiigAooooAKKKKACiiigAooooAKKKKACiiigAooooAKKKKACiiigAooooAKKKKACiiigAooooAKKKKACiiigAooooAKKKKACqeq6bHqunPayOU3EMrr1Vgcg1cooAwfJ8UGL7ObjTtv3ftG19+PXb0zV210W3t9DOmMWkjdWEjHqxPU1o0UAc/BZ+JLCAWlrPp9xDGNscs4cOB7gcGtDR9LOmwymaYz3Nw/mTS4xub2HpWhRQBHcxma1ljXAZ0KjPuKqaTYy2Gh29lMyNJFHsJUnGav0UAZ+h2EumaTFazsjOhYkoSRySe9VrbR7iHQb2yZ4zJcPKykE7RuJxnitmigDEutFuJ9H020R4hJaSxO5JOCF644q/q9nJf6PdWkJVZJoyilzwCfWrlFAGXqOkNf6HHZiXypowjJIOQrr0P0rOu9K1/VdLmtNRurNAUwggDDzG/2iRwPYCulooAzNR0lr/QVsfMEcqqhV8ZAZcY/Diljs7u/0ia010W5aQFSbYtjHY8960qKAMFbfxNBCLaKfT5UUbVuJA4fHqQOM1cfTbo6H9jTUJhcheLo/eLdfy9q0qKAOeurHxBqdqbG9ksIreT5ZZYtxdl9geBW/FGsMKRp91FCj6CnUUAZOq6beSahb6jpckIuYUMZScHY6n3HINU7jStY1G7sbi9ltYxbTiTyIi2MdzkjlvyFdFRQBkapp5n1GC5sL1LXUEQhQwDCVO4K9ce9ZOt2t9tsJNVuopZvtsQihgUqo55PPJOPyroNR0i01TYblGEkfMcsbFXT6EVBZ+H7O0uluma4up04SS5lMhX6ZoANU0ue4uob7TpUhvYAVUyAlJFPVWxzVU6bqup3EP8Abb2qW0LiQQ224+Yw6bie1b1FABWLqmjXV7rVtfWtwsJt4mCk5Pzk8ZHdeuea2qKAMCTTdX1WWKPWHtIrSNw7R2xYmUjoCT0FaWswwz6Ldx3DBIzE2W/u4HBq7VHUNHs9Tkje9V5BH0TeQp+oHWgCl4TtZYtEW4uiWuLs+bIxHJ4wP0ArbpAAqgKMADAA7UtAGBZ6DdW/jzUNbd4TbXVqkKICd4K4zkYxjj1rJ/4QSU/ED+1/tEf9l+b9q+y7jn7RjG7GMY75zXa0Vuq81t2scssJSkkmtnzfMwLzQbq48eafraPCLa1tXhdCTvJbOMDGMc+tZs2heIdH8Q6hqHhl9Png1JxJNBe71KOBjKleo712NFJVpLTyt+oSwsJa6p3vfztb8jkNG8Na3B40bXtZvLWcy2hidIdwEbZBCqCPugDqTnJrQ8PaDdaTrOuXdy8LR6jdCaIRkkqOfvZA557ZrfoolWnK6fa33DhhacGmujb+b0MC80G6uPHmn62jwi2tbV4XQk7yWzjAxjHPrWP8UoC2hWdxaymLUI7tUtdv3mLgqVH4fyrt6xR4S0k+ITrUsUk15u3IZZCyxnGMqvQVdKtyzUpfZMq+HcqcoQ+09fLzX3aFrR9Ji0rw9baWoykMIjbH8Rx8x/E5rl9M0Txh4dtf7K0ebSZ7BXYwT3IkEkak5wQOCeTXcUVEa0le+t+5rLDQly2uraK3bt+BzPg7w3feHm1Q6jdR3bXlz5yyqTubjksMDBz2Ga6aiionN1Jc0jSlSjSgoR2RgeJNButY1HRZ7Z4UWwvBPKJCQWX0XAPP1xW/RRQ5tpRfQcacYylJbs5DS/Cd9ZeBtU0aWW3NzePM0bKzbBvHGTjP6VrWekT2/guPSHeM3C2X2csCdm7ZjOcZxn2rZoq5Vpy373MoYanC1u1vkY/hnSZ9F8KWemXTxvNBGUZoySpJJPGQD39Kz9H8I+T4Dbw9rLRyeZ5gdoCSBliwIJA5HHauoope2ndvu7/Mf1enZK2yt8tP8ji4tO8eWdiumW17pEsCL5cd7KsgmC9ASvTcB9atT+DfI+Htx4e02ZWnmT5p5yQHcsCWOAT29+1dVRVvETurWWt/mQsJTSabb0tq9k+xTs7SS30SCzcqZI7dYiQeMhcflXLN4N1A/C8+G/Otvtn9/c3l/wCs3dduentXa0VEasou673+4ueHp1FaXZr5P/hjm9c8O3epTeH3gkhUabcrLNvYjcAAPlwOTx3xVrxdo1xr/he602zeJJptm1pSQowwPOAT29K2qKFVknF9v+HG8PBqaf2t/uscx4h8O6heXOl6nos9vHqWmghFuATHIrDBBxyKytX8OeLfEsdo2qXOmWy21ykq21uX2tg8lmIPPoBxz1rvKKuOInG1raGVTB06jd27PdX0YUUUVznYFFFFABRRRQAUUUUAFFFFABRRRQAUUUUAFFFFABRRRQAUUUUAFFFFABRRRQAUUUUAFFFFABRRRQAUUUUAFFFFABRRRQAUUUUAFFFFABRRRQAUUUUAFFFFABRRRQAUUUUAFFFFABRRRQAUUUUAFFFFABRRRQAUUUUAFFFFABRRRQAUUUUAFFFFABRRRQAUUUUAFFFFABRRRQAUUUUAFFFFABRRRQAUUUUAFFFFABRRRQAUUUUAFFFFABRRRQAUUUUAFFFFABRRRQAUUUUAFFFFABRRRQAUUUUAFFFFABRRRQAUUUUAFFFFABRRRQAUUUUAFFFFABRRRQAUUUUAFFFFABRRRQAUUUUAFFFFABRRRQAUUUUAFFFFABRRRQAUUUUAFFFFABRRRQAUUUUAFFFFABRRRQAUUUUAFFFFABRRRQAUUUUAFFFFABRRRQAUUUUAFFFFABRRRQAUUUUAFFFFABRRRQAUUUUAFFFFABRRRQAUUUUAFFFFABRRRQAUUUUAFFFFABRRRQAUUUUAFFFFABRRRQAUUUUAFFFFABRRRQAUUUUAFFFFABRRRQAUUUUAFFFFABRRRQAUUUUAFFFFABRRRQAUUUUAFFFFABRRRQAUUUUAFFFFABRRRQAUUUUAFFFFABRRRQAUUUUAFFFFABRRRQAUUUUAFFFFABRRRQAUUUUAFFFFABRRRQAUUUUAFFFFABRRRQAUUUUAFFFFABRRRQAUUUUAFFFFABRRRQAUUUUAFFFFABRRRQAUUUUAFFFFABRRRQAUUUUAFFFFABRRRQAUUUUAFFFFABRRRQAUUUUAFFFFABRRRQAUUUUAFFFFABRRRQAUUUUAFFFFABRRRQAUUUUAFFFFABRRRQAUUUUAFFFFABRRRQAUUUUAFFFFABRRRQAUUUUAFFFFABRRRQAUUUUAFFFFABRRRQAUUUUAFFFFABRRRQAUUUUAFFFFABRRRQAUUUUAFFFFABRRRQAUUUUAFFFFABRRRQAUUUUAFFFFABRRUdxPFa28k9w4jiiUu7HooHJNAElFQWV7bajZRXdjMs9vMu6ORejD1Fc14k8aXOma5Doeg6PJrGqyRec0QlESxp6ljQB1lFVdMnu7nTLebUbQWV06Ay24kEnln03Dg1aoAKKwYPEs03ja40E6RdJFDAJRfEfu3PHHT39ex4reoAKKyfE3iK18LaDNq1/HNLBCyqywgFjuYAdSB39atX2p22naPNqd2xS3hhMznHIUDP50AXKK5Lwt4r1vxJdRzy+GmsdImjLw3kl0pZh2+QDPP+TXW0AFFZFj4jtb/wAS6hokUUy3GnojyuwGxg3THOfzArXoAKKKKACiiigAooooAKKKKACisnxH4htfDGlC/vo5pYjKkW2EAtljgdSOK1QdygjuKAFooooAKKwdN8STah4r1LRn0m6t47JQVvJB8k2fTj345Nb1ABRWT4i8RWvhrT47y9imkjknSACEAncxwDyRxWsDkUAFFFFABRRRQAUUVkzeIrWHxZb+H2imN1cW7XCuANgUHGCc5z+FAGtRWDH4kmfxtJoB0m6WJIPNF+R+7J9On6569q3qACiiigAooooAKKKKACiiigAooooAKKKKACiiigAooooAKKKKACiiigAooooAKKwfEXiWbQr7TLeHSLq/F9P5TSQDiEccng+vtwDzW9QAUUUUAFFFFABRRRQAUUUUAFFFFABRRRQAUUUUAFFFFABRRRQAUUUUAFFFFABRRRQAUUUUAFFFFABRRRQAUUUUAFFFFABRRRQAUUUUAFFFFABRRRQAUUUUAFFFFABRRRQAUUUUAFFFFABRRRQAUUUUAFFFFABRRRQAUUUUAFFFFABRRRQAUUUUAFFFFABRRRQAUUUUAFFFFABRRRQAUUUUAFFFFABRRRQAUUUUAFFFFABRRRQAUUUUAFFFFABRRRQAUUUUAFFFFABRRRQAUUUUAFFFFABRRRQAUUUUAFFFFABRRRQAUUUUAFFFFABRRRQAUUUUAFFFFABRRRQAUUUUAFFFFABRRRQAUUUUAFFFFABRRRQAUUUUAFFFFABRRRQAUUUUAFFFFABRRRQAUUUUAFFFFABRRRQAUUUUAFcz48TWH8L3X9iy2kaCCU3P2lWJZNp4XHQ/WumrL8T/APIp6r/15y/+gGgDlPhjF4kHhfTnubjT20o2h+zxojiZWz8u49Mdelc/DB4y/wCFs3CLeaR/an9mqWkMUnlGPdwAOuc13Pw5/wCSc6J/17D+ZrKt/wDku13/ANghP/Q6AO2tRcCzhF6yNcBB5pjB2lsc4z2zUtYXiLwx/wAJDJA39tatpnkhhjT7nyg+cfe4OcY4+pqrongr+xdUS8/4SLXb/apHkXt55kZz3K4HNAC2viC8m+Jl7oLiP7HBYpOhC/PuJAOTnpWfrfifXL/xPJ4d8Fw2puLZA97eXeTHBnooA6t/n3qOw/5Llqn/AGCov/QhTPAbrH408Y28xAuvtyyYPUxkcH6UAc38SLzxRY+B7rT/ABUlpdR3Tx+ReWKkBWDglHU9MgHBHpXTfEVNabwHO2mTWaWK2LfbEmRjIwwMbCOB36034zyxJ8N7lJCA8k8QjB7ncCcfgDWr41/5Jfqv/YPP/oNAFb4fReI10SxbVrjT5NONmn2dLdGEi8DG4ng8eldjWN4Q/wCRM0j/AK84v/QRWzQB5UNS1O0+LfiS00G1juNRu4YBE05IhhAX5ncjnAyOB1JrSvdf8Z+DmhvfFC6dqWkNIEnlslZZLfJwGweo/wA8U7w9NCnxr8TROQJpLaExg9SABn+YrZ+JM0MPw51g3DKA1uUXPdiRj9aAL3iPW7vTNA+26Lp0uq3EpUQRRAkHd0ZiOi1zVzL8S9P02TVJpdEn8pTLJYJG4O0DJAb1x7/nTr/xBqfh3wd4bsNMto5tW1FIreH7QTsQ7Bkt3pmpeHPF0mkXk+s+NSsKwO0lvaWSRr908bzzj8KAOis/Flpc+Bh4mZGS3FsZ3j6lcDlffkYrnbC9+IWv6WmsWEujWUFwnm21nLG7syHkbm7Ej0/Spvhvb2138I7S3vwptpYpUlDnAKliDzVe38HeKvD9uq+D/FMc9iozDZajCHUL1AEgycfTFAHU6BrN3e+Hft2u2D6XcQ7hcRyAgDb1Zc/wnqK5i01rxr4tV7/w0mnaZpJYi3e+VmkuADjdgdB/nmmjxLeeLvhh4iElqLbU7OOa1niibK71HO01T8J6F4svvCWm3Gl+ORb2j26+XANLibyhjG3OecdKAOh8L+KNSutZuvD/AIotYbbV7ZBKrW7ExXEZ43LnkVU1XxNr+reJ7jQfBUVopsQPtt9eAlI2PRFA6n86XR/B2q23jSDWda8UJqtzb27RCIWaQtsb/dbpn2qD4aHy9W8W21wR9rXVndweuw/d/rQBz3j++8SWnhyLTfFcdrP595C1ve2QIQkNko4PQ45BHBr12P8A1a/QVwfxgmhTwhbRyMokkv4RGD1JBycfhXeR/wCrX6CgDD8bazdeH/B1/qdgIzcW6goJFyvLAcj8aytHvPGWu3tlqX+g6dor7WNvIpNxMmOSeCFz1AzUvxS/5Jrq3/XNf/QxXRaP/wAgKw/69o//AEEUAYmj+Ib2+8f65o0wi+y2EUTxFVw2WHOTnms3UvE3iDWfEt1ongqK0RbDAvL+8BKK5/gUDqfz/Cm+G/8AksHiv/rhb/ypnwvZY5vE1tLxdpq0rSg9SD90/TigDnvHl/4itdHs9M8Vx2szTX8L217ZAhGw3zIwPRu47EV6B4u8Tp4W0NblYDdXc8iwWtupwZZG6D6VgfF2aFPDunRSFfNk1KHywepwef0o+ILrbeIvCF7dcWkWobZGPRSQNpNAEkMnxJt4xqF4NGuEA3yadCHWTb3VWPG76nFXfAXiyfxXZ6rd3KqkVvetFCNhRhGFBG7J6811jMqoWYgKBkk9hXmHw5cXnhnxg9gdwm1C5MJXuCny4/SgDSj8QeLPFt1cSeD1sLLSYJDEl5eqzNcMOCVA6DP+e1XfD/ibWIfEh8OeL7e2jv3iMtrdWhPlXCjrweQRXLeAtE8UX/guyl0jxmLG2AZBa/2bHIYiGOVLE5J+tb1t4K1lvFul6prvi5NRlsCzRwfYUiYqwweVbp07GgDvK4W//wCS5aX/ANgqX/0I13VcLf8A/JctL/7BUv8A6EaANOLxDev8Tp9AIi+xx2C3AO359xbHXPSsq88WeIJPHWqeHNGtLaaWOGN7eSYERw5GWaQg5I5GABS2/wDyXa7/AOwQn/odLof/ACWfxJ/15Qf0oArTeIvF/hPWLBfFn9n3umX0wg+0WaMrQOemQe3+c10vi3xMPDWmRvDbNeX11KILS1U4Msh/kB1NYnxZH/FK2n/YRg/9CrP+JFvfS+MPCRstQGnbpZY0ujEJBHIVGPlPBzyPxoAtyy/E2ytW1GX+xLoIu99PiVw2O6q3r+P510mj+JoNb8JprdlbzSAxsxtkGZA69Ux65GKwj4X8cY5+IHH/AGCIv8aTToB8Nvh5qF1Jerq/lu9yrogjV2YgYwCRjPpQBDaXHxI1u3N/CulaNE/MNndRu0mO289j+X0FbPgvxNdeILW8g1a1S11PTpzb3UcZyhPZl9jWRZaZ4812zhvbzxPb6Ok6iQWtnYrJtU8gb2Oc4+tU/hfA1r4k8WwPdyXrx3iK1xIQWkODknFADdK8U+MfFIv7PQorG3ks72WGW9uVOxVBwqqozlscknjpXoWnpdx6bbpqMiS3axqJnjGFZ8ckcDjPtXGfCv8A5B+uf9hef+dd3QBzPj/xFdeF/DI1GyCM4uI42DpuyrHnAyOcVFo0njHUNYh1DUTY2OjuCRYgFp9pHylmxgHoSAapfFz/AJElP+v6D/0KuwuFd9NlWL75hIX644oA4tvEXijxTqV1H4MSxtdNtJDC1/ehm89x1CAdh61Y0XxNrdl4mj8O+MoLUXNzGXs7y0JEc+OqkHkNXKfDzRPFF94QhbSfGH9mxRyyI9odOjkMbhjnLE5JPX8a6FPBOuTeJNKvtd8YJqDWEpmigNgkTN2OCrZ/Q0AX/FXinUrbW7Xw74VtYbnV7lDK73BPlW8f95sc/wCe/SszU9b8a+EtJub/AF/+ztQtRGQs1mjBoJMfKWU4yhOAccjNS6c623xw1aO6+WS60+Jrbd/EF+8B+VbHxEuIbf4d601yyqr2rIu7ux4UfnigCjf+KtQtvhJH4kjEP25rSKYgodm5sZ4z059aNHvPGWu3tlqX+g6dor7WNvIpNxMmOSeCFz1AzWLq/wDybrD/ANg2D+a16Bo//IBscf8APtH/AOgigDlL3xJ4i13XrvS/BMVnHDYN5d1qF7kr5n9xAOpH+cUWHiTxDofiKz0jxpFZyR6gSlpf2QYKX/uMD0P+ea5jwPo3iW9t9VXSfFf9k+TqMyzWp0+OUhs53FmOea3L3wL4g1G8086742S6S2ukuIojp0cZZlOeCrA9M0AbHizxLqVjq2n6D4ct4JdU1AM4kuSfKhjXqxA5J9qqJeeOtE1Oz/tWKz1qwuJBHK1hCyy2+f4sdCo/zir/AIr8K2viO6tJYdSk0zV7QM1tcwMN4HcFc8iufvtX8ZeBfs9zr95Z67pLzLDJMsXkzx7jgHA4P60Ab/jDxNeaPNp2l6Jbwz6tqkhjtxcEiNABks2OTis6S68faHPb3F+lhrdm8ipPDYwsssQJxuX1A/zjrWt4r8NWXiiKzD30lhfwP5tncwuBIhxzgdx7VzOp6h438B2Y1HVNQs/EGlROqzFofJnVScZGOPzzQB0XivxDeaNqnh+CzEezUb0QTeYuSFxnjng07xh4qk8PpZ2emWovdX1GTy7S3JwOOrN/sisbx3Mtzq3gqeP7kupK659CoNO1plg+NWgSXWBFLYzRwk9PM54+uKAI7q6+I+iWjanef2PqUEI3z2durq4XqdpPUj3z+NdDJ4ljvPAc3iDSCCPsjzxBxnDAHgj2IxW1dSRw2c0k5CxIhZy3QDHNeZ+EUZfgfqr7SsUq3bwgjHyHOP60AX9K1nxz4r0Gz1DRRpmnRNCN0l2jFp5MfMVUZCpngZ5NavgrxRqGsXGo6T4gtorfVtMcLMISdkinowzVr4ff8k80P/rzT+VY+hcfGfxLj/nzg/pQB3dFFFABRRRQAUUUUAFFFFABRRRQAUUUUAFFFFABRRRQAUUUUAFFFFABRRRQAUUUUAFFFFABRRRQAUUUUAFFFFABRRRQAUUUUAFFFFABRRRQAUUUUAFFFFABRRRQAUUUUAFFFFABRRRQAUUUUAFFFFABRRRQAUUUUAFFFFABRRRQAUUUUAFFFFABRRRQAUUUUAFFFFABRRRQAUUUUAFFFFABRRRQAUUUUAFFFFABRRRQAUUUUAFFFFABRRRQAUUUUAFFFFABRRRQAUUUUAFFFFABRRRQAUUUUAFFFFABRRRQAUUUUAFFFFABRRRQAUUUUAFFFFABRRRQAUUUUAFFFFABRRRQAUUUUAFFFFABRRRQAUUUUAFFFFABRRRQAUUUUAFFFFABRRRQAUUUUAFFFFABRRRQAVHc28d3ay2867opkKOvqCMGpKKAOS8K+DdQ8LXvlxeIZrrR0VhDYTQDMeTkfPnPH071fj8M7PHc3iT7XnzLMWv2fy+mDnduz+mK3qKACiiigDCg8NeR45uvEX2vd9otVtvs/l424Od27PP0xVHxF4JbVNYj1rRNUm0bV0TYbiJA6yr6Oh4P+etdXRQBwGo/Da+1/Sp4vEviSTUL11CwTG1VY7bkElY1IBY4xnPSur1vRf7Y8L3Wj+f5P2i3MPnbN23jGcZGfpmtSigCnpGn/wBlaLZ2Hmeb9mhWLzNu3dgYzjJxVyiigDjL74erd+I9S1uLVJbW9uhGbaaGIB7VkGDyT8wbuMDpUCeANU1S/t5fGXiWXWba1cSR2iWywRsw6FtvX/PNd1RQBh+KfC1v4n06GFriWzuLaQS2tzD96Fx3x3HtWF/whHiHUoJLXxN4vlv7FlK/Z4rRIQ5xxvK8kd8Z59a7migDnNG8G22n+BR4YvpvttuY3jkkCeWWDEngZOCM+tYkPgfxVYW4sNM8czQ6co2oklijyIvoHJz+PFd9RQBj+G/DNl4Y0b+z7QvMHYvPNMdzzOerNXOt4A1XSbqZvBnieXR7Wdy7Wclss8aMepTd936Y/Gu6ooA5jwz4LTQ9RuNV1HUJtW1e5XZJdzKF2r/dVR90VBr/AIHkvtc/tzw9q82i6qU2SypGJI5lHTch4J9/0rrqKAOBvvhtea3YH/hIfEUl/qIkRorhrZVSBVbJCRqQATjBbNd6o2qB6DFLRQBkeKdC/wCEl8NXek/aPs32lQvm7N+3BB6ZGenrWjZ2/wBksYLbdv8AJjWPdjGcDGcVNRQBg6b4Z/s/xhquu/a/M/tGONPI8vHl7B13Z5z9BWdrvgaa611tc8N6xLomqSKEmdIxJHOB03IeM+/6V19FAHBXnw2utYtFfX/EMl/qSzRuly9sqpEqtkqkYIAz3NdF4si0Gfw+9r4plijsp2WMNI235yeNp9f89K26qanpdlrOnyWOp2yXNtKMNG44+vsfcUAcfB8O/KiEd74s1a60dBu+ySzgIyDszjquO3FQfCKNBpuuzWyBbSbV5mtyowpTgDHtVr/hU3h8qIWudUazByLM3reSPbHX9a7Cw0+00uxis9Pt0t7eIbUjQYAFAHI3fgK+s9Uub7wb4gl0T7U2+e2MCzQs/dgrfdP51b0DwS2n602t67q02tats8tJpIxGkS+ioOBXV0UAFYU/hrz/ABza+Ivte37PatbfZ/Lzuyc7t2ePpit2igDBj8M7PHc3iT7XnzLMWv2fy+mDnduz+mKWx8NfYvGmpa/9r3/boY4vI8vGzb33Z5z9BW7RQBh+LPDf/CUaVFZfavsvl3Mc+/y9+dpzjGR19an8Q+HbHxNo7afqKtsyGSSM4eJx0ZT2NatFAHBP4I8WTQGxuPHlw2nkbWUWSCZl9PMznp3roYPCGk2/hFvDcULDT3iMbDd8zZ6tn1zzmtyigDhLXwR4ps40sIPHNwuloNix/Y0MwT+6JDyDjv8ApWp4S8Fw+ErzVJLW6aaK+kV1jZMGPAPBYk7ic9eK6eigDB8K+Gf+EZt76L7X9q+13kl1ny9mzcfu9TnHrW9RRQBh+LvDf/CVaINP+1fZcTxzeZ5e/wC6c4xkda21G1QPQYpaKAOL1DwHeQaxcan4Q16XQ5rtt1zD5KzQyN/e2twD+dTaH4HltddXXPEesTa3qcaFIXeIRxwg9dqDjPv+lddRQByfizR/D/iHVLKwvtQax1pAZLOW2l2TqO+Pb2+uK5vxX4Ri0jwbql/4h8QXuryx2rpareSYjSRhgEL3fnrXb+IfCej+KII01e18x4jmKZGKSRn2Yfy6VjWvwv0CK8iub577VHhOYlv7oyqn4cA/Q5oASz8OSa78ILDQ5pjZyTWEKM5j37CAD0yM9PWuts7f7JYwW27f5Max7sYzgYzipgAAABgDoKKAOQ1nwPNNrcmteGdZm0PUJhi4KRCWOfHQsh4z71HpngS7bW7fV/Fmuza3dWvNtH5KwxRH12rwT78V2dFAHM+J/B39uaha6ppupTaTq1opWK6iUOCp/hZT94VmR+AtW1O9t5fGXiaXV7e2kEkdpHbLBGzDoW2/e/L8a7migDnPFPhCPxFJaXdtfTaZqViSba7hAJXPUEdx7VjP4B1rWZIo/GHiuXVLCJw/2OK0SBZSOm4r1Ht+td5RQBg6/wCGF1u90WdLkWy6VdCcIIt3mADG3qMfXmpPE/hez8UaelvdvJBNC/mW9zCcSQv6g1tUUAcFN4D8RapD9h8QeNLi80w4DwQ2iQvKo7M45/nmuqutCt5PC82h2W20t2tjbx7V3CMEY6Z5/OtOigDO8P6T/YXh2x0vzvP+yQrF5uzbvx3xk4/Oqdj4a+xeNNS1/wC17/t0McXkeXjZt77s85+grdooAKKKKACiiigAooooAKKKKACiiigAooooAKKKKACiiigAooooAKKKKACiiigAooooAKKKKACiiigAooooAKKKKACiiigAooooAKKKKACiiigAooooAKKKKACiiigAooooAKKKKACiiigAooooAKKKKACiiigAooooAKKKKACiiigAooooAKKKKACiiigAooooAKKKKACiiigAooooAKKKKACiiigAooooAKKKKACiiigAooooAKKKKACiiigAooooAKKKKACiiigAooooAKKKKACiiigAooooAKKKKACiiigAooooAKKKKACiiigAooooAKKKKACiiigAooooAKKKKACiiigAooooAKKKKACiiigAooooAKKKKACiiigAooooAKKKKACiiigAooooAKKKKACiiigAooooAKKKKACiiigAooooAKKKKACiiigAooooAKKKKACiiigAooooAKKKKACiiigAooooAKKKKACiiigAooooAKKKKACiiigAooooAKKKKACiiigAooooAKKKKACiiigAooooAKKKKACiiigAooooAKKKKACiiigAooooAKKKKACiiigAooooAKKKKACiiigAooooAKKKKACiiigAooooAKKKKACiiigAooooAKKKKACiiigAooooAKKKKACiiigAooooAKKKKACiiigAooooAKKKKACiiigAooooAKKKKACiiigAooooAKKKKACiiigAooooAKKKKACiiigAooooAKKKKACiiigAooooAKKKKACiiigAooooAKKKKACiiigAooooAKKKKACiiigAooooAKKKKACiiigAooooAKKKKACiiigAooooAKKKKACiiigAooooAKKKKACiiigAooooAKKKKACiiigAooooAKKKKACiiigAooooAKKKKACiiigAooooAKKKKACiiigAooooAKKKKACiiigAooooAKKKKACiiigAooooAKKKKACiiigAoqLypf8Ant/47R5Uv/Pb/wAdoAloqLypf+e3/jtHlS/89v8Ax2gCWiovKl/57f8AjtHlS/8APb/x2gCWiovKl/57f+O0eVL/AM9v/HaAJaKi8qX/AJ7f+O0eVL/z2/8AHaAJaKi8qX/nt/47R5Uv/Pb/AMdoAloqLypf+e3/AI7R5Uv/AD2/8doAloqLypf+e3/jtHlS/wDPb/x2gCWiovKl/wCe3/jtHlS/89v/AB2gCWiovKl/57f+O0eVL/z2/wDHaAJaKi8qX/nt/wCO0eVL/wA9v/HaAJaKi8qX/nt/47R5Uv8Az2/8doAloqLypf8Ant/47R5Uv/Pb/wAdoAloqLypf+e3/jtHlS/89v8Ax2gCWiovKl/57f8AjtHlS/8APb/x2gCWiovKl/57f+O0eVL/AM9v/HaAJaKi8qX/AJ7f+O0eVL/z2/8AHaAJaKi8qX/nt/47R5Uv/Pb/AMdoAloqLypf+e3/AI7R5Uv/AD2/8doAloqLypf+e3/jtHlS/wDPb/x2gCWiovKl/wCe3/jtHlS/89v/AB2gCWiovKl/57f+O0eVL/z2/wDHaAJaKi8qX/nt/wCO0eVL/wA9v/HaAJaKi8qX/nt/47R5Uv8Az2/8doAloqLypf8Ant/47R5Uv/Pb/wAdoAloqLypf+e3/jtHlS/89v8Ax2gCWiovKl/57f8AjtHlS/8APb/x2gCWiovKl/57f+O0eVL/AM9v/HaAJaKi8qX/AJ7f+O0eVL/z2/8AHaAJaKi8qX/nt/47R5Uv/Pb/AMdoAloqLypf+e3/AI7R5Uv/AD2/8doAloqLypf+e3/jtHlS/wDPb/x2gCWiovKl/wCe3/jtHlS/89v/AB2gCWiovKl/57f+O0eVL/z2/wDHaAJaKi8qX/nt/wCO0eVL/wA9v/HaAJaKi8qX/nt/47R5Uv8Az2/8doAloqLypf8Ant/47R5Uv/Pb/wAdoAloqLypf+e3/jtHlS/89v8Ax2gCWiovKl/57f8AjtHlS/8APb/x2gCWiovKl/57f+O0eVL/AM9v/HaAJaKi8qX/AJ7f+O0eVL/z2/8AHaAJaKi8qX/nt/47R5Uv/Pb/AMdoAloqLypf+e3/AI7R5Uv/AD2/8doAloqLypf+e3/jtHlS/wDPb/x2gCWiovKl/wCe3/jtHlS/89v/AB2gCWiovKl/57f+O0eVL/z2/wDHaAJaKi8qX/nt/wCO0eVL/wA9v/HaAJaKi8qX/nt/47R5Uv8Az2/8doAloqLypf8Ant/47R5Uv/Pb/wAdoAloqLypf+e3/jtHlS/89v8Ax2gCWiovKl/57f8AjtHlS/8APb/x2gCWiovKl/57f+O0eVL/AM9v/HaAJaKi8qX/AJ7f+O0eVL/z2/8AHaAJaKi8qX/nt/47R5Uv/Pb/AMdoAloqLypf+e3/AI7R5Uv/AD2/8doAloqLypf+e3/jtHlS/wDPb/x2gCWiovKl/wCe3/jtHlS/89v/AB2gCWiovKl/57f+O0eVL/z2/wDHaAJaKi8qX/nt/wCO0eVL/wA9v/HaAJaKi8qX/nt/47R5Uv8Az2/8doAloqLypf8Ant/47R5Uv/Pb/wAdoAloqLypf+e3/jtHlS/89v8Ax2gCWiovKl/57f8AjtHlS/8APb/x2gCWiovKl/57f+O0eVL/AM9v/HaAJaKi8qX/AJ7f+O0eVL/z2/8AHaAJaKi8qX/nt/47R5Uv/Pb/AMdoAloqLypf+e3/AI7R5Uv/AD2/8doAloqLypf+e3/jtHlS/wDPb/x2gCWiovKl/wCe3/jtHlS/89v/AB2gCWiovKl/57f+O0eVL/z2/wDHaAJaKi8qX/nt/wCO0eVL/wA9v/HaAJaKi8qX/nt/47R5Uv8Az2/8doAloqLypf8Ant/47R5Uv/Pb/wAdoAloqLypf+e3/jtHlS/89v8Ax2gCWiovKl/57f8AjtHlS/8APb/x2gCWiovKl/57f+O0eVL/AM9v/HaAJaKi8qX/AJ7f+O0eVL/z2/8AHaAJaKi8qX/nt/47R5Uv/Pb/AMdoAloqLypf+e3/AI7R5Uv/AD2/8doAloqLypf+e3/jtHlS/wDPb/x2gCWiovKl/wCe3/jtHlS/89v/AB2gCWiovKl/57f+O0eVL/z2/wDHaAJaKi8qX/nt/wCO0eVL/wA9v/HaAJaKi8qX/nt/47R5Uv8Az2/8doAloqLypf8Ant/47R5Uv/Pb/wAdoAloqLypf+e3/jtHlS/89v8Ax2gCWiovKl/57f8AjtHlS/8APb/x2gCWiovKl/57f+O0eVL/AM9v/HaAJaKi8qX/AJ7f+O0eVL/z2/8AHaAJaKi8qX/nt/47R5Uv/Pb/AMdoAloqLypf+e3/AI7R5Uv/AD2/8doAloqLypf+e3/jtHlS/wDPb/x2gCWiovKl/wCe3/jtHlS/89v/AB2gCWiovKl/57f+O0eVL/z2/wDHaAJaKi8qX/nt/wCO0eVL/wA9v/HaAJaKi8qX/nt/47R5Uv8Az2/8doAloqLypf8Ant/47R5Uv/Pb/wAdoAloqLypf+e3/jtHlS/89v8Ax2gCWiovKl/57f8AjtHlS/8APb/x2gCWiovKl/57f+O0eVL/AM9v/HaAJaKi8qX/AJ7f+O0eVL/z2/8AHaAJaKi8qX/nt/47R5Uv/Pb/AMdoAloqLypf+e3/AI7R5Uv/AD2/8doAloqLypf+e3/jtHlS/wDPb/x2gCWiovKl/wCe3/jtHlS/89v/AB2gCWiovKl/57f+O0eVL/z2/wDHaAJaKi8qX/nt/wCO0eVL/wA9v/HaAJaKi8qX/nt/47R5Uv8Az2/8doAloqLypf8Ant/47R5Uv/Pb/wAdoAloqLypf+e3/jtHlS/89v8Ax2gCWiiigAooooAKKKKACiiigAooooAKKKKACiiigAooooAKKKKACiiigAooooAKKKKACiiigAooooAKKKKACiiigAooooAKKKKACiiigAooooAKKKKACiiigAooooAKKKKACiiigAooooAKKKKACiiigAooooAKKKKACiiigAooooAKKKKACiiigAooooAKKKKACiiigAooooAKKKKACiiigAooooAKKKKACiiigAooooAKKKKACiiigAooooAKKKKACiiigAooooAKKKKACiiigAooooAKKKKACiiigAooooAKKKKACiiigAooooAKKKKACiiigAooooAKKKKACiiigAooooAKKKKACiiigAooooAKKKKACiiigAooooAKKKKACiiigAooooAKKKKACiiigAooooAKKKKACiiigAooooAKKKKACiiigAooooAKKKKACiiigAooooAKKKKACiiigAooooAKKKKACiiigAooooAKKKKACiiigAooooAKKKKACiiigAooooAKKKKACiiigAooooAKKKKACiiigAooooAKKKKACiiigAooooAKKKKACiiigAooooA//9k=)"
      ]
    },
    {
      "cell_type": "markdown",
      "metadata": {
        "id": "E-4Zve40XHaS"
      },
      "source": [
        "### Часть 2."
      ]
    },
    {
      "cell_type": "markdown",
      "metadata": {
        "id": "cYFL-5yFXHaS"
      },
      "source": [
        "Логистическая и линейная регрессия на усредненных Word2Vec векторах. "
      ]
    },
    {
      "cell_type": "code",
      "execution_count": null,
      "metadata": {
        "id": "jpcCEhBDXHaS",
        "colab": {
          "base_uri": "https://localhost:8080/"
        },
        "outputId": "8bb511c3-87cb-4530-aa7b-9121812b0c89"
      },
      "outputs": [
        {
          "output_type": "stream",
          "name": "stdout",
          "text": [
            "Requirement already satisfied: gensim in /usr/local/lib/python3.7/dist-packages (3.6.0)\n",
            "Collecting gensim\n",
            "  Downloading gensim-4.1.2-cp37-cp37m-manylinux_2_12_x86_64.manylinux2010_x86_64.whl (24.1 MB)\n",
            "\u001b[K     |████████████████████████████████| 24.1 MB 1.2 MB/s \n",
            "\u001b[?25hRequirement already satisfied: smart-open>=1.8.1 in /usr/local/lib/python3.7/dist-packages (from gensim) (5.2.1)\n",
            "Requirement already satisfied: numpy>=1.17.0 in /usr/local/lib/python3.7/dist-packages (from gensim) (1.19.5)\n",
            "Requirement already satisfied: scipy>=0.18.1 in /usr/local/lib/python3.7/dist-packages (from gensim) (1.4.1)\n",
            "Installing collected packages: gensim\n",
            "  Attempting uninstall: gensim\n",
            "    Found existing installation: gensim 3.6.0\n",
            "    Uninstalling gensim-3.6.0:\n",
            "      Successfully uninstalled gensim-3.6.0\n",
            "Successfully installed gensim-4.1.2\n"
          ]
        }
      ],
      "source": [
        "!pip install --upgrade gensim"
      ]
    },
    {
      "cell_type": "code",
      "source": [
        "import multiprocessing\n",
        "# import logging  # Setting up the loggings to monitor gensim\n",
        "# logging.basicConfig(format=\"%(levelname)s - %(asctime)s: %(message)s\", datefmt= '%H:%M:%S', level=logging.INFO)\n",
        "\n",
        "from gensim.models import Word2Vec"
      ],
      "metadata": {
        "id": "qoP5nH15ovPK"
      },
      "execution_count": null,
      "outputs": []
    },
    {
      "cell_type": "markdown",
      "source": [
        "#### Класс модели на взвешенных эмбеддингах слов"
      ],
      "metadata": {
        "id": "i2J5cUr5k2dC"
      }
    },
    {
      "cell_type": "markdown",
      "metadata": {
        "id": "KWrIciGxXHaS"
      },
      "source": [
        "Усредняя w2v вектора, мы предполагаем, что каждое слово имеет 1) **равноценный вклад в смысл предложения**, однако это может быть не совсем так. Перевзвесим слова при получении итогового эмбеддинга текста. 2) **В качестве весов IDF (Inverse document frequency)**"
      ]
    },
    {
      "cell_type": "code",
      "source": [
        "sw = stopwords.words(\"english\")[:40]"
      ],
      "metadata": {
        "id": "yy3R9YdSVfpd"
      },
      "execution_count": null,
      "outputs": []
    },
    {
      "cell_type": "code",
      "source": [
        "from collections import defaultdict\n",
        "from math import log10\n",
        "\n",
        "class Word2Vec_wrapper():\n",
        "    def text_processing(self, text):\n",
        "        # lemmatization, puncuation, stop-words cleaning applied to a comment\n",
        "        return [wordnet_lemmatizer.lemmatize(word, pos=\"v\") for word in word_tokenize(text.lower()) \\\n",
        "                if word not in string.punctuation \\\n",
        "                and word not in sw\n",
        "                ]\n",
        "\n",
        "    def prepare_columns(self, corpus):\n",
        "        new_corpus = corpus[['positive', 'negative']]\n",
        "        new_corpus['positive'] = new_corpus['positive'].apply(self.text_processing)\n",
        "        new_corpus['negative'] = new_corpus['negative'].apply(self.text_processing)\n",
        "        return new_corpus   # contains two columns of word lists\n",
        "\n",
        "    def compute_idf(self, corpus):\n",
        "        freq_dict = defaultdict(int)\n",
        "        for i, line in corpus.iterrows():\n",
        "            for w in set(line[0]):\n",
        "              freq_dict[w] += 1\n",
        "        idf_dict = {}\n",
        "        for w in freq_dict.keys():\n",
        "            idf_dict[w] = log10(corpus.shape[0] / (float(freq_dict[w]) + 1))\n",
        "        return idf_dict\n",
        "\n",
        "    def weighing(self, weights_dict, word_list):\n",
        "        '''\n",
        "        Processing one comment\n",
        "        Сonverts a list of words into a weighted sum of its w2v vectors (list)\n",
        "        '''\n",
        "        answer = np.zeros(self.vector_size)\n",
        "        counter = 0\n",
        "        norma = 0.0\n",
        "        for word in word_list:\n",
        "            if word in self.embedding_model.wv.key_to_index.keys() and word in weights_dict.keys():\n",
        "                answer += np.array(self.embedding_model.wv[word]) * weights_dict[word]\n",
        "                counter += 1\n",
        "                norma += weights_dict[word]\n",
        "        if counter == 0:\n",
        "            return [0] * self.vector_size\n",
        "        return (answer / norma).tolist()\n",
        "\n",
        "    def __init__(self, model, wmode='average', vector_size=300, **qwargs):        # Init block starts here\n",
        "        self.model = model\n",
        "        self.target_mean = 0.0\n",
        "        self.target_std = 1.0\n",
        "\n",
        "        self.wmode = wmode\n",
        "        self.weights_dict_pos = None\n",
        "        self.weights_dict_neg = None\n",
        "        self.vector_size: int = vector_size\n",
        "        self.embedding_model = Word2Vec(vector_size=self.vector_size, **qwargs)\n",
        "\n",
        "    def fit(self, corpus, target):\n",
        "        new_corpus = self.prepare_columns(corpus)\n",
        "        self.embedding_model.build_vocab(pd.concat([new_corpus['positive'], new_corpus['negative']], axis=0), \n",
        "                                        progress_per=10000)\n",
        "        self.embedding_model.train(pd.concat([new_corpus['positive'], new_corpus['negative']], axis=0), \n",
        "                                  total_examples=self.embedding_model.corpus_count, \n",
        "                                  epochs=30, report_delay=1)\n",
        "        # training on weighted sum of word2vec vectors\n",
        "        if self.wmode == 'idf':\n",
        "            self.weights_dict_pos = self.compute_idf(new_corpus[['positive']])\n",
        "            self.weights_dict_neg = self.compute_idf(new_corpus[['negative']])\n",
        "        else:\n",
        "            self.weights_dict_pos = dict.fromkeys(self.embedding_model.wv.key_to_index.keys(), 1)\n",
        "            self.weights_dict_neg = dict.fromkeys(self.embedding_model.wv.key_to_index.keys(), 1)\n",
        "        # target normalization\n",
        "        self.target_mean = np.mean(target)\n",
        "        self.target_std = np.std(target)\n",
        "        self.model.fit(self.transform(new_corpus, modified=True), (target - self.target_mean) / self.target_std)\n",
        "        return self.model\n",
        "\n",
        "    def transform(self, corpus, modified=False):\n",
        "        # corpus.shape[0] == result.shape[0]\n",
        "        new_corpus = self.prepare_columns(corpus) if not modified else corpus\n",
        "        weighed_vect_pos = new_corpus['positive'].apply(lambda x:self.weighing(self.weights_dict_pos, x))\n",
        "        weighed_vect_neg = new_corpus['negative'].apply(lambda x:self.weighing(self.weights_dict_neg, x))\n",
        "        return (weighed_vect_pos + weighed_vect_neg).values.tolist()\n",
        "\n",
        "    def predict(self, corpus):\n",
        "        return self.target_mean + self.model.predict(self.transform(corpus)) * self.target_std"
      ],
      "metadata": {
        "id": "qNkpkW0KpIep"
      },
      "execution_count": null,
      "outputs": []
    },
    {
      "cell_type": "markdown",
      "source": [
        "##### Тестовые запуски"
      ],
      "metadata": {
        "id": "_5WjQBwXaVv2"
      }
    },
    {
      "cell_type": "code",
      "source": [
        "PATH_TO_TRAIN_DATA = '/content/drive/MyDrive/Intro to DL/train.csv'\n",
        "df = pd.read_csv(PATH_TO_TRAIN_DATA)\n",
        "df['negative'] = df['negative'].replace('No Negative', '')\n",
        "df['positive'] = df['positive'].replace('No Positive', '')\n",
        "df.head()"
      ],
      "metadata": {
        "colab": {
          "base_uri": "https://localhost:8080/",
          "height": 206
        },
        "id": "K5fOqyOkdLM_",
        "outputId": "cd789dc4-b72e-4cda-efcb-eb6d550a59a9"
      },
      "execution_count": null,
      "outputs": [
        {
          "output_type": "execute_result",
          "data": {
            "text/html": [
              "\n",
              "  <div id=\"df-63b38b72-6488-4851-be43-8137eb34e234\">\n",
              "    <div class=\"colab-df-container\">\n",
              "      <div>\n",
              "<style scoped>\n",
              "    .dataframe tbody tr th:only-of-type {\n",
              "        vertical-align: middle;\n",
              "    }\n",
              "\n",
              "    .dataframe tbody tr th {\n",
              "        vertical-align: top;\n",
              "    }\n",
              "\n",
              "    .dataframe thead th {\n",
              "        text-align: right;\n",
              "    }\n",
              "</style>\n",
              "<table border=\"1\" class=\"dataframe\">\n",
              "  <thead>\n",
              "    <tr style=\"text-align: right;\">\n",
              "      <th></th>\n",
              "      <th>review_id</th>\n",
              "      <th>negative</th>\n",
              "      <th>positive</th>\n",
              "      <th>score</th>\n",
              "    </tr>\n",
              "  </thead>\n",
              "  <tbody>\n",
              "    <tr>\n",
              "      <th>0</th>\n",
              "      <td>00003c6036f30f590c0ac435efb8739b</td>\n",
              "      <td>There were issues with the wifi connection</td>\n",
              "      <td></td>\n",
              "      <td>7.1</td>\n",
              "    </tr>\n",
              "    <tr>\n",
              "      <th>1</th>\n",
              "      <td>00004d18f186bf2489590dc415876f73</td>\n",
              "      <td>TV not working</td>\n",
              "      <td></td>\n",
              "      <td>7.5</td>\n",
              "    </tr>\n",
              "    <tr>\n",
              "      <th>2</th>\n",
              "      <td>0000cf900cbb8667fad33a717e9b1cf4</td>\n",
              "      <td>More pillows</td>\n",
              "      <td>Beautiful room Great location Lovely staff</td>\n",
              "      <td>10.0</td>\n",
              "    </tr>\n",
              "    <tr>\n",
              "      <th>3</th>\n",
              "      <td>0000df16edf19e7ad9dd8c5cd6f6925e</td>\n",
              "      <td>Very business</td>\n",
              "      <td>Location</td>\n",
              "      <td>5.4</td>\n",
              "    </tr>\n",
              "    <tr>\n",
              "      <th>4</th>\n",
              "      <td>00025e1aa3ac32edb496db49e76bbd00</td>\n",
              "      <td>Rooms could do with a bit of a refurbishment ...</td>\n",
              "      <td>Nice breakfast handy for Victoria train stati...</td>\n",
              "      <td>6.7</td>\n",
              "    </tr>\n",
              "  </tbody>\n",
              "</table>\n",
              "</div>\n",
              "      <button class=\"colab-df-convert\" onclick=\"convertToInteractive('df-63b38b72-6488-4851-be43-8137eb34e234')\"\n",
              "              title=\"Convert this dataframe to an interactive table.\"\n",
              "              style=\"display:none;\">\n",
              "        \n",
              "  <svg xmlns=\"http://www.w3.org/2000/svg\" height=\"24px\"viewBox=\"0 0 24 24\"\n",
              "       width=\"24px\">\n",
              "    <path d=\"M0 0h24v24H0V0z\" fill=\"none\"/>\n",
              "    <path d=\"M18.56 5.44l.94 2.06.94-2.06 2.06-.94-2.06-.94-.94-2.06-.94 2.06-2.06.94zm-11 1L8.5 8.5l.94-2.06 2.06-.94-2.06-.94L8.5 2.5l-.94 2.06-2.06.94zm10 10l.94 2.06.94-2.06 2.06-.94-2.06-.94-.94-2.06-.94 2.06-2.06.94z\"/><path d=\"M17.41 7.96l-1.37-1.37c-.4-.4-.92-.59-1.43-.59-.52 0-1.04.2-1.43.59L10.3 9.45l-7.72 7.72c-.78.78-.78 2.05 0 2.83L4 21.41c.39.39.9.59 1.41.59.51 0 1.02-.2 1.41-.59l7.78-7.78 2.81-2.81c.8-.78.8-2.07 0-2.86zM5.41 20L4 18.59l7.72-7.72 1.47 1.35L5.41 20z\"/>\n",
              "  </svg>\n",
              "      </button>\n",
              "      \n",
              "  <style>\n",
              "    .colab-df-container {\n",
              "      display:flex;\n",
              "      flex-wrap:wrap;\n",
              "      gap: 12px;\n",
              "    }\n",
              "\n",
              "    .colab-df-convert {\n",
              "      background-color: #E8F0FE;\n",
              "      border: none;\n",
              "      border-radius: 50%;\n",
              "      cursor: pointer;\n",
              "      display: none;\n",
              "      fill: #1967D2;\n",
              "      height: 32px;\n",
              "      padding: 0 0 0 0;\n",
              "      width: 32px;\n",
              "    }\n",
              "\n",
              "    .colab-df-convert:hover {\n",
              "      background-color: #E2EBFA;\n",
              "      box-shadow: 0px 1px 2px rgba(60, 64, 67, 0.3), 0px 1px 3px 1px rgba(60, 64, 67, 0.15);\n",
              "      fill: #174EA6;\n",
              "    }\n",
              "\n",
              "    [theme=dark] .colab-df-convert {\n",
              "      background-color: #3B4455;\n",
              "      fill: #D2E3FC;\n",
              "    }\n",
              "\n",
              "    [theme=dark] .colab-df-convert:hover {\n",
              "      background-color: #434B5C;\n",
              "      box-shadow: 0px 1px 3px 1px rgba(0, 0, 0, 0.15);\n",
              "      filter: drop-shadow(0px 1px 2px rgba(0, 0, 0, 0.3));\n",
              "      fill: #FFFFFF;\n",
              "    }\n",
              "  </style>\n",
              "\n",
              "      <script>\n",
              "        const buttonEl =\n",
              "          document.querySelector('#df-63b38b72-6488-4851-be43-8137eb34e234 button.colab-df-convert');\n",
              "        buttonEl.style.display =\n",
              "          google.colab.kernel.accessAllowed ? 'block' : 'none';\n",
              "\n",
              "        async function convertToInteractive(key) {\n",
              "          const element = document.querySelector('#df-63b38b72-6488-4851-be43-8137eb34e234');\n",
              "          const dataTable =\n",
              "            await google.colab.kernel.invokeFunction('convertToInteractive',\n",
              "                                                     [key], {});\n",
              "          if (!dataTable) return;\n",
              "\n",
              "          const docLinkHtml = 'Like what you see? Visit the ' +\n",
              "            '<a target=\"_blank\" href=https://colab.research.google.com/notebooks/data_table.ipynb>data table notebook</a>'\n",
              "            + ' to learn more about interactive tables.';\n",
              "          element.innerHTML = '';\n",
              "          dataTable['output_type'] = 'display_data';\n",
              "          await google.colab.output.renderOutput(dataTable, element);\n",
              "          const docLink = document.createElement('div');\n",
              "          docLink.innerHTML = docLinkHtml;\n",
              "          element.appendChild(docLink);\n",
              "        }\n",
              "      </script>\n",
              "    </div>\n",
              "  </div>\n",
              "  "
            ],
            "text/plain": [
              "                          review_id  ... score\n",
              "0  00003c6036f30f590c0ac435efb8739b  ...   7.1\n",
              "1  00004d18f186bf2489590dc415876f73  ...   7.5\n",
              "2  0000cf900cbb8667fad33a717e9b1cf4  ...  10.0\n",
              "3  0000df16edf19e7ad9dd8c5cd6f6925e  ...   5.4\n",
              "4  00025e1aa3ac32edb496db49e76bbd00  ...   6.7\n",
              "\n",
              "[5 rows x 4 columns]"
            ]
          },
          "metadata": {},
          "execution_count": 34
        }
      ]
    },
    {
      "cell_type": "code",
      "source": [
        "df_train, df_test = train_test_split(df, random_state=1412) # <- для локального тестирования\n",
        "y_train, y_test = df_train['score'], df_test['score']"
      ],
      "metadata": {
        "id": "_rnGX_Z61v4s"
      },
      "execution_count": null,
      "outputs": []
    },
    {
      "cell_type": "markdown",
      "source": [
        "Протестируем усреднение простое векторов слов Word2Vec:"
      ],
      "metadata": {
        "id": "_EpWFjG0UTIp"
      }
    },
    {
      "cell_type": "code",
      "source": [
        "w2v_ridge = Word2Vec_wrapper(model=Ridge(), wmode='average', vector_size=1000, \n",
        "                             min_count=4, window=5, alpha=0.03, min_alpha=0.0007)\n",
        "w2v_ridge.fit(df_train, y_train)\n",
        "y_pred = w2v_ridge.predict(df_test)\n",
        "mean_absolute_error(y_test, y_pred)"
      ],
      "metadata": {
        "colab": {
          "base_uri": "https://localhost:8080/"
        },
        "id": "x9tocVi61v_m",
        "outputId": "e1d3de25-d1ae-4f38-fa1c-bb6b610cbcc9"
      },
      "execution_count": null,
      "outputs": [
        {
          "output_type": "execute_result",
          "data": {
            "text/plain": [
              "0.9255290318643834"
            ]
          },
          "metadata": {},
          "execution_count": 50
        }
      ]
    },
    {
      "cell_type": "markdown",
      "source": [
        "Теперь взвешенное усреднение Word2Vec:"
      ],
      "metadata": {
        "id": "Oo4IQ_BkUq9J"
      }
    },
    {
      "cell_type": "code",
      "source": [
        "for a in [0.7, 0.9, 1]:\n",
        "  for count in [2, 4, 6]:\n",
        "    for win in [3, 5, 7]:\n",
        "        w2v_ridge = Word2Vec_wrapper(model=Ridge(alpha=a), wmode='idf', vector_size=1000, \n",
        "                                    min_count=count, window=win, sample=6e-5)\n",
        "        w2v_ridge.fit(df_train, y_train)\n",
        "        y_pred = w2v_ridge.predict(df_test)\n",
        "        print('alpha=', a, '  min_count=', count, '  window=', win, '  mae=', mean_absolute_error(y_test, y_pred))"
      ],
      "metadata": {
        "colab": {
          "base_uri": "https://localhost:8080/",
          "height": 551
        },
        "id": "itEOvd5TzFSC",
        "outputId": "294e07c0-0d9c-4ccb-9669-1c073ad1a60c"
      },
      "execution_count": null,
      "outputs": [
        {
          "output_type": "stream",
          "name": "stdout",
          "text": [
            "alpha= 0.7   min_count= 2   window= 3   mae= 0.920844264798919\n",
            "alpha= 0.7   min_count= 2   window= 5   mae= 0.9222898413759871\n",
            "alpha= 0.7   min_count= 2   window= 7   mae= 0.9230753005490635\n",
            "alpha= 0.7   min_count= 4   window= 3   mae= 0.9208248653568456\n",
            "alpha= 0.7   min_count= 4   window= 5   mae= 0.9207231098971376\n",
            "alpha= 0.7   min_count= 4   window= 7   mae= 0.9226786384111578\n",
            "alpha= 0.7   min_count= 6   window= 3   mae= 0.9195743774084812\n",
            "alpha= 0.7   min_count= 6   window= 5   mae= 0.9209653529245039\n",
            "alpha= 0.7   min_count= 6   window= 7   mae= 0.9211433963606885\n"
          ]
        },
        {
          "output_type": "error",
          "ename": "KeyboardInterrupt",
          "evalue": "ignored",
          "traceback": [
            "\u001b[0;31m---------------------------------------------------------------------------\u001b[0m",
            "\u001b[0;31mKeyboardInterrupt\u001b[0m                         Traceback (most recent call last)",
            "\u001b[0;32m<ipython-input-51-fd0e34935f77>\u001b[0m in \u001b[0;36m<module>\u001b[0;34m()\u001b[0m\n\u001b[1;32m      4\u001b[0m         w2v_ridge = Word2Vec_wrapper(model=Ridge(alpha=a), wmode='idf', vector_size=1000, \n\u001b[1;32m      5\u001b[0m                                     min_count=count, window=win, sample=6e-5)\n\u001b[0;32m----> 6\u001b[0;31m         \u001b[0mw2v_ridge\u001b[0m\u001b[0;34m.\u001b[0m\u001b[0mfit\u001b[0m\u001b[0;34m(\u001b[0m\u001b[0mdf_train\u001b[0m\u001b[0;34m,\u001b[0m \u001b[0my_train\u001b[0m\u001b[0;34m)\u001b[0m\u001b[0;34m\u001b[0m\u001b[0;34m\u001b[0m\u001b[0m\n\u001b[0m\u001b[1;32m      7\u001b[0m         \u001b[0my_pred\u001b[0m \u001b[0;34m=\u001b[0m \u001b[0mw2v_ridge\u001b[0m\u001b[0;34m.\u001b[0m\u001b[0mpredict\u001b[0m\u001b[0;34m(\u001b[0m\u001b[0mdf_test\u001b[0m\u001b[0;34m)\u001b[0m\u001b[0;34m\u001b[0m\u001b[0;34m\u001b[0m\u001b[0m\n\u001b[1;32m      8\u001b[0m         \u001b[0mprint\u001b[0m\u001b[0;34m(\u001b[0m\u001b[0;34m'alpha='\u001b[0m\u001b[0;34m,\u001b[0m \u001b[0ma\u001b[0m\u001b[0;34m,\u001b[0m \u001b[0;34m'  min_count='\u001b[0m\u001b[0;34m,\u001b[0m \u001b[0mcount\u001b[0m\u001b[0;34m,\u001b[0m \u001b[0;34m'  window='\u001b[0m\u001b[0;34m,\u001b[0m \u001b[0mwin\u001b[0m\u001b[0;34m,\u001b[0m \u001b[0;34m'  mae='\u001b[0m\u001b[0;34m,\u001b[0m \u001b[0mmean_absolute_error\u001b[0m\u001b[0;34m(\u001b[0m\u001b[0my_test\u001b[0m\u001b[0;34m,\u001b[0m \u001b[0my_pred\u001b[0m\u001b[0;34m)\u001b[0m\u001b[0;34m)\u001b[0m\u001b[0;34m\u001b[0m\u001b[0;34m\u001b[0m\u001b[0m\n",
            "\u001b[0;32m<ipython-input-37-489527bb6c43>\u001b[0m in \u001b[0;36mfit\u001b[0;34m(self, corpus, target)\u001b[0m\n\u001b[1;32m     53\u001b[0m \u001b[0;34m\u001b[0m\u001b[0m\n\u001b[1;32m     54\u001b[0m     \u001b[0;32mdef\u001b[0m \u001b[0mfit\u001b[0m\u001b[0;34m(\u001b[0m\u001b[0mself\u001b[0m\u001b[0;34m,\u001b[0m \u001b[0mcorpus\u001b[0m\u001b[0;34m,\u001b[0m \u001b[0mtarget\u001b[0m\u001b[0;34m)\u001b[0m\u001b[0;34m:\u001b[0m\u001b[0;34m\u001b[0m\u001b[0;34m\u001b[0m\u001b[0m\n\u001b[0;32m---> 55\u001b[0;31m         \u001b[0mnew_corpus\u001b[0m \u001b[0;34m=\u001b[0m \u001b[0mself\u001b[0m\u001b[0;34m.\u001b[0m\u001b[0mprepare_columns\u001b[0m\u001b[0;34m(\u001b[0m\u001b[0mcorpus\u001b[0m\u001b[0;34m)\u001b[0m\u001b[0;34m\u001b[0m\u001b[0;34m\u001b[0m\u001b[0m\n\u001b[0m\u001b[1;32m     56\u001b[0m         self.embedding_model.build_vocab(pd.concat([new_corpus['positive'], new_corpus['negative']], axis=0), \n\u001b[1;32m     57\u001b[0m                                         progress_per=10000)\n",
            "\u001b[0;32m<ipython-input-37-489527bb6c43>\u001b[0m in \u001b[0;36mprepare_columns\u001b[0;34m(self, corpus)\u001b[0m\n\u001b[1;32m     10\u001b[0m     \u001b[0;32mdef\u001b[0m \u001b[0mprepare_columns\u001b[0m\u001b[0;34m(\u001b[0m\u001b[0mself\u001b[0m\u001b[0;34m,\u001b[0m \u001b[0mcorpus\u001b[0m\u001b[0;34m)\u001b[0m\u001b[0;34m:\u001b[0m\u001b[0;34m\u001b[0m\u001b[0;34m\u001b[0m\u001b[0m\n\u001b[1;32m     11\u001b[0m         \u001b[0mnew_corpus\u001b[0m \u001b[0;34m=\u001b[0m \u001b[0mcorpus\u001b[0m\u001b[0;34m[\u001b[0m\u001b[0;34m[\u001b[0m\u001b[0;34m'positive'\u001b[0m\u001b[0;34m,\u001b[0m \u001b[0;34m'negative'\u001b[0m\u001b[0;34m]\u001b[0m\u001b[0;34m]\u001b[0m\u001b[0;34m\u001b[0m\u001b[0;34m\u001b[0m\u001b[0m\n\u001b[0;32m---> 12\u001b[0;31m         \u001b[0mnew_corpus\u001b[0m\u001b[0;34m[\u001b[0m\u001b[0;34m'positive'\u001b[0m\u001b[0;34m]\u001b[0m \u001b[0;34m=\u001b[0m \u001b[0mnew_corpus\u001b[0m\u001b[0;34m[\u001b[0m\u001b[0;34m'positive'\u001b[0m\u001b[0;34m]\u001b[0m\u001b[0;34m.\u001b[0m\u001b[0mapply\u001b[0m\u001b[0;34m(\u001b[0m\u001b[0mself\u001b[0m\u001b[0;34m.\u001b[0m\u001b[0mtext_processing\u001b[0m\u001b[0;34m)\u001b[0m\u001b[0;34m\u001b[0m\u001b[0;34m\u001b[0m\u001b[0m\n\u001b[0m\u001b[1;32m     13\u001b[0m         \u001b[0mnew_corpus\u001b[0m\u001b[0;34m[\u001b[0m\u001b[0;34m'negative'\u001b[0m\u001b[0;34m]\u001b[0m \u001b[0;34m=\u001b[0m \u001b[0mnew_corpus\u001b[0m\u001b[0;34m[\u001b[0m\u001b[0;34m'negative'\u001b[0m\u001b[0;34m]\u001b[0m\u001b[0;34m.\u001b[0m\u001b[0mapply\u001b[0m\u001b[0;34m(\u001b[0m\u001b[0mself\u001b[0m\u001b[0;34m.\u001b[0m\u001b[0mtext_processing\u001b[0m\u001b[0;34m)\u001b[0m\u001b[0;34m\u001b[0m\u001b[0;34m\u001b[0m\u001b[0m\n\u001b[1;32m     14\u001b[0m         \u001b[0;32mreturn\u001b[0m \u001b[0mnew_corpus\u001b[0m   \u001b[0;31m# contains two columns of word lists\u001b[0m\u001b[0;34m\u001b[0m\u001b[0;34m\u001b[0m\u001b[0m\n",
            "\u001b[0;32m/usr/local/lib/python3.7/dist-packages/pandas/core/series.py\u001b[0m in \u001b[0;36mapply\u001b[0;34m(self, func, convert_dtype, args, **kwargs)\u001b[0m\n\u001b[1;32m   4355\u001b[0m         \u001b[0mdtype\u001b[0m\u001b[0;34m:\u001b[0m \u001b[0mfloat64\u001b[0m\u001b[0;34m\u001b[0m\u001b[0;34m\u001b[0m\u001b[0m\n\u001b[1;32m   4356\u001b[0m         \"\"\"\n\u001b[0;32m-> 4357\u001b[0;31m         \u001b[0;32mreturn\u001b[0m \u001b[0mSeriesApply\u001b[0m\u001b[0;34m(\u001b[0m\u001b[0mself\u001b[0m\u001b[0;34m,\u001b[0m \u001b[0mfunc\u001b[0m\u001b[0;34m,\u001b[0m \u001b[0mconvert_dtype\u001b[0m\u001b[0;34m,\u001b[0m \u001b[0margs\u001b[0m\u001b[0;34m,\u001b[0m \u001b[0mkwargs\u001b[0m\u001b[0;34m)\u001b[0m\u001b[0;34m.\u001b[0m\u001b[0mapply\u001b[0m\u001b[0;34m(\u001b[0m\u001b[0;34m)\u001b[0m\u001b[0;34m\u001b[0m\u001b[0;34m\u001b[0m\u001b[0m\n\u001b[0m\u001b[1;32m   4358\u001b[0m \u001b[0;34m\u001b[0m\u001b[0m\n\u001b[1;32m   4359\u001b[0m     def _reduce(\n",
            "\u001b[0;32m/usr/local/lib/python3.7/dist-packages/pandas/core/apply.py\u001b[0m in \u001b[0;36mapply\u001b[0;34m(self)\u001b[0m\n\u001b[1;32m   1041\u001b[0m             \u001b[0;32mreturn\u001b[0m \u001b[0mself\u001b[0m\u001b[0;34m.\u001b[0m\u001b[0mapply_str\u001b[0m\u001b[0;34m(\u001b[0m\u001b[0;34m)\u001b[0m\u001b[0;34m\u001b[0m\u001b[0;34m\u001b[0m\u001b[0m\n\u001b[1;32m   1042\u001b[0m \u001b[0;34m\u001b[0m\u001b[0m\n\u001b[0;32m-> 1043\u001b[0;31m         \u001b[0;32mreturn\u001b[0m \u001b[0mself\u001b[0m\u001b[0;34m.\u001b[0m\u001b[0mapply_standard\u001b[0m\u001b[0;34m(\u001b[0m\u001b[0;34m)\u001b[0m\u001b[0;34m\u001b[0m\u001b[0;34m\u001b[0m\u001b[0m\n\u001b[0m\u001b[1;32m   1044\u001b[0m \u001b[0;34m\u001b[0m\u001b[0m\n\u001b[1;32m   1045\u001b[0m     \u001b[0;32mdef\u001b[0m \u001b[0magg\u001b[0m\u001b[0;34m(\u001b[0m\u001b[0mself\u001b[0m\u001b[0;34m)\u001b[0m\u001b[0;34m:\u001b[0m\u001b[0;34m\u001b[0m\u001b[0;34m\u001b[0m\u001b[0m\n",
            "\u001b[0;32m/usr/local/lib/python3.7/dist-packages/pandas/core/apply.py\u001b[0m in \u001b[0;36mapply_standard\u001b[0;34m(self)\u001b[0m\n\u001b[1;32m   1099\u001b[0m                     \u001b[0mvalues\u001b[0m\u001b[0;34m,\u001b[0m\u001b[0;34m\u001b[0m\u001b[0;34m\u001b[0m\u001b[0m\n\u001b[1;32m   1100\u001b[0m                     \u001b[0mf\u001b[0m\u001b[0;34m,\u001b[0m  \u001b[0;31m# type: ignore[arg-type]\u001b[0m\u001b[0;34m\u001b[0m\u001b[0;34m\u001b[0m\u001b[0m\n\u001b[0;32m-> 1101\u001b[0;31m                     \u001b[0mconvert\u001b[0m\u001b[0;34m=\u001b[0m\u001b[0mself\u001b[0m\u001b[0;34m.\u001b[0m\u001b[0mconvert_dtype\u001b[0m\u001b[0;34m,\u001b[0m\u001b[0;34m\u001b[0m\u001b[0;34m\u001b[0m\u001b[0m\n\u001b[0m\u001b[1;32m   1102\u001b[0m                 )\n\u001b[1;32m   1103\u001b[0m \u001b[0;34m\u001b[0m\u001b[0m\n",
            "\u001b[0;32m/usr/local/lib/python3.7/dist-packages/pandas/_libs/lib.pyx\u001b[0m in \u001b[0;36mpandas._libs.lib.map_infer\u001b[0;34m()\u001b[0m\n",
            "\u001b[0;32m<ipython-input-37-489527bb6c43>\u001b[0m in \u001b[0;36mtext_processing\u001b[0;34m(self, text)\u001b[0m\n\u001b[1;32m      5\u001b[0m     \u001b[0;32mdef\u001b[0m \u001b[0mtext_processing\u001b[0m\u001b[0;34m(\u001b[0m\u001b[0mself\u001b[0m\u001b[0;34m,\u001b[0m \u001b[0mtext\u001b[0m\u001b[0;34m)\u001b[0m\u001b[0;34m:\u001b[0m\u001b[0;34m\u001b[0m\u001b[0;34m\u001b[0m\u001b[0m\n\u001b[1;32m      6\u001b[0m         \u001b[0;31m# lemmatization, puncuation, stop-words cleaning applied to a comment\u001b[0m\u001b[0;34m\u001b[0m\u001b[0;34m\u001b[0m\u001b[0;34m\u001b[0m\u001b[0m\n\u001b[0;32m----> 7\u001b[0;31m         return [wordnet_lemmatizer.lemmatize(word, pos=\"v\") for word in word_tokenize(text.lower())                 if word not in string.punctuation                 and word not in sw\n\u001b[0m\u001b[1;32m      8\u001b[0m                 ]\n\u001b[1;32m      9\u001b[0m \u001b[0;34m\u001b[0m\u001b[0m\n",
            "\u001b[0;32m<ipython-input-37-489527bb6c43>\u001b[0m in \u001b[0;36m<listcomp>\u001b[0;34m(.0)\u001b[0m\n\u001b[1;32m      5\u001b[0m     \u001b[0;32mdef\u001b[0m \u001b[0mtext_processing\u001b[0m\u001b[0;34m(\u001b[0m\u001b[0mself\u001b[0m\u001b[0;34m,\u001b[0m \u001b[0mtext\u001b[0m\u001b[0;34m)\u001b[0m\u001b[0;34m:\u001b[0m\u001b[0;34m\u001b[0m\u001b[0;34m\u001b[0m\u001b[0m\n\u001b[1;32m      6\u001b[0m         \u001b[0;31m# lemmatization, puncuation, stop-words cleaning applied to a comment\u001b[0m\u001b[0;34m\u001b[0m\u001b[0;34m\u001b[0m\u001b[0;34m\u001b[0m\u001b[0m\n\u001b[0;32m----> 7\u001b[0;31m         return [wordnet_lemmatizer.lemmatize(word, pos=\"v\") for word in word_tokenize(text.lower())                 if word not in string.punctuation                 and word not in sw\n\u001b[0m\u001b[1;32m      8\u001b[0m                 ]\n\u001b[1;32m      9\u001b[0m \u001b[0;34m\u001b[0m\u001b[0m\n",
            "\u001b[0;32m/usr/local/lib/python3.7/dist-packages/nltk/stem/wordnet.py\u001b[0m in \u001b[0;36mlemmatize\u001b[0;34m(self, word, pos)\u001b[0m\n\u001b[1;32m     38\u001b[0m \u001b[0;34m\u001b[0m\u001b[0m\n\u001b[1;32m     39\u001b[0m     \u001b[0;32mdef\u001b[0m \u001b[0mlemmatize\u001b[0m\u001b[0;34m(\u001b[0m\u001b[0mself\u001b[0m\u001b[0;34m,\u001b[0m \u001b[0mword\u001b[0m\u001b[0;34m,\u001b[0m \u001b[0mpos\u001b[0m\u001b[0;34m=\u001b[0m\u001b[0mNOUN\u001b[0m\u001b[0;34m)\u001b[0m\u001b[0;34m:\u001b[0m\u001b[0;34m\u001b[0m\u001b[0;34m\u001b[0m\u001b[0m\n\u001b[0;32m---> 40\u001b[0;31m         \u001b[0mlemmas\u001b[0m \u001b[0;34m=\u001b[0m \u001b[0mwordnet\u001b[0m\u001b[0;34m.\u001b[0m\u001b[0m_morphy\u001b[0m\u001b[0;34m(\u001b[0m\u001b[0mword\u001b[0m\u001b[0;34m,\u001b[0m \u001b[0mpos\u001b[0m\u001b[0;34m)\u001b[0m\u001b[0;34m\u001b[0m\u001b[0;34m\u001b[0m\u001b[0m\n\u001b[0m\u001b[1;32m     41\u001b[0m         \u001b[0;32mreturn\u001b[0m \u001b[0mmin\u001b[0m\u001b[0;34m(\u001b[0m\u001b[0mlemmas\u001b[0m\u001b[0;34m,\u001b[0m \u001b[0mkey\u001b[0m\u001b[0;34m=\u001b[0m\u001b[0mlen\u001b[0m\u001b[0;34m)\u001b[0m \u001b[0;32mif\u001b[0m \u001b[0mlemmas\u001b[0m \u001b[0;32melse\u001b[0m \u001b[0mword\u001b[0m\u001b[0;34m\u001b[0m\u001b[0;34m\u001b[0m\u001b[0m\n\u001b[1;32m     42\u001b[0m \u001b[0;34m\u001b[0m\u001b[0m\n",
            "\u001b[0;32m/usr/local/lib/python3.7/dist-packages/nltk/corpus/reader/wordnet.py\u001b[0m in \u001b[0;36m_morphy\u001b[0;34m(self, form, pos, check_exceptions)\u001b[0m\n\u001b[1;32m   1798\u001b[0m \u001b[0;34m\u001b[0m\u001b[0m\n\u001b[1;32m   1799\u001b[0m         \u001b[0;31m# 1. Apply rules once to the input to get y1, y2, y3, etc.\u001b[0m\u001b[0;34m\u001b[0m\u001b[0;34m\u001b[0m\u001b[0;34m\u001b[0m\u001b[0m\n\u001b[0;32m-> 1800\u001b[0;31m         \u001b[0mforms\u001b[0m \u001b[0;34m=\u001b[0m \u001b[0mapply_rules\u001b[0m\u001b[0;34m(\u001b[0m\u001b[0;34m[\u001b[0m\u001b[0mform\u001b[0m\u001b[0;34m]\u001b[0m\u001b[0;34m)\u001b[0m\u001b[0;34m\u001b[0m\u001b[0;34m\u001b[0m\u001b[0m\n\u001b[0m\u001b[1;32m   1801\u001b[0m \u001b[0;34m\u001b[0m\u001b[0m\n\u001b[1;32m   1802\u001b[0m         \u001b[0;31m# 2. Return all that are in the database (and check the original too)\u001b[0m\u001b[0;34m\u001b[0m\u001b[0;34m\u001b[0m\u001b[0;34m\u001b[0m\u001b[0m\n",
            "\u001b[0;32m/usr/local/lib/python3.7/dist-packages/nltk/corpus/reader/wordnet.py\u001b[0m in \u001b[0;36mapply_rules\u001b[0;34m(forms)\u001b[0m\n\u001b[1;32m   1776\u001b[0m \u001b[0;34m\u001b[0m\u001b[0m\n\u001b[1;32m   1777\u001b[0m         \u001b[0;32mdef\u001b[0m \u001b[0mapply_rules\u001b[0m\u001b[0;34m(\u001b[0m\u001b[0mforms\u001b[0m\u001b[0;34m)\u001b[0m\u001b[0;34m:\u001b[0m\u001b[0;34m\u001b[0m\u001b[0;34m\u001b[0m\u001b[0m\n\u001b[0;32m-> 1778\u001b[0;31m             return [form[:-len(old)] + new\n\u001b[0m\u001b[1;32m   1779\u001b[0m                     \u001b[0;32mfor\u001b[0m \u001b[0mform\u001b[0m \u001b[0;32min\u001b[0m \u001b[0mforms\u001b[0m\u001b[0;34m\u001b[0m\u001b[0;34m\u001b[0m\u001b[0m\n\u001b[1;32m   1780\u001b[0m                     \u001b[0;32mfor\u001b[0m \u001b[0mold\u001b[0m\u001b[0;34m,\u001b[0m \u001b[0mnew\u001b[0m \u001b[0;32min\u001b[0m \u001b[0msubstitutions\u001b[0m\u001b[0;34m\u001b[0m\u001b[0;34m\u001b[0m\u001b[0m\n",
            "\u001b[0;31mKeyboardInterrupt\u001b[0m: "
          ]
        }
      ]
    },
    {
      "cell_type": "code",
      "source": [
        "w2v_ridge = Word2Vec_wrapper(model=Ridge(alpha=0.7), wmode='idf', vector_size=1000, \n",
        "                             min_count=6, window=3, sample=6e-5)\n",
        "w2v_ridge.fit(df_train, y_train)\n",
        "y_pred = w2v_ridge.predict(df_test)\n",
        "print('alpha=', a, '  min_count=', count, '  window=', win, '  mae=', mean_absolute_error(y_test, y_pred))"
      ],
      "metadata": {
        "colab": {
          "base_uri": "https://localhost:8080/"
        },
        "id": "Hv3lrXzoSHID",
        "outputId": "faf287f9-53ca-49c5-e178-b2dddd5d203a"
      },
      "execution_count": null,
      "outputs": [
        {
          "output_type": "stream",
          "name": "stdout",
          "text": [
            "alpha= 0.9   min_count= 2   window= 3   mae= 0.9206822584102581\n"
          ]
        }
      ]
    },
    {
      "cell_type": "code",
      "source": [
        "from sklearn.linear_model import ElasticNet, Lasso\n",
        "\n",
        "w2v_ridge = Word2Vec_wrapper(model=Lasso(), wmode='idf', vector_size=500, \n",
        "                             min_count=2, window=5, alpha=0.03, min_alpha=0.0007)\n",
        "w2v_ridge.fit(df_train, y_train)\n",
        "y_pred = w2v_ridge.predict(df_test)\n",
        "mean_absolute_error(y_test, y_pred)"
      ],
      "metadata": {
        "colab": {
          "base_uri": "https://localhost:8080/"
        },
        "id": "fN2rQNeMr7eo",
        "outputId": "d205e26b-3bb6-4aec-ab3d-1a64064c484f"
      },
      "execution_count": null,
      "outputs": [
        {
          "output_type": "execute_result",
          "data": {
            "text/plain": [
              "1.3166713036799997"
            ]
          },
          "metadata": {},
          "execution_count": 40
        }
      ]
    },
    {
      "cell_type": "code",
      "source": [
        "w2v_ridge = Word2Vec_wrapper(model=ElasticNet(normalize=True), wmode='idf', vector_size=500, \n",
        "                             min_count=4, window=5, alpha=0.03, min_alpha=0.0007)\n",
        "w2v_ridge.fit(df_train, y_train)\n",
        "y_pred = w2v_ridge.predict(df_test)\n",
        "mean_absolute_error(y_test, y_pred)"
      ],
      "metadata": {
        "colab": {
          "base_uri": "https://localhost:8080/"
        },
        "id": "TIi3FtrwrOrr",
        "outputId": "ac5cf1af-3cc8-412d-9f30-6ed9a66f9bde"
      },
      "execution_count": null,
      "outputs": [
        {
          "output_type": "execute_result",
          "data": {
            "text/plain": [
              "1.3166713036799997"
            ]
          },
          "metadata": {},
          "execution_count": 44
        }
      ]
    },
    {
      "cell_type": "markdown",
      "source": [
        "##### Обучение лучшей Word2Vec модели"
      ],
      "metadata": {
        "id": "8NHqUMoQaKpy"
      }
    },
    {
      "cell_type": "code",
      "source": [
        "PATH_TO_TEST_DATA = '/content/drive/MyDrive/Intro to DL (домашки Маши Тимониной)/Intro to DL HW3/test.csv'\n",
        "\n",
        "df_real_test = pd.read_csv(PATH_TO_TEST_DATA)\n",
        "df_real_test['negative'] = df_real_test['negative'].replace('No Negative', '')\n",
        "df_real_test['positive'] = df_real_test['positive'].replace('No Positive', '')\n",
        "df_real_test.head(10)"
      ],
      "metadata": {
        "colab": {
          "base_uri": "https://localhost:8080/"
        },
        "id": "WxOPSvhFP0Ma",
        "outputId": "ad5c225d-015f-4aee-c5a8-741364429300"
      },
      "execution_count": null,
      "outputs": [
        {
          "output_type": "execute_result",
          "data": {
            "text/html": [
              "\n",
              "  <div id=\"df-187f205c-360b-4477-81ed-63e59fcb4de2\">\n",
              "    <div class=\"colab-df-container\">\n",
              "      <div>\n",
              "<style scoped>\n",
              "    .dataframe tbody tr th:only-of-type {\n",
              "        vertical-align: middle;\n",
              "    }\n",
              "\n",
              "    .dataframe tbody tr th {\n",
              "        vertical-align: top;\n",
              "    }\n",
              "\n",
              "    .dataframe thead th {\n",
              "        text-align: right;\n",
              "    }\n",
              "</style>\n",
              "<table border=\"1\" class=\"dataframe\">\n",
              "  <thead>\n",
              "    <tr style=\"text-align: right;\">\n",
              "      <th></th>\n",
              "      <th>review_id</th>\n",
              "      <th>negative</th>\n",
              "      <th>positive</th>\n",
              "    </tr>\n",
              "  </thead>\n",
              "  <tbody>\n",
              "    <tr>\n",
              "      <th>0</th>\n",
              "      <td>00026f564b258ad5159aab07c357c4ca</td>\n",
              "      <td>Other than the location everything else was h...</td>\n",
              "      <td>Just the location</td>\n",
              "    </tr>\n",
              "    <tr>\n",
              "      <th>1</th>\n",
              "      <td>000278c73da08f4fcb857fcfe4ac6417</td>\n",
              "      <td>No UK TV but this was a minor point as we wer...</td>\n",
              "      <td>Great location very comfortable clean breakfa...</td>\n",
              "    </tr>\n",
              "    <tr>\n",
              "      <th>2</th>\n",
              "      <td>000404f843e756fe3b2a477dbefa5bd4</td>\n",
              "      <td>A tiny noisy room VERY deceptively photographed</td>\n",
              "      <td>The breakfast booked the preceding night but ...</td>\n",
              "    </tr>\n",
              "    <tr>\n",
              "      <th>3</th>\n",
              "      <td>000a66d32bcf305148d789ac156dd512</td>\n",
              "      <td>Noisy various electrical devices kicking in r...</td>\n",
              "      <td>Great location Nice bathroom</td>\n",
              "    </tr>\n",
              "    <tr>\n",
              "      <th>4</th>\n",
              "      <td>000bf1d8c5110701f459ffbedbf0d546</td>\n",
              "      <td></td>\n",
              "      <td>Great location and friendly staff</td>\n",
              "    </tr>\n",
              "    <tr>\n",
              "      <th>5</th>\n",
              "      <td>000c36a6731f1e109864308a7a22be4d</td>\n",
              "      <td></td>\n",
              "      <td>The personnel was helpfull and cheerful The r...</td>\n",
              "    </tr>\n",
              "    <tr>\n",
              "      <th>6</th>\n",
              "      <td>00142074a207aba53ddcc46985f8c0c3</td>\n",
              "      <td></td>\n",
              "      <td>Standing global</td>\n",
              "    </tr>\n",
              "    <tr>\n",
              "      <th>7</th>\n",
              "      <td>0014e8ce0480a083abd0dca4f6d7aca7</td>\n",
              "      <td>N A</td>\n",
              "      <td>Free upgrade in Executive Double room complem...</td>\n",
              "    </tr>\n",
              "    <tr>\n",
              "      <th>8</th>\n",
              "      <td>0016fb343fddab24736d7e1d9823e9a5</td>\n",
              "      <td>staff in restaurant has problems with hearing</td>\n",
              "      <td></td>\n",
              "    </tr>\n",
              "    <tr>\n",
              "      <th>9</th>\n",
              "      <td>0018a42d079fed623b58d24b0bde718b</td>\n",
              "      <td>Nothing</td>\n",
              "      <td>Fantastic hotel best I ve stayed in for a whi...</td>\n",
              "    </tr>\n",
              "  </tbody>\n",
              "</table>\n",
              "</div>\n",
              "      <button class=\"colab-df-convert\" onclick=\"convertToInteractive('df-187f205c-360b-4477-81ed-63e59fcb4de2')\"\n",
              "              title=\"Convert this dataframe to an interactive table.\"\n",
              "              style=\"display:none;\">\n",
              "        \n",
              "  <svg xmlns=\"http://www.w3.org/2000/svg\" height=\"24px\"viewBox=\"0 0 24 24\"\n",
              "       width=\"24px\">\n",
              "    <path d=\"M0 0h24v24H0V0z\" fill=\"none\"/>\n",
              "    <path d=\"M18.56 5.44l.94 2.06.94-2.06 2.06-.94-2.06-.94-.94-2.06-.94 2.06-2.06.94zm-11 1L8.5 8.5l.94-2.06 2.06-.94-2.06-.94L8.5 2.5l-.94 2.06-2.06.94zm10 10l.94 2.06.94-2.06 2.06-.94-2.06-.94-.94-2.06-.94 2.06-2.06.94z\"/><path d=\"M17.41 7.96l-1.37-1.37c-.4-.4-.92-.59-1.43-.59-.52 0-1.04.2-1.43.59L10.3 9.45l-7.72 7.72c-.78.78-.78 2.05 0 2.83L4 21.41c.39.39.9.59 1.41.59.51 0 1.02-.2 1.41-.59l7.78-7.78 2.81-2.81c.8-.78.8-2.07 0-2.86zM5.41 20L4 18.59l7.72-7.72 1.47 1.35L5.41 20z\"/>\n",
              "  </svg>\n",
              "      </button>\n",
              "      \n",
              "  <style>\n",
              "    .colab-df-container {\n",
              "      display:flex;\n",
              "      flex-wrap:wrap;\n",
              "      gap: 12px;\n",
              "    }\n",
              "\n",
              "    .colab-df-convert {\n",
              "      background-color: #E8F0FE;\n",
              "      border: none;\n",
              "      border-radius: 50%;\n",
              "      cursor: pointer;\n",
              "      display: none;\n",
              "      fill: #1967D2;\n",
              "      height: 32px;\n",
              "      padding: 0 0 0 0;\n",
              "      width: 32px;\n",
              "    }\n",
              "\n",
              "    .colab-df-convert:hover {\n",
              "      background-color: #E2EBFA;\n",
              "      box-shadow: 0px 1px 2px rgba(60, 64, 67, 0.3), 0px 1px 3px 1px rgba(60, 64, 67, 0.15);\n",
              "      fill: #174EA6;\n",
              "    }\n",
              "\n",
              "    [theme=dark] .colab-df-convert {\n",
              "      background-color: #3B4455;\n",
              "      fill: #D2E3FC;\n",
              "    }\n",
              "\n",
              "    [theme=dark] .colab-df-convert:hover {\n",
              "      background-color: #434B5C;\n",
              "      box-shadow: 0px 1px 3px 1px rgba(0, 0, 0, 0.15);\n",
              "      filter: drop-shadow(0px 1px 2px rgba(0, 0, 0, 0.3));\n",
              "      fill: #FFFFFF;\n",
              "    }\n",
              "  </style>\n",
              "\n",
              "      <script>\n",
              "        const buttonEl =\n",
              "          document.querySelector('#df-187f205c-360b-4477-81ed-63e59fcb4de2 button.colab-df-convert');\n",
              "        buttonEl.style.display =\n",
              "          google.colab.kernel.accessAllowed ? 'block' : 'none';\n",
              "\n",
              "        async function convertToInteractive(key) {\n",
              "          const element = document.querySelector('#df-187f205c-360b-4477-81ed-63e59fcb4de2');\n",
              "          const dataTable =\n",
              "            await google.colab.kernel.invokeFunction('convertToInteractive',\n",
              "                                                     [key], {});\n",
              "          if (!dataTable) return;\n",
              "\n",
              "          const docLinkHtml = 'Like what you see? Visit the ' +\n",
              "            '<a target=\"_blank\" href=https://colab.research.google.com/notebooks/data_table.ipynb>data table notebook</a>'\n",
              "            + ' to learn more about interactive tables.';\n",
              "          element.innerHTML = '';\n",
              "          dataTable['output_type'] = 'display_data';\n",
              "          await google.colab.output.renderOutput(dataTable, element);\n",
              "          const docLink = document.createElement('div');\n",
              "          docLink.innerHTML = docLinkHtml;\n",
              "          element.appendChild(docLink);\n",
              "        }\n",
              "      </script>\n",
              "    </div>\n",
              "  </div>\n",
              "  "
            ],
            "text/plain": [
              "                          review_id  ...                                           positive\n",
              "0  00026f564b258ad5159aab07c357c4ca  ...                                 Just the location \n",
              "1  000278c73da08f4fcb857fcfe4ac6417  ...   Great location very comfortable clean breakfa...\n",
              "2  000404f843e756fe3b2a477dbefa5bd4  ...   The breakfast booked the preceding night but ...\n",
              "3  000a66d32bcf305148d789ac156dd512  ...                       Great location Nice bathroom\n",
              "4  000bf1d8c5110701f459ffbedbf0d546  ...                  Great location and friendly staff\n",
              "5  000c36a6731f1e109864308a7a22be4d  ...   The personnel was helpfull and cheerful The r...\n",
              "6  00142074a207aba53ddcc46985f8c0c3  ...                                    Standing global\n",
              "7  0014e8ce0480a083abd0dca4f6d7aca7  ...   Free upgrade in Executive Double room complem...\n",
              "8  0016fb343fddab24736d7e1d9823e9a5  ...                                                   \n",
              "9  0018a42d079fed623b58d24b0bde718b  ...   Fantastic hotel best I ve stayed in for a whi...\n",
              "\n",
              "[10 rows x 3 columns]"
            ]
          },
          "metadata": {},
          "execution_count": 15
        }
      ]
    },
    {
      "cell_type": "code",
      "source": [
        "w2v_ridge = Word2Vec_wrapper(model=Ridge(alpha=0.7), wmode='idf', vector_size=1000, \n",
        "                             min_count=6, window=3, sample=6e-5)\n",
        "w2v_ridge.fit(df, df['score'])\n",
        "y_pred_w2v = w2v_ridge.predict(df_real_test)\n",
        "y_pred_w2v"
      ],
      "metadata": {
        "colab": {
          "base_uri": "https://localhost:8080/"
        },
        "id": "W3IM8sGvkHfS",
        "outputId": "faaa5a21-cdec-46df-a631-805a128f219f"
      },
      "execution_count": null,
      "outputs": [
        {
          "output_type": "execute_result",
          "data": {
            "text/plain": [
              "array([6.57213467, 9.64854504, 6.71404438, ..., 8.82340439, 7.2066017 ,\n",
              "       9.02946986])"
            ]
          },
          "metadata": {},
          "execution_count": 18
        }
      ]
    },
    {
      "cell_type": "code",
      "source": [
        "df_real_test['score'] = y_pred_w2v\n",
        "df_w2v_ridge = df_real_test[['review_id', 'score']]\n",
        "df_w2v_ridge"
      ],
      "metadata": {
        "colab": {
          "base_uri": "https://localhost:8080/"
        },
        "id": "AEm0YhUykZLV",
        "outputId": "0e233edb-9db7-4fb6-e134-39755c92420e"
      },
      "execution_count": null,
      "outputs": [
        {
          "output_type": "execute_result",
          "data": {
            "text/html": [
              "\n",
              "  <div id=\"df-26a46436-dfc7-4034-94bd-686bea55d299\">\n",
              "    <div class=\"colab-df-container\">\n",
              "      <div>\n",
              "<style scoped>\n",
              "    .dataframe tbody tr th:only-of-type {\n",
              "        vertical-align: middle;\n",
              "    }\n",
              "\n",
              "    .dataframe tbody tr th {\n",
              "        vertical-align: top;\n",
              "    }\n",
              "\n",
              "    .dataframe thead th {\n",
              "        text-align: right;\n",
              "    }\n",
              "</style>\n",
              "<table border=\"1\" class=\"dataframe\">\n",
              "  <thead>\n",
              "    <tr style=\"text-align: right;\">\n",
              "      <th></th>\n",
              "      <th>review_id</th>\n",
              "      <th>score</th>\n",
              "    </tr>\n",
              "  </thead>\n",
              "  <tbody>\n",
              "    <tr>\n",
              "      <th>0</th>\n",
              "      <td>00026f564b258ad5159aab07c357c4ca</td>\n",
              "      <td>6.572135</td>\n",
              "    </tr>\n",
              "    <tr>\n",
              "      <th>1</th>\n",
              "      <td>000278c73da08f4fcb857fcfe4ac6417</td>\n",
              "      <td>9.648545</td>\n",
              "    </tr>\n",
              "    <tr>\n",
              "      <th>2</th>\n",
              "      <td>000404f843e756fe3b2a477dbefa5bd4</td>\n",
              "      <td>6.714044</td>\n",
              "    </tr>\n",
              "    <tr>\n",
              "      <th>3</th>\n",
              "      <td>000a66d32bcf305148d789ac156dd512</td>\n",
              "      <td>7.391001</td>\n",
              "    </tr>\n",
              "    <tr>\n",
              "      <th>4</th>\n",
              "      <td>000bf1d8c5110701f459ffbedbf0d546</td>\n",
              "      <td>9.345652</td>\n",
              "    </tr>\n",
              "    <tr>\n",
              "      <th>...</th>\n",
              "      <td>...</td>\n",
              "      <td>...</td>\n",
              "    </tr>\n",
              "    <tr>\n",
              "      <th>19995</th>\n",
              "      <td>ffe8a7190aee6e3a53ee2e0145a91555</td>\n",
              "      <td>6.255963</td>\n",
              "    </tr>\n",
              "    <tr>\n",
              "      <th>19996</th>\n",
              "      <td>ffea0e2b84788c9df755efe8e2bedb23</td>\n",
              "      <td>9.075693</td>\n",
              "    </tr>\n",
              "    <tr>\n",
              "      <th>19997</th>\n",
              "      <td>fff3997a85a1eed7ae7a937bc945fcf0</td>\n",
              "      <td>8.823404</td>\n",
              "    </tr>\n",
              "    <tr>\n",
              "      <th>19998</th>\n",
              "      <td>fff673fe95ab8f3a0910f112549862e2</td>\n",
              "      <td>7.206602</td>\n",
              "    </tr>\n",
              "    <tr>\n",
              "      <th>19999</th>\n",
              "      <td>fffde0b07729c476fa6509524cf07f15</td>\n",
              "      <td>9.029470</td>\n",
              "    </tr>\n",
              "  </tbody>\n",
              "</table>\n",
              "<p>20000 rows × 2 columns</p>\n",
              "</div>\n",
              "      <button class=\"colab-df-convert\" onclick=\"convertToInteractive('df-26a46436-dfc7-4034-94bd-686bea55d299')\"\n",
              "              title=\"Convert this dataframe to an interactive table.\"\n",
              "              style=\"display:none;\">\n",
              "        \n",
              "  <svg xmlns=\"http://www.w3.org/2000/svg\" height=\"24px\"viewBox=\"0 0 24 24\"\n",
              "       width=\"24px\">\n",
              "    <path d=\"M0 0h24v24H0V0z\" fill=\"none\"/>\n",
              "    <path d=\"M18.56 5.44l.94 2.06.94-2.06 2.06-.94-2.06-.94-.94-2.06-.94 2.06-2.06.94zm-11 1L8.5 8.5l.94-2.06 2.06-.94-2.06-.94L8.5 2.5l-.94 2.06-2.06.94zm10 10l.94 2.06.94-2.06 2.06-.94-2.06-.94-.94-2.06-.94 2.06-2.06.94z\"/><path d=\"M17.41 7.96l-1.37-1.37c-.4-.4-.92-.59-1.43-.59-.52 0-1.04.2-1.43.59L10.3 9.45l-7.72 7.72c-.78.78-.78 2.05 0 2.83L4 21.41c.39.39.9.59 1.41.59.51 0 1.02-.2 1.41-.59l7.78-7.78 2.81-2.81c.8-.78.8-2.07 0-2.86zM5.41 20L4 18.59l7.72-7.72 1.47 1.35L5.41 20z\"/>\n",
              "  </svg>\n",
              "      </button>\n",
              "      \n",
              "  <style>\n",
              "    .colab-df-container {\n",
              "      display:flex;\n",
              "      flex-wrap:wrap;\n",
              "      gap: 12px;\n",
              "    }\n",
              "\n",
              "    .colab-df-convert {\n",
              "      background-color: #E8F0FE;\n",
              "      border: none;\n",
              "      border-radius: 50%;\n",
              "      cursor: pointer;\n",
              "      display: none;\n",
              "      fill: #1967D2;\n",
              "      height: 32px;\n",
              "      padding: 0 0 0 0;\n",
              "      width: 32px;\n",
              "    }\n",
              "\n",
              "    .colab-df-convert:hover {\n",
              "      background-color: #E2EBFA;\n",
              "      box-shadow: 0px 1px 2px rgba(60, 64, 67, 0.3), 0px 1px 3px 1px rgba(60, 64, 67, 0.15);\n",
              "      fill: #174EA6;\n",
              "    }\n",
              "\n",
              "    [theme=dark] .colab-df-convert {\n",
              "      background-color: #3B4455;\n",
              "      fill: #D2E3FC;\n",
              "    }\n",
              "\n",
              "    [theme=dark] .colab-df-convert:hover {\n",
              "      background-color: #434B5C;\n",
              "      box-shadow: 0px 1px 3px 1px rgba(0, 0, 0, 0.15);\n",
              "      filter: drop-shadow(0px 1px 2px rgba(0, 0, 0, 0.3));\n",
              "      fill: #FFFFFF;\n",
              "    }\n",
              "  </style>\n",
              "\n",
              "      <script>\n",
              "        const buttonEl =\n",
              "          document.querySelector('#df-26a46436-dfc7-4034-94bd-686bea55d299 button.colab-df-convert');\n",
              "        buttonEl.style.display =\n",
              "          google.colab.kernel.accessAllowed ? 'block' : 'none';\n",
              "\n",
              "        async function convertToInteractive(key) {\n",
              "          const element = document.querySelector('#df-26a46436-dfc7-4034-94bd-686bea55d299');\n",
              "          const dataTable =\n",
              "            await google.colab.kernel.invokeFunction('convertToInteractive',\n",
              "                                                     [key], {});\n",
              "          if (!dataTable) return;\n",
              "\n",
              "          const docLinkHtml = 'Like what you see? Visit the ' +\n",
              "            '<a target=\"_blank\" href=https://colab.research.google.com/notebooks/data_table.ipynb>data table notebook</a>'\n",
              "            + ' to learn more about interactive tables.';\n",
              "          element.innerHTML = '';\n",
              "          dataTable['output_type'] = 'display_data';\n",
              "          await google.colab.output.renderOutput(dataTable, element);\n",
              "          const docLink = document.createElement('div');\n",
              "          docLink.innerHTML = docLinkHtml;\n",
              "          element.appendChild(docLink);\n",
              "        }\n",
              "      </script>\n",
              "    </div>\n",
              "  </div>\n",
              "  "
            ],
            "text/plain": [
              "                              review_id     score\n",
              "0      00026f564b258ad5159aab07c357c4ca  6.572135\n",
              "1      000278c73da08f4fcb857fcfe4ac6417  9.648545\n",
              "2      000404f843e756fe3b2a477dbefa5bd4  6.714044\n",
              "3      000a66d32bcf305148d789ac156dd512  7.391001\n",
              "4      000bf1d8c5110701f459ffbedbf0d546  9.345652\n",
              "...                                 ...       ...\n",
              "19995  ffe8a7190aee6e3a53ee2e0145a91555  6.255963\n",
              "19996  ffea0e2b84788c9df755efe8e2bedb23  9.075693\n",
              "19997  fff3997a85a1eed7ae7a937bc945fcf0  8.823404\n",
              "19998  fff673fe95ab8f3a0910f112549862e2  7.206602\n",
              "19999  fffde0b07729c476fa6509524cf07f15  9.029470\n",
              "\n",
              "[20000 rows x 2 columns]"
            ]
          },
          "metadata": {},
          "execution_count": 19
        }
      ]
    },
    {
      "cell_type": "code",
      "source": [
        "df_w2v_ridge.to_csv('/content/drive/MyDrive/Intro to DL (домашки Маши Тимониной)/Intro to DL HW3/w2v_submission_1000.csv', index=False)"
      ],
      "metadata": {
        "id": "zhmkIDDgkaAw"
      },
      "execution_count": null,
      "outputs": []
    },
    {
      "cell_type": "markdown",
      "metadata": {
        "id": "4s-6HQo0XHaT"
      },
      "source": [
        "#### Эксперименты с размерностью эмбеддинга\n",
        "\n",
        "**выводы:** С ростом длины эмбеддинга уменьшается MAE."
      ]
    },
    {
      "cell_type": "code",
      "source": [
        "vector_sizes = []\n",
        "mae = []\n",
        "\n",
        "for v in tqdm([100, 300, 500, 700, 1000]):\n",
        "    w2v_ridge = Word2Vec_wrapper(model=Ridge(), wmode='average', vector_size=v, \n",
        "                                min_count=4, window=5, alpha=0.03, min_alpha=0.0007)\n",
        "    w2v_ridge.fit(df_train, y_train)\n",
        "    y_pred = w2v_ridge.predict(df_test)\n",
        "    vector_sizes.append(v)\n",
        "    mae.append(mean_absolute_error(y_test, y_pred))"
      ],
      "metadata": {
        "colab": {
          "base_uri": "https://localhost:8080/"
        },
        "id": "bu4jT7FbQCYJ",
        "outputId": "b77015ef-e62f-4963-f031-30b44b0b79f3"
      },
      "execution_count": null,
      "outputs": [
        {
          "output_type": "stream",
          "name": "stderr",
          "text": [
            "100%|██████████| 5/5 [22:55<00:00, 275.05s/it]\n"
          ]
        }
      ]
    },
    {
      "cell_type": "code",
      "source": [
        "mae"
      ],
      "metadata": {
        "colab": {
          "base_uri": "https://localhost:8080/"
        },
        "id": "yBatQMvO3MNr",
        "outputId": "3ab7d623-1480-41ec-985c-596fb4c325d3"
      },
      "execution_count": null,
      "outputs": [
        {
          "output_type": "execute_result",
          "data": {
            "text/plain": [
              "[0.9592092172996228,\n",
              " 0.9359922694057617,\n",
              " 0.9280899627338232,\n",
              " 0.9257177421978953,\n",
              " 0.9239187672421078]"
            ]
          },
          "metadata": {},
          "execution_count": 41
        }
      ]
    },
    {
      "cell_type": "code",
      "source": [
        "vector_sizes_idf = []\n",
        "mae_idf = []\n",
        "\n",
        "for v in tqdm([100, 300, 500, 700, 1000]):\n",
        "    w2v_ridge = Word2Vec_wrapper(model=Ridge(), wmode='average', vector_size=v, \n",
        "                                min_count=4, window=5, alpha=0.03, min_alpha=0.0007)\n",
        "    w2v_ridge.fit(df_train, y_train)\n",
        "    y_pred = w2v_ridge.predict(df_test)\n",
        "    vector_sizes_idf.append(v)\n",
        "    mae_idf.append(mean_absolute_error(y_test, y_pred))"
      ],
      "metadata": {
        "colab": {
          "base_uri": "https://localhost:8080/"
        },
        "id": "wA4BwRBCrVGg",
        "outputId": "de5a6bed-c2b5-4b0f-cd8d-36a3fa22acc6"
      },
      "execution_count": null,
      "outputs": [
        {
          "output_type": "stream",
          "name": "stderr",
          "text": [
            "100%|██████████| 5/5 [24:31<00:00, 294.24s/it]\n"
          ]
        }
      ]
    },
    {
      "cell_type": "code",
      "source": [
        "mae_idf"
      ],
      "metadata": {
        "colab": {
          "base_uri": "https://localhost:8080/"
        },
        "id": "kShk3rHH3Ryn",
        "outputId": "2902f7d9-7955-4d48-8c6e-0e5a13e0f20c"
      },
      "execution_count": null,
      "outputs": [
        {
          "output_type": "execute_result",
          "data": {
            "text/plain": [
              "[0.9605661213703738,\n",
              " 0.9360713886283284,\n",
              " 0.9289466265157792,\n",
              " 0.92603806460876,\n",
              " 0.9261953908936761]"
            ]
          },
          "metadata": {},
          "execution_count": 42
        }
      ]
    },
    {
      "cell_type": "code",
      "source": [
        "fig, ax = plt.subplots(1, 2, figsize=(16, 6))\n",
        "\n",
        "ax[0].plot(vector_sizes, mae)\n",
        "ax[0].set_xlabel('vector_size')\n",
        "ax[0].set_ylabel('MAE score')\n",
        "ax[0].set_title('Average weights Word2Vec')\n",
        "\n",
        "ax[1].plot(vector_sizes_idf, mae_idf)\n",
        "ax[1].set_xlabel('vector_size')\n",
        "ax[1].set_ylabel('MAE score')\n",
        "ax[1].set_title('IDF weights Word2Vec')\n",
        "plt.show()"
      ],
      "metadata": {
        "colab": {
          "base_uri": "https://localhost:8080/",
          "height": 410
        },
        "id": "5lSyEYUP3Vqq",
        "outputId": "7d994f49-e90b-4b48-c681-6f4886253a06"
      },
      "execution_count": null,
      "outputs": [
        {
          "output_type": "display_data",
          "data": {
            "image/png": "[encoded data removed]",
            "text/plain": [
              "<Figure size 1152x432 with 2 Axes>"
            ]
          },
          "metadata": {}
        }
      ]
    },
    {
      "cell_type": "markdown",
      "metadata": {
        "id": "f29vizrmXHaT"
      },
      "source": [
        "#### Сравнение с обучением на других эмбеддингах\n",
        "\n",
        "Теперь попробуем обучить логистическую или линейную регрессию на любых других эмбеддингах размерности 300 и сравните качество с Word2Vec.\n",
        "\n",
        "**Попробуем обучить две модели отдельно для положительных и отрицательных отзывов и усреднить результат**"
      ]
    },
    {
      "cell_type": "code",
      "source": [
        "!pip install --upgrade gensim"
      ],
      "metadata": {
        "colab": {
          "base_uri": "https://localhost:8080/"
        },
        "id": "brrkxCJCIdLE",
        "outputId": "1dc30b44-a7f2-4226-b94a-45e60b27bcf9"
      },
      "execution_count": null,
      "outputs": [
        {
          "output_type": "stream",
          "name": "stdout",
          "text": [
            "Requirement already satisfied: gensim in /usr/local/lib/python3.7/dist-packages (3.6.0)\n",
            "Collecting gensim\n",
            "  Downloading gensim-4.1.2-cp37-cp37m-manylinux_2_12_x86_64.manylinux2010_x86_64.whl (24.1 MB)\n",
            "\u001b[K     |████████████████████████████████| 24.1 MB 4.7 MB/s \n",
            "\u001b[?25hRequirement already satisfied: scipy>=0.18.1 in /usr/local/lib/python3.7/dist-packages (from gensim) (1.4.1)\n",
            "Requirement already satisfied: numpy>=1.17.0 in /usr/local/lib/python3.7/dist-packages (from gensim) (1.19.5)\n",
            "Requirement already satisfied: smart-open>=1.8.1 in /usr/local/lib/python3.7/dist-packages (from gensim) (5.2.1)\n",
            "Installing collected packages: gensim\n",
            "  Attempting uninstall: gensim\n",
            "    Found existing installation: gensim 3.6.0\n",
            "    Uninstalling gensim-3.6.0:\n",
            "      Successfully uninstalled gensim-3.6.0\n",
            "Successfully installed gensim-4.1.2\n"
          ]
        }
      ]
    },
    {
      "cell_type": "code",
      "source": [
        "from gensim.models.doc2vec import TaggedDocument\n",
        "from gensim.models import Doc2Vec\n",
        "from sklearn import utils\n",
        "from tqdm import tqdm"
      ],
      "metadata": {
        "id": "ZtlsxChLI0EM"
      },
      "execution_count": null,
      "outputs": []
    },
    {
      "cell_type": "code",
      "source": [
        "# применение doc2vec\n",
        "# https://www.machinelearningmastery.ru/multi-class-text-classification-with-doc2vec-logistic-regression-9da9947b43f4/\n",
        "\n",
        "class Doc2Vec_wrapper():\n",
        "    def vec_for_learning(self, embedding_model, tagged_docs):\n",
        "        sents = tagged_docs.values\n",
        "        targets, regressors = zip(*[(doc.tags[0], \n",
        "                                     embedding_model.infer_vector(\n",
        "                                         doc_words=doc.words, epochs=20, alpha=0.025)) for doc in sents])\n",
        "        return targets, regressors\n",
        "\n",
        "    def tokenize_text(self, text):\n",
        "        # lemmatization, puncuation, stop-words cleaning applied to a comment\n",
        "        tokens = []\n",
        "        for sent in nltk.sent_tokenize(text):\n",
        "            for word in nltk.word_tokenize(sent):\n",
        "                if len(word) >= 2 and word not in string.punctuation and word not in sw:\n",
        "                    tokens.append(wordnet_lemmatizer.lemmatize(word.lower(), pos=\"v\"))\n",
        "        return tokens\n",
        "\n",
        "    def create_embeddings(self, tagged, emb_model, n_epochs=30):\n",
        "        emb_model.build_vocab([x for x in tqdm(tagged.values)])\n",
        "        for epoch in range(n_epochs):\n",
        "            emb_model.train(utils.shuffle([x for x in tqdm(tagged.values)]),\n",
        "                            total_examples=len(tagged.values), epochs=1)\n",
        "            emb_model.alpha -= 0.002\n",
        "            emb_model.min_alpha = emb_model.alpha\n",
        "\n",
        "    def __init__(self, dm=0, vector_size=300, **qwargs):        # Init block starts here\n",
        "        self.target_mean = 0.0\n",
        "        self.target_std = 1.0\n",
        "        self.emb_model_pos = Doc2Vec(dm=dm, vector_size=vector_size, **qwargs)\n",
        "        self.emb_model_neg = Doc2Vec(dm=dm, vector_size=vector_size, **qwargs)\n",
        "        self.model_pos = Ridge()\n",
        "        self.model_neg = Ridge()\n",
        "\n",
        "    def fit(self, corpus, target):\n",
        "        # target normalization\n",
        "        corp = corpus.copy()\n",
        "        self.target_mean = np.mean(target)\n",
        "        self.target_std = np.std(target)\n",
        "        new_target = (target - self.target_mean) / self.target_std\n",
        "        corp['target'] = new_target\n",
        "\n",
        "        pos_tagged = corp.apply(lambda r: TaggedDocument(\n",
        "            words=self.tokenize_text(r['positive']), tags=[r['target']]), axis=1)\n",
        "        self.create_embeddings(pos_tagged, self.emb_model_pos)\n",
        "        y_pos, X_pos = self.vec_for_learning(self.emb_model_pos, pos_tagged)\n",
        "        self.model_pos.fit(X_pos, y_pos)\n",
        "\n",
        "        neg_tagged = corp.apply(lambda r: TaggedDocument(\n",
        "            words=self.tokenize_text(r['negative']), tags=[r['target']]), axis=1)\n",
        "        self.create_embeddings(neg_tagged, self.emb_model_neg)\n",
        "        y_neg, X_neg = self.vec_for_learning(self.emb_model_neg, neg_tagged)\n",
        "        self.model_neg.fit(X_neg, y_neg)\n",
        "        \n",
        "\n",
        "    def predict(self, corpus):\n",
        "        # no embedding creation step! same models\n",
        "        pos_tagged = corpus[['positive']].apply(lambda r: TaggedDocument(\n",
        "            words=self.tokenize_text(r['positive']), tags=[1]), axis=1)\n",
        "        y_pos, X_pos = self.vec_for_learning(self.emb_model_pos, pos_tagged)\n",
        "        \n",
        "        neg_tagged = corpus[['negative']].apply(lambda r: TaggedDocument(\n",
        "            words=self.tokenize_text(r['negative']), tags=[1]), axis=1)\n",
        "        y_neg, X_neg = self.vec_for_learning(self.emb_model_neg, neg_tagged)\n",
        "\n",
        "        answer = self.model_pos.predict(X_pos) + self.model_neg.predict(X_neg)\n",
        "        return self.target_mean + answer / 2 * self.target_std"
      ],
      "metadata": {
        "id": "NJ1vACGeQCrS"
      },
      "execution_count": null,
      "outputs": []
    },
    {
      "cell_type": "code",
      "source": [
        "d2v_ridge = Doc2Vec_wrapper(dm=1, vector_size=300, min_count=6, window=3, negative=5, \n",
        "                            alpha=0.065, min_alpha=0.065)\n",
        "d2v_ridge.fit(df_train, y_train)"
      ],
      "metadata": {
        "colab": {
          "base_uri": "https://localhost:8080/"
        },
        "id": "2Rs0fqQm6aG6",
        "outputId": "230d5110-8b68-443e-b4ef-137217896010"
      },
      "execution_count": null,
      "outputs": [
        {
          "output_type": "stream",
          "name": "stderr",
          "text": [
            "100%|██████████| 75000/75000 [00:00<00:00, 2107309.23it/s]\n",
            "100%|██████████| 75000/75000 [00:00<00:00, 2401832.45it/s]\n",
            "100%|██████████| 75000/75000 [00:00<00:00, 2220947.62it/s]\n",
            "100%|██████████| 75000/75000 [00:00<00:00, 2166852.42it/s]\n",
            "100%|██████████| 75000/75000 [00:00<00:00, 2260560.37it/s]\n",
            "100%|██████████| 75000/75000 [00:00<00:00, 2355062.77it/s]\n",
            "100%|██████████| 75000/75000 [00:00<00:00, 2224843.17it/s]\n",
            "100%|██████████| 75000/75000 [00:00<00:00, 1734999.72it/s]\n",
            "100%|██████████| 75000/75000 [00:00<00:00, 2405156.32it/s]\n",
            "100%|██████████| 75000/75000 [00:00<00:00, 2573550.51it/s]\n",
            "100%|██████████| 75000/75000 [00:00<00:00, 1956420.18it/s]\n",
            "100%|██████████| 75000/75000 [00:00<00:00, 2215816.35it/s]\n",
            "100%|██████████| 75000/75000 [00:00<00:00, 2195020.65it/s]\n",
            "100%|██████████| 75000/75000 [00:00<00:00, 2075333.33it/s]\n",
            "100%|██████████| 75000/75000 [00:00<00:00, 2212481.27it/s]\n",
            "100%|██████████| 75000/75000 [00:00<00:00, 2370466.82it/s]\n",
            "100%|██████████| 75000/75000 [00:00<00:00, 2373202.97it/s]\n",
            "100%|██████████| 75000/75000 [00:00<00:00, 2306945.64it/s]\n",
            "100%|██████████| 75000/75000 [00:00<00:00, 2393936.26it/s]\n",
            "100%|██████████| 75000/75000 [00:00<00:00, 2206042.25it/s]\n",
            "100%|██████████| 75000/75000 [00:00<00:00, 2340623.67it/s]\n",
            "100%|██████████| 75000/75000 [00:00<00:00, 2280173.96it/s]\n",
            "100%|██████████| 75000/75000 [00:00<00:00, 2274617.67it/s]\n",
            "100%|██████████| 75000/75000 [00:00<00:00, 2363804.96it/s]\n",
            "100%|██████████| 75000/75000 [00:00<00:00, 1977462.77it/s]\n",
            "100%|██████████| 75000/75000 [00:00<00:00, 2235912.74it/s]\n",
            "100%|██████████| 75000/75000 [00:00<00:00, 1728991.98it/s]\n",
            "100%|██████████| 75000/75000 [00:00<00:00, 2047093.73it/s]\n",
            "100%|██████████| 75000/75000 [00:00<00:00, 2111425.23it/s]\n",
            "100%|██████████| 75000/75000 [00:00<00:00, 1684206.92it/s]\n",
            "100%|██████████| 75000/75000 [00:00<00:00, 2241377.15it/s]\n",
            "100%|██████████| 75000/75000 [00:00<00:00, 1894354.98it/s]\n",
            "100%|██████████| 75000/75000 [00:00<00:00, 1457880.93it/s]\n",
            "100%|██████████| 75000/75000 [00:00<00:00, 2203492.55it/s]\n",
            "100%|██████████| 75000/75000 [00:00<00:00, 2269579.52it/s]\n",
            "100%|██████████| 75000/75000 [00:00<00:00, 2199579.07it/s]\n",
            "100%|██████████| 75000/75000 [00:00<00:00, 2216237.85it/s]\n",
            "100%|██████████| 75000/75000 [00:00<00:00, 2394227.78it/s]\n",
            "100%|██████████| 75000/75000 [00:00<00:00, 2505797.45it/s]\n",
            "100%|██████████| 75000/75000 [00:00<00:00, 2202859.90it/s]\n",
            "100%|██████████| 75000/75000 [00:00<00:00, 2218848.44it/s]\n",
            "100%|██████████| 75000/75000 [00:00<00:00, 2089448.90it/s]\n",
            "100%|██████████| 75000/75000 [00:00<00:00, 2212356.79it/s]\n",
            "100%|██████████| 75000/75000 [00:00<00:00, 2260056.90it/s]\n",
            "100%|██████████| 75000/75000 [00:00<00:00, 2340310.23it/s]\n",
            "100%|██████████| 75000/75000 [00:00<00:00, 2336416.64it/s]\n",
            "100%|██████████| 75000/75000 [00:00<00:00, 2497600.64it/s]\n",
            "100%|██████████| 75000/75000 [00:00<00:00, 2573466.30it/s]\n",
            "100%|██████████| 75000/75000 [00:00<00:00, 2363023.67it/s]\n",
            "100%|██████████| 75000/75000 [00:00<00:00, 2100302.45it/s]\n",
            "100%|██████████| 75000/75000 [00:00<00:00, 2225992.44it/s]\n",
            "100%|██████████| 75000/75000 [00:00<00:00, 2116667.68it/s]\n",
            "100%|██████████| 75000/75000 [00:00<00:00, 2196369.32it/s]\n",
            "100%|██████████| 75000/75000 [00:00<00:00, 2497739.45it/s]\n",
            "100%|██████████| 75000/75000 [00:00<00:00, 2498612.38it/s]\n",
            "100%|██████████| 75000/75000 [00:00<00:00, 2218222.59it/s]\n",
            "100%|██████████| 75000/75000 [00:00<00:00, 2189033.01it/s]\n",
            "100%|██████████| 75000/75000 [00:00<00:00, 2039145.12it/s]\n",
            "100%|██████████| 75000/75000 [00:00<00:00, 2309842.28it/s]\n",
            "100%|██████████| 75000/75000 [00:00<00:00, 2208101.75it/s]\n",
            "100%|██████████| 75000/75000 [00:00<00:00, 2292420.37it/s]\n",
            "100%|██████████| 75000/75000 [00:00<00:00, 2382242.96it/s]\n"
          ]
        }
      ]
    },
    {
      "cell_type": "code",
      "source": [
        "y_pred = d2v_ridge.predict(df_test)\n",
        "mean_absolute_error(y_test, y_pred)"
      ],
      "metadata": {
        "colab": {
          "base_uri": "https://localhost:8080/"
        },
        "id": "FfXfOlx59dBf",
        "outputId": "13aab77d-c9d1-4859-f48c-9df500ab2f2e"
      },
      "execution_count": null,
      "outputs": [
        {
          "output_type": "execute_result",
          "data": {
            "text/plain": [
              "1.0466895986502913"
            ]
          },
          "metadata": {},
          "execution_count": 71
        }
      ]
    },
    {
      "cell_type": "code",
      "source": [
        "w2v_ridge = Word2Vec_wrapper(model=Ridge(), wmode='idf', vector_size=300, \n",
        "                             min_count=6, window=3, sample=6e-5)\n",
        "w2v_ridge.fit(df_train, y_train)\n",
        "y_pred = w2v_ridge.predict(df_test)\n",
        "mean_absolute_error(y_test, y_pred)"
      ],
      "metadata": {
        "colab": {
          "base_uri": "https://localhost:8080/"
        },
        "id": "xPn9OxZ02klI",
        "outputId": "6ba53a41-9fab-4b9a-9eff-53f693ff4f97"
      },
      "execution_count": null,
      "outputs": [
        {
          "output_type": "execute_result",
          "data": {
            "text/plain": [
              "0.9455864955051979"
            ]
          },
          "metadata": {},
          "execution_count": 69
        }
      ]
    },
    {
      "cell_type": "markdown",
      "source": [
        "**Выводы** Результаты для моделей Word2Vec и Doc2Vec можно назвать сопоставимыми. Несмотря на то, что word2vec на одном наборе параметров сработал лучше, вопрос полноценного сравнения качества не закрыт - нужно оптимизировать каждую из моделей по параметрам отдельно. Doc2Vec работал дольше из-за большого количества эпох, но реализовать его успешно получилось, отлично - перейдем к трансформерам:)"
      ],
      "metadata": {
        "id": "90nQkNP53qB5"
      }
    },
    {
      "cell_type": "markdown",
      "metadata": {
        "id": "9AjabHMsXXBu"
      },
      "source": [
        "#### **Submission, score**\n",
        "\n",
        "![dl_hw3_pic2.JPG](data:image/jpeg;base64,/9j/4AAQSkZJRgABAQEAeAB4AAD/4RDaRXhpZgAATU0AKgAAAAgABAE7AAIAAAAFAAAISodpAAQAAAABAAAIUJydAAEAAAAKAAAQyOocAAcAAAgMAAAAPgAAAAAc6gAAAAgAAAAAAAAAAAAAAAAAAAAAAAAAAAAAAAAAAAAAAAAAAAAAAAAAAAAAAAAAAAAAAAAAAAAAAAAAAAAAAAAAAAAAAAAAAAAAAAAAAAAAAAAAAAAAAAAAAAAAAAAAAAAAAAAAAAAAAAAAAAAAAAAAAAAAAAAAAAAAAAAAAAAAAAAAAAAAAAAAAAAAAAAAAAAAAAAAAAAAAAAAAAAAAAAAAAAAAAAAAAAAAAAAAAAAAAAAAAAAAAAAAAAAAAAAAAAAAAAAAAAAAAAAAAAAAAAAAAAAAAAAAAAAAAAAAAAAAAAAAAAAAAAAAAAAAAAAAAAAAAAAAAAAAAAAAAAAAAAAAAAAAAAAAAAAAAAAAAAAAAAAAAAAAAAAAAAAAAAAAAAAAAAAAAAAAAAAAAAAAAAAAAAAAAAAAAAAAAAAAAAAAAAAAAAAAAAAAAAAAAAAAAAAAAAAAAAAAAAAAAAAAAAAAAAAAAAAAAAAAAAAAAAAAAAAAAAAAAAAAAAAAAAAAAAAAAAAAAAAAAAAAAAAAAAAAAAAAAAAAAAAAAAAAAAAAAAAAAAAAAAAAAAAAAAAAAAAAAAAAAAAAAAAAAAAAAAAAAAAAAAAAAAAAAAAAAAAAAAAAAAAAAAAAAAAAAAAAAAAAAAAAAAAAAAAAAAAAAAAAAAAAAAAAAAAAAAAAAAAAAAAAAAAAAAAAAAAAAAAAAAAAAAAAAAAAAAAAAAAAAAAAAAAAAAAAAAAAAAAAAAAAAAAAAAAAAAAAAAAAAAAAAAAAAAAAAAAAAAAAAAAAAAAAAAAAAAAAAAAAAAAAAAAAAAAAAAAAAAAAAAAAAAAAAAAAAAAAAAAAAAAAAAAAAAAAAAAAAAAAAAAAAAAAAAAAAAAAAAAAAAAAAAAAAAAAAAAAAAAAAAAAAAAAAAAAAAAAAAAAAAAAAAAAAAAAAAAAAAAAAAAAAAAAAAAAAAAAAAAAAAAAAAAAAAAAAAAAAAAAAAAAAAAAAAAAAAAAAAAAAAAAAAAAAAAAAAAAAAAAAAAAAAAAAAAAAAAAAAAAAAAAAAAAAAAAAAAAAAAAAAAAAAAAAAAAAAAAAAAAAAAAAAAAAAAAAAAAAAAAAAAAAAAAAAAAAAAAAAAAAAAAAAAAAAAAAAAAAAAAAAAAAAAAAAAAAAAAAAAAAAAAAAAAAAAAAAAAAAAAAAAAAAAAAAAAAAAAAAAAAAAAAAAAAAAAAAAAAAAAAAAAAAAAAAAAAAAAAAAAAAAAAAAAAAAAAAAAAAAAAAAAAAAAAAAAAAAAAAAAAAAAAAAAAAAAAAAAAAAAAAAAAAAAAAAAAAAAAAAAAAAAAAAAAAAAAAAAAAAAAAAAAAAAAAAAAAAAAAAAAAAAAAAAAAAAAAAAAAAAAAAAAAAAAAAAAAAAAAAAAAAAAAAAAAAAAAAAAAAAAAAAAAAAAAAAAAAAAAAAAAAAAAAAAAAAAAAAAAAAAAAAAAAAAAAAAAAAAAAAAAAAAAAAAAAAAAAAAAAAAAAAAAAAAAAAAAAAAAAAAAAAAAAAAAAAAAAAAAAAAAAAAAAAAAAAAAAAAAAAAAAAAAAAAAAAAAAAAAAAAAAAAAAAAAAAAAAAAAAAAAAAAAAAAAAAAAAAAAAAAAAAAAAAAAAAAAAAAAAAAAAAAAAAAAAAAAAAAAAAAAAAAAAAAAAAAAAAAAAAAAAAAAAAAAAAAAAAAAAAAAAAAAAAAAAAAAAAAAAAAAAAAAAAAAAAAAAAAAAAAAAAAAAAAAAAAAAAAAAAAAAAAAAAAAAAAAAAAAAAAAAAAAAAAAAAAAAAAAAAAAAAAAAAAAAAAAAAAAAAAAAAAAAAAAAAAAAAAAAAAAAAAAAAAAAAAAAAAAAAAAAAAAAAAAAAAAAAAAAAAAAAAAAAAAAAAAAAAAAAAAAAAAAAAAAAAAAAAAAAAAAAAAAAAAAAAAAAAAAAAAAAAAAAAAAAAAAAAAAAAAAAAAAAAAAAAAAAAAAAAAAAAAAAAAAAAAAAAAAAAAAAAAAAAAAAAAAAAAAAAAAAAAAAAAAAAAAAAAAAAAAAAAAAAAAAAAAAAAAAAAAAAAAAAAAAAAAAAAAAAAAAAAAAAAAAAAAAAAAAAAAAAAAAAAAAAAAAAAAAAAAAAAAAAAAAAAAAAAAAAAAAAAAAAAAAAAAAAAAAAAAAAAAAAAAAAAAAAAAAAAAAAAAAAAAAAAAAAAAAAAAAAAAAAAAAAAAAAAAAAAAAAAAAAAAAAAAAAAAAAAAAAAAAAAAAAAAAAAAAAAAAAAAAAAAAAAAAAAAAAAAAAAAAAAAAAAAAAAAAAAAAAAAAAAAAAAAAAAAAAAAAAAAAAAAAAAAAAAAAAAAAAAAAAAAAAAAAAAAAAAAAAAAAAAAAAAAAAAAAAAAAAAAAAAAAAAAAAAAAAAAAAAAAAAAAAAAAAAAAAAAAAAAAAAAAAAAAAAAAAAAAAAAAAAAAAAAAAAAAAAAAAAAAAAAAAAAAAAAAAAAAAAAAAAAAAAAAAAAAAAAAAAAAAAAAAAAAAAAAAAAAAAAAAAAAAAAAAAAAAAAAAAAAAAAAAAAAAAAAAAAAAAAAAAAAAAAAAAAAAAAAAAAAAAAAAAAAAAAAAAAAAAAAAAAAAAAAAAAAAAAAAAAAAAAAAAAAAAAAAAAAAAAAAAAAAAAAAAAAAAAAAAAAAAAAAAAAAAAAAAAAAAAAAAAAAAAAAAAAAAAAAAAAAAAAAAAAAAAAAAAAAAAAAAAAAAAAAAAAFVzZXIAAAAFkAMAAgAAABQAABCekAQAAgAAABQAABCykpEAAgAAAAMwNAAAkpIAAgAAAAMwNAAA6hwABwAACAwAAAiSAAAAABzqAAAACAAAAAAAAAAAAAAAAAAAAAAAAAAAAAAAAAAAAAAAAAAAAAAAAAAAAAAAAAAAAAAAAAAAAAAAAAAAAAAAAAAAAAAAAAAAAAAAAAAAAAAAAAAAAAAAAAAAAAAAAAAAAAAAAAAAAAAAAAAAAAAAAAAAAAAAAAAAAAAAAAAAAAAAAAAAAAAAAAAAAAAAAAAAAAAAAAAAAAAAAAAAAAAAAAAAAAAAAAAAAAAAAAAAAAAAAAAAAAAAAAAAAAAAAAAAAAAAAAAAAAAAAAAAAAAAAAAAAAAAAAAAAAAAAAAAAAAAAAAAAAAAAAAAAAAAAAAAAAAAAAAAAAAAAAAAAAAAAAAAAAAAAAAAAAAAAAAAAAAAAAAAAAAAAAAAAAAAAAAAAAAAAAAAAAAAAAAAAAAAAAAAAAAAAAAAAAAAAAAAAAAAAAAAAAAAAAAAAAAAAAAAAAAAAAAAAAAAAAAAAAAAAAAAAAAAAAAAAAAAAAAAAAAAAAAAAAAAAAAAAAAAAAAAAAAAAAAAAAAAAAAAAAAAAAAAAAAAAAAAAAAAAAAAAAAAAAAAAAAAAAAAAAAAAAAAAAAAAAAAAAAAAAAAAAAAAAAAAAAAAAAAAAAAAAAAAAAAAAAAAAAAAAAAAAAAAAAAAAAAAAAAAAAAAAAAAAAAAAAAAAAAAAAAAAAAAAAAAAAAAAAAAAAAAAAAAAAAAAAAAAAAAAAAAAAAAAAAAAAAAAAAAAAAAAAAAAAAAAAAAAAAAAAAAAAAAAAAAAAAAAAAAAAAAAAAAAAAAAAAAAAAAAAAAAAAAAAAAAAAAAAAAAAAAAAAAAAAAAAAAAAAAAAAAAAAAAAAAAAAAAAAAAAAAAAAAAAAAAAAAAAAAAAAAAAAAAAAAAAAAAAAAAAAAAAAAAAAAAAAAAAAAAAAAAAAAAAAAAAAAAAAAAAAAAAAAAAAAAAAAAAAAAAAAAAAAAAAAAAAAAAAAAAAAAAAAAAAAAAAAAAAAAAAAAAAAAAAAAAAAAAAAAAAAAAAAAAAAAAAAAAAAAAAAAAAAAAAAAAAAAAAAAAAAAAAAAAAAAAAAAAAAAAAAAAAAAAAAAAAAAAAAAAAAAAAAAAAAAAAAAAAAAAAAAAAAAAAAAAAAAAAAAAAAAAAAAAAAAAAAAAAAAAAAAAAAAAAAAAAAAAAAAAAAAAAAAAAAAAAAAAAAAAAAAAAAAAAAAAAAAAAAAAAAAAAAAAAAAAAAAAAAAAAAAAAAAAAAAAAAAAAAAAAAAAAAAAAAAAAAAAAAAAAAAAAAAAAAAAAAAAAAAAAAAAAAAAAAAAAAAAAAAAAAAAAAAAAAAAAAAAAAAAAAAAAAAAAAAAAAAAAAAAAAAAAAAAAAAAAAAAAAAAAAAAAAAAAAAAAAAAAAAAAAAAAAAAAAAAAAAAAAAAAAAAAAAAAAAAAAAAAAAAAAAAAAAAAAAAAAAAAAAAAAAAAAAAAAAAAAAAAAAAAAAAAAAAAAAAAAAAAAAAAAAAAAAAAAAAAAAAAAAAAAAAAAAAAAAAAAAAAAAAAAAAAAAAAAAAAAAAAAAAAAAAAAAAAAAAAAAAAAAAAAAAAAAAAAAAAAAAAAAAAAAAAAAAAAAAAAAAAAAAAAAAAAAAAAAAAAAAAAAAAAAAAAAAAAAAAAAAAAAAAAAAAAAAAAAAAAAAAAAAAAAAAAAAAAAAAAAAAAAAAAAAAAAAAAAAAAAAAAAAAAAAAAAAAAAAAAAAAAAAAAAAAAAAAAAAAAAAAAAAAAAAAAAAAAAAAAAAAAAAAAAAAAAAAAAAAAAAAAAAAAAAAAAAAAAAAAAAAAAAAAAAAAAAAAAAAAAAAAAAAAAAAAAAAAAAAAAAAAAAAAAAAAAAAAAAAAAAAAAAAAAAAAAAAAAAAAAAAAAAAAAAAAAAAAAAAAAAAAAAAAAAAAAAAAAAAAAAAAAAAAAAAAAAAAAAAAAAAAAAAAAAAAAAAAAAAAAAAAAAAAAAAAAAAAAAAAAAAAAAAAAAAAAAAAAAAAAAAAAAAAAAAAAAAAAAAAAAAAAAAAAAAAAAAAAAAAAAAAAAAAAAAAAAAAAAAAAAAAAAAAAAAAAAAAAAAAAAAAAAAAAAAAAAAAAAAAAAAAAAAAAAAAAAAAAAAAAAAAAAAAAAAAAAAAAAAAAAAAAAAAAAAAAAAAAAAAAAAAAAAAAAAAAAAAAAAAAAAAAAAAAAAAAAAAAAAAAAAAAAAAAAAAAAAAAAAAAAAAAAAAAAAAAAAAAAAAAAAAAAAAAAAAAAAAAAAAAAAAAAAAAAAAAAAAAAAAAAAAAAAAAAAAAAAAAAAAAAAAAAAAAAAAAAAAAAAAAAAAAAAAAAAAAAAAAAAAAAAAAAAAAAAAAAAAAAAAAAAAAAAAAAAAAAAAAAAAAAAAAAAAAAAAAAAAAAAAAAAAAAAAAAAAAAAAAAAAAAAAAAAAAAAAAAAAAAAAAAAAAAAAAAAAAAAAAAAAAAAAAAAAAAAAAAAAAAAAAAAAAAAAAAAAAAAAAAAAAAAAAAAAAAAAAAAAAAAAAAAAAAAAAAAAAAAAAAAAAAAAAAAAAAAAAAAAAAAAAAAAAAAAAAAAAAAAAAAAAAAAAAAAAAAAAAAAAAAAAAAAAAAAAAAAAAAAAAAAAAAAAAAAAAAAAAAAAAAAAAAAAAAAAAAAAAAAAAAAAAAAAAAAAAAAAAAAAAAAAAAAAAAAAAAAAAAAAAAAAAAAAAAAAAAAAAAAAAAAAAAAAAAAAAAAAAAAAAAMjAyMjowMjowNiAxNzoxNDo0NwAyMDIyOjAyOjA2IDE3OjE0OjQ3AAAAVQBzAGUAcgAAAP/hCxdodHRwOi8vbnMuYWRvYmUuY29tL3hhcC8xLjAvADw/eHBhY2tldCBiZWdpbj0n77u/JyBpZD0nVzVNME1wQ2VoaUh6cmVTek5UY3prYzlkJz8+DQo8eDp4bXBtZXRhIHhtbG5zOng9ImFkb2JlOm5zOm1ldGEvIj48cmRmOlJERiB4bWxuczpyZGY9Imh0dHA6Ly93d3cudzMub3JnLzE5OTkvMDIvMjItcmRmLXN5bnRheC1ucyMiPjxyZGY6RGVzY3JpcHRpb24gcmRmOmFib3V0PSJ1dWlkOmZhZjViZGQ1LWJhM2QtMTFkYS1hZDMxLWQzM2Q3NTE4MmYxYiIgeG1sbnM6ZGM9Imh0dHA6Ly9wdXJsLm9yZy9kYy9lbGVtZW50cy8xLjEvIi8+PHJkZjpEZXNjcmlwdGlvbiByZGY6YWJvdXQ9InV1aWQ6ZmFmNWJkZDUtYmEzZC0xMWRhLWFkMzEtZDMzZDc1MTgyZjFiIiB4bWxuczp4bXA9Imh0dHA6Ly9ucy5hZG9iZS5jb20veGFwLzEuMC8iPjx4bXA6Q3JlYXRlRGF0ZT4yMDIyLTAyLTA2VDE3OjE0OjQ3LjAzNTwveG1wOkNyZWF0ZURhdGU+PC9yZGY6RGVzY3JpcHRpb24+PHJkZjpEZXNjcmlwdGlvbiByZGY6YWJvdXQ9InV1aWQ6ZmFmNWJkZDUtYmEzZC0xMWRhLWFkMzEtZDMzZDc1MTgyZjFiIiB4bWxuczpkYz0iaHR0cDovL3B1cmwub3JnL2RjL2VsZW1lbnRzLzEuMS8iPjxkYzpjcmVhdG9yPjxyZGY6U2VxIHhtbG5zOnJkZj0iaHR0cDovL3d3dy53My5vcmcvMTk5OS8wMi8yMi1yZGYtc3ludGF4LW5zIyI+PHJkZjpsaT5Vc2VyPC9yZGY6bGk+PC9yZGY6U2VxPg0KCQkJPC9kYzpjcmVhdG9yPjwvcmRmOkRlc2NyaXB0aW9uPjwvcmRmOlJERj48L3g6eG1wbWV0YT4NCiAgICAgICAgICAgICAgICAgICAgICAgICAgICAgICAgICAgICAgICAgICAgICAgICAgICAgICAgICAgICAgICAgICAgICAgICAgICAgICAgICAgICAgICAgICAgICAgICAgICAKICAgICAgICAgICAgICAgICAgICAgICAgICAgICAgICAgICAgICAgICAgICAgICAgICAgICAgICAgICAgICAgICAgICAgICAgICAgICAgICAgICAgICAgICAgICAgICAgICAgIAogICAgICAgICAgICAgICAgICAgICAgICAgICAgICAgICAgICAgICAgICAgICAgICAgICAgICAgICAgICAgICAgICAgICAgICAgICAgICAgICAgICAgICAgICAgICAgICAgICAgCiAgICAgICAgICAgICAgICAgICAgICAgICAgICAgICAgICAgICAgICAgICAgICAgICAgICAgICAgICAgICAgICAgICAgICAgICAgICAgICAgICAgICAgICAgICAgICAgICAgICAKICAgICAgICAgICAgICAgICAgICAgICAgICAgICAgICAgICAgICAgICAgICAgICAgICAgICAgICAgICAgICAgICAgICAgICAgICAgICAgICAgICAgICAgICAgICAgICAgICAgIAogICAgICAgICAgICAgICAgICAgICAgICAgICAgICAgICAgICAgICAgICAgICAgICAgICAgICAgICAgICAgICAgICAgICAgICAgICAgICAgICAgICAgICAgICAgICAgICAgICAgCiAgICAgICAgICAgICAgICAgICAgICAgICAgICAgICAgICAgICAgICAgICAgICAgICAgICAgICAgICAgICAgICAgICAgICAgICAgICAgICAgICAgICAgICAgICAgICAgICAgICAKICAgICAgICAgICAgICAgICAgICAgICAgICAgICAgICAgICAgICAgICAgICAgICAgICAgICAgICAgICAgICAgICAgICAgICAgICAgICAgICAgICAgICAgICAgICAgICAgICAgIAogICAgICAgICAgICAgICAgICAgICAgICAgICAgICAgICAgICAgICAgICAgICAgICAgICAgICAgICAgICAgICAgICAgICAgICAgICAgICAgICAgICAgICAgICAgICAgICAgICAgCiAgICAgICAgICAgICAgICAgICAgICAgICAgICAgICAgICAgICAgICAgICAgICAgICAgICAgICAgICAgICAgICAgICAgICAgICAgICAgICAgICAgICAgICAgICAgICAgICAgICAKICAgICAgICAgICAgICAgICAgICAgICAgICAgICAgICAgICAgICAgICAgICAgICAgICAgICAgICAgICAgICAgICAgICAgICAgICAgICAgICAgICAgICAgICAgICAgICAgICAgIAogICAgICAgICAgICAgICAgICAgICAgICAgICAgICAgICAgICAgICAgICAgICAgICAgICAgICAgICAgICAgICAgICAgICAgICAgICAgICAgICAgICAgICAgICAgICAgICAgICAgCiAgICAgICAgICAgICAgICAgICAgICAgICAgICAgICAgICAgICAgICAgICAgICAgICAgICAgICAgICAgICAgICAgICAgICAgICAgICAgICAgICAgICAgICAgICAgICAgICAgICAKICAgICAgICAgICAgICAgICAgICAgICAgICAgICAgICAgICAgICAgICAgICAgICAgICAgICAgICAgICAgICAgICAgICAgICAgICAgICAgICAgICAgICAgICAgICAgICAgICAgIAogICAgICAgICAgICAgICAgICAgICAgICAgICAgICAgICAgICAgICAgICAgICAgICAgICAgICAgICAgICAgICAgICAgICAgICAgICAgICAgICAgICAgICAgICAgICAgICAgICAgCiAgICAgICAgICAgICAgICAgICAgICAgICAgICAgICAgICAgICAgICAgICAgICAgICAgICAgICAgICAgICAgICAgICAgICAgICAgICAgICAgICAgICAgICAgICAgICAgICAgICAKICAgICAgICAgICAgICAgICAgICAgICAgICAgICAgICAgICAgICAgICAgICAgICAgICAgICAgICAgICAgICAgICAgICAgICAgICAgICAgICAgICAgICAgICAgICAgICAgICAgIAogICAgICAgICAgICAgICAgICAgICAgICAgICAgICAgICAgICAgICAgICAgICAgICAgICAgICAgICAgICAgICAgICAgICAgICAgICAgICAgICAgICAgICAgICAgICAgICAgICAgCiAgICAgICAgICAgICAgICAgICAgICAgICAgICAgICAgICAgICAgICAgICAgICAgICAgICAgICAgICAgICAgICAgICAgICAgICAgICAgICAgICAgICAgICAgICAgICAgICAgICAKICAgICAgICAgICAgICAgICAgICAgICAgICAgICAgICAgICAgICAgICAgICAgICAgICAgICAgICAgICAgICAgICAgICAgICAgICAgICAgICAgICAgICAgICAgICAgICAgICAgIAogICAgICAgICAgICAgICAgICAgICAgICAgICAgPD94cGFja2V0IGVuZD0ndyc/Pv/bAEMABwUFBgUEBwYFBggHBwgKEQsKCQkKFQ8QDBEYFRoZGBUYFxseJyEbHSUdFxgiLiIlKCkrLCsaIC8zLyoyJyorKv/bAEMBBwgICgkKFAsLFCocGBwqKioqKioqKioqKioqKioqKioqKioqKioqKioqKioqKioqKioqKioqKioqKioqKioqKv/AABEIAhUGuAMBIgACEQEDEQH/xAAfAAABBQEBAQEBAQAAAAAAAAAAAQIDBAUGBwgJCgv/xAC1EAACAQMDAgQDBQUEBAAAAX0BAgMABBEFEiExQQYTUWEHInEUMoGRoQgjQrHBFVLR8CQzYnKCCQoWFxgZGiUmJygpKjQ1Njc4OTpDREVGR0hJSlNUVVZXWFlaY2RlZmdoaWpzdHV2d3h5eoOEhYaHiImKkpOUlZaXmJmaoqOkpaanqKmqsrO0tba3uLm6wsPExcbHyMnK0tPU1dbX2Nna4eLj5OXm5+jp6vHy8/T19vf4+fr/xAAfAQADAQEBAQEBAQEBAAAAAAAAAQIDBAUGBwgJCgv/xAC1EQACAQIEBAMEBwUEBAABAncAAQIDEQQFITEGEkFRB2FxEyIygQgUQpGhscEJIzNS8BVictEKFiQ04SXxFxgZGiYnKCkqNTY3ODk6Q0RFRkdISUpTVFVWV1hZWmNkZWZnaGlqc3R1dnd4eXqCg4SFhoeIiYqSk5SVlpeYmZqio6Slpqeoqaqys7S1tre4ubrCw8TFxsfIycrS09TV1tfY2dri4+Tl5ufo6ery8/T19vf4+fr/2gAMAwEAAhEDEQA/APpGiiigAooooAKKKKACiiigAooooAKKKKACiiigAooooAKKKKACiiigAooooAKKKKACiiigAooooAKKKKACiiigAooooAKKKKACiiigAooooAKKKKACiiigAooooAKKKKACiiigAooooAKKKKACiiigAooooAKKKKACiiigAooooAKKKKACiiigAooooAKKKKACiiigAooooAKKKKACiiigAooooAKKKKACiiigAooooAKKKKACiiigAooooAKKKKACiiigAooooAKKKKACiiigAooooAKKKKACiiigAooooAKKKKACiiigAooooAKKKKACiiigAooooAKKKKACiiigAooooAKKKKACiiigAooooAKKKKACiiigAooooAKKKKACiiigAooooAKKKKACiiigAooooAKKKKACiiigAooooAKKKKACiiigAooooAKKKKACiiigAooooAKKKKACiiigAooooAKKKKACiiigAooooAKKKKACiiigAooooAKKKKACiiigAooooAKKKKACiiigAooooAKKKKACiiigAooooAKKKKACiiigAooooAKKKKACiiigAooooAKKKKACiiigAooooAKKKKACiiigAooooAKKKKACiiigAooooAKKKKACiiigAooooAKKKKACiiigAooooAKKKKACiiigAooooAKKKKACiiigAooooAKKKKACiiigAooooAKKKKACiiigAooooAKKKKACiiigAooooAKKKKACiiigAooooAKKKKACiiigAooooAKKKKACiiigAooooAKKKKACiiigAooooAKKKKACiiigAooooAKKKKACiiigAooooAKKKKACiiigAooooAKKKKACiiigAooooAKKKKACiiigAooooAKKKKACiiigAooooAKKKKACiiigAooooAKKKKACiiigAooooAKKKKACiiigAooooAKKKKACiiigAooooAKKKKACiiigAooooAKKKKACiiigAooooAKKKKACiiigAooooAKKKKACiiigAooooAKKKKACiiigAooooAKKKKACiiigAooooAKKKKACiiigAooooAKKKKACiiigAooooAKKKKACiiigAooooAKKKKACiiigAooooAKKKKACiiigAooooAKKKKACiiigAooooAKKKKACiiigAooooAKKKKACiiigAooooAKKKKACiiigAooooAKKKKACiiigAooooAKKKKACiiigAooooAKKKKACiiigAooooAKKKKACiiigAooooAKKKKACiiigAooooAKKKKACiiigAooooAKKKKACiiigAooooAKKKKACiiigAooooAKKKKACiiigAooooAKKKKACiiigAooooAKKKKACiiigAooooAKKKKACiiigAooooAKKKKACiiigAooooAKKKKACiiigAooooAKKKKACiiigAooooAKKKKACiiigAooooAKKKKACiiigAooooAKKKKACiiigAooooAKKKKACiiigAooooAKKKKACiiigAooooAKKKKACiiigAooooAKKKKACiiigAooooAKKKKACiiigAooooAKKKKACiiigAooooAKKKKACiiigAooooAKKKKACiiigAooooAKKKKACiiigAooooAKKKKACiiigAooooAKKKKACiiigAooooAKKKKACiiigAooooAKKKKACiiigAooooAKKKKACiiigAooooAKKKKACiiigAoqjrGqR6Rp7XMiGRshUjXq7HoKygfF8wEyjTYQRkQPuJHsT6/jQB0dFZOiay+pGe3vIPs97asFmjByOehHtWtQAUUVkahqs9p4h0yxjWMxXe/zCwO4YGRjmgDXooooAKKKKACiis63XVRrdy1zJCdPKjyVUfMD/AJzQBo0UUUAFFFFABRWcq6r/AG+zM8P9meX8q4+bdWjQAUUUUAFFFFABRRRQAUUUUAFFFFABRQelZXh/U5tV0+Se5VFZZnjGwEDAP1oA1aKK5hNU1++1W/t9NXTxHaybMzhwT+RoA6eiuam1fX9JHnavYW89qPvyWbHKD1wetdBbXMV5ax3Fu4eKRdysO4oAlooooAKKKKACiiigAoopk/mm3k+zlRLtOwt0z2zQA+iqWkLqC6cg1h43usncY+mO1XaACiiqMuqJFrcGmmNi80ZkD54GKAL1FUNYXU2scaM8aXG8cyDjHerse/y183BfA3Y6Z70AOooooAKKKKACiiigAooooAKKKKACiiigAooooAKKKKACiiigAooooAKKKKACiiigAooooAKKKKACiiigAooooAKKKKACiiigAooooAKKKKACiiigAooooAKKKKACiiigAooooAKKKKACiiigAooooAKKKKACiiigAooooAKKKKACiiigAooooAKKKKACiiigAooooAKKKKACiiigAooooAKKKKACiiigAooooAKKKKACiiigAooooAKKKKACiiigAooooAKKKKACiiigAooooAKKKKACiiigAooooAKKKKACiiigAooooAKKKKACiiigAooooAKKKKACiiigAooooAKKKKACiiigAooooAKKKKACiiuMtPEHiXU57ldNtLKRIJChLZB68dWoA7OiuTHiXV9KvIo/EdhFFBM21ZoDwp9+T/SusBBAI5B6UAFFFR3MhhtZZFxuRCwz7CgCSisfwxq1xrOj/arpY1k8wriMEDA+pNbFABRWJdazcQ+LrXS0WPyJoy7Eg7s89Dn2qWVNa/4SSJoniGl7PnU4zn+ec/hQBrUUUUAFFFZ+t6xDommtdTKXOdqIDjc3pQBoUVycd34xuoRcxWtnCjDcsL/eI/P+orS8P6+2redb3cH2a9tjiWPt9RQBtUUUUAFFFFABRRRQAUUUUAFFFFABRRRQAUUUUAFFFFAGV4i0uXVdNCWrqlxDIssRboWHY1QXxZJZAJr2mXVm44aVE3xn3z/+utHW9YOjQwTvbmWB5AkrhseUD3xjmrq3VtNbeck0TwsM79wKkUAR2N1ZX8X2qweOUPwXQc/Q9/zrK8MzSy3GriWR3CXjKu5idox0FVfDpgfxRqsmlgCw2qDs+4ZO+P1p3hy6httY1izuJFjnN0ZFVjjcpHUUAWNamlj8TaKiSOqPI+5QxAbjuO9UvFH2j/hJ9FFkVE7eYqMwyFyAM/h1pdVv4brxlo8VuwkETvvdeVBx0z60via5Wz8U6JcSAlI/MLEDOBwCfwzQBNP4UdIWmtNWvxegbhI82Qze49KkttVl1Lwbc3Mn7u5jidJNvGHUdR6Vr3WoWtpYNeSzIIQu4Nu4b6etc5pMMieBb6aVShuRLMqnsD0oAXTNEl1rQ7W41HUbtWaICNYZdoUdifUnqTUWjW17rKXNjqGoz+RYymINC215fTc3oBW54a/5FnT/APrgtZ/hT/j+1r/r8NADNMjn0bxV/Za3c1xaTwGVBM24oQfWrNhNI3jXU4mkcxrDGVQscA+wplx/yUG0/wCvN/50af8A8j1qv/XCOgCoR/bnia9tNQv5reK2IWG2ik8vzOPvH1rU0zSLrS9QcRXrz2DpxFOxZ0b2PpUNxa6F4jvZ7e4iD3Vsdjk5Rx/iKpWCvpHiyLTLK9lurWSItJFK+8wkdOe1AC3bHV/Fc+nXt7LaW8CKY4opNhmJ6nPf6Vo2GjXOl6mGtL2SWxdTvhuHLFW7FTTbyHRNe1CWwvIle6twM7so2D6HqR+lZkUR0LxTZWGm3s08FwG822kff5QA4I9KAL8c0p8ezQ+Y/lCzDBNx25z1xUNybnxBr1xp8V1La2NmAJmhO1pHPbPpT4/+SiTf9eS/+hUzTJk03xZqVpdMIzdss0DMcB+OR9aAIdQsLjwxCupabeXU0MbDz7eeTeGUnqPQ1Y8VXcy6bYTWMhVpLmMrhiA2egOO1SeL7yNNGexQh7q8IjiiHJOT1xVbxJCbfSNIhPJjuoVP4UAS3PhaSaF5zq199uxuEglwob0CjoKu+GdQm1LQYZro5mUmNz6kHGa1W+6fpWB4L/5AB/6+JP50AdAenHWudHhy5vZpZ9c1KdiWPlxW0pSNF7fj/nmt25d4rSWSIbnVCVHqcVyuh6NY69pq3+rzyX07kl1aYhYjnoADxQBa0KeSz8QXekG8e8t0jEsTyNuZPVSahEV5qHi3U7Jb2aC2CRlzG2GHHRfTPc+1Q6IljH45uo9KVFt0tgvycgnIzz3q/pf/ACO2sf8AXOL+VAFO+spfDF5Z3dle3MtvLMsU8M8m4EHuK0vEd9co9ppunSeVc3zlfM7oo6ke9ReMv+Qbaf8AX5H/ADpniN/sGuaTqcvFvE7RStj7u4cGgB48MPZp9osdTvTdoNwM0u5JD6MPQ03wQzNoMjONrG4ckehzW1c39tbWLXUkqeVtypBzu9APUmsXwQxfQpGZSpa4kJB7c0AdHXOeHP8AkP67/wBfA/ka6OuY0CeKHX9c86VI83AxuYDPBoA6Z1V0ZHGVYYIPcVy/hi7Ww0XU1kz5Nhcyhf8AdHOK09V8RWGm2zN9ojlnIxHDGwZmPbgVn6fotwvg27gmG27vVeV19GboKAI7HSJtdtl1HV9QuUacbo4IJdixqen41Y0qa50zXn0e6unu4Xi823lkOXAHVSe9Z3h/QPD2qaXGz22bpBtnTznBVh14zWjpVh4dtNeeHS4j9shTLMruyqD2zkjNAFadjrHiq60++vZbWC3VfKgik2GYkZJJ71pafo11pepE217JLYOvzQ3DlmVuxU+lMuoND8QX81ndxK91bYBzlG/A9SP0rOt420PxZaadp95NcW06MZbeR9/k4HB9qALF0bnxBr0+nw3UtrY2YAmaFtrSOe2fSnHQ77SLqCfRbq4uIy4E9vcS5BX1BPQ03TZ00zxbqVpdER/bGWaBmOA/HI+ta2o6za6bJBFLvkmncIkUQBY574z096AMrxJJeDW9IhsZzC8rOucnHTqR3x1q7aaJHpUV1Ol1c3E0sR3vPJu5GTkccVU1z/kadC/66P8A+g1u3X/HnN/1zb+VAHP6NPLJ4BMzyu0vkyHeWJbPPeq+jaTca7ottcapfXSIE2xRwy7cgfxMe5NS6H/yTs/9cJf61Z8HX0Vx4dtoQwWWFNrIeDjPB+h9aAItOe50TxAmk3FzJdWtzGXt3mOXQjqpPeqF7okR8Z2sH2u8xNC8hYTHcpz0B7D2q7cSpqnjqyW1YSLp8btK6nIBbjFP1GRIfHemtKwRWt3UFjgE+lAC+J1fT/Cojt55gY5I1Ehc7yN3c1Y1/Up7HTreKxx9ru3WKInnaT1NQ+MyG8NMVIIMseCP94UzxOGt4dM1EKWjs51aXA6KRjNAB/wiWYt51fUPtmM+d53G76elWdA1K4vbC5gvv+PuzcxSMBjdjo1af261Nn9r8+P7Pt3eZuG3H1rC8MhrldU1LaVivJyYsjGVAxmgCl4f0641zR1bUNQulgSR1RIpCC3zdWPf0A9qt6ULnR/E76Q91Lc2ssPmwmZsshB5Gan8Ff8AItp/12k/9CNNuP8AkoNp/wBeb/zoA6GiiigAooooAKKKKACiiigAooooAKKKKACiiigAooooAKKKKACiiigAooooAKKKKACiiigAooooAKKKKACiiigAooooAKKKKACiiigAooooAKKKKACiiigAooooAKKKKACiiigAooooAKKKKACiiigAooooAKKKKACiiigAooooAKKKKACiiigAooooAKKKKACiiigAooooAKKKKACiiigAooooAKKKKACiiigAooooAKKKKACiiigAooooAKKKKACiiigAooooAKKKKACiiigAooooAKKKKACiiigAooooAKKKKACiiigAooooAKKKKACiiigAooooAKKKKACiiigAooooAKKKKACuJ8IahZ2U2qC8u4YC1wSolkC55PrXbVwnhXRtP1S41Nr+2WYpcEKSSMcn0NAE/jHVrPVLODTNNlS7uJZlI8o7gPxFWPFck9na6PHFM8Z85UcoxG7gda3rHRdN0199lZxRP03gZb8zzWD48zHa6fcbSY4bkFyO3+cUAdNekrYXBU4IiYgjtxXN+FJ5bjwbcPPK8r/vBudiT0960L/xDpn9jyyQ3cUzSRkJFGwZ2JHTb1rM8H/8iTcfWX+VAGb4U0q61fRPKkvJrWzjkOBAdrSN7n0FXbdr3wx4ktrGa7lu7C84QynJQ/8A68fnR4D1S3j0lrO4kWGQSFk8w7Q4PXBPXBpNbuYtb8XaXZ2DrMLZ/MldDkLgg9fw/WgCxf8A/JSNP/64H/2an3NxMPiRbQCWQRG2yY9x2k/NzimX/wDyUjT/APrgf/ZqS6/5Kfa/9ev/AMVQAur3d7rHiT+w9PuWtYYk33Esf3vp+optx4e1TR2iutBvrq6dWHmW88gIcfjgVF58eifEK4kvWEcF9H8krcAHjv8AUVtat4lstLhjIYXMsjBUihcFj70AayEtGpddrEAlfQ+lY3irRpdZ0kR2pAnhcSRgnAY+n61sxsXjVmXaSASp7e1ZXiHWpdDt4bhbbz4Wk2yNuxs96AMiHxlLp6JDr+l3Nu64UyIuVb35x+hNb+m3Wm6irXmnGF2bh3VMN9D3/OkXWdJubTzfttq0LD5t8i/kQa5vwv5M3i3U5dKXbp5THyjCk8dP1oAdF9s8XavdgXk1pp1q+wLCcFz9at22k6tomsQfYbie+06Q4mSeQEx+/P8ASqfhS6h0jUtR0q/dYJTNvjLnAcex+mDW3c+I7WLV7fTrYfappj83lMCIx6mgDO16+vb/AF6DQtMna23LvnmX7wHoP896r6loN5oNi2o6Tqt28kA3yRzvuV178Ut/Kuj/ABBivbs7La6h2CQ9FOMc/kPzrS8Ta1Z2+g3CrcRSSzRlI0RwxYnjt2oAr6xqjXvgNr+3ZoXkRTlGwVOQCM1HpWi3epRWWpajqE4ZVR44EPyqB6+pPeq13ZyWPwx8mYFX2BmU9Rls4rpdE/5AVl/1wT+VAHPSvd+KNdurWO9ktNOs22N5LYaRvr+dMu4brwjdW1zbX891YyyCOaKd9xXPcVQstK0lfE2o2WvxgSNIZIHeRkDAknHBHrWhe6T4QsbiG3ktzJNM21UimdyPqA3FAHYg5AI6GikUBVAXgAYFLQAUUUUAFFFFABRRRQAyWKOeJopkWSNhhlYZBFYjeCtBaTf9iI5yVErAfzreooAhtbS3srdYLSFIYl6KgxVPUfD+l6rMJb60WSQDG8MVJHvgjNaVFAFCPRNOia2MVqqG1JMO0kbSep68/jU0+n2tzdRXM8QeWEMqMSeAevHQ/jVmigDFXwhoa3XnixXdnIUu23P+7nH4VrTQRT2zwSpmJ12so449OKkooAitraKztY7e3TZFGu1FyTgfU1Haafa2Mk72sWxp33yHcTub15PFWaKAK7WFs+oJfNHm5RCivuPCntjpRHYW0V/LeRx4uJlCu+48gdOOlWKKAMzUfDul6rL5t7aq0uMb1YqT9cdal03RrDSVYafbLFu+82SWP4nmr1FAGdqWgabqzB761WRwMBwSrfmOtLpuh6dpG42FssbMMFySzH8TWhRQBXFhbDUWvhH/AKSyeWX3H7vpjpTNQ0qy1WER39usyjpngj6EcirdFAGXp3hzStKm82ztVWX++zFiPpnp+FXLywtr9Y1u4/MEbiRPmIww6HirFFAAeRzVeysbbTrfyLOPy49xbbuJ5PXrViigArFufCOi3V0Z5bIb2OW2Oygn6A4raooAp2+k2Npd/aba3WOXyxECpIAUdsdKkisLaC+mu4o9s84AkfcTuA6cdKsUUAV7ywttQjSO8j8xUcOo3EYYdDxUk8EVzC0NxGskbjDKwyDUlFAGPaeFNGsrsXNvZgSKcqWdmCn2BNaFnY29hE0dpH5aM5cjcTknqeasUUAFY9z4U0W8upLi4st8sh3M3muMn8DWxRQBm2Ph7StOkElnZRo46Ocsw+hOTWlRRQBk3/hjSNSuDPdWgMp6ujFSfrg81b0/S7LS4TFYW6wqeuOSfqTyat0UAZupeH9M1ZxJfWqvIBgOpKt+Y60/TdE07SA32C2WJm4ZslmP4mr9FAFTUNKstVhEd/brMo5BOQR9CORVfTvDml6VN5tlahZcY3sxYj6Z6Vp0UAV57C2ubqC5nj3S25JibcRtJ68d/wAanZQ6MrDKsMEUtFAGZdWVvp/hu5trOPy4Ugfau4nHB7msvStA03V/DOnPf2wd1hADhipxnpkda6ZlDKVYAgjBBHWhEWNQqKFUdABgCgCtp+mWelweTYQLChOTjkn6k8mk1HSrLVYRFqFusyqcrkkEfQjmrdFAFJ9HsZNMTT3h3WseNse9uMHI5zmrbRo8ZjdQyEYKsMginUUAYf8Awh2hfaPN+wjOc7d7bfyzW0saJEI0QKgG0KowAPSnUUAV7Kxt9Othb2cflxAlgu4nk8nrQ1hbPqCXzR5uUQor7jwp7Y6VYooAKKKKACiiigAooooAKKKKACiiigAooooAKKKKACiiigAooooAKKKKACiiigAooooAKKKKACiiigAooooAKKKKACiiigAooooAKKKKACiiigAooooAKKKKACiiigAooooAKKKKACiiigAooooAKKKKACiiigAooooAKKKKACiiigAooooAKKKKACiiigAooooAKKKKACiiigAooooAKKKKACiiigAooooAKKKKACiiigAooooAKKKKACiiigAooooAKKKKACiiigAooooAKKKKACiiigAooooAKKKKACiiigAooooAKKKKACiiigAooooAKKKKACiiigAooooAKKKKACiiigAooooAKqWOl2emmY2UPlGZt8nzE5P4mrdFABUVzbQ3du8FzGssTjDKwyDUtFAGVZ+GdIsJGktbNVdlKli7MQD1xk8fhVqz0uzsLFrS0h8uBs5TcTnPXknNW6KAMl/DGkPp62TWa+QjFlG9sqT1wc5qxpui6fpCsLC2WIt95sksfxPNXqKAKkmmWkupR38kObmNdqSbjwPpnHehtLs31RNRaHN0i7Fk3HgemM471booAq3+m2ep2/k38CzJ1Geo+hHIqnY+F9I064E9taASqcqzsW2/TJrWooAKZLFHPE0UyLJGwwysMgin0UAYL+CtBeTf9jIz1USuB/Ote0s7awtxBZwpDGOiqMVPRQBn6loenavtN/bLIy8BwSrD8RRpug6bpBLWFssbsMFySzH8TWhRQBXvbG21G3MF7Cs0Z/hYdPoe1Z9n4T0axuBPBZjzFOVLuzY/AnFbFFAEF7ZW+oWr215H5kL/AHl3EZ/EVJBDHbQJDCu2ONQqjOcAU+igClqOj2GrIFv7ZZdv3W5DD8RzUGneG9K0ubzbO0VZezsxYj6Z6VqUUAFFFFABRRRQAUUUUAFFRb5v+eP/AI8KN83/ADx/8eFAEtFRb5v+eP8A48KN83/PH/x4UAS0VFvm/wCeP/jwo3zf88f/AB4UAS0VFvm/54/+PCjfN/zx/wDHhQBLRUW+b/nj/wCPCjfN/wA8f/HhQBLRUW+b/nj/AOPCjfN/zx/8eFAEtFRb5v8Anj/48KN83/PH/wAeFAEtFRb5v+eP/jwo3zf88f8Ax4UAS0VFvm/54/8Ajwo3zf8APH/x4UAS0VFvm/54/wDjwo3zf88f/HhQBLRUW+b/AJ4/+PCjfN/zx/8AHhQBLRUW+b/nj/48KN83/PH/AMeFAEtFRb5v+eP/AI8KN83/ADx/8eFAEtFRb5v+eP8A48KN83/PH/x4UAS0VFvm/wCeP/jwo3zf88f/AB4UAS0VFvm/54/+PCjfN/zx/wDHhQBLRUW+b/nj/wCPCjfN/wA8f/HhQBLRUW+b/nj/AOPCjfN/zx/8eFAEtFRb5v8Anj/48KN83/PH/wAeFAEtFRb5v+eP/jwo3zf88f8Ax4UAS0VFvm/54/8Ajwo3zf8APH/x4UAS0VFvm/54/wDjwo3zf88f/HhQBLRUW+b/AJ4/+PCjfN/zx/8AHhQBLRUW+b/nj/48KN83/PH/AMeFAEtFRb5v+eP/AI8KN83/ADx/8eFAEtFRb5v+eP8A48KN83/PH/x4UAS0VFvm/wCeP/jwo3zf88f/AB4UAS0VFvm/54/+PCjfN/zx/wDHhQBLRUW+b/nj/wCPCjfN/wA8f/HhQBLRUW+b/nj/AOPCjfN/zx/8eFAEtFRb5v8Anj/48KN83/PH/wAeFAEtFRb5v+eP/jwo3zf88f8Ax4UAS0VFvm/54/8Ajwo3zf8APH/x4UAS0VFvm/54/wDjwo3zf88f/HhQBLRUW+b/AJ4/+PCjfN/zx/8AHhQBLRUW+b/nj/48KN83/PH/AMeFAEtFRb5v+eP/AI8KN83/ADx/8eFAEtFRb5v+eP8A48KN83/PH/x4UAS0VFvm/wCeP/jwo3zf88f/AB4UAS0VFvm/54/+PCjfN/zx/wDHhQBLRUW+b/nj/wCPCjfN/wA8f/HhQBLRUW+b/nj/AOPCjfN/zx/8eFAEtFRb5v8Anj/48KN83/PH/wAeFAEtFRb5v+eP/jwo3zf88f8Ax4UAS0VFvm/54/8Ajwo3zf8APH/x4UAS0VFvm/54/wDjwo3zf88f/HhQBLRUW+b/AJ4/+PCjfN/zx/8AHhQBLRUW+b/nj/48KN83/PH/AMeFAEtFRb5v+eP/AI8KN83/ADx/8eFAEtFRb5v+eP8A48KN83/PH/x4UAS0VFvm/wCeP/jwo3zf88f/AB4UAS0VFvm/54/+PCjfN/zx/wDHhQBLRUW+b/nj/wCPCjfN/wA8f/HhQBLRUW+b/nj/AOPCjfN/zx/8eFAEtFRb5v8Anj/48KN83/PH/wAeFAEtFRb5v+eP/jwo3zf88f8Ax4UAS0VFvm/54/8Ajwo3zf8APH/x4UAS0VFvm/54/wDjwo3zf88f/HhQBLRUW+b/AJ4/+PCjfN/zx/8AHhQBLRUW+b/nj/48KN83/PH/AMeFAEtFRb5v+eP/AI8KN83/ADx/8eFAEtFRb5v+eP8A48KN83/PH/x4UAS0VFvm/wCeP/jwo3zf88f/AB4UAS0VFvm/54/+PCjfN/zx/wDHhQBLRUW+b/nj/wCPCjfN/wA8f/HhQBLRUW+b/nj/AOPCjfN/zx/8eFAEtFRb5v8Anj/48KN83/PH/wAeFAEtFRb5v+eP/jwo3zf88f8Ax4UAS0VFvm/54/8Ajwo3zf8APH/x4UAS0VFvm/54/wDjwo3zf88f/HhQBLRUW+b/AJ4/+PCjfN/zx/8AHhQBLRUW+b/nj/48KN83/PH/AMeFAEtFRb5v+eP/AI8KN83/ADx/8eFAEtFRb5v+eP8A48KN83/PH/x4UAS0VFvm/wCeP/jwo3zf88f/AB4UAS0VFvm/54/+PCjfN/zx/wDHhQBLRUW+b/nj/wCPCjfN/wA8f/HhQBLRUW+b/nj/AOPCjfN/zx/8eFAEtFRb5v8Anj/48KN83/PH/wAeFAEtFRb5v+eP/jwo3zf88f8Ax4UAS0VFvm/54/8Ajwo3zf8APH/x4UAS0VFvm/54/wDjwo3zf88f/HhQBLRUW+b/AJ4/+PCjfN/zx/8AHhQBLRUW+b/nj/48KN83/PH/AMeFAEtFRb5v+eP/AI8KN83/ADx/8eFAEtFRb5v+eP8A48KN83/PH/x4UAS0VFvm/wCeP/jwo3zf88f/AB4UAS0VFvm/54/+PCjfN/zx/wDHhQBLRUW+b/nj/wCPCjfN/wA8f/HhQBLRUW+b/nj/AOPCjfN/zx/8eFAEtFRb5v8Anj/48KN83/PH/wAeFAEtFRb5v+eP/jwo3zf88f8Ax4UAS0VFvm/54/8Ajwo3zf8APH/x4UAS0VFvm/54/wDjwo3zf88f/HhQBLRUW+b/AJ4/+PCjfN/zx/8AHhQBLRUW+b/nj/48KN83/PH/AMeFAEtFRb5v+eP/AI8KN83/ADx/8eFAEtFRb5v+eP8A48KN83/PH/x4UAS0VFvm/wCeP/jwo3zf88f/AB4UAS0VFvm/54/+PCjfN/zx/wDHhQBLRUW+b/nj/wCPCjfN/wA8f/HhQBLRUW+b/nj/AOPCjfN/zx/8eFAEtFRb5v8Anj/48KN83/PH/wAeFAEtFRb5v+eP/jwo3zf88f8Ax4UAS0VFvm/54/8Ajwo3zf8APH/x4UAS0VFvm/54/wDjwo3zf88f/HhQBLRUW+b/AJ4/+PCjfN/zx/8AHhQBLRUW+b/nj/48KKAJaKKKACiiigAooooAKKKKACiiigAooooAKKKKACiiigAooooAKKKKACiiigAooooAKKKKACiiigAooooAKKKKACiiigAooooAKKKKACiiigAooooAKKKKACiiigAooooAKKKKACiiigAooooAKKKKACiiigAooooAKKKKACiiigAooooAKKKKACiiigAooooAKKKKACiiigAooooAKKKKACiiigAooooAKKKKACiiigAooooAKKKKACiiigAooooAKKKKACiiigAooooAKKKKACiiigAooooAKKKKACiiigAooooAKKKKACiiigAooooAKKKKACiiigAooooAKKKKACiiigAooooAKKKKACiiigAooooAKKKKACiiigAooooAKKKKACiiigAooooAKKKKACiiigAooooAKKKKACiiigAooooAKKKKACiiigAooooAKKKKACiiigAooooAKKKKACiiigAooooAKKKKACiiigAoqOadIE3OfoB1NRQ38U0ojVXBPqBXBVzHCUa6w9SolN2suuuxShJq6RZooorvJCiiigAooqP7RD/z2j/76FZVK1On8ckvV2Gk3sSUVA17bq2DKM+wJpPt9t/z0/8AHTXG81y+Ls68L/4o/wCZXJPsWKKr/b7b/np/46aPt9t/z0/8dNL+1su/5/w/8Cj/AJh7OfYsUVWN/bAEh8+wU80z+04f7sn5D/Gsqmd5ZTdnXj8mn+VxqnN9C5RVP+04f7sn5D/GozqoycQ5HbLf/WrnqcR5TTV3WXyTf5JjVGo+hoUVn/2r/wBMf/H/AP61H9q/9Mf/AB//AOtWX+tOT/8AP7/yWX/yI/YVOxoUVn/2r/0x/wDH/wD61H9q/wDTH/x//wCtR/rTk/8Az+/8ll/8iHsKnY0KKz/7V/6Y/wDj/wD9alXVFJ+eIgexzTjxPlEnZVvwkv0D2NTsX6KqLqUBbBDqPUipVu4HGRKv4nH869Cjm2Ar/wAOtF/NX+5kOnNbomooor0yAooooAKKKKACiiigAooooAKKKKACiiigAooooAKKKKACiiigAooooAKKKKACiiigAooooAKKKKACijPOO9FABRRRQAUUUZx1oAKKKKACiiigAooooAKKKKACiiigAooooAKKKKACiiigAooooAKKKKACiiigAooooAKKKKACiiigAooooAKKKKACiiigAooooAKKKKACiiigAooooAKKKKACiiigAooooAKKKKACiiigAooooAKKKKACiiigAooooAKKKKACiiigAooooAKKKKACiiigAooooAKKKKACiiigAooooAKKKKACiiigAooooAKKKKACiiigAooooAKKKKACiiigAooooAKKKKACiiigAooooAKKKKACiiigAooooAKKKKACiiigAooooAKKKKACiiigAooooAKKKKACiiigAooooAKKKKACiiigAooooAKKKKACiiigAooooAKKKKACiiigAooooAKKKKACiiigAooooAKKKKACiiigAqvd3P2aMEcu33QRxVis/Vf+WX4/0rxM+xVXCZbVrUXaStb5tL9dDSlFSmkyjJI0shdzkn9KlsP+P6P8f5Gq9S20ohuFkYEgZ6fSvxrA17ZhSrVpfbi236q7PRkvcaRLcXc/nSIJCFDEDAx39ah+0Tf89pP++jSSsHmdx0ZiRmmVWLzDE1a8pe1k1d21e1wjCKWxOt7cKuBKce4BpGu53OTK34HH8qhorKWY42UeR1pNduZ2/MfJHsKSSSSck9SaSiiuFtt3ZQUUUUAFFFFABRRRQAUUUUAFFFFABRRRQAUUUUAFFFFAGlp1zuHkueRypJ7elX658Eggg4I6EVvRuJY1dejDNfrfCOazxWHeFqv3qdrPuv8AgbfNHBiIcr5l1HUUUV9scwUUUUAFFFFABRRRQBSu9Y0+xvILS8vIobi4OIY3bBc5xx+NSX+oWml2pudQuI7aBSAZJGwAT0riPi3Yv/YllrFuMTafchtw7Kf/ALILVbx5df8ACUQ+GtHspMf2q63DEfwpt6/qfyrsp4eM1CV9He/lb/gHmVsZOlKpG2qtbzvp+Z6Ha3dve2kd1aTJNBIu5JEOQw9azZfEllLot/faRKmoNaISUgO7LY4XiuH8Na6+k/C3WbedttzpTy24HcFjhf8Ax4n8q6D4YaX/AGb4HtndcSXjG4b6Hhf0AonQjSUpS6Oy8+v5BSxcq8oQjpeLb8un5nPaP4R1vxjZHV/Emt31pJM7GG2jBURgHGdp6fQD8aveDdU1bSfGV54S1m8bUFij8yC4cktjAOMnnBB6E8YrqvE/iWy8L6Q95etuc5EMIPzSt6D29T2rnfAOhX8t/deK9fG2+1AfuoiMeXGcdu2QAAPQe9be0c6UpVFaPRefl6dTm9hGlXpwotue8nd7efr0OustZ07UriaCxvIp5rc4ljRslDnHI+opdR1aw0iFZtTu4rWN22q0rYBPpXASp/wi3xoilHyWmtJg+m8//ZAf99UeMlPib4laP4fX5oLUefcD68nP/AQB/wACrNYaLmtfdav/AF8zd42apy099S5beu34anpSOskauhyrAEH1FLQBgYHSo7gSNayrAdspQhCezY4rhPU2Rl6j4s0HSbg2+oarbwzDrHu3Mv1Azj8a0LHULPU7UXOnXMVzCeA8Thhn0471434TvfDuh3N9Z+O9NP8AaTTEtNd2/nDH05IOcnIHOetegeC9I8P2kt5f+F9Ree3uiN9usgMcR6j5cbgfr2rvr4eFKL39ejPKwuNqV5L4bPpf3l6nQWOr6fqU08VhdxXD27bZVjbJQ88H8jSXmsadp91Bb315FBNcHEKO2C5zjj8SK4T4X/8AIw+Kf+vv/wBneo/iT/yPPhX/AK7D/wBGJS+rR9v7K+lv0uP67P6oq9tb2/8AJrFnxzqN7a/EDw1BbXk8MM0iiSOOVlV/3gHIBwa6iTxl4civjZyazaLOG2kGTgH0LdP1rhvihaPfeNvD1rFI0TzfIJFOCuXAyK6jUPh14dn0CSyt9OigkWM+XcKP3gbHBLdT9DWko0fZU+e+3T1MYTxPt63sknZre/bZHUyzxQ27zyyKsSKXZyeAoGc1lTeLdAt7CO9l1a2W3lJEb787yODgDk4rifA+qT3vwu1m0uXLmxjliQk5+QoSB+HNJ8MvCulap4VN9qtql7I8jxIJhuWJAeijsSSTnrUPDQpqTqN6O2hrHG1KzgqKXvJvXpY75PEGkSaUdSTUbY2Q4M/mDaD6H0Pt1puleJNH1uR00rUYLl0GWRW+YD1wece9eZeEfDOn3HxC1nSrpGn0+wdpIraRiULbtoJHfAJHNWte0iz8N/FXw/JosQtFunHmRx8L97acDtkHpVPDUuZwTd7XX3XM447EciqyiuW9nvfe10dLqOiaXP8AEux1GbW2hv0jGywyMuAD09B1yO/NdNqOrWGkW/n6neQ2sZOA0rgbj6D1P0rgta/5Lpo//Xt/SSqHj1VsfiJY6l4js5rzQxEFRVGVDYOQRwM55x3FHsfaShGT+zf/AICB4n2Eas4RXx2626av/gHoWl+J9E1mYxaZqVvcSgZ8tWwxHqAeTV68vrXTrVri/uIraFeskrhQPxNcFZ23gPxLrVlc6FeLp19bsGSO0QW7SHrjay4b8Kr/ABWgnGpaPe3lvNdaLA/+kxx54O4Zz6ZHANQsPCVVQ1V++/8ATNXjKkMPKq7St1T0+fa3U7Ow8X+H9UuhbWOrW0szcKm7aW+mcZ/Csjx7oul6s2mHVtaOl+VMfLGR+9PGQPRunPvWER8OvFa2sFlNHpN0jhkMMYtpM+m4rtJ/M0/4sp5cXh5C7OVuSNzdW+7yfetKdJRrxUbxeu6Ma2Ic8LOVTlklbZ6b9eqsejsyQQlpXCoi5Z3OAAO5NYqeN/DMl19nXWrTzM45kwpP+90/WuW+KV3cXd7o3h2CUxR6hMPOI7jcAB9OSfwFbtz8OvDkuiNYRabDG2zCXAH70Njhi3U89ulYRpUowjKq373Y6pYivOrKnQS93e/V72R00kscULTSOFjRSzOTwABnNZcvizQYdPS+k1W1Fs7FUk353EdQB1OK4rwDqlxdeAdc067cyNp0ckaMTnCFGwPwINQfC7wtpeqeHWv9WtkvXEzRRJN8yRqME4Xpkk9a0eGhTUnUfwtbdbmUcdUrOmqMV7yb16WPRtM1nTtZgM2lXsN0inDGNslfqOo/GrteWaRp8Xhv41tp+l5itLm3LGLJIAK7sc+4r1OsK9ONOS5Xo1c6sJXlWg+dWcW07baGD4s1fVNLsYE0HT/t19dSeVGD92PjO4+31IFcJ4fm8Q2XxYg07XdWmupHiaSWNZW8oExk4C9OPpXrNeZy/wDJwEf/AF7/APtI1vhpJwnCy+F6nJjqclUp1OZ/FFW6f8E6D4heKJvDWhJ9gx9uvH8qA4zt9Wx37fia59Phvrcmmi/k8TXy6yU3/wCsbaGxnZuzn2z+lHxM+bxj4WSTmIz8g9PvpXplHtHQowcN3dsPZRxeJqKrtGySvbdXv6nHfDrxRc6/pc9rqv8AyELB/LlJGC45wSPXgg/SufkuNW+I3iy9sbLUZtO0WwOx2hJBlOcc4POcHrwAKd4KJT4jeLVh4T94cDpnfx/Wp/gyAdG1Rj/rDdjce/3f/wBdbzjGk6lWK10t5XOSnOeIjSoVHo3K/ny7f8Eo3y6v8MdYspxqdxqOi3L+XJHOSdnr3wDjkEYzgiuz8a+J/wDhG/C739vteeUiO3zyNxGc/QDJrG+MAU+CFLY3C7Tb+TVg/ERnfwf4UEpJVghfPc7F6/maUIqu6c57ttPztqVVqSwirU6b0STXlfT/AIJcsPh/rWsaXHqmp+Jb6HU50EsYDHbFnkA8/wAsYrV+HniS/vpL7QteYvqOnNt8xusig4OfUg9++RXbxgCNQvTAxXmuifJ8dtXEXCtAd+PXCf1rONR4iE1PorryNpUY4SpSlTb1dnq9brc9Mqjqetabo0Il1W9htVb7vmNgt9B1P4Verynwtp1v458baxq2ur9qhtJBHBA5+UDJxkegA6eprmo0ozUpTeiO7E1503GnTV5S2vtpuz0TS/EWka2WGlahBcsoyyI3zAeu08496s3+o2Wl2xuNRuorWEHG+VwoJ9Oep9q5a/8Ah3af2/Zat4fmTSJrd90iRRZSUemAQBxkH1zXP/EyNrfxdpOo6xazXehRKBIkYyA2TkH3Py9euMVrCjSqVFGEtH9/p2MKuJr0KMpVIq6a16a9e6t1O703xXoWr3H2fTtUt5pj0jDYZvoDjP4Val1nTodUj02a8iS9kGUgZsMw9h+Brg44fh94qvLP+yrpNKvYXDRi1QWzsew5XaTn0yaf8U7KSybSfEloCZrCdUkPqucjP4gj/gVP6vB1FDVX79+hDxlWNGVX3ZJW1T6dfRo9CuLiG0tpLi5kWKGNSzu5wFA7morDUbTVLUXOn3CXEBJAkjOQSOtcT8S9cD+CbWCxbc+sMixhepThv/iR+Ndb4e0pdE8O2WnJj9xEAxHdurH8yawlSUaSm92/yOuGIc8Q6cdkk2/N7fgaVFFFYHWFFFFABRRRQAUUUUAFFFFABRRRQAUUUUAFFFFABRRRQAUUUUAFFFFABRRRQAUUUUAFFFFABRRRQAUUUUAFFFFABRRRQAUUUUAFFFFABRRRQAUUUUAFFFFABRRRQAUUUUAFFFFABRRRQAUUUUAFFFFABRRRQAUUUUAFFFFABRRRQAUUUUAFFFFABRRRQAUUUUAFFFFABRRRQAUUUUAFFFFABRRRQAUUUUAFFFFABRRRQAUUUUAFFFFABRRRQAUUUUAFFFFABRRRQAUUUUAFFFFABRRRQAUUUUAFFFFABRRRQAUUUUAFFFFABRRRQAUUUUAFFFFABRRRQAUUUUAFFFFABWNezNLcMG6ISoA+tbNYVx/x9S/75/nXwfGtWccJThF6N6+djqwyXMyOiiivyo7gooooAKKKKAOO+IXiW90e0tNN0T/kJ6lJ5ULYyUHALfXkCse4+Het2mmtfWXirUZNXjXzDvkPlyMOdvXP55+lO8V/N8YvDAk5QISufXLf/Wr0evblXlgqFJUkveV3onfVq2vTQytzN3OZ8B+Jn8T+G1uLoBbyBzDcADHzDvjtkV01ecfCnjUPEyr/AKsXx246dWr0euPMaUKWKnCCst/vVyoO8dTzS9uNY8d+M77R9P1KbTNJ007Z3gJDyt06j3B9uO9Q6xYax8NvI1aw1i71HS/MWO5tbtt2Ae47flj8aW5lv/h3421HU5LC4vdG1M72eAbjE2c89s5J64yPpVPxv4nuvF/hGdtL0y5tNLgKyz3N4oQyHOFRACc8nOc9q9+lCcqlOFNL2DST2673681zJ2s77nq9vcR3VpFcQnMcqB1PqCM15b4r1Hxhqui3urK76FpdocxRxuRNcfNjcSMED8voetd94QEi+DNIE2Q/2SPdn/dFZ/xJ/wCSe6p/uL/6EK8fBSjQxipqKfvJXetlfp01NJaxuXvBk8tz4K0ma5leaV7ZS8kjFmY+pJ61tMwRSzkKqjJJ7CsHwL/yIej/APXqn8qxvH2r3N1NbeE9Ef8A0/UjiZ1/5Yw9yfTPP4Vi8O6+MlTjoru77JPV/Id7RucV4u8T63rF++raTe3Fpo1vcraRGGZo/ObqWwOvT+VezPcLbacbiYnbHFvY+wGTXnPxF0m20PwDpWnWS7YoLuNc92ODkn3Jr0SS3W70trdzhZoShI9CuK7MdOlUoUXCNo3kvOytv5kxum7nmujadrPxJM+r6jrN3p2meayW1ravt4Hc9vxOfwq1Z3Wr+BPGNlpGp6lLqekakdsEtwcvE+cYyfcjj37VQ0DxDd/DWOfQ/EWl3c1sspa1ubVAwcE9OSB+ueelZ/jLUtS1/WNC1KSwlsLE3axWkVwMSyHcpLkdh0Ar1fZVKtd0ml7Bp8u3bRrrfv8AO5F0lfqeh+OtX1PStBA0K3kmvrmQRIyRl/KB6seP51z7fDfVfsP2seLNT/tbbu3mU+Xu6465x26/hXotcf418WPpwXRNEQ3Ot3o2RRpz5QP8Tent+deHgq9b3aOHSTvdvTbzvskaSS3ZJ8O/Ed14h8POdSw15ZzGCVwMbyOh+vNdZWB4N8Njwv4dismfzLhyZbiT+856/gOldF5n7nyyqkbsg9xWGJ9hPEVHTdo6203/AMr9Co3SVxlXbC62MIX+6x+U+hqlRTy/HVcBiI16W6/FdUE4qaszoaKy7S/EMeyUMw7EHOPatSv2zK82w+Z0faUnqrXXa/8Awx5s6bg7MKKKK9YzCiiigAooooAzfEOmjWPDt9YEczwsq+zYyP1xXmHwriudV8Src3vKaPZ/Z4sj7pZjj8cFq9horpp4hwpSp23/AAOGtg1VrwrX+Hp37fczxHxvYXdv46u9Gs/lg1uaGXGOpyR/6ESa9cv7u38NeGpLgxs0FjAMInUhRgCtKinVxHtIxi1t+IqGD9hKpOMtZbeW7/Nng1l4w03UfFT654xiu7oxH/RbW3RWjj9M7mHT9Tya9J0D4laP4i1iLTbG2vo5pQxVpo0CjAz2Ynt6V2FFXWxFKqvgt212/Ayw+Dr0H/ETu7v3dX87nEfFTS3ufDMep2wxc6ZMJlYdQucH9cH8KofDCKbWNR1fxVfKBLdyeVH/ALIGCce33R+FejVXv7OPUdPuLOcsI7iNo3KHBAIwcVMcQ1R9k18/I0ng08T9YT+Xd6pMsVHcGYW0ptlVpgh8sP0LY4z7ZrhP+FN+HP8An41H/v8AJ/8AEVo6D8N9G8PavFqNjNeNNEGCiWRSvIx0Cj1qXCildTv8v+CVGpim0pU0l/i/4BhxfETTZY57Hx9pCwXkLn901r5iEduGyc+/Q1B8NrJ5/F2qazpllLY6LMhSGNxgMcjGPpg9OBnFenSQxy482NX2nI3KDin1bxEVCUYRtfz0+SMo4Ko6kZ1J35dtLP5s8fsNbf4c+NtYi1mzne0v5DJHLEoyRuJBGcAj5sHniq/iTXLjxD4y8OX5spbSxadRaiYAPIN67nI7DoB9K9nIDdQD9aWtFi483Pye9a2/lYyeXTcHSVT3b3St533ueWfE8XR8b+Hv7PAa6AzCrHALBwQKu6n8WLNdNltrbT72PV2UxC3kjA8uQ8cnOTg+2T7V6NTfLQyeZsXfjG7HOPrWaxFNxjGcL8vmaywdVVJzp1Lc3lfpbvuef+F/D1zoHwx1Q36GO6vIJZnRuqDYQAffv+NXPhL/AMiHF/18SfzrtqKmeIc4yTW7ua0sHGlOEovSKa+/qeb+Df8AkrXij/gX/oYo8df8lN8K/wC+P/QxXpFFP6z+857dLfhYj6j+59lzfavt537nm+tf8l00f/r2/pJWn4k8ZXnhrxGsGr6aJNCmTAuY0LNux0OTjrnjrjmu1pCAwIYAg9QaXt4tx5o3SVv+CV9VnFT5J2cpX2/B9/wPF9fm0nxdr2nQeBdLaO7jl3zXMUHlKBkYJx6HnJ/Wu78XeKNT8L3lnMdOW60hxi6mRSXQ/ngduvXkV1kcUcS7YkVF9FGBTqqWIjJxTjdLu9dfMingpwU2p2lK2qVlp5fmeMeMNW8OeKoILPwrpDTarLKGEsNsIyB3Bx1/Hgdc1p/EeCe10bwpb3b754pAkjZzlgqA16jHDHFnyo1TccnaoGafVrFqLjyrSN933MnlznGfPLWVtlZaO+1/1OE+Jeh390una5o8TTXWmSbzGoyWXIOQO+COnvVWb4v6ZJpZFlZXbak67UgKDAkPvnkZ9s16LTBFGJDII1DkYLbeT+NZRrw5FGpG9ttbG9TC1PaSqUZ8vNvpf5o4Lwh4du9C+H+rTakpju76GWZ426oNhwD79T+NTfCH/kRv+3qT+S13VFE8Q5xkmt3cdLBRpTg4vSKa+/qeb3H/ACX22/69P/abV6RTXQSRsjdGBBxXBn4OeHCSftGo/wDf1P8A4im5U6tud2sktr/5CVOth3L2Uebmbe9rbetzvq8zl/5OAj/69/8A2ka2NL+FmhaTqltf209801vIJEDyqVJHr8tdpSU4UW+R3umu3+Y5UquJUfaLl5ZJ73vb7ji/iX4duta0SC60tC97p8nmoi/eZe4HvwDj2rJj+MNkukBZrC6/tVV2GHaNhk6dc5Az2xmvSqZ5MRl80xp5mMb9oz+dEK8ORQqRvbbWwVcLU9q6tGfK5b6X26+pxXwz8P3unWF5qmsRtHe6nJ5hRxhlXk8jsSSTj6Vz0F5P8L/F1+L60ml0XUH3xSxDO05JHXjIyQRn3r1mkZVdSrqGU8EEZBqlim5yc1dS3X5fcQ8Co04RpytKGz333v6nkut6vL8UNWstJ0O1nTTYJPMubiVcAds8dOM4Gckmuw8feGH17wj9k09M3FoVkt0zjdtGNv5V1KRpEgWNFRR0CjAFOpSxLUo+zVlHYqOCTjP20uZz3e3pb0PMtN+LVpYaMtrrVjeLqlsnlvGEADsOOSTlffj86u/DjRr+S+1HxPrMLQ3GosfKjYYIQnJOOw6AewrvWhieQSNGjOvRioyPxp9E8RDlapxtffX8hU8JU54yrT5uXbS3zfc5Twt41bxLrWo2B0yS1FmTiRnzn5sYYYGD3xz39K5O3u5vhl4w1E6haTSaNqL7454lztOSQPTIyQR1716vgDoKRlDqVYBgeoI60o14RbSj7r6X/Uc8LUnGLc/fi207d+lvQ88Xx3qPinxFZ2Pg6GSO1Vs3lzPCMBc/jjjPuSa0/Ffi7UPDGtW/2vTRPoUq4luI0LOrc8dcDt16iuvSNIkCxoqKOgUYApxGRg8ik6tPmVoafj95Sw9bkd6nvN3vbT0t276niviu90PxdcWdn4L0lm1Jpdzzw2/lAL/tY684OT0x1r1TV9HOreFLjS7lt8ktvs3n++Bw3/fQzWnHFHCpEUaoCckKuKfTqYjmUVFW5fO7Jo4Pkc5VHdz0dlZfceJeB47zxH4q0qz1Bf3GgRMSD6hjgH3yQPote20UUsRX9tK9rIvB4X6rBxcrt9fwX4BRRRXMdoUUUUAFFFFABRRRQAUUUUAFFFFABRRRQAUUUUAFFFFABRRRQAUUUUAFFFFABRRRQAUUUUAFFFFABRRRQAUUUUAFFFFABRRRQAUUUUAFFFFABRRRQAUUUUAFFFFABRRRQAUUUUAFFFFABRRRQAUUUUAFFFFABRRRQAUUUUAFFFFABRRRQAUUUUAFFFFABRRRQAUUUUAFFFFABRRRQAUUUUAFFFFABRRRQAUUUUAFFFFABRRRQAUUUUAFFFFABRRRQAUUUUAFFFFABRRRQAUUUUAFFFFABRRRQAUUUUAFFFFABRRRQAUUUUAFFFFABRRRQAUUUUAFFFFABRRRQAUUUUAFYVx/x9S/75/nW7Wbf2hBedSNvdcY9q+L4wwdbE4ONSkr8jbfpbf5HRh5JSsyhRRRX5EegFFFFABRRRQBw3xH0O+uU0/XtFjaW+0qTf5ajJdMgnA79PyJqhcfF6wn0ox6fY3j6tIuxLYx8LJ9c8jPtmvSKaI0EhcIoc9Wxya9KljKXso069Pm5dtbfJ6O6uQ4u90zlPh14duPD/hsnUVK315IZ51PVSegPv8A41L4W8Yt4k1XU7NtMlsxYvt3u2d3JGDwMHjOOa6ijFY1MSq0qk6sbyls77fLrpoNRtZI8+1jxTrXg7xbPJriT3vh+4GYHhiX9wfQnAz+J6dKzNY1+X4myW+h+HbO5TTzKr3l3Mm0Ko5xwT/iTXqhGRg80iqFUBQAB0AFdNPHUocs1SXtEtHfT1tbf576kuLel9BkEKW1vHBEMJGgRR6ADFc18Sf+Se6p/uL/AOhCuporgo1fZVo1XrZp/cW1dWMDwL/yIej/APXqn8qydY+Gllq/iC41dtV1C2uJ8ZEDqoUAAYHGccV2tFbRxlWnWlVpPlcr/i7i5U1ZnjHj/wADxeH9Ft7hNX1G7Mlysey4lDKMg8jjrXpnhvw+NB0V7WG+ubgyneJbhgzKSAOPYVt0VtiMyrV6EaU+jb9e3ToJQSd0eZ2Xj/UPCl3c6b48huppFkJt7yGFdsi/hgfl+NLp0t38Q/Gllq/2Oa10PS8tAZhgzSevp6dOmPevSmVXGGUMPQil6Vbx1JXnTpKM2rXvor6Oytp94uV9Xoct4+8WP4S8Pi4t4vMubh/KhJ+6pxncfp6V514P8ceHNA86/wBUg1K+1m6JM90YkOM/wrl+n5V7dRRh8bQpYd0ZU733ala/ls9AcW3e5geFfGGn+L4LiXTYbmJbdgrC4VVJJGeMMa36KK86rKEpt01Zdr3/ABLV7ahRRRWYwroa56uhr9I4F/5iP+3P/bjjxXQKKKK/STjCiiigAooooAKKKKACiiigAooooAKKKKACiiigAooooAKKKKACiiigAooooAKKKKACiiigAooooAKKKKACiiigAooooAKKKKACiiigAooooAKKKKACiiigAooooAKKKKACiiigAooooAKKKKACiiigAooooAKKKKACiiigAooooAKKKKACiiigAooooAKKKKACiiigAooooAKKKKACiiigAooooAKKKKACiiigAooooAKKKKACiiigAooooAKKKKACiiigAooooAKKKKACiiigAooooAKKKKACiiigAooooAKKKKACiiigAooooAKKKKACiiigAooooAKKKKACiiigAooooAKKKKACiiigAooooAKKKKACiiigAooooAKKKKACiiigAooooAKKKKACiiigAooooAKKKKACiiigAooooAKKKKACiiigAooooAKKKKACiiigAooooAKKKKACiiigAooooAKKKKACiiigAooooAKr3/8Ax4yfh/MVYpk0QmiMbZAPpXHj6M6+Eq0YbyjJL1aaKi7STZg0Vq/2ZD/ek/Mf4VH/AGV/02/8c/8Ar1+R1OE82jtBP0kv1aO9V6fczqKsS2U8QYlcqvUqar189iMLXws+SvBxfmrGykpaoKKKK5xhRRRQAUUUUAFFFFABRRRQAUUUUAFFFFABRRRQAUUUUAFFFFABRRRQBbsrP7R87n5AcEdzWtVXT4yloCf4juxj/PpVqv27hzAU8JgITjG0ppN+fb8Oh5taTlMKKKK+jMQooooAKKKKAIri5htIGmupUijXqznAFU7LX9L1GfybO9jkk7JyCfpnrUWuzadEtsNRt5LqTzMwQRqWZmHt0P41ja7eXc4sZH0mS0WO7j2TySJuGT02jJ5oA6+uU8S61anULXTWv3t4vMP2sxEqyjbkDOO/tXV1g6yB/wAJLofH/LST/wBAoA0LCSyttHjlguCbRV3LNK56Z6kmmWfiDSr+48i0vY5Jey8gn6Z6/hWZ4mkdtR0y0Fq91EztI0CEDzCo4Bzx3zUOrvfalp5ij8PzxTIQ0EnmJ+7YdCMGgDpGvIFvUtGkAndC6pg8gdTTZr+1t7yG1mmVJ58+Wh6tisnWt9u2lam42vBKqTeyuMH9cVnavGbu/vtUjJJ0toxEQPQ7n/Q4oA6me8gtpIY55ArztsjXBO41NWFuXUvF0LKd0VlbeZ7b36fpW7QBRv8AW9O0tgt/dxxM3IU5J/Ic1YtLy3vrdZ7OZJom6MhzWE8d9o+t3l4unNfwXRDeZCw8yPAxtweo+lTWt9YHTNSu9LheCdQzzROpVlcL3Xt+FAFu78Q6VY3HkXV9GkvdeTj646fjV+KWOeJZYXWSNhlWU5BFctolzcW2jxLFoM8/mrvkm3x/vSepOTUunfbNM0fV5DZyWkSlpbaJmB25XkDB9aANW68RaTZXP2e6voklzgrycfXHT8a0I5UmiWSJ1dGGVZTkEfWszQLC3g0K3Cxq5mjDyswyZCRkk+vWqmsW6aL4WuotPLxq7YHOdm5gDj0HNAFx/EujR3X2d9QhEmcHngH69P1q/Pcw21q9zNIFhRdzP1AHrxUFvptnFpi2SwRmDZtKlchuO9c7EzDwNq1uW3pbNLDGc5+UHgUAbc/iTSLaVI57+JHcAgc8A9M+n41pK6ugdGDKRkEHgis3TrC1Hh+G3MKGOSEbwwzuJHJPrWEs8kHw5/dswOTCGB5VS+3+VAG6PEekNei0W/hMxO0DPGfTPT9aZ4duZrrT5nuJGkZbmVAW7ANgCrUGm2kemrZrAnkbNu3aOff61j+G7YyeGLu1jkILTTRrJnJ64zQBoN4l0ZLr7M2oQ+ZnHU4z/vdP1rUByMjkVysF02l6ONO1vRJRbImx5rdRJGw/vHHIro7I27WMJsmDW+weWQSfl7daAJJp4raFpbiRY41GWdzgCqFp4h0m+uPItb6N5ScBeRn6Z6/hTdel06OzjGqQvcK0g8qFAWaRx0AA6/jxWH4jvbq40pG/saS1ijmjZJ5XQMh3DGFGTQB1lxcQ2kDTXMqxRr1ZzgCs+HxJpFxDLLFfRskIy/BBA9cYziqmqIt54l0uzuQGg2PMUPRmGMZ9cUnjGzhl8NXEhUK8IBRhwRyOPofSgDdeaKKAzSyKkYG4uxwAPWqFp4i0m+uPItb6J5c4C8jP0z1/CqGsqLq80awm5t5nLyKej7VyAaueILGCfQbgMio0MZeJwMFGUZBHpQBq1j69dTW0+liCVoxLeKkmP4lweKvaZM9zpdrNJ9+SJWb64rH8XQrc/wBlQyEhXvVVsHHGDQBoR+ItIlvPssd/EZs425wCfQHoatyXkEV3FaySBZpgSikH5sdeaq6pp1rcaLNbvEixrGSmBjYQOCPSsW4eafwjpmrn5rizCTE9yvRv0oA6W7u4LG3M91II4wQCxBPJOB0qYHIBHQ1g6k66rq+mWUZ3Qj/S5fQqPuj8Sa3qAPOPH/iTU9B8YaU1lNL9kSHzriBT8rqHIYkfSvRIZUnhSaJg0cihlYdweQa4nX7SK/8AilplpcLuin0yeNx6g7hTPD3iA6D4N1W01Js3WgM0OD/y0X/lkfx4Fd9Smp0ocq1/zf8AX3nkUqzp4ipzv3W38rJP8V+RS1nxTfzfFPTtO0+5lj0+G4S3nCHCySHlgfXAwK7rVtb03Q7cT6teRWqMcLvPLfQDk/hXnMelSaZ/whj3WTeXuotdXDHqXcKefoMCun8Q6hodr4pti+k3Or63HDmKK3Qv5SE/eIJ2jnv1qqtOEnCMVok9utmRQrVIxqTm7Ntb30uk7W8uxs6N4n0bxBvGkX8dyyDLIAVYD12sAce9NvvFOi6bc3Nvf6hHBLbIskquG4B6Y45J9Bk1xsl7qFz8TtAubzRDpDSrLHuMyO067f4gvTHv61ettPtb34y6nJdwJMbeyieMOMhW4GcetQ6EE7va190+tt9jWOLqyjaNr83Lqmul72epoajf6frM+gXtp4gubOGa4PkRwo4F2QR8rDAx078cmt+DVrG41W402GfdeWyhpYipBUHockYP4VzHjRQvifwiFAA/tA8AewpfEY/sTx1o2uL8sN0TYXR7fNyhP4/yqfZxnGK7p2+8r206c5t20cU9+qWu+mr+46a81ax0+7tLa7n8ua8cpAm0sXI69Bx9TVPWPFeh6DKsWrajFBKwyI8F2x6kKCRWLaL/AG78ULq7PzW2iQC3j9POflj+AyKiGsaVa+JNRfw54evNV1IvturmIfIGH8PmOfl+gGKSoxuk7vS726+b20KliZ2bTSV7K93tvot9b9tDq9M1ew1q0F1pd1Hcw5wWQ9D6EdQfY1ZnjM1vJGsjRM6FQ69VyOo964LwXLcn4g6+LrThpbSQxSPaLIrhW/vZXjJzn8a9ArKtTVOdl5G+GrOvS5pea7bO3XVHm/i/S9X8OaGL638U6rK/nJHtkcYwxxngV0+l+G72wv4rqfxHqV6ig5gnZSjZGOcCs/4of8icP+vuH/0KuwX7o+lbTqy9jF979F5HNSoQWJktdFFrV+fmc9oYgj8Qa5Imt3N8VkXzLWUNttOCcLng/h6UTePvDEFtDPLq0Yjnz5fyOWODgnaBkDIPJFZXhj/kaPGf/Xdf/QTSfDDTLI+Bkke2jd7p5BMXUHeAxAB9sdqqdOCvKd3bl7dV6E0q1V8sKdlfm3u9pW7/ANfgbuoeMvD2l28E17qsCpcLviKZcsvrhQTj3rTsb+11Ozju7CdLiCQZWRDkGuM+F2nWi+HbyXyIy73ksbFlB+QYwv05PHvVXQZ20fwp4wawHli0vLnyFXomF4wPalOhC8oxvdNfiOni6jUZzStJN6bqyv8AP7kdPqHjfw5pV8bO+1WGOcHDIqs+0+hKggfjWvHe20tj9thnSW22FxLGdylR3BHWsHwVo9ja+DbILBHI13Astw7KGMrMMncT164rH8OoNPn8YaPbH/Q7VjJAgPEe9CSo9uKl0qbuo30/HW3y/E0jXrLlc7Wltbppf5/gbc/j3wxbW8E02rRqlwu6PCOSRnGSoGQMjvitKe7tdR8Pz3NrfbbaWByLqBslBg5YY7j+lc78NdMsk8B2kn2aNnugxmZlBL/MRg57Y7VR8LxLa+GPFtpD8sFvd3SRJ2QbOgqpUqaclC/uv9TOniK0oxdS1pq+l9NL9/8AI3dI1PTtF8G2d1eazLfWrHat9OjlpCzHHHJ68c1JJ458NRan/Z76vALgNtI52g+hfG39a4fUVD/AvSlPRpYwcf8AXQ12XiXRdOTwDfWiWkSwwWjNEoQfIyrkEe+e9VKlTUvevq2uhFOvWcLU7JKMXrfqnpv5b6/M6KaeK3gea4lSKJBuZ3YBVHqSawrXx54Zvb4Wdtq8LTMdqhgyhj6BiAD+dZcl1pA+F+mP4nElxbSW8I8pC2+V8Dao2kZPH0rF8X6nd33gq5hg8IT2dhEilJ7lo4jBgjBEfX249amnh4ydpX3tfRL8d/QuvjJQjzRtte1m3+G3q7np1FU9HkaXQ7GSRizvbRsxPclRVyuNqzsenF8yTCiiikMKKKKACiiigAooooAKKKKACiiigAooooAKKKKACiiigAooooAKKKKACiiigAooooAKKKKACiiigAooooAKKKKACiiigAooooAKKKKACiiigAooooAKKKKACiiigAooooAKKKKACiiigAooooAKKKKACiiigAooooAKKKKACiiigAooooAKKKKACiiigAooooAKKKKACiiigAooooAKKKKACiiigAooooAKKKKACiiigAooooAKKKKACiiigAooooAKKKKACiiigAooooAKKKKACiiigAooooAKKKKACiiigAooooAKKKKACiiigAqOW3imx5qBiO/epKKyq0adaHJVipLs1dDTa1RRk0tGOY3K+xGahOly5OHQjtkmtSivn6/C+VVpc3s+V+Ta/Db7kaqvUXUxzYXIJATPuGHNAsLkkApj3LDitiivP/1Ly69+ef3r/wCRL+szMr+zJv70f5n/AAo/syb+9H+Z/wAK1aK6P9UMr7S+8X1iZlf2ZN/ej/M/4VIulMV+aUA+gXNaNFXDhLKou7g36yf6WF7eoZ/9lf8ATb/xz/69H9lf9Nv/ABz/AOvWhRW3+q2T/wDPn/yaX/yQvb1O5n/2V/02/wDHP/r0f2V/02/8c/8Ar1oUUf6rZP8A8+f/ACaX/wAkHt6ncz/7K/6bf+Of/XqM6XLk4dCO2Sa1KKzqcKZTJaU2vST/AFbGq9TuZLabOFyCjH0BphsbkAkx9PQitmiuOpwZl0neMpL5r9UyliJnPsrI2GBUjsRSVvvGkq7ZFDD3qu2nW7DAUr7hv8a+fxXBWKhJvD1FJed0/wBV+KNY4mPVGRRWr/ZkP96T8x/hTxYWwABTPuWPNcdPg3M5PVxXq3+iZTxEDIAJIAGSegFaNrp2MPcDnPCdvxq6kaR52Iq564GKdX1OV8I0MLP2uJl7RrZW0X+f5eTMJ4hyVo6BRRRX25zBRRRQAUUUUAFFFFAGVq+m3NzcWt7p0kSXVqW2iYEo4I5BxyKo32la3qywG8ltIRDOkghiLYbB5JJHX0FdHRQAVm6hp013q+m3UbIEtXdnDE5OVxxxWlRQBn6tpjahHE9vL5F1bvvhlxkA9wR6GqTW/iO8KRXVxZ2kQYF5LUuXYDsM9M1u0UAVNSshf6XPaE4MkZUMex7H86raTpT2eiGzvXWaWXcZnByGLdetalFAGP4c0abR7SVbuVZppHyXUk/KBhRyB2FbFFFAGNNba5bX00mnz29zBMdwjumYGI+ikdvan6XpU0DXdxqckc1zeY81YxhFAGABnk1rUUAYENhrulR/ZdMksp7Rf9V9p3B4x6cdQK0NPsbiKxkj1O5N3JMSZOMKAf4VHpV+igDn4bDXtLh+yabNZT2q8RNc7g8Y9OODirsOj79FlsdRuJLpp8mWRj3P930A7Vp0UAYC23iWCAWkVxYPGo2rcuG8wD1K9M1O+h+V4Xn0u0cGSSNgZJONzHqTitiigCG1haCxihcgskYUkdMgYrOs9E2+HG0u+KsHDBjGTjkkjGa16KAMGG08RRxLZtc2RgUbPtOG83b9Omam0jRptP0SawecqzvIUljYllBPBzgc1sUUAc+bXxK1obNprBlK7Dctv3lemdvTNa+n2Sadp0FpGSywoFBPf3qzRQBmazps98LaeylSO6tZPMi8wEq3GCDis7UdL13WbLybuWztwrqwjiLEOQf4iR09ABXSUUAZesWCXf2ZkuxaXkT/AOjy8HJxyMHqD6VjeIrXUm8PXL6veQMqgCOK3QqHbIwSSefpXR6hptrqduIbyPeoO5SCQVPqCOlUofDVlHcJNPJdXbRndGLmcuEPsKAJNR0s6jY25il8i6tyJIZcZ2tjuPQ1SnsNd1SL7JqUtlBatxKbbcXkHoM9M10FFADY0WKNY4xhVAAA7CsvXtHk1hbNI5REIZxKzZwQAD0465xWtRQBgXNl4gvoWsri4so7Z/lkniDeYy98A8AmthbSCLTxaBQIFj8vB/u4xU9U9R0y31SJI7vzCinO1JCufrjrQBjeDbNktZ7uWQy728mFz/zyQkCulpkMMdvAkMCCONBtVVHAFPoAwLzQbq48eafraPCLa1tXhdCTvJbOMDGMc+tZPiLwJLrPi621GG4jjsZNn2+AsQZthyuABg+nJFdrRW8a84tNdFY5Z4SlUTjJbu/zOf8AEOg3OraxoV1bPCkenXJmlDkgleOFwDzx3xVTV9B1m38UNr/hqSzaaaAQXFvebgrAHgqV79K6uilGtKNl8hzw0Jtvq2n80rHFR+GvEd74t0vXNau7E/ZN4a2t94WNSuBtyPmJJ5Jx2rWs9Burfx5qGtu8Jtrq1SFEBO8FcZyMYxx61v0U5V5v7rfLcUcLTjrrvffraxgeIdButW1nQ7u2eFY9OujNKJCQWHH3cA88d8Uzx7b29x4I1H7VIIhFH5qP/ddTlcfjx+NdFWLqvhPStb1SG+1OKSdoQAsRlIjODkEqOD1op1LSjzPSP/DirUW4TUFdy3v6WKvgLTJdO8KQSXZLXd6TdXDN1LPzz+GKz4dC8T+HtQvv+EbfTLixvbhrjZe71aJ26/d6iu0AwMDgUUe3lzSl3D6rDkjFNrl2a3/pnJ+GvDOq6Z4o1HVtXvYLpr6JATHkFWHUAEcKOg5J4rrKKKzqVHUd2bUqUaMeWP8AVzA8ZaFc+ItBFjZPEkvnxyZmJC4U5PQGt4DCge1LRSc24qPRDVOKm5rd2/D/AIc53R/D91p+teILuaSFo9TkDwhGJKgKR83HHXtmpfB2iXPh7wxBp168TzRs5LREleWJHUA9/St2irlVlJNPrb8NDOGHhCSkul/xd2YHg3Qbrw9o01pevC8j3UkwMJJGGxjqBzTdC8OSWEWtQ6iYZodSvJZgqEn924xg5A5+ldDRQ6sm2+4Rw9OKil9nY4qz0bxj4ftv7N0O60u7sEJ+zvfCQSRKf4Tt4IFaeieGH0nQ7+Ga5F1qOob5Lm4YYDOwI49FGf8APSuioqpV5yX5+ZEMLTg76u213t6GN4S0i40HwvZ6bePG80CkM0RJU5YnjIB7+lUtL8N3ljp/iCCWSAtqdxNLCVY4UOuBu44P0zXTUVPtZXb7lrDwSjH+VWX3WOKufBuoTfDmx0BZrYXVvIjO5ZvLIDknB257+ldPrFlJqGg3tlCyrLcW7xKXJCglSBn2q9RRKtKTu+9/vCGHpwTS6pL5I5K+8I3V54L0vTY7mKHUNN8qSKXBaMyIMc8Zwfp+FUtY0Txp4l0WfT9Rn0mzjYdLcyEzMDwCSDtXvwM8V3VFXHETjrpvczlg6cla7Sas7PcradbvZ6Xa20pUvDCkbFehIUA4/KrNFFYN3dzrSSVkFFFFIYUUUUAFFFFABRRRQAUUUUAFFFFABRRRQAUUUUAFFFFABRRRQAUUUUAFFFFABRRRQAUUUUAFFFFABRRRQAUUUUAFFFFABRRRQAUUUUAFFFFABRRRQAUUUUAFFFFABRRRQAUUUUAFFFFABRRRQAUUUUAFFFFABRRRQAUUUUAFFFFABRRRQAUUUUAFFFFABRRRQAUUUUAFFFFABRRRQAUUUUAFFFFABRRRQAUUUUAFFFFABRRRQAUUUUAFFFFABRRRQAUUUUAFFFFABRRRQAUUUUAFFFFABRRRQAUUUUAFFFFABRRRQAUUUUAFFFFABRRRQAUUUUAFFFFABRRRQAUUUUAFFFFABRRRQAUUUUAFFFFABRRRQAUUUUAFFFFABRRRQAUUUUAFFFFABRRRQAUUUUAFFFFABRRRQAUUUUAFFFFABRRRQAUUUUAFFFFABRRRQAUUUUAFFFFABRRRQAUUUUAFFFFABRRRQAUUUUAFFFFABRRRQAUUUUAFFFFABRRRQAUUUUAFFFFABRRRQAUUUUAFFFFABRRRQAUUUUAFFFFABRRRQAUUUUAFFFFABRRRQAUUUUAFFFFABRRRQAUUUUAFFFFABRRRQAUUUUAFFFFABRRRQAUUUUAFFFFABRRRQAUUUUAFFFFABRRRQAUUUUAFFFFABRRRQAUUUUAFFFFABRRRQAUUUUAFFFFABRRRQAUUUUAFFFFABRRRQAUUUUAFFFFABRRRQAUUUUAFFFFABRRRQAUUUUAFFFFABRRRQAUUUUAFFFFABRRRQAUUUUAFFFFABRRRQAUUUUAFFFFABRRRQAUUUUAFFFFABRRRQAUUUUAFFFFABRRRQAUUUUAFFFFABRRRQAUUUUAFFFFABRRRQAUUUUAFFFFABRRRQAUUUUAFFFFABRRRQAUUUUAFFFFABRRRQAUUUUAFFFFABRRRQAUUUUAFFFFABRRRQAUUUUAFFFFABRRRQAUUUUAFFFFABRRRQAUUUUAFFNkcRRPI2SFUsce1ZfhnxFa+KdBh1awjmigmZlVZgAw2sQehI7etAGtRXGX3xItV1Key0LR9S12S2bbPJYw7o4z3G7ua1vDXi/TvFCTraLPb3VsdtxZ3UeyWI+49KAN2iiigAooooAKKKKACiiigAoorB1jxJNpXiLS9Lj0m6u0v2Ia5iHyQ49eP8OKAN6iioby6SysZ7qUMyQxtIwXqQBnigCais/QtZg8QaHbapaJJHDcpvRZQAwGcc4JHatCgAooooAKKKKACisnxH4htfDGlC/vo5pYjKkW2EAtljgdSOKr+J/Esvh6Cykg0m61L7VOIiLcf6sHueD/nvQBvUUA5APSigAooooAKKKKACiiigAooooAKK5HxR8S9A8K3H2a6klu7lf8AWQ2ih2iHqxJAH0zmurglE9vHMgIWRAwB64IzQA+iuLvviTapqU9loej6lrr2p2zyWMO6OM+m7ua2fDXizTvFNtK9h5sU8DbZ7W4TZLCfRhQBt0VjeJPFOneFrFLjUmdmlbZDBCu6SZvRRWFafEy2F/Bba7ouqaGty22Ce9g2xsT0BPY0AdtRRkbc5465riLn4m2z3s8OhaJqutxWzbZrmyg3RgjqAe5oA7eisfw34n03xTp5utMd/wB22yWGVdskTf3WHatigAooooAKKKKACiiigAooqnp+rWOq+f8A2dcpcfZ5TDNsP3HHVT70AXKKKKACiiigAooooAKKKbK/lwu4VnKqTtXq3sKAHUVh+FPEMviXSWvZ9LuNMZZWjEVx1IHfoK3KACiiigAooooAKKKKACiiigAooooAKKybvxFa2fiix0KSKY3N7E8sbqBsAXrk5zn8K1qACiiigAooooAKKKKACiiigAoqvf3iafp1xeTKzR28TSMF6kAZ4qDRNXg17RLXVLRJEhuo96LKAGA98EigC/RRRQAUUVg634km0jXNK0+LSLq8TUJCr3EQ+WAep49/bigDeooooAKKKKACimyOsUbSSHaqgsx9AKg07UrPVrFLzTp0uLeTOyROjYOKALNFYOjeJJtV8Rappkmk3VolgwC3Mo+SbPpx+PU8VvUAFFFFABRRRQAUUUUAFFFFABRRRQAUUUUAFFFFABRRRQAUUUUAFFFFABRRRQAUUUUAFFFFABRRRQAUUUUAFFFFABRRRQAUUUUAFFFFABRRRQAUUUUAFFFFABRRRQAUUUUAFFFFABRRRQAUUUUAFFFFABRRRQAUUUUAFFFFABRRRQAUUUUAFFFFABRRRQAUUUUAFFFFABRRRQAUUUUAFFFFABRRRQAUUUUAFFFFABRRRQAUUUUAFFFFABRRRQAUUUUAFFFFABRRRQAUUUUAFFFFABRRRQAUUUUAFFFFABRRRQBy/i3xDe+HtU0N08r+zru7FtdFkJZN33SDnjmjx/4kvfDfh+OXSIkm1G4nWG3idSwYnk8AjPANP+IOktrHgfUIYh+/iTz4SOodPmH8q53S9TTxn4u8NyD54dP037dMPSVxsAP5NQB1egeIk1TwTba5cbU3WxlmA4Cso+YfmDWNovjSeP4cyeKfEaoiEu8UUS7SybsIvJ6n+tcjqF6+ieG/EvhKA4uJdSWGzTPJjuDnj2HzVvfEbT00r4daZbRri0sbq2EoA42KcE/nQBNbT/ErVbVdSt/7F0+OVd8VjOrs+3qAzep/zitzwf4pbxFa3MN9a/YtUsJPJvLbOQreo9jXQxOkkKPEQUZQVI6Edq4Tw0Vn+MHima0/1KQQxSsOhkx/OgClpXinxj4pF/Z6FFY28lneywy3typ2KoOFVVGctjkk8dK2/EPifUvD2maXp0MMWo+I78CKOMHEZYD5nPT5R+H4VT+Ff/IP1z/sLz/zputOsHxr0B7ogRy2MscJPTzMnj64oAJ7rx5otlLfa7/Zmo2Kxn7RDZIyyxLjllzgNj09KX4Rx+d8K7SPcyb2nXcvUZduRXZapLFBpF3LcELEkDly3TG05rkPg7/yTKw/66Tf+jGoA6Tw54es/DGix6bp5keNGZjJKQXdicksQBk1ymmSJqvxqv73S/mtbKwFtdyp915S2QvuQB+lWfFXiG+1HVP+ET8JMDqMi5vLsfdsoz1J/wBo9hXReHPD1l4Y0aLTtPU7V+Z5G+9K56sx9TQBlab4ivv+Fhal4e1QRCNYVubF0UgunRgfUg/ypfG3iO90SPTLTRljfUdSu1giEi7gF/ibGR0FZ3xBjOkarofiqEY+wXIguiO8MnBz9D/Om2QHiX4uXN7xJZ6DbiCI9jNJyxH0FAGp4q8T3mkz2WkaHapfa3fA+UkhxHGo6yPjtWLfap4/8L2p1TWV0rVdPi+a5itFdJI07spIwcVR8Q2OrXXxojj0zWP7Hmm0v9zObZZg4DHcgDdD3/CtO88I+MZ7GaK98fqbeRCsofSogNpGDk54oA6HVvFmn6V4R/4SAkzWzxq8Kp96Ut91R7mucil+Jt7aDUYxotqHXemnyq5bHZWb1/H8qzPGOjt4d8B+GLOS6F1aafqUH2ibbtDJk84yeOfWvUVYMoZSCpGQR3oAw/CPiM+JdF+0zWr2d1DIYbm3b+Bx1we4rcY4QkdhUFpf2d+JDY3cFyInMchhkD7GHVTjofappP8AVt9DQB5ronibxt4w0pv7ETT7JoZpI5725Q7WIJ2rGvOSBjJPHNdDrGv6lpXibwxpeYXGosyXTbcklVzlemOfaqXwj/5El/8Ar+n/APQqZ4y/5KR4M/67zf8AoFAGj4u8U3ul3llo3h61jvNZv8mJZSfLiQdXfHasXV7vxtomh3tx4jOm6jp727pMbJWWSDKkBsHAZcnnv3qZ2WD48obrjz9J22xPQkNlgPeup8UzQ2/hLVZLkqsS2km4t0+6aAMLwHfQaZ8JdOvrx9kFvaNJI3oASaztO1T4geKLYarpK6VpWny/NbQ3au8kidmYjpn2x/WqCwyz/s4hLcEt9i3ED0D5P6Cu+8MXNvd+FdMms2VoWtY9u32UDFAHMaD4z1bUfiB/wj+pWcdo8Fk0lzGAT+9DAAo2eUIIIq1r3ibWLjxEfDvg63tpL2KMSXd1dE+VbKegwOSxrMguIZ/2hJ1gZWaLR9kuOzbgcH8CKy9M0vXr34heK4dI8R/2NKLlJHjNkkxlQr8rZboB0oA2ZPEXivwne2reMFsL3S7qUQm8slZWgc9NwPb/AD7V34ORkcivOda8CeJ9X0xrHWvHaS2srLlH0yNMsDkchgc5FehW8ZhtoombeUQKWx1wOtAHF/Fz/kSU/wCv6D/0Kr/jTxDe+HrDSpLARFrq+it5PMXPyt1xz1qh8XP+RJT/AK/oP/Qqi+KP/IK0H/sLW/8AOgDQ8c+KrvwvPoxtIROl5dGGWIJl3GOAvIwSazNUu/iTp9nLq4XRZIIQZX09A5cIOSN3GSB71N8Q/wDkP+D/APsKj+VdjqXOk3ef+eD/APoJoA5+68WNP8M5vE2mIqSfYzOiSDcFYdQfXBzWbouqeNPE0enanafYNO0phGzrMpM1wON5AwQoPOO9Yukf8m43P/XnN/6Ea7zwh/yJmkf9ecX/AKCKAMbW/EutXniJ/D3g23tnurdA95eXZPlW+ei4HVjVM+I/FPhTUrRfGSWF3pl5KIRe2Sspgc9N4PasTRdL1+98ceK4dI8S/wBjypeh5IjZJMZFI+VsscgY4rS1rwH4m1jT/setePEktnkUhG0yNMsDkYIYHORQB0XjHxVL4fhtLXS7UXurajJ5VpAxwpPdm9hWULrx9okR1HWv7K1CyjG64t7NWWWNe5Qnhseneodd22Pxb8LS3h/cvaywRyMOPMx+hNdxqM8VtplzNcsqQxxMzs3QADmgDC8A+IbrxP4Uj1O98vzHmkUeWu0bVYgcfSukdd6MucZGMiuG+DzK3w6t2QYU3ExAx0G813VAHmHxD8M6X4a+E+ow6VbCMySxNLM3Mkp8wcs3f+VdX4g1GTSvhtd3sBxLDp+UPoSoA/nWV8Yv+SZX/wD10h/9GLWl4nsZNR+GF7awrukfT8qPUhQf6UAO+H2lRaR4F0yKNQHlhWaVu7uwySfzrE1NV0X41aRcWw2DWbWSGdR0dkGQT79K6DwJqMWqeBdJuISDi2WNgDnayjBH5iuf1zbqnxo8PW0PztpltLcTY/h3DAz+lACpEutfG+c3QDx6NYKYEPIV3PLfXmui8aaTDrXg3U7SdA2YGdCR911GQR+IrnrN10z44ahFONg1TT0eFjwGKcEfXg103izUItL8I6pdzsFVLZwM9yRgD8zQBx0/iK5PwCGpGQ/aWshCZO+c7M/XFdh4S0mHRfCWnWVugUJApbH8TEZJP4muHn0Sf/hncWhiPnLaC4Kbefvb+nriu98NahDqnhfTry3YMktuh47HGCPzoA5SOL+xfjeUtgEg1mwMkqDoZEP3v0/Wu/rgZXGp/HOBYBvTS9NbzmHRWc8D64Nd9QBy0fiK+tviVJoGoCL7Hc2vn2UirhiR95Sc896f478R3Xh3RIW0tI5NRvLlLe2SQEgsTycD2rN+Jds9pa6Z4mtVzPot0sjkDkwsdrioXkTxX8VrMRN5ljodqLgkHgzSD5fyXmgDX8T+JrrQbSwsrK2XUNcvz5cEGdqlgPmdvRRWNd3vxG0KzbVL8aPqVtCN9xaWyusip1O0nqR75qn40tdRuPivoaadqv8AZMs1lIkNy0CzDcCSVCtxkitKbwr41aCRZ/iAPKKkPu0mIDGOc80Ab0ni3TY/Bv8AwkpdvsRgEwGPmOf4frniubtbr4kazaLqdoNH06GUb4LK4V2cr1G4joT+H4VleKfD7eGvg7a6ebz+0ILW8jklmVNoaMyZ6ZPAyO9eo28kc1rFJAQ0boGQjoQRxQBy2i+ItX8SeHb1La2h03XbOXyJY7kM0SuD1GOSCM1yXwyi8Tm+1g21zpotV1iT7crxvvd+NxjPQD0zXqdvfWl3LNHaXUM8lu2yZYpAxjb0YDofY1w/wr/5mj/sOT/0oA0vFPiq/s9YtfD/AIZtYrvWbpDITOSIreMfxvjn/P4VlX2s+OfCUI1LxAum6rpaEC5+xqySwqf4hnggf5xU2mssHxw1hLnAkuNOia3z3UH5sfjXReMZre38F6vJeY8kWkgbPfKkAfnQBT8YeJZdJ8Bz67ozRSMESSFpF3KwYjtn0NVNIuvGWtalZ6k/2HT9FfDfZXUm4lQjqTghSeDgGua1eKWH9nKBLgEOLWI4I5ALgj9MV6bpv/IKtP8Arin/AKCKALNR3M6WtrLcTHEcSF2PsBk1JTJljeB0nCmNlIcN0I75oA4HS9W8c+LLE6vo0mlaZYSlvssNxG0kkig4y5HAzjtXSeGNV1fUdLm/4SDTTYX1tI0b7QfLlx0dCexrmrfwRr2iKW8C+KRHYMxeOxvIhLEM84D8kD6D8a1vB3ii+1xdT0/W7WK21PS5PKn8hiY3yOGXPTpQA/wVr2o+JfCc19ceQt3580Ue1SEG04XI5/GsyVfidBC8s174XSNFLMzCYAAdT92pPhH/AMiS/wD1/T/+hVW8Q3c/jjxE3hTSZGTTLYhtWu4zwfSEH1Pf/wCtQBc+HfiDxD4hs72+14Wf2JX2WstujIJcZ3MN3O3pg8d6rR+IPFni26uJPB62FlpMEhiS8vVZmuGHBKgdBn/PausvbJbXwxcWWmxCJY7R44Y0GNvykACvN/AWieKL/wAF2UukeMxY2wDILX+zY5DEQxypYnJP1oA6nw/4m1iHxIfDni+3to794jLa3VoT5Vwo68HkEV2NcHbeCtZbxbpeqa74uTUZbAs0cH2FImKsMHlW6dOxrvKAOa8Vax4gtLi00/wvpQurm6J3XVwCLe3A/vEd/b+dYGpa5408HRQ6l4ik0vUdLMix3P2ZGjkh3HAYZ4IrQ8Q+IdduPGEXhjwsLW3n+z/abi8ulLCNCcAKvc/WuT+JOg+ILLwLdXWu+LZdSUSRhbZbRIEYlx1xyccn8KAO28eeKLnwzoNnqFgqyCW7ijcFNxKNnOBkc46VnX0/xHkt5NSsU0eCIDzI9OkDtKV64Zum7HoQKr/Eb/kS9B/6/rWvQm+6fpQBheFvFEPiLwnFrMifZvlbz0J4jZfvD6cVzVjrvjXxh5moeGRp2maQHK273qM0k4BxuwOg/wA81Q8KxTS/B/xHHa/61pbwJj1rrfh1NDN8O9FNuQVW1VGx2YcN+uaAORh1LUbz4waDba7apb6jaWsyymEkxSgglXQnnB9D0Nep15/rM0L/ABw0CJGUyx2MpkA6gEHGf1r0CgDj/G3iu/8ADeq6JBYWwulvpXjeELl3IA2hTnjkjJ9Ks6PJ4nsftuo+MrvTkslhMiwWgP7nHJySOePeszxv/wAj34L/AOv2T/0EVq/ESOWX4d60luCX+zE4XqQOT+maAMSz1bx14qh/tLQV0zStMkJNqL1WeWZezHHAB/zmtbwp4ovtR1G80TxFaR2msWIDOISTHMh6OmecVg+H9A8XXvhzT7jT/Hix2sluhijXSomCDH3c55x0rS0HwfqVj40Ot6x4mTVrpbU27Ri0WFgpORna317UAN1TxNr+reJ7jQfBUNopsQPtl9eAlI2PRFA6n86zNf8AFni/whpqJrcVhcTXEyJbXlsjeWct8yOpxg4yQRxxVz4asINa8W2VwwF6uqvKyk8+W33T9KPjDcQR+ErWGVlEs1/D5SnqcHJx+FAGv4u8RXuiXGgpZCIjUL9LebzFz8pGeOeDXRXkrQWM8qY3Rxswz6gZrh/iSyx3PhJ3IVRq0eWPQcV2WrypBol7LMwREt3LMTwBtNAHLaZrl34j+EVzqeoCMXE9nPuEa4XgMOB+FTeCrt7H4T6ZdR20t08VluWCEZeQ84ArI8Hf8kJb/rzuP/Zql0jxEPCvwPsNWMXnNDaqEjJwGZmwM+2TQA+1l+JWq2v29P7H0tZBuisZ43ZwOwc9j/nArb8FeJpvEulzm/tltdQsrhra6iQkqHXuM9jWRbaN481e3judQ8VQaWJVDG1srFX2g843sc5/OqXwli8i48URG5e6KakVM7nLSEA8nHegCPSPFHjPxZb3UGhx2Fs9rdSRS31yh2AA4VUUZy2OSTxW9q+varo2seFdNkeCR9QkMV4+zOSFBJXpjnPaqXwo/wCQBqf/AGFbj+Yo8b/8j34L/wCv2T/0EUAbPiOPxe91EfCs2kxwbP3ovxJu3Z7bQeMVx2p+IfiHpOt6fpUsug3V5fPhYbWOVmRB1ds4AUetd14o8R2vhfQ5b+7+dvuQwr96aQ9FFZPgnw7dWrXHiDxB+81vUvmkz/y7x/wxL6Y70AaPinV9V0jSYjoulPqd/PIIkRQfLjJ/ic9l/L8K5rULz4i6Dpcmr3sujX0NuvmT2cMbqwQddrdyP85rV8Z+JtS0vUNK0Xw/DA+p6q7LHJc58uJVGWY46n/PNYfiTw74pXwvqdzrnjRpIEtnZ7e3so4VPH3d/XHagDo9Tv8AUtc8FQ6j4YltYftMHmt9rViPLKEkDHeub+EkfiH/AIRnTne4sDo22TbEEbz87j36da2/BX/JJNP/AOwe38jTPhP/AMk10z6P/wChmgC34e8Q3up+MPEWmXIi8jTZY0g2rhsMuTk55rNvfE3iHXvEF5pPgmKzjh09tl1qF6GK7/7iAdT/AJ4png7/AJKP40x/z3h/9Ao+FLImkavbONt3Dqk3nqeuSeDQA618TeIvD2v2emeNo7KW31B/LttQs8qok/uOD6/5zVvxp4rvvDeraHBZWwuUvpnjkhC5dyANoU545I59KpfFlkfQdMtk5uptThFuo65B5IpfG2f+E58FZ6/bHz/3yKAK+r3/AMR9FsZdZmGi3NtAPMmsYVfcqd8MepA//Ua7bRtUh1vRLTUrYERXUSyKD1GR0pniAZ8N6lnn/RZP/QTWL8M/+Sb6N/1w/wDZjQB1VFFFABRRRQAUUUUAFFFFABRRRQAUUUUAFFFFABRRRQAUUUUAFFFFABRRRQAUUUUAFFFFABRRRQAUUUUAFFFFABRRRQAUUUUAFFFFABRRRQAUUUUAFFFFABRRRQAUUUUAFFFFABRRRQAUUUUAFFFFABRRRQAUUUUAFFFFABRRRQAUUUUAFFFFABRRRQAUUUUAFFFFABRRRQAUUUUAFFFFABRRRQAUUUUAFFFFABRRRQAUUUUAFFFFABRRRQAUUUUAFFFFABRRRQAUUUUAFFFFABRRRQAUUUUAIyh1KsMgjBHrXK+CvAlt4Ml1KSC5+0G9l3L+62eWgzhOpzjPXj6V1dFAHJ6n4CtdT8f2Hid7nY1ogDW/l5ErDO07s8Yz6dq6PUNPttV06exv4hLbzoUkQ9was0UAcFF4F8S6fD9h0XxvcW2mDhIpbNJZI1/uhyc/yxXSeGfDFj4V0s2dh5kjSOZJ55Tl5nPVmNbNFAGD4V8M/wDCM299F9r+1fa7yS6z5ezZuP3epzj1p3inwrZ+KtPjguZJbeeB/MtrqE4eF/Uf4VuUUAcRD4I1y8xb+KPFk2qaev8Ay6LapCJcdPMYcsPbvWv4a8MP4b8I/wBi299vdfNKXIi27C7Eg7cnpn17V0FFAHmWm/CzX9I87+zfHU9ubh/MlZbAZkb1JMmTW/oPhXxFpmrxXWp+MrjVLdAd1q9qEDZGBzvPT6V11FAFDXNJh13Q7vTLk4juojGWxnbnofwPNZvgvwnH4P0L7AlybuV5GkluCmwuT04yegAHWuhooAwfFHhO18TwQM88tne2j77W8gOHib+o9q5+bwF4i1eL7H4k8Zz3mm5G+3gs0haUDszDnH5131FAGbdeH9NvPDx0Sa2X7AYhCIhxtUdMe49a5NPAnii1t/7P0/x1cxaYBtWN7NHlRP7okzn8ePpXfUUAZfh3w/ZeGdHj07Tg5RSWeSQ5eRj1Zj6mtNhuUj1GKWigDD8I+G/+EV0Q6f8AavtWZ5JvM8vZ945xjJ6U3WfDP9r+JNF1b7X5P9lyO/leXu83cMYzkY/I1vUUAc/4q8I23iiG3c3Etjf2jb7W9gPzxH+o9qx18DazqUbQ+LPFEmrWoUiO2W0SFC2MBn2/fx1we4ruKKAMXQ9Ig8MeEINMvLpJre0hKyzyKEVl5JJBJwMH1rltO8CWVzB9r8G+LNSsNKumL+RaTboxnrsz939TXoTKrqVcBlYYIIyCK42f4WeH2uZZbGTUNMWY5kisboxxv/wHn8hQBh+HtLstO+NUtto+ZIbTSdlxKX3sZWfJLt3Y966fxH4LGsanFq+lajNo+rwrsF3CoYOv911PDCtHw/4X0jwvaNBo1qIRIcyOWLPIfUseTWvQBw0fgDU9Uvbebxn4ll1iC2cSR2kdssEZYdC2371dyBgYHAoooAw/F3hv/hKtEGn/AGr7LieObzPL3/dOcYyOtN8UeGP+EltbCH7X9m+x3cdznyt+/Z/D1GM+tb1FAGF4h8Nf29qGj3P2v7P/AGZdfadvl7vN4+7nIx9ea2bmH7Rayw7tvmIUzjOMjFSUUAcrZ+Cfsnw4k8Kf2hv3wvF9q8nGNxJzs3e/rW9pGn/2VotnYeZ5v2aFYvM27d2BjOMnFXKKAOW8ReC/7V1WPWNH1ObRtXjTYbmFA6yL6Oh4aqEPgHUdR1C2ufGfiOXWY7VxJFapbrBFuHQsF+9XcUUAc54ysvD2qWFvpviS5S2NxKBav5myRZOxQ9j+lYz+BUsbWS48ReKNS1LTrVTILa7lxHwON/8Afx711et6DpviLT2stYtUuYCcgNkFT6gjkH6VzS/Cjw+WRbu41O9t4zlLW4vGaJfwGP50AHwjjZPh3bMUKLJNM6ZGMqXODXbVHb28NrbxwW0axQxqFREGAoHYCpKAMPxj4b/4SzwzPpH2r7J5zI3m+XvxtYN0yPT1rXt4fItIoCd4jQJnHXAxUtFAHCy/D3UNOv7ifwd4ln0WC6cvLaNbrPGGPUqGPy/55rY8K+D7fw19puZLqbUNSvDuub2f7z+wHYe1dFRQBz/irwja+KIIGaeayvrRt9rewHDxH+o9qwx8PNT1S4g/4TDxTPrFlbuHW0W3WBHI6b8H5v8APNd5RQA0xIYTEUUxldpXHGPTFcIPh3qulTTJ4Q8VXGkWE7FjaPbrOsZPXYSeP8813tFAGD4V8JWnha1mEU0t3eXT+ZdXk5y8zf0HtW9RRQBW1Gxh1PTLmxuRuhuImjcY7EYrB8DeC4vBelz2y3ZvZp5fMknaPYSAMAYyeg966eigDF8T+F7PxRp6QXbyQTQv5lvcwnEkL+oNc5N4F8T6jAbHWfHE9xprfLJFFZJHJIvoXBz/ADrvaKAM6PQNNj8OjQ1tlOniHyfJPOV/x759a5KLwH4k0yH7DoPja4tdM5CQy2iSvEvork5/LFd9RQBj+GfDNn4W0s2lk0kryOZZ55Tl5pD1ZjWLH4Fu9O8Uy6poGvS2FpdTie7sDAJElbPODkbc12VFAHPeKPCEHiN7a7hu5tO1OzOba9g+8nsR3HtWK3gDV9YliTxl4pl1axhcOLOK1SBZCOm8r1Ht+td3RQBi+KfDi+JPC1xoqXAs1mCqsgj3hACD93I9PWr0zTabojG2ga8mtoPkiU7TKVHA74zirlFAHAf8J14v/wCidXX/AIHD/wCIrR0XXda8RXU2na/4Pm0uylgYPNLciQN0G3AUdQTzntXXUUAcDb+A/Eejw/YvDnjSaz00E+XBPZJM0QPYMef5V0PhjwpbeGbGeOO4mu7q6cyXN3OcvK/r7D2rdooA5zw94Uk8P+FbnSINRLyTPK6XIi2mMv0O3cen1rltL+Fuv6LbvBpfjqa2jdy7hLAfMx6knzMk16ZRQBzfhnw9rWjXM8ms+JptaSRAqRyW4jEZz1+8c1m3fgK+s9Uub7wb4gl0T7U2+e2MCzQs/dgrfdP5121FAHKaB4JbT9abW9d1abWtW2eWk0kYjSJfRUHArq6KKAOW8S+DpdX1W31nRtVl0jV7dDELhIxIrpnO1lPX/PFY2q/DbVfEekyQeJPFUt5c5HkOtqqRQ8gk+WpG5iOMk8Zr0KigDnfEfhT/AISDRbDT/tn2f7HPFN5nlbt+ztjIxmuiIyCKKKAMLwp4aHhjSJrE3X2sS3Ek5YxbMbznbjJrBPw/1TSb2d/BvieXR7S4cyPaSWyzojHqU3dPp+td3RQBx2n/AA+Sw8S6frbanLc3dukguZZo8vcs4xnOflA7DBrsaKKAMLXPDX9s67oupfa/J/sqZpfL8vd5uRjGcjH5GtuRFljaORQyMCrKRkEHtTqKAOEXwDrGjyyJ4O8VTaVYyOX+xy2qzrGT12Fug9v1rX8L+DovD91c6hd302qardgCe8nGCQP4VX+EV0lFAHE614d0TxH4olfStbm0zxDaxgTSWM2H2noHXv8A/qz2rmPHnhm30bQbdr3VLrV9Zu72GOGW7fcwUNkrGv8ACPXFd3r/AIG0TxFeJe3kMsF8gwt3aymKQD6jr+NQaP8ADzQtH1NdR23N/fJ9y4vpzKyfTPGffFAF/wAS+GbTxVoLabfl4+Q8csZ+aJx0YVz9p8PtTkhFt4i8V3erWSLiO1aEIrHGAZPmJcDrg13VFAHOaN4S/snwIfDf23zswyRfaPK2/fzztyemfWltvB9qPAcXhfUJTdQLB5LSquwnnIYDJwc/WuiooA4W28FeKYUSxk8cXDaWo2eWtmizFP7vmckHHetXwf4Ni8If2ktvdedFe3HnIhj2+UMY25yd314rpaKAMLwn4a/4RfT7q2+1/avtF1Jc7vL2bdx+7jJzj1o1zw1/bOu6LqX2vyf7KmaXy/L3ebkYxnIx+RrdooA4rxj4CvfFOuWWo23iB9O+xL+6j+zeaFfP3xlgM9O3aqv/AAgvi/8A6KLdf+AI/wDi67+igDnPEvhFfENnZEX81nqVgwe2vohllbGCSM8g+max5vAmu6xZT2vinxbLfwMhEcMVokKBscM+0gvjrj2ru6KAMrw/oi6H4YtNHeb7UtvD5RkKbd4+mTjr61ieG/BF74X1X/iXeIJm0Xc7rpkkAO0t6PnsfauwooAwdG8M/wBkeJNa1b7X539qSI/leXt8raMYzk5/IVnaz4Hnm1yTWvDGsy6HqM6gXBSISxz46FkPGfeuvooA5DR/A08euRa14o1mXXNQtxi3LRLFFBnqQg4z71pa54a/tnXdF1L7X5P9lTNL5fl7vNyMYzkY/I1u0UAV9Qtft2m3Npv8vz4mj34ztyMZxVLwzov/AAjvhuz0n7R9p+yps83Zs3ck9MnHX1rVooAKKKKACiiigAooooAKKKKACiiigAooooAKKKKACiiigAooooAKKKKACiiigAooooAKKKKACiiigAooooAKKKKACiiigAooooAKKKKACiiigAooooAKKKKACiiigAooooAKKKKACiiigAooooAKKKKACiiigAooooAKKKKACiiigAooooAKKKKACiiigAooooAKKKKACiiigAooooAKKKKACiiigAooooAKKKKACiiigAooooAKKKKACiiigAooooAKKKKACiiigAooooAKKKKACiiigAooooAKKKKACiiigAooooAKKKKACiiigAooooAKKKKACiiigAooooAKKKKACiiigAooooAKKKKACiiigAooooAKKKKACiiigAooooAKKKKACiiigAooooAKKKKACiiigAooooAKKKKACiiigAooooAKKKKACiiigAooooAKKKKACiiigAooooAKKKKACiiigAooooAKKKKACiiigAooooAKKKKACiiigAooooAKKKKACiiigAooooAKKKKACiiigAooooAKKKKACiiigAooooAKKKKACiiigAooooAKKKKACiiigAooooAKKKKACiiigAooooAKKKKACiiigAooooAKKKKACiiigAooooAKKKKACiiigAooooAKKKKACiiigAooooAKKKKACiiigAooooAKKKKACiiigAooooAKKKKACiiigAooooAKKKKACiiigAooooAKKKKACiiigAooooAKKKKACiiigAooooAKKKKACiiigAooooAKKKKACiiigAooooAKKKKACiiigAooooAKKKKACiiigAooooAKKKKACiiigAooooAKKKKACiiigAoqLypf+e3/AI7R5Uv/AD2/8doAloqLypf+e3/jtHlS/wDPb/x2gCWiovKl/wCe3/jtHlS/89v/AB2gCWiovKl/57f+O0eVL/z2/wDHaAJaKi8qX/nt/wCO0eVL/wA9v/HaAJaKi8qX/nt/47R5Uv8Az2/8doAloqLypf8Ant/47R5Uv/Pb/wAdoAloqLypf+e3/jtHlS/89v8Ax2gCWiovKl/57f8AjtHlS/8APb/x2gCWiovKl/57f+O0eVL/AM9v/HaAJaKi8qX/AJ7f+O0eVL/z2/8AHaAJaKi8qX/nt/47R5Uv/Pb/AMdoAloqLypf+e3/AI7R5Uv/AD2/8doAloqLypf+e3/jtHlS/wDPb/x2gCWiovKl/wCe3/jtHlS/89v/AB2gCWiovKl/57f+O0eVL/z2/wDHaAJaKi8qX/nt/wCO0eVL/wA9v/HaAJaKi8qX/nt/47R5Uv8Az2/8doAloqLypf8Ant/47R5Uv/Pb/wAdoAloqLypf+e3/jtHlS/89v8Ax2gCWiovKl/57f8AjtHlS/8APb/x2gCWiovKl/57f+O0eVL/AM9v/HaAJaKi8qX/AJ7f+O0eVL/z2/8AHaAJaKi8qX/nt/47R5Uv/Pb/AMdoAloqLypf+e3/AI7R5Uv/AD2/8doAloqLypf+e3/jtHlS/wDPb/x2gCWiovKl/wCe3/jtHlS/89v/AB2gCWiovKl/57f+O0eVL/z2/wDHaAJaKi8qX/nt/wCO0eVL/wA9v/HaAJaKi8qX/nt/47R5Uv8Az2/8doAloqLypf8Ant/47R5Uv/Pb/wAdoAloqLypf+e3/jtHlS/89v8Ax2gCWiovKl/57f8AjtHlS/8APb/x2gCWiovKl/57f+O0eVL/AM9v/HaAJaKi8qX/AJ7f+O0eVL/z2/8AHaAJaKi8qX/nt/47R5Uv/Pb/AMdoAloqLypf+e3/AI7R5Uv/AD2/8doAloqLypf+e3/jtHlS/wDPb/x2gCWiovKl/wCe3/jtHlS/89v/AB2gCWiovKl/57f+O0eVL/z2/wDHaAJaKi8qX/nt/wCO0eVL/wA9v/HaAJaKi8qX/nt/47R5Uv8Az2/8doAloqLypf8Ant/47R5Uv/Pb/wAdoAloqLypf+e3/jtHlS/89v8Ax2gCWiovKl/57f8AjtHlS/8APb/x2gCWiovKl/57f+O0eVL/AM9v/HaAJaKi8qX/AJ7f+O0eVL/z2/8AHaAJaKi8qX/nt/47R5Uv/Pb/AMdoAloqLypf+e3/AI7R5Uv/AD2/8doAloqLypf+e3/jtHlS/wDPb/x2gCWiovKl/wCe3/jtHlS/89v/AB2gCWiovKl/57f+O0eVL/z2/wDHaAJaKi8qX/nt/wCO0eVL/wA9v/HaAJaKi8qX/nt/47R5Uv8Az2/8doAloqLypf8Ant/47R5Uv/Pb/wAdoAloqLypf+e3/jtHlS/89v8Ax2gCWiovKl/57f8AjtHlS/8APb/x2gCWiovKl/57f+O0eVL/AM9v/HaAJaKi8qX/AJ7f+O0eVL/z2/8AHaAJaKi8qX/nt/47R5Uv/Pb/AMdoAloqLypf+e3/AI7R5Uv/AD2/8doAloqLypf+e3/jtHlS/wDPb/x2gCWiovKl/wCe3/jtHlS/89v/AB2gCWiovKl/57f+O0eVL/z2/wDHaAJaKi8qX/nt/wCO0eVL/wA9v/HaAJaKi8qX/nt/47R5Uv8Az2/8doAloqLypf8Ant/47R5Uv/Pb/wAdoAloqLypf+e3/jtHlS/89v8Ax2gCWiovKl/57f8AjtHlS/8APb/x2gCWiovKl/57f+O0eVL/AM9v/HaAJaKi8qX/AJ7f+O0eVL/z2/8AHaAJaKi8qX/nt/47R5Uv/Pb/AMdoAloqLypf+e3/AI7R5Uv/AD2/8doAloqLypf+e3/jtHlS/wDPb/x2gCWiovKl/wCe3/jtHlS/89v/AB2gCWiovKl/57f+O0eVL/z2/wDHaAJaKi8qX/nt/wCO0eVL/wA9v/HaAJaKi8qX/nt/47R5Uv8Az2/8doAloqLypf8Ant/47R5Uv/Pb/wAdoAloqLypf+e3/jtHlS/89v8Ax2gCWiovKl/57f8AjtHlS/8APb/x2gCWiovKl/57f+O0eVL/AM9v/HaAJaKi8qX/AJ7f+O0eVL/z2/8AHaAJaKi8qX/nt/47R5Uv/Pb/AMdoAloqLypf+e3/AI7R5Uv/AD2/8doAloqLypf+e3/jtHlS/wDPb/x2gCWiovKl/wCe3/jtHlS/89v/AB2gCWiovKl/57f+O0eVL/z2/wDHaAJaKi8qX/nt/wCO0eVL/wA9v/HaAJaKi8qX/nt/47R5Uv8Az2/8doAloqLypf8Ant/47R5Uv/Pb/wAdoAloqLypf+e3/jtHlS/89v8Ax2gCWiovKl/57f8AjtHlS/8APb/x2gCWiovKl/57f+O0eVL/AM9v/HaAJaKi8qX/AJ7f+O0eVL/z2/8AHaAJaKi8qX/nt/47R5Uv/Pb/AMdoAloqLypf+e3/AI7R5Uv/AD2/8doAloqLypf+e3/jtHlS/wDPb/x2gCWiovKl/wCe3/jtHlS/89v/AB2gCWiovKl/57f+O0eVL/z2/wDHaAJaKi8qX/nt/wCO0eVL/wA9v/HaAJaKi8qX/nt/47R5Uv8Az2/8doAloqLypf8Ant/47R5Uv/Pb/wAdoAloqLypf+e3/jtHlS/89v8Ax2gCWiovKl/57f8AjtHlS/8APb/x2gCWiovKl/57f+O0eVL/AM9v/HaAJaKi8qX/AJ7f+O0eVL/z2/8AHaAJaKi8qX/nt/47RQBLRRRQAUUUUAFFFFABRRRQAUUUUAFFFFABRRRQAUUUUAFFFFABRRRQAUUUUAFFFFABRRRQAUUUUAFFFFABRRRQAUUUUAFFFFABRRRQAUUUUAFFFFABRRRQAUUUUAFFFFABRRRQAUUUUAFFFFABRRRQAUUUUAFFFFABRRRQAUUUUAFFFFABRRRQAUUUUAFFFFABRRRQAUUUUAFFFFABRRRQAUUUUAFFFFABRRRQAUUUUAFFFFABRRRQAUUUUAFFFFABRRRQAUUUUAFFFFABRRRQAUUUUAFFFFABRRRQAUUUUAFFFFABRRRQAUUUUAFFFFABRRRQAUUUUAFFFFABRRRQAUUUUAFFFFABRRRQAUUUUAFFFFABRRRQAUUUUAFFFFABRRRQAUUUUAFFFFABRRRQAUUUUAFFFFABRRRQAUUUUAFFFFABRRRQAUUUUAFFFFABRRRQAUUUUAFFFFABRRRQAUUUUAFFFFABRRRQAUUUUAFFFFABRRRQAUUUUAFFFFABRRRQAUUUUAFFFFABRRRQAUUUUAFFFFABRRRQAUUUUAFFFFABRRRQAUUUUAFFFFABRRRQAUUUUAFFFFABRWRqPivQdKuPs+oarbQzA4MZfLL9QOn41oWd7a6hbLcWFxFcwt0kicMp/EVThJK7WhnGpCUnFNXRPRRRUmgUUUUAFFFFABRRRQAUVVudUsLO6htru9ggnnOIopJArSc44B681ap2aEpJuyCiiikMKKKKACisufxLpFtr0WjT3ipfzAFIdrc56c4wCfTNalU4yjuiYzjK/K72CiiipKCiisvWfEmk6AYBq94tubhtsYKs2fyBwOepqoxcnaKuTOcYR5pOyNSigEEAg5B6GipKCiiigAooqve6haabbG41C5itoQcF5XCjPpz3ppNuyE2krssUVk6b4p0PV5/J03VLeeXtGHwx+gPJ/CtanKMou0lYmE4zV4O6CiiipLCiiigAooooAKKKKACiiigAooooAKKKKACiiigAooooAKKKKACiiigAooooAKKKKACiiigAooooAKKKKACiiigAooooAKKKKACiiigAooooAKKKKACiiigAooooAKKKKACiiigAooooAKKKKACiiigAooooAKKKKACiiigAooooAKKKKACiiigAooooAKKKKACiiigAooooAKKKKACiiigAooooAKKKKACiiigAooooAKKKKACiiigAooooAKKKKACiiigAooooAKKKKACiiigAooooAKKKKACiiigAooooAKKKKACiiigAooooAKKKKACiiigAooooAKKKKACiiigAooooAKKKKACiiigAooooAKKKKACiiigAooooAKKKKACiiigAooooAKKKKACiiigAopHdY0LuwVVGSxOABWJF428MzXv2SLXbBpidoUTryfQHoaANyiiigAoqnqWr6do9v5+q3sFnETgNNIFyfQZ61BpXiTRtcLDSNTtbtlGWSKQFgPUjrQBp0UVjaj4v8PaTdfZtR1mzt5wcGN5RuX6jt+NAGzRUNpeW1/apc2NxFcwOMrLE4ZW+hFTUAFFUNQ1zSdKlji1PU7SzkkGUSedULD2BPNXwQQCDkHoaACis3VfEejaHtGr6nbWbMMqksgDMPUDrU2maxp2s25m0m+t7yMHBaGQNtPocdPxoAuUUEgAknAHUmsL/AITfwx9t+yf29p/nZ27fPXGfTPTNAG7RQCGUFTkHkEd6KACiiigAooooAKKKKACiiigAooooAwPEHi228O6pp1peW8rLfvsWZSNqHIHOfqDU/ifxJa+FtI+33kbyqZBGsceNzE/X2BrB+K2mG98GtdRD97YyrMpHUDof5g/hWJrF4njXUvCOmH54Z4vtd0oPoMEf+OsPxrvpUYTjGb21v8tTyMRiqtKdSmt9OX5u35nf6NrltrPh+LV4A0cEiFyHxlMZyD+VZGl+J5vF/hvUZ9At5LadA0MDzsAC+OvHpkVw9jqzeHvAPijRZGxPZ3LQRZ7iQ7ePyJrvvAOl/wBk+CdPhZcSSR+dJ9X5/lgfhRVowpRlLz09N/8AIKGJqYiUYXt7r5vW9vlrcyPC/wANtOs9JJ8R2cN9qMzM0zuxcDJ4A/nnrk1leEoF0H4sapoukO504wl3jLEiNgFI/Ikj8a6Dxr4yOjBNJ0ZftWtXXyxRIM+Vnox9/Qfj0qbwR4R/4RuxknvX8/VLw77mYnOO+0H+Z7mr9pP2cp1X8Wy/X5GaoUvbwpYdfA7t/pfq31LGi+L7bWPEF/o32aW2urEncJCMOAcEjH4fnTvFXi218KwWz3MEtxJdSbI4osbj78/h+dcp4nT/AIRr4qaTri/Jbah+4uD2z90k/gVP4Uain/CUfGS2tPv2mjRiSQdt45/9CKj8KSoU3JT+za7+XT7ypYutGEqV/f5uVej1T+49IjYvGrMpRiASp7e1OJwMngUVHPCLi2lhYkCRChI6jIxXnHsa2OMufibbvfTW2g6PqGsCA4kltoyVH0wCce/FbXhjxdp/imCU2YkhngOJreYYdPf3FcRo8Hi34di4s4dDGsae8pkWS3Y7zwB2yRwBwV/Gul8HeJND1+/u2s9MXTtWAzco8SiRuefmAyecdcfSvRrUaag3Tjdd07/ejxsNiasqkY1ZWbveLjb7n1NHw74stvEd9qNtbW8sTafL5bmQjDHJHGP92m6/4uttA1jTdPuLeWV9QfajIRhfmA5z9a5f4X/8jD4p/wCvv/2d6j+JP/I8+Ff+uw/9GJR7CH1n2fS36XH9bq/UlWv717f+TW/IZ8R547b4geGZ53EcUbBndjwoEgJNaM/xWtIGE50TUjprNtW9MeFf3GeD+dZnxKtobzx94atrnBhlYI4PcGQZFej39nb3elT2dxGrW8kRRkI4xinKVNUqfPG+n6kU4V5V6/spcuq6Xvp+RAmuWc/h59Zs3+0WqwtMCnUgAkjnoeMVyv8AwtOxm06KfT9LvrydwzvbxLuMSg43MRnGcVh/D2eRvhv4it2JMcIl2Z7Zj5/l+tbvwigij8EeaiASS3Dl2xy2MAUpUKdFTclezSKp4qviHTUHy80W3pfVPoSW3xS0W60j7THDdNdmQRrYIm6VmxnjHUe/6VL4f+I1lrWtf2TdWNzpt62dkc4+8QM47EH6isPwVbQp8WvEm2JR5e/Zgfdy4zin+OEVPil4XkRQrs6hmHU4fj+dW6NHndNLdXvfbS5nHE4pUlWlJaS5Wrb62ubeo3mhJ8S7C0udKMurSRborzsow3UZ5PB5xVzxN420/wANTQ2skU15fTjMdrbrlj6E+mfxPtXNa1/yXTR/+vb+klT+K/Duu23jODxT4bgivZEjCSW8hAIwCMjJGRg9jnNQqdNygpv7Pfr28jR1qyhVdJaqdtFrbTW3Vl/TPiNbXOrw6brGl3uj3FwQIftSYV89OuCMn2xWv4m8Wad4VtY5dQMkksxxFBEMu5/w965RfHVjd6paWfjbww9hNu/cS3MXmIrE43DcoIGccjNXvHvhjVdS1LTdb0ARzXennIt5CAHw24EZwOvXkUnRpqrFTXKn56feUsTWdCbpS52rdLNd7rT5dxIfidBFdwxa5omo6TFOcRz3EZCn3OQOPcZq147vtBtP7LbXdL/tHzZiICpHyHjk8jIORx0rEuvHm0RWnj3wlJBAXH714/MjLeoVhj8iaZ8VXhktfDb2u0wNcZj2D5duFxj2xWkaKVaHu8t77PTbozCpiZPD1HzqVrbxs1r1T/A77WdZsfD+lvfalKIoE4AAyWPZQO5rjh8WIFRbqbQNTj05jgXZQYP9P1qn8Tf9M8WeGtNuM/ZJZsuOzZdQf0/nXos9pBcWElpLGpt3jMbJjjbjGMVgo0qdOMpq7l57HY5161acKUuVRt0vd2v9xXh1qzutBbV7KT7RaiFpQU6kAEkc9DxjmuUT4qWFxp8Uthpl7eXUhY/ZIVDMig43MRnArD+HUrjwd4ns9xaCDzPLOfVGB/kK2Pg9bxR+DpZ0QCSW6YO2OSABgVrKhTpKbkr2at8znhiq+IdNQfLzJt6X2dtDX8KeO9O8VTS20MUtreQjc0E2ORnBIPfH4Vna54NvfEvjqG51co+h28eI4BIQWbHOQPU989AKzHiSD4/R+SNnm2258fxHyz/gK9C1HUbXSdPlvdQmWG3iXLO38h6n2rOf7madFfEvuv2NqX+00pRxLvySd+idu55x8SfC+i6J4fj1XSYF0+9hnQRtASu/n09R1z7V6Ho1xNdaFY3F0MTy26PIMfxFQTXn2nWd58S/ECavqkTQaBZuRa27f8tiO5/qfwHevTgABgDAFGIk1CNOTvJb+XkGCgpVZ16atB2S87dbfkNlljgheWZ1SNFLMzHAUDqTXCTfFS1kuJV0fRtQ1KCH/WXESYUe/Q8fXFXfilcy2/gG78kkeY6RuR/dLc/4Vp+CbOCy8F6Wlsqqr26yMR/EzDJJ/E1EIU40vazV7u1jSrUq1MR7CnLlsrt2v8iTw34p03xTYtc6a7AxnEsMgw8Z9x/WsO9+JVqNSmstD0m+1mSA4le1jyo+mASfrjFb9j4Z0rTNQvL2wtvInvQRMyu2Gyc/dzgc+grgdLsvFfw7uLyGy0ZdZ06aXzA8LfvD6cDJHHX5T7GtKUKE5Sa+Sbt66mVeriqUIKWm92lf008+p2nhnxjYeKFnS2jlt7u3/wBbazjDL7+4zx/Sjw14vtfEtxfW8VvNbT2T7JI5SM9SOMe4rO8I+J9E1/WLry9KGm60FJnWWICRgMA/PgE44yDisaZP+EX+M8Uw+S01qPafTef/ALIA/wDAqPYxcpw5bO11+vqCxVRQp1OZSjezaXfb0s9zqvEXi+28PahYWL2011c3zbY0iI45ABOfc/pXQV5rpyf8JP8AGS7vT89poyeXH6bxwP8Ax4sfwr0qsK9ONNRit7XfzOnC1Z1nOb+G9l8uv3hRRRXOdoUUUUAFFFFABRRRQAUUUUAFFFFABRRRQAUUUUAFFFFABRRRQAUUUUAFFFFABRRRQAUUUUAFFFFABRRRQAUUUUAFFFFABRRRQAUUUUAFFFFABRRRQAUUUUAFFFFABRRRQAUUUUAFFFFABRRRQAUUUUAFFFFABRRRQAUUUUAFFFFABRRRQAUUUUAFFFFABRRRQAUUUUAFFFFABRRRQAUUUUAFFFFABRRRQAUUUUAFFFFABRRRQAUUUUAFFFFABRRRQAUUUUAFFFFABRRRQAUUUUAFFFFABRRRQAUUUUAFFFFABRRRQAUUUUAFFFFABRRRQAUUUUAFFFFABRRRQAUUUUAFFFFABRRRQAUUUUAFFFFABRRRQAUUUUAFFFFABRRRQB5r8Vr261DUNF8I2MrQ/wBqy5uHU/8ALMEDH8z+Fat98KfC0/h59PttNjgmEeI7pc+aGxwS3fnseKw/GhFt8avCdzMdsbqUBPrkj/2YV6iSACTwB1oA4H4Ra3daj4Yn0/UZGkudLnNuXY5JXtz7cj8K76vL/g4PNvfFF0nMUuoHa3ryx/kRXqFAHkek6Vb+P/ijrlx4i/0m10lxDb2hY7RyRkgduCfcmpfiV4W07wrptv4o8Mwppl9ZToMQfKsgJxgr0/xGa0Nc8IeIdI8Xz+JfAc1u8t0MXdjcNhXPqOR9eowa57x7Z+KtQ8F3GpeN5rSxjtyottPsc4eUkDc5JbOBngE/hQB6dLd3us+CvtWiGOO9vLMPAznCozL1z7ZrnfCvwu0fT9DVfEOn2+oanMS1zNKTJ8xP8JP8+tdH4QtXsvBej20v347OJTx/sisPxx41l0mWPQvD0f2zX7z5Yol58kH+Nv6fn0oAwfAUA0H4p6/4f0iR30mOMS+WW3CJ+OM/iR+FelajqFvpWmz317II4LdC7sewFYHgbwevhTS5Dcy/adTvG828uTyWb0B9B/8AXrjfiN4jstY8W2nhK7v0sdMgcTalM7Y3Y5EY/T8/agDj/FVrfa/py+NtUaSIXl8kFjbHosIzz+n8zX0LDn7JHt5OwYz9K8g+J/ibw5qHhPT7DQtRtpvs91GRFCfuIAR+Vep6HrOn63pyz6Vdx3USYRnjOQGAHFAHHeHPhuJdS1HVvHMFvqd/dTExhmMiRx9hggDPbpxise60u18IfGjRYfDKm3j1KMi7tI2ygXnnHYcZ/Cu48ZeMbPwhpXnTDz7yb5bW1U/NK3+HvWN4E8KX8d9N4p8VN5mtXw+WMji2Q/wj0OO3b86AKvxc1a7Sw03w/pspin1i4ETsvXZkAj6ZYZ9q0R8KfCv9gf2cdNj8zZj7Xz5u7H3t317dKwviaRa/EHwbezcQLcFGb0O9a9RoA86+EeqXf2PU/DuoymWbR7gxIzHnZkgD6ZBx7V6LXl3w0/0n4h+MryL5oGuAgf1O9q9RoAKKKKACiiigAooooAKKKKACiiigCtqNmmo6Zc2cwylxE0bfiMV5/wDDbwZq+h6zc3muweV5cPk22ZVfILZOME46frXpNFbQrThTlTWzOWrhadWrCrLeP9anlvi/wDqmreO1urGDdpt20TXTiVVCkcH5Scnjngd69E1c30Gh3P8AYkSyXqxEW8bEAFu3UgVeoqp4ic1FS+z/AFqKlhKdJzlBu89/+AeO6Jofj7Q9UuNSTQLW8vrgktcXc6Oy564xKMZrstA1Hx1caxFH4g0WxtbAhvMlhcFgccf8tG7+1dhRV1MU6nxRX4/5mNHAKhbkqStva619dDmfH3h6XxH4WltrNN95E6ywDIGWHUZPAyCay/Aeh3fhjStU1bxQDDeTuZJmLCQrGozn5c9SScD2ruqbLFHNE0UyLJG4KsjjIYHsRURryVL2XT8TWWEg6/1hfElby9Tlf+FneEP+gv8A+S03/wARViz8aeHvEM50zStVZrqdGCbIZFK8HkEqBkda0f8AhGtC/wCgLp3/AICJ/hUttomlWU4ns9Ms7eVekkVuisPxApt4e3up39V/kTGOMuudxt10f+ZxFlN8QfDfnWcmnpr0RcmK6a4+bn1yc49iOPWrngzwvq1v4ivvEniMRQ3t4pUW8JBCAkZyQSOwHU+9dzRTliW00opX3sKGBjGUW5NqOyb2/C/3nmM/h3xb4V8XX2o+E7aG+tL5i7RSOoAyc4ILKeCTgg1DqPhXxfq3iTRtY1SKKWRJlaaGGRFS1RWBAGWyx6k4zXqlFWsZNO9le1r9TN5bSaceaVr3tfRO9+x5/wCP/Ceq+I/EukS6fGwt4V2y3CyKDCd2c4JBOOvFQalcfEi6s5NHGl2gMi+W9/FIBuXoWGW4JHtn0Fej0VMcVJRjFxTttcueAjKcpxnJOW9n/wAA5TR/CTaB4ButItyJ7yeCQuynAeRlxgZ7dBzTvh3o9/oXhGOy1WDyLgTOxTercE8cqSK6mis5V5yi0+rubQwtOE4yjpyqy9DifDPh/U9P+IevaneW3l2d3u8iTzFO/wCYHoDkceoo8WeH9T1Px14f1CytvNtbNwZ5PMUbPnz0JyePSu2oqvrE+fn62t+FiPqVP2Xsru17/O9zidT8P6ncfFfTdZhtt1hBBskm8xRtOH/hznuO1O8R2Xi6x8SJq/huX7fasm2TTpZdqrxyQCQO2c9Qa7SiksRK6uk7KwPBwakk2rvmun1/rvc8y1HRvFfjzULJNb02HR9OtX3k+YHdvXGDnP4AfWug8Xab4m+22WpeFbtmNtxJYPLtSX36gHrzkj2rraKp4mV1ZKy6dNSVgYcsrybcrXd9dNttDzLWrXxt42totLvNGt9KtPMDTTPKGOR6c5/IfjV/xt4S1C903w/ZaJbm5TTnAcmRVIUBQD8xGenau+oprFSi04pJLp6kvL4SjJTk25Wu9L6a9rHLeOfCT+KNNhaymWDULN/Mt5G4B9VJ7dBz7VgS3/xKu7A6adGtoZXTy3vfMXp0Lfexn6D8K9IoqYYhxiotJ22v0NKuDjObnGTi3vbqcroPhE+HfBF3pkLCe8uIpDIwOA8jLgAZ7dBzSfDjRdQ0Hwp9j1a3+z3H2h32b1bg4wcqSO1dXRUyrzlGSfV3LhhacJRlHTlVkcTN4f1N/i9Dra22dPW32GbzF4OwjG3Oep9KxvH+h+L/ABBrypZ6etzpNuVaKMzoiyHAyWG8HrkduOlen0VcMVOElKy0Vv68zGpgKdSEqbk0pO72+7bY86g1H4l2tukFv4Y0qKKNQqIjqAoHYDzq39ZfxVN4JifTIYoNcYIZo0K4X+8FLEj9TXTUVMq92nyLT+tdS4YRxi4+0k7q2609LI58aPea74HXTfExUXk8GJmQD5XzkHjjI46cVyemr8QfCln/AGTa6XbapbREi3nMg4Hp94HH1H416ZRTjiHFNNJp62/yCpg4zcZKTUkrXW7Xmcd4M8M6tYm/1LxFdMdR1DIKI+RCDzxjjOfTgYFZdq3j/wAMzXFsbMeIbZ5C0Vw9x84z25OQPbGPQ16LRR9Yk5NySd/60F9SioxjCTTXW/fe99GcH4S8MayfFl14o8TLDb3UyFEtoSDt4AySCR0HqavfETw5ea9o1vJpCb9Rs5xJDhgpI78kgeh/CuuopfWJ+0VTt93oNYKmqDo62e7637+pyfw88OXXh/QJP7UTZqF3M0s43BiOwGRkH1/GusoorKpUdSbnLdnRRpRo01TjsgoooqDUKKKKACiiigAooooAKKKKACiiigAooooAKKKKACiiigAooooAKKKKACiiigAooooAKKKKACiiigAooooAKKKKACiiigAooooAKKKKACiiigAooooAKKKKACiiigAooooAKKKKACiiigAooooAKKKKACiiigAooooAKKKKACiiigAooooAKKKKACiiigAooooAKKKKACiiigAooooAKKKKACiiigAooooAKKKKACiiigAooooAKKKKACiiigAooooAKKKKACiiigAooooAKKKKACiiigAooooAKKKKACiiigAooooAKKKKACiiigAooooAKKKKACiiigAooooAKKKKACiiigAooooAKKKKACiiigAooooAKKKKACiiigAooooA5Tx/4Obxbo8Qsphb6lZyebazHgBvQnt0/MCuXnvfipqGmnR20W0tpJF8qTUfOX7vTcMMcH6A/QV6nRQBgeDPC0PhDw1DpkTiWUEvNLjG9z1P07fhVHwgvjIaxq3/AAljQmy8z/Q9mzpk9NvOMY+9zXW0UAeba54W8S6D4yuPEvgZILv7aMXdjOwUMfUZIHv1BB9ag/4R3xj471azfxrb2+l6TZyCX7HC4YzsPXDH9SPpXqFFAGdrjajD4fuzoEKSagsRFtGxABbt1IH5mvIfDuifEvw3f3d/B4asr2+u2zLdXlwjye4BEwwPwr2+igDivC+p/EG61pYvFWh2Flp+xiZYHBYN2HErfyrcvfCHh7UbyS7v9Fsri4kOXlkhDM3GOT9BWzRQB5r4/wDhxbXmi2yeE9AtFuhcq0nkhIj5eDnkke3Fd3pekWei6f5GlWUNqpG4xxKFBfHXir9FAHiA0L4kjxlJ4iuPD1pqF2CRALq4jZIR22KJRjA/zmus0zWPilLqlsmqeG9Lhs2lUTyJIpZUzyR++POPY16HRQBzXjrwknjDw8bNZBBdwt5ttMf4HHr7GuSF/wDFZdN/sj+xbQz7fK/tLzl+703fe6++Pwr1KigDmfAnhFfB/h/7I8onu5n825mH8TnsM9hXTUUUAFFFFABRRRQAUUUUAFFFFABRRRQAUUU15Y49vmOqbjgbjjJoAdRRTXkSNcyOqDOMscUAOooooAKKKKACiiigAooooAKKKKACiiigAooooAKKKKACimtIiMod1UscKCcZp1ABRRRQAUUVE91bx3CQSTxpNJ9yNnAZvoOpoE2luS0UVFJdW8M0cUs8cckn3EZwC30HejcG0tyWiiigYUUVXuL+0tJYYru6hgknbbEkkgUyH0APU00m9hNpK7LFFFFIYUUUUAFFIzKilnIVVGSScACqX9t6V/0E7P8A8CF/xppN7EuUY7svUVVh1TT7iURW99bSyN0RJlYn8Aadb39pdzTQ2t1DNLA22VI5AxjPowHSjla6ApxezLFFFFIoKKKKACiiigAopskiQxNJM6pGgLMzHAUDqSaZa3dvfWyXFnPHcQv92SJwyt9CKdna4rq9iWiiikMKKKKACiiigAooooAKKKKACiiigAooooAKKKKACiiigAooooAKKKKACiiigAooooAKKKKACiiigAooooAKKKKACiiigAooooAKKKKACiiigAooooAKKKKACiiigAooooAKKKKACiiigAooooAKKKKACiiigAooooAKKKKACiiigAooooAKKKKACiiigAooooAKKKKACiiigAooooAKKKKACiiigAooooAKKKKACiiigAooooAKKKKACiiigAooooAKKKKACiiigAooooAKKKKACiiigAooooAKKKKACiiigAooooAKKKKACiiigAooooAKKKKACiiigAooooAKKKKACiiigAooooAKKKKACiiigAooooAKKKKACiiigAooooAKKKKACiiigAooooAKKKKACiiigAooooAKKKKACiiigAooooAKKKKACiiigBGYKpZjgAZJPauK1Tfqs1tq7lhbrexRWieq7uX/AB/lWx4puLlbWG1gtbqeKd8TtbRl2CDqPx6VkazrayWNnDHo+pWyQ3MTL5lvtBCn7o56+goA7WsHxgwTRY2c4VbmIk+g3Vr2V19stEnME1vu/wCWc6bXH1FZPi4Z0eIHkfaov/QqAC58R3FqpuJdHuRYDrcb1yB67OuK1LnUba0083s0mIAoYMOcg9MfWmauB/Yt4MceQ/8AKsC+O3w3oTSY8hZoTLnpjHH64oAut4iuoY/tF3ot1DZdfO3qzKPUoOQKvajq0dhp8V2ieeksiIu1sZ3Hg1au2jWxmaYjyxGxbPTGK5KUMnw/04yZAWaJvm7Lv4/TFAHV6hdiw064uym8QxlyoOM4FUb7Xo7HSrS+khJS4ZAQG+5uHXpzineJJEXwzflmABgYAk9SRxWTqoz4c0QH/n4t6ANiz1Sefz5bqwks7WNN6SyuMuO+VHI/GqY8R3TQ/a4tFuXsMbvP3qGK+oTritm6SGS0lS5IWFkIcscAA+9YKW2taPZZsLy2v7OJNyRzrtfYB0DDg8dzQB0EEyXECTRHKSKGU+xqvqepQ6XaefMrvlgqRxrlnY9AKdp16uo6bBdxqUWZAwU9RVXWdSnsvs0FlFHJc3cnlx+aSEXjOTigCuPEFxBJGdU0mazglcIsxkVwCem4DkVe1PVIdLhRpEeWSVtkUMYy0jegrnfEsGqpo/mahqMDJ5sY8iKDaGO4fxEk+9aOoER+LNJefiIxSIhPTeQP1xQA248Sz2FnJPqeky2uBmMGVWV/bI6H2Nad/qkGnWK3E4YlyFSNBlnY9ABWf4ykiTwtdCYj5sBAe7Z4pmokLrugtNjyfnAJ/v7eP60ASDxDPbyIdV0qeygkYKsxkVwCem7H3a3OvSsvxIYl8N33n/dMRA9z2/WrenB10u1Eud4iXdn1xQBj+Jp47W/0aaY7US5JJxn+GpX8RT2zCXUdJuLWzYgCcurbc9CyjlRUfiVo01LRGnwE+1856dOP1rR1xok0G9Nxjy/JbOfpQAXWqLa6hZ27x5juyVWYNwGxkDHvTtV1IaXaLL5Rmd5FjSMHBYk4rJubOefwTann7VbQxzIe+5Rn+VLHcpruvWDR/NBawC5b/fYYUfhzQB0QzgZGD3ryz4lpd/8ACbaZcacf9Is7NrpQO+xix/QGvU64vVVV/i7o6OAytp8wIPcfNXXhJclRy7J/kefmEPaUVDu1+Z1WmX8Wq6XbX1scxXEYkX2yOleWajezaz8VNN1JTmxh1AWVuf7xTliPxNX49bfwdpGv+H9x+0WsmdNHd0mPygf7pOamvtHGhP4FsMfPHeEyn1cgFj+ZrppU1Sk33vb0tf8AyOHEVpYiEV/LZy9ea1vzf3HVa94pXSL6DTrKwn1LUrhS8dtDhQFH8TMeAKh0rxZLc60uka3pM2k30qGSFHlWVJQOuHXv7VBqmu6zc+K30Dw7HZxyQQCae5vNxCg9AqjqelYV1a6ra/Evw2utaxHqErCYqkdusQiG32OTn39KxhSg42kleze7v39PvOipiKkanNFtrmS2Vt0n5t+mnkbmp+OGsfEtxoltpM97dxxK8Kwv/rSRnB4+UDuc1HquoQTXXhptf8Pqt7c3TJGjz7jasCOcgYbscUzTQP8AhcOsnHIsIsH/AL5pfGv/ACNHhL/r/P8AIU4xgpxil0ve77ClOo6c5yldc1krK3xJdv69TZsvEIufFN/ok9sYJbWNZY3L5EyHuBgYweO9F94hFr4psNEgtjPNdRtLI+/AhQdyMHOeR2rH8XL/AGR4m0TxEnyxrL9juz/0zfoT9DR4SX+2PE2t+In+aNpPsVof+madSPqaj2cOT2ltLfjt/wAE19tU9p7G/vc3/ku//wBqWr7xhP8A2xPpnh/RZ9XuLXH2hhKsMcZPbc3U+1XPD3iWPXHuraW0msb+zYLcWs2CUz0II6g+tY1trPiPxNfX66E9jp1jaXDW3nTxtLK7L1IXgAfWqfhCK6g+JOvRahqA1C4W3iEk4iEeTxxtHAx0qnShySTSTSvu79N+hnHEVPaxabcZNrZJdduvT0O+ljSaF4pVDo6lWU9CD1Fed/EPwvomm+FxPYaXbW8v2mJd8aYOC3Ir0auO+KH/ACJw/wCvuH/0Ks8LKSrRSfU3x8ISw821dpM2rDwtoenXMd1Y6XbQToPlkRMEZGDWd4dutOfWfEZsdLW0nt7nbcSrJn7Q2Cc4x8vfj3rp1+6PpXE+E/8AkO+M/wDr8/8AZWog3OE3J32/MdRRp1KcYJK7fRdmFl8Qb7VtLF5o3hi5vNm7zws4VY8HoCR87Y5wB3FTw+PJdVs1m8NaDd6mVXM4MiwiE/3MnO5vYeop3wvAHgG0wMZklJ9/nNRfC8AeGLogcm/mz+YrapGlHntH4Xbd+e5y0Z4iap3qfGr7LS1ttPPW9/kbnh7xFbeIdJN7Cj25jdo54puGideoNYw8cXt80kvh3w5dapYRMVa6EyxByOuxSMtWVpqzN4X8cLag+aby62gf7tdT4Ke3k8E6SbQqYxbKDjswHzfjnNROnTp80rX1t+FzSlVq1uWHNbRttJa2dut16j9P8TWeq+HZ9Wslci3RzJBINro6jJRvQ1h2nj2/1TS473RfDF1eptzOROqKh/uqSMuceg9qp6UVe+8eSWv/AB6nIBH3TII234/Gtz4eAD4f6VgY/dE/+PGnKFOnFy5b6r8VcmnVrVpRjzW0d7JdHa+tye08QWHiDwhc6jFA0kAhkE1tLwQVU7kP+e9ZNv4msdA+G9jq9jpQgtHYKtqs33NzEE7iOfXpVbwyAPC/i0AYH2286f7tY1+M/A7SAeQZov8A0Ya0jRhzcvTmX5MyliKnJ7T7XI3t1TX9WOku/Hd5ZxC/k8M3v9jZB+2mRQ20/wAXl9QPqRW7qniPT9K0AavM7SWzqrReUuWk3fdAHqab4nA/4Q3VBgY+xScf8ANc8mvz6F8PvD4sbeO4vL1IbaBZWwgYr1b2rGMIVEnGPW2/+Z0yq1KMpRnO+l722d7bK1/61J38cX9jHHd654Zu9P06Rgv2rz1kKZ6F0HKiuwVg6hlOQRkEd6828cWfidfB17ca1rlmsOFDWdra4VyWGAHY7vf8K7/Sv+QPZf8AXun/AKCKVaEFBTjbdrS/l3Kw1Wo6sqc76JPW19b9umnqW6KKK5D0AooooAKKKKACiiigAooooAKKKKACiiigAooooAKKKKACiiigAooooAKKKKACiiigAooooAKKKKACiiigAooooAKKKKACiiigAooooAKKKKACiiigAooooAKKKKACiiigAooooAKKKKACiiigAooooAKKKKACiiigAooooAKKKKACiiigAooooAKKKKACiiigAooooAKKKKACiiigAooooAKKKKACiiigAooooAKKKKACiiigAooooAKKKKACiiigAooooAKKKKACiiigAooooAKKKKACiiigAooooAKKKKACiiigAooooAKKKKACiiigAooooAKKKKACiiigAooooAKKKKACiiigAooooAKKKKACiiigAooooAKKKKACiiigAooooAKKKKACiiigAooooAKKKKACiiigAooooAKKKKACiiigAqrf6fFqMcSTs6iKVZRsIHKnI6jpVqigAqpqOnRanbLDOzqqyLIChAOVOR1FW6KAI7iBbm1lgkJCyIUJXrgioRp1udLXT5U823EYjIfqQKtUUAYY8KwNtjnv7+e2U8W0k+UI9DxkitW5sre7sXtJ4wYGXaUHGB7elT0UAYKeErP7O8M93fXEbIURZptwiyMZUYwDV+40e3uLK1tneQJaujoQRklemeKv0UAMliSeF4plDxupVlPcGsX/AIRWHyvIGo6gLTp9n8/5cf3emce2a3aKAGQwx28CQwIEjjUKqjsKralpkGqW6xXG9Sjb45I22sjeoNXKKAMOXwrb3MOy+vr26YEFHlkB2YOeBjHOOTU2vvpyWMcerxM9s7hfMCnEZ7MSOR9a1qQgMpDAEHqD3oA4rU49H/s6S2068fUb65AihDTmYoCRnH90V1d1p0F/p4tbxNy4HIOCpHcHsalhtLa3Ym3t4oiepRAufyqagDFi8NQedG95e3t6sR3JFczbkB7HGOa2qKKAKWo6Tbao9ubsMwgYsE4w2RjniqQ8MW7Sp9pvb66gjYMtvNNuQY6ZGMnHvW1RQBU1DUbPTLcSX0qxI3Cg/wAXHQCszwlpwstLeYxGJrqQy7D1Vc/KPyrcaNHxvVWwcjIzinUAFZk+g21x4ktdbd5hc2sLQogI2ENnORjOefWtOiqUnHYmUIy+JGHqfhLTNW8QWOsXYk+02X3ApAV8HI3DGTg+4qzqmg22rX+nXdy8yyadN50QjIAY8feyDxx2xWnRVe0nprsZ+xp66b6v1MDW/CVrrGoR6hFeXmnX8aeWLmzl2My/3W9RVey8Cafaavaaq95f3V9bFj59xMHMmRjDZHQDoBiunopqtUUeVPQl4Wi5c7jrv8+5mQaDbW/iS61tHmNzdQrC6EjYAuMYGM549aNU0G21a/067uXmWTTpvOiEZADHj72QeOO2K06Kn2kr3uX7KHK420bv89/zON+IWsaadDutCY/aNTu0VYLRFJYsW+U9OMYz+Fb/AId0ldD8O2WnJjMEQDkd2PLH8yav+RD5/n+Unm4x5m0bsemakq5VP3apr1+ZnGi1WdaW9rL0OXvPA1tLqc97p2qanpTXTbriOyn2JI3dsY4PvVrQ/CGneH9SuL2we4MtzGqSCWQMDjndnGSSeSSa3qKTrVHHlb0GsLRjLnUdQrN17QrbxFpv2G9eVIvMWTMJAbKnI6g1pUVnGTi7o2nGM4uMlowAwAKytP8AD9rpt3qdxBJMz6nL5swdgQpwR8uBwOe+a1aKak0ml1FKEZNNrYztB0S28PaRHp1k8rwxliGlILcnJ6ADv6U3QdBtvD1g9pZPM8bzNMTMQTluvQDitOim5yd7vcUaUI2sttEZuk6HbaO16bZ5X+23DXEglIOGbqBgDj86xZfh/ZieU6Zq2raXBMxeS2s7nZHk9SBg4zXWUVSrVE209yJYelKKi47GZY+HtP03QX0ixjMNtIjI5ByzbhgsSepqbRtKg0PR7fTbRpHht12o0pBYjJPOAB39Ku0VLnJ3uy40oRacVayt8jIsfDdnp9hqNpDJO0eoyySyl2BKlxg7eOnpnNVpfBunzeFbbQGmuRa27KyOGXzCQxIyduO/pXQUU/azve/mR9XpNW5elvkV7+yj1DTbiymZliuImiYoQGAIwce9Zl14U0698NW+iXHnNb2yqIZQ+JEKjAYEDGfwrbopRnKOzLlShO/Mr6W+Rx83w6tL61eDV9Z1fUFIxH59yG8r3AxjdjjJz1rrLeFba2igQkrEgQE9cAYqSinOrOatJk06FOk24KzYUUUVmbBRRRQAUUUUAFFFFABRRRQAUUUUAFFFFABRRRQAUUUUAFFFFABRRRQAUUUUAFFFFABRRRQAUUUUAFFFFABRRRQAUUUUAFFFFABRRRQAUUUUAFFFFABRRRQAUUUUAFFFFABRRRQAUUUUAFFFFABRRRQAUUUUAFFFFABRRRQAUUUUAFFFFABRRRQAUUUUAFFFFABRRRQAUUUUAFFFFABRRRQAUUUUAFFFFABRRRQAUUUUAFFFFABRRRQAUUUUAFFFFABRRRQAUUUUAFFFFABRRRQAUUUUAFFFFABRRRQAUUUUAFFFFABRRRQAUUUUAFFFFABRRRQAUUUUAFFFFABRRRQAUUUUAFFFFABRRRQAUUUUAFFFFABRRRQAUUUUAFFFFABRRRQAUUUUAFFFFABRRRQAUUUUAFFFFABRRRQAUUUUAFFFFABRRRQAUUUUAFFFFABRRRQAUUUUAFFFFABRRRQAUUUUAFFFFABRRRQAUUUUAFFFFABRRRQAUUUUAFFFFABRRRQAUUUUAFFFFABRRRQAUUUUAFFFFABRRRQAUUUUAFFFFABRRRQAUUUUAFFFFABRRRQAUUUUAFFFFABRRRQAUUUUAFFFFABRRRQAUUUUAFFFFABRRRQAUUUUAFFFFABRRRQAUUUUAFFFFABRRRQAUUUUAFFFFABRRRQAUUUUAFFFFABRRRQAUUUUAFFFFABRRRQAUUUUAFFFFABRRRQAUUUUAFFFFABRRRQAUUUUAFFFFABRRRQAUUUUAFFFFABRRRQAUUUUAFFFFABRRRQAUUUUAFFFFABRRRQAUUUUAFFFFABRRRQAUUUUAFFFFABRRRQAUUUUAFFFFABRRRQAUUUUAFFFFABRRRQAUUUUAFFFFABRRRQAUUUUAFFFFABRRRQAUUUUAFFFFABRRRQAUUUUAFFFFABRRRQAUUUUAFFFFABRRRQAUUUUAFFFFABRRRQAUUUUAFFFFABRRRQAUUUUAFFFFABRRRQAUUUUAFFFFABRRRQAUUUUAFFFFABRRRQAUVHO5it5JFxlULDPsK57wH4jufEvgu31jU1hilkaTeIVKoArEdyT0HrQB0tFee2viHxj4waa78Jx6bp+kpIyQz3wZnuMHGQBkBa1fC/ijUrnW7nw94otIbXVreMTK9uxMVxHnG5c8igDraKKKACiiigAooooAKKKKACiua8D+IrvxJpd5cX6Qo8F7LbqIVIBVTxnJPNdLQAUUUUAFFFFABRRRQAUUUUAFFc14n8Q3eja54fs7VIWj1K7MMxkUkhcZ+XBGD9c10tABRRSNnaduN2OM+tAC0VheFY/EkdncjxZNbTTmdjAbcAYj7A4A/x9a3aACiuX13xJeaZ468PaNbpC1tqfneczqS67FyNpzgfiDXUUAFFFFABRRRQAUUVzOkeIry/8ea3osyQi2sI4niZVIclhzk5x+goA6aisHQ4/Eya5qra9Payae0g+wLEMMq+/Hpjrnmt6gAooooAKKKKACiiigAooooAKKKKACiiigAooooAKKKKACiiigAooooAKKKKACisGePxMfG0EkE9qPD4gIljI/eGTnnpn07461vUAFFFFABRRRQAUUVyniLWLyTxZpHhzSZ2glnJubuVQCUgT+EZ7seKAOrorB1uLxK+uaU2hT2senK5+3rMMsy+3Hpnpjmt6gAoqvqE7Wum3NxGAXihd1DdMgE1leDNbufEPg+x1W+WNJ7hCzrECFGGI4BJ9PWgDdorzrw5deKvGOozavHriaZpdvetCljFbLIZEQ85Y9Cfx/CvRaACiiigAooooAKKKKACisG+j8THxhYPYT2q6GIz9qjcfvGbnGOM+nQ+ua3qACiisLxprVz4d8IX2qWKxPPbqCiyglTlgOQCPX1oA3aKr6fO11pttcSAB5YUdgvTJANWKACiiigAoorP16+l0zw9f31uFaW3t3kQOMqSBkZoA0KK5qyvdT8R/DmC+tpxZ6ldWYlR4V+VZMZGAc8duas+D9f8A+El8MW2oOuycgx3Cf3JFOGH50AblFFFABRRRQAUUUUAFFFFABRRRQAUUUUAFFFFABRRRQAUUUUAFFFFABRRRQAUUUUAFFFFABRRRQAUUUUAFFFFABRRRQAUUUUAFFFFABRRRQAUUUUAFFFFABRRRQAUUUUAFFFFABRRRQAUUUUAFFFFABRRRQAUUUUAFFFFABRRRQAUUUUAFFFFABRRRQAUUUUAFFFFABRRRQAUUUUAFFFFABRRRQAUUUUAFFFFABRRRQAUUUUAFFFFABRRRQAUUUUAFFFFABRRRQAUUUUAFFFFABRRRQAUUUUAFFFFABRRRQAUUUUAFFFFAHE/ES4udIm0PXbeeVILO9WO6jVyFeN+OR0OD6+tJ8S7q9n0rTtG0W5eC91a6CRyxuVKqo3E5HOOBW/4s0ga74T1HTiMtNA2z2Ycr+oFcL4C1RvF/iewvJQ2ND0tYJNwI/wBIc4br7L+tAHQeGfEpHwtXVb9y09hbyJcFjyZI8g59zgfnWPp+tah4V+D8erXLyXWqX7b4RMxb55W+QcnoBzisHxDJLZ61rHgiAMp1vUYZ4No4EUnMn6rXY/EvTJB4FiawiLjS54bgRKOqIefyFAFe2+Gkt7Zrda54k1p9VkXc8sF1sSNvRVxwB/nFXfA2s6ib/VPDevT/AGm+0p12XJGDPE33WPvXRaZrmn6to8ep2d1E9s6by+8YTjkH0I964/wTMNe8feI/EVp82nsI7S3lAwJSo+Yj1HvQBjeFdE1DxlFq8Ora1fQ6ZbalMiRW0xV5TnozHPygYAX61t+J5r+3uND8EeHLya1kuoz5t7nMkUCDBIIx8x9RT/hX/wAg/XP+wvP/ADqLxZcp4f8AidoGu33yWEsEllJMfuxMeQT6CgB1x4Cn0Cwm1Dw9reqS30MbM0V7ceZFcjHKsuB17EdDT/hAiyfC6ySRQyM8wZSMggyNxXS+INbs9K8P3F5NMjK0REKqcmZiPlVQOpPtXOfB87PhjZF/lCyTZzxj941AHYQwWWkafsgihs7OBS21FCIg6k4HArifCrSeK/Ht54tjjaPTYIPsNkzDBn5yz/SqOp6vH8Q9bfSoL+O08NWb4u5zKEa9cfwLn+H1P/1q7+wn0qGGGx02e1CRrtihhkXgAdABQBylpc3OifFy50+5uJXstZtvPtlkclY5E+8qg9O5xS+P7u6vNV0Lw3ptxLBNf3PmzvCxVlhTluR0z/Sn/Eu0ki0mz8QWi5uNFuVueOpjzhx+X8qq+Dpo/FXjjVvFMZ32kCLY2LEdRjc7D8TQBY8V32oal4ksvCOiXraf5kBuL27jP7yOIHAVT2JPes7V/BVx4a0ubV/C/iHVPttmhlaK6ufNjuFHJVlwOozVPxromjSfFKxufFkIfStQtPIjlaRo1jmU5ALKRjIPer2s+APhvoOlPqOp2Iit1GQReSkv7KN/J+lAGjrXjiSH4dWWs6ZGv23UxHFbRtyFlfj9OaqxfDGSa0E+peJ9afVmXc1zFdFVR/8AZXHQemfyqp41021tvh7ol9oFvL9g0m6hvUhIbd5WcnIb5u+ea7y01vTr3SF1S3vIWs2TeZt42qMdz2oAoeEV16LRfs/ikI95BIUWdWB89B91yB0NbtZHhzxHaeKNPkvtOinS3WZokeZQBLt/iXBOV+uK16APH/Amg3viaz1W1udQurHSYNSmO2zk8uS4kJ/ib+6OOO5PtWtcW178N9f0yW31S8vtC1CcW08F5J5jQO33WU9hSfCbWbdRq+kzsIp/7QmlhD8ecpODtz1wRzj1FWfiLeRatq2heGbB1mvpL+O4lVDnyY05JbHT8aAN7xXouua7JaWmmat/Zen7ibx4CRO47BT2H+eelcd4s0JfAWkjXNB8Qagl3bSJvtru88xLlS2CCp7/AOfetDxY0utfEqw8N6hqU+n6TJZmfbBL5RupN2NhP07Vh/Efwn4O8K+D7j7BZRx6nOVEJaV5JPvDLYZjgY70Adh4+8Q3mmeA0v8ATJPs8l00SG4258hH6t+FZy/D6K40lb3w94p1R9R274r5r4yJI3+0BwVP+c1u3+r6RpPg3Tz4hUNZXMUMDBot6Eso+92A9zXM+IPAXh3RNFutc0DUbjQpo4zLFNbXZ8tzjIGCTkH0BoA6TxNr194Y8Ei6uBFPqjBIE2D5HmbgHntnmsaD4btd2ouda8U6xJqsg3PNBd7Ejb0VccAf5xWb4m/tDxR8FdP1HUIGmuIzFdXEajaZEUkMcDplTnir2l/Dz4c6vpMeo2Nkkls6bi4vZfl9Qfn4I96ANLwNrl9INW0bXrgXN5os2xrkdZoyMqx98Vh6LpV38Sjca5q+rX9rphmeOxs7KbyxtU43se5NbHgzTPCH2fVx4MhdAxNtcS75GViAcbSxII5PSq/wo1GKHw/J4dunWLUtLnkilgY4YjcSGA7jmgDD1vSL/QPG3hPT3vp9Q037cZLeW6bdLEcYKFu47j8q9arzXxprFtd/Ebwpp9qwma2vd0zpyqMRwhPTdjnFelUAcH8TrzUbR/Do0icxXEupLGPmIVsg/eA6jvitfw/4Mj0TVH1SfVdQ1G/ljKSyXMoKHJBOFx8o44GayfiT/wAhDwn/ANhdP5Gu7oA4X4dalKPC+r3eoXEswt7+4JaRyxCrzgZ7e1Zmg+Hr34g2Z8Q+ItX1G3guXY2dlZz+UkUYOAT1yTipvh/aNf8AgXxBaR8NPe3ca/UjFaPwt1e3ufB9vpTusV/pm63uLdjh0IJ5x6e9AHN3Wm6ho3xa8J6fd3st/aRee1pPcHMu0oco5/ixgYPoa6DxdfalrPiyy8IaNeyaeJYTc311CcSJEDgKp7E+tZmv6tbaj8afC9vZuJVszMskqcqHZCSuemQAMjtmrWvXUfhb4sWet6k3l6bqFl9je4I+WKQHIyewNAC6n4MufC2j3ep+G9Z1SWeGBzJbXdx5kc67eewww6giptD8RvovwXttbvHe5mitSwMrkmRyxABJ564rQ8W+LtIt/DF4lpfW97dXFu6W9vbyiRpCVPOFzwOpPTiuXGlT6z+ztDa2qs8q2wlVF6tsfdj9KANCw8A3GtWMeo+KPEeqNqNwokKWl15UcGeQqrjtV/wVqWpWmvap4V1q8a/ksFWW2u3+/LC3QN6ketZHhvwH8PPEWhW9/aWCybowZVF5LmNschhv45rW8Fab4Ls9c1FfCEDC5tgIbiRZJHQg84DMSp5Hb0oA7auE8N/8lg8V/wDXC3/lXd1wnhv/AJLB4r/64W/8qAJvBt1cT+NvF8U08kkcN2gjR3JCDaeAO1YPhzTNS8Vap4js73Wb630y31OQbbaYrI5/ubjnCADOB1JrZ8Ef8j340/6/Y/8A0E0nw2/5CHiz/sLv/IUAUILO88B/EDSbG11S9vdI1jfEYbyXzDFIBkEH8q1PFuoajqviaz8J6LfNp5mhNze3cZw8cQOAqnsSe9R+N/8Ake/Bf/X7J/6CKxfGuiaNJ8UrG58WQh9K1C08iOVpGjWOZTkAspGMg96ALmr+Crjw1pc2r+F/EOqfbbNDK0V1c+bHcKOSrLgdRmukN/qnifwFBe+Gp4bO9vYFZJJgSIs/exweeuK53WfAHw30HSn1HU7ERW6jIIvJSX9lG/k/Sk8YXi6H8PdHt/C802mabd3EULXOWV7eF8ktlvmH480AS3Pw5gtNLe5ufFWsJqSoX+2vfFQHA9PT2z+NXvCGv3ev/C9769k33ccM0TyocbmQEBuPUYNU7rwB4G0fSn1TU4vtZSPd9qu7p5DKcccbsMT6Yqr8MyD8IbwqNqlrrAx04NAFXwd4Wu/GPhHTr/xHreoGFVxb29vPtBAY/PISCWYn8hXqgGFA9K5H4W/8k10n/rm3/oZrrqAPP/iBPqi+L/C9ro141rLcyTRkknbyuNxX+LAyQD3FaFvoll4A0zVNdkv9Q1Cb7Pvme8m37yuSMccZJxVTxl/yUjwZ/wBd5v8A0Ct7xtps2r+CdVsbUbppbdti/wB4jnH6UAcrpXg268U6fHrPirXtSS6u1EsdtZ3PlR2ynkKBg84xzV3wnfaho/i+88JarfyalGkAurG6mOZDHnBVj3INYvg7wP4A8S+Hba6XTw10sYW6jN3KGjkHDAru45ra8J6P4G0/xZdw+F7dhqNnFtmkSWWRFVuoySVzx9aAKCQXvxG8TaosuqXdjoWlzG2jispPLa4kH3izegrP8Z6Tqfg3SrSPSdXv7jTbq9hV1uZy0kDbv4XGDtboRWj4O1S08KeJNe8Pa5cR2ckt613ayTsEWZH54J4zVf4p+JbC9sLHTNNnjvJBfQvO8Db1hAbjcRwCT2oA0/ibeajaHw4NInMVxNqSxjLEK2VP3gDyO+K09J8KW/hm4uNcvdW1DULvyG8+S5lBUj7x2rjjpwM1m/Ej/j+8Jf8AYXj/AJV2Gr2jX+i3tohw08DxqfcqRQBwGj6Fd/EC1/t/xDrN/a21yxNnYWc/lLFHnALerGreiy3/AIR8dQeG7rU59S0zUYWks5Lp98sLr1Qt3GK5/wABeCfBevaGsGp6f/xObRmivYWuZEcMCedoYcH2roNH8O+ANJ8cQ2ejWrDWbdDMpjmlkWMYIO47ioOD0PrQBW1ORvE/xMvNA1fWLnTLGyhRre2t5/JN2zDJJPcD0rd0XwnqHhzxCJNN1ie40aWMia0vpWkZH7FDjgev9aj1S18H+NdcudF1W2SbUbAAHfuikAPPysCCw/TmuftrZ/BfxI0jRdA1a6vLK+Vxc6fPL5v2dQMhh/d/+t3oAteJLh9c+JKeG9S1ifSdMjtRMiQTeS125PTd3A9PatbTPB1/4f8AENvc6JrNzJpbgi7sr6Zpfo0Zxwak1qPwl4q15/Dut28c1/bxiRBIDG20/wBxwQT7gVzE+njwH410Kx8M6tdSwX83lXGlTTeaqJ/fA/h+vt1oA3r26uF+NGmWyzyC3bTJGaIOdhbJ5I6ZqtrtxqXizxvJ4X03UJtN0+xhWbUJ7Ztsshb7qK3b/wDXUl//AMly0v8A7BUv/oRqvZzw+G/jHqy6k4hi1yCKS2lkOFZ0G0pn1oAr674XvfA2mvr/AIY1nUZvseJLmzvZ/Njmj/i4xwQO9XPiHrcs3w2tNW0iV42uJ7eSMo5XIY52kjt2NaHxJ1q203wZe2rSK13fxm3toBgtIzccD8awPGmnSaR8HtJ0+b/WW8tqj/UHmgDSufh1Nq1ubzUvEerLqsi7w9vcbIom7BUA4UfXPvV74b61fav4XdNWl868sbmS1llPV9p4J98V1cf+rX6CuG+Ff/IP1z/sLz/zoA7uuB8NE3/xg8U3cgz9kihtoz6DGT/Ku+rgPDAax+L3iu0kIH2qOG5jGOoxg/zoAteMrq4g8beEIoZ5I45rtxIiOQHG0cEd6Z4y1DUtT8Tad4R0W8ewa6ja4vLuI4kjiHGFPYn1pvjf/ke/Bf8A1+yf+giq2vzxeHfjBpes6g3lWN/ZNZGdjhY3Dbhk9s0AGp+Bp/DujXd/4e1nU5riOB/Nt72482O4TacgjAwe4I71L4J0iPXPhFpVnNc3VspUt5lpL5b8O3G70rofFutWmleFryaWRXeaB0giQ5aZipACjvWb8L/+SZ6V/wBc2/8AQjQBzXwr8LwTWDaodQ1JZLbUJVWFbkiJ9p/iXuT3rvrnxX4esrqS2vNc06CeM4eKW6RWU+hBPFc58Jv+RUu/+wjcf+hV0dz4U8PXt1Jc3mh6dPPIcvLLaozMfUkjmgB63un+I9Ju49J1GC5RkaJpbWcN5bEccqeD3rn/AId61JL4IkXVJme60mSW3uXkYlvkJOSTz0rqNO0nTtIiePSrG2so3bcy28Sxhj6kAV5R4suZfDniPxDo1tvX/hJo4Wtdo6SM2x+ntk0AXPhzq2rf8JY7axdSy2+v273lmjuSIwsh+UA9PlOeK34rq41j4wywxXEi2WjWYEkauQryv0yOhwKg8a20fhnTPDusQqRHodxHHLtHJhZdjf0qx8M4GudJ1DXpwRLrN5JOCRz5YO1B+QoAzoLe7+I2r6hPdatd6foVlO1tb29nL5bXDL952PpntSSw3fw78RaV9m1a7v8ARNSnFrLBeS+Y0Dn7rK3Ye1YfhXwZ4Vvdb1fR/FFmDrEF27JvuJI/OiY5VlAYA/hW7P4Q+HGh+I9OsjZMNSnlDW8cdxNIVYcgsAxwPrxQBpa1dXCfF7w9bpPIsElpOXiDkKxGcEjoareJLjUvE/jZPCmmX82m2Vvbi41C4tztkbJ+VFPapNc/5LP4b/68p/61Vu7+Hwn8Xpr3V3EFhrNokcd0/CJIn8JPb8fWgCDxH4Vu/B/hjUNS8N6xqUoSBhcW95cGRWQjBZTgFWXrn2pdcmkuP2e0lnkaWR9PhZ3diWY5Xkk9a0fiH4q0pPBOpWlneQ3t1dWzokNvIJGCkcucdFAycmsvV/8Ak3WH/sGwfzWgC7aeApNf0a0vNc1zU47p7dNkdlceXFANowFXByfUnqas/DrUtRC6zoutXjXk2j3XlLcyElnjIyMk9eldXo//ACArD/r2j/8AQRXHeDU83xp43jzjfdoufqhoApadYXXxImutW1PWLyy0hZ3hsrOym8reFOC7nuSamtlvfAnjHTNOXVbnUdE1ZmhRLyTzJLeUDIw3ofSue8CeB/COoRXek+ILLdrljcPHKj3MiM6Z+VgAwBGPQV0MHhf4eaJ4ysLC0s2Grk+bCsc80nllect8xA/GgCx4outS8Q+M4PCWlX02nW6W/wBpv7m3OJNpOAintms/xL4Mn8MeFdSvdA1bULgC2dbm0vZ/NSWMjBI4GGHUH2xVq6vI/DnxmNzqTLDaaxYrFFO5wokQ/dJ6D/64rZ+Ies22meCtQR3V7i6t3ighXlpCR1AHOAOSfQUATfD7/knmh/8AXmn8qxPh3/ofiXxdpaH91DqPmovZd4JP8q2/h9/yTzQ/+vNP5VifD0favFPi/Uk5il1DylPY7Ac/zoA76iiigAooooAKKKKACiiigAooooAKKKKACiiigAooooAKKKKACiiigAooooAKKKKACiiigAooooAKKKKACiiigAooooAKKKKACiiigAooooAKKKKACiiigAooooAKKKKACiiigAooooAKKKKACiiigAooooAKKKKACiiigAooooAKKKKACiiigAooooAKKKKACiiigAooooAKKKKACiiigAooooAKKKKACiiigAooooAKKKKACiiigAooooAKKKKACiiigAooooAKKKKACiiigAooooAKKKKACiiigAooooAKKKKACiiigArN0fw9pegm6OkWgtjdymabDs25j35Jx9BxWlRQBm3Hh7S7vXbbWbi0V9QtUKQzFm+QHPbOD1PUVpEBlIYZB4IPeiigDkLr4V+Dry+N1Lo6q7HcyxyuiE/7oIA/Cuos7K206zjtbGCO3t4hhI412qo+lT0UAUNK0TT9EjnTTLfyFuJmnlG9m3O3U8k4+g4qbUNOs9WsZLPUraO5t5Bho5FyD/8AX96s0UAcvpHw48K6Hf8A23T9LVZxnY8kjybM+m4nH161r2OgabpmitpNlbeVZMHBi8xjneSW5Jzzk960aKAOM/4VH4I/6An/AJNz/wDxdXtH+HvhfQNSTUNJ0z7PdRghZPtErYBGDwzEV0tFAEV1bQ3lpLbXUYkhmQpIh6MpGCKraNoun+H9NTT9IthbWqEssYZm5JyTliSavUUAVNT0ux1mxez1S1jurd/vRyDI+vsfcVzlh8LfB+nXq3UGkK0iHKCaV5FU/wC6xIP4111FADWRXjKOqsjDBUjII9MVyM3wp8Gz3puW0dVYtuKJNIqE/wC6GwPoOK7CigCK2toLK1jtrSFIYYl2pHGu1VHoAKloooA5258A+GbzS20+40tGtzM04Bkfcrt94hs5GfTOKm8P+DdB8L7zounpBJIMPKzF3I9NzEkD2FblFAGVr3hjR/E9qsGt2SXKocoxJVkPswIIrKtPhp4TstPubKHSlMV0AJi0rl2AOQN2cgZA4BFdVRQBUuNKsbvS/wCzbq2jms9gjMMg3DaOnX+dczb/AAo8G214LhNHVmU5VJJpHQH/AHS2D+Oa7GigBoRBGIwqhANoUDjHpiuSvPhX4Ovb1rmXR1V2O5limdFJ/wB0EAfhiuvooArafp1npVjHZ6bbR21vGMLHGuAP8+tY+v8AgTw54muBcavpqy3AGPOR2jYj0JUjP410NFAGFa+C/D9lBYw2umpElhN59vtdgVkxjcTn5j/vZrdoooAoalomn6xJaPqNv5zWcwngO9l2OOh4Iz9DxV+iigCjpOi6fodvLBpdv5EcsrTOu9my7dT8xNZGufD7wz4ivfteqaYr3B+9LG7Rl/rtIz9TzXS0UAYtt4Q0GyfT2tNOjhOmlja7GYbCwwxPPzEju2ao+M/EOmaNHa2/iHS5LrS7tik9w0Qkih9Nw5PX2rqKa6LIhSRVdWGCrDIIoA8vv9Y+HuhaPef8IxFZz6lewvDDHZoZJGZhjGedo56cV2ngfTbjSPBGl2N6uyeKAeYn90nnH61pWuj6ZYzGWy060t5D1eGBUJ/ECrlAHJ6n8MfCOrXzXd3pKiZzucwyvGGPuFIFb+k6Np+h2K2ekWkdrApzsjHU+pPUn3NXaKACqFtomn2msXeqW9vsvbxVWeXex3henBOB+Aq/RQBRsdF0/Tb+9vLK38u4v3Elw+9jvYDAOCcD8MUmm6Jp+jyXb6db+S15MZ5zvZt7nqeScfQcVfooAo32i6fqV/ZXl7b+ZcWDmS3few2MRgnAOD+Oafqel2Os2L2eqWsd1bv96OQZH19j7irdFAHI2Hwt8H6derdQaQrSIcoJpXkVT/usSD+NdNfafaanYyWeoW8dxbSja8Ui5BFWKKAOT0z4Y+EtJ1AXtnpQ85TlDJK7hPcBiRn3ra03w/pmkaTJpmnW3k2chctH5jNnd97kknn61pUUAVNK0qz0XTYdP0yHyLWEERx7i20Zz1JJ71boooAoXmiafqGpWV/eW/mXVixa3k3sNhIweAcH8c1foooA5bWPhv4V1y+a8v8ASl+0Ocu8Ujx7z7hSAT79a2dG0HS/D1l9l0ayjtIc5IQZLH1JPJP1rQooA4TxH4g8K3PiCTRPGulrbrGoNtd3sY2S567HH3fzFc7r1x4c1SLT/CvgG3hmke+inna0jOyNFPLM/f8AM16vdWdrfQ+Ve20NxHnOyaMOPyNNtLCz0+Mx2FpBaoeqwxhAfwFAEGpaJp+rvaPqNv5zWUwngO9l2OOh4Iz9DxV+iigDnNd8A+GvEl19p1XTEe4xgzRu0bN9dpGfxq7oPhfRvDMDRaJYR2of77Almb6sSSfzrWooAwfEHgnw/wCJ5Fl1nTkmmUYEysyPj0ypGfxp3h/wboPhcu2i6ekEjjDSli7kem5iTj2FblFAGL4g8H6F4oCf23p6XDxjCSBijqPTcpBx7VFoHgfw94YmabR9OSGdhgzO7O+PQFicfhW/RQBRk0XT5dci1h7fN/DEYUm3twh6jGcfpTdZ0HS/ENl9k1myju4c5AfgqfUEcg/StCigDmdE+Hfhfw/ei803S0W5X7sssjSFPpuJwfcc1savo1hrtiLPVYPPgEiyBN7L8ynIOVINXqKAADAAHQVQ0rRNP0SOdNMt/IW4maeUb2bc7dTyTj6Dir9FABXIeJNLubPxhpHibTbeS4MebS9jiTcxhbowA5O08119FAFC90XT9SvrK9vbfzLixcyWz72XYxGCcA4P45qTU9KsdasHstVtY7q3f70cgyPqPQ+4q3RQBzGkfDnwtod09xp+lqszKVDySu5UEYONxOOO45rb0vSrPRdMi0/TIfJtYQRHHuLYBOepJPerlFAFHSdFsNCtHttKg8iF5GlZd7Nlm5JyxNXqKKACs2/8PaXqmqWWo39os13YsWt5CzDYT7A4P45rSooAq6nplprGmzWGpQie1nXbJGWIyPqMEfhTrCxttMsIbKxiENvAgSOMEnao7c81YooAxNf8H6F4nCf23p8dw8YwkgYo6j03KQce1M0DwR4e8MSNLo2mpDMwwZmZnfHoCxOPwreooAoz6Lp9zrVtq09vuvrVGjhl3sNqt1GAcH8RWB4y8RaNplxa6d4p0tptLuwd13LCJIY37Ajkg+/b+XW0yWKOeJo541kjYYZHXIP4UAeU67qXgXTvDN/pvg6G1uNT1SE28Udihkdt3HLc4A64z+FdzpnhqCXwDY6BrcPnxraRxTxhiuSoHGVIPUetatppOm6e5ew0+1tmbq0MKoT+Qq3QAyGFLeCOGFdscahFGc4AGBVSx0XT9Nv728srfy7i/cSXD72O9gMA4JwPwxV6igDB1/wT4e8TyLLrOnJNMowJlZkfHplSM/jT9A8H6D4Y3nRdPjt3cYaUku5HpuYk49q26KAKOr6Jp2v2DWesWkd1AxztcdD6gjkH3FY2lfDrwvovn/YdLVWuI2id3ld22EYIBJ+Xj0wa6eigDGvUHhvwlJDoVjLL9lg8u1tog0jE9FHOTjPc1F4L0BvDnha2spjvumzNcv8A3pGOW/w/Ct6igAooooAKKKKACiiigAooooAKKKKACiiigAooooAKKKKACiiigAooooAKKKKACiiigAooooAKKKKACiiigAooooAKKKKACiiigAooooAKKKKACiiigAooooAKKKKACiiigAooooAKKKKACiiigAooooAKKKKACiiigAooooAKKKKACiiigAooooAKKKKACiiigAooooAKKKKACiiigAooooAKKKKACiiigAooooAKKKKACiiigAooooAKKKKACiiigAooooAKKKKACiiigAooooAKKKKACiiigAooooAKKKKACiiigAooooAKKKKACiiigAooooAKKKKACiiigAooooAKKKKACiiigAooooAKKKKACiiigAooooAKKKKACiiigAooooAKKKKACiiigAooooAKKKKACiiigAooooAKKKKACiiigAooooAKKKKACiiigAooooAKKKKACiiigAooooAKKKKACiiigAooooAKKKKACiiigAooooAKKKKACiiigAooooAKKKKACiiigAooooAKKKKACiiigAooooAKKKKACiiigAooooAKKKKACiiigAooooAKKKKACiiigAooooAKKKKACiiigAooooAKKKKACiiigAooooAKKKKACiiigAooooAKKKKACiiigAooooAKKKKACiiigAooooAKKKKACiiigAooooAKKKKACiiigAooooAKKKKACiiigAooooAKKKKACiiigAooooAKKKKACiiigAooooAKKKKACiiigAooooAKKKKACiiigAooooAKKKKACiiigAooooAKKKKACiiigAooooAKKKKACiiigAooooAKKKKACiiigAooooAKKKKACiiigAooooAKKKKACiiigAyPWjI9ai+zRf3f1NH2aL+7+poAlyPWjI9ai+zRf3f1NH2aL+7+poAlyPWjI9ai+zRf3f1NH2aL+7+poAlyPWjI9ai+zRf3f1NH2aL+7+poAlyPWjI9ai+zRf3f1NH2aL+7+poAlyPWjI9ai+zRf3f1NH2aL+7+poAlyPWjI9ai+zRf3f1NH2aL+7+poAlyPWjI9ai+zRf3f1NH2aL+7+poAlyPWjI9ai+zRf3f1NH2aL+7+poAlyPWjI9ai+zRf3f1NH2aL+7+poAlyPWjI9ai+zRf3f1NH2aL+7+poAlyPWjI9ai+zRf3f1NH2aL+7+poAlyPWjI9ai+zRf3f1NH2aL+7+poAlyPWjI9ai+zRf3f1NH2aL+7+poAlyPWjI9ai+zRf3f1NH2aL+7+poAlyPWjI9ai+zRf3f1NH2aL+7+poAlyPWjI9ai+zRf3f1NH2aL+7+poAlyPWjI9ai+zRf3f1NH2aL+7+poAlyPWjI9ai+zRf3f1NH2aL+7+poAlyPWjI9ai+zRf3f1NH2aL+7+poAlyPWjI9ai+zRf3f1NH2aL+7+poAlyPWjI9ai+zRf3f1NH2aL+7+poAlyPWjI9ai+zRf3f1NH2aL+7+poAlyPWjI9ai+zRf3f1NH2aL+7+poAlyPWjI9ai+zRf3f1NH2aL+7+poAlyPWjI9ai+zRf3f1NH2aL+7+poAlyPWjI9ai+zRf3f1NH2aL+7+poAlyPWjI9ai+zRf3f1NH2aL+7+poAlyPWjI9ai+zRf3f1NH2aL+7+poAlyPWjI9ai+zRf3f1NH2aL+7+poAlyPWjI9ai+zRf3f1NH2aL+7+poAlyPWjI9ai+zRf3f1NH2aL+7+poAlyPWjI9ai+zRf3f1NH2aL+7+poAlyPWjI9ai+zRf3f1NH2aL+7+poAlyPWjI9ai+zRf3f1NH2aL+7+poAlyPWjI9ai+zRf3f1NH2aL+7+poAlyPWjI9ai+zRf3f1NH2aL+7+poAlyPWjI9ai+zRf3f1NH2aL+7+poAlyPWjI9ai+zRf3f1NH2aL+7+poAlyPWjI9ai+zRf3f1NH2aL+7+poAlyPWjI9ai+zRf3f1NH2aL+7+poAlyPWjI9ai+zRf3f1NH2aL+7+poAlyPWjI9ai+zRf3f1NH2aL+7+poAlyPWjI9ai+zRf3f1NH2aL+7+poAlyPWjI9ai+zRf3f1NH2aL+7+poAlyPWjI9ai+zRf3f1NH2aL+7+poAlyPWjI9ai+zRf3f1NH2aL+7+poAlyPWjI9ai+zRf3f1NH2aL+7+poAlyPWjI9ai+zRf3f1NH2aL+7+poAlyPWjI9ai+zRf3f1NH2aL+7+poAlyPWjI9ai+zRf3f1NH2aL+7+poAlyPWjI9ai+zRf3f1NH2aL+7+poAlyPWjI9ai+zRf3f1NH2aL+7+poAlyPWjI9ai+zRf3f1NH2aL+7+poAlyPWjI9ai+zRf3f1NH2aL+7+poAlyPWjI9ai+zRf3f1NH2aL+7+poAlyPWjI9ai+zRf3f1NH2aL+7+poAlyPWjI9ai+zRf3f1NH2aL+7+poAlyPWjI9ai+zRf3f1NH2aL+7+poAlyPWjI9ai+zRf3f1NH2aL+7+poAlyPWjI9ai+zRf3f1NH2aL+7+poAlyPWjI9ai+zRf3f1NH2aL+7+poAlyPWjI9ai+zRf3f1NH2aL+7+poAlyPWjI9ai+zRf3f1NH2aL+7+poAlyPWjI9ai+zRf3f1NH2aL+7+poAlyPWjI9ai+zRf3f1NH2aL+7+poAlyPWjI9ai+zRf3f1NH2aL+7+poAlyPWjI9ai+zRf3f1NH2aL+7+poAlyPWjI9ai+zRf3f1NH2aL+7+poAlyPWjI9ai+zRf3f1NH2aL+7+poAlyPWjI9ai+zRf3f1NH2aL+7+poAlyPWjI9ai+zRf3f1NH2aL+7+poAlyPWjI9ai+zRf3f1NH2aL+7+poAlyPWjI9ai+zRf3f1NH2aL+7+poAlyPWjI9ai+zRf3f1NH2aL+7+poAlyPWjI9ai+zRf3f1NH2aL+7+poAlyPWjI9ai+zRf3f1NH2aL+7+poAlyPWjI9ai+zRf3f1NH2aL+7+poAlyPWjI9ai+zRf3f1NH2aL+7+poAlyPWjI9ai+zRf3f1NH2aL+7+poAlyPWjI9ai+zRf3f1NH2aL+7+poAlyPWjI9ai+zRf3f1NH2aL+7+poAlyPWjI9ai+zRf3f1NH2aL+7+poAlyPWjI9ai+zRf3f1NH2aL+7+poAlyPWjI9ai+zRf3f1NH2aL+7+poAlyPWjI9ai+zRf3f1NH2aL+7+poAlyPWjI9ai+zRf3f1NH2aL+7+poAlyPWjI9ai+zRf3f1NH2aL+7+poAlyPWjI9ai+zRf3f1NH2aL+7+poAlyPWjI9ai+zRf3f1NH2aL+7+poAlyPWjI9ai+zRf3f1NH2aL+7+poAlyPWjI9ai+zRf3f1NH2aL+7+poAlyPWjI9ai+zRf3f1NH2aL+7+poAlyPWjI9ai+zRf3f1NH2aL+7+poAlyPWjI9ai+zRf3f1NH2aL+7+poAlyPWjI9ai+zRf3f1NH2aL+7+poAlyPWjI9ai+zRf3f1NH2aL+7+poAlyPWjI9ai+zRf3f1NH2aL+7+poAlyPWjI9ai+zRf3f1NH2aL+7+poAlyPWjI9ai+zRf3f1NH2aL+7+poAlyPWjI9ai+zRf3f1NH2aL+7+poAlyPWjI9ai+zRf3f1NH2aL+7+poAlyPWjI9ai+zRf3f1NH2aL+7+poAlyPWjI9ai+zRf3f1NH2aL+7+poAlyPWjI9ai+zRf3f1NH2aL+7+poAlyPWjI9ai+zRf3f1NH2aL+7+poAlyPWjI9ai+zRf3f1NH2aL+7+poAlyPWiovs0X939TRQBLRRRQAUUUUAFFFFABRRRQAUUUUAFFFFABRRRQAUUUUAFFFFABRRRQAUUUUAFFFFABRRRQAUUUUAFFFFABRRRQAUUUUAFFFFABRRRQAUUUUAFFFFABRRRQAUUUUAFFFFABRRRQAUUUUAFFFFABRRRQAUUUUAFFFFABRRRQAUUUUAFFFFABRRRQAUUUUAFFFFABRRRQAUUUUAFFFFABRRRQAUUUUAFFFFABRRRQAUUUUAFFFFABRRRQAUUUUAFFFFABRRRQAUUUUAFFFFABRRRQAUUUUAFFFFABRRRQAUUUUAFFFFABRRRQAUUUUAFFFFABRRRQAUUUUAFFFFABRRRQAUUUUAFFFFABRRRQAUUUUAFFFFABRRRQAUUUUAFFFFABRRRQAUUUUAFFFFABRRRQAUUUUAFFFFABRRRQAUUUUAFFFFABRRRQAUUUUAFFFFABRRRQAUUUUAFFFFABRRRQAUUUUAFFFFABRRRQAUUUUAFFFFABRRRQAUUUUAFFFFABRRRQAUUUUAFFFFABRRRQAUUUUAFFFFABRRRQAUUUUAFFFFABRRRQAUUUUAFFFFAH/9k=)"
      ]
    },
    {
      "cell_type": "markdown",
      "metadata": {
        "id": "EO5TZriLXHaT"
      },
      "source": [
        "### Часть 3."
      ]
    },
    {
      "cell_type": "markdown",
      "source": [
        "**Будем использовать дистилированный BERT с заменой последнего слоя (классификации) на полносвязный с одним выходом**"
      ],
      "metadata": {
        "id": "POaW_-Jl1iNW"
      }
    },
    {
      "cell_type": "code",
      "execution_count": null,
      "metadata": {
        "id": "89Y9wsViXHaU"
      },
      "outputs": [],
      "source": [
        "import torch\n",
        "from torch import nn\n",
        "\n",
        "from torch.utils.data import TensorDataset, DataLoader\n",
        "from IPython.display import clear_output"
      ]
    },
    {
      "cell_type": "code",
      "source": [
        "!pip install --upgrade transformers"
      ],
      "metadata": {
        "id": "IOCA9iNhosAo"
      },
      "execution_count": null,
      "outputs": []
    },
    {
      "cell_type": "code",
      "source": [
        "from transformers import AutoTokenizer\n",
        "from transformers import AutoModelForSequenceClassification\n",
        "from transformers import get_linear_schedule_with_warmup\n",
        "from torch.optim import AdamW\n",
        "from torch.nn.utils.clip_grad import clip_grad_norm\n",
        "from sklearn.metrics import mean_absolute_error"
      ],
      "metadata": {
        "id": "C-MBTsVaoOrg"
      },
      "execution_count": null,
      "outputs": []
    },
    {
      "cell_type": "code",
      "source": [
        "if torch.cuda.is_available():       \n",
        "    device = torch.device(\"cuda\")\n",
        "    print(\"Using GPU.\")\n",
        "else:\n",
        "    device = torch.device(\"cpu\")\n",
        "    print(\"Sadly, using CPU.\")"
      ],
      "metadata": {
        "colab": {
          "base_uri": "https://localhost:8080/"
        },
        "id": "Q96pthelC7Ak",
        "outputId": "90e9c1ab-d23c-4394-c270-8a4b200abe6a"
      },
      "execution_count": null,
      "outputs": [
        {
          "output_type": "stream",
          "name": "stdout",
          "text": [
            "Using GPU.\n"
          ]
        }
      ]
    },
    {
      "cell_type": "code",
      "source": [
        "def trans_process_text(text):\n",
        "    return ' '.join(word for word in word_tokenize(text.lower()) if word not in string.punctuation)\n",
        "\n",
        "PATH_TO_TRAIN_DATA = '/content/drive/MyDrive/Intro to DL (домашки Маши Тимониной)/Intro to DL HW3/train.csv'\n",
        "df = pd.read_csv(PATH_TO_TRAIN_DATA)\n",
        "df['negative'] = df['negative'].replace('No Negative', '').apply(trans_process_text)\n",
        "df['positive'] = df['positive'].replace('No Positive', '').apply(trans_process_text)"
      ],
      "metadata": {
        "id": "m23SG3jEvlJs"
      },
      "execution_count": null,
      "outputs": []
    },
    {
      "cell_type": "code",
      "source": [
        "# Tokenization\n",
        "tokenizer = AutoTokenizer.from_pretrained(\"distilbert-base-uncased\")\n",
        "# artirle: DistilBERT, a distilled version of BERT: smaller, faster, cheaper and lighter (https://arxiv.org/abs/1910.01108)\n",
        "pos_corpus = tokenizer(text=df['positive'].tolist(),\n",
        "                       add_special_tokens=True,\n",
        "                       padding='max_length',\n",
        "                       truncation='longest_first',\n",
        "                       max_length=100,\n",
        "                       return_attention_mask=True)\n",
        "\n",
        "neg_corpus = tokenizer(text=df['negative'].tolist(),\n",
        "                       add_special_tokens=True,\n",
        "                       padding='max_length',\n",
        "                       truncation='longest_first',\n",
        "                       max_length=100,\n",
        "                       return_attention_mask=True)\n",
        "\n",
        "input_ids = np.hstack([np.array(pos_corpus['input_ids']),\n",
        "                       np.array(neg_corpus['input_ids'])])\n",
        "\n",
        "att_mask = np.hstack([np.array(pos_corpus['attention_mask']),\n",
        "                      np.array(neg_corpus['attention_mask'])])\n",
        "\n",
        "y = df['score'].to_numpy()"
      ],
      "metadata": {
        "id": "dHa8PCjroOvz",
        "colab": {
          "base_uri": "https://localhost:8080/",
          "height": 145,
          "referenced_widgets": [
            "fd2795fa9d5641dcabc47b1fbc5b875b",
            "172aaa0aa17a4688b0b4f2fdb2f2d8db",
            "9036f9d3c9c34abc8a51403557da23e9",
            "1c972f7cc38140a3827d51ca57a6b695",
            "208b5830f2e44867bc3583af1cddf2af",
            "4c442e677c6d488a85f4dd7b822a4ff6",
            "7f3f14ba787741d797e4d75f2d7d717a",
            "d61d581f5a33452fba090e41f6371b47",
            "f109ffb347224b2893cb78de6c7f1aa2",
            "5546c7736cb344fcae735b2d90c2cf2a",
            "ede819cf59f541ea80a1551eb7a273e5",
            "7b10dab2e0cd40b2b7af13391f7e5e01",
            "49c677eb43664407b41560515c66dfb8",
            "08455f981d1e414ab60351161e1c3f04",
            "b2fd7f3f7ad8408ca9234e8ac1f800f0",
            "364f9b715c0b46c4a5f035d220f20816",
            "8c2f260db39a48028d84cd22b87e8f38",
            "7c7d0455dce045d591fa49fd7673e227",
            "5662a3bebab844e8a0d538adc832ddc4",
            "d2ab782fda94424281fa7fb902311d37",
            "50e82b192a6d4c05a4accc25eb62ceba",
            "8e9d56ba92494a3d8d44ded06f206318",
            "3d7a21b1d4ab4403ae33ae199cd54a1f",
            "d7d4f69fcfa945b1803ee22126331cc7",
            "1f659000de404276a0b6693e7b295764",
            "1b16d24a9a654b23b61c6b578bb6b0a8",
            "e4081b6ab4dc4ca9be0028acaddf0d87",
            "75f6a388a55d4de9964a1a9d908f313f",
            "5e9b53e75cd24c6a8e500389097c0a01",
            "849ae226c341469f903c99afbbb42d18",
            "9b7af706c9584673b64d5ed27ea01afe",
            "fb82599ae0114d9589e37017943f7b91",
            "165fb323c1d54a77aa9773a29be8e482",
            "99126bf3ade246e98e75abb0cce3c222",
            "1c12e709e97a4b0995910e5ae2ace300",
            "ae1ced527c334596a058b81b49639e10",
            "145bd6e854b7446a8454104e814d9de7",
            "9ca37c33b948440296d26984afb586bc",
            "941dcdd63f6a4cbfb8ac1b4ce45ac8b9",
            "07f549448dc14945b474be046c57a158",
            "61f7bc6071054f1484c8c472e96c7b3e",
            "13ad886c2e4d412992fc3070d193db0b",
            "6a01994a165243f68f17f40378c40db1",
            "71395023bc7e47bcb6312fd7ca05f397"
          ]
        },
        "outputId": "47907ca0-d411-4d07-c49b-54d6ff541ffd"
      },
      "execution_count": null,
      "outputs": [
        {
          "output_type": "display_data",
          "data": {
            "application/vnd.jupyter.widget-view+json": {
              "model_id": "fd2795fa9d5641dcabc47b1fbc5b875b",
              "version_minor": 0,
              "version_major": 2
            },
            "text/plain": [
              "Downloading:   0%|          | 0.00/28.0 [00:00<?, ?B/s]"
            ]
          },
          "metadata": {}
        },
        {
          "output_type": "display_data",
          "data": {
            "application/vnd.jupyter.widget-view+json": {
              "model_id": "7b10dab2e0cd40b2b7af13391f7e5e01",
              "version_minor": 0,
              "version_major": 2
            },
            "text/plain": [
              "Downloading:   0%|          | 0.00/483 [00:00<?, ?B/s]"
            ]
          },
          "metadata": {}
        },
        {
          "output_type": "display_data",
          "data": {
            "application/vnd.jupyter.widget-view+json": {
              "model_id": "3d7a21b1d4ab4403ae33ae199cd54a1f",
              "version_minor": 0,
              "version_major": 2
            },
            "text/plain": [
              "Downloading:   0%|          | 0.00/226k [00:00<?, ?B/s]"
            ]
          },
          "metadata": {}
        },
        {
          "output_type": "display_data",
          "data": {
            "application/vnd.jupyter.widget-view+json": {
              "model_id": "99126bf3ade246e98e75abb0cce3c222",
              "version_minor": 0,
              "version_major": 2
            },
            "text/plain": [
              "Downloading:   0%|          | 0.00/455k [00:00<?, ?B/s]"
            ]
          },
          "metadata": {}
        }
      ]
    },
    {
      "cell_type": "code",
      "source": [
        "from sklearn.preprocessing import StandardScaler\n",
        "\n",
        "input_train, input_test, y_train, y_test = train_test_split(input_ids, y, random_state=1412)\n",
        "masks_train, masks_test, y_train, y_test = train_test_split(att_mask, y, random_state=1412)\n",
        "\n",
        "target_scaler = StandardScaler()\n",
        "target_scaler.fit(y_train.reshape(-1, 1))\n",
        "y_train = target_scaler.transform(y_train.reshape(-1, 1))\n",
        "y_test = target_scaler.transform(y_test.reshape(-1, 1))"
      ],
      "metadata": {
        "id": "jVzfpkeyAEyv"
      },
      "execution_count": null,
      "outputs": []
    },
    {
      "cell_type": "code",
      "source": [
        "def creating_dataloader(inputs, masks, labels, batch_size, need_shuffling=False):\n",
        "    dataset = TensorDataset(torch.tensor(inputs), \n",
        "                            torch.tensor(masks),\n",
        "                            torch.tensor(labels))\n",
        "    return DataLoader(dataset, batch_size=batch_size, shuffle=need_shuffling)\n",
        "\n",
        "batch_size = 32\n",
        "train_dataloader = creating_dataloader(input_train, masks_train, \n",
        "                                       y_train, batch_size, need_shuffling=True)\n",
        "val_dataloader = creating_dataloader(input_test, masks_test, y_test, batch_size)"
      ],
      "metadata": {
        "id": "OD_GcsX9Go5_"
      },
      "execution_count": null,
      "outputs": []
    },
    {
      "cell_type": "code",
      "source": [
        "class EngBERTRegressor(nn.Module):\n",
        "    def __init__(self):\n",
        "        super(EngBERTRegressor, self).__init__()\n",
        "        self.engbert = AutoModelForSequenceClassification.from_pretrained( \\\n",
        "                                                          \"distilbert-base-uncased\")\n",
        "        self.engbert.classifier = nn.Linear(768, 1)\n",
        "\n",
        "    def forward(self, input_ids, att_masks):\n",
        "        # https://huggingface.co/transformers/v3.0.2/model_doc/auto.html#automodelforsequenceclassification\n",
        "        return self.engbert(input_ids, att_masks)[0]\n"
      ],
      "metadata": {
        "id": "UHL5DqYH64On"
      },
      "execution_count": null,
      "outputs": []
    },
    {
      "cell_type": "code",
      "source": [
        "model = EngBERTRegressor()\n",
        "model.to(device)"
      ],
      "metadata": {
        "colab": {
          "base_uri": "https://localhost:8080/",
          "height": 1000,
          "referenced_widgets": [
            "5cb9302db5b947d0aa2ff7e260512621",
            "4a8a548853c44465b08948b32740329d",
            "646435516f634cb4ad24165b3aa6cfb8",
            "b6db1224b7a84bc3ad70d95ae8c5fc32",
            "44aebb1abefb473096cea36dd6b57a9f",
            "565d1ec4d1c94b34b08baf3a8f43df2c",
            "acb994fb2be941918a1018cc6a3da804",
            "f83ece216ff04e48aff979c80e280608",
            "8e29467a4aa3415ba1ad712f587664ac",
            "d84aed30933e4f50a870a7f04b401837",
            "62c7d628b43f47079c15f765b342d152"
          ]
        },
        "id": "rm9BO8nOef0r",
        "outputId": "9b8d913d-791f-46c7-ea72-9e3381eec2ad"
      },
      "execution_count": null,
      "outputs": [
        {
          "output_type": "display_data",
          "data": {
            "application/vnd.jupyter.widget-view+json": {
              "model_id": "5cb9302db5b947d0aa2ff7e260512621",
              "version_minor": 0,
              "version_major": 2
            },
            "text/plain": [
              "Downloading:   0%|          | 0.00/256M [00:00<?, ?B/s]"
            ]
          },
          "metadata": {}
        },
        {
          "output_type": "stream",
          "name": "stderr",
          "text": [
            "Some weights of the model checkpoint at distilbert-base-uncased were not used when initializing DistilBertForSequenceClassification: ['vocab_projector.bias', 'vocab_transform.weight', 'vocab_transform.bias', 'vocab_layer_norm.bias', 'vocab_projector.weight', 'vocab_layer_norm.weight']\n",
            "- This IS expected if you are initializing DistilBertForSequenceClassification from the checkpoint of a model trained on another task or with another architecture (e.g. initializing a BertForSequenceClassification model from a BertForPreTraining model).\n",
            "- This IS NOT expected if you are initializing DistilBertForSequenceClassification from the checkpoint of a model that you expect to be exactly identical (initializing a BertForSequenceClassification model from a BertForSequenceClassification model).\n",
            "Some weights of DistilBertForSequenceClassification were not initialized from the model checkpoint at distilbert-base-uncased and are newly initialized: ['classifier.bias', 'classifier.weight', 'pre_classifier.bias', 'pre_classifier.weight']\n",
            "You should probably TRAIN this model on a down-stream task to be able to use it for predictions and inference.\n"
          ]
        },
        {
          "output_type": "execute_result",
          "data": {
            "text/plain": [
              "EngBERTRegressor(\n",
              "  (engbert): DistilBertForSequenceClassification(\n",
              "    (distilbert): DistilBertModel(\n",
              "      (embeddings): Embeddings(\n",
              "        (word_embeddings): Embedding(30522, 768, padding_idx=0)\n",
              "        (position_embeddings): Embedding(512, 768)\n",
              "        (LayerNorm): LayerNorm((768,), eps=1e-12, elementwise_affine=True)\n",
              "        (dropout): Dropout(p=0.1, inplace=False)\n",
              "      )\n",
              "      (transformer): Transformer(\n",
              "        (layer): ModuleList(\n",
              "          (0): TransformerBlock(\n",
              "            (attention): MultiHeadSelfAttention(\n",
              "              (dropout): Dropout(p=0.1, inplace=False)\n",
              "              (q_lin): Linear(in_features=768, out_features=768, bias=True)\n",
              "              (k_lin): Linear(in_features=768, out_features=768, bias=True)\n",
              "              (v_lin): Linear(in_features=768, out_features=768, bias=True)\n",
              "              (out_lin): Linear(in_features=768, out_features=768, bias=True)\n",
              "            )\n",
              "            (sa_layer_norm): LayerNorm((768,), eps=1e-12, elementwise_affine=True)\n",
              "            (ffn): FFN(\n",
              "              (dropout): Dropout(p=0.1, inplace=False)\n",
              "              (lin1): Linear(in_features=768, out_features=3072, bias=True)\n",
              "              (lin2): Linear(in_features=3072, out_features=768, bias=True)\n",
              "            )\n",
              "            (output_layer_norm): LayerNorm((768,), eps=1e-12, elementwise_affine=True)\n",
              "          )\n",
              "          (1): TransformerBlock(\n",
              "            (attention): MultiHeadSelfAttention(\n",
              "              (dropout): Dropout(p=0.1, inplace=False)\n",
              "              (q_lin): Linear(in_features=768, out_features=768, bias=True)\n",
              "              (k_lin): Linear(in_features=768, out_features=768, bias=True)\n",
              "              (v_lin): Linear(in_features=768, out_features=768, bias=True)\n",
              "              (out_lin): Linear(in_features=768, out_features=768, bias=True)\n",
              "            )\n",
              "            (sa_layer_norm): LayerNorm((768,), eps=1e-12, elementwise_affine=True)\n",
              "            (ffn): FFN(\n",
              "              (dropout): Dropout(p=0.1, inplace=False)\n",
              "              (lin1): Linear(in_features=768, out_features=3072, bias=True)\n",
              "              (lin2): Linear(in_features=3072, out_features=768, bias=True)\n",
              "            )\n",
              "            (output_layer_norm): LayerNorm((768,), eps=1e-12, elementwise_affine=True)\n",
              "          )\n",
              "          (2): TransformerBlock(\n",
              "            (attention): MultiHeadSelfAttention(\n",
              "              (dropout): Dropout(p=0.1, inplace=False)\n",
              "              (q_lin): Linear(in_features=768, out_features=768, bias=True)\n",
              "              (k_lin): Linear(in_features=768, out_features=768, bias=True)\n",
              "              (v_lin): Linear(in_features=768, out_features=768, bias=True)\n",
              "              (out_lin): Linear(in_features=768, out_features=768, bias=True)\n",
              "            )\n",
              "            (sa_layer_norm): LayerNorm((768,), eps=1e-12, elementwise_affine=True)\n",
              "            (ffn): FFN(\n",
              "              (dropout): Dropout(p=0.1, inplace=False)\n",
              "              (lin1): Linear(in_features=768, out_features=3072, bias=True)\n",
              "              (lin2): Linear(in_features=3072, out_features=768, bias=True)\n",
              "            )\n",
              "            (output_layer_norm): LayerNorm((768,), eps=1e-12, elementwise_affine=True)\n",
              "          )\n",
              "          (3): TransformerBlock(\n",
              "            (attention): MultiHeadSelfAttention(\n",
              "              (dropout): Dropout(p=0.1, inplace=False)\n",
              "              (q_lin): Linear(in_features=768, out_features=768, bias=True)\n",
              "              (k_lin): Linear(in_features=768, out_features=768, bias=True)\n",
              "              (v_lin): Linear(in_features=768, out_features=768, bias=True)\n",
              "              (out_lin): Linear(in_features=768, out_features=768, bias=True)\n",
              "            )\n",
              "            (sa_layer_norm): LayerNorm((768,), eps=1e-12, elementwise_affine=True)\n",
              "            (ffn): FFN(\n",
              "              (dropout): Dropout(p=0.1, inplace=False)\n",
              "              (lin1): Linear(in_features=768, out_features=3072, bias=True)\n",
              "              (lin2): Linear(in_features=3072, out_features=768, bias=True)\n",
              "            )\n",
              "            (output_layer_norm): LayerNorm((768,), eps=1e-12, elementwise_affine=True)\n",
              "          )\n",
              "          (4): TransformerBlock(\n",
              "            (attention): MultiHeadSelfAttention(\n",
              "              (dropout): Dropout(p=0.1, inplace=False)\n",
              "              (q_lin): Linear(in_features=768, out_features=768, bias=True)\n",
              "              (k_lin): Linear(in_features=768, out_features=768, bias=True)\n",
              "              (v_lin): Linear(in_features=768, out_features=768, bias=True)\n",
              "              (out_lin): Linear(in_features=768, out_features=768, bias=True)\n",
              "            )\n",
              "            (sa_layer_norm): LayerNorm((768,), eps=1e-12, elementwise_affine=True)\n",
              "            (ffn): FFN(\n",
              "              (dropout): Dropout(p=0.1, inplace=False)\n",
              "              (lin1): Linear(in_features=768, out_features=3072, bias=True)\n",
              "              (lin2): Linear(in_features=3072, out_features=768, bias=True)\n",
              "            )\n",
              "            (output_layer_norm): LayerNorm((768,), eps=1e-12, elementwise_affine=True)\n",
              "          )\n",
              "          (5): TransformerBlock(\n",
              "            (attention): MultiHeadSelfAttention(\n",
              "              (dropout): Dropout(p=0.1, inplace=False)\n",
              "              (q_lin): Linear(in_features=768, out_features=768, bias=True)\n",
              "              (k_lin): Linear(in_features=768, out_features=768, bias=True)\n",
              "              (v_lin): Linear(in_features=768, out_features=768, bias=True)\n",
              "              (out_lin): Linear(in_features=768, out_features=768, bias=True)\n",
              "            )\n",
              "            (sa_layer_norm): LayerNorm((768,), eps=1e-12, elementwise_affine=True)\n",
              "            (ffn): FFN(\n",
              "              (dropout): Dropout(p=0.1, inplace=False)\n",
              "              (lin1): Linear(in_features=768, out_features=3072, bias=True)\n",
              "              (lin2): Linear(in_features=3072, out_features=768, bias=True)\n",
              "            )\n",
              "            (output_layer_norm): LayerNorm((768,), eps=1e-12, elementwise_affine=True)\n",
              "          )\n",
              "        )\n",
              "      )\n",
              "    )\n",
              "    (pre_classifier): Linear(in_features=768, out_features=768, bias=True)\n",
              "    (classifier): Linear(in_features=768, out_features=1, bias=True)\n",
              "    (dropout): Dropout(p=0.2, inplace=False)\n",
              "  )\n",
              ")"
            ]
          },
          "metadata": {},
          "execution_count": 15
        }
      ]
    },
    {
      "cell_type": "code",
      "source": [
        "optimizer = AdamW(model.parameters(), lr=5e-5, eps=1e-8)\n",
        "epochs = 2\n",
        "criterion = nn.L1Loss(reduction='mean')\n",
        "total_steps = len(train_dataloader) * epochs\n",
        "scheduler = get_linear_schedule_with_warmup(optimizer,       \n",
        "                 num_warmup_steps=0, num_training_steps=total_steps)"
      ],
      "metadata": {
        "id": "SUJfZlZHtC5w"
      },
      "execution_count": null,
      "outputs": []
    },
    {
      "cell_type": "code",
      "source": [
        "from torch.nn.utils.clip_grad import clip_grad_norm\n",
        "\n",
        "def train_one_epoch(model, optimizer, criterion, train_dataloader, device, clip_value=2):\n",
        "    model.train()\n",
        "    for batch in tqdm(train_dataloader):  \n",
        "        batch_inputs, batch_masks, batch_labels = tuple(b.to(device) for b in batch)\n",
        "        model.zero_grad()\n",
        "        outputs = model(batch_inputs, batch_masks)           \n",
        "        loss = criterion(outputs.squeeze(), batch_labels.squeeze())\n",
        "        loss.backward()\n",
        "        clip_grad_norm(model.parameters(), clip_value)\n",
        "        optimizer.step()\n",
        "        scheduler.step()\n",
        "    return model\n",
        "\n",
        "\n",
        "def evaluate(model, val_dataloader, device):\n",
        "    model.eval()\n",
        "    output, true_output = [], []\n",
        "    for batch in tqdm(val_dataloader):\n",
        "        batch_inputs, batch_masks, batch_labels = tuple(b.to(device) for b in batch)\n",
        "        with torch.no_grad():\n",
        "            output += model(batch_inputs, batch_masks).view(1,-1).tolist()[0]\n",
        "        true_output += batch_labels\n",
        "    return mean_absolute_error(target_scaler.inverse_transform(np.array(output).reshape(-1, 1)), \n",
        "                               target_scaler.inverse_transform(np.array(true_output).reshape(-1, 1)))\n",
        "\n",
        "\n",
        "def train(model, optimizer, scheduler, criterion, n_epochs, \n",
        "          train_dataloader, val_dataloader, device, clip_value=2):\n",
        "    for epoch in range(1, n_epochs + 1):\n",
        "        print('Epoch ', epoch)\n",
        "        print(\"-----\")\n",
        "        train_one_epoch(model, optimizer, criterion, \n",
        "                        train_dataloader, device, clip_value)\n",
        "        mae = evaluate(model, val_dataloader, device)\n",
        "        print('Val MAE score after ', epoch, ': ', mae)\n",
        "                \n",
        "    return model\n",
        "\n",
        "\n",
        "def predict(model, dataloader, device):\n",
        "    model.eval()\n",
        "    output = []\n",
        "    for batch in tqdm(dataloader):\n",
        "        batch_inputs, batch_masks, _ = tuple(b.to(device) for b in batch)\n",
        "        with torch.no_grad():\n",
        "            output += model(batch_inputs, batch_masks).view(1,-1).tolist()[0]\n",
        "    return output"
      ],
      "metadata": {
        "id": "cD3l3waBDHVc"
      },
      "execution_count": null,
      "outputs": []
    },
    {
      "cell_type": "code",
      "source": [
        "model = train(model, optimizer, scheduler, criterion, epochs, \n",
        "              train_dataloader, val_dataloader, device, clip_value=2)"
      ],
      "metadata": {
        "colab": {
          "base_uri": "https://localhost:8080/",
          "height": 479
        },
        "id": "N-PUMlHMFHo7",
        "outputId": "8b9d19d7-5d14-45b3-f174-16015378ef8b"
      },
      "execution_count": null,
      "outputs": [
        {
          "output_type": "stream",
          "name": "stdout",
          "text": [
            "Epoch  1\n",
            "-----\n"
          ]
        },
        {
          "output_type": "stream",
          "name": "stderr",
          "text": [
            "100%|██████████| 2344/2344 [40:41<00:00,  1.04s/it]\n"
          ]
        },
        {
          "output_type": "stream",
          "name": "stdout",
          "text": [
            "Val MAE score after  1 :  0.7297784806206385\n",
            "Epoch  2\n",
            "-----\n"
          ]
        },
        {
          "output_type": "stream",
          "name": "stderr",
          "text": [
            "  1%|          | 22/2344 [00:23<42:05,  1.09s/it]\n"
          ]
        },
        {
          "output_type": "error",
          "ename": "KeyboardInterrupt",
          "evalue": "ignored",
          "traceback": [
            "\u001b[0;31m---------------------------------------------------------------------------\u001b[0m",
            "\u001b[0;31mKeyboardInterrupt\u001b[0m                         Traceback (most recent call last)",
            "\u001b[0;32m<ipython-input-18-c77814262f31>\u001b[0m in \u001b[0;36m<module>\u001b[0;34m()\u001b[0m\n\u001b[1;32m      1\u001b[0m model = train(model, optimizer, scheduler, criterion, epochs, \n\u001b[0;32m----> 2\u001b[0;31m               train_dataloader, val_dataloader, device, clip_value=2)\n\u001b[0m",
            "\u001b[0;32m<ipython-input-17-48ae222b18c4>\u001b[0m in \u001b[0;36mtrain\u001b[0;34m(model, optimizer, scheduler, criterion, n_epochs, train_dataloader, val_dataloader, device, clip_value)\u001b[0m\n\u001b[1;32m     32\u001b[0m         \u001b[0mprint\u001b[0m\u001b[0;34m(\u001b[0m\u001b[0;34m\"-----\"\u001b[0m\u001b[0;34m)\u001b[0m\u001b[0;34m\u001b[0m\u001b[0;34m\u001b[0m\u001b[0m\n\u001b[1;32m     33\u001b[0m         train_one_epoch(model, optimizer, criterion, \n\u001b[0;32m---> 34\u001b[0;31m                         train_dataloader, device, clip_value)\n\u001b[0m\u001b[1;32m     35\u001b[0m         \u001b[0mmae\u001b[0m \u001b[0;34m=\u001b[0m \u001b[0mevaluate\u001b[0m\u001b[0;34m(\u001b[0m\u001b[0mmodel\u001b[0m\u001b[0;34m,\u001b[0m \u001b[0mval_dataloader\u001b[0m\u001b[0;34m,\u001b[0m \u001b[0mdevice\u001b[0m\u001b[0;34m)\u001b[0m\u001b[0;34m\u001b[0m\u001b[0;34m\u001b[0m\u001b[0m\n\u001b[1;32m     36\u001b[0m         \u001b[0mprint\u001b[0m\u001b[0;34m(\u001b[0m\u001b[0;34m'Val MAE score after '\u001b[0m\u001b[0;34m,\u001b[0m \u001b[0mepoch\u001b[0m\u001b[0;34m,\u001b[0m \u001b[0;34m': '\u001b[0m\u001b[0;34m,\u001b[0m \u001b[0mmae\u001b[0m\u001b[0;34m)\u001b[0m\u001b[0;34m\u001b[0m\u001b[0;34m\u001b[0m\u001b[0m\n",
            "\u001b[0;32m<ipython-input-17-48ae222b18c4>\u001b[0m in \u001b[0;36mtrain_one_epoch\u001b[0;34m(model, optimizer, criterion, train_dataloader, device, clip_value)\u001b[0m\n\u001b[1;32m      8\u001b[0m         \u001b[0moutputs\u001b[0m \u001b[0;34m=\u001b[0m \u001b[0mmodel\u001b[0m\u001b[0;34m(\u001b[0m\u001b[0mbatch_inputs\u001b[0m\u001b[0;34m,\u001b[0m \u001b[0mbatch_masks\u001b[0m\u001b[0;34m)\u001b[0m\u001b[0;34m\u001b[0m\u001b[0;34m\u001b[0m\u001b[0m\n\u001b[1;32m      9\u001b[0m         \u001b[0mloss\u001b[0m \u001b[0;34m=\u001b[0m \u001b[0mcriterion\u001b[0m\u001b[0;34m(\u001b[0m\u001b[0moutputs\u001b[0m\u001b[0;34m.\u001b[0m\u001b[0msqueeze\u001b[0m\u001b[0;34m(\u001b[0m\u001b[0;34m)\u001b[0m\u001b[0;34m,\u001b[0m \u001b[0mbatch_labels\u001b[0m\u001b[0;34m.\u001b[0m\u001b[0msqueeze\u001b[0m\u001b[0;34m(\u001b[0m\u001b[0;34m)\u001b[0m\u001b[0;34m)\u001b[0m\u001b[0;34m\u001b[0m\u001b[0;34m\u001b[0m\u001b[0m\n\u001b[0;32m---> 10\u001b[0;31m         \u001b[0mloss\u001b[0m\u001b[0;34m.\u001b[0m\u001b[0mbackward\u001b[0m\u001b[0;34m(\u001b[0m\u001b[0;34m)\u001b[0m\u001b[0;34m\u001b[0m\u001b[0;34m\u001b[0m\u001b[0m\n\u001b[0m\u001b[1;32m     11\u001b[0m         \u001b[0mclip_grad_norm\u001b[0m\u001b[0;34m(\u001b[0m\u001b[0mmodel\u001b[0m\u001b[0;34m.\u001b[0m\u001b[0mparameters\u001b[0m\u001b[0;34m(\u001b[0m\u001b[0;34m)\u001b[0m\u001b[0;34m,\u001b[0m \u001b[0mclip_value\u001b[0m\u001b[0;34m)\u001b[0m\u001b[0;34m\u001b[0m\u001b[0;34m\u001b[0m\u001b[0m\n\u001b[1;32m     12\u001b[0m         \u001b[0moptimizer\u001b[0m\u001b[0;34m.\u001b[0m\u001b[0mstep\u001b[0m\u001b[0;34m(\u001b[0m\u001b[0;34m)\u001b[0m\u001b[0;34m\u001b[0m\u001b[0;34m\u001b[0m\u001b[0m\n",
            "\u001b[0;32m/usr/local/lib/python3.7/dist-packages/torch/_tensor.py\u001b[0m in \u001b[0;36mbackward\u001b[0;34m(self, gradient, retain_graph, create_graph, inputs)\u001b[0m\n\u001b[1;32m    305\u001b[0m                 \u001b[0mcreate_graph\u001b[0m\u001b[0;34m=\u001b[0m\u001b[0mcreate_graph\u001b[0m\u001b[0;34m,\u001b[0m\u001b[0;34m\u001b[0m\u001b[0;34m\u001b[0m\u001b[0m\n\u001b[1;32m    306\u001b[0m                 inputs=inputs)\n\u001b[0;32m--> 307\u001b[0;31m         \u001b[0mtorch\u001b[0m\u001b[0;34m.\u001b[0m\u001b[0mautograd\u001b[0m\u001b[0;34m.\u001b[0m\u001b[0mbackward\u001b[0m\u001b[0;34m(\u001b[0m\u001b[0mself\u001b[0m\u001b[0;34m,\u001b[0m \u001b[0mgradient\u001b[0m\u001b[0;34m,\u001b[0m \u001b[0mretain_graph\u001b[0m\u001b[0;34m,\u001b[0m \u001b[0mcreate_graph\u001b[0m\u001b[0;34m,\u001b[0m \u001b[0minputs\u001b[0m\u001b[0;34m=\u001b[0m\u001b[0minputs\u001b[0m\u001b[0;34m)\u001b[0m\u001b[0;34m\u001b[0m\u001b[0;34m\u001b[0m\u001b[0m\n\u001b[0m\u001b[1;32m    308\u001b[0m \u001b[0;34m\u001b[0m\u001b[0m\n\u001b[1;32m    309\u001b[0m     \u001b[0;32mdef\u001b[0m \u001b[0mregister_hook\u001b[0m\u001b[0;34m(\u001b[0m\u001b[0mself\u001b[0m\u001b[0;34m,\u001b[0m \u001b[0mhook\u001b[0m\u001b[0;34m)\u001b[0m\u001b[0;34m:\u001b[0m\u001b[0;34m\u001b[0m\u001b[0;34m\u001b[0m\u001b[0m\n",
            "\u001b[0;32m/usr/local/lib/python3.7/dist-packages/torch/autograd/__init__.py\u001b[0m in \u001b[0;36mbackward\u001b[0;34m(tensors, grad_tensors, retain_graph, create_graph, grad_variables, inputs)\u001b[0m\n\u001b[1;32m    154\u001b[0m     Variable._execution_engine.run_backward(\n\u001b[1;32m    155\u001b[0m         \u001b[0mtensors\u001b[0m\u001b[0;34m,\u001b[0m \u001b[0mgrad_tensors_\u001b[0m\u001b[0;34m,\u001b[0m \u001b[0mretain_graph\u001b[0m\u001b[0;34m,\u001b[0m \u001b[0mcreate_graph\u001b[0m\u001b[0;34m,\u001b[0m \u001b[0minputs\u001b[0m\u001b[0;34m,\u001b[0m\u001b[0;34m\u001b[0m\u001b[0;34m\u001b[0m\u001b[0m\n\u001b[0;32m--> 156\u001b[0;31m         allow_unreachable=True, accumulate_grad=True)  # allow_unreachable flag\n\u001b[0m\u001b[1;32m    157\u001b[0m \u001b[0;34m\u001b[0m\u001b[0m\n\u001b[1;32m    158\u001b[0m \u001b[0;34m\u001b[0m\u001b[0m\n",
            "\u001b[0;31mKeyboardInterrupt\u001b[0m: "
          ]
        }
      ]
    },
    {
      "cell_type": "code",
      "source": [
        "train_one_epoch(model, optimizer, criterion, train_dataloader, device, clip_value=2)"
      ],
      "metadata": {
        "colab": {
          "base_uri": "https://localhost:8080/"
        },
        "id": "ldcHSco0Hg66",
        "outputId": "6135529d-3fa4-41ac-d3ae-cbf88faed318"
      },
      "execution_count": null,
      "outputs": [
        {
          "output_type": "stream",
          "name": "stderr",
          "text": [
            "100%|██████████| 2344/2344 [40:40<00:00,  1.04s/it]\n"
          ]
        }
      ]
    },
    {
      "cell_type": "code",
      "source": [
        "mae = evaluate(model, val_dataloader, device)\n",
        "print('Val MAE score after Epoch 2', ': ', mae)"
      ],
      "metadata": {
        "colab": {
          "base_uri": "https://localhost:8080/"
        },
        "id": "omU1QkI7QRyp",
        "outputId": "9cedb75d-b2d2-4488-aad1-6b848bfd6490"
      },
      "execution_count": null,
      "outputs": [
        {
          "output_type": "stream",
          "name": "stderr",
          "text": [
            "100%|██████████| 782/782 [05:08<00:00,  2.53it/s]\n"
          ]
        },
        {
          "output_type": "stream",
          "name": "stdout",
          "text": [
            "Val MAE score after Epoch 2 :  0.7064046845937993\n"
          ]
        }
      ]
    },
    {
      "cell_type": "code",
      "source": [
        "model = train_one_epoch(model, optimizer, criterion, train_dataloader, device, clip_value=2)\n",
        "mae = evaluate(model, val_dataloader, device)\n",
        "print('Val MAE score after Epoch 3', ': ', mae)"
      ],
      "metadata": {
        "colab": {
          "base_uri": "https://localhost:8080/"
        },
        "id": "EEoK6p17UgBK",
        "outputId": "5af44c36-2083-4f7c-db6c-e13c4a98d964"
      },
      "execution_count": null,
      "outputs": [
        {
          "output_type": "stream",
          "name": "stderr",
          "text": [
            "100%|██████████| 2344/2344 [40:39<00:00,  1.04s/it]\n",
            "100%|██████████| 782/782 [05:08<00:00,  2.54it/s]\n"
          ]
        },
        {
          "output_type": "stream",
          "name": "stdout",
          "text": [
            "Val MAE score after Epoch 3 :  0.7064046845937993\n"
          ]
        }
      ]
    },
    {
      "cell_type": "code",
      "source": [
        "PATH_TO_TEST_DATA = '/content/drive/MyDrive/Intro to DL/test.csv'\n",
        "\n",
        "df_real_test = pd.read_csv(PATH_TO_TEST_DATA)\n",
        "df_real_test['negative'] = df_real_test['negative'].replace('No Negative', '').apply(trans_process_text)\n",
        "df_real_test['positive'] = df_real_test['positive'].replace('No Positive', '').apply(trans_process_text)\n",
        "df_real_test.head(10)"
      ],
      "metadata": {
        "colab": {
          "base_uri": "https://localhost:8080/",
          "height": 476
        },
        "outputId": "9179f3df-2d2f-4573-c06f-eff368b6a6af",
        "id": "dUUvSG5EC903"
      },
      "execution_count": null,
      "outputs": [
        {
          "output_type": "execute_result",
          "data": {
            "text/html": [
              "\n",
              "  <div id=\"df-afc618dd-c383-4fe7-bb54-6d63e34bf3b3\">\n",
              "    <div class=\"colab-df-container\">\n",
              "      <div>\n",
              "<style scoped>\n",
              "    .dataframe tbody tr th:only-of-type {\n",
              "        vertical-align: middle;\n",
              "    }\n",
              "\n",
              "    .dataframe tbody tr th {\n",
              "        vertical-align: top;\n",
              "    }\n",
              "\n",
              "    .dataframe thead th {\n",
              "        text-align: right;\n",
              "    }\n",
              "</style>\n",
              "<table border=\"1\" class=\"dataframe\">\n",
              "  <thead>\n",
              "    <tr style=\"text-align: right;\">\n",
              "      <th></th>\n",
              "      <th>review_id</th>\n",
              "      <th>negative</th>\n",
              "      <th>positive</th>\n",
              "    </tr>\n",
              "  </thead>\n",
              "  <tbody>\n",
              "    <tr>\n",
              "      <th>0</th>\n",
              "      <td>00026f564b258ad5159aab07c357c4ca</td>\n",
              "      <td>other than the location everything else was ho...</td>\n",
              "      <td>just the location</td>\n",
              "    </tr>\n",
              "    <tr>\n",
              "      <th>1</th>\n",
              "      <td>000278c73da08f4fcb857fcfe4ac6417</td>\n",
              "      <td>no uk tv but this was a minor point as we were...</td>\n",
              "      <td>great location very comfortable clean breakfas...</td>\n",
              "    </tr>\n",
              "    <tr>\n",
              "      <th>2</th>\n",
              "      <td>000404f843e756fe3b2a477dbefa5bd4</td>\n",
              "      <td>a tiny noisy room very deceptively photographed</td>\n",
              "      <td>the breakfast booked the preceding night but f...</td>\n",
              "    </tr>\n",
              "    <tr>\n",
              "      <th>3</th>\n",
              "      <td>000a66d32bcf305148d789ac156dd512</td>\n",
              "      <td>noisy various electrical devices kicking in ra...</td>\n",
              "      <td>great location nice bathroom</td>\n",
              "    </tr>\n",
              "    <tr>\n",
              "      <th>4</th>\n",
              "      <td>000bf1d8c5110701f459ffbedbf0d546</td>\n",
              "      <td></td>\n",
              "      <td>great location and friendly staff</td>\n",
              "    </tr>\n",
              "    <tr>\n",
              "      <th>5</th>\n",
              "      <td>000c36a6731f1e109864308a7a22be4d</td>\n",
              "      <td></td>\n",
              "      <td>the personnel was helpfull and cheerful the ro...</td>\n",
              "    </tr>\n",
              "    <tr>\n",
              "      <th>6</th>\n",
              "      <td>00142074a207aba53ddcc46985f8c0c3</td>\n",
              "      <td></td>\n",
              "      <td>standing global</td>\n",
              "    </tr>\n",
              "    <tr>\n",
              "      <th>7</th>\n",
              "      <td>0014e8ce0480a083abd0dca4f6d7aca7</td>\n",
              "      <td>n a</td>\n",
              "      <td>free upgrade in executive double room compleme...</td>\n",
              "    </tr>\n",
              "    <tr>\n",
              "      <th>8</th>\n",
              "      <td>0016fb343fddab24736d7e1d9823e9a5</td>\n",
              "      <td>staff in restaurant has problems with hearing</td>\n",
              "      <td></td>\n",
              "    </tr>\n",
              "    <tr>\n",
              "      <th>9</th>\n",
              "      <td>0018a42d079fed623b58d24b0bde718b</td>\n",
              "      <td>nothing</td>\n",
              "      <td>fantastic hotel best i ve stayed in for a whil...</td>\n",
              "    </tr>\n",
              "  </tbody>\n",
              "</table>\n",
              "</div>\n",
              "      <button class=\"colab-df-convert\" onclick=\"convertToInteractive('df-afc618dd-c383-4fe7-bb54-6d63e34bf3b3')\"\n",
              "              title=\"Convert this dataframe to an interactive table.\"\n",
              "              style=\"display:none;\">\n",
              "        \n",
              "  <svg xmlns=\"http://www.w3.org/2000/svg\" height=\"24px\"viewBox=\"0 0 24 24\"\n",
              "       width=\"24px\">\n",
              "    <path d=\"M0 0h24v24H0V0z\" fill=\"none\"/>\n",
              "    <path d=\"M18.56 5.44l.94 2.06.94-2.06 2.06-.94-2.06-.94-.94-2.06-.94 2.06-2.06.94zm-11 1L8.5 8.5l.94-2.06 2.06-.94-2.06-.94L8.5 2.5l-.94 2.06-2.06.94zm10 10l.94 2.06.94-2.06 2.06-.94-2.06-.94-.94-2.06-.94 2.06-2.06.94z\"/><path d=\"M17.41 7.96l-1.37-1.37c-.4-.4-.92-.59-1.43-.59-.52 0-1.04.2-1.43.59L10.3 9.45l-7.72 7.72c-.78.78-.78 2.05 0 2.83L4 21.41c.39.39.9.59 1.41.59.51 0 1.02-.2 1.41-.59l7.78-7.78 2.81-2.81c.8-.78.8-2.07 0-2.86zM5.41 20L4 18.59l7.72-7.72 1.47 1.35L5.41 20z\"/>\n",
              "  </svg>\n",
              "      </button>\n",
              "      \n",
              "  <style>\n",
              "    .colab-df-container {\n",
              "      display:flex;\n",
              "      flex-wrap:wrap;\n",
              "      gap: 12px;\n",
              "    }\n",
              "\n",
              "    .colab-df-convert {\n",
              "      background-color: #E8F0FE;\n",
              "      border: none;\n",
              "      border-radius: 50%;\n",
              "      cursor: pointer;\n",
              "      display: none;\n",
              "      fill: #1967D2;\n",
              "      height: 32px;\n",
              "      padding: 0 0 0 0;\n",
              "      width: 32px;\n",
              "    }\n",
              "\n",
              "    .colab-df-convert:hover {\n",
              "      background-color: #E2EBFA;\n",
              "      box-shadow: 0px 1px 2px rgba(60, 64, 67, 0.3), 0px 1px 3px 1px rgba(60, 64, 67, 0.15);\n",
              "      fill: #174EA6;\n",
              "    }\n",
              "\n",
              "    [theme=dark] .colab-df-convert {\n",
              "      background-color: #3B4455;\n",
              "      fill: #D2E3FC;\n",
              "    }\n",
              "\n",
              "    [theme=dark] .colab-df-convert:hover {\n",
              "      background-color: #434B5C;\n",
              "      box-shadow: 0px 1px 3px 1px rgba(0, 0, 0, 0.15);\n",
              "      filter: drop-shadow(0px 1px 2px rgba(0, 0, 0, 0.3));\n",
              "      fill: #FFFFFF;\n",
              "    }\n",
              "  </style>\n",
              "\n",
              "      <script>\n",
              "        const buttonEl =\n",
              "          document.querySelector('#df-afc618dd-c383-4fe7-bb54-6d63e34bf3b3 button.colab-df-convert');\n",
              "        buttonEl.style.display =\n",
              "          google.colab.kernel.accessAllowed ? 'block' : 'none';\n",
              "\n",
              "        async function convertToInteractive(key) {\n",
              "          const element = document.querySelector('#df-afc618dd-c383-4fe7-bb54-6d63e34bf3b3');\n",
              "          const dataTable =\n",
              "            await google.colab.kernel.invokeFunction('convertToInteractive',\n",
              "                                                     [key], {});\n",
              "          if (!dataTable) return;\n",
              "\n",
              "          const docLinkHtml = 'Like what you see? Visit the ' +\n",
              "            '<a target=\"_blank\" href=https://colab.research.google.com/notebooks/data_table.ipynb>data table notebook</a>'\n",
              "            + ' to learn more about interactive tables.';\n",
              "          element.innerHTML = '';\n",
              "          dataTable['output_type'] = 'display_data';\n",
              "          await google.colab.output.renderOutput(dataTable, element);\n",
              "          const docLink = document.createElement('div');\n",
              "          docLink.innerHTML = docLinkHtml;\n",
              "          element.appendChild(docLink);\n",
              "        }\n",
              "      </script>\n",
              "    </div>\n",
              "  </div>\n",
              "  "
            ],
            "text/plain": [
              "                          review_id  ...                                           positive\n",
              "0  00026f564b258ad5159aab07c357c4ca  ...                                  just the location\n",
              "1  000278c73da08f4fcb857fcfe4ac6417  ...  great location very comfortable clean breakfas...\n",
              "2  000404f843e756fe3b2a477dbefa5bd4  ...  the breakfast booked the preceding night but f...\n",
              "3  000a66d32bcf305148d789ac156dd512  ...                       great location nice bathroom\n",
              "4  000bf1d8c5110701f459ffbedbf0d546  ...                  great location and friendly staff\n",
              "5  000c36a6731f1e109864308a7a22be4d  ...  the personnel was helpfull and cheerful the ro...\n",
              "6  00142074a207aba53ddcc46985f8c0c3  ...                                    standing global\n",
              "7  0014e8ce0480a083abd0dca4f6d7aca7  ...  free upgrade in executive double room compleme...\n",
              "8  0016fb343fddab24736d7e1d9823e9a5  ...                                                   \n",
              "9  0018a42d079fed623b58d24b0bde718b  ...  fantastic hotel best i ve stayed in for a whil...\n",
              "\n",
              "[10 rows x 3 columns]"
            ]
          },
          "metadata": {},
          "execution_count": 19
        }
      ]
    },
    {
      "cell_type": "code",
      "source": [
        "pos_corpus_test = tokenizer(text=df_real_test['positive'].tolist(),\n",
        "                       add_special_tokens=True,\n",
        "                       padding='max_length',\n",
        "                       truncation='longest_first',\n",
        "                       max_length=100,\n",
        "                       return_attention_mask=True)\n",
        "\n",
        "neg_corpus_test = tokenizer(text=df_real_test['negative'].tolist(),\n",
        "                       add_special_tokens=True,\n",
        "                       padding='max_length',\n",
        "                       truncation='longest_first',\n",
        "                       max_length=100,\n",
        "                       return_attention_mask=True)\n",
        "\n",
        "test_input_ids = np.hstack([np.array(pos_corpus_test['input_ids']),\n",
        "                       np.array(neg_corpus_test['input_ids'])])\n",
        "\n",
        "test_att_mask = np.hstack([np.array(pos_corpus_test['attention_mask']),\n",
        "                      np.array(neg_corpus_test['attention_mask'])])"
      ],
      "metadata": {
        "id": "Dm-EyzdoC91C"
      },
      "execution_count": null,
      "outputs": []
    },
    {
      "cell_type": "code",
      "source": [
        "test_dataloader = creating_dataloader(test_input_ids,\n",
        "                                      test_att_mask, \n",
        "                                      np.zeros(test_input_ids.shape[0]),\n",
        "                                      batch_size)"
      ],
      "metadata": {
        "id": "gIgVdOr0Dd_Z"
      },
      "execution_count": null,
      "outputs": []
    },
    {
      "cell_type": "code",
      "source": [
        "y_pred_norm = np.array(predict(model, test_dataloader, device))"
      ],
      "metadata": {
        "colab": {
          "base_uri": "https://localhost:8080/"
        },
        "outputId": "fba99ec4-2b81-4dda-d32f-dd19c21aae2a",
        "id": "z1EBuE86C91D"
      },
      "execution_count": null,
      "outputs": [
        {
          "output_type": "stream",
          "name": "stderr",
          "text": [
            "100%|██████████| 625/625 [04:06<00:00,  2.53it/s]\n"
          ]
        }
      ]
    },
    {
      "cell_type": "code",
      "source": [
        "df_real_test['score'] = target_scaler.inverse_transform(y_pred_norm.reshape(-1, 1))\n",
        "df_bert = df_real_test[['review_id', 'score']]\n",
        "df_bert"
      ],
      "metadata": {
        "colab": {
          "base_uri": "https://localhost:8080/",
          "height": 423
        },
        "id": "VIxCg1h2GWGv",
        "outputId": "f6f39d7e-b6c4-4419-930d-e09ec7d8d7eb"
      },
      "execution_count": null,
      "outputs": [
        {
          "output_type": "execute_result",
          "data": {
            "text/html": [
              "\n",
              "  <div id=\"df-fc014bca-89be-4ddb-8afe-76bb1a77a755\">\n",
              "    <div class=\"colab-df-container\">\n",
              "      <div>\n",
              "<style scoped>\n",
              "    .dataframe tbody tr th:only-of-type {\n",
              "        vertical-align: middle;\n",
              "    }\n",
              "\n",
              "    .dataframe tbody tr th {\n",
              "        vertical-align: top;\n",
              "    }\n",
              "\n",
              "    .dataframe thead th {\n",
              "        text-align: right;\n",
              "    }\n",
              "</style>\n",
              "<table border=\"1\" class=\"dataframe\">\n",
              "  <thead>\n",
              "    <tr style=\"text-align: right;\">\n",
              "      <th></th>\n",
              "      <th>review_id</th>\n",
              "      <th>score</th>\n",
              "    </tr>\n",
              "  </thead>\n",
              "  <tbody>\n",
              "    <tr>\n",
              "      <th>0</th>\n",
              "      <td>00026f564b258ad5159aab07c357c4ca</td>\n",
              "      <td>3.502937</td>\n",
              "    </tr>\n",
              "    <tr>\n",
              "      <th>1</th>\n",
              "      <td>000278c73da08f4fcb857fcfe4ac6417</td>\n",
              "      <td>9.665586</td>\n",
              "    </tr>\n",
              "    <tr>\n",
              "      <th>2</th>\n",
              "      <td>000404f843e756fe3b2a477dbefa5bd4</td>\n",
              "      <td>7.055622</td>\n",
              "    </tr>\n",
              "    <tr>\n",
              "      <th>3</th>\n",
              "      <td>000a66d32bcf305148d789ac156dd512</td>\n",
              "      <td>6.732510</td>\n",
              "    </tr>\n",
              "    <tr>\n",
              "      <th>4</th>\n",
              "      <td>000bf1d8c5110701f459ffbedbf0d546</td>\n",
              "      <td>9.508653</td>\n",
              "    </tr>\n",
              "    <tr>\n",
              "      <th>...</th>\n",
              "      <td>...</td>\n",
              "      <td>...</td>\n",
              "    </tr>\n",
              "    <tr>\n",
              "      <th>19995</th>\n",
              "      <td>ffe8a7190aee6e3a53ee2e0145a91555</td>\n",
              "      <td>5.753593</td>\n",
              "    </tr>\n",
              "    <tr>\n",
              "      <th>19996</th>\n",
              "      <td>ffea0e2b84788c9df755efe8e2bedb23</td>\n",
              "      <td>9.377046</td>\n",
              "    </tr>\n",
              "    <tr>\n",
              "      <th>19997</th>\n",
              "      <td>fff3997a85a1eed7ae7a937bc945fcf0</td>\n",
              "      <td>9.790803</td>\n",
              "    </tr>\n",
              "    <tr>\n",
              "      <th>19998</th>\n",
              "      <td>fff673fe95ab8f3a0910f112549862e2</td>\n",
              "      <td>6.878014</td>\n",
              "    </tr>\n",
              "    <tr>\n",
              "      <th>19999</th>\n",
              "      <td>fffde0b07729c476fa6509524cf07f15</td>\n",
              "      <td>7.867431</td>\n",
              "    </tr>\n",
              "  </tbody>\n",
              "</table>\n",
              "<p>20000 rows × 2 columns</p>\n",
              "</div>\n",
              "      <button class=\"colab-df-convert\" onclick=\"convertToInteractive('df-fc014bca-89be-4ddb-8afe-76bb1a77a755')\"\n",
              "              title=\"Convert this dataframe to an interactive table.\"\n",
              "              style=\"display:none;\">\n",
              "        \n",
              "  <svg xmlns=\"http://www.w3.org/2000/svg\" height=\"24px\"viewBox=\"0 0 24 24\"\n",
              "       width=\"24px\">\n",
              "    <path d=\"M0 0h24v24H0V0z\" fill=\"none\"/>\n",
              "    <path d=\"M18.56 5.44l.94 2.06.94-2.06 2.06-.94-2.06-.94-.94-2.06-.94 2.06-2.06.94zm-11 1L8.5 8.5l.94-2.06 2.06-.94-2.06-.94L8.5 2.5l-.94 2.06-2.06.94zm10 10l.94 2.06.94-2.06 2.06-.94-2.06-.94-.94-2.06-.94 2.06-2.06.94z\"/><path d=\"M17.41 7.96l-1.37-1.37c-.4-.4-.92-.59-1.43-.59-.52 0-1.04.2-1.43.59L10.3 9.45l-7.72 7.72c-.78.78-.78 2.05 0 2.83L4 21.41c.39.39.9.59 1.41.59.51 0 1.02-.2 1.41-.59l7.78-7.78 2.81-2.81c.8-.78.8-2.07 0-2.86zM5.41 20L4 18.59l7.72-7.72 1.47 1.35L5.41 20z\"/>\n",
              "  </svg>\n",
              "      </button>\n",
              "      \n",
              "  <style>\n",
              "    .colab-df-container {\n",
              "      display:flex;\n",
              "      flex-wrap:wrap;\n",
              "      gap: 12px;\n",
              "    }\n",
              "\n",
              "    .colab-df-convert {\n",
              "      background-color: #E8F0FE;\n",
              "      border: none;\n",
              "      border-radius: 50%;\n",
              "      cursor: pointer;\n",
              "      display: none;\n",
              "      fill: #1967D2;\n",
              "      height: 32px;\n",
              "      padding: 0 0 0 0;\n",
              "      width: 32px;\n",
              "    }\n",
              "\n",
              "    .colab-df-convert:hover {\n",
              "      background-color: #E2EBFA;\n",
              "      box-shadow: 0px 1px 2px rgba(60, 64, 67, 0.3), 0px 1px 3px 1px rgba(60, 64, 67, 0.15);\n",
              "      fill: #174EA6;\n",
              "    }\n",
              "\n",
              "    [theme=dark] .colab-df-convert {\n",
              "      background-color: #3B4455;\n",
              "      fill: #D2E3FC;\n",
              "    }\n",
              "\n",
              "    [theme=dark] .colab-df-convert:hover {\n",
              "      background-color: #434B5C;\n",
              "      box-shadow: 0px 1px 3px 1px rgba(0, 0, 0, 0.15);\n",
              "      filter: drop-shadow(0px 1px 2px rgba(0, 0, 0, 0.3));\n",
              "      fill: #FFFFFF;\n",
              "    }\n",
              "  </style>\n",
              "\n",
              "      <script>\n",
              "        const buttonEl =\n",
              "          document.querySelector('#df-fc014bca-89be-4ddb-8afe-76bb1a77a755 button.colab-df-convert');\n",
              "        buttonEl.style.display =\n",
              "          google.colab.kernel.accessAllowed ? 'block' : 'none';\n",
              "\n",
              "        async function convertToInteractive(key) {\n",
              "          const element = document.querySelector('#df-fc014bca-89be-4ddb-8afe-76bb1a77a755');\n",
              "          const dataTable =\n",
              "            await google.colab.kernel.invokeFunction('convertToInteractive',\n",
              "                                                     [key], {});\n",
              "          if (!dataTable) return;\n",
              "\n",
              "          const docLinkHtml = 'Like what you see? Visit the ' +\n",
              "            '<a target=\"_blank\" href=https://colab.research.google.com/notebooks/data_table.ipynb>data table notebook</a>'\n",
              "            + ' to learn more about interactive tables.';\n",
              "          element.innerHTML = '';\n",
              "          dataTable['output_type'] = 'display_data';\n",
              "          await google.colab.output.renderOutput(dataTable, element);\n",
              "          const docLink = document.createElement('div');\n",
              "          docLink.innerHTML = docLinkHtml;\n",
              "          element.appendChild(docLink);\n",
              "        }\n",
              "      </script>\n",
              "    </div>\n",
              "  </div>\n",
              "  "
            ],
            "text/plain": [
              "                              review_id     score\n",
              "0      00026f564b258ad5159aab07c357c4ca  3.502937\n",
              "1      000278c73da08f4fcb857fcfe4ac6417  9.665586\n",
              "2      000404f843e756fe3b2a477dbefa5bd4  7.055622\n",
              "3      000a66d32bcf305148d789ac156dd512  6.732510\n",
              "4      000bf1d8c5110701f459ffbedbf0d546  9.508653\n",
              "...                                 ...       ...\n",
              "19995  ffe8a7190aee6e3a53ee2e0145a91555  5.753593\n",
              "19996  ffea0e2b84788c9df755efe8e2bedb23  9.377046\n",
              "19997  fff3997a85a1eed7ae7a937bc945fcf0  9.790803\n",
              "19998  fff673fe95ab8f3a0910f112549862e2  6.878014\n",
              "19999  fffde0b07729c476fa6509524cf07f15  7.867431\n",
              "\n",
              "[20000 rows x 2 columns]"
            ]
          },
          "metadata": {},
          "execution_count": 35
        }
      ]
    },
    {
      "cell_type": "code",
      "source": [
        "df_bert.to_csv('/content/drive/MyDrive/Intro to DL/bert_submission_100_2epochs.csv', index=False)"
      ],
      "metadata": {
        "id": "iqscxOP_C91D"
      },
      "execution_count": null,
      "outputs": []
    },
    {
      "cell_type": "code",
      "source": [
        "# train_one_epoch(model, optimizer, criterion, train_dataloader, device, clip_value=2)"
      ],
      "metadata": {
        "id": "04hcBI2CpnlZ"
      },
      "execution_count": null,
      "outputs": []
    },
    {
      "cell_type": "markdown",
      "source": [
        "## **Итоговый результат: топ-7 контеста**"
      ],
      "metadata": {
        "id": "yO-31eyLQvKr"
      }
    },
    {
      "cell_type": "markdown",
      "metadata": {
        "id": "n3OeNQkoXHaW"
      },
      "source": [
        "\n",
        " ![dl_hw3_pic3.JPG](data:image/jpeg;base64,/9j/4AAQSkZJRgABAQEAeAB4AAD/4RDaRXhpZgAATU0AKgAAAAgABAE7AAIAAAAFAAAISodpAAQAAAABAAAIUJydAAEAAAAKAAAQyOocAAcAAAgMAAAAPgAAAAAc6gAAAAgAAAAAAAAAAAAAAAAAAAAAAAAAAAAAAAAAAAAAAAAAAAAAAAAAAAAAAAAAAAAAAAAAAAAAAAAAAAAAAAAAAAAAAAAAAAAAAAAAAAAAAAAAAAAAAAAAAAAAAAAAAAAAAAAAAAAAAAAAAAAAAAAAAAAAAAAAAAAAAAAAAAAAAAAAAAAAAAAAAAAAAAAAAAAAAAAAAAAAAAAAAAAAAAAAAAAAAAAAAAAAAAAAAAAAAAAAAAAAAAAAAAAAAAAAAAAAAAAAAAAAAAAAAAAAAAAAAAAAAAAAAAAAAAAAAAAAAAAAAAAAAAAAAAAAAAAAAAAAAAAAAAAAAAAAAAAAAAAAAAAAAAAAAAAAAAAAAAAAAAAAAAAAAAAAAAAAAAAAAAAAAAAAAAAAAAAAAAAAAAAAAAAAAAAAAAAAAAAAAAAAAAAAAAAAAAAAAAAAAAAAAAAAAAAAAAAAAAAAAAAAAAAAAAAAAAAAAAAAAAAAAAAAAAAAAAAAAAAAAAAAAAAAAAAAAAAAAAAAAAAAAAAAAAAAAAAAAAAAAAAAAAAAAAAAAAAAAAAAAAAAAAAAAAAAAAAAAAAAAAAAAAAAAAAAAAAAAAAAAAAAAAAAAAAAAAAAAAAAAAAAAAAAAAAAAAAAAAAAAAAAAAAAAAAAAAAAAAAAAAAAAAAAAAAAAAAAAAAAAAAAAAAAAAAAAAAAAAAAAAAAAAAAAAAAAAAAAAAAAAAAAAAAAAAAAAAAAAAAAAAAAAAAAAAAAAAAAAAAAAAAAAAAAAAAAAAAAAAAAAAAAAAAAAAAAAAAAAAAAAAAAAAAAAAAAAAAAAAAAAAAAAAAAAAAAAAAAAAAAAAAAAAAAAAAAAAAAAAAAAAAAAAAAAAAAAAAAAAAAAAAAAAAAAAAAAAAAAAAAAAAAAAAAAAAAAAAAAAAAAAAAAAAAAAAAAAAAAAAAAAAAAAAAAAAAAAAAAAAAAAAAAAAAAAAAAAAAAAAAAAAAAAAAAAAAAAAAAAAAAAAAAAAAAAAAAAAAAAAAAAAAAAAAAAAAAAAAAAAAAAAAAAAAAAAAAAAAAAAAAAAAAAAAAAAAAAAAAAAAAAAAAAAAAAAAAAAAAAAAAAAAAAAAAAAAAAAAAAAAAAAAAAAAAAAAAAAAAAAAAAAAAAAAAAAAAAAAAAAAAAAAAAAAAAAAAAAAAAAAAAAAAAAAAAAAAAAAAAAAAAAAAAAAAAAAAAAAAAAAAAAAAAAAAAAAAAAAAAAAAAAAAAAAAAAAAAAAAAAAAAAAAAAAAAAAAAAAAAAAAAAAAAAAAAAAAAAAAAAAAAAAAAAAAAAAAAAAAAAAAAAAAAAAAAAAAAAAAAAAAAAAAAAAAAAAAAAAAAAAAAAAAAAAAAAAAAAAAAAAAAAAAAAAAAAAAAAAAAAAAAAAAAAAAAAAAAAAAAAAAAAAAAAAAAAAAAAAAAAAAAAAAAAAAAAAAAAAAAAAAAAAAAAAAAAAAAAAAAAAAAAAAAAAAAAAAAAAAAAAAAAAAAAAAAAAAAAAAAAAAAAAAAAAAAAAAAAAAAAAAAAAAAAAAAAAAAAAAAAAAAAAAAAAAAAAAAAAAAAAAAAAAAAAAAAAAAAAAAAAAAAAAAAAAAAAAAAAAAAAAAAAAAAAAAAAAAAAAAAAAAAAAAAAAAAAAAAAAAAAAAAAAAAAAAAAAAAAAAAAAAAAAAAAAAAAAAAAAAAAAAAAAAAAAAAAAAAAAAAAAAAAAAAAAAAAAAAAAAAAAAAAAAAAAAAAAAAAAAAAAAAAAAAAAAAAAAAAAAAAAAAAAAAAAAAAAAAAAAAAAAAAAAAAAAAAAAAAAAAAAAAAAAAAAAAAAAAAAAAAAAAAAAAAAAAAAAAAAAAAAAAAAAAAAAAAAAAAAAAAAAAAAAAAAAAAAAAAAAAAAAAAAAAAAAAAAAAAAAAAAAAAAAAAAAAAAAAAAAAAAAAAAAAAAAAAAAAAAAAAAAAAAAAAAAAAAAAAAAAAAAAAAAAAAAAAAAAAAAAAAAAAAAAAAAAAAAAAAAAAAAAAAAAAAAAAAAAAAAAAAAAAAAAAAAAAAAAAAAAAAAAAAAAAAAAAAAAAAAAAAAAAAAAAAAAAAAAAAAAAAAAAAAAAAAAAAAAAAAAAAAAAAAAAAAAAAAAAAAAAAAAAAAAAAAAAAAAAAAAAAAAAAAAAAAAAAAAAAAAAAAAAAAAAAAAAAAAAAAAAAAAAAAAAAAAAAAAAAAAAAAAAAAAAAAAAAAAAAAAAAAAAAAAAAAAAAAAAAAAAAAAAAAAAAAAAAAAAAAAAAAAAAAAAAAAAAAAAAAAAAAAAAAAAAAAAAAAAAAAAAAAAAAAAAAAAAAAAAAAAAAAAAAAAAAAAAAAAAAAAAAAAAAAAAAAAAAAAAAAAAAAAAAAAAAAAAAAAAAAAAAAAAAAAAAAAAAAAAAAAAAAAAAAAAAAAAAAAAAAAAAAAAAAAAAAAAAAAAAAAAAAAAAAAAAAAAAAAAAAAAAAAAAAAAAAAAAAAAAAAAAAAAAAAAAAAAAAAAAAAAAAAAAAAAAAAAAAAAAAAAAAAAAAAAAAAAAAAAAAAAAAAAAAAAAAAAAAAAAAAAAAAAAAAAAAAAAAAAAAAAAAAAAAAAAAAAAAAAAAAAAAAAAAAAAAAAAAAAAAAAAAAAAAAAAAAAAAAAAAAAAAAAAAAAAAAAAAAAAAAAAAAAAAAAAAAAAAAAAAAAAAAAAAAAAAAAAAAAAAAAAAAAAAAAAAAAAAAAAAAFVzZXIAAAAFkAMAAgAAABQAABCekAQAAgAAABQAABCykpEAAgAAAAM3NwAAkpIAAgAAAAM3NwAA6hwABwAACAwAAAiSAAAAABzqAAAACAAAAAAAAAAAAAAAAAAAAAAAAAAAAAAAAAAAAAAAAAAAAAAAAAAAAAAAAAAAAAAAAAAAAAAAAAAAAAAAAAAAAAAAAAAAAAAAAAAAAAAAAAAAAAAAAAAAAAAAAAAAAAAAAAAAAAAAAAAAAAAAAAAAAAAAAAAAAAAAAAAAAAAAAAAAAAAAAAAAAAAAAAAAAAAAAAAAAAAAAAAAAAAAAAAAAAAAAAAAAAAAAAAAAAAAAAAAAAAAAAAAAAAAAAAAAAAAAAAAAAAAAAAAAAAAAAAAAAAAAAAAAAAAAAAAAAAAAAAAAAAAAAAAAAAAAAAAAAAAAAAAAAAAAAAAAAAAAAAAAAAAAAAAAAAAAAAAAAAAAAAAAAAAAAAAAAAAAAAAAAAAAAAAAAAAAAAAAAAAAAAAAAAAAAAAAAAAAAAAAAAAAAAAAAAAAAAAAAAAAAAAAAAAAAAAAAAAAAAAAAAAAAAAAAAAAAAAAAAAAAAAAAAAAAAAAAAAAAAAAAAAAAAAAAAAAAAAAAAAAAAAAAAAAAAAAAAAAAAAAAAAAAAAAAAAAAAAAAAAAAAAAAAAAAAAAAAAAAAAAAAAAAAAAAAAAAAAAAAAAAAAAAAAAAAAAAAAAAAAAAAAAAAAAAAAAAAAAAAAAAAAAAAAAAAAAAAAAAAAAAAAAAAAAAAAAAAAAAAAAAAAAAAAAAAAAAAAAAAAAAAAAAAAAAAAAAAAAAAAAAAAAAAAAAAAAAAAAAAAAAAAAAAAAAAAAAAAAAAAAAAAAAAAAAAAAAAAAAAAAAAAAAAAAAAAAAAAAAAAAAAAAAAAAAAAAAAAAAAAAAAAAAAAAAAAAAAAAAAAAAAAAAAAAAAAAAAAAAAAAAAAAAAAAAAAAAAAAAAAAAAAAAAAAAAAAAAAAAAAAAAAAAAAAAAAAAAAAAAAAAAAAAAAAAAAAAAAAAAAAAAAAAAAAAAAAAAAAAAAAAAAAAAAAAAAAAAAAAAAAAAAAAAAAAAAAAAAAAAAAAAAAAAAAAAAAAAAAAAAAAAAAAAAAAAAAAAAAAAAAAAAAAAAAAAAAAAAAAAAAAAAAAAAAAAAAAAAAAAAAAAAAAAAAAAAAAAAAAAAAAAAAAAAAAAAAAAAAAAAAAAAAAAAAAAAAAAAAAAAAAAAAAAAAAAAAAAAAAAAAAAAAAAAAAAAAAAAAAAAAAAAAAAAAAAAAAAAAAAAAAAAAAAAAAAAAAAAAAAAAAAAAAAAAAAAAAAAAAAAAAAAAAAAAAAAAAAAAAAAAAAAAAAAAAAAAAAAAAAAAAAAAAAAAAAAAAAAAAAAAAAAAAAAAAAAAAAAAAAAAAAAAAAAAAAAAAAAAAAAAAAAAAAAAAAAAAAAAAAAAAAAAAAAAAAAAAAAAAAAAAAAAAAAAAAAAAAAAAAAAAAAAAAAAAAAAAAAAAAAAAAAAAAAAAAAAAAAAAAAAAAAAAAAAAAAAAAAAAAAAAAAAAAAAAAAAAAAAAAAAAAAAAAAAAAAAAAAAAAAAAAAAAAAAAAAAAAAAAAAAAAAAAAAAAAAAAAAAAAAAAAAAAAAAAAAAAAAAAAAAAAAAAAAAAAAAAAAAAAAAAAAAAAAAAAAAAAAAAAAAAAAAAAAAAAAAAAAAAAAAAAAAAAAAAAAAAAAAAAAAAAAAAAAAAAAAAAAAAAAAAAAAAAAAAAAAAAAAAAAAAAAAAAAAAAAAAAAAAAAAAAAAAAAAAAAAAAAAAAAAAAAAAAAAAAAAAAAAAAAAAAAAAAAAAAAAAAAAAAAAAAAAAAAAAAAAAAAAAAAAAAAAAAAAAAAAAAAAAAAAAAAAAAAAAAAAAAAAAAAAAAAAAAAAAAAAAAAAAAAAAAAAAAAAAAAAAAAAAAAAAAAAAAAAAAAAAAAAAAAAAAAAAAAAAAAAAAAAAAAAAAAAAAAAAAAAAAAAAAAAAAAAAAAAAAAAAAAAAAAAAAAAAAAAAAAAAAAAAAAAAAAAAAAAAAAAAAAAAAAAAAAAAAAAAAAAAAAAAAAAAAAAAAAAAAAAAAAAAAAAAAAAAAAAAAAAAAAAAAAAAAAAAAAAAAAAAAAAAAAAAAAAAAAAAAAAAAAAAAAAAAAAAAAAAAAAAAAAAAAAAAAAAAAAAAAAAAAAAAAAAAAAAAAAAAAAAAAAAAAAAAAAAAAAAAAAAAAAAAAAAAAAAAAAAAAAAAAAAAAAAAAAAAAAAAAAAAAAAAAAAAAAAAAAAAAAAAAAAAAAAAAAAAAAAAAAAAAAAAAAAAAAAAAAAAAAAAAAAAAAAAAAAAAAAAAAAAAAAAAAAAAAAAAAAAAAAAAAAAAAAAAAAAAAAAAAAAAAAAAAAAAAAAAAAAAAAAAAAAAAAAAAAAAAAAAAAAAAAAAAAAAAAAAAAAAAAAAAAAAAAAAAAAAAAAAAAAAAAAAAAAAAAAAAAAAAAAAAAAAAAAAAAAAAAAAAAAAAAAAAAAAAAAAAAAAAAAAAAAAAAAAAAAAAAAAAAAAAAAAAAAAAAAAAAAAAAAAAAAAAAAAAAAAAAAAAAAAAAAAAAAAAAAAAAAAAAAAAAAAAAAAAAAAAAAAAAAAAAAAAAAAAAAAAAAAAAAAAAAAAAAAAAAAAAAAAAAAAAAAAAAAAAAAAAAAAAAAAAAAAAAAAAAAAAAAAAAAAAAAAAAAAAAAAAAAAAAAAAAAAAAAAAAAAAAAAAAAAAAAAAAAAAAAAAAAAAAAAAAAAAAAAAAAAAAAAAAAAAAAAAAAAAAAAAAAAAAAAAAAMjAyMjowMjowNyAyMTo1NzozNgAyMDIyOjAyOjA3IDIxOjU3OjM2AAAAVQBzAGUAcgAAAP/hCxdodHRwOi8vbnMuYWRvYmUuY29tL3hhcC8xLjAvADw/eHBhY2tldCBiZWdpbj0n77u/JyBpZD0nVzVNME1wQ2VoaUh6cmVTek5UY3prYzlkJz8+DQo8eDp4bXBtZXRhIHhtbG5zOng9ImFkb2JlOm5zOm1ldGEvIj48cmRmOlJERiB4bWxuczpyZGY9Imh0dHA6Ly93d3cudzMub3JnLzE5OTkvMDIvMjItcmRmLXN5bnRheC1ucyMiPjxyZGY6RGVzY3JpcHRpb24gcmRmOmFib3V0PSJ1dWlkOmZhZjViZGQ1LWJhM2QtMTFkYS1hZDMxLWQzM2Q3NTE4MmYxYiIgeG1sbnM6ZGM9Imh0dHA6Ly9wdXJsLm9yZy9kYy9lbGVtZW50cy8xLjEvIi8+PHJkZjpEZXNjcmlwdGlvbiByZGY6YWJvdXQ9InV1aWQ6ZmFmNWJkZDUtYmEzZC0xMWRhLWFkMzEtZDMzZDc1MTgyZjFiIiB4bWxuczp4bXA9Imh0dHA6Ly9ucy5hZG9iZS5jb20veGFwLzEuMC8iPjx4bXA6Q3JlYXRlRGF0ZT4yMDIyLTAyLTA3VDIxOjU3OjM2Ljc2NjwveG1wOkNyZWF0ZURhdGU+PC9yZGY6RGVzY3JpcHRpb24+PHJkZjpEZXNjcmlwdGlvbiByZGY6YWJvdXQ9InV1aWQ6ZmFmNWJkZDUtYmEzZC0xMWRhLWFkMzEtZDMzZDc1MTgyZjFiIiB4bWxuczpkYz0iaHR0cDovL3B1cmwub3JnL2RjL2VsZW1lbnRzLzEuMS8iPjxkYzpjcmVhdG9yPjxyZGY6U2VxIHhtbG5zOnJkZj0iaHR0cDovL3d3dy53My5vcmcvMTk5OS8wMi8yMi1yZGYtc3ludGF4LW5zIyI+PHJkZjpsaT5Vc2VyPC9yZGY6bGk+PC9yZGY6U2VxPg0KCQkJPC9kYzpjcmVhdG9yPjwvcmRmOkRlc2NyaXB0aW9uPjwvcmRmOlJERj48L3g6eG1wbWV0YT4NCiAgICAgICAgICAgICAgICAgICAgICAgICAgICAgICAgICAgICAgICAgICAgICAgICAgICAgICAgICAgICAgICAgICAgICAgICAgICAgICAgICAgICAgICAgICAgICAgICAgICAKICAgICAgICAgICAgICAgICAgICAgICAgICAgICAgICAgICAgICAgICAgICAgICAgICAgICAgICAgICAgICAgICAgICAgICAgICAgICAgICAgICAgICAgICAgICAgICAgICAgIAogICAgICAgICAgICAgICAgICAgICAgICAgICAgICAgICAgICAgICAgICAgICAgICAgICAgICAgICAgICAgICAgICAgICAgICAgICAgICAgICAgICAgICAgICAgICAgICAgICAgCiAgICAgICAgICAgICAgICAgICAgICAgICAgICAgICAgICAgICAgICAgICAgICAgICAgICAgICAgICAgICAgICAgICAgICAgICAgICAgICAgICAgICAgICAgICAgICAgICAgICAKICAgICAgICAgICAgICAgICAgICAgICAgICAgICAgICAgICAgICAgICAgICAgICAgICAgICAgICAgICAgICAgICAgICAgICAgICAgICAgICAgICAgICAgICAgICAgICAgICAgIAogICAgICAgICAgICAgICAgICAgICAgICAgICAgICAgICAgICAgICAgICAgICAgICAgICAgICAgICAgICAgICAgICAgICAgICAgICAgICAgICAgICAgICAgICAgICAgICAgICAgCiAgICAgICAgICAgICAgICAgICAgICAgICAgICAgICAgICAgICAgICAgICAgICAgICAgICAgICAgICAgICAgICAgICAgICAgICAgICAgICAgICAgICAgICAgICAgICAgICAgICAKICAgICAgICAgICAgICAgICAgICAgICAgICAgICAgICAgICAgICAgICAgICAgICAgICAgICAgICAgICAgICAgICAgICAgICAgICAgICAgICAgICAgICAgICAgICAgICAgICAgIAogICAgICAgICAgICAgICAgICAgICAgICAgICAgICAgICAgICAgICAgICAgICAgICAgICAgICAgICAgICAgICAgICAgICAgICAgICAgICAgICAgICAgICAgICAgICAgICAgICAgCiAgICAgICAgICAgICAgICAgICAgICAgICAgICAgICAgICAgICAgICAgICAgICAgICAgICAgICAgICAgICAgICAgICAgICAgICAgICAgICAgICAgICAgICAgICAgICAgICAgICAKICAgICAgICAgICAgICAgICAgICAgICAgICAgICAgICAgICAgICAgICAgICAgICAgICAgICAgICAgICAgICAgICAgICAgICAgICAgICAgICAgICAgICAgICAgICAgICAgICAgIAogICAgICAgICAgICAgICAgICAgICAgICAgICAgICAgICAgICAgICAgICAgICAgICAgICAgICAgICAgICAgICAgICAgICAgICAgICAgICAgICAgICAgICAgICAgICAgICAgICAgCiAgICAgICAgICAgICAgICAgICAgICAgICAgICAgICAgICAgICAgICAgICAgICAgICAgICAgICAgICAgICAgICAgICAgICAgICAgICAgICAgICAgICAgICAgICAgICAgICAgICAKICAgICAgICAgICAgICAgICAgICAgICAgICAgICAgICAgICAgICAgICAgICAgICAgICAgICAgICAgICAgICAgICAgICAgICAgICAgICAgICAgICAgICAgICAgICAgICAgICAgIAogICAgICAgICAgICAgICAgICAgICAgICAgICAgICAgICAgICAgICAgICAgICAgICAgICAgICAgICAgICAgICAgICAgICAgICAgICAgICAgICAgICAgICAgICAgICAgICAgICAgCiAgICAgICAgICAgICAgICAgICAgICAgICAgICAgICAgICAgICAgICAgICAgICAgICAgICAgICAgICAgICAgICAgICAgICAgICAgICAgICAgICAgICAgICAgICAgICAgICAgICAKICAgICAgICAgICAgICAgICAgICAgICAgICAgICAgICAgICAgICAgICAgICAgICAgICAgICAgICAgICAgICAgICAgICAgICAgICAgICAgICAgICAgICAgICAgICAgICAgICAgIAogICAgICAgICAgICAgICAgICAgICAgICAgICAgICAgICAgICAgICAgICAgICAgICAgICAgICAgICAgICAgICAgICAgICAgICAgICAgICAgICAgICAgICAgICAgICAgICAgICAgCiAgICAgICAgICAgICAgICAgICAgICAgICAgICAgICAgICAgICAgICAgICAgICAgICAgICAgICAgICAgICAgICAgICAgICAgICAgICAgICAgICAgICAgICAgICAgICAgICAgICAKICAgICAgICAgICAgICAgICAgICAgICAgICAgICAgICAgICAgICAgICAgICAgICAgICAgICAgICAgICAgICAgICAgICAgICAgICAgICAgICAgICAgICAgICAgICAgICAgICAgIAogICAgICAgICAgICAgICAgICAgICAgICAgICAgPD94cGFja2V0IGVuZD0ndyc/Pv/bAEMABwUFBgUEBwYFBggHBwgKEQsKCQkKFQ8QDBEYFRoZGBUYFxseJyEbHSUdFxgiLiIlKCkrLCsaIC8zLyoyJyorKv/bAEMBBwgICgkKFAsLFCocGBwqKioqKioqKioqKioqKioqKioqKioqKioqKioqKioqKioqKioqKioqKioqKioqKioqKv/AABEIAccE1AMBIgACEQEDEQH/xAAfAAABBQEBAQEBAQAAAAAAAAAAAQIDBAUGBwgJCgv/xAC1EAACAQMDAgQDBQUEBAAAAX0BAgMABBEFEiExQQYTUWEHInEUMoGRoQgjQrHBFVLR8CQzYnKCCQoWFxgZGiUmJygpKjQ1Njc4OTpDREVGR0hJSlNUVVZXWFlaY2RlZmdoaWpzdHV2d3h5eoOEhYaHiImKkpOUlZaXmJmaoqOkpaanqKmqsrO0tba3uLm6wsPExcbHyMnK0tPU1dbX2Nna4eLj5OXm5+jp6vHy8/T19vf4+fr/xAAfAQADAQEBAQEBAQEBAAAAAAAAAQIDBAUGBwgJCgv/xAC1EQACAQIEBAMEBwUEBAABAncAAQIDEQQFITEGEkFRB2FxEyIygQgUQpGhscEJIzNS8BVictEKFiQ04SXxFxgZGiYnKCkqNTY3ODk6Q0RFRkdISUpTVFVWV1hZWmNkZWZnaGlqc3R1dnd4eXqCg4SFhoeIiYqSk5SVlpeYmZqio6Slpqeoqaqys7S1tre4ubrCw8TFxsfIycrS09TV1tfY2dri4+Tl5ufo6ery8/T19vf4+fr/2gAMAwEAAhEDEQA/APpGiiigAooooAKKKKACiiigAooooAKKKKACiiigAooooAKKKKACiiigAooooAKKKKACiiigAooooAKKKKACiiigAooooAKKKKACiiigAooooAKKKKACiiigAooooAKKKKACiiigAooooAKKKKACiiigAooooAKKKKACiiigAooooAKKKKACiiigAooooAKKKKACiiigAooooAKKKKACiiigAooooAKKKKACiiigAooooAKKKKACiiigAooooAKKKKACiiigAooooAKKKKACiiigAooooAKKKKACiiigAooooAKKKKACiiigAooooAKKKKACiiigAooooAKKKKACiiigAooooAKKKKACiiigAooooAKKKKACio/tEP8Az2j/AO+hR9oh/wCe0f8A30K5vreH/wCfi+9Fcr7ElFRNdQKuTKmPY5pn2+2/56f+OmsZ5lgabtOtFPzkv8w5JPZFiiq/2+2/56f+Omni5gIBEqc+rCnTzHBVHaFaL9JJ/qDhJboloqP7RD/z2j/76FSV0061Op8Ek/R3E01uFFFFaiCiiigAooooAKKKKACiiigAooooAKKKKACiiigAooooAKKKKACiiigAooooAKKKKACiiigAooooAKKKKACiiigAooooAKKKKACiiigAooooAKKKKACiiigAooooAKKKKACiiigAooooAKKKKACiiigAooooAKKKKACiiigAooooAKKKKACiiigAooooAKKKKACiiigAooooAKKKKACiiigAooooAKKKKACiiigAooooAKKKKACiiigAooooAKKKKACiiigAooooAKKKKACiiigAooooAKKKKACiiigAooooAKKKKACiiigAooooAKKKKACiiigAooooAKKKKACiiigAooooAKKKKACiiigAooooAKhurj7NEH27stjGcVNVPU/+PVf98fyNeXnGIqYbAVa1J2klo/8Ahy6aTmkxi6opPzxED2OasJe28nSQA4zhuKxaK/MsPxhmVJ/vLT9Vb8rfkdrw8HsblxcJbx7m5J6L61mvqM7NlCEHYAZqrRWOZ8UY3Gz/AHTdOPZPX5vR/oOFCMd9Sdr24ZcGU49gBTPtE3/PaT/vo1HRXgzx+LqO86sm/OT/AMzXlitkOZ2c5dix9Sc02iiuWUpSfNJ3ZQUUUVIBRRRQAUUUUAFFFFAE63lwgwJT+PP86tW+pZwtwMf7Y/wrOor2sHnuY4SalCq2l0bbX3P9LMzlShJbHQgggEHIPQiism2v3hwsnzp0HqKvRXsEoJ3bMdnIFfq2XcRYHHQXv8s+qen3dGcM6MoliioGvbdWwZRn2BNRHU4ASAHPuAOa7Kuc5dSdp14/en+RCpzfQuUUyGUTRCRQQD60+vSp1IVYKpB3TV0/JktWdmFFFFWIKKKKACuP8Z+LL/w9rWi2ljHbtHfS7JTKpJA3KOMEeprsK8t+LjzR654ee1UPOsjGNT0LbkwPzrqwkIzrKMvP8jz8xqSpYZzg7PT80epUV53ffDnU57N78+JL59ax5m4Ptj3ddqgcqOwOfwq34L8aS3vgq+vNYJe50oMJmxgyADIP14I/CiWHThzU5X6MccY1U5KsOW6bWt9t/mdzRXlmh6DqHj61fW/EWt3VvDM7C2tbWQKEAOM88e3TJxyaveHL7UvDPjr/AIRbUtQfUbO5i8y0mlOWXgnGfwIx7DFVLDJXSleS3X/BIhjnLllKDUZaJ3XXa66XPRaRjtUn0Ga8ou11rVfitq2kabqk1nFLGBJIHJ8pAqE7Rngk8fia6q38BQ2nhufShq+obZJ/tBmSQLIDjGM88GlOhCCXNLez27lU8XUquXJT0TavdboveEvFcXiyzubiG1e2FvN5RV3DZ4zn9a6CvIPhb4bj1KOe/bUL6BrS8GIYZdscmAD8wxzXr9LFU4U6rjAeX1qtegp1Fr+YUUV5KZpPGXj3U9O13W59MtbSQpb2sUoj8zDY4zwT36E81FGj7S7bskaYnE+w5Uldydl0/E9aorjvD3hfW/DniBlt9VN7oTpzFdyFpUP+zxjr9M56VnW93cn453FsbiU24tciLedoOwdulUqCbfLK6SuQ8VKMYucGm5cv/B80ehVyfxC8T33hXRbe701IHkknEbCZSwxtJ7EelU/izdXFp4PjktZ5IH+1IN0blTjDdxWL8TWZ/hzobOSzM0RJJySfKNa4agnKEpapu1jnxuKlGFWENHFJ39T062kM1rFI2NzoGOPcVJXnUXgHUde0yLUNW1+8g1CWNWiihOIrcY4Xb1446EVa+HOv6jczajoOuytNe6a+BKxyWXODk98Hv71nKguVyhK9t/66m1PFy54wqQcebZ/59ju6K8f8G6fq3ixtVs7jWbu20+G4LSGKQmSQnICgnoowTRaWviDRvGs3g+x1ub7PdqGW4clmiTG4lRnhsAjj61q8GlJx51da/IwjmUnGM/Zvlk7LVb/11PYK5vxbH4qdrH/hE5IUUSH7T5m3pxj7w6dc45rhfEuk6h8PNS0/VdL1m8uYpptk0dw+dx6kHsQRntxW38VL25tl0I2txLB5lyd3luV3D5eDjrTp4e1SDi0077rt5CrYzmo1FUi4uNr2fd6WZ6Eudo3Y3Y5xS1wHxR12/wBMh02xsbprGK+lKzXScFFBHQ9uuePSq58AXENpDqHg7xPdS3gYEyTXIaGUd/ujp7HNZRw6cFOcrX2OieMkqsqdOHNy2vquvZdT0eiuK+IWuatoXgmKWBlivZnSGaaHJEZKksVJ9SMA1jWngQahoialoXiu9n1QoHE32nMZfHIOPmHpyT9KUMOnDnnKybt3CpjJKq6VOHM0rvW33dztvFK62+gyjww6Jf7l2l9v3c843cZ+tW9GGoLotqNZZGvhGPPMfQt+HH5VyfjKTV7H4WSHUrlBqMflrJNauQGO8DIOAeR1ovfE83h74UafqCN5l5NbxRxNId3zsv3jnrgAmqVGUqaUbayt/T7EyxEIVpSndWin5b9u53NFea6b8PL/AFfSo9S1nxFqK6lcIJV2SfLFnkAjqfwxir/w/wDEGpS6hqPhzXpTPeaeTsmY5LqDg5Pfsc9eaUsOlFuEr23Kp4yTnGNSHLzba3+/sd3RXkHhq01jxNrmvad/bF1aWEd0zTOjkyEbmARST8o65+gqd7bUfh7460u2t9UuLzTdRcI0UzZ6kKcjpkZByMVbwiUnDm9617fiYxzFuCqOm+W9r3Xe23Y9YqrqepWukabNfX8nl28K7nYKT7dBVqobuzt7+2a3vYUnhYgtG4yrYORkd+RXFG11fY9SXNyvl3PM7j4o6vPrNgLHS0ttMvJ1iikukYvKNwBYYIA6+/1Nejatqltouk3GoXrbYYE3NjqfQD3J4rz74nKE8T+FVQBVE+AAMADelXfjHcPF4PgiU4Wa6UN7gKx/nXpOlTqukoq3Nf8AM8WOIrUI13OXM42t80VLTxF8QPEVu2qaJYWdvY5PkxS43SgH1J5+vyiuh8FeMj4miuLa/txaanZnE8IyAecZAPI54I7VvaPbpaaJZW8IwkUCKMeyivP7cCw+Pk6QfKt1ATIBxkmMN/MZqL06ynFRSsrr5dy2quGlTnKblzNJp7a9uxt+MPGlzpGo22i6Bare6vc4IRuVjB6ZGRz17jA5NYtz4q8aeE5IbnxTZWt1p0rhXe3xujz2yD1+owfWk8NgX3xr1y4n5a3Rljz2wVX+X8663xzbR3XgfVklAIW3Zxx0K8j9RVfu6UoUnFO9rvrr2I/fV4VK8ZtcrdkttO/e5tWl1De2cN1auJIZkDow7gjIqWuR+F9w9x8P7HzDny2kQfQOcV11cNWHs6jh2Z61Cp7WlGp3SZynjTxjJ4da1sdMtReapenEMTZ2gZxkgcnnjHHesC8174g+HLf+09ZsrG6sQQZo4sbogT6g8fX5hXfT6Rp9zqUN/cWkUl3AMRTMuWT6H8TXKfEnxDHbaQ2g2Sm41LUgIkhTkqpPU/XoP/rV10JQk404wT73/rQ8/FwqQjOtKo1b4Uv17ts6vSNUt9a0i21GzJ8m4QOoPUeoPuDxVyuUtc+A/hqpuAJJbKDcy54MjHp9NzYrmtF8JX3i7TU1rxJ4gvY5rob4IbeQKsS9uOn4DFZqjB80ua0U7LqbPFVI8lPlvNq7W1v6Z6hRXAeDNV1PTPFl74T1m8a/EKebbXLnLFeDgn6H8MGsDT01vXPiDr+k2eqT2lq0rGaUOS0aB/upzwSSB9Kawru05aJXv5EPMFyxag222rdmj16ivJ/EGjan8OXt9a0XVru6s/NCXFvcvuzn17EHkdMitzxz4vurfR9Lt/D7FLzWdvlSd0Q46e5LAZ7c0fVXJx9m7p9fTuP6+oRn7WPK4203vfax3lFecTfDO+t9Oa7tPEmonWFUv5hlOx2x09fbOfwrR8IeNn1DwTeahq3zXWmBhPgY34GQcdien1FTLDrl5qcuboXDFtT5K0OVtXWt9t/mdtRXlegaBqnxCt5Nb1/WLu3t5JGW3trV9oUDjIzwB26ZOOtb3hTTfE/h/wAQT6bfSy6jopXMF3LIC0ZxwME7vbHTuKc8PGF1zrmXT/gk0sZOo4y9m+WWz/Vroix4f8U32q+Oda0e5jgW2sc+UyKQxwwHJzj9K66vH9P0/UdV+KHiKy06+awjldvtFxGP3gQMOF9CTjn0p2v6bqPw31bT9R0zV7u5s7iXZLDcPnOOSD2ORnnGRXRUw0JzUYuzaWnyOSjjqlOk5zi3FSabv59utj16iuC+KGvX+l6dp9tp1w1ml9KVluk4ZFGOAe3XPHPFVP8AhAJksYtQ8IeKLqW9BB82W5DRSev3Qfrg5rnjh04Kc5Wvt/wTsqYySqyp04c3La+qW/ZdT0iiobP7T9ih+3+X9p2DzfKJKbsc4zzjNZfi7Xv+Eb8M3WoqoeVAFiVuhcnAz/P8K54wcpKK3OydSMIOpLRJXNqivMdG8C6j4m0mPWNf8QX6Xd0vmxLE+FiB5HH64GMV0PgyLxPp0d7YeI1a5htzm0u2kDNKOeOpPoRn1repQjFO002v607nJSxVSco81NpS2e/39jraK8f8Own4g6lfS+IvEF1bTRy7YbGCYR7R6gHPA6cDPqa7Xwt4f13Q7q8s9Q1JdQ0hhi3MsjGZPbpgDHv24p1cOqd05arp/kyaGMlXtKMPdfW6/FdDq6K86+H95d6b4s1vw3qVxLO0T+bA0rliVBxxn1BU0muXVzr3xZ0/RrS4mjtbFBLciKQqG/iIOOv8I/Gj6s1Ucb6JXv5AscnSVTl1b5bed7f8E9GooorkPRCiiigAooooAKKKKACiiigAooooAKKKKACiiigAooooAKKKKACiiigAooooAKKKKACiiigAooooAKKKKACiiigAooooAKKKKACiiigAooooAKKKKACiiigAooooAKKKKACiiigAooooAKKKKACiiigAooooAKo6o6+SqZ+bdnHtzVm4lMNu0gGSOgNYdfDcW5usNR+oxjeU1q+yv+N7PrpY6aFO75uwUUVXv5TBptzKv3o4nYfUAmvyhK7sd5xOoeMdd1jxFcaP4ItLeQWh23F5cn5Fbpgfjx3+lLpPjLWtN8SQ6F41tIIZbr/j2u7f7jn0PP4dvpTPg7Ao8Iz3R5mubtzIx6nAFRfGNBFoem3ycTW14Ch/An+YFfR+zoPF/UORW2v9q9t7+vTaxjd8vNc9FrM8QS6xDpDv4cggnvty7UnOFIzz3Hb3rQgcyW8bnqygn8qfXz0Jck02r277Gu6PP/7Q+KP/AEB9H/77/wDtlS+B/Fuva/r+o2GsW1mkdiu13tVOBJnGN24g9+npWv478Rf8I54XnniP+lzfubZe5c9/wHNN8BeHv+Ed8LwxTD/S7j9/csepY9vwHFexKpTlg5VJ04pt2jZO/m9+m3qzOz5rJkfjLxhJ4ea1sNLtfturXpxBAeg7ZP8AhxWDeeJPHfhiFNR8Q6fY3Wnlh5y2p+eEH3z/AIj3pLfF78fLjzhn7JZfuwe3Cj/2Y13Ov28d34c1CCYBke2kBB/3TTbo4X2VKVNS5knJvfXt2sg1ld3J9Pv7fU9OgvrR98E6B0b2NcRdeL/EWv61c2Hgezt2t7Rtk19cn5S3oP8AJ/Cq/gO/mi+D13KGJa2ScRnPTjI/nWV4D1nWV8Kxad4P0uK5uFdpLy7uztiRieF6gscYrWngY0ZVpWUuWXKubZb6v+t2JyvY6LQ/GWsW3iWPw/4zsobe6nGba4g+5J7dT+f6Vu+J7jxNAlv/AMIpZ2lyxLed9pOAo4xj5h71zukeKbqXxVBovjnRLW21E/NZ3KIGVj1wCc46dQevpXoFceLtQrRn7NLS9t4vzWu3z3KjqtzzybVvibbwPNNpWjJHGpZmL8ADqf8AWVr/AA98S6p4p0Se+1aCCLExSIwIVVgAMnknvWf8TNVnktrTwzphze6tIEYD+GPPOfr/ACBrrdI0yDQ9Et9PtRiO3jCj/aPc/ia1xE6bwalKnGMpPSy6Lru93p94K/NucrrvjLVrjxK3h7wbZw3N3Cubm4n+5F7dR/ntVa38Y+IfD2u2un+OLS2FveNthvbXO0N7/wD6h+NRfCVRcNr+oSczzXpVmPXHJx+tXfi9AkngR5mHzwXEbIe4JOP6108lCGKjgXTVtE39q7W9/XoTry81zuqKo6JM1zoNhNJy8lvGzfUqKvV89KPLJxfQ2CiiipA2bD/jxj/H+ZqxVew/48Y/x/masV+/5T/yLqH+CP8A6SjyqnxsKKKK9IgKKKKACvLvi1cNaa94duEQyNDIzhAMlsMhxXqNZupeHtL1i8tLrUbbzprNt0DeYy7DkHoCAeQOtdGHqxpVFOWxx42hPEUHTg7PT8HcpzeNNAi0VtSGp2zxeXuVBIN5OPu7eufauD8E6Jd6n4A8RyrGVbUywgX+8VBP8zj8K7K5+HHha6v2u5dMXezbmVJHVCfXaDiulggitoEht40iijG1ERcBR6AVr7anTg1Svdtb+RzvDVq9VSr2sk0rX1vo3qeReBdC8F61ooi1iJE1WFmWZJbl4ywzwQNw7ccelbug2PgSHxolnoNrLLf2wMi3EUryRLxzzuI746Y5rodX8BeHNbumur3T1Fw/LSROyFvcgHBPv1q/ovhzSfD0LR6PZJbh/vsCWZvqxyfwrSpiozTalLXpfT/hvkY0MDOm4xcIWj1tq/w0fnc4rRf+S6ax/wBe39I69Gk5ibHoaz4fD+mW+uzazDbbb+ddkk3mMdw4/hzjsO1aVctaoqjTXRJfcd+FoSoxkpdZN/eeYfCLUrK2s9Rsrm6hhupLzKQyOFZ8jHAPXkdq9PrAl8D+HptZXVW05VvFkEvmRyOg3g5zgEDOfbmsKXR/iS0zmLxJp6xljtBhXgdv+WVb1fZ4io5xlb1/S1zmoe1wdJUpx5rbcv63t+p3lefXUfgjxvrV5bXsL2mpWx8t5JGELvjg45w2Mdx6VZstJ+Ikd9A974isJbZZFMqLCoLLnkD90O1bOteCPD+v3JudRsFa4IwZY3ZGP1wefxqYclGWsvnHp+RVX2mJhZU9t1Nb+lr2OD0Qt4a+Jtronh7VpdR02YfvoWkDrHwc9OMjAOQB6VZv9Qg0L45G71Rxb21xbhVlfhRlMAk+mRiu60Twrovh3cdIsUhkcYaQku5HpkknHsOKk1vw1pHiKNE1iyS48v7jbirL9CCDj2rV4qm6l2nZqzfX1OeOBrRo2i0mpcyWtl5dzgPix4k0u/0GDT9Ou4ryXz1ldoHDqigEckcZOelHxK/5JvoOOuYf/RRrsV8A+GV0ttPGloLZpBIwErhmYZwS2dx6njOOaval4a0nV9Nt7DUbTzra2IMUfmOu3AwOQQTx60QxFKHIop2i2wqYLEVfaubV5JLrpb5FHSPGGi3Hh+G7n1G2t2jiAnilkCvGwGCpU85z+dcp8N92r+M/EHiCNGW1mcpGSOpLZ/kB+ddTqXw/8Nate/a7zTgZj98xyMm/6gH9etbljYWumWcdpp8CW8EYwsaDAH/1/esnVpRhJU73l36G6w+IqVYOs1aHa+r2+R5/8Iv+Y/8A9fa/+zUXH/Jfbb/r0/8AabV22keH9M0H7R/ZNt5H2l98v7xm3H1+YnHXtQ3h/TH19dba2zqCpsE3mNwMYxtzjofSqliIOrOfRq34EQwVSOHpUrq8ZJv72zi/jJ/yA9M/6/P/AGU1H8Wf9V4e/wCvk/8AstdzrOgaZ4ggih1e2+0Rwv5iDzGTDYxn5SKTVvD2l64Lcara+eLZt8X7xl2nj+6RnoOtFLEQh7O/2b/iGIwVSq6tmvf5bfLuZHjPVvD1sLTTPFFq80F63yOU+SMg43FsgrjPUc4NcR4s8NaF4X0z+2PDOuS2t5uXyYo7oN5gJ524+bpznJFep6ro9hrdkbTVbWO5hJztfqD6gjkH3FYVn8NfCtldC4j0wSOpyomlZ1H4E4P45p0MRCnFXb810YsXhKteTsou+z1TX3b+RWvPEtlb/D/TrrxhZyXCX8SLKixBgWIzkgkYzjNc34g8I+E7HRJdb0HWWsZUj32/lXQZXbso/iyenB4r0+9sLXUbN7S+t457eQYaN1yDXNR/DDwnFcCUaYWwchGncqPwzz+NFHEQhrdrXZbMMTg6tTS0ZaWu7pp97r/gHL6hqV9q3wKa61RmecuqiRusiiQAE/4+1P8AFWmzX3wZ0iaBS32SKGVwP7uzBP4Zr0S/0XTtT0k6ZeWqvZEKPJQlAAOgG0jHSp7Wyt7KwisraMLbxII0jJLYUDGOev40LFRjZxW0r/IHgJTupyunBRv1uuph6F4v0W98OW12+o2sG2FRKkkqq0bAcggnP+Nct4CJ1z4ha74hgRhZNmKNyCNxJGP0XP4iuhuPhn4Uubozvpmwscskczop/AHj8MV0djYWmmWaWmn28dvBGMLHGMAf/X96l1aUIy9ne8u/Q0jQxFScHWtaGul9Xt8jz/4X/wDIw+Kf+vv/ANnej4k/8jh4U/6+f/Z0rttL8P6ZotxdT6ZbeTJePvnbzGbeck55Jx1PSjUvD+maveWl1qNt501m2+BvMZdhyD0BAPIHWn9Yh9Y9r0t+liPqVT6n7C6ve/l8VzSori9U0r4gTapcyaVr9jBZtITDE8SlkXsCfLP8zVUaN8TMjPiXTsf9cV/+NVkqCavzr8f8joli5J29lL7l/mUfih/yNXhf/r4/9nStv4oaRLqvgqY26F5bRxOFA5IGQ36En8K3NR8OabrM1ncatbfaLizIaJxIy7WyDnAIB5A61q1f1hRVPl3j/mR9Tc3W59p2/KxyfhXxro9/4XtprrUba3ngiCTxzShWUqME4PUHr+Nc54Qc+KPijqfiKFW+xW6GKFyMbjgKP0BP410158NvC17eG5l03Y7HcyxSsisfoDgfhit/TtNs9JsktNNt0t4E6Ig/U+p9zVOrRgpOne8u/Qzjh8TUlBV2rQ10vdtbeh5vdXKeDfjFLe3/AO60/VY/9cR8qk4yfwYc+xrX+Ifi7TIfCVxZ2N9BdXV8nlRpBIHIU9WOOgxXW6touna7Z/ZdWtUuYs5AbIKn1BHI/CsjS/h94a0i8W7tNPDToco0sjPsPsCcfj1pqtRk4zmneP3O2xMsLiYKdOk1yybet7q+/r5E3gfSZNF8G6faTrsm2eZIp6hmO7H4ZxW/XKeIdO8aXOrNJ4d1qzs7LYAIpowzBu5yYz/Osv8Asb4mf9DNp3/flf8A41Wbp+0fO5pN69f8jeNZ0EqUaUmo6dOnzNbxv41t/Cmn7I9suozL+4hJ4H+23t/P865/wXDodhM+ueIvEGmXOt3XzMz3sZ8gHsOevbjp0Hv0k3grTtbtrSbxZbpf6lFAscs6SuisRzwFKjqT2qD/AIVj4Q/6BH/kzN/8XWkKlCFPk1u92ra/jsYVKOLqV1VtFpbJt6ebsnr+Q/xpFH4j+H9+NImjvBtDo0Dhw2xgSAR1PBrkPB2geBNb8OwS3scS30aYuUku3Qgj+LG4cHrxxXpek6RY6Hp62OlweRboSVTezYJOTyxJrG1L4d+GdUu2ubjTQkrnLmGRowx9wDilSxEYRdO7SvdNb/MdfBzqVI1nGMnazT2+Tt+hkeErbwUPFc8fhm0mN3Zoc3KyO8RB4OCWIPXHT6VheGdctNH+K2vrqEiwQ3UzxiZzhVYPkAnoM816XpGh6boNqbfSLSO2jJy23JLH3J5P41534X0yz1fx94us9St0uLeRzuR/988g9QfcVtCpCftG7tWW++5z1aNSk6MYqKlzN6Ky2f8Aw1y18U/ENjd6DFo2nXMV5d3U6fJA4faAe+O5OMCqPjfT59Bj8JapKhkj01Y4Z9vOCu0/rg12ukeA/Duh3gu7DTwLhTlJJHZyn0ycD69a3bm1gvbaS3u4UmhkG145FyGH0rOOJhT5YwTaV73630NpYKrX551WlJ2tbVKzv+ZkXPjHQbfR21EanavF5e9VWUFmOOFC9c+1cH4K0K71H4eeIZfLKvqhbyFP8W0E8fUnH4V1ifDHwnHc+cNMzg5CNO5XP0z+ldVFFHBCkUKLHGgCqijAUDsBUe2p04ONK+rW/ka/Vq1eopYiySTVlfro3qcB8MfEmmp4VTTLy6htbuzd1aOdwhILE5GevXHtW3pvje01jxZNo2lwNcxQoWkvUcGMY9PXnjNP1fwF4c1u7a6vdPAuG5aSJ2Qt9QDgn361paNoGl+H7ZoNIs0tkY5Ygksx92OSaVWpQm5TSd39yYUKWLpqFNtcsevVpdLdPM4jwb/yVrxR/wAC/wDQxTvjJ/yA9M/6/P8A2U12ll4f0zT9WutTs7by7y7z58nmMd/OehOBz6Cl1nQNM8QQRQ6vbfaI4X8xB5jJhsYz8pFUsRD28anRW/Il4Oo8JOhdXbb8tXcxvF+r6BZ2lnp/ie1ee3vSArbMohGBuLZBXGeo5rivFfhjw/4b0ptZ8Na3LaXYKmCOK6DCQE9Fx83TnOSK9T1LSLDWLE2ep2sdzAf4HHQ+oPUH3FYNp8NPCtndCdNM8xlOVWWV3UfgTg/jmnQrwppavzXRk4vCVa0naMX2bumvu3/Al03xPFZeBNP1jxLN5DSxLvbYSXY9MADuBms/4gRr4k+G8l1pL/aIhsuUKg/Mo68deAT+VdNq2iafrmn/AGHVLYT2+QwTcVwR0IIIIqxZWVvp9jFZ2cSxW8K7EQdAKxjUhGSqRWt7+VjqlQq1IOjNrlcbX6379jmvB/izR7vwlZGTULa3lt4FjmjllVChUYzgnpxnNT+HfGkHiS51EWNnN9lsulxnIm64Cj6DP5VHefDbwtfXZuJdMCOxywilZFb/AICDgfhit/TdMstIsktNMtktoE6Ig7+pPUn3NVUlQabind9+n+ZFGGLTjGo0ortu/v2OATTvAfj17m7jDWF2HIl/eCGRv9raSRg+uM+tVvAV3cWHj2+0HT9Tk1PR4oiyOzblQjGMHp1JHHBrrdU+HvhrVrx7q604LO5y7wyMm4+4Bx+OK1NG8P6X4ft2h0izjtlY5YjJZvqxyTW0sRT9m4pt36Pp8zmhgqvtozairPVq935W29dziPHZ/wCEa8caN4oQEQufIuto6jH/AMST/wB81N8L7WS/l1bxNdL+91C4ZYyeyg5OPxIH/Aa7TV9F0/XrH7Hq1uLiDcH2FmXkdDkEGpdO0600nT4rHT4RDbQjCICTjnPU8ms3iE6HJb3tr+W5tHBSWL9rf3N7f3mrFmiiiuI9MKKKKACiiigAooooAKKKKACiiigAooooAKKKKACiiigAooooAKKKKACiiigAooooAKKKKACiiigAooooAKKKKACiiigAooooAKKKKACiiigAooooAKKKKACiiigAooooAKKKKACiiigAooooAKKKKACiiigCvf8A/HjJ+H8xWNWzf/8AHjJ+H8xWNX5Jxr/yMYf4F/6VI78N8AUyaITQSRN0dSp/EU+iviVodJ5j8OdVg8NXepeFtamS0nhuC8BmYKJFPoT9Afxo8f6lb+Kta0jwxo8kd25uRLcvE25UUcYJHHAya7TXPCOh+I2V9XsUmkQYWVWKOB6ZBBI9jTtC8KaL4bD/ANj2KQO4w0hYs5HpkknHtXvLMMOqrxaT9o1tpa9rXvv57b9TLkduXoSaxr+l+GrOKXVroW0TsI0O0sSfoAa0opUmhSWJg6OoZWHQg9DVDWdA0zxDbJb6xaLcxxvvQFiMH6gg1dEEa24gRdkYXYFU4wMYwMdK8eXsvZxtfm1v28rfqaa3POD/AMVz8Usff0nQv++ZJc/4j/x2vS6ztG0DTPD9vJBpFqLdJX3v87OWb1JYk1o1vi8RGtKMaekIqy/V+rYoq255n4imHhP4s2eu3YK6ffw+RJLjhDjHP5Kfzrf8ZeMdK07wpdPb39vPcXEJjt44pQxYsMZ4PQetdHqWmWWr2TWmp20dzA/VJBnn1HofcVhad8OfC+l3q3dtpimVDlDLI8gU+wYkV1xxWFqKnKunzQVtLWaW3p2e5PLJXsU/B/hyW2+GC6ZcKY57yCRnB4KlwcZ/DFZXwu1mw0zR59B1KaKy1G1uH3xzMEL5PUZ6+lekVha14L0DxDOJ9V05JZwMeajMjH6lSM/jURxsKvtIYi9pvm06P0e61DlatY4zxRf2vif4j+H7HRJVuZLKXzZ54SGVBkEjI+n616ZPPHbW8k87BI41Lux7ADJrO0Tw1o/h2N00exjtt/32BLM31Ykn8Kuajp1tquny2V/GZLeYbZEDsu4emVINZYmvSqunThdQjp56u7fb0VxxTV2cD4Egk8T+KdR8YXqny9xt7FW/hUcZ/L9Sa9H61W07TrTSdPisdOhENtCMIgJOB9TyfxqzWWMxCxFXmirRWiXZLYcVZHl/g6/h8H+NNa0HWJVtkuZvPtpZTtVwc45PHQj8RU3xN1q31i2s/DOjzx3d5eXC71hYMEA9ce/OPQV2mueGNH8RxKmsWSXBT7j5Ksv0YYP4VDofg3QfDkrTaVYLFMwwZXYu2PQFicfhXorHYZ1VipJ+0XTSzaVk77+drEcsrcvQ1bK2WzsLe2T7sMaxj8Bip6KK8Rtt3ZqFWILKWbBxsX+81aFrbQrDG4jG4qCSeeas1+j5ZwbGUY1cZO6eto/q/wDJfM454jpFDIIhBCsYOdven0UV+i0qcKNONOCskkl6I5G23dhRRRWggooooAKKKKACiiigAooooAKKKKACiiigAooooAKKKKACiiigAooooAKKKKACiiigAooooAKKKKACiiigAooooAKKKKACiiigAooooAKKKKACiiigAooooAKKKKACiiigAqGK0toZnlht4o5JPvuiAM31PepqKLismFFFFAwooooAKKKKACiiigAooooAKKKKACiiigAooooAKKKKACiiigAooooAKKKKACiiigAooooAKKKKACiiigAooooAKKKKACiiigAooooAKKKKACiiigAooooAKKKKACiiigAooooAKKKKACiiigAooooAKKKKACiiigAooooAKKKKACiiigAooooAKKKKACiiigAooooAKKKKAK98CbKTAz0/nWNXQ1Vk0+BzkAp67TXw/EnD+IzKtHEYdq6Vmnp1b0fz8jpo1VBWZkUVdl010TdG3mY6jGDVVopEGXRlHqRivzfF5XjcFLlr02vxX3q6/E7IzjLZjKKKK84sKKKckbyZ2IzY64GaqMJTlyxV2Gw2irIsLkkApj3LDin/ANmTf3o/zP8AhXq08kzOorqhL5pr87GbqQXUp0Vc/syb+9H+Z/wo/syb+9H+Z/wrT+wM0/58SD2sO5Toq5/Zk396P8z/AIVINKOBmbB74X/69aU+G82qOyov5tL82hOtTXUz6K0f7K/6bf8Ajn/16P7K/wCm3/jn/wBetf8AVbOP+fP/AJNH/wCSF7en3M6itH+yv+m3/jn/ANej+yv+m3/jn/16P9Vs4/58/wDk0f8A5IPb0+5nUVprpcYHzyMT7cU7+zIf70n5j/CuiPCOatXcUvmhfWIGVTo42lcIgyx6CtRdNgDZJdh6E1NHbQxcxxgH16n867cLwZjJzTxElGN9bO7t5aW/rYmWIjbQkRQkaoOigAZpaKK/VoxUYqMdkcAUUUVQBRRRQAUUUUAFFFZGuW0E/ktqGpfZLNSd8W/y/NPYFs5x7UAa9FcdaXemWfiKxg8P3TvFOzJPCHZ06ZBy3erc9ob/AMa3MDzSJB9kQyLGxUvyeMjoPWgDpqK5uOxTQvEdlFp7yLa3iuskDOWUEDIYZ710lAGfZ6i9zrF9Zsiqtts2sDy2RmtCuXh08aj4p1eKeRxbgRl443Klzt7kc4qWztBoniiGyspJPsd1Az+S7lgjKRyM/WgDo6K502//AAkOs3sV5JJ9hs2ESwI5USPjJLEcmljgOga5aW9rJIbG93J5LuW8twMggnnBoA6GisLTmJ8YauCTgRw4H4Gluif+E3sBk4+yycfjQBuUVylrpi6rr+sx3ksptUmXMKOVDHb3I5x7V1EMKW8CQxDCRqFUZzgCgB9FZGuW0E/ktqGpfZLNSd8W/wAvzT2BbOce1Ytpd6ZZ+IrGDw/dO8U7Mk8IdnTpkHLd6AOxornrmE654hnsZ5ZFsrSNS8cblfNdvUjnAFVdQ0waVqWkJZSyLaPdjMLuWCtg8gnnB9KAOrorB1ASat4gGlGaSK1hhEs4jbaZCTgLkdqgvLFPDUlteaY8qW7TLFPA0hdWDHG4ZPBBoA6Ws+TUnTxDDpwjUpJA0pfPIIOMVoVzOrW8l34zs4Y5mhVrVxIyHDbc8gHsT60AdNRXMajpkfh2JNS0lpYxHIvnxGRmWVScHIJPPNWrlvsHiu1uQcQX8fkv/vjlT+XFAG7RWHd51DxZbWwP7qxjM8g9WPCj+ZrcoA4+Dxwx+I8/hq5gjSIDEMwJ3M20Ng9vWuwrybWNNlu/E/iu9sh/pumSW13AR1yq5I/EZ/Kuz1jxXFF4B/tuzOZLqFRbqOvmPwB9Qc/lXdWop8ns1vZP1tc8rDYqS9p7Z7NteibX4W/FFXRvG7az48vtDggi+y2qNtnBO5mUgH2xkmuwrzXwrow0H4hWlif9aujb5m/vSM+WP5/yrR8R6ZoL63Nc+MvECyQFR9n04zGIRD12q25ifXiirSpuolDa3a7YsPiKyouVTV8z3dkvn5bbM7mivPvAOqWreKNV0vRb2a70eOJJrbzSx8o8BlXdzjJ/SqXhjwvbeJLvXTrE88tnFqcoS0SUohbPLNjknGAPTn1qHh1FvndkrdO/kaxxrmo+zjdyut9NPO2x3Jl1z/hKBELe2/sbyMmbcfN8z0xn+n41q1xcaiL4wrEmQiaQABn0eneFs6L4y1vQHJEMrC+tQf7rcMB9Dj8qUqV1ddEmVTxFpWa3k1vtp6bHZUVxnhoNrXjPW9d3Zhgb7BaE8jC/eP5/zrHvdM8H2008ni/xGdS1Eu2ZBOwaHngLGhO3HoaFQXNyt66bK/8AVgeLfJzpK13q3Zaf59ND0uqeqPqEenu2jxQTXeRsSdiqHnnJHtXOfDbVJtT8NzCe5kultrp4Yp5c73jGCpOec4NdfWU4OlUcX0OilUVekpx0ujg77xP4w0/VbDT7jS9K8+/Zlh2zORlRk5Paui0ifxHK0/8AbdnYQAJ+5NvKzZb0Oe1Y/ir/AJH/AMI/9dZ//QBXYSf6p/8AdNbVZR5I2itV+rOWhGftZ3m3yvy7J9vMzvD8uszaZu8R29vb3nmMNlu2V29j1PP41p15ZYM3/Ch79txzuk5z/wBNatX/AIPtl8CjW5bu7bV4LJbiO6E7DYQoIVV6BR09auWHjzO7trbb/gmcMXP2a5Y391S1f/A3/rQ9JorzyPwnb694PTXNVurqbV5bX7Ql0JmXyTtyAqjgAfT1qaTxPqFv8J9P1BJN2pXgS3jlbn5yxXcffAz9az+r30i7u9jZYy13ONlbmWt9P89fP1O9orim+G1itiZY7y9GshN39o/aX3mT1xnGM9vTvWVq2tXGt/BW5u7w4ukKwzMOMssgBP40RoRm1ySvqlt3CWKnTT9pCzs2tb3t020f3npVZuvS6vDpLv4eggnvgw2pcHCkZ57jnHvXK3fgO0n8OtqNxd3b6wlv5y3onYFGC5AVc4CjpjHSqmvalcap8Eob66fdPKsW9xxuIkAz+OKqFGLlFxd9bbf1dfcRUxU1CSnG3utqz/4Gj+89EgMpt4zcBRLtG8IcgNjnHtmn1wHjGCa78SeEra3uZLV5TKpljPzKNi5I98ZwfWoPEvhy28HR2eueHpbi3uFuo451adnFwrHB3ZJ5pRoRly+9rLbTzKli5xcrQuo2u7+Seit5+R6NRXPeLrGO9s4Bfa7/AGRp6yf6SAwjM47LvJGPpzmuHkv/AA3ofiLST4I1CTzJbtYbu3SSR45Y24yS3GfoaVLD+0jdPX00+bHXxfsZ2klbTqr69l1/A9ZooorlO8KKKKACiiigAooooAKKKKACiiigAooooAKKKKACiiigAooooAKKKKACiiigAooooAKKKKACiiigAooooAKKKKACiiigAooooAKKKKACiiigAooooAKKKKACiiigAooooAKKKKACiiigAooooAKKKKACiiigAooooAKKKKACiiigAooooAKKKKACiiigAooooAKKKKACiiigBrxpJjeitjpkZpv2eH/njH/3yKkorCWHozlzSgm/RDu0NWKNDlEVT6gYp1FFaQhCmuWCsvIV7hRRRVgFFFFABRRRQAUUUUAFFFFABRRRQAUUUUAFFFFABRRRQAUUUUAFFFFABXOaxCbfxFBqF1YSX1oITGBHH5hhbOc7f610dFAHLzzXOpa5pM0GnXENpDK2WkjKnO3rjsPc1fhglHjO6nMTiJrRFEhU7ScnjPrWzRQBk6lDLJr+lSJG7JG0m9gpIXK8ZPataiigDG02CWPxJq0rxOscnl7HKkBsDnB7066hlbxbYTLE5iS3lDOFO1ScYBNa9FAHPubjQdYu7gWk91ZXjCQm3Tc0b4wcr6H1ohNxrmtW129pNa2dnuZPPXa8jkY+76AV0FFAHOXb3OjeJJ75bC4vLW7iVWNsu9kZfb0pITfXvi2zvZrKW3t/s7qgdeV/3scAn0rpKKAMbR4JYta1l5YnRJJlKMykBht6g962aKKAOc1iE2/iKDULqwkvrQQmMCOPzDC2c52/1qKea51LXNJmg064htIZWy0kZU529cdh7muoooAwryG90zXJNSs7VryC4RVnijIDqV6MAetUtSuru91LSJprR7SAXgCpNje52nkgdAP61sahZahJdJc6ZfCF1Xa0My7o3/LkH3qvDpN/dahBd61dQyfZyWigt0KqG/vEk5NADdRiudO1xdWtreS6hki8q4iiGXGDkMB3+lV7mafxHPb20Nlc21pHKss8tzHs3beQqjvzXSUUAFc7qiX0Xiu1vLS1eeOK2bzAB94Z+6D03dwPauiooA5q+urjxEsdha2F3bwtIrTzXMWwBQc4HqTWj4htDcaJIYeJbfE0R9GXmtSszVtPvdSxBFeLb2jrtmUR5dh6A9uKAK/hhZJ7KXU7hds1/J5hGc7VHCj8q26ZFEkEKRRDaiKFUegFPoA5LQbG5j8feJp7i2lS3uBCI5HjISTC84J4Nc9pXhrVB4vi0W6t5BoOmXb30ErIdj5wUQHocEnj616dRXUsTJXst0l9ytc4JYKEkk3s2/W7vb0v+Ryf2O6/4W19s+zTfZf7M2ef5Z2bt/3d3TPtWJaFfDPibV5Nb8PXuozXd0Zba9t7UT5Q9Ez/AAn2/wDrV6PRSWIto1pa33DlhE3dPW7e19zhfDC6ndfETVdTv9LuLCC4s0EIlQ9ARgE9N2BkjtV7wJZ3Vn/bn2u2mg83U5Xj82MrvU4wwz1HvXWUUp13JNW3t+BVPCqDT5r2bf3nJ/Y7r/hbX2z7NN9l/szZ5/lnZu3/AHd3TPtVH4kfadJ+weI9NANzas1sw/vLICB+R/nXdVzF74Z1HWNfin1fU0k0u2nE8FlHDglh03t3xV0qq51KWyVvUyr4eXspQhduTv6Pv8ifRNCl0zwLHpcL+XdNbNuk9JXBJP5n9K5bwxqCeG9Li02TwhqB1iPKtJFaArM2ThvN9OnPQV6TRUKu7SUle7uaSwqvFwduVW2vp/nocf8ADi0v7TSdS/tW1ktZ5dQlkKuhUHOOVz1Gc4NdhRRWdSftJuXc3oUlRpqmnexyfiWzup/G/heeC2mkhglmMsiRkrGCoxuI4H411UgzGwHoadRRKbkort/ncIUlCUpfzO/4Jfoea2Wl6gnwVvbFrG5W7Yybbcwt5hzLnhcZ6V1Go2s7/DWW1SCRrg6YEEQQly3l4xjrnPauiorWWIcne3W5hDCRhHlv9nl/P/MwNHtp4vh7bW0kMiTrp+wxMhDBtmMY659qwLfw1e6n8JbDTxG9tqNuBNEkylCsiuSAQemR/Ou+oqVXkndd7lSwsJJKW3Ly/l/kcW3jfUWsTbJ4X1casU2bDb/uQ/TO/P3c85//AF1S1TwzeaZ8H59Kjiku759skiQKXLO0gYgAdcf0r0GiqVdRa5I21v8AcRLCOaftJ3umvS+/zKE0bnw3JEEYyG0KhMc52dMetcNd6XqDfBG2sVsbk3iqmbcQt5g/e5+7jPTmvSKKmnWcOnVP7jSthlVvd/Zcfvt/kcfrtldTeLvCU0VtM8Vu0nnOsZKx5QY3Ht+NT/EK0ub3wzHFZ28txILuFikSFjgNycDtXU0UKs04u3w/53FLDJxqRv8AH/kl+hxHjWxlXxJpGr3GlzavplqjpNawx+YyMej7O/8A9aszXb288Qz6IukeHr+20+21CKSSSW2KHr1CjPygZyx46V6VRVwxHKldaozqYPncrSspavReXXtoFFFFcp3hRRRQAUUUUAFFFFABRRRQAUUUUAFFFFABRRRQAUUUUAFFFFABRRRQAUUUUAFFFFABRRRQAUUUUAFFFFABRRRQAUUUUAFFFFABRRRQAUUUUAFFFFABRRRQAUUUUAFFFFABRRRQAUUUUAFFFFABRRRQAUUUUAFFFFABRRRQAUUUUAFFFFABRRRQAUUUUAFFFFABRRRQAUUUUAFFFFABRRRQAUUUUAFFFFABRRRQAUUUUAFFFFABRRRQAUUUUAFFFFABRRRQAUUUUAFFFFABRRRQAUUUUAFFFFABRRRQAUUUUAFFFFABRRRQAUUUUAFFFFABRRRQAUUUUAFFFFABRRRQAUUUUAFFFFABRRRQAUUUUAFFFFABRRRQAUUUUAFFFFABRRRQAUUUUAFFFFABRRRQAUUUUAFFFFABRRRQAUUUUAFFFFABRRRQAUUUUAFFFFABRRRQAUUUUAFFFFABRRRQAUUUUAFFFFABRRRQAUUUUAFFFFABRRRQAUUUUAFFFFABRRRQAUUUUAFFFFABRRRQAUUUUAFFFFABRRRQAUUUUAFFFFABRRRQAUUUUAFFFFABRRRQAUUUUAFFFFABRRRQAUUUUAFFFFABRRRQAUUUUAFFFFABRRRQAUUUUAFFFFABRRRQAUUUUAFFFFABRRRQAUUUUAFFFFABRRRQAUUUUAFFFFABRRTZJEijaSV1RFGWZjgAepNADqKwF8deFnuvs6+INPMmcf69cE/Xp+tbysGUMpBBGQQetAC0UUUAFFFFABRRRQAUUUUAFFFY0vjDw3BM8U2v6ZHJGxV0a7QFSOCCM8GgDZoqjp+uaVqxYaVqVpelPvC3nWQr9cGpb/UbLS7b7RqV3BaQ5C+ZPIEXJ7ZNAFmisT/hNfC//QxaV/4GR/41oWGq6fqlu1xpt7b3cKna0kEodQfTIoAt0ViHxp4YViG8RaWCOCDeR8frWhp+radq0bSaXf214inDNbzLIB9cGgC3RWdqHiHRtJnEOqarZWcrLuCXFwqMR64Jqr/wmvhf/oYtK/8AAyP/ABoA26Ko6drmlau0i6VqVpemMAuLedZNuemcHjpV6gAooooAKKKKACiiigAooqub+zGoCwN1CLtk8wW/mDeV/vbeuPegCxRRRQAUVXu7+z09Y2vrqG2WVxGhlkC7mPRRnqfarFABRRRQAUUVBfX1tpljNeX8ywW8Kl5JG6KKAJ6KradqNpq2nw32nTrPbTLujkUEZH481ZoAKKrx39pLfS2UV1C91CoaSBXBdAehK9QKsUAFFFFABRRRQAUUUUAFFFFABRRRQAUUUUAFFFFABRRWdq+v6XoKQNq95HarcSCKLeCdzHtx/PpQBo0UZz0ooAKKKKACiiigAoqut/aPqD2K3UJu0QO0Acb1U9CV6496rWuv6Xe6xdaVaXkct9aAGeEZyn49D+FAGjRRRQAUUUUAFFFFABRRRQAUUVXub+0s5II7u6hge4fZCsjhTI3ouep9hQBYooooAKKKKACiiigAooooAKKKKACiiigAormx8QPDT+Ik0SLURLfPJ5QSKJ2Ab03AY/WukoAKKKKACiiigAooooAKKKKACiiigAooooAKKKKACiiigAooooAKKKKACiiigAoqK5uoLK1kubyaOCCMbnllYKqj1JPSnRSxzwpLA6yRyKGR1OQwPQg0APooooAKKKKACiiigAooooAKKKKACiiigAooooAKKKKACiiigAooooAKKKKACiiigAooooAKKKKACiiigAooooAKKKKACiiigAooooAKKKKACvPfifKk2oeHdL1KdoNHvbsi8YNtDYA2qT2BNehVS1bR7DXdOksdWtUubeTqj9j6g9QfcUAZj+BfCk1mYP8AhH9N8tlwHS3UNj1DgZz75pPB3h+78MaVPp11fC6tUmZrTOd0UR6ISfSsBvhvqGjjf4M8U6hp+3lLS6bzoPpg9B74Nang7xVcaxp2oweIYora/wBJlMN5sP7tgBnePYgGgCrL8Sobi+ntvDuh6nra27FJbi1jHlBh2DHr/nGa2fDPi2x8TpcJbxXFpd2jbLi0uk2SRH3HpXOaf40u7u3ZfAngqa6sBI2J2ljtInOeWUEc81T8Iz6pL8YNYbWrWGzuZNPjZ4IJN4AyMZbuaAN+7+IdjbalqOmxWN7d39lKsS21ugd5yRnKgHhQOpNV7H4n6Y811bazY3uj3lunmC2uo/nmB4AQDliT2qr4OhjPxP8AGcxQeYJYVDdwNucVF4ujRvjF4N3Ip+WfqPRSR+tAFxfibDb6jbwa1oGraTb3LiOK6u4cJk9M+n6112panZ6Rps1/qM6w20K7nc+n9TXIfGL/AJJpet/EssJU+h8wVn/Eye5Np4XtILT7cs94jNamQRicqoKqWPA59aALv/C0P3P2z/hFdd/szr9s+z8bf72M9PfNdlpmp2msabDf6dMs9tOu5HXv/gfauR/4SbxuU2f8K+G3GMf2tDjH5VJ8M9K1fSNK1GDWNP8A7OSS9ea2t/NWQIjYOAVPQH6UAdpXlvw60DSNXvPFEmq6XZ3siaxMqtcQLIVGegJFepV454N8Kza/qXiWaLxBq+lCPVpkMdhcmNX5JyR3NAGr490HSvDc2j6v4ctYtO1T7fHFGlqoQTqT8ylRweK0fjAofwVArgENfQgg9+ax9b8NX/gSZPFcGoza+loQJ49UHmyohOC0ch+6ea0vizKt/wDD21mhZlS4uoGVh1Abof1oA6ZPBfhcxrnw7pfQf8ucf+FX7fS7DStPmh0uyt7OJgzFIIgik464Fcavw11IoD/wnniIcf8AP03/AMVXVaPpM2ieH2srjUrrU3UO32i7ctIc84JPpQBw/wALfDeh6n4NNzqWj2N3ObuYGWe2R2IDcDJFJ4w0Sw8Ga7oWueG4EsJpr5LWeCE7UnRu20cVkfD+28dy+GS3hq90eGw+1S4W7VzJu3c9FIx+NX/CdrqHifx1df8ACb6iZr/QZcwWCRhIuekox94fh6c9qAPRtQ8PaNq04m1TSrK8lVdoe4t1dgPTJFef6f4a0N/jJqti+j2LWkenxukBtkKKxIyQuMA16jXA6Z/yXTWP+wbH/MUAdhp2h6VpDSNpWm2lkZAA5t4Fj3Y6ZwOetXqKKAONf4kWbSXltY6Xf319a3T2/wBktow7ttAy/B4TnGT3plj8T9Lniuo76yvrDUbYhTp0sOZ5SegRf4j/AJ6c1W+GsSDV/FsoQeYdWdS2OcAZA/U0y8ijPx809iilv7Lc5xznJoAu2XxIhfW7fTda0TUtGe7bbby3keEduwz2NdDr/iDT/DWltf6rKY4gdqqoy0jHoqjua5f4sAf2FpTY+ZdVg2nuOTTfEsa6h8W/DVlefNbQwS3KRt91pB0P4YoAcficLZVuNW8L63p+nsR/pctv8qA9Cw7D867aC6gurNLq3lSSCRA6yKflK4znNF1bxXdnNb3CB4pUKOrDggjmvKNGvbm1+BWuLDIxFo88ED55CbscH8TQB0j/ABMiubuZNA8P6trNvA5SS6tYf3ZI67T3rM03WbTXvjJY3tiW2HSJFeORdrxMH5Vl7Eeldl4Qs7ew8HaVBaKBGLVDx3JAJP5muV+yQW/x/WWBVV7jSmeUDu27GfyA/KgDpfEvi+w8MLBHcRz3d5cnFvZ2qb5ZfoPT3rKsviPAdSt7LXtG1LQ2um2QS3sWI3b+7u7GubfVNaj+L+vT6X4eGtTWsEUEe66SHyEK5JG4c5Oenp71Y8VT+M/FHh240ubwJ5JlwUm/tSFjGwOQwHH86ANT4qf8g7Q/+wvB/Ou7rznx+twvhbwut8u25XUbUSgnOG78j3r0agDG1/xLb+HZtOW8hlaO+uRbCVMbY2PQtntUviPXrbwzoNxqt8rNFABlExuYk4AGe/NZnxF0ptX8C38cIP2i3UXMJHUOh3cfka5/VNRTxhB4N09cPHqDLe3Snn5IlyQf+BcUAdtoOtW/iHQrXVbMMsNym4K+Mr2IOKx4vFGm+IPDGtXc2nyS6dZtLDKkoUi4CD5toz0+tczp+qjwj4a8Y6aTtbS5nkth0+SYZTH4mtaz0f8AsP4Ky2bjEv8AZ0kkvu7KWP8AOgC02u21n8PLS90LRLt7S5g/dWtpGN0KlSckZwAO5rH+FPiK7uvD2n6fcaXqTja5OoyLmFuSfvZz7Vt+EP8Akk+nf9g3/wBlNQ/Cf/kmumfR/wD0M0AYn9uW2g/FnxHPcRzTySWkCQ21um+WZsfdVe/9K2LL4kwNrVtpuuaJqWiyXbbbeS8jwjt6Z9araLDG/wAbfEMropkjsoQjEcrkDOPyqT4uRqfCFvNgeZDfwNG2OVO7FAHdVk+JfENv4Y0ZtSvIpJIlkSMiPGfmOM89q1UOY1J9K4f4vqH+HsysMhrmEEf8DFAGhp3jb+2Nejs9M0XUJrBmZTqjRlYMgH7px8wyMZ4pNd8eWmlasdK0/T73WNRVd0lvYx7vKH+0e1dHaxpBp8McKKiRxAKqjAAA6V5P4G1rxLb2eo3WleEv7Va7vpXmvDqEcTMwONu1hnigDuPD/jmz1rU20u7srzSdTVd4tb6PYZF9VPerXifxbp/ha3hN4s1xc3Dbbe0tk3yyn2FcZqyeMfEPiDQryXwf/Zr6feK7XI1CKQ+WeGGBg4xzWnbxpe/HK8a7+Y2Omp9mVv4dx+Yj86ALMPxHjiD/ANuaFqej/u2eFruLCTFQTsDdA3HANazeLLVfA/8Awk5gm+zfZxceVxv2nt1xn8ab48tbe88B6xHdgGNbV3BP8JUZB/MVy03/ACbqP+wUv9KANm2+ICalqVrbaLouoX9vKyLNepH+5hLYyNwB3EZ5x+dW/EXjey0G/j02G0u9U1OVd62dlHvdV/vN6CrvhKGO38HaTHAixoLSMhVGByoJrzrwzrPiGLxN4nvdK8LDWJZNReKS4N6kJjVOFTDDOMc/jQB2OjeP7XUNYTSdU02+0W/lGYYr6PaJv91u5rS8SeKLHwxaxSXizTzXD+Xb2tsm+WZvRRXD+Jv+E08Tx2KN4K+wzWl2lxHcjUonKYPIxx1HvXQ+NPD2r32paRr3h7yJNR0pmItrg4SVWGCAex/KgBsHxESLULa21/QdS0VLpgkNxcoDGWPRSR0NbviPxLYeGNNF3qJkbe4jhhhXdJM56Ko7muVfx55ckNn498K3GmRySKqzyKtxb7+xLYwP1xWp438PajrEemajoDwm/wBLn8+GKf8A1cox0z2oAqj4kC0mg/t7w7qukWtw4RLq4jBRSem7HK1oeM73RbS102TXNNXUY5b2OOAbVbY7dG57Vhz+PZ7SNbfx/wCEriwtndVa4AW5t854Ldhz9ak+J7RvpHh9oCpibVbcoV6EZ4xQB12t65YeHdKk1DVZhDbx8cDJY9lA7muTPxP8iIXd/wCFdctNOPJu5LfhVP8AER2FN8Zol/8AEjwjpt5ta0Ly3BjYcO6j5fyru5YknheKVQ8bqVZSOCD1FAFN9ZtP7AfWLZxc2iwGdWiP31AzxXLj4lw3dnBNoehapqxkiEkq2sQZYM87Wbpu9hWN4Ndk+GviiyBJt7Oe7htyTkbMHp7V0/w0hjg+HGj+Uipvg3tgdWJOTQBb8LeLrDxZaTSWaTW89s/l3FtcJtkib3Fb1cHokawfGrxCsQCiWxhkcAdW45rvKAOFsP8AkuWqf9gqL/0IVq6Td6NL461m1stMWDUoI42uroIB5wYcc9e1ZVh/yXLVP+wVF/6EKTw3/wAlg8V/9cLf+VAF25+IlhBqGoafFY3t1f2c4gW1tow8kxxksoB4UdyaTRfiFbalrqaNqel3+jX8q7oY72PaJR/sn1qh4IgiPxD8ZzlB5oukQPjkLgnFL8R1Ca14RuFGJV1VUDd8Ecj9KAOp8QeIdP8ADOlm+1SRlTcFREXc8jHoqjua5kfE5bYxzaz4a1rTLGRgBdz2/wAiZ6FvT9azfG93qC/FDQo7DSf7Xa2tZJ4rRp1iBfON+W4yAKu6hrfjPUtNuLK5+HoaK4jaNgdWhIwRj0oA7O61WxstJfU7m5jSySPzTNnK7fUetcgnxOa4t2vbHwprlzpwGRdLAAGX+8BnkUmiyL4U+E0CeO7VVW1UxyW0gWbeNx2KBkgkjFPt/FXiq/hj/sTwM8VoyjypL28SHC9sx4yBQB1Gj67Y69okeq6ZIZbaRSRkYII6gjsRXKp8Ura9sY5ND0TUtUumLb7aCPJhAYrl2GQM44qr8JmlPhPV1uAquuoT7lT7qnAyB7Zq38IIY4/AgdEVXku5i7AcsQ5Az+AoA7eGQywRyMhjZlDFG6rkdK4j4h/8h/wf/wBhUfyruq4X4h/8h/wf/wBhUfyoA6DxN4r03wrZxzaiZHkmbZBbwJukmb0UVg/8LLWzkhbX/DmraRaTMEW7uIgUUnpuxytaHizxHpeiX9hFNpb6rq8hJsreCEPIvYsCfuj3rk/HGs+LdS8E6ml94Uh0yy8sGSWa+WVwMjoqjr060Adzrnii10G50xLuKRodRnECTpjZGx6bvY1sTSpBC8sp2pGpZiewHJri9b0d/EHwigij5uo7KK4gbuJEUEf4fjWfr/ip9U+EtlJZH/TtaCWSKDyJG+V/ywaAOr0HxVZ654cfW/Lks7JS/wA9xgZVerfSsD/hZ4uFa50zwvrd9pyk/wCmRW/yuB1Kg9R+VUviJZnQfhfYaRYxl4hPBbOgbb5gzkjPbJHX3q9B4i8aW9vHDB8PVSKNQqKurQgADoOlAHU6Frth4j0qPUNKm8yF+CCMMjDqrDsRXLn4oWlxCy6TpGoajfLM8ZtLePcyhDjcxGdqk9Kb8PtN1yy1zX7rVtH/ALItr+VJ4YBOkoD4IblT9D0HWmfCWGNNG1eVUUSSapOHYDlsHigDt7K4e6sILiWB7d5Y1doX+9GSM7T7iqmv+INP8NaS+oatN5cKnACjLOx6KB3NaVc94x1zR9D0+3k1mz+3vJMFtbVIRI7ydtoPQj1oAxW+JrW9uL2/8Ka3a6aeTdPAMKv94rngVvaz4hW28Ox6jptldarFcp+7+xJuIUqSG5xxXNav4g8Y6lod8ieDUsrV7d9015fISF2nJKAZzjtWh8OmZ/hRp+45xbOB9MtQBzvwe1dk8PWenjQr4+dLK8mpCIeSxyerZznjFM1bxdfR/FOwkXQtY2w20sf2RUG6fkjzFXOCPet74O/8kysP+uk3/oxqTVf+S2aH/wBg6b+ZoA6ldZgi8PjVtTSTToRF5sqXI2tEPRh6+1coPihviN5b+Fddm0wc/bFtuCv94DPT3zUXxdnnXSdHtIbf7Ul1qUavblwgmxkhCx4GSO9WV8TeN0QIvw9AUDAUatDgD06UAdPp+u2OraENX02YXFq0ZcFeDwOQR2PtXKx/FGC/s7eTQdD1LVJpV3yRQR5FuMkDewyAeM4qLwTpesaXo/iP+19M/syK5lkuLe289ZQgZTuAKnpn6Va+EUEcPw2sDEgUyM7uQPvHceTQB2qHcisRgkZwe1eb/FjX7u0soLK30/UAq3MMn2yIYjbk/u85zk+lek1w3xZ/5FS0/wCwjb/+hUAa9t4rlk8O32q3WhalZiyUsbe4jCySqBklecGtTSNWt9Z0S11S2yILmISru6qD2P0q1JEk9s0Uo3JIhVge4IxXlmk6tL4c+G/iTSGY/atJuJLS3BPJEh/d4/76oA7Pwn420/xe98unxyxtZSBGEmPnBzhhg9OKt/8ACS27eMT4djgle4W2+0ySjGyNc4APfJrj9F0lPBXjbQoEASDUtM+yynGMzx/Nn6nJq34F3ahqXifxQQSbq5aC3J5/dxDAx9TQBo6z8QLXT9YfSdL02+1q/hGZorGPcIf95uxqfw944stc1GTTLizu9K1ONd5s72PYzL6r6isr4QxpJ4LbUXX/AEu+u5pLhz94tvIwfw/nUfxLUWmreFtTtgFvY9USBSByyN95aAO/rP1vW7Dw9pUuoarN5UEftkseygdya0K81+JF1eDxt4XtbTThqm1pbhLNpliErqBj5m4460AXz8UBBGLrUPC+uWenH/l8kt/lUHozDsK6fUPEFnZeGJtdjP2qzjg88GEg71xnjNczP4i8a3NvJBN8PQ8cilGU6tCQQRg9qyrfTNU0f4F6xY61bNazRRT+XE0ivtjJyBkEjuaANub4jRyCP+xNC1PWP3avM1pHuSEsM7C3Qtg8gVseGPFun+KbeZrNZre4t22XFpcpsliPuKi8B2kFl4D0eK1VQhtUckfxMwyT+JNYdwi2Xxys2tflN9pr/aVX+LaeCfyoA2vEnjWx8PXcNitvdajqU43R2VnHvkI/vH0FU9L+IVtc6tDpms6VqGh3Vxxb/bY9qSn0DetUfA8a3fjrxdqNyN11HdrbIW6pGBwB6DirXxXtopvh9eXD4Wa0ZJoJO6OGGMfnQB0mta1Y+H9Kl1HVZxDbxDk9ST2AHcn0rkj8UBFCLy88La5baYcH7Y9v8qqejEZ4FUvE0rar4l8B2WoLutrkm4mVvutIsYIB/E16NLDHPA8MyB45FKspHBB4IoA5Xx1e2+o/CvVbyylWa3ms98ciHIYEisvTvHf2Pw/p8Gk6DqesrBaRrNPZxZjVggyobuR3A6VoeM9Ls9G+FOr2OmQCC2jtm2RhiQuTnuTWz4SgitvB2kxQIEQWkZCgeqgmgBvhfxVp/izTWu9O8xDG/lzQTLteJvQiszUfH0UOsT6ZoukahrVxbHFwbRB5cR/ulievtWb4NHk/FLxpBH8sW+CTaBxuKkk1WgsPFXgXVtTfRtHi13Sr+5a6wkwjmiZuoOev4A/hQB1PhrxfZ+JJLm3W3ubG/tCBPZ3abZEz0PuPet+uV8MeKtK8Q6tcx/2bLpmtQoPPgu4AkxTt83df84rqqACiiigAooooAKKKKACiiigAooooAKKKKACiiigAooooAKKKKACiiigAooooAKKKKACiiigAooooAKKKKACiiigAooooAKKKKACuQ8aeF9R1K+0/XPDk0UWr6aT5azfcmQ9UP+e9dfRQBwLeJfiFLD9nh8Eww3JGPtD36NGp9dvp7ZrQ8M+DJtN8O6nBrF2LjUdYLveTJ90FhjC+wzXXUUAecaJP448J6XDoK+FodVjtsxwXsN8sSsueCykE/wAqs+F/D3iK0+I2o61ryRul3ZqvmxONivkfu1Gd2AB1I5rvqKAOT8NaJqGn+NvE9/d2/l219LG1vJvU7wFweAcj8cVF4h0HUr74leGtVtbbzLKxWYXEvmKNm5SBwTk/gDXY0UAcp8StFv8AX/At3p+kQfaLqR4yse9VyA4J5YgdBU/ijwu/iLw5BbQzfZL+0ZJrWfGfLlUd/btXSUUAcEPEHxDjg+xv4Pt5bsDb9tW/QQk/3tnX8M103hix1aw0SOPxBqH2++Zi8jhQFTP8K8DIHqa16KACvKdFtfHnhXUdaGm+F4b2C+1CS5SSS9iXgk443enrXq1FAHm+oaf478a2o0vWbCy0HTZGBuWScSyyKDnau0kf5/CtX4h+Hr/U/Bdvp3h+0+0zW88TJF5ip8qe7ECuzooA8/XxB8SVUD/hCbXgY/5CEf8A8XXSeH7zX9R0u5bxJpMemXO4rFFHOsgddvXIJxzkfhW5RQByfw30XUNA8JfYtWt/s9x9plk2b1b5Scg5UkVV8V+HdTj8W6X4n8M232i7hbyLyASKnnQn3YgZH+HpXbUUAAOVBIx7HtXI2Oh6jD8V9S1mS322E9ikUc29fmYEZG3Oe3pXXUUAFFFFAHJ+CNE1DR7zxC+o2/kreak08B3q29CODwTj6HmmXOh6jJ8W7PWkt86fHp7QvNvXhyTgbc5/SuvooA5P4haLqGuaPYwaXb+fJFqEMzrvVcIp5PzEU/xn4ZvNYNjqehzRwaxpkhktmkHySA/eRvY11NFAHAXWrfEHV7N9Ng8MQaTNKvlvqEl8kiRg9WVQM/TrXQaX4QsdO8Ff8I42ZYHhaOZyMGRm+835mt+igDzrSn8c+D7RdFj0GLX7SD5LS7jvFhITsHDen+Sak0Xwz4gi+JcXiHWQknn2LpO0Tr5cDZG2NQTuIAHXHXNeg0UAcZ4i0DWrLxMvifwksM908QhvLGZti3CDoQ3QMPeqk994/wDETRWkGjp4Yh8wGa9e7Sd8A8hFA7+4x7131FAHI+PND1HWdP0iLTYjcvbahDNKS6qQinluSB+ArrqKKAEdFkjZHGVYYIPcV534A8F6poPibULjVV/0S3VrfTPnVsRM5Y4wcjt1r0WigDzjxp4I1PWvHWn3dghOm3PlrqeHUDEb7lyCcn8K7TxFZzX3hfUbOzj3zTWzxxpkDJK4AyeBWnRQBg+FtKuLLwJp+l6gnk3EdoIZVDBtpxg8jINYHgWy8U+GWi8O6hpUM2lQtIY9SjuF+6SSAU69fb/Gu9ooA5PStF1C2+Jut6tPb7bG6too4Zd6ncy9RgHI/EU74i6Nf674WWz0qDz5xdRSFN6r8qtknLECuqooARBhFB6gVy3xF0a/17wfJZaVB59wZ4nCb1XhXBJyxA6V1VFADIVKworcEKAfyrg20nxL4M1m9uPC+nxaxpN9KZ3sWnEMkEh6lWPGD6c139FAHF6Y/jXXPEFteanbJ4e0y3yWtFmWeS5J7EgYA/I1L4q8Lalda1a+IvC1zBbavaoYmW4B8u4jPO1sc/57V19c14o8M32r3drqOiazNpmoWgIjP34XB6hkPH40Ac14ig8Zaz4V1JfEiWGlWENs8kiWjl5JyoyBk5CrkZPftVuz0661f4D29hp8XnXNxpqpHHuC7jx3JAFLeeFPGXiOD7D4k8QWUGnNgTR6dAQ8w9CW6fh+VdxZWkOn2MFpapshgQRxr6ADAoAraFbS2fh7T7a5TZNDbRo65BwwUAjI4rlL/RvEPhrxNeaz4StYdStdRIe706SURMJB/GjHjmu6ooA4a3n8c+ItWs2uLFfDGnW8nmTAXCTy3H+z0wB9QK0vFUHiiK9stS8LulylvuFxpsrhFnB7hj0I9ziunooA811q38X+PrNNGv8Aw9FoOnvKrXNxLdrM5CnOECgc10niex8RRQafceErhWeyb97YzMFW6TGMFux/ECumooA841l/GvjPTZNEm8Mw6JbXBC3F3PerNhQQTtVQDnj3rT8Y+Gb280LQrDR4TcCwvbd3y6qRGnBbkjP0FdpRQBzPjTwzc69a2l1pM6W2radL59pI4+UnurexrHm1v4h31q2nw+FbewuXXY2oPfo0SZ/iCDn9TXfUUActYeFDofw8udEs2NzdSW8u+QnBmlcHJ56cnvV3wVp11pHgrS7DUIvJubeAJJHuDbTk9wSDW5RQBymn6LqEHxR1XV5bfbY3FlFFFLvU7mB5GM5H4iuroooA5O00XUIvitf6w9viwm0+OFJt68uCMjGc/pRomiahafEjxBqlxb7LK8ihWCXep3lRzwDkfiK6yigDk/C2i6hpvizxPeXtv5dvf3KSW771O9QpBOAcj8cUeN9E1DWLzw8+nW/nLZ6ks853quxAOTyRn6DmusooA5bxj4bvtTnsdY8PzRwaxprEw+b9yVT96NvY1lXGt/ELUrZrC28Kw6XcSDY1/Jfo6R5/iCjn+dd9RQByXiPwpqGteBItLbUBcanbmOZbmZQFkkQ55AHAPSqcGuePbxRYN4Ut7CYja+oSXyvEnqwQDJ9hmu5ooA4n4c+HtU8P+HtRtNXiKzzXckiMXVjIpAw3ykgZ9KufDrRr/QfB8dlqsHkXAnlcpvVuGckHKkjpXVUUAFcn4y0XUNV1jw3PYW/mx2OoCa4beq7Ex15Iz+Ga6yigDi/Fmi61F4o0/wAT+G7aG+uLSFoJrOWQIZEbnKseAayfEaeOPGfhm8sf7Aj0aMpny2vElkuSCMKDwFHqT6V6VRQBQ0O1ls/Dtha3SbJYbaOORMg4IUAjjivM/DHh+b/ha95p5lEmk6HM93BGOiSSgYH1HPHtXo3iK01m900ReHtSj0263gmd4RJ8vcYPFVvCfhdPDNjOsl299e3cpmuruQYMrn27AelAE/ijw/D4n8PXGmTuY/MAMco6xuDlW/OuYt9Z+IOlWy2Fz4Wg1aaMbEvob5I0kx0Yqec+vSu+ooAwfCdnr9tYzS+KL5bi7uJTIIYgNluv9wHGTVH4e6LqGh6PfQapb+RJLqE0yLvVsox4Pyk11lFABXJ+OdA1PU20vVNBEMmoaTcedHBMcLMCMFc9jXWUUAcBeX3jjxLpd1p3/COR6GskTLJcyXqys3H3UUAYJ6ZJwM1seCtIvtI+HtnpmoQeTeRwurx71bBJOOQSO/rXT0UAcp8NdFv9A8C2mn6vB9nuo3kLR71bALkjlSR0NVfGGja6nifTPEvhq2hv57OJ4JbOWQRl1buGPFdrRQBzGtaHdeMfBkUGoxf2VqfyzxgOJPs8ynI5HUf41kx6/wDEO1gFnP4Rt7y6UbRex36LE/8AtFTz+GRXe0UAc9oWm65b+GLiLxBfi/1G4EjEIAEi3DhFOBkD1NRfD3SL3Q/A9jp+qQeRdRbt8e9WxliRypIrpqKACua8e+HrvxJ4Xa1010S7ilSeESfdZlOcH610tFAGJ4Yv9evrOX/hJdHTS542CoEnWQSDHLcE457VyfiDwRqd/wDEy0v7RP8AiTXDRTX/AM6gb4s7eCcnPHSvR6KAOR+I+galrnh2JtAUnVLOdZrfDqp9GwWwOh7+lavhLRf7A8J6fpjgeZDCPN75c8t+pNbNFAHnsWmeJ/A2pXv/AAjemR63o13KZ1tftAhlt3PUAngrU1joviHxR4ostZ8WWkWmWenEvaackwlYyH+N2HH+eld5RQAVzXjPw1c67b2l3pFwttq2my+daSuMqT3VvY10tFAHAya/8Q7i3ayh8IW9rdsu37a1+jRIf7wXr74yat+I7O+sPhDqdvq1+1/eJYv5twVA3H2wBwOnrXZ1meJNKfXPDN/pkUixPdQtEHYZC570AcP4cuvF3hzwrpsOm6KniCxkt0eBxdLDJBuGSjAj5gCeCO3Wtjwp4d1ZvEF14o8V+SmpXEYhhtYW3LbRdcZ7mul0SwfS9CsrCR1ke2gSIsvQkDGavUAcPq2h67oPiu48ReEreK/S+UC+06SURl2HR0Y8A/55qle6d4q8fTW1nr2lR6DosUqy3ERuVnkudpyF4HA+v616LRQBzPjLwtLr2m2r6VMtrqWnSiezkb7oYfwn2NY0ut/ES8tTp8XhS3s7p12NqDX6GJO28KOf1J9q7+igDkdV8Oal/wAKtutDjuZtV1F7Yp5s8uWlcnJ+ZzwPTJrf0K2ls/D2n21ymyaG2jR1yDhgoBGRxV+igDkPDuh6jY/ETxRqd1b+XZ3/AJH2aXep37VweAcj8QKpfa/Hfhy+u4v7KXxNZyzGS3nW7SCSJT/AwI7ew/Gu8ooA4jw1oOtXnjK48WeJreGwna3Frb2UMgkKJnOXYcE/Su3oooAKKKKACiiigAooooAKKKKACiiigAooooAKKKKACiiigAooooAKKKKACiiigAooooAKKKKACiiigAooooAKKKKACiiigAooooAKKKKACiiigAooooAKKKKACiiigAooooAKKKKACiiigAooooAKKKKACiiigAooooAKKKKACiiigAooooAKKKKACiiigAooooAKKKKACiiigAooooAKKKKACiiigAooooAKKKKACiiigAooooAKKKKACiiigAooooAKKKKACiiigAooooAKKKKACiiigAooooAKKKKACiiigAooooAKKKKACiiigAooooAKKKKACiiigAooooAKKKKACiiigAooooAKKKKACiiigAooooAKKKKACiiigAooooAKKKKACiiigAooooAKKKKACiiigAooooAKKKKACiiigAooooAKKKKACiiigAooooAKKKKACiiigAooooAKKKKACiiigAooooAKKKKACiiigAooooAKKKKACiiigAoqLfN/zx/8eFG+b/nj/wCPCgCWiot83/PH/wAeFG+b/nj/AOPCgCWiot83/PH/AMeFG+b/AJ4/+PCgCWiot83/ADx/8eFG+b/nj/48KAJaKi3zf88f/HhRvm/54/8AjwoAloqLfN/zx/8AHhRvm/54/wDjwoAloqLfN/zx/wDHhRvm/wCeP/jwoAloqLfN/wA8f/HhRvm/54/+PCgCWiot83/PH/x4Ub5v+eP/AI8KAJaKi3zf88f/AB4Ub5v+eP8A48KAJaKi3zf88f8Ax4Ub5v8Anj/48KAJaKi3zf8APH/x4Ub5v+eP/jwoAloqLfN/zx/8eFG+b/nj/wCPCgCWiot83/PH/wAeFG+b/nj/AOPCgCWiot83/PH/AMeFG+b/AJ4/+PCgCWiot83/ADx/8eFG+b/nj/48KAJaKi3zf88f/HhRvm/54/8AjwoAloqLfN/zx/8AHhRvm/54/wDjwoAloqLfN/zx/wDHhRvm/wCeP/jwoAloqLfN/wA8f/HhRvm/54/+PCgCWiot83/PH/x4Ub5v+eP/AI8KAJaKi3zf88f/AB4Ub5v+eP8A48KAJaKi3zf88f8Ax4Ub5v8Anj/48KAJaKi3zf8APH/x4Ub5v+eP/jwoAloqLfN/zx/8eFG+b/nj/wCPCgCWiot83/PH/wAeFG+b/nj/AOPCgCWiot83/PH/AMeFG+b/AJ4/+PCgCWiot83/ADx/8eFG+b/nj/48KAJaKi3zf88f/HhRvm/54/8AjwoAloqLfN/zx/8AHhRvm/54/wDjwoAloqLfN/zx/wDHhRvm/wCeP/jwoAloqLfN/wA8f/HhRvm/54/+PCgCWiot83/PH/x4Ub5v+eP/AI8KAJaKi3zf88f/AB4Ub5v+eP8A48KAJaKi3zf88f8Ax4Ub5v8Anj/48KAJaKi3zf8APH/x4Ub5v+eP/jwoAloqLfN/zx/8eFG+b/nj/wCPCgCWiot83/PH/wAeFG+b/nj/AOPCgCWiot83/PH/AMeFG+b/AJ4/+PCgCWiot83/ADx/8eFG+b/nj/48KAJaKi3zf88f/HhRvm/54/8AjwoAloqLfN/zx/8AHhRvm/54/wDjwoAloqLfN/zx/wDHhRvm/wCeP/jwoAloqLfN/wA8f/HhRvm/54/+PCgCWiot83/PH/x4Ub5v+eP/AI8KAJaKi3zf88f/AB4Ub5v+eP8A48KAJaKi3zf88f8Ax4Ub5v8Anj/48KAJaKi3zf8APH/x4Ub5v+eP/jwoAloqLfN/zx/8eFG+b/nj/wCPCgCWiot83/PH/wAeFG+b/nj/AOPCgCWiot83/PH/AMeFG+b/AJ4/+PCgCWiot83/ADx/8eFG+b/nj/48KAJaKi3zf88f/HhRvm/54/8AjwoAloqLfN/zx/8AHhRvm/54/wDjwoAloqLfN/zx/wDHhRvm/wCeP/jwoAloqLfN/wA8f/HhRvm/54/+PCgCWiot83/PH/x4Ub5v+eP/AI8KAJaKi3zf88f/AB4Ub5v+eP8A48KAJaKi3zf88f8Ax4Ub5v8Anj/48KAJaKi3zf8APH/x4Ub5v+eP/jwoAloqLfN/zx/8eFG+b/nj/wCPCgCWiot83/PH/wAeFG+b/nj/AOPCgCWiot83/PH/AMeFG+b/AJ4/+PCgCWiot83/ADx/8eFG+b/nj/48KAJaKi3zf88f/HhRvm/54/8AjwoAloqLfN/zx/8AHhRvm/54/wDjwoAloqLfN/zx/wDHhRvm/wCeP/jwoAloqLfN/wA8f/HhRvm/54/+PCgCWiot83/PH/x4Ub5v+eP/AI8KAJaKi3zf88f/AB4Ub5v+eP8A48KAJaKi3zf88f8Ax4Ub5v8Anj/48KAJaKi3zf8APH/x4Ub5v+eP/jwoAloqLfN/zx/8eFG+b/nj/wCPCgCWiot83/PH/wAeFG+b/nj/AOPCgCWiot83/PH/AMeFG+b/AJ4/+PCgCWiot83/ADx/8eFG+b/nj/48KAJaKi3zf88f/HhRvm/54/8AjwoAloqLfN/zx/8AHhRQBLRRRQAUUUUAFFFFABRRRQAUUUUAFFFFABRRRQAUUUUAFFFFABRRRQAUUUUAFFFFABRRRQAUUUUAFFFFABRRRQAUUUUAFFFFABRRRQAUUUUAFFFFABRRRQAUUUUAFFFFABRRRQAUUUUAFFFFABRRRQAUUUUAFFFFABRRRQAUUUUAFFFFABRRRQAUUUUAFFFFABRRRQAUUUUAFFFFABRRRQAUUUUAFFFFABRRRQAUUUUAFFFFABRRRQAUUUUAFFFFABRRRQAUUUUAFFFFABRRRQAUUUUAFFFFABRRRQAUUUUAFFFFABRRRQAUUUUAFFFFABRRRQAUUUUAFFFFABRRRQAUUUUAFFFFABRRRQAUUUUAFFFFABRRRQAUUUUAFFFFABRRRQAUUUUAFFFFABRRRQAUUUUAFFFFABRRRQAUUUUAFFFFABRRRQAUUUUAFFFFABRRRQAUUUUAFFFFABRRRQAUUUUAFFFGcdaACiiigAooooAKKCcDJ4ooAKKKKACiiigAooooAKKKKACiiigAooooAKKKKACiiigAooooAKKKKACiiigAooooAKKKKACiiigAooooAKKKKACiiigAooooAKKKKACiiigAooooAKKKKACiiigAooooAKKKKACiiigAooooAKKKKACiiigAooooAKKKKACiiigAooooAKKKKACiiigAooooAKKKKACiiigAooooAKKKKACiiigAooooAKKKKACiiigAooooAKKKKACiiigAooooAKKKKACiiigAooooAKKKKACiiigAooooAKKKKACiiigAooooAKKKKACiiigAooooAKKKKACiiigAooooAKKKKACvPPiPqN7Z+JfDcdneXFuk0+JFilZQ43p1APPWvQ68u+LUEl1rvh2CFzHJLIyI4PKksgBrswSTrJPz/I83M5OOFbj3X5o7efxj4dtb82dxrFrHOrbWUvwp9Ceg/E1sq6ugdGDKwyGByCK5af4c+HJdEawTT41fZgXOP3u7H3i3U8846Vy3gXxHdad4A11JW8x9I3eQW5xkHA+gYfrR7GFSDlSb0a38w+tVaVRQrpWabVvLVpne6n4p0PRpxDqep28EvXyy2WH1A5FXbDUbLVLYXGnXUV1CTjfE4YA+nHQ+1eQeD9R8EW+nPd+KZVvNVuXZpvtNu8oTnjHykZPXPvVrw1quk2PxTih8KTs2l6jGVkh2sqo+CeAwz1H6kVtPBpKSV7rq1ozlp5m5ODk42k7WT95X2v8Ar2PTpNf0mK6uLaXULdJrVN8yNIAY145Pp1H51Vj8W6HPpUuoQ6nD9ljk8oytlVD4zjkV5+dEttf+NOqWmobmtVjEkkSsQJMKmAcdskH8K9EXwzokGmS2cel2otmbzDCYwylgMbsHvWNSlRpqN27tJnVRr4is5OKSSbXXoct4C8ejV4J4tf1G2W7a5EdvHgIXUgYwB15rv68u+Eek6fd6dfXN1Y2808F5+6lkiDNHhQRgnpzXqNLGRhGs1BWHls6s8NGVR3/P5hWbqniLSNEKjVdQgtmYZVHb5iPXaOce9aVeNPNp+h/EjVZvHenvcpcOTayyReZGFzwdp6jGBxnGKnD0VVbv06Ldl4zEyw6ja2rtd7L1PV9L1vTNaiaTSr6G6VfveW2Sv1HUfjThq+ntqp0xbuI3qruMG75gMZziuU8Nab4SvPEja14V1Dy5RGVks7ciNCOhJjK5A6dMDIrOt/8Akvtz/wBen/tNav2EHKSV9FfXcz+t1FCDdnzSS0d1bujvtQ1Oy0m2FxqV1HbQltoeRsDPpXE/FfVLm18K2Nzpd7NB5twMSW8pTcpQkcjtT/jD/wAiXH/19p/JqyfiXz8N9Bx6w/8Aoo1rhaUeanPu2c+PxEnCtSXSKf3s7WTxboemLb22parbxXJiQsjPlhkDrjp+NbUFxDdW6T2sqTROMpJGwZWHqCK5bS/AGgjQY4dQsY7u5njDT3MvMjORkkN1H4VhfDSSXSfE2u+GmlaS3tXLw7u2GwfzBH5VlKlTlCUqbd4/1odEcRXhUhGslaW1uj8ztD4p0JbOa6Oq2oghfy5H8wYDf3fr7VJYeIdI1OzlurHUbeWGEZlcOB5Y9Wz0/GvNPhr4esNZvtXn1WFbpLa4xHBJygZs5Yr0JwAOajm8L6dF8XxosKPHptzGJZbZHIVsLu2/TcoOK2lhqKnKHM7pXOaOOxLpwq8qtJ23d79PkelWHizQdUvPslhqtvNP2jVuW+mev4VjePdF0vVm0w6trR0vypj5YyP3p4yB6N05965f4m+H9N0BdK1PRbVLG4FyEPkDaDgZBx6jFXvi0d0fh4nqbon/ANBp0qMVUhKm2r39dBV8RN0qtOvFNx5dr2d3956JcXNvYWpmvJ0hhjHzSyuFA+pNZVn4z8O392tta6vbPMxwqltu4+gz1P0rlPi5bXklpplwIZZ9Nt5i13HHn2wTj23DPbNVTL8NvFFlDZwmLSJ8goyxCCRfYvgqfxJrOnh4umpu7v26eptWxtSNd0o8qtb4na/oenSSJDE0kzrHGgyzMcBR6k1hp448MyXX2ddatPMzgZfC5/3un61h/ErTdQfwDHbaY090sDp55zueSMA8nHXnBP51g2F/8N9Y0CPTbiCLTLhkCmWSHbIrf3vNwR19T+FKlh4yp87u9enT1HXxtSFb2S5Vpf3nv5I7jxrp9lqvhWa31HUf7OtiysbjPyg54BHcGr/h61gsvDtjb2d013BHCojnY58wev0rkvG1hBpnwjktLS6ku4IhEIppXDll3jHIABHp7VQ8R6xPpPwa0pbRzHJdwxQF14IUpk/oMfjTjSdSnGEXvK3/AASZ4iNKtKpKOqgn+O3Y7G48a+G7W6NtPrNqsoOCA+QD6EjgVsQTxXMCTW0qTROMo8bBlYeoI61yeg/D7w/b+HIILzTobqaWINNNIuXLEZOD1X8MVi/D15dD8aa14X81pLWEmWAMc7eR/MMM/SolRpSjJ027x79TWOJrwnBV0rT7X0e9mdsfEuiiG5mOp2wjtW2TsZAAjc8H34PFLpXiTR9bdk0rUYLl1GSit8wHrg8496818C+HrLXPFevvqkf2iC2umZLdydhcu3zEd8AEc+tTeKdHs/C/xD8PXehxC0+1TBZI4+F+8AcDtkNjFavDUud0k3zWv5bXOeOOxHslXcVy3s9772uer1na9qU2k6JcXtraNeTRgCOBM5diQAOAfWtGivPi0mmz2JJuLSdmeM61d+L7TxDotzruoyWzX9wuLK2lKpGgdeCAcHOe+T6mvTPFuvr4a8N3Oo7Q8igJEh6M54Gfbv8AhXG/FD/kavC//Xx/7OlWfjMWHhO0AztN2N3/AHy1eo4xrOjdWvfb1PAUpYaOJ5W242tfXdFHSfBGteJtLj1nWvEd7Bd3K+bAkZO2IHkcZGPXAxitPwD4g1Maxf8AhfxFKZ7yyyYp2OS6g85PfqCD6Gu104Kul2qx4CCFAuPTaK88+5+0B+643W/z47/uu/6VEajrqcZLRJteVjaVFYR0qlNu7aT1et+5P4t1jVdc8YQ+EfD901kAu+7uYyQwGM4yOcAY9Mk4rP1zw1rXgOzXW9D1y6uo4XU3ME5JVgTjJGcEdvUZzmrPhP5vjL4iaXlwrhc+m5f6YrsfGaq3gnVw+MfZH6/SqdR0pwpRWllfzuZqisRTq15N8ybtq9LbFzRNVi1vQ7TUYBtW4jD7c/dPcfgcir9cd8Kyx+H9nvzxJIBn03mrHxG1efRvBV1NaOY5pWWFHXqu7qR+ANccqN67pR72PThibYRV5/y3f3F+98Y+HtPuzbXmr20cynDJv3bT6HHT8a1ba6t723S4s5454XGVkjYMrfQiuM8I+AtCTwravf6fDeXF3Cssssy7j8wzhf7uM9q0PCvg+XwpLqCWuotNZ3Lbobd48eSfrk54wOg6CqqQoJNRk7rv1Io1cVJxc4rlfZ6r1vv8jS1PxVoejz+RqWqW8E3eMtlh9QOR+NXLDVLHVLX7Tp13Fcw93iYNg+h9D7V474au9D0HWNRt/H+nF7+SYsJ7qDzlx34Oep5yAc133g7SfDkN/eap4V1FpYrkYktUkHlx9x8hG4HrjPqa1rYaFKPX16MwwuNqV5r4eul/eXqdDp2sadq6yHTLyG6ER2v5bZ2n3o1DWdO0kxDUryG2MxxGJGxvPt+YrgdDT/hF/i/f6Z9y11VDLCO2eWH67xRqS/8ACU/GS1s/v2mjxiSTuNw+b/0IqPwpfVo8+/u2v/XzH9dn7LZc/Ny26Xv/AJanpdFFFcJ6oUUUUAFFFFABRRRQAUUUUAFFFFABRRRQAUUUUAFFFFABRRRQAUUUUAFFFFABRRRQAUUUUAFFFFABRRRQAUUUUAFFFFABRRRQAUUUUAFFFFABRRRQAUUUUAFFFFABRRRQAUUUUAFFFFABRRRQAUUUUAFFFFABRRRQAUUUUAFFFFABRRRQAUUUUAFFFFABRRRQAUUUUAFFFFABRRRQAUEhQSeAOtFVdULDR7wx/fED7ceu00AeX2x1j4qeItRMWr3WleH7CXyUW1ba0zepP685xkcU4y6z8MPFmnW13q1xqmgak/lA3TFngbp1/EHjgjPFaXwQVB4AYrjcbuTd+QqH454HhGxdf9at8pj9c7W6UAemVl+ItIn1zRJbG01KfTJZGUi5tyQ64IOBgjrjHWr9qSbSEt18tc/lUtAHm7fDDWFUs3xB1oADJJkfj/yJVD4UDVbzxLq9zJrV/qWk2pNvDJdTMwlbP3gCSBwP1Fb3xT8Qy6X4dTS9Oy2pas/2eFV6hTwx/XH41v8AhHw/F4Y8L2emRAbo0zKw/jc8sfzoA2HdYo2kkYKiglmJ4AHevBPF/i3X9Z1Zda0q+urPQkvVsbcQztH5xGSWwOvT+Q9a7z4i6tdaleWvgrQnxe6lzdSL/wAsIO+fTI/T61j/ABT0m10LwT4c02wTbBb6hGi+p+Vsk+5PNAHqc1zHaWD3M7bY4ozI7egAya8o0XT9b+Kc11rGoa1e6XpCymO0tbR9u4Due34kHn0ru/HJdfh3rJiJDfYX5H+7VD4Uqi/DXS/LAGVctj13nNAHP6Lf6z4F8fW3hnWtSl1TTNSXNncTkl0bsMk568Y6cjGK3viV4ruvDmjW9tpAzqmpSiC3OM7M9Wx68gD3NYPxb+XxF4RePiUXwAI643JS/EEBviv4NWXmLeSAemdw/wDrUAI/ww15NNN9F4w1NtcC78mVvLLddvXOO2entXRfDfxXceKfDz/2koXUbKUwXIAxuI6Nj3/mK6+vLPhgSvjbxokP+pFzlcdN2980ANu7vWPiP42v9I0vVJ9L0PSzsnltiQ0z5xjI9weOgx0NV9Th1r4U6pY30WsXWqaDcyiG4hu3LNFnuPTjJyMdMGr3wUGbPxAz/wCtOoHce/T/ABzWj8Zwp+G9wWxkTxbfruoA7yN1ljWRDlWAYH1Bp1Zvhws3hfSzJncbSLOf90VpUAFFFFABRRRQAUUUUAFFFFABXl3xZWd9e8OrZ4+0GRvK3dN25MfrXqNFbUKvsaina5y4rD/WaTpXte34O555ffFm0tbCSB9OvItYVdhtpEACyfXPTPtk0eCvBtyvgXU4NVVobnWAxKuPmjGPlJHrkk4r0ExoZA5RS4GA2OR+NOrV4iKhy042vq9b7GMcHOVTnrz5rJpaW33+Z5X4Y8XxeC7I+H/FtlPbS2zN5UyxbldSSfx56EZFdD4Z8XXvijX5f7P0oRaJGv8Ax9TKVdm9Bg4P07CuxkijlXbKiuvowyKcAAMAYFFSvTneXJ7z89PuFSwtanyx9p7sfLX0b/4B5vov/JdNY/69v6R16O43IwHcYpaKyq1faNO2yS+46MPQ9ipK97tv7zyP4f8AiCLwnqV34e1q2uIbu5vAI2CjaCfl5yRx05GeteuUhAJBIGR0NcJL8IPD00zyvcahudixxKnU/wDAK2nOlXnzz91/ff8AKxzUqVfCU1TppTX/AIDZfjf8DvK89uvHv9na1eaV440pYrbd/o0iQGRJF55OSc546dOQatWXwm0CxvoLuGe/MkEiyKGlQgkHIz8tdtJGkq7ZUV1PZhkVKdGm9PeT+TXpuW44mtHX3Gv+3k/XY8k0KK2134oW2p+EdOkstMth/pEoj8tGOCDgDgZyBj8cVZ8V3Fz4Q+J8XiSW1knsLiIRsyDp8u0jPTPAIz1r1NVCKFUBQOgA6UpAIwRkVp9b9+7jpa1r9PUxWXWpcqlaXNzXtpf07HjXj7xe3ivw2j6ZYXEOmw3C+ZcXChS8mDhVAJ6DJPPpWl8Shn4b6CPeH/0Ua9TAwMDgUU44uMXHljpF33FLL5zVTnqXc0lttb5nnkXxMttC01LDxBYXcep20QQoiApNgYDK2eh69PzpfhrpN/Lfan4m1aFoJdSY+VGwwdpO4nHp0A+legNGjspdFYqcqSM4p1Zyrx5HGEbN76/kbRwk/aRnVnzKOytb5vueb/CL/mP/APX2v/s1Fx/yX22/69P/AGm1ekUUSxN6kp2+JWFHA8tGnS5vhd9t9W+55z8ZP+QHpn/X5/7Kaj+LP+q8Pf8AXyf/AGWvSqKKeJ5OTT4b/iFbA+1dT3rc/L02t8zlvGfiPVfDX2S7tNOW704ti7cKS8Yz2wcDI7njNcL4v8Q+F/E+mC10DSXn1e4dTG8dqEdTnnJHLcZGORXsdMSGONmMcaIW+8VUDNFGvCnZ8uq87feGJwlStzR5/dfRq9vQ4+8u/EPhT4f6a1nZx311bRIt0jhmKLjqMHnHT9a5nxH4z8IeINCmSPSXn1W4TZEPswEiOeh3jng+mc+les0wQxLIZFjQOerBRk/jRTxEIvmlHW99HYKuEqTXJCfu2tZq/wA1tqeW3+m32lfAlrbU1ZJt6uI36xqZAQD6fT3rT1Lw9N4j+EOmW9mu66ht4polzjeQuCv4gmvQqKf1uW6WvNcSy+Gqb05VH7utzzbS/ivYWGjx2ut2d5FqVsgikiEY+ZgMdyMZ96sfDzS9Qu9a1PxVq0DWzagSIImBB2E5z9OAB64rvmijaQO0as69GK8in0pV4cslTja++v5DhhKnPGVafMo7aW+bPN/hf/yMPin/AK+//Z3o+JP/ACOHhT/r5/8AZ0r0iij6z++9rb+rWD6j/s31fm63vbzv3CiuL1T4WaFq2qXN/cz3yzXEhkcJKoUE+ny1VHwc8OAg/aNR/wC/qf8AxFSqdC2s393/AAS5VcUnpSVv8X/AKPxQ/wCRq8L/APXx/wCzpXWeN9AfxJ4VubKDH2gYlhycZde34jI/Gt5EEcaovRQAM06j27Shy/Z/zGsJFuq5O6n+Gljy/Q/ihb6JoqaZ4jsbyPULJPKKrGPnA4GckYOP8at+ANNv9V8Sah4v1a3a3+1ApbRuOdpxz9AAAD35r0J4YpGVpI0Zl+6WUEj6U+rliIWlyRs5b6/kZU8HU5oOrPmUdla3zfex5l4rgvfB/jxPFtnavc2E6bLtY/4eMHPp0BB9RVbxN49Xxhpo0HwrZXctxeECVnQDauc44J/EngCvVqZHDHFnyo0TJydqgZpxxMfdco3lHZ3+65M8DNucadS0ZatW772fmcpdXX/Cuvh7bbLY3jWqrGyq20FmOSxODgZz+lN1m2k8e/DYPBbtbXFxGs8MUh6MD0zxwecH3rsCMjB5FFYqtZqSXvXvf/gHS8NdOm37lrW/W55joPxNtNE0WLS/EdneQX9igiKrEPnAGB1IwcVveC9X8Ra9HfalqMS29nIT9ghePBPfJPUjoM9+a614o5GVpI1Zl+6WUHFPq6lanJPlhZv5/cZ0cNWhKPPUuo7K1vv11PNo/iFZbrnTviBpC29zE52x/ZvMjZe3DZ59+hqp8P7T7d49v9b0WxlsNEaNkRXG0OTjgDp1BOB06V6jJFHMAJY1cA5AZQcU/p0q/rMVBqEbX89PuM1gqkqkZVJ35XdaWfzf/APP/inaS2sOmeJLJf8ASNNuF3H1UnIz7ZGPxp3wrsZZNOv9fvB/pGqXDMCf7oJ/qT+QrvqKj6w/Yeyt8/Lt95p9Sj9a+sX+Xntf7gooorlO8KKKKACiiigAooooAKKKKACiiigAooooAKKKKACiiigAooooAKKKKACiiigAooooAKKKKACiiigAooooAKKKKACiiigAooooAKKKKACiiigAooooAKKKKACiiigAooooAKKKKACiiigAooooAKKKKACiiigAooooAKKKKACiiigAooooAKKKKACiiigAooooAKKKKACiiigAooooAKRlDoVYZDDBFLRQB47pOqy/CTxBqGma3aXD6JeTGa1uoU3BSe35YBHXj3p17qMvxa8V6Zb6TZzx6Dps3nXFzMu3e3oPywB15J4r19kV1KuoZT1BGQaFVUUKihVHQAYxQBzHjrxi3gvSra7j02S+86YRbVfaE47nB+gFdFb3ImsY7mRGhDxiRlk4KZGcH6VMRnrRQB5Z4WU+OviZe+JpgW03Sz9nsQejN/e/mfxFep0UUAcFrHwosNY8RXWsnWNStbi5OWFu6qAMAYBxnHFcL8R/AcXhvTNOmj1nUr03F6sJW6lDBcgnI468V7vRQBz2ieEoNK8MXGjveXV7FdBt8ly25wGXGM1594Y8VP8AC9rjw14ttbhbaOVns7uKPcrqeT9fXjoSc17FTXjSVdsiK6+jDNAHlGmy3XxM+IljrcVnNb6DpAJheZcGZ85+nXHToBW78UvDd9qumWWq6Ihk1HSZvOjRRlnXgkD1OQDjvXeAADAGB6CigDy9vjbpraRsi069Osldgs/K4EnTrnOM+2fatn4XeGrzQtBuLvWEKahqcxuJkPVB2B9+SfxrtfKj8zzNi7+m7HP506gDyI3c/wAKfHGpXF5ZzzeHtWfzVmhXd5T5Jx6ZySMemMVF4g1+T4sahZaD4atbkaZHOJb27lTaoA7fkT7k17CyhlIYAg9QR1pERY12xqqr6KMCgBIYkggjhjGEjUKo9ABin0UUAFFFFABRRRQAUUUUAFFFFABRRRQAUUUUAFFFFABRRRQAUUUUAFFFFABRRRQAUUUUAFFFFABRRRQAUUUUAFFFFABRRRQAUUUUAFFFFABRRRQAUUUUAFFFFABRRRQAUUUUAFFFFABRRRQAUUUUAFFFFABRRRQAUUUUAFFFFABRRRQAUUUUAFFFFABRRRQAUUUUAFFFFABRRRQAUUUUAFFFFABRRRQAUUUUAFFFFABRRRQAUUUUAFFFFABRRRQAUUUUAFFFFABRRRQAUUUUAFFFFABRRRQAUUUUAFFFFABRRRQAUUUUAFFFFABRRRQAUUUUAFFFFABRRRQAUUUUAFFFFABRRRQAUUUUAFFFFABRRRQAUUUUAFFFFABRRRQAUUUUAFFFFABRRRQAUUUUAFFFFABRRRQAUUUUAFFFFABRRRQAUUUUAFFFFABWXqzahNcW1np5aBJcma6CZ8tR2HbJrUpskiQxtJKwRFGWYngCgDnrhLzw/cWsy6jPeW00ywyRXJDMCxwCpx+ldHWBaCTxBqMeoSqyafbNm1Q9Zm/56H29K36AMW+v3tvFNpHJP5VqbaSSQMcLkHqatWOvaZqU5hsryOWQfw8gn6Z6/hWdqVvFc+NtNWZQ6rbyNtPQkHjNSeIoY1m0y5VQsyXiKrgc4PUUAa91d29lAZruZIY16s5wKrWGuabqchSxu45XHVeQfyNULqNL7xnBBcrvitrYzIjfdLk4z+FHimFIrGK/iCpc20yGNwMHBYAr9DmgDYa8gS8S0aQCeRS6pg8gdTRcXkFo0S3EgQzOI48g/M3pWRdHPjfTz/06SfzFJ4l/4+dH/wCv5f5GgDTuNUsrSYxXNwkTiMykNx8ucZzRb6rY3Onm+huF+zDOZWyoGOD1xWRd20Vz48thPGsipZs4DDIyG4q54h0+e+05Fs0R3imWXyXOFkx/CaAJbLxBpWoXBgs72OSX+7yCfpnr+FaNc62qWlxcWsOt6XPYyrIPJeQZjD9gHWuioArX2o2emxCS+uEgU8DceT9B3plhq9hqisbC6Sbb1A4I/A81Q1K60+HWoiLGa+1FI/lWJd3lqe5ycD69aoC4uZfGmnyXGnmxLxSLzIrNIMA846YoA37/AFSy0uMPf3KQhugbkn6AcmmQazp9yIPs90kn2hise3PJAyR7cetZ2lxpd+JtVubhQ8lu6wxbhnYu3PH1pmrWsMfizRriMBXkkcOBxuwhwT70AbN7qNppsPm31wkKE4BY9foO9MsNWsdUUtYXKTbeoHBH1B5rNs40vfF9/LcrvNmqRwqw4XIySKNbiS11nSr2AKkz3HkORxvQg8H1xigDerCOqfZfE1+t5c+XaQ20bgOflUk1u1zkdpFcePrp5lDGG2jZVPTPrigDWsNZ0/VNwsLpJivVRkEfgeamhvILi4mgikDSwECRcEFc9Kx/EMSW13pt/AoW4W6SIleCytwQfWnXQ/s/xbbXI4ivkMEn++OV/qKANaW8t4bqK2kkxNMCY0wSWx1qesPTx9v8TXt8eY7UC1i+vVj/AErcoA810bxTqEPxU1DTr+5kk0+a4e3hDn5Y3HKgemRkfjXo80qQQvNKwWONSzMewHJNeXPpMmqN4za0yLyz1Fbq2YdQ6bjx9RkVseIfEJ17wZpdrprYudfZYMD/AJZj/lp+XT8a9KtSU5R5dNk/uvf7vyPFw2IlSpz59d2vvat99vvKvgHxHqeveMtVa8nm+yPD51tA5+VFLgKQPpXW6v4u0HQpxBqupRQTEZ8sBnYfUKCR+Nc/oFpFYfFLU7S3XbFBpkEaD0A2ii31nS7bWtRbwr4cvNUvHmIubpBiMv3XzHPH0HFKpCE6l0tLLay+9sdCrUpUeVyXNzNXd316Jas6/TtUstXs1utMuY7mBjjfGc4PofQ+xrJl8d+GoYUlk1WMLJIYlGxyxYHB+XGce+MVg+ApLj/hL/EqXFiNNLNFI1osgcRsQe44568U74X6bZjRr29NvG1zJeyo0rKCdoIwAew5rOVGnDmcr6W7dTWGKrVeRQsm+a90/su22j+TNm3NunjjUJf7buZZEtVZ9NKsY4V4+cdiT6Dnk1saZqdnrFgl7ps4nt3JCuARyDg8HmuY0z/ksGtf9eEX/stQ+HrmPwxr3iLSLk7LWLOo2+e0bD5gPoeKU6SktN0kyqddwlqrRcpL5rb8mdZb6tY3ep3On28/mXVoFM6BT8menOMfrWVd+PPDNlem0uNXhEynawUMwB9CwBA/Os3wXBHD4Tvtb1g+WdUeS7uGJI2xnOBkc9OfxqppuqwDRms/CXgu6udPkDDfOVhjmB77nJLD3NNUYczWrtpul66sTxVRwjK6Td3s27dNF5bv8Du4ZoriFJreRZYpAGR0bKsPUEVU1fT5tTsfs9vf3Fg+8N51uQG47c9q5z4Wu7eCI1k48u4lVVznaN3T9a7GuepF0qjiujOujNYihGTXxI83vtM1e08aaZoqeKdVaK8hkkaQuNylR24rqbbRZ9K0rUBea/f3KyQn9/MwLW4AOWXA69/wrM1n/krPh/8A69Z/5Guk1z/kXtR/69Zf/QDXRUnJqC7rsu7OOhShF1Za6N21f8q8zL0fUtP0XwVbXt3rMt9ZqP8Aj+nRiz5bA45brxUreNvDi6oNObVoBdFtu3B259C2NoPtmuKvhn4A2w/2U/8ARtb3jHSrG2+FtzDDaxKlvAjRYUZVsj5s+vJ596t0abn717uTXTy/zM44msqfuJWjBS6+em/lvr8zXuvG3hyy1P8As+61aCO5DbSvJVT6FgNo/E1ttLGkJld1WNV3FycAD1z6VyV3pVivwpkhFtHsGm+byozv2bt2fXPOaxtYlkuPh74W095HWLUZbaC4YHqmORn8BWaownblvvZ/5mzxVSnfnSel1b1tZ/5/gdPB488MXN+LOHWIDMW2jIYKT7MRtP51q6nq1lo9qtxqU4giaQRqxUnLHoOAap6voGmXXhqfTntIUtlhIjAQDyyBwR6EVwGq3UuqfBnRnu3Lu11HEzZ5IDMoOfoKKdGnUacbpXsxVcRWoKSnZuzatfpbR6+Z3J8ceGl1T+zzq8Aud2zHO3Ppvxt/Wm+MlhbRovtGtXGjr9pQCe3DEsefk+XnB/pUHi7RtPXwBqFslpEsVvbM0KqgGwqMgj3rA8VSPL8LdCeRiztJaEk9SdtVSpwlKMoXWtuhNetVjCcKln7t9Lr5b/jodrea5pmmXcVnf3qQzSRNIvmZAKqOSWxgfjVbSvGOga3eG10zUo5pwM+WVZS303AZ/Cuf8S2VvqHxS8PQXkSyxfZ5XKMMhiMkZHfmpvHtpBFc+H76GNY7mPU4o1lUYO05yM+nFTGjTfKne7X+Zc8RWTnJW5Yu3W728/M6fVNY0/RbX7Rqt3HaxZwC55Y+gHU/hVXR/FWia/I0ekahHcSIMmPBVseu1gDj3rK8TX2hW3iGx+16Xc6trEaFraC3QyFF/vEEhRz361gahf6hdfEDw1c3mhNpBaZ41ledHeZSvKkL0A9/WinQjKF3e9m+n5bsVXFyp1LJpq6VrNvW272W+34npdFFFcZ6YUUUUAFFFFABRRRQAUUUUAFFFFABRRRQAUUUUAFFFFABRRRQAUUUUAFFFFABRRRQAUUUUAFFFFABRRRQAUUUUAFFFFABRRRQAUUUUAFFFFABRRRQAUUUUAFFFFABRRRQAUUUUAFFFFABRRRQAUUUUAFFFFABRRRQAUUUUAFFFFABRRRQAUUUUAFFFFABRRRQAUUUUAFFFFABRRRQAUUUUAFFFFABRRRQAUUUUAFFFFABRRRQAUUUUAFFFFABRRRQAUUUUAFFFFABRRRQAVh+I9M1TVPJisZLUWyndLHOWHmHsDtHStyigDBiTxShRT/Y4jGAQok4HtW9RRQBmz6dLJ4jtdQVk8qGF42Uk7iSe3FO1ewlv1tRCyL5NwkrbyeQPT3rQooAy9U0ue4uob7TpUhvYAVUyAlJFPVWxzVU6bqup3EP9tvapbQuJBDbbj5jDpuJ7VvUUAZGs6XdXVxbXumTRxXltkL5oJR1PUHFVJtH1e/ubG51C4tvMt7gOYodwQL3xnJLdOuBXRUUAZr6dM3iePUQyeStsYiuTuyWz6Yx+NS6ra3d1bp/Z919mnjcOpPKv/ssPSrtFAHPzadrOrPDFqrWcNrHIsjC3LMzkcgc9BXQUUUAYt5p2oQaw+paQ1uzTRiOaG4yAcdCCO9RxaTqk2vWepX89ufJR1aKLICZHG3I59ycdq3qKAMS80+b+15LrRr2GG7ZB58Eo3K47Egcj61Quba5TxNo0l/crPdM8hKxrtRE2noPr3NbN/odnqE6zyebDcKNomgkKPj0yOtFhodnp87XEfmzXDDaZp5C749MmgCG+0y8TUv7S0eWFLhkCSxTg7JAOhyOQRTLbTdQu9Shvdbkt/8AR8mGC3ztDH+Ik9TW1RQAVhXOj3//AAkE+qWM8SOYlSNHyVbHUMMdOmCDW7RQBhxabqV9qMFzrclusdsd0UFtuILf3mJp/itVPh6eTf5ckJWSJh1Dg8Y/lWzVC40Wyu9QS8uUaWRMbVZzsBHQ7emaAE0OyNho8EMnMpG+U+rtyf1NaFFFAHP+HtBudJ1jXbu5eF49RuhNEIySVXnhsgc89s1leHvAkujeLrnUZriOWyj3mwgDEmHectkEYHpwTXa0Vv7eevnocv1Sl7unwttfPX8zAs9Burfx5qGtu8Jtrq1SFEBO8FcZyMYxx61kWeheKfDc11beHX0u40+4naaP7ZvV4S3UHb1FdtRQq8uuu34A8LB6ptO7d157nK+FfDWp6Nrurahqt5Ddtf8AlnemQdwBzxjAHOByeBVvwboN14e0aa0vXheR7qSYGEkjDYx1A5rfopTrTne/W34Dp4anTty9L/jqzAs9Burfx5qGtu8Jtrq1SFEBO8FcZyMYxx61znxJ0s6hrOiQ2U5ivL12tJFXq0JwWJ9h/WvQqxdN8JaTperTanBFJJeSlszTSFyoJyQuelaUq3LPne6Vl91jGvheen7KK0bu9fO+hbvdIgvNAm0nmOCS3MA2/wAIxgflXM2Ol+N7PT49HW50lLWJBEt6FcyhBwCF6bsfhXa0VlGrKKtv6m9TDwnJSu09tNNOxz/grQLnw34dGn3sscsomd90TEggnjqBzXQUUVM5ucnJ7s0p040oKEdkYF/oN1deONL1mN4Rb2cMkcisTvJYHGBjH61rajbveaXdW0RUPNC8alugJUgZ/OrNFDm3byFGlGPNb7W/3WOMuPB+oS/DGHw4s1sLyMKC5ZvL4fd1256e1bXiTR7jWPCN1pVs8azzRKitISFBBB5IBPb0rZoq3Wm2n53+ZmsLTUXHulH5K/8AmZNxpU83g59JVoxO1j9nDEnbu2bc5xnGfaqE3hIX/gez0S8mEdxaxR+XcQ5PlyoOGGcZH5V0tFJVZrbvcqWHpy+JdLfI4q403x1qNi2l3t5pENtIvly3kCyGZk6HAPGSPp14q3r3hBrvwlY6LozRRLaTRODMxAKrnPQHk5zXVUVf1id01ZW1M/qlNpqTburavoZ+vWEuqeH76xt2RZbiBo0LkhQSMc4zWFrHhW+1DwTpmjwy263Fo0BkZ2YIdgwcHGfpxXW0VEKsoWt0dzSph4Vb83VW+RgX+g3V1440vWY3hFvZwyRyKxO8lgcYGMfrTvFOiXOtx6ato8SG1vo7l/NJGVXOQMA881u0UKrJNPsDw8HGUX9p3f4f5HLa5oOrr4li8QeG5bU3X2f7PNb3gbZImcggjkGqL+G/EuqeJNI1fWbuwUWMpY2tuXCouOoJB3Me+cDiu3oq1iJpW07fIylg6cpNtvV3tfS4UUUVznYFFFFABRRRQAUUUUAFFFFABRRRQAUUUUAFFFFABRRRQAUUUUAFFFFABRRRQAUUUUAFFFFABRRRQAUUUUAFFFFABRRRQAUUUUAFFFFABRRRQAUUUUAFFFFABRRRQAUUUUAFFFFABRRRQAUUUUAFFFFABRRRQAUUUUAFFFFABRRRQAUUUUAFFFFABRRRQAUUUUAFFFFABRRRQAUUUUAFFFFABRRRQAUUUUAFFFFABRRRQAUUUUAFFFFABRRRQAUUUUAFFFFABRRRQAUUUUAFFFFABRRRQAUUUUAFFFFABRRRQAUUUUAFFFFABRRRQAUUUUAFFFFABRRRQAUUUUAFFFFABRRRQAUUUUAFFFFABRRRQAUUUUAFFFFABRRRQAUUUUAFFFFABRRRQAUUUUAFFFFABRRRQAUUUUAFFFFABRRRQAUUUUAFFFFABRRRQAUUUUAFFFFABRRRQAUUUUAFFFFABRRRQAUUUUAFFFFABRRRQAUUUUAFFFFABRRRQAUUUUAFFFFABRRRQAUUUUAFFFFABRRRQAUUUUAFFFFABRRRQAUUUUAFFFFABRRRQAUUUUAFFFFABRRRQAUUUUAFFFFABRRRQAUUUUAFFFFABRRRQAUUUUAFFFFABRRRQAUUUUAFFFFABRRRQAUUUUAFFFFABRRRQAUUUUAFFFFABRRRQAUUUUAFFFFABRXNSeO9Jj8cL4WYTfbWAxJhfL3YztznOce1dLQAUUUUAFFVL7VbHTXt0v7lIGuZBFCG/jc9h71boAKKKKACiubTxxpj+OH8LNHOl6q7hIwXy2+XdgHOc49u1dJQAUVz/i7xlpvgywhutUSaQTSeWkcCgsTjJPJAxW3bTrdWkNxGCFmRXUN1AIzQBLRRRQAUUVk6v4itdF1HTLO5imeTUpjDEYwCFOM5bJHH0zQBrUUUUAFFZviDW7fw5odzqt5HLJDbgFliALHJA4yQO/rUOs+JbTRPC7a7dRTPbLGkhSMAvhsY4JA7+tAGxRXDp8TVkRXj8IeKGVhlWXTsgj1+9W/4d8Rf8JDDM/8AZOp6b5LAbdQt/KL57qMnIoA2aKKKACiioby8t9Pspbu9mWC3hUvJI5wFAoAmorgj8UkuD5uk+Ftf1GzzxdQ2Z2MPVfUfXFdJ4b8VaZ4qs3n0uRw8TbZoJl2yRN6MKANmiiigAooooAKKKKACiiigAooooAKKKKACiiigAooooAKKy/EHiPTPDGmm91i4EMedqKBlpG9FHc1yf/C1lRftM3hPxBHYYz9qNp8oHr6Y/GgD0CiqGja3p/iDTY7/AEm5W4t36MOCp9CDyD7GoNF8RWuuXmp21rFMj6bcfZ5TIAAzeq4J4+uKANaiiigAooooAKKKKACisGfxJND42g0EaRdPFLAZTfAfu1PPHT2657jiofFvi4eG2srW0sJNS1K/cpbWkbhN2OpLHoBQB0lFctceKNZ03wbLq+q+G5UvY32/YLecSkjOA25QcD866GwuTe6fb3LwyW7TRq5ikGGTIzg+9AFiiiigAooooAKKqRarZT6pPp0Nyj3luoeWEfeQHoTWZ4i8SzaFfaZbw6RdX4vp/KaSAcQjjk8H19uAeaAN6iiigAooooAKKKKACiiigAoorBvvEs1n4wsNEXSLqaK7jLteoP3cWM8Hj29R1HWgDeoqpd6rZWN3a2t3cpFPdsUgRushHYU3WdVh0TRbvU7pJHhtYzI6xgFiB6ZIFAF2iq2m38eqaXbX0CssdzEsqK4G4AjPOKs0AFFFVJNUsotUi02S5RbyZDJHCfvMo6mgC3RWb4g1u38OaHc6reRyyQ24BZYgCxyQOMkDv61dtp1urSG4jBCzIrqG6gEZoAlooooAKKKKACiiigAorJ8R+IbXwxpQv76OaWIypFthALZY4HUjitUHcoI7igBaKKKACiiigAooqG8uDaWM9wsLzmKNnEUYyz4GcD3NAE1FY/hfXZPEWgxajPp0+nO7MDBP1GDjPQZB+lYNn461TW9ckg8O+HHvNMgufs81/LciIAg4YhSMkD2/SgDtqKwYPEs03ja40E6RdJFDAJRfEfu3PHHT39ex4reoAKKKKACiiq99f2umWMl5fzLBbxDLyP0UUAWKKjinjnt0ngbzI5FDow/iBGRWN4W8STeI4bx59JutNNtcGEC4H+sA/iHA/wA96AN2iiigAooooAKKKKACiiigAooooAKKKKACiiigAooooAKKKKACiiigAooooAKKKKACiiigAooooAKKKKACiiigAooooAKKKKACiiigAooooAKKKKACiiigAooooAKKKKACoL68i0/T7i8uGCxQRtI5PoBmp64T4rXlxJoNr4f03m+1q4W3QZx8g5Yn26UAckNFurr4dXHjPYf7WbUP7VjPcRqcBeO23Jr13StQi1bSLW/tyDFcxLIpHuM1w0Vr8SYtJXTUsfC/2VYfICZm+7jGPvelSfCm6ubPTtQ8MaptW90ecqVVsjY3IxntnP6UAbXhPxBea1qniC3vBGE0++MEOxcHbjvzyaPEniC80nxP4dsLUR+TqVw0c+9cnAAPBzxWV8PGA8ReMUJG7+1CdvfGOtM8bzR/8LD8Fwbx5v2qR9vfGAM0AZXxNj8Q/wBv6GY57AWrakgslZG3pJt6v2I69K7i3vtQ0Tw3c33i64tHktg0jvZqwTYBwMNzmuf+JP8AyEPCf/YXT+Rqz8WIppfhpqYt85UIzY/uhwT+lAFCy1H4heJbUappa6VpNlN81tb3au8jp2LEDjPtitnwj4qutYuL3SdctFstZ08gTxRnKSKejpnsa3NImhn0WyltSDC8CFCvTG0YrjYMT/Hm5e15WDSQlyQeNxbKg++KAOP8UWE7fEHxJrdhu+26KLa7jAPVQPnH5V7Hpeow6tpNrqFq26K5iWRT9RXGaDEk/wAWfF0Mqho5LaBWU9wVIIrL0bxCPA2g+I9FvW/e6M5eyDf8tI5D+7A9eTQBi/EdT4p1DX70sxsfD1usEWDw07MN31wP6V6Ve+ILbwz4Et9Tu1Z1jtogka/ekcqAFH1NcbqWiPonwFvUucm8uoxc3LHqZHcE5+nAq18QAU8G+FriT/j1gvbR7jPTZt70AXIZPibfWo1CP+xLQOu9NPlVywHZWb1/H8q3vCHigeJtNmae3Nnf2cpgvLZj/q3Hp7Gt9SGUFTkEZBHevO/DCtc+PfHM9j/qG8uIEHIMoQ5x+NAEy+I/FXizU7tfBq2NnplnKYTe3qsxncddoHb/ADntWLreo6y3jTwnpnia3gW+hvzIlxa58meMjGRnkEHgiuh+EUkZ+HltEnEsM0qTqeofeSc/mKg8ezQ/8Jz4Mhyvn/bWfHfbgD+dAG54t8TzaElpZ6XaC+1fUHMdpbk4XjqzH+6Kwru9+I2hWbapfjR9StoRvuLS2V1kVOp2k9SPfNU/GlrqNx8V9DTTtV/smWaykSG5aBZhuBJKhW4yRWlN4V8atBIs/wAQB5RUh92kxAYxznmgA8d6pb638Hb3UrIkwXNukiZ6jLDg+4qL4gf8kYk/69oP5rVPxBoP/CM/Au90v7aL4QplZwm0MDICOMn19aufED/kjEn/AF7QfzWgDb0rxf4bj0aySTxDpSOtvGGVr2MEHaOD81ap1zTDo82qw31vPYwIzvPBKHUBRzyDiue0v4feE5tIs5ZdCtGd4EZmKnklRk1F430W20r4V6xZaHapbQiIyeVEOOoLfoKAKVhq3jzxXbDVNEXS9J02TJto7xWeWVezHHAB/wA+ta/hTxTe6jqN5ofiK1js9ZsgGdYSTHMh6OmecVseGpoLjwtpktoVMLWsezb0+6K5W4Kz/Ha0Fry9vpT/AGlh2Bb5QfzoAibxZ4n1HxZrnh/Qbazaa0lQR3NwCI4IyuSWxksxPQAVJ4y0fxFf/C6W0vXj1DU45FlmW2BUTIr52gYHbHGO1P8ABv8AyUjxn/13h/8AQK6vWNe03QIIZtWuPs8c0ohRvLZgXPQHaDj6nigDE8OePvDGrWMENtqEFnMqhDZ3DCJ0IGNoB649s1rWvh3T7TxFda3aqyXd5GEm2t8jgdDj196h1jwd4e8Qbm1XSbaeRxzME2yH/ga4P61ynhOOXwv8SLzwnZ3c11pRsxdRJM+42zZxtB9Pb6UAaWreJdd1PxHPoXguC132YH22/vMmOJj0RQOrVXi8SeJvDOtWVp40jsbmxv5BDFf2QZfLkPRXB7H2rnvC2keI73X/ABPFpfigaRJHqbtLAbJJi4PKtluRxxj2rY1XwJ4k1WGC31vxyk8AnSRY202OPc6nIwQwOaAN7xj4pn0JbOw0i1W91jUXMdrA5wox1dvYVlte+PNBgbUtd/svUbGNd1xDZIwliXuy5wGx3HXFN1hlt/jT4fa6OI5LCWOEt0Mn+OK7PVJYoNIu5bghYkgcuW6Y2nNAHMeG/FV9q/wzm1+cRfaljnddqEL8hYLxn2FbHhHVbjXPCOnalehBPcwh38sYXOT0FcX4DGfgPMByfIu/5vXTfDdlf4caLtIOLcA4PQ5NAC6Z4gvLv4iaxokoj+yWdvFJEQvzZbrk5qhqfiTX9W8RXOieCobUfYsC8v7zJjjY/wACgdTVbw9NHN8ZvE/lOG2WsKNjsRjIrn/COj+JL3UfEUeleKP7IeLVJfOtzYxzFiTkPuY5wR/KgDo7fxJ4k8O67Zaf40jsZ7TUH8q3v7LcoSTsrg+vt+tWPFni3UdC8W6Ppmn2q3Y1CKXEOMM0g+782eF5yT6Cs7U/AniPVPssWueOEuIY7hJUibTY4yzqcjBDA561Y8R/8lf8Kf8AXC4/lQBW1jVviF4Zs21nUho99YwkNc2tsrq0adyrHrj1/SuuvfElhYeFTr87H7IIBMMdWyOAPc5xVbx5z8P9cz/z4y/+gmuI8QBj8B9CkILQxLaPMAM/IMZ/pQBr2t18SNZtF1O0Gj6dDKN8FlcK7OV6jcR0J/D8K3vCXiaXXtNuP7StDYX9jIYbuE/dVh/Ep7g1vW8kc1rFJAQ0boGQjoQRxWZq13DqGg6vb6bdQz3EUEkbpDIGaN9p+UgdD7GgDl4df8XeLp5rjwiun2GkRSGOK6vVZnuSOCVA6LV/w74n1ZfET+G/F1tbxaj5XnW9xa58q5QdcZ5BFcx4F0TxTqHgvT5tI8aiztdhVbYaZFJ5RBIKlick59a3LLwXrI8Y6bq2ueLV1KaxV9kH2FIWZGBB5Vumcdj0oAr2tsnij4wajLqC+ba6BEkdtE3K+awyWx6//Wr0PGRg159o8q6D8Y9asrxvLXWoo7i1ZhgOyjDKD69fyr0GgDnNC8Ix+H/EeqX9hdbLPUNrmxWLCxyDqwOe/PGKyPh5/wAh/wAYf9hU/wAq6DTfFFlq3iHUNJskmkfTwvnTgDytx/hBzkn8O1c54ClWDWPGkr/dj1NmOPQKTQBI2o+O9d1O6Gj2lpomn28hjSTUY2aWfH8QUdB/nJqx4Z8S6w3ia68NeKobUahDCLiGe0zsnjJxnB6HNZej3vjTxzYnVLDV7Xw/psrsLdEtRPKyg4y244H4Vn6Lp91pvx0WDUNWl1W4/sos88qhSMt90KOAO+PegDoNU8Ra9qni248PeEhZwNYxq95eXgLBd3RVUdT9as6Lf+LLPxCNL8S2sF5bTRl4tRsY2VUI/hcHoT2/rUOu+DW1HxBJrHhvXpNH1YIEnMYEiSDtvQn2/TpVSw8ReJtB8V6foXi77HfRajuW2vrVSjbgOjr0/IfnQBb17xHrdz4sHhrwnHaJcxwCe6u7zJSJSeAqjqadpl94x03xFb2HiG2ttSsboHbfWMTL5DDtID0Bp3iPweusa6uqaLrUuka1DEEaSHDh07B0zyP881mRa/4q8K6/puneLJLPU7LUZfIivbdPLkV+25eB+Q/GgDbuvEF5D8TLLQUEf2OexedyV+fcCQMHPSuJ8XReKf8AhaPh0fadM89nuP7PPlvtRdvPmepx6V0V/wD8ly0v/sFS/wDoRqLxb/yVrwV/28/+gUAaniDV9c8OfDu61K8ezl1W3XJaJG8o5cAcHnoauat4oh0HwdHrN+hkdoYysUY5lkYDCj6k1Q+KX/JNdW/65r/6GKw/HZEXhzwfczg/Y4b62a4PYDbwT7ZoAuRyfE64tRqKjRYNy71051ctj+6W/vfjW94c8Uf274ZfUmsZobmDck9oBlhIvVV9c9q6AEEAg5B6GsXWPE9jp3hnUNYtJob5LJW3LBKG+ccbSR0OTzQBzdpc/EbXYTfQJpeiQMT5Npdxu0uM8b/T9PpWp4S8S6jr1lqdnqNtDaazpshgmVCTEWx8rDvg+lZdhYePPENjBf3XiW20aO4QSLa2dispVTyMsxznHpmqnw0t3tPGXi6CW8kvnjuI1a4kxukODknFAGVpUHjM/E3W1t7zRxqQtoftDvFJ5TL22jrn6123inxBf6JqPh23t/JI1C8FvcFlJ4xzt54rN0P/AJLP4k/68oP6UfEP/kP+D/8AsKj+VAGr4w8VSeH0s7PTLUXur6jJ5dpbk4HHVm/2RWJdXXxH0S0bU7z+x9SghG+ezt1dXC9TtJ6ke+fxqTWmWD41aBJdYEUtjNHCT08znj64rt7qSOGzmknIWJELOW6AY5oA56/8VrL8ObnxLopVsWhniEgyAw7MPY8VjWWqeOvE+kW2o6H/AGXp1tJCpU3is0k7Y5bAyFXPTvWHoaMv7P8ArL7SsUq3LwgjHyFuP616F4Q/5EvSP+vOL/0EUAZ3gnxRe69Hf2Wt2sdrqumzeTcpEfkb0YfWuqrgPCPHxa8ajt/o3/oFd/QBy/hnxDe33iXXtG1XyhNp8ymAxoV3wsPlJ55PvWPf+Pb21+KEGixwxnSd6W885U7lmdSwG7OPTjFSa86+HvippWsOdltqVtJaXDZ43KNyk1hLpUup/CvVNeVSb66vW1aI98I/yD/vlf1oA7Hxp4hvdG/sq00hY2vtSvFgQSLuAT+JsZHQUupeIL20+Iej6JH5Rtby3lklJX5sr0wc8Vg6Zex+MfidY30JWS00rTFmBByBLMP5gVb1z/ks/hv/AK8p/wCtAGJ46i8Tf8J74f8ALudNCteP/Z26N8odo/1nr+FdJ4oTVE+FOsLr0ttLe/ZZN7WqlYyO2AeelVvG/wDyPfgv/r9k/wDQRWv8Qf8Aknmuf9eb/wAqAOa0GbxrqvhXTH8OHTdPso7VEjN8rNJOQuC2ACFXPTv3rc8EeKb/AFt9R0zXraK21bS5RHOsJ+RwejDk9cVp+EP+RL0j/rzi/wDQRXOeGwB8YPFeB/ywt/5UAd5Xkurw+Lf+FtacqXelfbDazG1YxvsWLJ4cdS304r1quF1X/ktmh/8AYOm/maAH/EJbxfhJqA1R4XvBCnnNACELbxnAPOKrWk3jvVNGtLnQf7M06zFughivVZpZQFHzNgEKD2Hp1rS+KX/JNdW/65r/AOhiui0b/kBWH/XtH/6CKAMTwP4ouvEdhdxatara6np85t7qNPu7vUZ7VlyeI/E/ifVru38Fx2Ntp9lIYZL+9DN5sg6hAOw9aZ4PVj4y8cLHwxul249dhrnfh5onim98LZ0vxeNNSK5ljltf7PjlKOGOcsTk560AdXpHibXdO8TQ+H/GcFr5t2hazvrPIjmI6qQejV2tcAfBOu3Ov6Vd674yS+NjP58MBsEiZsdcFWz0+td/QBzXjDxVJ4fjtLTTLUXur6hJ5dpbE4BPdm9hWHeXvxG0GybVb8aRqVtCN9xaWyusip32k9SPx/GpdaZbf406BJdHEUtjLFCT08zPT64ruZpo7eF5p5FiiRSzu7AKoHUknoKAPP8A4j6jDq/wzs7+2DCK4ureRQ4wRluhHrXUeJdXv9G0MTaPpcup3kjLHFCgO1Sf4mI6KP8AOK534p3MF54AhuLSaOeGS9gZJYnDKw3dQRwa0vGPiTUNGTS9P0O3hm1LVJfJhNwT5ceByxx1oAyruf4k6Xpsmq3EuiXQhQyy2Mcbg7RyQreoGe/510I8XWh8B/8ACUGN/s/2bzzFn5s/3fz4rnNY8OeLG0K+n1rxq3krbuz29rZRxL908b+uKs+A7Szv/g9ZWmp7fsk1u6S7m2jaWPftQBDaXHxG1TS01a2l0W2WZBLDYPG7EqRkBn9SP8iui0/xDMfB7azrenzadLBE73Fu4wVK9cZ7HHFc3D4S8Y+HbcJ4V8Tx3lnGP3NlqUIYBeyiQc/lgVs+FvEEXjLwncSarapbsrSWt5CW+QEcNg+nNAGPp1/4/wDEemJrGmy6PYW1wvmWtrLG7sydt7difb9K6LRNY1O+8MzXeraa+nX8AkWSJ1O1mUfeXPVTXN2/gzxPoEAHgzxSklgPmhstQiEiAHkASDJx9AK0/DXii48SeG9WTUrVLXUNPMltcpGcoWCnlfagBmg6z4h8TfDu01KwksYdTnYlmmjbytoYg8A5zgVzvwri8TGwZobnTRpg1CX7RG0b+axz8209Mema6H4Uf8kz036P/wChmofhN/yKl3/2Ebj/ANCoA07XxBeTfEy90FxH9jgsUnQhfn3EgHJz0qjrnijWbvxK/hzwbBbPeQIHvLu6J8q3B6DA6sahsP8AkuWqf9gqL/0IU3wIyxeNfGNtOcXZvllwepjI+U/SgBB4g8V+GNWs4fF8dlfadeyiFbywRg0DnpuB7e/61seKtY8QWlxaaf4X0oXVzdE7rq4BFvbgf3iO/t/Ot67v7SwRHvrqC2WRwiNNIEDMeijPU+1cl4h8Q67ceMIvDHhYWtvP9n+03F5dKWEaE4AVe5+tAGfqWueNPB0UOpeIpNL1HSzIsdz9mRo5IdxwGGeCKsfFUavL4Lu5dOmtF037Pm5WVWMjcjGwjgfjXN/EnQfEFl4FurrXfFsupKJIwtstokCMS4645OOT+Fdb46/5JFff9eSf+y0AW/BMXiFNKgOuXFhLam2j+zLaoyuox/FnrxjpR4J8RXmv2epzaj5Sm0v5bdDGu0bFPGeetbGgf8i3pv8A16x/+giuI8BJJL4T8VRwf6xtQuwmPXHFAE8PiPxX4vu7l/By2FlpVvIYlvL1WZrhh1Kgdv8APtV3Q/FGsWviVfDnjKC2jvJkMlnd2hPlXAHUYPIYU/4VSwyfDjTVgwDGHSQYwQ4Y5zVLxyVl8deDreDm6W8eU46iMDk/SgCbX/FusWHj2HQdKs4rs3NkZIVcEbZd2NzNnhAASeM1n6rr3jjweItT8Q/2XqGlGVUuBaI6vCCcZGeo/P8ArVy4/wCS7Wn/AGCH/wDQ6u/FIZ+GurZ/55r/AOhigDrI5FliWRDlXUMp9QadVPR/+QHYf9e0f/oIq5QAUUUUAFFFFABRRRQAUUUUAFFFFABRRRQAUUUUAFFFFABRRRQAUUUUAFFFFABRRRQAUUUUAFFFFABRRRQAUUUUAFFFFABRRRQAUUUUAFFFFABRRRQAVz1x4V+1+OrXxFdXm9LO3MVvaeV9xj1fdnn6YroaKACufHhbyvHh8SW155QltvIuLXysiXHRt2eCOOx6V0FFAHE618P7i48SSa54a16fQ7y4UC5CRCRJcdypI5+uaIvhyF1jStWuNXmu7+ynM09xcR7muOMBByNijsBnrXbUUAYXi3wtb+K9KjtZbiS1nglE1vcxDLROOhx3qTRtGvbbQ5bDxDqf9tNKWDSvAI8oRjaQCfzrZooA4OLwFr2kK1r4W8YT6fppYlbae0ScxA9lZuce3Fb/AIX8J2nhe3n8qaW7vLp/Muryc5eZv6D2rdooAwdN8M/2f4w1XXftfmf2jHGnkeXjy9g67s85+grN8T/Duy8T+KNN1mefyjZkedEIt32gA5UE5GMc9j1rsKKAMjxToX/CS+GbvSBcfZftKhfN8vftwQemRnp61Lc6HaX/AId/sbUUFxbmBYX4xnAAyPQ8ZrSooA4KPwN4otIBYad45uYtMA2rHJZo8qL/AHRJnPTvxiun8OeHLHwvpC2Gmhyu4vJJIcvK56sx9a1qKAOJvvAV7bazc6n4P1+XRJLxt9zAYFmidv7wVuAfz/CkT4dM+p6ZquoazLe6naXPnzXMsIzKAMCNQCBGo64Gea7eigDF8T+F7PxRp6QXbyQTQv5lvcwnEkL+oNc5N4F8T6jAbHWfHE9xprfLJFFZJHJIvoXBz/Ou9ooA57V/CNrfeB5PDNhILG3MSxRuE37ACDnGRnp607xB4X/t3wW2gfbPI3RRx+f5W77uOduR1x61v0UAQ2dv9ksYLbdv8mNY92MZwMZxUksSTQvFKoeN1KsrDIIPUU6igDhE8A61o7SQ+EfFk2mafI5YWk1qlwIs9dhboPb9a2/C3hG28MrczG4mv9RvG33V7P8AflPp7D2roKKAMHRvDP8AZHiTWtW+1+d/akiP5Xl7fK2jGM5OfyFXtd0Ox8RaPNpuqR+ZBMOcHBU9mB7EVoUUAcBF4I8X2MItNM8eTJZqNqLPZJJIi+m4nJ/Stzwp4MtfC/2i4NzNqGo3Zzc3twcvJ7ew/OujooA5TXvBLX+sjWtB1WbRdVKbJJokEiTKOgdDwaqWngK+vNWtb/xj4gl1trN99vbi3WGJH/vFV6n8q7aigDD8U+FbPxVp8cFzJLbzwP5ltdQnDwv6j/CsE+C9duLd4/E/iubVdPiUn7IlqkIlwOPMYcsPbvXdU2RBJGyN0YEHFAHDfCGNZfhbZRyKGR3mVlPcGRqhtfhpqWkzzQ6B4vvdO0qZyxs1hDlM9Qrk/L9QPzrr9B0Ky8N6PHpmlq620RYqHbceTk8/U1pUAcv4d8D23hvxFe6lZXJaK6gSLyWT5gV6uz5+YseTxUWu+CJLzWjrfh7V5tE1R1CTSxxiSOYDpuQ8E+9dbRQBxVj4CvbnWLXU/GGvy63LZtvt4BAsMSN/eKr1P5Vr6l4Z/tDxhpWu/a/L/s6ORPI8vPmbx13Z4x9DW9RQBn69pf8Abfh++0zzvI+1wND5u3ds3DGcZGfzqCw8O29v4Qt/D98VvLeO1W2kLJtEgAxnGTj8616KAOBi8B+JNMh+w6D42uLXTOQkMtokrxL6K5OfyxXS+GfDNl4W0s2dk0kryOZZ55Tl5nPVmNbNFAHEXPgLULDUbi78GeIpdEW6fzJrVrdZ4ix6sob7tXfD3gk6ZrD61rWqTazq7p5YuJUCLGvoqDgV1VFAGJ4n8J6d4rskh1ASRywtvguYW2yQt6g1zR8B+K5Ivss3xAvGs8bSFtgJSvpv3Zz716BRQBk+G/DWneFtKFjpcbBSd0kkhy8rd2Y9zVfw/wCGBod7rM7XX2kapdG4KGLb5eRjb1OfrxW9RQBwUXgHXdGllh8J+LJNN02SQuLSWzSfyiTk7S3b24q3ovw+XR/GK+IP7Vmu5TamGYTpl5XJyXLZ47DaBwBXZUUAcdq3ge8bXp9a8La7Lot7dAC5XyVmjmI6Eqeh9+ado3gi5h16PW/E2tS63qMClbctCsUcGepVBxn34rr6KAOS13wTcXmvHXPDutTaLqbxiOV1iEscyjpuQ8Z96i0zwNetrltq/izX5dbubTm2jECwxRN/e2rwT78V2VFAGFP4a8/xza+Ivte37PatbfZ/Lzuyc7t2ePpim6v4X/tXxbout/bPK/srzf3PlbvN3jH3sjGPoa36KAMjxToX/CS+GrvSftH2b7SoXzdm/bgg9MjPT1p95oFnqXhv+xdST7RbmFYmOME4AAYeh4zWpRQBwKeBfFNvbf2daeOrlNMA2KjWaNMqf3fMznp34+ldFZeENJsfCb+Ho4maylRllLNl5C3VifXNblFAHB2vgjxRYxpYWfji4j0tBtWM2cbTKn90SHnp3/StTwn4Jh8J6lqlxa3bTRX7qyxuh3R4z1Yk7iSc5wK6iigDkNf8D3N/4h/tzw/rs2i37xCKdkiEqyqOmVJHNX9d8MPrl1ok8l75b6Xci4b91nziBjHX5f1roKKAMXxP4Xs/FGnpb3byQTQv5lvcwnEkL+oNc5N4D8RapD9h8QeNLi80w4DwQ2iQvKo7M45/nmu9ooAx9T8OW954PuPD9kVsreS2NvGVTcIxjHTIz+dXNI0/+ytFs7DzPN+zQrF5m3buwMZxk4q5RQBgaR4X/srxbrWt/bPN/tXyv3PlbfK2DH3snOfoK36KKAOd8b+EYvGfh/8As2S5+yusqyxz+V5m0jrxkdQSOtatlpVvZaHDpSKDbxQCDGMZULirtFAHLeBvA8Hgmxu4Ibo3TXM3mGQx7NqgYC9TnHPPvVy+8NfbfGmm6/8Aa9n2GGSLyPLzv3d92eMfQ1u0UAc94t8Jx+KLW22Xkthe2cvm2t1EMmNvpxkfjTX8N6heeCLvQtX1k3lzcxvG18bcKQG6fIDzj6iujooAp6Rp/wDZWi2dh5nm/ZoVi8zbt3YGM4ycVm6b4Z/s/wAYarrv2vzP7RjjTyPLx5ewdd2ec/QVvUUAFcx4r8HHxBeWeo6fqc2lapZZEN1EgcbT1UrkZrp6KAOd1Xwzda14GfQdQ1TzLmWIJJfeR94gg7tgPt61uWdv9ksYLbdv8mNY92MZwMZxU1FAGFofhr+xtd1rUvtfnf2rMsvl+Xt8rAxjOTn8hWVqXgS6TWbjVfCWuy6Hc3R3XMYhWaGVv72w8A+/NdlRQByGjeBpoNdj1zxLrMut6lCpWBniWKOHPXag4z7119FFAGL4o8L2finT0t7t5IJoX8y3uYTiSF/UGubl8BeItUiFj4h8aXF5pmRvghtEheUDszg5x9c131FAHO+I/CMOueGINEtZxYQwSRNGVj3gBDwuMj881J4p8Kw+JrC3jN1NZXdpIJbW7h+9E4747j2reooA4ZvA/iDVLeW18T+Lpb+zZCFgitEhDHHBcrywHXb3x1rV07wXa2/gNPC2oTG8txEY3lCeWTkk5AycEfXtXSUUAcFH4I8WW1sNPtPHc6acq7FVrFGlVfTzM56d810Gm+D9K03wpJ4fSN5bSZGE7SNl5S3VifWt2igDgYPA3inTrcWGj+OJoNNUbY45bJJJI19A5Of5V0Gg+E7Pw9oE2m2ckkj3G9p7mX5nldhgsa3qKAMbwp4f/wCEY8M22kfaftXkBv3vl7N2ST0yfX1pnhPw3/wi+lS2X2r7V5lzJPv8vZjcc4xk9PWtyigDCg8NeR45uvEX2vd9otVtvs/l424Od27PP0xVPxF4K/tXVo9Z0bU5tG1eNdhuYkDrIvo6Hhq6migDirDwJf3GsW2peMPEEutyWbb7aAQLDEjf3iq8E/lVzxL4Ol1fVbfWdG1WXSNXt0MQuEjEiumc7WU9f88V1NFAHnuq/DbVfEekyQeJPFUt5c5HkOtqqRQ8gk+WpG5iOMk8Zrsb7RbbUvDsmj32XglgELleDjGMj0PetGigDmfCfhnVPDfmQXniGXVLFYxHbQSwBTCAf72TnjirHhXwz/wjNvfRfa/tX2u8kus+Vs2bj93qc49a3qKAOJu/Ad/Zapc33g3xBLon2tt89sbdZombuwVvumr3h3wWNJ1WXWdX1KbWNYlTYbqVAgjX+6iDha6iigDBk8M7/HcPiT7Xjy7M2v2fy+uTnduz+mKn8U6F/wAJL4au9J+0fZvtKhfN2b9uCD0yM9PWteigCGzt/sljBbbt/kxrHuxjOBjOKmoooAKKKKACiiigAooooAKKKKACiiigAooooAKKKKACiiigAooooAKKKKACiiigAooooAKKKKACiiigAooooAKKKKACiiigAooooAKKKKACiiigAooooAKKK4vxZe3Vv8QPCVvBczRQzzSiWNJCFkAXjcBwfxoA7Siq99qFnplq1zqN1DawL1kmcKo/E1m6b4w8PavdC203WLS4nP3YlkG5voD1/CgDaoqrLqdlBqMNhNdRJdzqWihZsM4HUgd6sSSJFG0krBEQFmYnAAHegB1FV7HULTU7NbvT7iO4t3ztljbKnHXBrJk8ceF4r02kmvWCzBtpBnGAfTPSgDeophljEJl3r5e3dvzxjrmsi68Y+HbKzgurnWLVYbn/AFLB93mc4yoHJGaANqikVgyhl5BGRSSSJFG0krqiKMszHAA9SaAHUVhQeOPDF1ei0g12xeZm2qomHzH0B6GqHxOu7mx+Huo3FjcS28yBNssLlGHzDoRzQB1lFc+/jDQdJgtbfVtYtYLloUZkkl+bkDk+n41t211BeWyXFpNHPDIMpJGwZWHqCKAJaKytV8UaHocoi1bVbW1lYZEckg3Y9cdcVZ0zV9O1m2+0aTewXkQOC0LhsH0OOhoAuUVSm1nTbe4ngnvreKW2jEsyvIFMaH+I56D3qppni3QNZujbaXq9pcz4yI0kG4/Qd/woA2KKbJIkMTSTOscaDLMxwFHqTWNZeM/Dmo34srHWrOe4Y4WNJQSx9vX8KANuiq1lqNnqMcj2FzHcLHIY3MbZCsOqn3FU9V8UaHocqxavqlraSMMiOSQbiPXHXFAGrRVXTtUsdWtRc6Xdw3cBOPMhcMM+nHek1LVbDR7U3OqXkNpCDjfM4UE+gz1PtQBboriPFvizTtS+H+s3HhzWI5J7eEHfazYeP5hzxyPrXU6HI8vh/T5JWZ3a2jLMxySdo5JoAvUVR1jVrPRtOe61C7htU5VHmYKC2OBzXMfDzxzD4k0K1XVNQtTrErSbraMhWwGOPl+gzQB2tFU9S1bT9GtftGq3sFpDnAeZwoJ9Bnqar6T4m0TXXZNI1S1u3QZZI5AWA9cdce9AGpRRSMwRSzkKqjJJOABQAtFc+fHnhUXX2f8At+w8zO3/AF4xn/e6frW+rK6hkIZWGQQcgigBaKR+I2x6GuG+Hs0+r/D27Gp31w5knuI2neUl0XOOGPTAoA7qiuc8H2emaD4OjSw1U39hFvk+1ySBhjJJ5HAAq1eeL/D2n28E95rFnFHcrvhJlH7xfUDuPegDZoqtYajZ6rZrdabdRXUDdJIXDA/iKj1TWdN0S3E+rX0FnGxwrTOF3H0Hr+FAF2is3SfEWj66H/sfUra8KfeWKQFl+o6irl3eW1havc31xFbQIMtLK4VV+pNAE1FYdh408N6neLa2GtWc07HCxiUAsfQZ6/hWpfahaaZbfaNQuI7aHcF8yRsDJOAM0AWKKy/+Em0b+200ddRgbUHzi3RtzDAzzjpx61qUAFFVtQ1Ky0q0a61O7htIF4MkzhRn0571R0rxVoOtzmHSdWtbqYDPlpIN2PXHWgDXoqte6jZ6dHG9/cx26ySCNDI2AzHoo9zWbd+M/DdjfmyvNbsobhTtaNph8p9D6fjQBt0UiOsiK8bBlYZDKcgisnVfFeg6JOINV1a1tZiM+W8g3Y9cdRQBr0VWsNRs9UtFutNuobqBukkLhlP4irNABRRRQAUUUUAFFFFABRRRQAUUUUAFFFFABRRRQAUUUUAFFFFABRRRQAUUUUAFFFFABRRRQAUUUUAFFFFABRRRQAUUUUAFFFFABRRRQAUUUUAFFFFABRRRQAUUUUAFFFFABRRRQAUUUUAFFFFABRRRQAUUUUAFFFFABRRRQAUUUUAFFFFABRRRQAUUUUAFFFFABRRRQAUUUUAFFFFABRRRQAUUUUAFFFFABRRRQAUUUUAFFFFABRRRQAUUUUAFFFFABRRRQAUUUUAFcJ4y/wCSkeDP+u83/oFd3XCeMv8AkpHgz/rvN/6BQBe8Z6d4XlurHUvGF6scNoW8q2nlHlSk9ymMsfpXAePfE3gy/wDDwl8KwKdRs5o3hubaxaIRYYZy20ce3riug8XPZ6J8T7PXPFFq8+jGz8mGYxGVLebdnJUA9azPiR4203xH4EurXw2kt5bI8ZuLryWjjiG8YX5gMsTjgDpmgDoPiFFKmh6N4qt1zc6TNHO+ByYmwHFXPiHrRXwKI9NbdcawUtrbB5PmdT/3zmuh+wxan4XWxuV3RXFoI3B9CmK8w8Dx3+teK7DSdUjYQ+ElkViTxJIW2ofwUfpQBseO5Y/CHw70rQ4LhrS3uJI7Sa4QElI8ZkPHOTg/nVSHxJ8I4dKGnhLRodm0l9OkLn3LbM59811PxC0O81fQ4LjSo/Nv9MuUu4I848wr1X8RWbF8W/Cq2v8Ap5uLS+UYksXtHMiv/d4GOvuKAKPw11SO68K69p9pctdWNhLIlnK4IPkspKjnninfCrwvpNx4Js9R1CyhvrqYMA9zGJPLQMQFUHOB9PWul0bVdQ1rwnd32p6V/ZhkSTyYmb52jwcMwxwfaqPwn/5Jrpn0f/0M0AdkAAAAMAdAK4P4gGTWNf0Dwr5jx2uoyvLdlGwXjQZ259zXeVxPj/Tr+K80jxNpFs93caRKxlt4/vSQsMMAO5FAGpf+A/Dd9o0mnf2RZwxsm1JIoFV4z2YMOc/jzXP+O9Nm0j4M3VhcXr3z26InnuuGYBxjPJ7cVLcfF7w9JYkaQbm91NxtisFtn3l+wPGOvXBqLx5Lqc/wZuZddihhv3jjaaOEEKhLjjkn+dAG7o/g7Qk0GCO50y2vJJoVaae5iWSSVivJLHn/AArF+GMP9m3fiXRoWY2ljqJECsc7FYZxXbab/wAgq0/64p/6CK4zwOrN4n8aqh2sb8AH0O00AVp3+HfhLWb641e+gu9SuZS8rXK/aZIz/dAVTtH61meFtU0qb4xE+F7eS10+909jKnkGFJHU5DKpA+n51F4J8R+HfBFnc6d4sRrDW0uJGnnltXdrgFiQwZQeMVb03V31v43WV6LSW2tn01xbecu15EyfnK9gT09qALE+jWutfG++h1FfOtotOika3blJSDxuHcDOcGl+J2g6ZpWh2uuaVZQWV9Y3kJSW2jEZILYwcdav2H/JctU/7BUX/oQp/wAXf+RAl/6+oP8A0MUAVviBI+sat4b8MtI8VtqszSXOw4Loi7iufeuhufBPh6fTDZx6RaQBVxHJDCqyRsOjBgM5B5zmsjxvo2ozxaNr2hQC51DR5PMEHeaMjDKPemRfEn+01+x6RoGrNqrjaIZ7fy0hb1ds8KKAKHwzuZNM8A6zczuZpba8uXdj/GyjJP4kVz3hLxP4CgsG1DxTcxXmuXrtLdPcWUkuwk8IvykAAY6V0fwss2u/A2rWV6wZpr24ilZehJABIqv4c8W2ngXT18OeNY5LGSyJS3uvIZ47iPOQQVBOaAKGg+IPDsfxXsl8FT/6FqkLx3dtHC0cayKCysFYDHAPStiGwg8YfFbVf7YjFzZaHHHFb20nMZkYZLFe/wCNa/h7xkfE+vumiaY76NFH82pSqY90n91ARz+lY2p3MngH4g3uuXdvNJoesRoJ54VLfZ5V4BYDsR/OgB3xQ8KabH4KvtR0y1hsLq3jG57aMR+ZGWG5GAxkd+e4rtdA/wCRb03/AK9Y/wD0EV51468bWninwXqVp4U8y8iSMSXl00TxxxICDtywBLHjj616LoH/ACLem/8AXrH/AOgigCTVbO2vdOljvLaG4RULBZYwwBwecHvXFfB3TrI+ALC9Nnb/AGrzJh5/lL5n32H3sZ6cV3twhktpUXqyED8q82+F3iCz0iwg8G6ms1rrEE0o8qSIgONxbIP0oAn0jTbfxj8RNc1DW4ku7bSZRZ2dtKN0aHGWYqeCc0/4ieHrLSNEHiTQbWGw1LS5FlWS3jEfmJkBlYAcjBqOW9b4eeNtUvNTgmOg6w6zfaooy4t5QMEMBzg1X8S+KIPiHaJ4a8HCa8S6kX7ZeeSyR28QIJyWA5OKAPSLG5F5p9vcgYE0SyY9MjNZ/inTbDVvDtzaaxePZ2TAGaVJRHhQehY8YrTt4FtrWKCP7kSBF+gGK4v4rWFze+GbWSG3lurW1vY57y2iGWlhGdwx3oAyLnX/AIXxaXJo9pb213+7KLHa2LSOxx1D7eT75rY+EV3LdfDu1EzO3kSyRIX6hQ3A/AHFQwfEfwvLp/2HwrHJdXjxlYbG3tHj2nHckBQB3OaX4Obv+EAXfjd9rmzj13UAd1J/q2+hrz/4a/8AJNL7/rvdfzNegSf6tvoa8/8Ahr/yTS+/673X8zQBH4O/5IS3/Xncf+zVY+HHhbSJPA2nXl9YwX1zcwAvLdRiQheQEG7OFA7Cq/g7/khLf9edx/7NXQfDn/knOif9ew/maAMPwfZRaD8UPEWj6cvlWDwRXSQL92NjwcDt1rnIvFHhK68d6zqHja4WSS1uDa2NtNbvLHGi8FsBSMk5611elf8AJbNc/wCwdD/MVnx36fDfxVqw1m2lGiarP9qhvYoi6xSH7ysByKAOe8R+KfBi6pper+C544NVt7pFkS3tXhWaJjhg3ygGvQvGmm+HL6Cyu/Fl95FnayeYsMkwWOZsdGXq30FZ8XxFtNb1i0sPBti2rh5B9quGjeKOCPuSWXr7Yqh49Fvp3jrRdb1+zkutDgheNyI/MSCUnhmX/PSgDC8beI/AmqeFbmHw/bJJfW4DQTWli0fkkHrv2jArd+IdxLe/B21uHciWb7KxfuGJXmqfjfx3pOveBtSsfCyyXy+UDPKsDxx26ZHUsByegAqx42/5Ipp/+7Z/zWgDstD8L6PpFtA9pYQfaQu5rp4w0zsRyxc85OT+dbVRwf8AHtF/uD+VSUAedR2MPjL4q6musILiw0KNI4LWTmNpGGSxXv8Aj7VY+IPhXTYPDE+s6RaQ6fqWlj7TBPaxiM/LyQduMjGetQapPJ4D8fXmu3NtNLomrxoLmaFC/wBmlUYDMB2I71X8S+NbTxrpT+HPBQm1G5v8RzTCB0jt4yfmZiwHagA+IN62t/DnQLxXMT3l3avvQ4Klh1H411cngbw4+jvYNpFoyMhBkaIGQn+9v67s85zXOfEWxTTPBehWMRylvf2sQPrjivQ2+6fpQB514F1ebSvhLfXErmX+yjcJGW5+VMlRXP8AhLxL8PbLSVufENzFeazdky3kt1ZSTMHPO0EoRgdOK6L4eaemq/DzVtPl4S5u7qIn0ycVX8O+NbHwdpcXh7xrHLp13YL5UcxgZ47iMfdZSoPagCl4U1zQE+Kgg8GT50zUrZmuLdInjSOVeQVVgMZHpXrNcn4a8XyeKNan/svS3GixR/JqEoMZlk9FUjke9dZQAUUUUAFFFFABRRRQAUUUUAFFFFABRRRQAUUUUAFFFFABRRRQAUUUUAFFFFABRRRQAUUUUAFFFFABRRRQAUUUUAFFFFABRRRQAUUUUAFFFFABRRRQAUUUUAFFFFABRRRQAUUUUAFFFFABRRRQAUUUUAFFFFABRRRQAUUUUAFFFFABRRRQAUUUUAFFFFABRRRQAUUUUAFFFFABRRRQAUUUUAFFFFABRRRQAUUUUAFFFFABRRRQAUUUUAFFFFABRRRQAUUUUAFFFFABRRRQAjKGUhgCD1BHWkRFjXbGqqo7KMCnUUAYnibV9W0m1hbQ9DfWJpXKsizCMRjH3iSDnn/9dU/A/h+80bTrq61kodV1K4a5uthyEJ6ID7CunooAKaY0MgcopcdGI5FOooAKKKKACiiigBojQSFwihz1YDk06iigAooooAa8UchBkRWK8gsM4p1FFABRRRQBi+KD4gTShL4WFtJdxyBnhnH+tQdVBzgE+/6Vz0njjxJNbmCz8DakuoEbf3zKIVPrv7j8q7uigDm/Anh258NeGhbahIkl5PM9xcFPuh2OSB9K6J40kXbIquvowzTqKAAAAYAwKCARgjIoooAaiLGu2NVVfRRgU6iigAowM5xz60UUABAIwRkU1EWNdsaqq+ijFOooAKKKKAGrFGjMyIqs3UgYJp1FFABRRRQAUUUUAFBAIwRkehoooAaiJGu2NVVfRRgU4gEYIyKKKAGpGkS7Y0VF9FGKdRRQAUUUUAHXrTUjSNcRoqD0UYp1FABRRRQAU140kXEiK49GGadRQAdOlFFFABRRRQAUUUUAFFFFABRRRQAUUUUAFFFFABRRRQAUUUUAFFFFABRRRQAUUUUAFFFFABRRRQAUUUUAFFFFABRRRQAUUUUAFFFFABRRRQAUUUUAFFFFABRRRQAUUUUAFFFFABRRRQAUUUUAFFFFABRRRQAUUUUAFFFFABRRRQAUUUUAFFFFABRRRQAUUUUAFFFFABRRRQAUUUUAFFFFABRRRQAUUUUAFFFFABRRRQAUUUUAFFFFABRRRQAUUUUAFFFFABRRRQAUUUUAFFFFABRRRQAUUUUAFFFFABRRRQAUUUUAFFFFABRRRQAUUUUAFFFFABRRRQAUUUUAFFFFABRRRQAUUUUAFFFFABRRRQAUUUUAFFFFABRRRQAUUUUAFFFFABRRRQAUUUUAFFFFABRRRQAUUUUAFFFFABRRRQAUUUUAFFFFABRRRQAUUUUAFFFFABRRRQAUUUUAFFFFABRRRQAUUUUAFFFFABRRRQAUUUUAFFFFABRRRQAUUUUAFFFFABRRRQAUUUUAFFFFABRRRQAUUUUAFFFFABRRRQAUUUUAFFFFABRRRQAUUUUAFFFFABRRRQAUUUUAFFFFABRRRQAUUUUAFFFFABRRRQAUUUUAFFFFABRRRQAUUUUAFFFFABRRRQAUUUUAFFFFABRRRQAUUUUAFFFFABRRRQBF9pi/vfpR9pi/vfpRRTAPtMX979KPtMX979KKKAD7TF/e/Sj7TF/e/SiigA+0xf3v0o+0xf3v0oooAPtMX979KPtMX979KKKAD7TF/e/Sj7TF/e/SiigA+0xf3v0o+0xf3v0oooAPtMX979KPtMX979KKKAD7TF/e/Sj7TF/e/SiigA+0xf3v0o+0xf3v0oooAPtMX979KPtMX979KKKAD7TF/e/Sj7TF/e/SiigA+0xf3v0o+0xf3v0oooAPtMX979KPtMX979KKKAD7TF/e/Sj7TF/e/SiigA+0xf3v0o+0xf3v0oooAPtMX979KPtMX979KKKAD7TF/e/Sj7TF/e/SiigA+0xf3v0o+0xf3v0oooAPtMX979KPtMX979KKKAD7TF/e/Sj7TF/e/SiigA+0xf3v0o+0xf3v0oooAPtMX979KPtMX979KKKAD7TF/e/Sj7TF/e/SiigA+0xf3v0o+0xf3v0oooAPtMX979KPtMX979KKKAD7TF/e/Sj7TF/e/SiigA+0xf3v0o+0xf3v0oooAPtMX979KPtMX979KKKAD7TF/e/Sj7TF/e/SiigA+0xf3v0o+0xf3v0oooAPtMX979KPtMX979KKKAD7TF/e/Sj7TF/e/SiigA+0xf3v0o+0xf3v0oooAPtMX979KPtMX979KKKAD7TF/e/Sj7TF/e/SiigA+0xf3v0o+0xf3v0oooAPtMX979KPtMX979KKKAD7TF/e/Sj7TF/e/SiigA+0xf3v0o+0xf3v0oooAPtMX979KPtMX979KKKAD7TF/e/Sj7TF/e/SiigA+0xf3v0o+0xf3v0oooAPtMX979KPtMX979KKKAD7TF/e/Sj7TF/e/SiigA+0xf3v0o+0xf3v0oooAPtMX979KPtMX979KKKAD7TF/e/Sj7TF/e/SiigA+0xf3v0o+0xf3v0oooAPtMX979KPtMX979KKKAD7TF/e/Sj7TF/e/SiigA+0xf3v0o+0xf3v0oooAPtMX979KPtMX979KKKAD7TF/e/Sj7TF/e/SiigA+0xf3v0o+0xf3v0oooAPtMX979KPtMX979KKKAD7TF/e/Sj7TF/e/SiigA+0xf3v0o+0xf3v0oooAPtMX979KPtMX979KKKAD7TF/e/Sj7TF/e/SiigA+0xf3v0o+0xf3v0oooAPtMX979KPtMX979KKKAD7TF/e/Sj7TF/e/SiigA+0xf3v0o+0xf3v0oooAPtMX979KPtMX979KKKAD7TF/e/Sj7TF/e/SiigA+0xf3v0o+0xf3v0oooAPtMX979KPtMX979KKKAD7TF/e/Sj7TF/e/SiigA+0xf3v0o+0xf3v0oooAPtMX979KPtMX979KKKAD7TF/e/Sj7TF/e/SiigA+0xf3v0o+0xf3v0oooAPtMX979KPtMX979KKKAD7TF/e/Sj7TF/e/SiigA+0xf3v0o+0xf3v0oooAPtMX979KPtMX979KKKAD7TF/e/SiiigD//Z)"
      ]
    },
    {
      "cell_type": "code",
      "execution_count": null,
      "metadata": {
        "id": "jfORFaucXHaW"
      },
      "outputs": [],
      "source": [
        ""
      ]
    }
  ],
  "metadata": {
    "colab": {
      "collapsed_sections": [],
      "name": "comment-score-prediction-Timonina-Maria",
      "provenance": []
    },
    "kernelspec": {
      "display_name": "Python 3",
      "language": "python",
      "name": "python3"
    },
    "language_info": {
      "codemirror_mode": {
        "name": "ipython",
        "version": 3
      },
      "file_extension": ".py",
      "mimetype": "text/x-python",
      "name": "python",
      "nbconvert_exporter": "python",
      "pygments_lexer": "ipython3",
      "version": "3.9.0"
    },
    "widgets": {
      "application/vnd.jupyter.widget-state+json": {
        "fd2795fa9d5641dcabc47b1fbc5b875b": {
          "model_module": "@jupyter-widgets/controls",
          "model_name": "HBoxModel",
          "model_module_version": "1.5.0",
          "state": {
            "_view_name": "HBoxView",
            "_dom_classes": [],
            "_model_name": "HBoxModel",
            "_view_module": "@jupyter-widgets/controls",
            "_model_module_version": "1.5.0",
            "_view_count": null,
            "_view_module_version": "1.5.0",
            "box_style": "",
            "layout": "IPY_MODEL_172aaa0aa17a4688b0b4f2fdb2f2d8db",
            "_model_module": "@jupyter-widgets/controls",
            "children": [
              "IPY_MODEL_9036f9d3c9c34abc8a51403557da23e9",
              "IPY_MODEL_1c972f7cc38140a3827d51ca57a6b695",
              "IPY_MODEL_208b5830f2e44867bc3583af1cddf2af"
            ]
          }
        },
        "172aaa0aa17a4688b0b4f2fdb2f2d8db": {
          "model_module": "@jupyter-widgets/base",
          "model_name": "LayoutModel",
          "model_module_version": "1.2.0",
          "state": {
            "_view_name": "LayoutView",
            "grid_template_rows": null,
            "right": null,
            "justify_content": null,
            "_view_module": "@jupyter-widgets/base",
            "overflow": null,
            "_model_module_version": "1.2.0",
            "_view_count": null,
            "flex_flow": null,
            "width": null,
            "min_width": null,
            "border": null,
            "align_items": null,
            "bottom": null,
            "_model_module": "@jupyter-widgets/base",
            "top": null,
            "grid_column": null,
            "overflow_y": null,
            "overflow_x": null,
            "grid_auto_flow": null,
            "grid_area": null,
            "grid_template_columns": null,
            "flex": null,
            "_model_name": "LayoutModel",
            "justify_items": null,
            "grid_row": null,
            "max_height": null,
            "align_content": null,
            "visibility": null,
            "align_self": null,
            "height": null,
            "min_height": null,
            "padding": null,
            "grid_auto_rows": null,
            "grid_gap": null,
            "max_width": null,
            "order": null,
            "_view_module_version": "1.2.0",
            "grid_template_areas": null,
            "object_position": null,
            "object_fit": null,
            "grid_auto_columns": null,
            "margin": null,
            "display": null,
            "left": null
          }
        },
        "9036f9d3c9c34abc8a51403557da23e9": {
          "model_module": "@jupyter-widgets/controls",
          "model_name": "HTMLModel",
          "model_module_version": "1.5.0",
          "state": {
            "_view_name": "HTMLView",
            "style": "IPY_MODEL_4c442e677c6d488a85f4dd7b822a4ff6",
            "_dom_classes": [],
            "description": "",
            "_model_name": "HTMLModel",
            "placeholder": "​",
            "_view_module": "@jupyter-widgets/controls",
            "_model_module_version": "1.5.0",
            "value": "Downloading: 100%",
            "_view_count": null,
            "_view_module_version": "1.5.0",
            "description_tooltip": null,
            "_model_module": "@jupyter-widgets/controls",
            "layout": "IPY_MODEL_7f3f14ba787741d797e4d75f2d7d717a"
          }
        },
        "1c972f7cc38140a3827d51ca57a6b695": {
          "model_module": "@jupyter-widgets/controls",
          "model_name": "FloatProgressModel",
          "model_module_version": "1.5.0",
          "state": {
            "_view_name": "ProgressView",
            "style": "IPY_MODEL_d61d581f5a33452fba090e41f6371b47",
            "_dom_classes": [],
            "description": "",
            "_model_name": "FloatProgressModel",
            "bar_style": "success",
            "max": 28,
            "_view_module": "@jupyter-widgets/controls",
            "_model_module_version": "1.5.0",
            "value": 28,
            "_view_count": null,
            "_view_module_version": "1.5.0",
            "orientation": "horizontal",
            "min": 0,
            "description_tooltip": null,
            "_model_module": "@jupyter-widgets/controls",
            "layout": "IPY_MODEL_f109ffb347224b2893cb78de6c7f1aa2"
          }
        },
        "208b5830f2e44867bc3583af1cddf2af": {
          "model_module": "@jupyter-widgets/controls",
          "model_name": "HTMLModel",
          "model_module_version": "1.5.0",
          "state": {
            "_view_name": "HTMLView",
            "style": "IPY_MODEL_5546c7736cb344fcae735b2d90c2cf2a",
            "_dom_classes": [],
            "description": "",
            "_model_name": "HTMLModel",
            "placeholder": "​",
            "_view_module": "@jupyter-widgets/controls",
            "_model_module_version": "1.5.0",
            "value": " 28.0/28.0 [00:00&lt;00:00, 593B/s]",
            "_view_count": null,
            "_view_module_version": "1.5.0",
            "description_tooltip": null,
            "_model_module": "@jupyter-widgets/controls",
            "layout": "IPY_MODEL_ede819cf59f541ea80a1551eb7a273e5"
          }
        },
        "4c442e677c6d488a85f4dd7b822a4ff6": {
          "model_module": "@jupyter-widgets/controls",
          "model_name": "DescriptionStyleModel",
          "model_module_version": "1.5.0",
          "state": {
            "_view_name": "StyleView",
            "_model_name": "DescriptionStyleModel",
            "description_width": "",
            "_view_module": "@jupyter-widgets/base",
            "_model_module_version": "1.5.0",
            "_view_count": null,
            "_view_module_version": "1.2.0",
            "_model_module": "@jupyter-widgets/controls"
          }
        },
        "7f3f14ba787741d797e4d75f2d7d717a": {
          "model_module": "@jupyter-widgets/base",
          "model_name": "LayoutModel",
          "model_module_version": "1.2.0",
          "state": {
            "_view_name": "LayoutView",
            "grid_template_rows": null,
            "right": null,
            "justify_content": null,
            "_view_module": "@jupyter-widgets/base",
            "overflow": null,
            "_model_module_version": "1.2.0",
            "_view_count": null,
            "flex_flow": null,
            "width": null,
            "min_width": null,
            "border": null,
            "align_items": null,
            "bottom": null,
            "_model_module": "@jupyter-widgets/base",
            "top": null,
            "grid_column": null,
            "overflow_y": null,
            "overflow_x": null,
            "grid_auto_flow": null,
            "grid_area": null,
            "grid_template_columns": null,
            "flex": null,
            "_model_name": "LayoutModel",
            "justify_items": null,
            "grid_row": null,
            "max_height": null,
            "align_content": null,
            "visibility": null,
            "align_self": null,
            "height": null,
            "min_height": null,
            "padding": null,
            "grid_auto_rows": null,
            "grid_gap": null,
            "max_width": null,
            "order": null,
            "_view_module_version": "1.2.0",
            "grid_template_areas": null,
            "object_position": null,
            "object_fit": null,
            "grid_auto_columns": null,
            "margin": null,
            "display": null,
            "left": null
          }
        },
        "d61d581f5a33452fba090e41f6371b47": {
          "model_module": "@jupyter-widgets/controls",
          "model_name": "ProgressStyleModel",
          "model_module_version": "1.5.0",
          "state": {
            "_view_name": "StyleView",
            "_model_name": "ProgressStyleModel",
            "description_width": "",
            "_view_module": "@jupyter-widgets/base",
            "_model_module_version": "1.5.0",
            "_view_count": null,
            "_view_module_version": "1.2.0",
            "bar_color": null,
            "_model_module": "@jupyter-widgets/controls"
          }
        },
        "f109ffb347224b2893cb78de6c7f1aa2": {
          "model_module": "@jupyter-widgets/base",
          "model_name": "LayoutModel",
          "model_module_version": "1.2.0",
          "state": {
            "_view_name": "LayoutView",
            "grid_template_rows": null,
            "right": null,
            "justify_content": null,
            "_view_module": "@jupyter-widgets/base",
            "overflow": null,
            "_model_module_version": "1.2.0",
            "_view_count": null,
            "flex_flow": null,
            "width": null,
            "min_width": null,
            "border": null,
            "align_items": null,
            "bottom": null,
            "_model_module": "@jupyter-widgets/base",
            "top": null,
            "grid_column": null,
            "overflow_y": null,
            "overflow_x": null,
            "grid_auto_flow": null,
            "grid_area": null,
            "grid_template_columns": null,
            "flex": null,
            "_model_name": "LayoutModel",
            "justify_items": null,
            "grid_row": null,
            "max_height": null,
            "align_content": null,
            "visibility": null,
            "align_self": null,
            "height": null,
            "min_height": null,
            "padding": null,
            "grid_auto_rows": null,
            "grid_gap": null,
            "max_width": null,
            "order": null,
            "_view_module_version": "1.2.0",
            "grid_template_areas": null,
            "object_position": null,
            "object_fit": null,
            "grid_auto_columns": null,
            "margin": null,
            "display": null,
            "left": null
          }
        },
        "5546c7736cb344fcae735b2d90c2cf2a": {
          "model_module": "@jupyter-widgets/controls",
          "model_name": "DescriptionStyleModel",
          "model_module_version": "1.5.0",
          "state": {
            "_view_name": "StyleView",
            "_model_name": "DescriptionStyleModel",
            "description_width": "",
            "_view_module": "@jupyter-widgets/base",
            "_model_module_version": "1.5.0",
            "_view_count": null,
            "_view_module_version": "1.2.0",
            "_model_module": "@jupyter-widgets/controls"
          }
        },
        "ede819cf59f541ea80a1551eb7a273e5": {
          "model_module": "@jupyter-widgets/base",
          "model_name": "LayoutModel",
          "model_module_version": "1.2.0",
          "state": {
            "_view_name": "LayoutView",
            "grid_template_rows": null,
            "right": null,
            "justify_content": null,
            "_view_module": "@jupyter-widgets/base",
            "overflow": null,
            "_model_module_version": "1.2.0",
            "_view_count": null,
            "flex_flow": null,
            "width": null,
            "min_width": null,
            "border": null,
            "align_items": null,
            "bottom": null,
            "_model_module": "@jupyter-widgets/base",
            "top": null,
            "grid_column": null,
            "overflow_y": null,
            "overflow_x": null,
            "grid_auto_flow": null,
            "grid_area": null,
            "grid_template_columns": null,
            "flex": null,
            "_model_name": "LayoutModel",
            "justify_items": null,
            "grid_row": null,
            "max_height": null,
            "align_content": null,
            "visibility": null,
            "align_self": null,
            "height": null,
            "min_height": null,
            "padding": null,
            "grid_auto_rows": null,
            "grid_gap": null,
            "max_width": null,
            "order": null,
            "_view_module_version": "1.2.0",
            "grid_template_areas": null,
            "object_position": null,
            "object_fit": null,
            "grid_auto_columns": null,
            "margin": null,
            "display": null,
            "left": null
          }
        },
        "7b10dab2e0cd40b2b7af13391f7e5e01": {
          "model_module": "@jupyter-widgets/controls",
          "model_name": "HBoxModel",
          "model_module_version": "1.5.0",
          "state": {
            "_view_name": "HBoxView",
            "_dom_classes": [],
            "_model_name": "HBoxModel",
            "_view_module": "@jupyter-widgets/controls",
            "_model_module_version": "1.5.0",
            "_view_count": null,
            "_view_module_version": "1.5.0",
            "box_style": "",
            "layout": "IPY_MODEL_49c677eb43664407b41560515c66dfb8",
            "_model_module": "@jupyter-widgets/controls",
            "children": [
              "IPY_MODEL_08455f981d1e414ab60351161e1c3f04",
              "IPY_MODEL_b2fd7f3f7ad8408ca9234e8ac1f800f0",
              "IPY_MODEL_364f9b715c0b46c4a5f035d220f20816"
            ]
          }
        },
        "49c677eb43664407b41560515c66dfb8": {
          "model_module": "@jupyter-widgets/base",
          "model_name": "LayoutModel",
          "model_module_version": "1.2.0",
          "state": {
            "_view_name": "LayoutView",
            "grid_template_rows": null,
            "right": null,
            "justify_content": null,
            "_view_module": "@jupyter-widgets/base",
            "overflow": null,
            "_model_module_version": "1.2.0",
            "_view_count": null,
            "flex_flow": null,
            "width": null,
            "min_width": null,
            "border": null,
            "align_items": null,
            "bottom": null,
            "_model_module": "@jupyter-widgets/base",
            "top": null,
            "grid_column": null,
            "overflow_y": null,
            "overflow_x": null,
            "grid_auto_flow": null,
            "grid_area": null,
            "grid_template_columns": null,
            "flex": null,
            "_model_name": "LayoutModel",
            "justify_items": null,
            "grid_row": null,
            "max_height": null,
            "align_content": null,
            "visibility": null,
            "align_self": null,
            "height": null,
            "min_height": null,
            "padding": null,
            "grid_auto_rows": null,
            "grid_gap": null,
            "max_width": null,
            "order": null,
            "_view_module_version": "1.2.0",
            "grid_template_areas": null,
            "object_position": null,
            "object_fit": null,
            "grid_auto_columns": null,
            "margin": null,
            "display": null,
            "left": null
          }
        },
        "08455f981d1e414ab60351161e1c3f04": {
          "model_module": "@jupyter-widgets/controls",
          "model_name": "HTMLModel",
          "model_module_version": "1.5.0",
          "state": {
            "_view_name": "HTMLView",
            "style": "IPY_MODEL_8c2f260db39a48028d84cd22b87e8f38",
            "_dom_classes": [],
            "description": "",
            "_model_name": "HTMLModel",
            "placeholder": "​",
            "_view_module": "@jupyter-widgets/controls",
            "_model_module_version": "1.5.0",
            "value": "Downloading: 100%",
            "_view_count": null,
            "_view_module_version": "1.5.0",
            "description_tooltip": null,
            "_model_module": "@jupyter-widgets/controls",
            "layout": "IPY_MODEL_7c7d0455dce045d591fa49fd7673e227"
          }
        },
        "b2fd7f3f7ad8408ca9234e8ac1f800f0": {
          "model_module": "@jupyter-widgets/controls",
          "model_name": "FloatProgressModel",
          "model_module_version": "1.5.0",
          "state": {
            "_view_name": "ProgressView",
            "style": "IPY_MODEL_5662a3bebab844e8a0d538adc832ddc4",
            "_dom_classes": [],
            "description": "",
            "_model_name": "FloatProgressModel",
            "bar_style": "success",
            "max": 483,
            "_view_module": "@jupyter-widgets/controls",
            "_model_module_version": "1.5.0",
            "value": 483,
            "_view_count": null,
            "_view_module_version": "1.5.0",
            "orientation": "horizontal",
            "min": 0,
            "description_tooltip": null,
            "_model_module": "@jupyter-widgets/controls",
            "layout": "IPY_MODEL_d2ab782fda94424281fa7fb902311d37"
          }
        },
        "364f9b715c0b46c4a5f035d220f20816": {
          "model_module": "@jupyter-widgets/controls",
          "model_name": "HTMLModel",
          "model_module_version": "1.5.0",
          "state": {
            "_view_name": "HTMLView",
            "style": "IPY_MODEL_50e82b192a6d4c05a4accc25eb62ceba",
            "_dom_classes": [],
            "description": "",
            "_model_name": "HTMLModel",
            "placeholder": "​",
            "_view_module": "@jupyter-widgets/controls",
            "_model_module_version": "1.5.0",
            "value": " 483/483 [00:00&lt;00:00, 11.0kB/s]",
            "_view_count": null,
            "_view_module_version": "1.5.0",
            "description_tooltip": null,
            "_model_module": "@jupyter-widgets/controls",
            "layout": "IPY_MODEL_8e9d56ba92494a3d8d44ded06f206318"
          }
        },
        "8c2f260db39a48028d84cd22b87e8f38": {
          "model_module": "@jupyter-widgets/controls",
          "model_name": "DescriptionStyleModel",
          "model_module_version": "1.5.0",
          "state": {
            "_view_name": "StyleView",
            "_model_name": "DescriptionStyleModel",
            "description_width": "",
            "_view_module": "@jupyter-widgets/base",
            "_model_module_version": "1.5.0",
            "_view_count": null,
            "_view_module_version": "1.2.0",
            "_model_module": "@jupyter-widgets/controls"
          }
        },
        "7c7d0455dce045d591fa49fd7673e227": {
          "model_module": "@jupyter-widgets/base",
          "model_name": "LayoutModel",
          "model_module_version": "1.2.0",
          "state": {
            "_view_name": "LayoutView",
            "grid_template_rows": null,
            "right": null,
            "justify_content": null,
            "_view_module": "@jupyter-widgets/base",
            "overflow": null,
            "_model_module_version": "1.2.0",
            "_view_count": null,
            "flex_flow": null,
            "width": null,
            "min_width": null,
            "border": null,
            "align_items": null,
            "bottom": null,
            "_model_module": "@jupyter-widgets/base",
            "top": null,
            "grid_column": null,
            "overflow_y": null,
            "overflow_x": null,
            "grid_auto_flow": null,
            "grid_area": null,
            "grid_template_columns": null,
            "flex": null,
            "_model_name": "LayoutModel",
            "justify_items": null,
            "grid_row": null,
            "max_height": null,
            "align_content": null,
            "visibility": null,
            "align_self": null,
            "height": null,
            "min_height": null,
            "padding": null,
            "grid_auto_rows": null,
            "grid_gap": null,
            "max_width": null,
            "order": null,
            "_view_module_version": "1.2.0",
            "grid_template_areas": null,
            "object_position": null,
            "object_fit": null,
            "grid_auto_columns": null,
            "margin": null,
            "display": null,
            "left": null
          }
        },
        "5662a3bebab844e8a0d538adc832ddc4": {
          "model_module": "@jupyter-widgets/controls",
          "model_name": "ProgressStyleModel",
          "model_module_version": "1.5.0",
          "state": {
            "_view_name": "StyleView",
            "_model_name": "ProgressStyleModel",
            "description_width": "",
            "_view_module": "@jupyter-widgets/base",
            "_model_module_version": "1.5.0",
            "_view_count": null,
            "_view_module_version": "1.2.0",
            "bar_color": null,
            "_model_module": "@jupyter-widgets/controls"
          }
        },
        "d2ab782fda94424281fa7fb902311d37": {
          "model_module": "@jupyter-widgets/base",
          "model_name": "LayoutModel",
          "model_module_version": "1.2.0",
          "state": {
            "_view_name": "LayoutView",
            "grid_template_rows": null,
            "right": null,
            "justify_content": null,
            "_view_module": "@jupyter-widgets/base",
            "overflow": null,
            "_model_module_version": "1.2.0",
            "_view_count": null,
            "flex_flow": null,
            "width": null,
            "min_width": null,
            "border": null,
            "align_items": null,
            "bottom": null,
            "_model_module": "@jupyter-widgets/base",
            "top": null,
            "grid_column": null,
            "overflow_y": null,
            "overflow_x": null,
            "grid_auto_flow": null,
            "grid_area": null,
            "grid_template_columns": null,
            "flex": null,
            "_model_name": "LayoutModel",
            "justify_items": null,
            "grid_row": null,
            "max_height": null,
            "align_content": null,
            "visibility": null,
            "align_self": null,
            "height": null,
            "min_height": null,
            "padding": null,
            "grid_auto_rows": null,
            "grid_gap": null,
            "max_width": null,
            "order": null,
            "_view_module_version": "1.2.0",
            "grid_template_areas": null,
            "object_position": null,
            "object_fit": null,
            "grid_auto_columns": null,
            "margin": null,
            "display": null,
            "left": null
          }
        },
        "50e82b192a6d4c05a4accc25eb62ceba": {
          "model_module": "@jupyter-widgets/controls",
          "model_name": "DescriptionStyleModel",
          "model_module_version": "1.5.0",
          "state": {
            "_view_name": "StyleView",
            "_model_name": "DescriptionStyleModel",
            "description_width": "",
            "_view_module": "@jupyter-widgets/base",
            "_model_module_version": "1.5.0",
            "_view_count": null,
            "_view_module_version": "1.2.0",
            "_model_module": "@jupyter-widgets/controls"
          }
        },
        "8e9d56ba92494a3d8d44ded06f206318": {
          "model_module": "@jupyter-widgets/base",
          "model_name": "LayoutModel",
          "model_module_version": "1.2.0",
          "state": {
            "_view_name": "LayoutView",
            "grid_template_rows": null,
            "right": null,
            "justify_content": null,
            "_view_module": "@jupyter-widgets/base",
            "overflow": null,
            "_model_module_version": "1.2.0",
            "_view_count": null,
            "flex_flow": null,
            "width": null,
            "min_width": null,
            "border": null,
            "align_items": null,
            "bottom": null,
            "_model_module": "@jupyter-widgets/base",
            "top": null,
            "grid_column": null,
            "overflow_y": null,
            "overflow_x": null,
            "grid_auto_flow": null,
            "grid_area": null,
            "grid_template_columns": null,
            "flex": null,
            "_model_name": "LayoutModel",
            "justify_items": null,
            "grid_row": null,
            "max_height": null,
            "align_content": null,
            "visibility": null,
            "align_self": null,
            "height": null,
            "min_height": null,
            "padding": null,
            "grid_auto_rows": null,
            "grid_gap": null,
            "max_width": null,
            "order": null,
            "_view_module_version": "1.2.0",
            "grid_template_areas": null,
            "object_position": null,
            "object_fit": null,
            "grid_auto_columns": null,
            "margin": null,
            "display": null,
            "left": null
          }
        },
        "3d7a21b1d4ab4403ae33ae199cd54a1f": {
          "model_module": "@jupyter-widgets/controls",
          "model_name": "HBoxModel",
          "model_module_version": "1.5.0",
          "state": {
            "_view_name": "HBoxView",
            "_dom_classes": [],
            "_model_name": "HBoxModel",
            "_view_module": "@jupyter-widgets/controls",
            "_model_module_version": "1.5.0",
            "_view_count": null,
            "_view_module_version": "1.5.0",
            "box_style": "",
            "layout": "IPY_MODEL_d7d4f69fcfa945b1803ee22126331cc7",
            "_model_module": "@jupyter-widgets/controls",
            "children": [
              "IPY_MODEL_1f659000de404276a0b6693e7b295764",
              "IPY_MODEL_1b16d24a9a654b23b61c6b578bb6b0a8",
              "IPY_MODEL_e4081b6ab4dc4ca9be0028acaddf0d87"
            ]
          }
        },
        "d7d4f69fcfa945b1803ee22126331cc7": {
          "model_module": "@jupyter-widgets/base",
          "model_name": "LayoutModel",
          "model_module_version": "1.2.0",
          "state": {
            "_view_name": "LayoutView",
            "grid_template_rows": null,
            "right": null,
            "justify_content": null,
            "_view_module": "@jupyter-widgets/base",
            "overflow": null,
            "_model_module_version": "1.2.0",
            "_view_count": null,
            "flex_flow": null,
            "width": null,
            "min_width": null,
            "border": null,
            "align_items": null,
            "bottom": null,
            "_model_module": "@jupyter-widgets/base",
            "top": null,
            "grid_column": null,
            "overflow_y": null,
            "overflow_x": null,
            "grid_auto_flow": null,
            "grid_area": null,
            "grid_template_columns": null,
            "flex": null,
            "_model_name": "LayoutModel",
            "justify_items": null,
            "grid_row": null,
            "max_height": null,
            "align_content": null,
            "visibility": null,
            "align_self": null,
            "height": null,
            "min_height": null,
            "padding": null,
            "grid_auto_rows": null,
            "grid_gap": null,
            "max_width": null,
            "order": null,
            "_view_module_version": "1.2.0",
            "grid_template_areas": null,
            "object_position": null,
            "object_fit": null,
            "grid_auto_columns": null,
            "margin": null,
            "display": null,
            "left": null
          }
        },
        "1f659000de404276a0b6693e7b295764": {
          "model_module": "@jupyter-widgets/controls",
          "model_name": "HTMLModel",
          "model_module_version": "1.5.0",
          "state": {
            "_view_name": "HTMLView",
            "style": "IPY_MODEL_75f6a388a55d4de9964a1a9d908f313f",
            "_dom_classes": [],
            "description": "",
            "_model_name": "HTMLModel",
            "placeholder": "​",
            "_view_module": "@jupyter-widgets/controls",
            "_model_module_version": "1.5.0",
            "value": "Downloading: 100%",
            "_view_count": null,
            "_view_module_version": "1.5.0",
            "description_tooltip": null,
            "_model_module": "@jupyter-widgets/controls",
            "layout": "IPY_MODEL_5e9b53e75cd24c6a8e500389097c0a01"
          }
        },
        "1b16d24a9a654b23b61c6b578bb6b0a8": {
          "model_module": "@jupyter-widgets/controls",
          "model_name": "FloatProgressModel",
          "model_module_version": "1.5.0",
          "state": {
            "_view_name": "ProgressView",
            "style": "IPY_MODEL_849ae226c341469f903c99afbbb42d18",
            "_dom_classes": [],
            "description": "",
            "_model_name": "FloatProgressModel",
            "bar_style": "success",
            "max": 231508,
            "_view_module": "@jupyter-widgets/controls",
            "_model_module_version": "1.5.0",
            "value": 231508,
            "_view_count": null,
            "_view_module_version": "1.5.0",
            "orientation": "horizontal",
            "min": 0,
            "description_tooltip": null,
            "_model_module": "@jupyter-widgets/controls",
            "layout": "IPY_MODEL_9b7af706c9584673b64d5ed27ea01afe"
          }
        },
        "e4081b6ab4dc4ca9be0028acaddf0d87": {
          "model_module": "@jupyter-widgets/controls",
          "model_name": "HTMLModel",
          "model_module_version": "1.5.0",
          "state": {
            "_view_name": "HTMLView",
            "style": "IPY_MODEL_fb82599ae0114d9589e37017943f7b91",
            "_dom_classes": [],
            "description": "",
            "_model_name": "HTMLModel",
            "placeholder": "​",
            "_view_module": "@jupyter-widgets/controls",
            "_model_module_version": "1.5.0",
            "value": " 226k/226k [00:00&lt;00:00, 1.12MB/s]",
            "_view_count": null,
            "_view_module_version": "1.5.0",
            "description_tooltip": null,
            "_model_module": "@jupyter-widgets/controls",
            "layout": "IPY_MODEL_165fb323c1d54a77aa9773a29be8e482"
          }
        },
        "75f6a388a55d4de9964a1a9d908f313f": {
          "model_module": "@jupyter-widgets/controls",
          "model_name": "DescriptionStyleModel",
          "model_module_version": "1.5.0",
          "state": {
            "_view_name": "StyleView",
            "_model_name": "DescriptionStyleModel",
            "description_width": "",
            "_view_module": "@jupyter-widgets/base",
            "_model_module_version": "1.5.0",
            "_view_count": null,
            "_view_module_version": "1.2.0",
            "_model_module": "@jupyter-widgets/controls"
          }
        },
        "5e9b53e75cd24c6a8e500389097c0a01": {
          "model_module": "@jupyter-widgets/base",
          "model_name": "LayoutModel",
          "model_module_version": "1.2.0",
          "state": {
            "_view_name": "LayoutView",
            "grid_template_rows": null,
            "right": null,
            "justify_content": null,
            "_view_module": "@jupyter-widgets/base",
            "overflow": null,
            "_model_module_version": "1.2.0",
            "_view_count": null,
            "flex_flow": null,
            "width": null,
            "min_width": null,
            "border": null,
            "align_items": null,
            "bottom": null,
            "_model_module": "@jupyter-widgets/base",
            "top": null,
            "grid_column": null,
            "overflow_y": null,
            "overflow_x": null,
            "grid_auto_flow": null,
            "grid_area": null,
            "grid_template_columns": null,
            "flex": null,
            "_model_name": "LayoutModel",
            "justify_items": null,
            "grid_row": null,
            "max_height": null,
            "align_content": null,
            "visibility": null,
            "align_self": null,
            "height": null,
            "min_height": null,
            "padding": null,
            "grid_auto_rows": null,
            "grid_gap": null,
            "max_width": null,
            "order": null,
            "_view_module_version": "1.2.0",
            "grid_template_areas": null,
            "object_position": null,
            "object_fit": null,
            "grid_auto_columns": null,
            "margin": null,
            "display": null,
            "left": null
          }
        },
        "849ae226c341469f903c99afbbb42d18": {
          "model_module": "@jupyter-widgets/controls",
          "model_name": "ProgressStyleModel",
          "model_module_version": "1.5.0",
          "state": {
            "_view_name": "StyleView",
            "_model_name": "ProgressStyleModel",
            "description_width": "",
            "_view_module": "@jupyter-widgets/base",
            "_model_module_version": "1.5.0",
            "_view_count": null,
            "_view_module_version": "1.2.0",
            "bar_color": null,
            "_model_module": "@jupyter-widgets/controls"
          }
        },
        "9b7af706c9584673b64d5ed27ea01afe": {
          "model_module": "@jupyter-widgets/base",
          "model_name": "LayoutModel",
          "model_module_version": "1.2.0",
          "state": {
            "_view_name": "LayoutView",
            "grid_template_rows": null,
            "right": null,
            "justify_content": null,
            "_view_module": "@jupyter-widgets/base",
            "overflow": null,
            "_model_module_version": "1.2.0",
            "_view_count": null,
            "flex_flow": null,
            "width": null,
            "min_width": null,
            "border": null,
            "align_items": null,
            "bottom": null,
            "_model_module": "@jupyter-widgets/base",
            "top": null,
            "grid_column": null,
            "overflow_y": null,
            "overflow_x": null,
            "grid_auto_flow": null,
            "grid_area": null,
            "grid_template_columns": null,
            "flex": null,
            "_model_name": "LayoutModel",
            "justify_items": null,
            "grid_row": null,
            "max_height": null,
            "align_content": null,
            "visibility": null,
            "align_self": null,
            "height": null,
            "min_height": null,
            "padding": null,
            "grid_auto_rows": null,
            "grid_gap": null,
            "max_width": null,
            "order": null,
            "_view_module_version": "1.2.0",
            "grid_template_areas": null,
            "object_position": null,
            "object_fit": null,
            "grid_auto_columns": null,
            "margin": null,
            "display": null,
            "left": null
          }
        },
        "fb82599ae0114d9589e37017943f7b91": {
          "model_module": "@jupyter-widgets/controls",
          "model_name": "DescriptionStyleModel",
          "model_module_version": "1.5.0",
          "state": {
            "_view_name": "StyleView",
            "_model_name": "DescriptionStyleModel",
            "description_width": "",
            "_view_module": "@jupyter-widgets/base",
            "_model_module_version": "1.5.0",
            "_view_count": null,
            "_view_module_version": "1.2.0",
            "_model_module": "@jupyter-widgets/controls"
          }
        },
        "165fb323c1d54a77aa9773a29be8e482": {
          "model_module": "@jupyter-widgets/base",
          "model_name": "LayoutModel",
          "model_module_version": "1.2.0",
          "state": {
            "_view_name": "LayoutView",
            "grid_template_rows": null,
            "right": null,
            "justify_content": null,
            "_view_module": "@jupyter-widgets/base",
            "overflow": null,
            "_model_module_version": "1.2.0",
            "_view_count": null,
            "flex_flow": null,
            "width": null,
            "min_width": null,
            "border": null,
            "align_items": null,
            "bottom": null,
            "_model_module": "@jupyter-widgets/base",
            "top": null,
            "grid_column": null,
            "overflow_y": null,
            "overflow_x": null,
            "grid_auto_flow": null,
            "grid_area": null,
            "grid_template_columns": null,
            "flex": null,
            "_model_name": "LayoutModel",
            "justify_items": null,
            "grid_row": null,
            "max_height": null,
            "align_content": null,
            "visibility": null,
            "align_self": null,
            "height": null,
            "min_height": null,
            "padding": null,
            "grid_auto_rows": null,
            "grid_gap": null,
            "max_width": null,
            "order": null,
            "_view_module_version": "1.2.0",
            "grid_template_areas": null,
            "object_position": null,
            "object_fit": null,
            "grid_auto_columns": null,
            "margin": null,
            "display": null,
            "left": null
          }
        },
        "99126bf3ade246e98e75abb0cce3c222": {
          "model_module": "@jupyter-widgets/controls",
          "model_name": "HBoxModel",
          "model_module_version": "1.5.0",
          "state": {
            "_view_name": "HBoxView",
            "_dom_classes": [],
            "_model_name": "HBoxModel",
            "_view_module": "@jupyter-widgets/controls",
            "_model_module_version": "1.5.0",
            "_view_count": null,
            "_view_module_version": "1.5.0",
            "box_style": "",
            "layout": "IPY_MODEL_1c12e709e97a4b0995910e5ae2ace300",
            "_model_module": "@jupyter-widgets/controls",
            "children": [
              "IPY_MODEL_ae1ced527c334596a058b81b49639e10",
              "IPY_MODEL_145bd6e854b7446a8454104e814d9de7",
              "IPY_MODEL_9ca37c33b948440296d26984afb586bc"
            ]
          }
        },
        "1c12e709e97a4b0995910e5ae2ace300": {
          "model_module": "@jupyter-widgets/base",
          "model_name": "LayoutModel",
          "model_module_version": "1.2.0",
          "state": {
            "_view_name": "LayoutView",
            "grid_template_rows": null,
            "right": null,
            "justify_content": null,
            "_view_module": "@jupyter-widgets/base",
            "overflow": null,
            "_model_module_version": "1.2.0",
            "_view_count": null,
            "flex_flow": null,
            "width": null,
            "min_width": null,
            "border": null,
            "align_items": null,
            "bottom": null,
            "_model_module": "@jupyter-widgets/base",
            "top": null,
            "grid_column": null,
            "overflow_y": null,
            "overflow_x": null,
            "grid_auto_flow": null,
            "grid_area": null,
            "grid_template_columns": null,
            "flex": null,
            "_model_name": "LayoutModel",
            "justify_items": null,
            "grid_row": null,
            "max_height": null,
            "align_content": null,
            "visibility": null,
            "align_self": null,
            "height": null,
            "min_height": null,
            "padding": null,
            "grid_auto_rows": null,
            "grid_gap": null,
            "max_width": null,
            "order": null,
            "_view_module_version": "1.2.0",
            "grid_template_areas": null,
            "object_position": null,
            "object_fit": null,
            "grid_auto_columns": null,
            "margin": null,
            "display": null,
            "left": null
          }
        },
        "ae1ced527c334596a058b81b49639e10": {
          "model_module": "@jupyter-widgets/controls",
          "model_name": "HTMLModel",
          "model_module_version": "1.5.0",
          "state": {
            "_view_name": "HTMLView",
            "style": "IPY_MODEL_941dcdd63f6a4cbfb8ac1b4ce45ac8b9",
            "_dom_classes": [],
            "description": "",
            "_model_name": "HTMLModel",
            "placeholder": "​",
            "_view_module": "@jupyter-widgets/controls",
            "_model_module_version": "1.5.0",
            "value": "Downloading: 100%",
            "_view_count": null,
            "_view_module_version": "1.5.0",
            "description_tooltip": null,
            "_model_module": "@jupyter-widgets/controls",
            "layout": "IPY_MODEL_07f549448dc14945b474be046c57a158"
          }
        },
        "145bd6e854b7446a8454104e814d9de7": {
          "model_module": "@jupyter-widgets/controls",
          "model_name": "FloatProgressModel",
          "model_module_version": "1.5.0",
          "state": {
            "_view_name": "ProgressView",
            "style": "IPY_MODEL_61f7bc6071054f1484c8c472e96c7b3e",
            "_dom_classes": [],
            "description": "",
            "_model_name": "FloatProgressModel",
            "bar_style": "success",
            "max": 466062,
            "_view_module": "@jupyter-widgets/controls",
            "_model_module_version": "1.5.0",
            "value": 466062,
            "_view_count": null,
            "_view_module_version": "1.5.0",
            "orientation": "horizontal",
            "min": 0,
            "description_tooltip": null,
            "_model_module": "@jupyter-widgets/controls",
            "layout": "IPY_MODEL_13ad886c2e4d412992fc3070d193db0b"
          }
        },
        "9ca37c33b948440296d26984afb586bc": {
          "model_module": "@jupyter-widgets/controls",
          "model_name": "HTMLModel",
          "model_module_version": "1.5.0",
          "state": {
            "_view_name": "HTMLView",
            "style": "IPY_MODEL_6a01994a165243f68f17f40378c40db1",
            "_dom_classes": [],
            "description": "",
            "_model_name": "HTMLModel",
            "placeholder": "​",
            "_view_module": "@jupyter-widgets/controls",
            "_model_module_version": "1.5.0",
            "value": " 455k/455k [00:00&lt;00:00, 1.57MB/s]",
            "_view_count": null,
            "_view_module_version": "1.5.0",
            "description_tooltip": null,
            "_model_module": "@jupyter-widgets/controls",
            "layout": "IPY_MODEL_71395023bc7e47bcb6312fd7ca05f397"
          }
        },
        "941dcdd63f6a4cbfb8ac1b4ce45ac8b9": {
          "model_module": "@jupyter-widgets/controls",
          "model_name": "DescriptionStyleModel",
          "model_module_version": "1.5.0",
          "state": {
            "_view_name": "StyleView",
            "_model_name": "DescriptionStyleModel",
            "description_width": "",
            "_view_module": "@jupyter-widgets/base",
            "_model_module_version": "1.5.0",
            "_view_count": null,
            "_view_module_version": "1.2.0",
            "_model_module": "@jupyter-widgets/controls"
          }
        },
        "07f549448dc14945b474be046c57a158": {
          "model_module": "@jupyter-widgets/base",
          "model_name": "LayoutModel",
          "model_module_version": "1.2.0",
          "state": {
            "_view_name": "LayoutView",
            "grid_template_rows": null,
            "right": null,
            "justify_content": null,
            "_view_module": "@jupyter-widgets/base",
            "overflow": null,
            "_model_module_version": "1.2.0",
            "_view_count": null,
            "flex_flow": null,
            "width": null,
            "min_width": null,
            "border": null,
            "align_items": null,
            "bottom": null,
            "_model_module": "@jupyter-widgets/base",
            "top": null,
            "grid_column": null,
            "overflow_y": null,
            "overflow_x": null,
            "grid_auto_flow": null,
            "grid_area": null,
            "grid_template_columns": null,
            "flex": null,
            "_model_name": "LayoutModel",
            "justify_items": null,
            "grid_row": null,
            "max_height": null,
            "align_content": null,
            "visibility": null,
            "align_self": null,
            "height": null,
            "min_height": null,
            "padding": null,
            "grid_auto_rows": null,
            "grid_gap": null,
            "max_width": null,
            "order": null,
            "_view_module_version": "1.2.0",
            "grid_template_areas": null,
            "object_position": null,
            "object_fit": null,
            "grid_auto_columns": null,
            "margin": null,
            "display": null,
            "left": null
          }
        },
        "61f7bc6071054f1484c8c472e96c7b3e": {
          "model_module": "@jupyter-widgets/controls",
          "model_name": "ProgressStyleModel",
          "model_module_version": "1.5.0",
          "state": {
            "_view_name": "StyleView",
            "_model_name": "ProgressStyleModel",
            "description_width": "",
            "_view_module": "@jupyter-widgets/base",
            "_model_module_version": "1.5.0",
            "_view_count": null,
            "_view_module_version": "1.2.0",
            "bar_color": null,
            "_model_module": "@jupyter-widgets/controls"
          }
        },
        "13ad886c2e4d412992fc3070d193db0b": {
          "model_module": "@jupyter-widgets/base",
          "model_name": "LayoutModel",
          "model_module_version": "1.2.0",
          "state": {
            "_view_name": "LayoutView",
            "grid_template_rows": null,
            "right": null,
            "justify_content": null,
            "_view_module": "@jupyter-widgets/base",
            "overflow": null,
            "_model_module_version": "1.2.0",
            "_view_count": null,
            "flex_flow": null,
            "width": null,
            "min_width": null,
            "border": null,
            "align_items": null,
            "bottom": null,
            "_model_module": "@jupyter-widgets/base",
            "top": null,
            "grid_column": null,
            "overflow_y": null,
            "overflow_x": null,
            "grid_auto_flow": null,
            "grid_area": null,
            "grid_template_columns": null,
            "flex": null,
            "_model_name": "LayoutModel",
            "justify_items": null,
            "grid_row": null,
            "max_height": null,
            "align_content": null,
            "visibility": null,
            "align_self": null,
            "height": null,
            "min_height": null,
            "padding": null,
            "grid_auto_rows": null,
            "grid_gap": null,
            "max_width": null,
            "order": null,
            "_view_module_version": "1.2.0",
            "grid_template_areas": null,
            "object_position": null,
            "object_fit": null,
            "grid_auto_columns": null,
            "margin": null,
            "display": null,
            "left": null
          }
        },
        "6a01994a165243f68f17f40378c40db1": {
          "model_module": "@jupyter-widgets/controls",
          "model_name": "DescriptionStyleModel",
          "model_module_version": "1.5.0",
          "state": {
            "_view_name": "StyleView",
            "_model_name": "DescriptionStyleModel",
            "description_width": "",
            "_view_module": "@jupyter-widgets/base",
            "_model_module_version": "1.5.0",
            "_view_count": null,
            "_view_module_version": "1.2.0",
            "_model_module": "@jupyter-widgets/controls"
          }
        },
        "71395023bc7e47bcb6312fd7ca05f397": {
          "model_module": "@jupyter-widgets/base",
          "model_name": "LayoutModel",
          "model_module_version": "1.2.0",
          "state": {
            "_view_name": "LayoutView",
            "grid_template_rows": null,
            "right": null,
            "justify_content": null,
            "_view_module": "@jupyter-widgets/base",
            "overflow": null,
            "_model_module_version": "1.2.0",
            "_view_count": null,
            "flex_flow": null,
            "width": null,
            "min_width": null,
            "border": null,
            "align_items": null,
            "bottom": null,
            "_model_module": "@jupyter-widgets/base",
            "top": null,
            "grid_column": null,
            "overflow_y": null,
            "overflow_x": null,
            "grid_auto_flow": null,
            "grid_area": null,
            "grid_template_columns": null,
            "flex": null,
            "_model_name": "LayoutModel",
            "justify_items": null,
            "grid_row": null,
            "max_height": null,
            "align_content": null,
            "visibility": null,
            "align_self": null,
            "height": null,
            "min_height": null,
            "padding": null,
            "grid_auto_rows": null,
            "grid_gap": null,
            "max_width": null,
            "order": null,
            "_view_module_version": "1.2.0",
            "grid_template_areas": null,
            "object_position": null,
            "object_fit": null,
            "grid_auto_columns": null,
            "margin": null,
            "display": null,
            "left": null
          }
        },
        "5cb9302db5b947d0aa2ff7e260512621": {
          "model_module": "@jupyter-widgets/controls",
          "model_name": "HBoxModel",
          "model_module_version": "1.5.0",
          "state": {
            "_view_name": "HBoxView",
            "_dom_classes": [],
            "_model_name": "HBoxModel",
            "_view_module": "@jupyter-widgets/controls",
            "_model_module_version": "1.5.0",
            "_view_count": null,
            "_view_module_version": "1.5.0",
            "box_style": "",
            "layout": "IPY_MODEL_4a8a548853c44465b08948b32740329d",
            "_model_module": "@jupyter-widgets/controls",
            "children": [
              "IPY_MODEL_646435516f634cb4ad24165b3aa6cfb8",
              "IPY_MODEL_b6db1224b7a84bc3ad70d95ae8c5fc32",
              "IPY_MODEL_44aebb1abefb473096cea36dd6b57a9f"
            ]
          }
        },
        "4a8a548853c44465b08948b32740329d": {
          "model_module": "@jupyter-widgets/base",
          "model_name": "LayoutModel",
          "model_module_version": "1.2.0",
          "state": {
            "_view_name": "LayoutView",
            "grid_template_rows": null,
            "right": null,
            "justify_content": null,
            "_view_module": "@jupyter-widgets/base",
            "overflow": null,
            "_model_module_version": "1.2.0",
            "_view_count": null,
            "flex_flow": null,
            "width": null,
            "min_width": null,
            "border": null,
            "align_items": null,
            "bottom": null,
            "_model_module": "@jupyter-widgets/base",
            "top": null,
            "grid_column": null,
            "overflow_y": null,
            "overflow_x": null,
            "grid_auto_flow": null,
            "grid_area": null,
            "grid_template_columns": null,
            "flex": null,
            "_model_name": "LayoutModel",
            "justify_items": null,
            "grid_row": null,
            "max_height": null,
            "align_content": null,
            "visibility": null,
            "align_self": null,
            "height": null,
            "min_height": null,
            "padding": null,
            "grid_auto_rows": null,
            "grid_gap": null,
            "max_width": null,
            "order": null,
            "_view_module_version": "1.2.0",
            "grid_template_areas": null,
            "object_position": null,
            "object_fit": null,
            "grid_auto_columns": null,
            "margin": null,
            "display": null,
            "left": null
          }
        },
        "646435516f634cb4ad24165b3aa6cfb8": {
          "model_module": "@jupyter-widgets/controls",
          "model_name": "HTMLModel",
          "model_module_version": "1.5.0",
          "state": {
            "_view_name": "HTMLView",
            "style": "IPY_MODEL_565d1ec4d1c94b34b08baf3a8f43df2c",
            "_dom_classes": [],
            "description": "",
            "_model_name": "HTMLModel",
            "placeholder": "​",
            "_view_module": "@jupyter-widgets/controls",
            "_model_module_version": "1.5.0",
            "value": "Downloading: 100%",
            "_view_count": null,
            "_view_module_version": "1.5.0",
            "description_tooltip": null,
            "_model_module": "@jupyter-widgets/controls",
            "layout": "IPY_MODEL_acb994fb2be941918a1018cc6a3da804"
          }
        },
        "b6db1224b7a84bc3ad70d95ae8c5fc32": {
          "model_module": "@jupyter-widgets/controls",
          "model_name": "FloatProgressModel",
          "model_module_version": "1.5.0",
          "state": {
            "_view_name": "ProgressView",
            "style": "IPY_MODEL_f83ece216ff04e48aff979c80e280608",
            "_dom_classes": [],
            "description": "",
            "_model_name": "FloatProgressModel",
            "bar_style": "success",
            "max": 267967963,
            "_view_module": "@jupyter-widgets/controls",
            "_model_module_version": "1.5.0",
            "value": 267967963,
            "_view_count": null,
            "_view_module_version": "1.5.0",
            "orientation": "horizontal",
            "min": 0,
            "description_tooltip": null,
            "_model_module": "@jupyter-widgets/controls",
            "layout": "IPY_MODEL_8e29467a4aa3415ba1ad712f587664ac"
          }
        },
        "44aebb1abefb473096cea36dd6b57a9f": {
          "model_module": "@jupyter-widgets/controls",
          "model_name": "HTMLModel",
          "model_module_version": "1.5.0",
          "state": {
            "_view_name": "HTMLView",
            "style": "IPY_MODEL_d84aed30933e4f50a870a7f04b401837",
            "_dom_classes": [],
            "description": "",
            "_model_name": "HTMLModel",
            "placeholder": "​",
            "_view_module": "@jupyter-widgets/controls",
            "_model_module_version": "1.5.0",
            "value": " 256M/256M [00:11&lt;00:00, 32.3MB/s]",
            "_view_count": null,
            "_view_module_version": "1.5.0",
            "description_tooltip": null,
            "_model_module": "@jupyter-widgets/controls",
            "layout": "IPY_MODEL_62c7d628b43f47079c15f765b342d152"
          }
        },
        "565d1ec4d1c94b34b08baf3a8f43df2c": {
          "model_module": "@jupyter-widgets/controls",
          "model_name": "DescriptionStyleModel",
          "model_module_version": "1.5.0",
          "state": {
            "_view_name": "StyleView",
            "_model_name": "DescriptionStyleModel",
            "description_width": "",
            "_view_module": "@jupyter-widgets/base",
            "_model_module_version": "1.5.0",
            "_view_count": null,
            "_view_module_version": "1.2.0",
            "_model_module": "@jupyter-widgets/controls"
          }
        },
        "acb994fb2be941918a1018cc6a3da804": {
          "model_module": "@jupyter-widgets/base",
          "model_name": "LayoutModel",
          "model_module_version": "1.2.0",
          "state": {
            "_view_name": "LayoutView",
            "grid_template_rows": null,
            "right": null,
            "justify_content": null,
            "_view_module": "@jupyter-widgets/base",
            "overflow": null,
            "_model_module_version": "1.2.0",
            "_view_count": null,
            "flex_flow": null,
            "width": null,
            "min_width": null,
            "border": null,
            "align_items": null,
            "bottom": null,
            "_model_module": "@jupyter-widgets/base",
            "top": null,
            "grid_column": null,
            "overflow_y": null,
            "overflow_x": null,
            "grid_auto_flow": null,
            "grid_area": null,
            "grid_template_columns": null,
            "flex": null,
            "_model_name": "LayoutModel",
            "justify_items": null,
            "grid_row": null,
            "max_height": null,
            "align_content": null,
            "visibility": null,
            "align_self": null,
            "height": null,
            "min_height": null,
            "padding": null,
            "grid_auto_rows": null,
            "grid_gap": null,
            "max_width": null,
            "order": null,
            "_view_module_version": "1.2.0",
            "grid_template_areas": null,
            "object_position": null,
            "object_fit": null,
            "grid_auto_columns": null,
            "margin": null,
            "display": null,
            "left": null
          }
        },
        "f83ece216ff04e48aff979c80e280608": {
          "model_module": "@jupyter-widgets/controls",
          "model_name": "ProgressStyleModel",
          "model_module_version": "1.5.0",
          "state": {
            "_view_name": "StyleView",
            "_model_name": "ProgressStyleModel",
            "description_width": "",
            "_view_module": "@jupyter-widgets/base",
            "_model_module_version": "1.5.0",
            "_view_count": null,
            "_view_module_version": "1.2.0",
            "bar_color": null,
            "_model_module": "@jupyter-widgets/controls"
          }
        },
        "8e29467a4aa3415ba1ad712f587664ac": {
          "model_module": "@jupyter-widgets/base",
          "model_name": "LayoutModel",
          "model_module_version": "1.2.0",
          "state": {
            "_view_name": "LayoutView",
            "grid_template_rows": null,
            "right": null,
            "justify_content": null,
            "_view_module": "@jupyter-widgets/base",
            "overflow": null,
            "_model_module_version": "1.2.0",
            "_view_count": null,
            "flex_flow": null,
            "width": null,
            "min_width": null,
            "border": null,
            "align_items": null,
            "bottom": null,
            "_model_module": "@jupyter-widgets/base",
            "top": null,
            "grid_column": null,
            "overflow_y": null,
            "overflow_x": null,
            "grid_auto_flow": null,
            "grid_area": null,
            "grid_template_columns": null,
            "flex": null,
            "_model_name": "LayoutModel",
            "justify_items": null,
            "grid_row": null,
            "max_height": null,
            "align_content": null,
            "visibility": null,
            "align_self": null,
            "height": null,
            "min_height": null,
            "padding": null,
            "grid_auto_rows": null,
            "grid_gap": null,
            "max_width": null,
            "order": null,
            "_view_module_version": "1.2.0",
            "grid_template_areas": null,
            "object_position": null,
            "object_fit": null,
            "grid_auto_columns": null,
            "margin": null,
            "display": null,
            "left": null
          }
        },
        "d84aed30933e4f50a870a7f04b401837": {
          "model_module": "@jupyter-widgets/controls",
          "model_name": "DescriptionStyleModel",
          "model_module_version": "1.5.0",
          "state": {
            "_view_name": "StyleView",
            "_model_name": "DescriptionStyleModel",
            "description_width": "",
            "_view_module": "@jupyter-widgets/base",
            "_model_module_version": "1.5.0",
            "_view_count": null,
            "_view_module_version": "1.2.0",
            "_model_module": "@jupyter-widgets/controls"
          }
        },
        "62c7d628b43f47079c15f765b342d152": {
          "model_module": "@jupyter-widgets/base",
          "model_name": "LayoutModel",
          "model_module_version": "1.2.0",
          "state": {
            "_view_name": "LayoutView",
            "grid_template_rows": null,
            "right": null,
            "justify_content": null,
            "_view_module": "@jupyter-widgets/base",
            "overflow": null,
            "_model_module_version": "1.2.0",
            "_view_count": null,
            "flex_flow": null,
            "width": null,
            "min_width": null,
            "border": null,
            "align_items": null,
            "bottom": null,
            "_model_module": "@jupyter-widgets/base",
            "top": null,
            "grid_column": null,
            "overflow_y": null,
            "overflow_x": null,
            "grid_auto_flow": null,
            "grid_area": null,
            "grid_template_columns": null,
            "flex": null,
            "_model_name": "LayoutModel",
            "justify_items": null,
            "grid_row": null,
            "max_height": null,
            "align_content": null,
            "visibility": null,
            "align_self": null,
            "height": null,
            "min_height": null,
            "padding": null,
            "grid_auto_rows": null,
            "grid_gap": null,
            "max_width": null,
            "order": null,
            "_view_module_version": "1.2.0",
            "grid_template_areas": null,
            "object_position": null,
            "object_fit": null,
            "grid_auto_columns": null,
            "margin": null,
            "display": null,
            "left": null
          }
        }
      }
    }
  },
  "nbformat": 4,
  "nbformat_minor": 0
}